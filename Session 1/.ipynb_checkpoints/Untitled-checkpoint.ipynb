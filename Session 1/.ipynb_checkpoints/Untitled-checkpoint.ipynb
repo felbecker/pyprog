{
 "cells": [
  {
   "cell_type": "markdown",
   "metadata": {},
   "source": [
    "# Introduction to Python for People with Programming Experience\n",
    "\n",
    "\n",
    "## Session 1 / 2 - 25.08.2021 9:00 - 12:30\n",
    "<br>\n",
    "<font size=\"3\">\n",
    "    <i>by Fabian Wilde, Katharina Hoff, Matthis Ebel & Mario Stanke<br></i><br>\n",
    "<b>Contact:</b> fabian.wilde@uni-greifswald.de\n",
    "<br>\n",
    "</font>\n",
    "<br>\n",
    "<font size=\"3\">\n",
    "Python became one of the most popular and versatile programming languages in various scientific disciplines for data analysis and visualization. It is also one of the most demanded programming languages outside academia in particular for machine learning applications and business data analytics. Therefore it will be an invaluable skill once you've mastered this and other more advances courses in Python.<br>\n",
    "\n",
    "**Python is not translated to machine language before execution.** <br>\n",
    "In contrast to other popular programming languages like e.g. C++ or Java, the code is not precompiled which means the code is not translated from a human-readable version of the program to a so-called executable binary file (containing the binary machine language (assembler) version of the program) before it is executed. <br>\n",
    "\n",
    "**Python is an interpreted language.** <br>\n",
    "In simple words, the program is translated on-the-fly line by line while it is executed. Interpreted languages have a slight performance drawback, but this is negligible in most applications. In particular Python had a bad reputation regarding its execution speed in its infancy. But nowadays, its speed is even comparable to C(++) which is achieved by integrated precompiled libraries like numpy.<br>\n",
    "\n",
    "**Python is platform-independent.** <br>\n",
    "Python is available for various platform like Windows, Linux, but also Mac OS X and Android, even within a web browser as you can see here. As mentioned above, some libraries could be precompiled for a specific target platform. Therefore, it depends in the end on the 3rd party dependencies of your code whether it'll run flawlessly under all operating systems.<br>\n",
    "\n",
    "**Python is comparabily easy to learn if you already know e.g C(++) or Java.**<br>\n",
    "In contrast to other programming languages, Python offers dynamic typing and a built-in memory management, hence C-like pointers don't exist in Python.\n",
    "    \n",
    "**In this course Python 3 is used.** <br>\n",
    "</font>"
   ]
  },
  {
   "cell_type": "markdown",
   "metadata": {},
   "source": [
    "## Basic Syntax and Variable Typing\n",
    "\n",
    "### add meme with ; and Python here"
   ]
  }
 ],
 "metadata": {
  "kernelspec": {
   "display_name": "Python 3",
   "language": "python",
   "name": "python3"
  },
  "language_info": {
   "codemirror_mode": {
    "name": "ipython",
    "version": 3
   },
   "file_extension": ".py",
   "mimetype": "text/x-python",
   "name": "python",
   "nbconvert_exporter": "python",
   "pygments_lexer": "ipython3",
   "version": "3.8.3"
  },
  "varInspector": {
   "cols": {
    "lenName": 16,
    "lenType": 16,
    "lenVar": 40
   },
   "kernels_config": {
    "python": {
     "delete_cmd_postfix": "",
     "delete_cmd_prefix": "del ",
     "library": "var_list.py",
     "varRefreshCmd": "print(var_dic_list())"
    },
    "r": {
     "delete_cmd_postfix": ") ",
     "delete_cmd_prefix": "rm(",
     "library": "var_list.r",
     "varRefreshCmd": "cat(var_dic_list()) "
    }
   },
   "types_to_exclude": [
    "module",
    "function",
    "builtin_function_or_method",
    "instance",
    "_Feature"
   ],
   "window_display": false
  }
 },
 "nbformat": 4,
 "nbformat_minor": 4
}
