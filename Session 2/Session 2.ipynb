{
 "cells": [
  {
   "cell_type": "markdown",
   "metadata": {},
   "source": [
    "# Introduction to Python for People with Programming Experience\n",
    "\n",
    "\n",
    "## Session 2 / 4 - 27.09.2022 9:00 - 13:00\n",
    "\n",
    "*by Fabian Wilde, Katharina Hoff, Matthis Ebel, Mario Stanke & Felix Becker*\n",
    "\n",
    "Contact: felix.becker@uni-greifswald.de"
   ]
  },
  {
   "cell_type": "markdown",
   "metadata": {},
   "source": [
    "<br><br><br>\n",
    "## List Comprehensions and Generators\n",
    "<br>\n",
    "For-loops in Python very often do not contain complicated code blocks. In fact, the most frequent use case is just to apply a certain function or formula to every element e.g. in a list and store the result somewhere.<br><br>\n",
    "A very elegant (and also faster way) to avoid for-loops in Python in those cases is to use so-called <a href=\"https://docs.python.org/3/tutorial/datastructures.html#list-comprehensions\"><i><b>list comprehensions</b></i></a>.<br><br>\n",
    "<b>A list comprehension in Python is defined by</b><br><br>\n",
    "\n",
    "<font face=\"Courier\"><b>a = [ <i>output_expression</i> for elem in x]</b></font>\n",
    "\n",
    "Note that you could achieve the same result e.g. with `append` and a `for loop`. However, you will notice that your code is written faster and more readable and will likely use list comprehension on a daily basis in your future Python career once you get familiar."
   ]
  },
  {
   "cell_type": "markdown",
   "metadata": {},
   "source": [
    "**We can also generate elements conditionally:**\n",
    "\n",
    "<font face=\"Courier\"><b>a = [ <i>out_expr</i> if <i>condition</i> else <i>alt_out_expr</i> for elem in x]</b><br>\n",
    "</font>\n",
    "<br>\n",
    "    where <i>out_expr</i> and <i>alt_out_expr</i> are expressions (which should include elem) to be evaluated. This could be anything from <font face=\"Courier\">1+1</font> to any function call (with the element as argument). <i>condition</i> is then a Python expression returning a boolean (True/False value) as for \"normal\" if-elif-else statements in Python.\n",
    "</font>\n",
    "\n",
    "### Example 1:"
   ]
  },
  {
   "cell_type": "code",
   "execution_count": 4,
   "metadata": {
    "scrolled": true
   },
   "outputs": [
    {
     "name": "stdout",
     "output_type": "stream",
     "text": [
      "x = [0, 1, 2, 3, 4, 5, 6, 7, 8, 9]\n"
     ]
    }
   ],
   "source": [
    "# Generate a list of ascending numbers\n",
    "x = list(range(10))      # define elements to work on\n",
    "print(\"x =\", x)"
   ]
  },
  {
   "cell_type": "markdown",
   "metadata": {},
   "source": [
    "The range function yields a generator (an iterable) where the new/next value is generated on-the-fly \n",
    "on each iteration. In order to get a full list of the numbers, enclose it with the list constructor,\n",
    "forcing the range generator to be executed.\n",
    "\n",
    "(If you do not understand this, that's okay for the moment.)"
   ]
  },
  {
   "cell_type": "code",
   "execution_count": 9,
   "metadata": {
    "scrolled": true
   },
   "outputs": [],
   "source": [
    "# define a lambda expression that squares a number\n",
    "sqr = lambda x: x**2"
   ]
  },
  {
   "cell_type": "markdown",
   "metadata": {},
   "source": [
    "Assume you want to apply `sqr` to all elements in `x`. You already learned how to do this with a for loop:"
   ]
  },
  {
   "cell_type": "code",
   "execution_count": 10,
   "metadata": {
    "scrolled": true
   },
   "outputs": [
    {
     "name": "stdout",
     "output_type": "stream",
     "text": [
      "y = [0.2024957801586122, 0.39109905891033525, 0.041555512503723906, 0.05617997656574931, 0.14954094453599365, 0.09800565176443038, 0.12652079204606917, 0.8622930232125879, 0.12656858832604034, 0.23831131504226444]\n"
     ]
    }
   ],
   "source": [
    "# create empty list to store the result\n",
    "y = []\n",
    "for elem in x:\n",
    "    # evaluates function sqr with elem as argument and adds the result to the list y\n",
    "    y.append(sqr(elem))\n",
    "print(\"y =\", str(y))"
   ]
  },
  {
   "cell_type": "markdown",
   "metadata": {},
   "source": [
    "A better way to express this using a list comprehension is:"
   ]
  },
  {
   "cell_type": "code",
   "execution_count": 17,
   "metadata": {
    "scrolled": true
   },
   "outputs": [
    {
     "name": "stdout",
     "output_type": "stream",
     "text": [
      "y = [0.043805256274696815, 0.3461202946187151, 0.5582755941960021, 0.08949348429237301, 0.8638371075074366, 0.09622635175456845, 0.5476366479674368, 0.5894166865239231, 0.02291489001295652, 0.3824019146695927]\n"
     ]
    }
   ],
   "source": [
    "y = [parabola(elem) for elem in x]\n",
    "print(\"y =\", str(y))"
   ]
  },
  {
   "cell_type": "markdown",
   "metadata": {},
   "source": [
    "### Example 2"
   ]
  },
  {
   "cell_type": "code",
   "execution_count": 18,
   "metadata": {},
   "outputs": [
    {
     "name": "stdout",
     "output_type": "stream",
     "text": [
      "rounded y= ['0.044', '0.346', '0.558', '0.089', '0.864', '0.096', '0.548', '0.589', '0.023', '0.382']\n"
     ]
    }
   ],
   "source": [
    "#when printed, the list y is not very readable\n",
    "#one could use a list comprehension to generate a list of strings with less digits right of the comma\n",
    "\n",
    "def print_nice(y):\n",
    "    return [\"%.3f\" % elem for elem in y]\n",
    "\n",
    "print(\"rounded y=\", print_nice(y))"
   ]
  },
  {
   "cell_type": "markdown",
   "metadata": {},
   "source": [
    "Here the expression `\"%.3f\" % elem` converts the float `elem` to a string after rounding to 3 digits after the comma."
   ]
  },
  {
   "cell_type": "markdown",
   "metadata": {},
   "source": [
    "### Example 3"
   ]
  },
  {
   "cell_type": "code",
   "execution_count": 19,
   "metadata": {
    "scrolled": true
   },
   "outputs": [
    {
     "name": "stdout",
     "output_type": "stream",
     "text": [
      "x = ['0.940', '0.051', '0.808', '0.352', '0.908', '0.559', '0.638', '0.734', '0.556', '0.199']\n",
      "y = [1, 0, 1, 0, 1, 1, 1, 1, 1, 0]\n"
     ]
    }
   ],
   "source": [
    "# Example 2: conditionally generate a list of values\n",
    "\n",
    "# import numpy module to use numpy functions\n",
    "# it is sufficent to import it once in any cell, typically at the start of a notebook\n",
    "import numpy as np\n",
    "\n",
    "# create list with 10 random values in [0, 1)\n",
    "x = np.random.uniform(0,1,(10,))\n",
    "y = [1 if elem >= 0.5 else 0 for elem in x]\n",
    "print(\"x =\", print_nice(x)) \n",
    "print(\"y =\", y)"
   ]
  },
  {
   "cell_type": "markdown",
   "metadata": {},
   "source": [
    "\n",
    "\n",
    "<div class=\"alert alert-block alert-success\"><b>Exercise:</b> Try it yourself: In the following cell, generate a list \n",
    "    <ol type=\"1\">\n",
    "        <li>containing the lengths of all elements in `strings` without using a loop.</li>\n",
    "        <li>containing the first letters of each string.</li>\n",
    "        <li>containing a tuple for each string that contains the index of the string in the list (e.g. 1 for \"Adam\") and the last letter of the string.</li>\n",
    "        <li>of lists such that two consecutive elements of `strings` are packed into their own sublist (i.e. [[\"Jenny\", \"Adam\"], [\"tea\", \"apple\"], ...]\n",
    "        <li>containing only the strings that start with \"A\" or \"a\".\n",
    "    </ol>\n",
    "</div>\n",
    "\n",
    "Tip: For task 3. you could use Python's `zip` (https://docs.python.org/3/library/functions.html#zip) function. Also check out `enumerate` (https://docs.python.org/3/library/functions.html#enumerate)."
   ]
  },
  {
   "cell_type": "code",
   "execution_count": 14,
   "metadata": {},
   "outputs": [],
   "source": [
    "strings = [\"Jenny\", \"Adam\", \"tea\", \"apple\", \"keyboard\", \"computer\"]\n",
    "\n",
    "#YOUR CODE HERE"
   ]
  },
  {
   "cell_type": "markdown",
   "metadata": {},
   "source": [
    "<font size=\"3\">\n",
    "<b>We can also define our own generators using round brackets instead of square brackets for a list comprehension:</b>\n",
    "</font>"
   ]
  },
  {
   "cell_type": "code",
   "execution_count": 30,
   "metadata": {
    "scrolled": true
   },
   "outputs": [
    {
     "name": "stdout",
     "output_type": "stream",
     "text": [
      "x = ['0.795', '0.969', '0.485', '0.623', '0.695', '0.218', '0.593', '0.812', '0.888', '0.375']\n",
      "<generator object <genexpr> at 0x7fd22de0eba0>\n"
     ]
    }
   ],
   "source": [
    "# create list with 10 random values in [0, 1)\n",
    "x = np.random.uniform(0,1,(10,))\n",
    "print(\"x =\", print_nice(x)) \n",
    "\n",
    "#define a generator \n",
    "y = (1 if elem >= 0.5 else 0 for elem in x)\n",
    "print(y)"
   ]
  },
  {
   "cell_type": "markdown",
   "metadata": {},
   "source": [
    "<font size=\"3\">\n",
    "In fact, y now does not contain a list with values, but yields a generator object. We still get the same result as before for the list comprehension, if the generator object is used as argument for the constructor of a list (object):\n",
    "</font>"
   ]
  },
  {
   "cell_type": "code",
   "execution_count": 31,
   "metadata": {},
   "outputs": [
    {
     "data": {
      "text/plain": [
       "[1, 1, 0, 1, 1, 0, 1, 1, 1, 0]"
      ]
     },
     "execution_count": 31,
     "metadata": {},
     "output_type": "execute_result"
    }
   ],
   "source": [
    "list(y)"
   ]
  },
  {
   "cell_type": "code",
   "execution_count": 32,
   "metadata": {},
   "outputs": [
    {
     "name": "stdout",
     "output_type": "stream",
     "text": [
      "1\n",
      "1\n",
      "0\n",
      "1\n",
      "1\n",
      "0\n",
      "1\n",
      "1\n",
      "1\n",
      "0\n"
     ]
    }
   ],
   "source": [
    "# or use the generator (like range) in a for loop\n",
    "y = (1 if elem >= 0.5 else 0 for elem in x)\n",
    "for elem in y:\n",
    "    print(elem)"
   ]
  },
  {
   "cell_type": "markdown",
   "metadata": {},
   "source": [
    "<font size=\"3\">\n",
    "The generator object lazily generates a new value at each iteration and not in advance:\n",
    "</font>"
   ]
  },
  {
   "cell_type": "code",
   "execution_count": 33,
   "metadata": {},
   "outputs": [],
   "source": [
    "#redefining the generator\n",
    "y = (1 if elem >= 0.5 else 0 for elem in x)\n",
    "iter_count = 0"
   ]
  },
  {
   "cell_type": "code",
   "execution_count": 35,
   "metadata": {},
   "outputs": [
    {
     "name": "stdout",
     "output_type": "stream",
     "text": [
      "iter:1\n",
      "1\n"
     ]
    }
   ],
   "source": [
    "# the elements of the list y are generated on-the-fly\n",
    "# the generator yields the next element by invoking the (private / hidden) method\n",
    "# of the generator object\n",
    "\n",
    "# evaluate same cell with CTRL + ENTER\n",
    "# counter increments, the generator yields a new value at each iteration\n",
    "print(\"iter:\"+str(iter_count))\n",
    "print(y.__next__())\n",
    "iter_count += 1"
   ]
  },
  {
   "cell_type": "markdown",
   "metadata": {},
   "source": [
    "<div class=\"alert alert-block alert-success\"><b>Exercise:</b> Define a function that generates a list of random integers and decide for each of the numbers if the number is even or odd. As output for each number, we want a string \"even\" or \"odd\". <b>Solve the problem with a for-loop and a list comprehension seperately and compare the required time.</b><br><br>\n",
    "    <b>Hint:</b> Use the function <a href=\"https://docs.scipy.org/doc/numpy-1.15.1/reference/generated/numpy.random.randint.html\"><b>np.random.randint</b></a> to generate random integers. Prior using that function, import numpy with <i>import numpy as np</i>. Use the module <a href=\"https://docs.python.org/3/library/timeit.html\">timeit</a> and wrap it around your function to benchmark it. You can also use the function time from the module <a href=\"https://docs.python.org/3/library/time.html\">time</a> to get the actual timestamp before and after the execution of the function.\n",
    "   \n",
    "</div>\n",
    "\n",
    "\n",
    "### Try it yourself:"
   ]
  },
  {
   "cell_type": "code",
   "execution_count": null,
   "metadata": {},
   "outputs": [],
   "source": []
  },
  {
   "cell_type": "markdown",
   "metadata": {},
   "source": [
    "### Example Solution:"
   ]
  },
  {
   "cell_type": "code",
   "execution_count": 13,
   "metadata": {},
   "outputs": [
    {
     "name": "stdout",
     "output_type": "stream",
     "text": [
      "randints =[-38]\n",
      "result =['even']\n",
      "randints =[64]\n",
      "result =['even']\n",
      "python_for_fun finished after:\n",
      "0.0346557660959661\n",
      "list_compr_fun finished after:\n",
      "0.030326098669320345\n"
     ]
    }
   ],
   "source": [
    "from typing import List\n",
    "import numpy as np\n",
    "import timeit\n",
    "\n",
    "# function definiton using type hinting\n",
    "def list_compr_fun(lower_int : int, upper_int : int, num : int) -> (List, List):\n",
    "    randints = np.random.randint(lower_int,upper_int,(num,),)\n",
    "    return randints, [\"even\" if (elem % 2 == 0) else \"odd\" for elem in randints]\n",
    "\n",
    "# function definiton using type hinting\n",
    "def python_for_fun(lower_int : int, upper_int : int, num : int) -> (List, List):\n",
    "    randints = np.random.randint(lower_int,upper_int,(num,),)\n",
    "    result = []\n",
    "    for rand_int in randints:\n",
    "        if (rand_int % 2 == 0):\n",
    "            result.append(\"even\")\n",
    "        else:\n",
    "            result.append(\"odd\")\n",
    "    return randints, result\n",
    "\n",
    "randints, result = python_for_fun(-100,100,1)\n",
    "print(\"randints =\"+str(randints))\n",
    "print(\"result =\"+str(result))\n",
    "randints, result = list_compr_fun(-100,100,1)\n",
    "print(\"randints =\"+str(randints))\n",
    "print(\"result =\"+str(result))\n",
    "\n",
    "#compare the speed of the Python for-loop with the list comprehension\n",
    "print(\"python_for_fun finished after:\")\n",
    "print(timeit.timeit('python_for_fun(-100,100,int(1E5))', number=1, globals=globals()))\n",
    "print(\"list_compr_fun finished after:\")\n",
    "print(timeit.timeit('list_compr_fun(-100,100,int(1E5))', number=1, globals=globals()))"
   ]
  },
  {
   "cell_type": "markdown",
   "metadata": {},
   "source": [
    "<br><br><br>\n",
    "## Non-interactive Python: \n",
    "## Running your code from the command-line\n",
    "\n",
    "So far, you have used Python interactively in this Jupyter notebook, but often, you'd like to run a long task in the background and you don't need to see intermediate results. You can run Python scripts from the command-line to achieve this behaviour. \n",
    "    \n",
    "**Here, we assume that you're using Linux.** But it works in a similar manner if you're using Windows. If you'd like to run your Python script on the command-line (which is Bash under Linux in the default case), you need to save your script first and then run it with\n",
    "\n",
    "`python your_script.py` or `python3 your_script.py`\n",
    "\n",
    "\n",
    "In case you have both, Python 2.x and Python 3.x installed on your system, make sure, you're running the right interpreter using\n",
    "\n",
    "`which python` or `python --version` \n",
    "\n",
    "Of course, you can also directly run your Python script on the command-line treating is it as a Bash script (a script file for the command-line), but putting th \"shebang line\" \n",
    "\n",
    "`#!/usr/bin/python3`\n",
    "\n",
    "as first line in your Python script to tell Bash which interpreter to use for the file.\n",
    "\n",
    "Then, you need to make your newly created file **executable** by adding the flag **executable** e.g. with the command\n",
    "\n",
    "`chmod u+x your_script.py`\n",
    "\n",
    "You can check the file permission flags in the listing of your directory using\n",
    "\n",
    "`ls -la scripts`\n",
    "\n",
    "Then you should be able to simply run your Python script as if it would be a Bash script using\n",
    "\n",
    "`./your_script.py`        \n",
    "\n",
    "In the following examples, a special \"cell magic\" command is used, so that bash scripts and commands can be run within a Jupyter notebook cell.\n",
    "\n",
    "### Examples:"
   ]
  },
  {
   "cell_type": "code",
   "execution_count": 6,
   "metadata": {},
   "outputs": [
    {
     "name": "stdout",
     "output_type": "stream",
     "text": [
      "/opt/conda/bin/python3\n",
      "Hello World from the console!\n"
     ]
    }
   ],
   "source": [
    "%%bash\n",
    "which python3\n",
    "python3 scripts/hello_world.py"
   ]
  },
  {
   "cell_type": "markdown",
   "metadata": {},
   "source": [
    "Or directly run your python script as it would be a bash script or native executable, after you have set the executable file flag:"
   ]
  },
  {
   "cell_type": "code",
   "execution_count": 7,
   "metadata": {},
   "outputs": [
    {
     "name": "stdout",
     "output_type": "stream",
     "text": [
      "total 24\n",
      "drwxr-xr-x 2 jovyan root 4096 Aug 17 07:57 .\n",
      "drwxrwxr-x 6 jovyan root 4096 Aug 23 13:09 ..\n",
      "-rwxr--r-- 1 jovyan root  873 Aug 17 07:57 argparse_example.py\n",
      "-rwxr--r-- 1 jovyan root  101 Aug 17 07:57 cli_args.py\n",
      "-rwxr--r-- 1 jovyan root   58 Aug 17 07:57 hello_world2.py\n",
      "-rw-r--r-- 1 jovyan root   39 Aug 17 07:57 hello_world.py\n",
      "Hello World from the console!\n"
     ]
    }
   ],
   "source": [
    "%%bash\n",
    "ls -la scripts/\n",
    "chmod u+x scripts/hello_world2.py\n",
    "./scripts/hello_world2.py"
   ]
  },
  {
   "cell_type": "markdown",
   "metadata": {},
   "source": [
    "We check what <i>hello_world2.py</i> contained by printing its file content with the command <i>cat</i>:"
   ]
  },
  {
   "cell_type": "code",
   "execution_count": 8,
   "metadata": {},
   "outputs": [
    {
     "name": "stdout",
     "output_type": "stream",
     "text": [
      "#!/usr/bin/python3\n",
      "print(\"Hello World from the console!\")\n"
     ]
    }
   ],
   "source": [
    "%%bash\n",
    "cat scripts/hello_world2.py"
   ]
  },
  {
   "cell_type": "markdown",
   "metadata": {},
   "source": [
    "## Handling of command-line arguments \n",
    "<br>\n",
    "<font size=\"3\">\n",
    "Very often, it's the case that you'd like to run your Python script, but with slightly different parameters or paths with files to work on. It would be annoying to make the required changes every time in your Python code.<br><br>\n",
    "Luckily, you can easily handle given command-line arguments in Python and work with them in your script. <b>The most basic option is to use the builtin library <i>sys</i> and the provided list <i>argv</i>. If any command-line argument was given to run your Python script, it will appear in <i>argv</i>.%%bash\n",
    "cat scripts/cli_args.py\n",
    "</font>\n",
    "\n",
    "<font size=\"3\">Let's check first the content of the little example script:</font>"
   ]
  },
  {
   "cell_type": "code",
   "execution_count": 9,
   "metadata": {},
   "outputs": [
    {
     "name": "stdout",
     "output_type": "stream",
     "text": [
      "#!/usr/bin/python3\n",
      "\n",
      "import sys\n",
      "\n",
      "print(\"I got the following command-line arguments:\")\n",
      "print(sys.argv)\n"
     ]
    }
   ],
   "source": [
    "%%bash\n",
    "cat scripts/cli_args.py"
   ]
  },
  {
   "cell_type": "markdown",
   "metadata": {},
   "source": [
    "Then we run it giving various command-line arguments:"
   ]
  },
  {
   "cell_type": "code",
   "execution_count": 10,
   "metadata": {},
   "outputs": [
    {
     "name": "stdout",
     "output_type": "stream",
     "text": [
      "I got the following command-line arguments:\n",
      "['./scripts/cli_args.py']\n",
      "I got the following command-line arguments:\n",
      "['./scripts/cli_args.py', '--test1']\n",
      "I got the following command-line arguments:\n",
      "['./scripts/cli_args.py', '--test1', '--test2', '--test3']\n"
     ]
    }
   ],
   "source": [
    "%%bash \n",
    "\n",
    "# modifies file permission flags\n",
    "chmod u+x scripts/cli_args.py\n",
    "\n",
    "# run it without any command-line argument\n",
    "./scripts/cli_args.py\n",
    "\n",
    "# run it with one command-line argument\n",
    "./scripts/cli_args.py --test1\n",
    "\n",
    "# run it with multiple command-line arguments\n",
    "./scripts/cli_args.py --test1 --test2 --test3"
   ]
  },
  {
   "cell_type": "markdown",
   "metadata": {},
   "source": [
    "<font size=\"3\">\n",
    "    <b>A more convenient option to handle (define and check) command-line arguments is the module <a href=\"https://docs.python.org/3/library/argparse.html\"><i>argparse</i></a></b>.<br><br> With <i>argparse</i> you can easily define expected mandatory or optional command-line arguments for your scripts with built-in checking of the user input. You can even define nice description and help texts for your parameters to help others to use your scripts later independently.\n",
    "</font>"
   ]
  },
  {
   "cell_type": "code",
   "execution_count": 11,
   "metadata": {},
   "outputs": [
    {
     "name": "stdout",
     "output_type": "stream",
     "text": [
      "#!/usr/bin/python3\n",
      "\n",
      "# import the argparse module\n",
      "import argparse\n",
      "\n",
      "# creating the parser\n",
      "parser = argparse.ArgumentParser(description='Argparse example')\n",
      "\n",
      "# add a command-line argument\n",
      "parser.add_argument('integers', metavar='N', type=int, nargs='+',\n",
      "                   help='integers to sum up')\n",
      "\n",
      "# adds a command-line argument which triggers the summations of the previous integers\n",
      "parser.add_argument('--sum', dest='sum', action='store_const',\n",
      "                   const=sum, default=max,\n",
      "                   help='sums the integers')\n",
      "\n",
      "# invoke parsing (processing) of the arguments\n",
      "args = parser.parse_args()\n",
      "\n",
      "# the processed arguments are stored as attributes in the argparse object !\n",
      "# attributes of object are accessed using the dot-operator.\n",
      "print(\"Content of args.integers:\")\n",
      "print(args.integers)\n",
      "print(\"Result of argument processing:\")\n",
      "print(args.sum(args.integers))\n"
     ]
    }
   ],
   "source": [
    "%%bash\n",
    "\n",
    "# modifies file permission flags\n",
    "chmod u+x scripts/argparse_example.py\n",
    "\n",
    "# list file content\n",
    "cat scripts/argparse_example.py"
   ]
  },
  {
   "cell_type": "markdown",
   "metadata": {},
   "source": [
    "If we now attempt to run the script without command-line arguments, we get an error and argparse gives us a hint what we have done wrong:"
   ]
  },
  {
   "cell_type": "code",
   "execution_count": 12,
   "metadata": {},
   "outputs": [
    {
     "name": "stderr",
     "output_type": "stream",
     "text": [
      "usage: argparse_example.py [-h] [--sum] N [N ...]\n",
      "argparse_example.py: error: the following arguments are required: N\n"
     ]
    },
    {
     "ename": "CalledProcessError",
     "evalue": "Command 'b'./scripts/argparse_example.py\\n'' returned non-zero exit status 2.",
     "output_type": "error",
     "traceback": [
      "\u001b[0;31m---------------------------------------------------------------------------\u001b[0m",
      "\u001b[0;31mCalledProcessError\u001b[0m                        Traceback (most recent call last)",
      "\u001b[0;32m<ipython-input-12-78431bbb72eb>\u001b[0m in \u001b[0;36m<module>\u001b[0;34m\u001b[0m\n\u001b[0;32m----> 1\u001b[0;31m \u001b[0mget_ipython\u001b[0m\u001b[0;34m(\u001b[0m\u001b[0;34m)\u001b[0m\u001b[0;34m.\u001b[0m\u001b[0mrun_cell_magic\u001b[0m\u001b[0;34m(\u001b[0m\u001b[0;34m'bash'\u001b[0m\u001b[0;34m,\u001b[0m \u001b[0;34m''\u001b[0m\u001b[0;34m,\u001b[0m \u001b[0;34m'./scripts/argparse_example.py\\n'\u001b[0m\u001b[0;34m)\u001b[0m\u001b[0;34m\u001b[0m\u001b[0;34m\u001b[0m\u001b[0m\n\u001b[0m",
      "\u001b[0;32m/opt/conda/lib/python3.9/site-packages/IPython/core/interactiveshell.py\u001b[0m in \u001b[0;36mrun_cell_magic\u001b[0;34m(self, magic_name, line, cell)\u001b[0m\n\u001b[1;32m   2401\u001b[0m             \u001b[0;32mwith\u001b[0m \u001b[0mself\u001b[0m\u001b[0;34m.\u001b[0m\u001b[0mbuiltin_trap\u001b[0m\u001b[0;34m:\u001b[0m\u001b[0;34m\u001b[0m\u001b[0;34m\u001b[0m\u001b[0m\n\u001b[1;32m   2402\u001b[0m                 \u001b[0margs\u001b[0m \u001b[0;34m=\u001b[0m \u001b[0;34m(\u001b[0m\u001b[0mmagic_arg_s\u001b[0m\u001b[0;34m,\u001b[0m \u001b[0mcell\u001b[0m\u001b[0;34m)\u001b[0m\u001b[0;34m\u001b[0m\u001b[0;34m\u001b[0m\u001b[0m\n\u001b[0;32m-> 2403\u001b[0;31m                 \u001b[0mresult\u001b[0m \u001b[0;34m=\u001b[0m \u001b[0mfn\u001b[0m\u001b[0;34m(\u001b[0m\u001b[0;34m*\u001b[0m\u001b[0margs\u001b[0m\u001b[0;34m,\u001b[0m \u001b[0;34m**\u001b[0m\u001b[0mkwargs\u001b[0m\u001b[0;34m)\u001b[0m\u001b[0;34m\u001b[0m\u001b[0;34m\u001b[0m\u001b[0m\n\u001b[0m\u001b[1;32m   2404\u001b[0m             \u001b[0;32mreturn\u001b[0m \u001b[0mresult\u001b[0m\u001b[0;34m\u001b[0m\u001b[0;34m\u001b[0m\u001b[0m\n\u001b[1;32m   2405\u001b[0m \u001b[0;34m\u001b[0m\u001b[0m\n",
      "\u001b[0;32m/opt/conda/lib/python3.9/site-packages/IPython/core/magics/script.py\u001b[0m in \u001b[0;36mnamed_script_magic\u001b[0;34m(line, cell)\u001b[0m\n\u001b[1;32m    140\u001b[0m             \u001b[0;32melse\u001b[0m\u001b[0;34m:\u001b[0m\u001b[0;34m\u001b[0m\u001b[0;34m\u001b[0m\u001b[0m\n\u001b[1;32m    141\u001b[0m                 \u001b[0mline\u001b[0m \u001b[0;34m=\u001b[0m \u001b[0mscript\u001b[0m\u001b[0;34m\u001b[0m\u001b[0;34m\u001b[0m\u001b[0m\n\u001b[0;32m--> 142\u001b[0;31m             \u001b[0;32mreturn\u001b[0m \u001b[0mself\u001b[0m\u001b[0;34m.\u001b[0m\u001b[0mshebang\u001b[0m\u001b[0;34m(\u001b[0m\u001b[0mline\u001b[0m\u001b[0;34m,\u001b[0m \u001b[0mcell\u001b[0m\u001b[0;34m)\u001b[0m\u001b[0;34m\u001b[0m\u001b[0;34m\u001b[0m\u001b[0m\n\u001b[0m\u001b[1;32m    143\u001b[0m \u001b[0;34m\u001b[0m\u001b[0m\n\u001b[1;32m    144\u001b[0m         \u001b[0;31m# write a basic docstring:\u001b[0m\u001b[0;34m\u001b[0m\u001b[0;34m\u001b[0m\u001b[0;34m\u001b[0m\u001b[0m\n",
      "\u001b[0;32m/opt/conda/lib/python3.9/site-packages/decorator.py\u001b[0m in \u001b[0;36mfun\u001b[0;34m(*args, **kw)\u001b[0m\n\u001b[1;32m    230\u001b[0m             \u001b[0;32mif\u001b[0m \u001b[0;32mnot\u001b[0m \u001b[0mkwsyntax\u001b[0m\u001b[0;34m:\u001b[0m\u001b[0;34m\u001b[0m\u001b[0;34m\u001b[0m\u001b[0m\n\u001b[1;32m    231\u001b[0m                 \u001b[0margs\u001b[0m\u001b[0;34m,\u001b[0m \u001b[0mkw\u001b[0m \u001b[0;34m=\u001b[0m \u001b[0mfix\u001b[0m\u001b[0;34m(\u001b[0m\u001b[0margs\u001b[0m\u001b[0;34m,\u001b[0m \u001b[0mkw\u001b[0m\u001b[0;34m,\u001b[0m \u001b[0msig\u001b[0m\u001b[0;34m)\u001b[0m\u001b[0;34m\u001b[0m\u001b[0;34m\u001b[0m\u001b[0m\n\u001b[0;32m--> 232\u001b[0;31m             \u001b[0;32mreturn\u001b[0m \u001b[0mcaller\u001b[0m\u001b[0;34m(\u001b[0m\u001b[0mfunc\u001b[0m\u001b[0;34m,\u001b[0m \u001b[0;34m*\u001b[0m\u001b[0;34m(\u001b[0m\u001b[0mextras\u001b[0m \u001b[0;34m+\u001b[0m \u001b[0margs\u001b[0m\u001b[0;34m)\u001b[0m\u001b[0;34m,\u001b[0m \u001b[0;34m**\u001b[0m\u001b[0mkw\u001b[0m\u001b[0;34m)\u001b[0m\u001b[0;34m\u001b[0m\u001b[0;34m\u001b[0m\u001b[0m\n\u001b[0m\u001b[1;32m    233\u001b[0m     \u001b[0mfun\u001b[0m\u001b[0;34m.\u001b[0m\u001b[0m__name__\u001b[0m \u001b[0;34m=\u001b[0m \u001b[0mfunc\u001b[0m\u001b[0;34m.\u001b[0m\u001b[0m__name__\u001b[0m\u001b[0;34m\u001b[0m\u001b[0;34m\u001b[0m\u001b[0m\n\u001b[1;32m    234\u001b[0m     \u001b[0mfun\u001b[0m\u001b[0;34m.\u001b[0m\u001b[0m__doc__\u001b[0m \u001b[0;34m=\u001b[0m \u001b[0mfunc\u001b[0m\u001b[0;34m.\u001b[0m\u001b[0m__doc__\u001b[0m\u001b[0;34m\u001b[0m\u001b[0;34m\u001b[0m\u001b[0m\n",
      "\u001b[0;32m/opt/conda/lib/python3.9/site-packages/IPython/core/magic.py\u001b[0m in \u001b[0;36m<lambda>\u001b[0;34m(f, *a, **k)\u001b[0m\n\u001b[1;32m    185\u001b[0m     \u001b[0;31m# but it's overkill for just that one bit of state.\u001b[0m\u001b[0;34m\u001b[0m\u001b[0;34m\u001b[0m\u001b[0;34m\u001b[0m\u001b[0m\n\u001b[1;32m    186\u001b[0m     \u001b[0;32mdef\u001b[0m \u001b[0mmagic_deco\u001b[0m\u001b[0;34m(\u001b[0m\u001b[0marg\u001b[0m\u001b[0;34m)\u001b[0m\u001b[0;34m:\u001b[0m\u001b[0;34m\u001b[0m\u001b[0;34m\u001b[0m\u001b[0m\n\u001b[0;32m--> 187\u001b[0;31m         \u001b[0mcall\u001b[0m \u001b[0;34m=\u001b[0m \u001b[0;32mlambda\u001b[0m \u001b[0mf\u001b[0m\u001b[0;34m,\u001b[0m \u001b[0;34m*\u001b[0m\u001b[0ma\u001b[0m\u001b[0;34m,\u001b[0m \u001b[0;34m**\u001b[0m\u001b[0mk\u001b[0m\u001b[0;34m:\u001b[0m \u001b[0mf\u001b[0m\u001b[0;34m(\u001b[0m\u001b[0;34m*\u001b[0m\u001b[0ma\u001b[0m\u001b[0;34m,\u001b[0m \u001b[0;34m**\u001b[0m\u001b[0mk\u001b[0m\u001b[0;34m)\u001b[0m\u001b[0;34m\u001b[0m\u001b[0;34m\u001b[0m\u001b[0m\n\u001b[0m\u001b[1;32m    188\u001b[0m \u001b[0;34m\u001b[0m\u001b[0m\n\u001b[1;32m    189\u001b[0m         \u001b[0;32mif\u001b[0m \u001b[0mcallable\u001b[0m\u001b[0;34m(\u001b[0m\u001b[0marg\u001b[0m\u001b[0;34m)\u001b[0m\u001b[0;34m:\u001b[0m\u001b[0;34m\u001b[0m\u001b[0;34m\u001b[0m\u001b[0m\n",
      "\u001b[0;32m/opt/conda/lib/python3.9/site-packages/IPython/core/magics/script.py\u001b[0m in \u001b[0;36mshebang\u001b[0;34m(self, line, cell)\u001b[0m\n\u001b[1;32m    243\u001b[0m             \u001b[0msys\u001b[0m\u001b[0;34m.\u001b[0m\u001b[0mstderr\u001b[0m\u001b[0;34m.\u001b[0m\u001b[0mflush\u001b[0m\u001b[0;34m(\u001b[0m\u001b[0;34m)\u001b[0m\u001b[0;34m\u001b[0m\u001b[0;34m\u001b[0m\u001b[0m\n\u001b[1;32m    244\u001b[0m         \u001b[0;32mif\u001b[0m \u001b[0margs\u001b[0m\u001b[0;34m.\u001b[0m\u001b[0mraise_error\u001b[0m \u001b[0;32mand\u001b[0m \u001b[0mp\u001b[0m\u001b[0;34m.\u001b[0m\u001b[0mreturncode\u001b[0m\u001b[0;34m!=\u001b[0m\u001b[0;36m0\u001b[0m\u001b[0;34m:\u001b[0m\u001b[0;34m\u001b[0m\u001b[0;34m\u001b[0m\u001b[0m\n\u001b[0;32m--> 245\u001b[0;31m             \u001b[0;32mraise\u001b[0m \u001b[0mCalledProcessError\u001b[0m\u001b[0;34m(\u001b[0m\u001b[0mp\u001b[0m\u001b[0;34m.\u001b[0m\u001b[0mreturncode\u001b[0m\u001b[0;34m,\u001b[0m \u001b[0mcell\u001b[0m\u001b[0;34m,\u001b[0m \u001b[0moutput\u001b[0m\u001b[0;34m=\u001b[0m\u001b[0mout\u001b[0m\u001b[0;34m,\u001b[0m \u001b[0mstderr\u001b[0m\u001b[0;34m=\u001b[0m\u001b[0merr\u001b[0m\u001b[0;34m)\u001b[0m\u001b[0;34m\u001b[0m\u001b[0;34m\u001b[0m\u001b[0m\n\u001b[0m\u001b[1;32m    246\u001b[0m \u001b[0;34m\u001b[0m\u001b[0m\n\u001b[1;32m    247\u001b[0m     \u001b[0;32mdef\u001b[0m \u001b[0m_run_script\u001b[0m\u001b[0;34m(\u001b[0m\u001b[0mself\u001b[0m\u001b[0;34m,\u001b[0m \u001b[0mp\u001b[0m\u001b[0;34m,\u001b[0m \u001b[0mcell\u001b[0m\u001b[0;34m,\u001b[0m \u001b[0mto_close\u001b[0m\u001b[0;34m)\u001b[0m\u001b[0;34m:\u001b[0m\u001b[0;34m\u001b[0m\u001b[0;34m\u001b[0m\u001b[0m\n",
      "\u001b[0;31mCalledProcessError\u001b[0m: Command 'b'./scripts/argparse_example.py\\n'' returned non-zero exit status 2."
     ]
    }
   ],
   "source": [
    "%%bash\n",
    "./scripts/argparse_example.py"
   ]
  },
  {
   "cell_type": "markdown",
   "metadata": {},
   "source": [
    "Argparse provides a nice help function when the argument *-h%%bash\n",
    "./scripts/argparse_example.py -h* is used:"
   ]
  },
  {
   "cell_type": "code",
   "execution_count": 13,
   "metadata": {},
   "outputs": [
    {
     "name": "stdout",
     "output_type": "stream",
     "text": [
      "usage: argparse_example.py [-h] [--sum] N [N ...]\n",
      "\n",
      "Argparse example\n",
      "\n",
      "positional arguments:\n",
      "  N           integers to sum up\n",
      "\n",
      "optional arguments:\n",
      "  -h, --help  show this help message and exit\n",
      "  --sum       sums the integers\n"
     ]
    }
   ],
   "source": [
    "%%bash\n",
    "./scripts/argparse_example.py -h"
   ]
  },
  {
   "cell_type": "code",
   "execution_count": 14,
   "metadata": {},
   "outputs": [
    {
     "name": "stdout",
     "output_type": "stream",
     "text": [
      "Content of args.integers:\n",
      "[1, 2, 3]\n",
      "Result of argument processing:\n",
      "6\n"
     ]
    }
   ],
   "source": [
    "%%bash\n",
    "./scripts/argparse_example.py 1 2 3 --sum"
   ]
  },
  {
   "cell_type": "markdown",
   "metadata": {},
   "source": [
    "<font size=\"3\"><div class=\"alert alert-block alert-success\"><b>Exercise:</b> Write your own script evaluating command-line arguments and run it on the command-line yourself. Either simply use the builtin <i>os.argv</i> variable or use the <i>argparse</i> module if you feel already comfortable enough.<br><br>\n",
    "<b>Simply create a new Python script locally using a text editor or within the Spyder IDE (which is part of the Anaconda distribution) and upload it in the subfolder scripts (or elsewhere and modify then the file path).</b>\n",
    "</div>\n",
    "    \n",
    "<b>Try to run it yourself here:</b></font>"
   ]
  },
  {
   "cell_type": "code",
   "execution_count": null,
   "metadata": {},
   "outputs": [],
   "source": [
    "%%bash\n",
    "# replace \"your_script\" with your filename, may also change the file path\n",
    "chmod u+x scripts/your_script.py\n",
    "./scripts/your_script.py"
   ]
  },
  {
   "cell_type": "markdown",
   "metadata": {},
   "source": [
    "<br><br><br>\n",
    "## Importing Modules and Namespaces\n",
    "\n",
    "Structuring the code in functions which can be easily reused and maintained is the first step to achieve cleaner and leaner code. Nevertheless, in big Python projects, it would result in not really well readable code and collaborating on a common project would be difficult, if all the code would be in one single file. Nowadays Python projects are therefore organised in modules, allowing to distribute parts of the code over multiple files as well. We have already imported modules/packages several times to use standard or 3rd party functions in the examples. \n",
    "    \n",
    "The figure below shows an exemplaric project directory structure organized in modules and submodules:\n",
    "    \n",
    "<div align=\"center\">\n",
    "    <img src=\"img/absolute-import.jpg\" width=\"40%\">\n",
    "</div>\n",
    "\n",
    "<font size=\"2\"><i>Source: <a href=\"https://www.geeksforgeeks.org/absolute-and-relative-imports-in-python/\">https://www.geeksforgeeks.org/absolute-and-relative-imports-in-python/</a></i></font>\n",
    "<br><br>\n",
    "\n",
    "**In order to use an existing (3rd party) module in your new script or project, you need to import the module using**\n",
    "    \n",
    "`import module_name`\n",
    "    \n",
    "**or define a shorter alias for the module name, if it is too long when used in the code:**\n",
    "    \n",
    "`import module_name as alias`\n",
    "\n",
    "**You can also import a specific class or function from module:**\n",
    "\n",
    "`from module_name import function_name`\n",
    "\n",
    "`from module_name import function_name as alias`\n",
    "\n",
    "**You can also further specifiy an *absolute path* to the submodule (or the file) to import a specific class or function from:**\n",
    "\n",
    "`from module_name.submodule_name.file_name import function_name`\n",
    "\n",
    "Related to the project structure above, we could use the statement:\n",
    "\n",
    "`from pkg2.subpkg1.module5 import fun3`\n",
    "\n",
    "to specify an *absolute import* path. However, absolute imports are discouraged to use when the directory structure is very large.\n",
    "\n",
    "A relative import with respect to the project structure in the figure above may be defined using\n",
    "\n",
    "`from .subpkg1.module5 import fun3`\n",
    "    \n",
    "The best practice in Python regarding imports can be found in the official Python style guide <a href=\"https://www.python.org/dev/peps/pep-0008/#imports\">PEP8</a>. \n",
    "\n",
    "The most important best practices are:\n",
    "\n",
    "- import statements should be located at the beginning of your script.\n",
    "- import statements should be sorted in alphabetical order for their module names.\n",
    "- standard library imports before 3rd party imports.\n",
    "\n",
    "### Examples:"
   ]
  },
  {
   "cell_type": "code",
   "execution_count": 16,
   "metadata": {},
   "outputs": [],
   "source": [
    "# standard library imports first\n",
    "# use for each import a new line\n",
    "import math\n",
    "import os\n",
    "\n",
    "# the most popular example to use numpy\n",
    "# imports numpy and sets the namespace to the alias \"np\"\n",
    "# the module content is then accessible via the alias\n",
    "import numpy as np\n",
    "\n",
    "# the most popular example to plot/visualize data\n",
    "from matplotlib import pyplot as plt\n",
    "\n",
    "# import specific class from module\n",
    "from tqdm import tqdm"
   ]
  },
  {
   "cell_type": "markdown",
   "metadata": {},
   "source": [
    "<font size=\"3\"><b>You can check the path, version and short documentation of a module using the module attributes:</b></font>"
   ]
  },
  {
   "cell_type": "code",
   "execution_count": 30,
   "metadata": {},
   "outputs": [
    {
     "name": "stdout",
     "output_type": "stream",
     "text": [
      "1.19.5\n",
      "['/opt/conda/lib/python3.9/site-packages/numpy']\n",
      "\n",
      "NumPy\n",
      "=====\n",
      "\n",
      "Provides\n",
      "  1. An array object of arbitrary homogeneous items\n",
      "  2. Fast mathematical operations over arrays\n",
      "  3. Linear Algebra, Fourier Transforms, Random Number Generation\n",
      "\n",
      "How to use t ... (more text follows) ...\n"
     ]
    }
   ],
   "source": [
    "# the hidden attribute __version__ contains the module version\n",
    "print(np.__version__)\n",
    "# the hidden attribute __path__ contains the module path or location\n",
    "print(np.__path__)\n",
    "# the hidden attribute __doc__ contains a short documentation\n",
    "# or description of the module, the so-called docstring\n",
    "print(np.__doc__[:200], \"... (more text follows) ...\")"
   ]
  },
  {
   "cell_type": "markdown",
   "metadata": {},
   "source": [
    "You can also import your own modules (python files):"
   ]
  },
  {
   "cell_type": "code",
   "execution_count": 2,
   "metadata": {},
   "outputs": [
    {
     "name": "stdout",
     "output_type": "stream",
     "text": [
      "Hello World from your module!\n"
     ]
    }
   ],
   "source": [
    "from scripts import hello_world3 as hw3 #scripts is a folder in our local directory structure\n",
    "\n",
    "hw3.useful_function()"
   ]
  },
  {
   "cell_type": "markdown",
   "metadata": {},
   "source": [
    "<div class=\"alert alert-block alert-success\"><b>Exercise:</b> Implement a simple pipeline called <i>hash</i> consisting of 3 functions that modify a user input (a string). Each function should be in its own module (python file) and the files should be imported here. Think about arguments and return values of each function. \n",
    "<br>\n",
    "The 3 stand-alone functions should do:\n",
    "    \n",
    "<ol type = \"1\">\n",
    "<li>Convert all characters in the string to upper case. Return the capitalized string.</li>\n",
    "<li>Replace all characters with their respective ASCII code (function <i>ord</i>). Return a list of numbers.</li>\n",
    "<li>Sum up all numbers in the list and return the result.</li>\n",
    "</ol>\n",
    "\n",
    "Name the 3 modules appropriately according to their roles. For example:\n",
    "\n",
    "<ol type = \"1\">\n",
    "<li>stringmod.py - Contains functions that modify strings in very specific ways.</li>\n",
    "<li>convert.py - Contains functions that convert strings to other things that might be useful or not.</li>\n",
    "<li>mymath.py - Contains simple arithmetric functions that operate on lists.</li>\n",
    "</ol>\n",
    "    \n",
    "Try to use list comprehension and other things you already learned to keep your code as short as possible.\n",
    "</div>"
   ]
  },
  {
   "cell_type": "code",
   "execution_count": 4,
   "metadata": {},
   "outputs": [],
   "source": [
    "#YOUR imports here\n",
    "\n",
    "user_string = \"I don't have enough € for this coffee!!\"\n",
    "\n",
    "#YOUR CODE HERE"
   ]
  },
  {
   "cell_type": "code",
   "execution_count": 5,
   "metadata": {},
   "outputs": [
    {
     "name": "stdout",
     "output_type": "stream",
     "text": [
      "User string: I don't have enough € for this coffee!!\n",
      "Upper case: I DON'T HAVE ENOUGH € FOR THIS COFFEE!!\n",
      "Codes: [73, 32, 68, 79, 78, 39, 84, 32, 72, 65, 86, 69, 32, 69, 78, 79, 85, 71, 72, 32, 8364, 32, 70, 79, 82, 32, 84, 72, 73, 83, 32, 67, 79, 70, 70, 69, 69, 33, 33]\n",
      "Sum: 10788\n"
     ]
    }
   ],
   "source": [
    "#example solution\n",
    "def stringmod(s):\n",
    "    s_mod = \"\".join([c.upper() for c in s])\n",
    "    return s_mod\n",
    "\n",
    "def convert(s):\n",
    "    return [ord(c) for c in s]\n",
    "\n",
    "def my_sum(L):\n",
    "    return sum(L)\n",
    "\n",
    "s_mod = stringmod(user_string)\n",
    "L = convert(s_mod)\n",
    "x = my_sum(L)\n",
    "\n",
    "print(\"User string:\", user_string)\n",
    "print(\"Upper case:\", s_mod)\n",
    "print(\"Codes:\", L)\n",
    "print(\"Sum:\", x)"
   ]
  },
  {
   "cell_type": "markdown",
   "metadata": {},
   "source": [
    "<br><br><br>\n",
    "## Some popular Python Libraries (3rd party Modules)\n",
    "\n",
    "\n",
    "Let's take a look at the most popular Python libraries which you will use yourself sooner that later. Each library is accompanied by a minimal piece of code just to give you an idea of what you can do with it.\n",
    "\n",
    "### Numpy \n",
    "\n",
    "<a href=\"https://numpy.org/\">Numpy</a> is one of the most widely used Python libraries. It offers fast handling and efficient storage of bigger amounts of numerical data in numpy arrays as well as a variety of useful arithmetric functions and utility to readin various data file formats."
   ]
  },
  {
   "cell_type": "code",
   "execution_count": 13,
   "metadata": {},
   "outputs": [],
   "source": [
    "import numpy as np\n",
    "\n",
    "X = np.random.rand(10000, 10000) #many numbers\n",
    "Y = np.random.rand(10000, 10000) #more numbers\n",
    "\n",
    "S = X + Y #summing them in no time\n",
    "M = np.amax(S) #computing the maximum in no time"
   ]
  },
  {
   "cell_type": "code",
   "execution_count": 14,
   "metadata": {},
   "outputs": [],
   "source": [
    "#summing naively with loops takes much longer\n",
    "S = np.zeros_like(X)\n",
    "for i in range(10000):\n",
    "    for j in range(10000):\n",
    "        S[i,j] = X[i,j] + Y[i,j]"
   ]
  },
  {
   "cell_type": "code",
   "execution_count": 15,
   "metadata": {},
   "outputs": [],
   "source": [
    "del X,Y,S #free memory, just because these arrays are so lange and so pointless, you normally don't have to do this"
   ]
  },
  {
   "cell_type": "markdown",
   "metadata": {},
   "source": [
    "### Matplotlib and seaborn\n",
    "<a href=\"https://matplotlib.org/\">Matplotlib</a> is the most common Python library for data visualization. The library <a href=\"https://seaborn.pydata.org/\">seaborn</a> builds on matplotlib and offers more beautiful plots and more sophisticated plot types for statistics."
   ]
  },
  {
   "cell_type": "code",
   "execution_count": 16,
   "metadata": {},
   "outputs": [
    {
     "data": {
      "image/png": "[encoded data removed]",
      "text/plain": [
       "<Figure size 432x288 with 1 Axes>"
      ]
     },
     "metadata": {
      "needs_background": "light"
     },
     "output_type": "display_data"
    }
   ],
   "source": [
    "import matplotlib.pyplot as plt\n",
    "import numpy as np\n",
    "\n",
    "t = np.arange(0.0, 2.0, 0.01)\n",
    "s = 1 + np.sin(2*np.pi*t)\n",
    "plt.plot(t, s)\n",
    "\n",
    "plt.xlabel('time (s)')\n",
    "plt.ylabel('voltage (mV)')\n",
    "plt.title('About as simple as it gets, folks')\n",
    "plt.grid(True)\n",
    "plt.savefig(\"test.png\")\n",
    "plt.show()"
   ]
  },
  {
   "cell_type": "code",
   "execution_count": 17,
   "metadata": {},
   "outputs": [
    {
     "data": {
      "text/plain": [
       "<AxesSubplot:xlabel='carat', ylabel='price'>"
      ]
     },
     "execution_count": 17,
     "metadata": {},
     "output_type": "execute_result"
    },
    {
     "data": {
      "image/png": "[encoded data removed]",
      "text/plain": [
       "<Figure size 468x468 with 1 Axes>"
      ]
     },
     "metadata": {},
     "output_type": "display_data"
    }
   ],
   "source": [
    "import seaborn as sns\n",
    "import matplotlib.pyplot as plt\n",
    "sns.set_theme(style=\"whitegrid\")\n",
    "\n",
    "# Load the example diamonds dataset\n",
    "diamonds = sns.load_dataset(\"diamonds\")\n",
    "\n",
    "# Draw a scatter plot while assigning point colors and sizes to different\n",
    "# variables in the dataset\n",
    "f, ax = plt.subplots(figsize=(6.5, 6.5))\n",
    "sns.despine(f, left=True, bottom=True)\n",
    "clarity_ranking = [\"I1\", \"SI2\", \"SI1\", \"VS2\", \"VS1\", \"VVS2\", \"VVS1\", \"IF\"]\n",
    "sns.scatterplot(x=\"carat\", y=\"price\",\n",
    "                hue=\"clarity\", size=\"depth\",\n",
    "                palette=\"ch:r=-.2,d=.3_r\",\n",
    "                hue_order=clarity_ranking,\n",
    "                sizes=(1, 8), linewidth=0,\n",
    "                data=diamonds, ax=ax)"
   ]
  },
  {
   "cell_type": "markdown",
   "metadata": {},
   "source": [
    "### Pandas\n",
    "<a href=\"https://pandas.pydata.org/\">Pandas</a> is a library for chart data visualization and also for analysis and handling of large amounts of data. It became most popular for time series analysis."
   ]
  },
  {
   "cell_type": "code",
   "execution_count": 22,
   "metadata": {},
   "outputs": [
    {
     "data": {
      "text/html": [
       "<div>\n",
       "<style scoped>\n",
       "    .dataframe tbody tr th:only-of-type {\n",
       "        vertical-align: middle;\n",
       "    }\n",
       "\n",
       "    .dataframe tbody tr th {\n",
       "        vertical-align: top;\n",
       "    }\n",
       "\n",
       "    .dataframe thead th {\n",
       "        text-align: right;\n",
       "    }\n",
       "</style>\n",
       "<table border=\"1\" class=\"dataframe\">\n",
       "  <thead>\n",
       "    <tr style=\"text-align: right;\">\n",
       "      <th></th>\n",
       "      <th>col1</th>\n",
       "      <th>col2</th>\n",
       "      <th>col3</th>\n",
       "    </tr>\n",
       "  </thead>\n",
       "  <tbody>\n",
       "    <tr>\n",
       "      <th>0</th>\n",
       "      <td>1</td>\n",
       "      <td>3</td>\n",
       "      <td>A</td>\n",
       "    </tr>\n",
       "    <tr>\n",
       "      <th>1</th>\n",
       "      <td>2</td>\n",
       "      <td>4</td>\n",
       "      <td>B</td>\n",
       "    </tr>\n",
       "    <tr>\n",
       "      <th>2</th>\n",
       "      <td>9</td>\n",
       "      <td>4</td>\n",
       "      <td>C</td>\n",
       "    </tr>\n",
       "    <tr>\n",
       "      <th>3</th>\n",
       "      <td>-17</td>\n",
       "      <td>1000</td>\n",
       "      <td>D</td>\n",
       "    </tr>\n",
       "  </tbody>\n",
       "</table>\n",
       "</div>"
      ],
      "text/plain": [
       "   col1  col2 col3\n",
       "0     1     3    A\n",
       "1     2     4    B\n",
       "2     9     4    C\n",
       "3   -17  1000    D"
      ]
     },
     "execution_count": 22,
     "metadata": {},
     "output_type": "execute_result"
    }
   ],
   "source": [
    "import pandas as pd\n",
    "\n",
    "d = {'col1': [1, 2, 9, -17], 'col2': [3, 4, 4, 1000], 'col3': [\"A\", \"B\", \"C\", \"D\"]}\n",
    "\n",
    "pd.DataFrame(data=d)"
   ]
  },
  {
   "cell_type": "markdown",
   "metadata": {},
   "source": [
    "### Scipy\n",
    "<a href=\"https://www.scipy.org/\">Scipy</a> is a general purpose library for science and engineering offering mostly functionalities for signal analysis, filtering and regression."
   ]
  },
  {
   "cell_type": "code",
   "execution_count": 26,
   "metadata": {},
   "outputs": [
    {
     "data": {
      "image/png": "[encoded data removed]",
      "text/plain": [
       "<Figure size 432x288 with 1 Axes>"
      ]
     },
     "metadata": {},
     "output_type": "display_data"
    }
   ],
   "source": [
    "# preprocessing e.g. for machine learning\n",
    "# just one of the more illustrative example for many different things you can do with scipy\n",
    "from scipy import ndimage, misc\n",
    "from matplotlib import pyplot as plt\n",
    "panda = misc.face()\n",
    "#rotatation function of scipy for image – image rotated 135 degree\n",
    "panda_rotate = ndimage.rotate(panda, 135)\n",
    "plt.imshow(panda_rotate)\n",
    "plt.show()"
   ]
  },
  {
   "cell_type": "markdown",
   "metadata": {},
   "source": [
    "### Statsmodels\n",
    "As the name implies, the library <a href=\"https://www.statsmodels.org/\">Statsmodels</a> offers a big variety of statistical models and tests for your data."
   ]
  },
  {
   "cell_type": "code",
   "execution_count": 30,
   "metadata": {},
   "outputs": [
    {
     "name": "stdout",
     "output_type": "stream",
     "text": [
      "                            OLS Regression Results                            \n",
      "==============================================================================\n",
      "Dep. Variable:                Lottery   R-squared:                       0.348\n",
      "Model:                            OLS   Adj. R-squared:                  0.333\n",
      "Method:                 Least Squares   F-statistic:                     22.20\n",
      "Date:                Sat, 27 Aug 2022   Prob (F-statistic):           1.90e-08\n",
      "Time:                        06:57:53   Log-Likelihood:                -379.82\n",
      "No. Observations:                  86   AIC:                             765.6\n",
      "Df Residuals:                      83   BIC:                             773.0\n",
      "Df Model:                           2                                         \n",
      "Covariance Type:            nonrobust                                         \n",
      "===================================================================================\n",
      "                      coef    std err          t      P>|t|      [0.025      0.975]\n",
      "-----------------------------------------------------------------------------------\n",
      "Intercept         246.4341     35.233      6.995      0.000     176.358     316.510\n",
      "Literacy           -0.4889      0.128     -3.832      0.000      -0.743      -0.235\n",
      "np.log(Pop1831)   -31.3114      5.977     -5.239      0.000     -43.199     -19.424\n",
      "==============================================================================\n",
      "Omnibus:                        3.713   Durbin-Watson:                   2.019\n",
      "Prob(Omnibus):                  0.156   Jarque-Bera (JB):                3.394\n",
      "Skew:                          -0.487   Prob(JB):                        0.183\n",
      "Kurtosis:                       3.003   Cond. No.                         702.\n",
      "==============================================================================\n",
      "\n",
      "Notes:\n",
      "[1] Standard Errors assume that the covariance matrix of the errors is correctly specified.\n"
     ]
    }
   ],
   "source": [
    "import numpy as np\n",
    "import statsmodels.api as sm\n",
    "import statsmodels.formula.api as smf\n",
    "\n",
    "# Load data\n",
    "dat = sm.datasets.get_rdataset(\"Guerry\", \"HistData\").data\n",
    "\n",
    "# Fit regression model (using the natural log of one of the regressors)\n",
    "results = smf.ols('Lottery ~ Literacy + np.log(Pop1831)', data=dat).fit()\n",
    "\n",
    "# Inspect the results\n",
    "print(results.summary())"
   ]
  },
  {
   "cell_type": "markdown",
   "metadata": {},
   "source": [
    "### Tensorflow\n",
    "<a href=\"https://www.tensorflow.org/\">Tensorflow</a> is the most popular machine learning library developed mostly by Google besides the competing <a href=\"https://pytorch.org/\">pytorch</a> by Facebook. It is popular for its automatic differentiation feature which lets you specify arbitrary models instead of just predefined ones like in statsmodels."
   ]
  },
  {
   "cell_type": "code",
   "execution_count": null,
   "metadata": {},
   "outputs": [],
   "source": [
    "import tensorflow as tf\n",
    "\n",
    "#load your data\n",
    "mnist = tf.keras.datasets.mnist\n",
    "\n",
    "(x_train, y_train), (x_test, y_test) = mnist.load_data()\n",
    "x_train, x_test = x_train / 255.0, x_test / 255.0\n",
    "\n",
    "#define a creative (and useful) model\n",
    "model = tf.keras.models.Sequential([\n",
    "  tf.keras.layers.Flatten(input_shape=(28, 28)),\n",
    "  tf.keras.layers.Dense(128, activation='relu'),\n",
    "  tf.keras.layers.Dropout(0.2),\n",
    "  tf.keras.layers.Dense(10)\n",
    "])\n",
    "\n",
    "#train the model\n",
    "model.compile(optimizer='adam',\n",
    "              loss=tf.keras.losses.SparseCategoricalCrossentropy(from_logits=True),\n",
    "              metrics=['accuracy'])\n",
    "model.fit(x_train, y_train, epochs=5)"
   ]
  },
  {
   "cell_type": "markdown",
   "metadata": {},
   "source": [
    "### Requests\n",
    "\n",
    "There are many other non scitific fields with very useful libraries like <a href=\"https://www.tensorflow.org/\">Requests</a>, which lets you send http requests using python. "
   ]
  },
  {
   "cell_type": "code",
   "execution_count": 45,
   "metadata": {},
   "outputs": [
    {
     "name": "stdout",
     "output_type": "stream",
     "text": [
      "<Response [200]>\n",
      "FelixBecker\n",
      "2016-06-20T13:28:07Z\n",
      "False\n",
      "16\n"
     ]
    }
   ],
   "source": [
    "import requests\n",
    "   \n",
    "# Making a GET request - let's hack my github account\n",
    "r = requests.get('https://api.github.com/users/felbecker')\n",
    "  \n",
    "# check status code for response received\n",
    "# success code - 200\n",
    "print(r)\n",
    "  \n",
    "# print content of request\n",
    "print(r.json()[\"name\"])\n",
    "print(r.json()[\"created_at\"])\n",
    "print(r.json()[\"site_admin\"])\n",
    "print(r.json()[\"public_repos\"])"
   ]
  },
  {
   "cell_type": "markdown",
   "metadata": {},
   "source": [
    "## How to list installed modules and install new modules in Python\n",
    "\n",
    "Often you would like to use the functionality of a 3rd-party module, but the module is not installed (this may not be the case for the above libraries as we use a jupyter image with preinstalled packages).\n",
    "\n",
    "In most Python environments, a package manager is used to administer the installed modules. \n",
    "\n",
    "In most cases, this is either <a href=\"https://docs.python.org/3/installing/index.html\">pip</a> or if you use the Anaconda environment, it will be <a href=\"\">conda</a> and pip.\n",
    "\n",
    "`pip` (Package Installer for Python) downloads and installs packages and their dependencies from the Python Package Index (PyPI). Everyone can contribute their packages to PyPI and make them available for others.\n",
    "\n",
    "`conda` is an open source package management system and environment management system that runs on Windows, macOS, Linux and z/OS. It is not limited to Python and installs pre-build packages. \n",
    "\n",
    "**In order to check which modules are installed (in your current virtual environment), you can use the command:**\n",
    "\n",
    "`pip list` or `conda list`\n",
    "\n",
    "on the command-line prompt in a console or in a cell:"
   ]
  },
  {
   "cell_type": "code",
   "execution_count": 46,
   "metadata": {},
   "outputs": [
    {
     "name": "stdout",
     "output_type": "stream",
     "text": [
      "# packages in environment at /opt/conda:\n",
      "#\n",
      "# Name                    Version                   Build  Channel\n",
      "_libgcc_mutex             0.1                 conda_forge    conda-forge\n",
      "_openmp_mutex             4.5                       1_gnu    conda-forge\n",
      "_r-mutex                  1.0.1               anacondar_1    conda-forge\n",
      "absl-py                   0.12.0                   pypi_0    pypi\n",
      "alembic                   1.6.5              pyhd8ed1ab_0    conda-forge\n",
      "alsa-lib                  1.2.3                h516909a_0    conda-forge\n",
      "anyio                     3.1.0            py39hf3d152e_0    conda-forge\n",
      "appdirs                   1.4.4              pyh9f0ad1d_0    conda-forge\n",
      "argon2-cffi               20.1.0           py39h3811e60_2    conda-forge\n",
      "astunparse                1.6.3                    pypi_0    pypi\n",
      "async_generator           1.10                       py_0    conda-forge\n",
      "attrs                     21.2.0             pyhd8ed1ab_0    conda-forge\n",
      "babel                     2.9.1              pyh44b312d_0    conda-forge\n",
      "backcall                  0.2.0              pyh9f0ad1d_0    conda-forge\n",
      "backports                 1.0                        py_2    conda-forge\n",
      "backports.functools_lru_cache 1.6.4              pyhd8ed1ab_0    conda-forge\n",
      "beautifulsoup4            4.9.3              pyhb0f4dca_0    conda-forge\n",
      "binutils_impl_linux-64    2.35.1               h193b22a_2    conda-forge\n",
      "binutils_linux-64         2.35                h67ddf6f_30    conda-forge\n",
      "biopython                 1.78             py39h3811e60_2    conda-forge\n",
      "blas                      1.1                    openblas    conda-forge\n",
      "bleach                    3.3.0              pyh44b312d_0    conda-forge\n",
      "blinker                   1.4                        py_1    conda-forge\n",
      "blosc                     1.21.0               h9c3ff4c_0    conda-forge\n",
      "bokeh                     2.3.2            py39hf3d152e_0    conda-forge\n",
      "bottleneck                1.3.2            py39hce5d2b2_3    conda-forge\n",
      "brotli                    1.0.9                h9c3ff4c_4    conda-forge\n",
      "brotlipy                  0.7.0           py39h3811e60_1001    conda-forge\n",
      "brunsli                   0.1                  h9c3ff4c_0    conda-forge\n",
      "bwidget                   1.9.14               ha770c72_0    conda-forge\n",
      "bzip2                     1.0.8                h7f98852_4    conda-forge\n",
      "c-ares                    1.17.1               h7f98852_1    conda-forge\n",
      "ca-certificates           2021.5.30            ha878542_0    conda-forge\n",
      "cached-property           1.5.2                hd8ed1ab_1    conda-forge\n",
      "cached_property           1.5.2              pyha770c72_1    conda-forge\n",
      "cachetools                4.2.2                    pypi_0    pypi\n",
      "cairo                     1.16.0            h6cf1ce9_1008    conda-forge\n",
      "certifi                   2021.5.30        py39hf3d152e_0    conda-forge\n",
      "certipy                   0.1.3                      py_0    conda-forge\n",
      "cffi                      1.14.5           py39he32792d_0    conda-forge\n",
      "chardet                   4.0.0            py39hf3d152e_1    conda-forge\n",
      "charls                    2.2.0                h9c3ff4c_0    conda-forge\n",
      "click                     7.1.2              pyh9f0ad1d_0    conda-forge\n",
      "cloudpickle               1.6.0                      py_0    conda-forge\n",
      "colorcet                  2.0.6              pyhd8ed1ab_0    conda-forge\n",
      "conda                     4.10.1           py39hf3d152e_0    conda-forge\n",
      "conda-package-handling    1.7.3            py39h3811e60_0    conda-forge\n",
      "configurable-http-proxy   4.4.0           node15_he6ea98c_0    conda-forge\n",
      "cryptography              3.4.7            py39hbca0aa6_0    conda-forge\n",
      "curl                      7.76.1               h979ede3_1    conda-forge\n",
      "cycler                    0.10.0                     py_2    conda-forge\n",
      "cython                    0.29.23          py39he80948d_0    conda-forge\n",
      "cytoolz                   0.11.0           py39h3811e60_3    conda-forge\n",
      "dask                      2021.4.1           pyhd8ed1ab_0    conda-forge\n",
      "dask-core                 2021.4.1           pyhd8ed1ab_0    conda-forge\n",
      "dbus                      1.13.6               h48d8840_2    conda-forge\n",
      "decorator                 5.0.9              pyhd8ed1ab_0    conda-forge\n",
      "defusedxml                0.7.1              pyhd8ed1ab_0    conda-forge\n",
      "dill                      0.3.3              pyhd8ed1ab_0    conda-forge\n",
      "distributed               2021.4.1         py39hf3d152e_1    conda-forge\n",
      "entrypoints               0.3             pyhd8ed1ab_1003    conda-forge\n",
      "expat                     2.4.1                h9c3ff4c_0    conda-forge\n",
      "ffmpeg                    4.3.1                hca11adc_2    conda-forge\n",
      "flatbuffers               1.12                     pypi_0    pypi\n",
      "font-ttf-dejavu-sans-mono 2.37                 hab24e00_0    conda-forge\n",
      "font-ttf-inconsolata      3.000                h77eed37_0    conda-forge\n",
      "font-ttf-source-code-pro  2.038                h77eed37_0    conda-forge\n",
      "font-ttf-ubuntu           0.83                 hab24e00_0    conda-forge\n",
      "fontconfig                2.13.1            hba837de_1005    conda-forge\n",
      "fonts-conda-ecosystem     1                             0    conda-forge\n",
      "fonts-conda-forge         1                             0    conda-forge\n",
      "freetype                  2.10.4               h0708190_1    conda-forge\n",
      "fribidi                   1.0.10               h36c2ea0_0    conda-forge\n",
      "fsspec                    2021.5.0           pyhd8ed1ab_0    conda-forge\n",
      "gast                      0.4.0                    pypi_0    pypi\n",
      "gcc_impl_linux-64         9.3.0               h70c0ae5_19    conda-forge\n",
      "gcc_linux-64              9.3.0               hf25ea35_30    conda-forge\n",
      "gettext                   0.19.8.1          h0b5b191_1005    conda-forge\n",
      "gfortran_impl_linux-64    9.3.0               hc4a2995_19    conda-forge\n",
      "gfortran_linux-64         9.3.0               hdc58fab_30    conda-forge\n",
      "giflib                    5.2.1                h36c2ea0_2    conda-forge\n",
      "glib                      2.68.2               h9c3ff4c_1    conda-forge\n",
      "glib-tools                2.68.2               h9c3ff4c_1    conda-forge\n",
      "gmp                       6.2.1                h58526e2_0    conda-forge\n",
      "gmpy2                     2.1.0b1          py39hf9ed83c_1    conda-forge\n",
      "gnutls                    3.6.13               h85f3911_1    conda-forge\n",
      "google-auth               1.30.1                   pypi_0    pypi\n",
      "google-auth-oauthlib      0.4.4                    pypi_0    pypi\n",
      "google-pasta              0.2.0                    pypi_0    pypi\n",
      "graphite2                 1.3.13            h58526e2_1001    conda-forge\n",
      "greenlet                  1.1.0            py39he80948d_0    conda-forge\n",
      "grpcio                    1.34.1                   pypi_0    pypi\n",
      "gsl                       2.6                  he838d99_2    conda-forge\n",
      "gst-plugins-base          1.18.4               hf529b03_2    conda-forge\n",
      "gstreamer                 1.18.4               h76c114f_2    conda-forge\n",
      "gxx_impl_linux-64         9.3.0               hd87eabc_19    conda-forge\n",
      "gxx_linux-64              9.3.0               h3fbe746_30    conda-forge\n",
      "h5py                      3.1.0                    pypi_0    pypi\n",
      "harfbuzz                  2.8.1                h83ec7ef_0    conda-forge\n",
      "hdf5                      1.10.6          nompi_h6a2412b_1114    conda-forge\n",
      "heapdict                  1.0.1                      py_0    conda-forge\n",
      "holoviews                 1.14.4             pyhd8ed1ab_0    conda-forge\n",
      "icu                       68.1                 h58526e2_0    conda-forge\n",
      "idna                      2.10               pyh9f0ad1d_0    conda-forge\n",
      "imagecodecs               2021.3.31        py39h559889c_0    conda-forge\n",
      "imageio                   2.9.0                      py_0    conda-forge\n",
      "importlib-metadata        4.4.0            py39hf3d152e_0    conda-forge\n",
      "ipykernel                 5.5.5            py39hef51801_0    conda-forge\n",
      "ipympl                    0.7.0              pyhd8ed1ab_0    conda-forge\n",
      "ipython                   7.24.0           py39hef51801_0    conda-forge\n",
      "ipython_genutils          0.2.0                      py_1    conda-forge\n",
      "ipywidgets                7.6.3              pyhd3deb0d_0    conda-forge\n",
      "jasper                    1.900.1           h07fcdf6_1006    conda-forge\n",
      "jbig                      2.1               h7f98852_2003    conda-forge\n",
      "jedi                      0.18.0           py39hf3d152e_2    conda-forge\n",
      "jinja2                    3.0.1              pyhd8ed1ab_0    conda-forge\n",
      "joblib                    1.0.1              pyhd8ed1ab_0    conda-forge\n",
      "jpeg                      9d                   h36c2ea0_0    conda-forge\n",
      "json5                     0.9.5              pyh9f0ad1d_0    conda-forge\n",
      "jsonschema                3.2.0              pyhd8ed1ab_3    conda-forge\n",
      "jupyter_client            6.1.12             pyhd8ed1ab_0    conda-forge\n",
      "jupyter_core              4.7.1            py39hf3d152e_0    conda-forge\n",
      "jupyter_server            1.8.0              pyhd8ed1ab_0    conda-forge\n",
      "jupyter_telemetry         0.1.0              pyhd8ed1ab_1    conda-forge\n",
      "jupyterhub                1.4.1            py39hf3d152e_0    conda-forge\n",
      "jupyterhub-base           1.4.1            py39hf3d152e_0    conda-forge\n",
      "jupyterlab                3.0.15             pyhd8ed1ab_0    conda-forge\n",
      "jupyterlab_pygments       0.1.2              pyh9f0ad1d_0    conda-forge\n",
      "jupyterlab_server         2.5.2              pyhd8ed1ab_0    conda-forge\n",
      "jupyterlab_widgets        1.0.0              pyhd8ed1ab_1    conda-forge\n",
      "jxrlib                    1.1                  h7f98852_2    conda-forge\n",
      "keras                     2.4.3                    pypi_0    pypi\n",
      "keras-nightly             2.5.0.dev2021032900          pypi_0    pypi\n",
      "keras-preprocessing       1.1.2                    pypi_0    pypi\n",
      "kernel-headers_linux-64   2.6.32              h77966d4_13    conda-forge\n",
      "kiwisolver                1.3.1            py39h1a9c180_1    conda-forge\n",
      "krb5                      1.17.2               h926e7f8_0    conda-forge\n",
      "lame                      3.100             h7f98852_1001    conda-forge\n",
      "lcms2                     2.12                 hddcbb42_0    conda-forge\n",
      "ld_impl_linux-64          2.35.1               hea4e1c9_2    conda-forge\n",
      "lerc                      2.2.1                h9c3ff4c_0    conda-forge\n",
      "libaec                    1.0.4                h9c3ff4c_1    conda-forge\n",
      "libarchive                3.5.1                h3f442fb_1    conda-forge\n",
      "libblas                   3.9.0                9_openblas    conda-forge\n",
      "libcblas                  3.9.0                9_openblas    conda-forge\n",
      "libclang                  11.1.0          default_ha53f305_1    conda-forge\n",
      "libcurl                   7.76.1               hc4aaa36_1    conda-forge\n",
      "libdeflate                1.7                  h7f98852_5    conda-forge\n",
      "libedit                   3.1.20191231         he28a2e2_2    conda-forge\n",
      "libev                     4.33                 h516909a_1    conda-forge\n",
      "libevent                  2.1.10               hcdb4288_3    conda-forge\n",
      "libffi                    3.3                  h58526e2_2    conda-forge\n",
      "libgcc-devel_linux-64     9.3.0               h7864c58_19    conda-forge\n",
      "libgcc-ng                 9.3.0               h2828fa1_19    conda-forge\n",
      "libgfortran-ng            9.3.0               hff62375_19    conda-forge\n",
      "libgfortran5              9.3.0               hff62375_19    conda-forge\n",
      "libgit2                   1.1.0                h3974521_1    conda-forge\n",
      "libglib                   2.68.2               h3e27bee_1    conda-forge\n",
      "libgomp                   9.3.0               h2828fa1_19    conda-forge\n",
      "libiconv                  1.16                 h516909a_0    conda-forge\n",
      "liblapack                 3.9.0                9_openblas    conda-forge\n",
      "liblapacke                3.9.0                9_openblas    conda-forge\n",
      "libllvm10                 10.0.1               he513fc3_3    conda-forge\n",
      "libllvm11                 11.1.0               hf817b99_2    conda-forge\n",
      "libnghttp2                1.43.0               h812cca2_0    conda-forge\n",
      "libogg                    1.3.4                h7f98852_1    conda-forge\n",
      "libopenblas               0.3.15          pthreads_h8fe5266_1    conda-forge\n",
      "libopencv                 4.5.2            py39h2406f9b_0    conda-forge\n",
      "libopus                   1.3.1                h7f98852_1    conda-forge\n",
      "libpng                    1.6.37               h21135ba_2    conda-forge\n",
      "libpq                     13.2                 hfd2b0eb_2    conda-forge\n",
      "libprotobuf               3.15.8               h780b84a_0    conda-forge\n",
      "libsodium                 1.0.18               h36c2ea0_1    conda-forge\n",
      "libsolv                   0.7.18               h780b84a_0    conda-forge\n",
      "libssh2                   1.9.0                ha56f1ee_6    conda-forge\n",
      "libstdcxx-devel_linux-64  9.3.0               hb016644_19    conda-forge\n",
      "libstdcxx-ng              9.3.0               h6de172a_19    conda-forge\n",
      "libtiff                   4.2.0                hbd63e13_2    conda-forge\n",
      "libuuid                   2.32.1            h7f98852_1000    conda-forge\n",
      "libuv                     1.41.0               h7f98852_0    conda-forge\n",
      "libvorbis                 1.3.7                h9c3ff4c_0    conda-forge\n",
      "libwebp-base              1.2.0                h7f98852_2    conda-forge\n",
      "libxcb                    1.13              h7f98852_1003    conda-forge\n",
      "libxkbcommon              1.0.3                he3ba5ed_0    conda-forge\n",
      "libxml2                   2.9.12               h72842e0_0    conda-forge\n",
      "libzopfli                 1.0.3                h9c3ff4c_0    conda-forge\n",
      "llvmlite                  0.36.0           py39h1bbdace_0    conda-forge\n",
      "locket                    0.2.0                      py_2    conda-forge\n",
      "lz4-c                     1.9.3                h9c3ff4c_0    conda-forge\n",
      "lzo                       2.10              h516909a_1000    conda-forge\n",
      "make                      4.3                  hd18ef5c_1    conda-forge\n",
      "mako                      1.1.4              pyh44b312d_0    conda-forge\n",
      "mamba                     0.13.0           py39h951de11_0    conda-forge\n",
      "markdown                  3.3.4              pyhd8ed1ab_0    conda-forge\n",
      "markupsafe                2.0.1            py39h3811e60_0    conda-forge\n",
      "matplotlib-base           3.4.2            py39h2fa2bec_0    conda-forge\n",
      "matplotlib-inline         0.1.2              pyhd8ed1ab_2    conda-forge\n",
      "mistune                   0.8.4           py39h3811e60_1003    conda-forge\n",
      "mock                      4.0.3            py39hf3d152e_1    conda-forge\n",
      "mpc                       1.1.0             h04dde30_1009    conda-forge\n",
      "mpfr                      4.0.2                he80fd80_1    conda-forge\n",
      "mpmath                    1.2.1              pyhd8ed1ab_0    conda-forge\n",
      "msgpack-python            1.0.2            py39h1a9c180_1    conda-forge\n",
      "mysql-common              8.0.23               ha770c72_2    conda-forge\n",
      "mysql-libs                8.0.23               h935591d_2    conda-forge\n",
      "nbclassic                 0.3.1              pyhd8ed1ab_1    conda-forge\n",
      "nbclient                  0.5.3              pyhd8ed1ab_0    conda-forge\n",
      "nbconvert                 6.0.7            py39hf3d152e_3    conda-forge\n",
      "nbformat                  5.1.3              pyhd8ed1ab_0    conda-forge\n",
      "nbresuse                  0.4.0              pyhd8ed1ab_0    conda-forge\n",
      "ncurses                   6.2                  h58526e2_4    conda-forge\n",
      "nest-asyncio              1.5.1              pyhd8ed1ab_0    conda-forge\n",
      "nettle                    3.6                  he412f7d_0    conda-forge\n",
      "networkx                  2.5                        py_0    conda-forge\n",
      "nodejs                    15.14.0              h92b4a50_0    conda-forge\n",
      "nose                      1.3.7                   py_1006    conda-forge\n",
      "notebook                  6.3.0              pyha770c72_1    conda-forge\n",
      "nspr                      4.30                 h9c3ff4c_0    conda-forge\n",
      "nss                       3.65                 hb5efdd6_0    conda-forge\n",
      "numba                     0.53.1           py39h4292f66_0    conda-forge\n",
      "numexpr                   2.7.3            py39hde0f152_0    conda-forge\n",
      "numpy                     1.19.5                   pypi_0    pypi\n",
      "oauthlib                  3.1.0              pyhd8ed1ab_0    conda-forge\n",
      "olefile                   0.46               pyh9f0ad1d_1    conda-forge\n",
      "openblas                  0.3.15          pthreads_h4748800_1    conda-forge\n",
      "opencv                    4.5.2            py39hf3d152e_0    conda-forge\n",
      "openh264                  2.1.1                h780b84a_0    conda-forge\n",
      "openjpeg                  2.4.0                hb52868f_1    conda-forge\n",
      "openssl                   1.1.1k               h7f98852_0    conda-forge\n",
      "opt-einsum                3.3.0                    pypi_0    pypi\n",
      "packaging                 20.9               pyh44b312d_0    conda-forge\n",
      "pamela                    1.0.0                      py_0    conda-forge\n",
      "pandas                    1.2.4            py39hde0f152_0    conda-forge\n",
      "pandoc                    2.14                 h7f98852_0    conda-forge\n",
      "pandocfilters             1.4.2                      py_1    conda-forge\n",
      "panel                     0.11.3             pyhd8ed1ab_0    conda-forge\n",
      "pango                     1.48.5               hb8ff022_0    conda-forge\n",
      "param                     1.10.1             pyhd3deb0d_0    conda-forge\n",
      "parso                     0.8.2              pyhd8ed1ab_0    conda-forge\n",
      "partd                     1.2.0              pyhd8ed1ab_0    conda-forge\n",
      "patsy                     0.5.1                      py_0    conda-forge\n",
      "pcre                      8.44                 he1b5a44_0    conda-forge\n",
      "pcre2                     10.36                h032f7d1_1    conda-forge\n",
      "pexpect                   4.8.0              pyh9f0ad1d_2    conda-forge\n",
      "pickleshare               0.7.5                   py_1003    conda-forge\n",
      "pillow                    8.2.0            py39hf95b381_1    conda-forge\n",
      "pip                       21.1.2             pyhd8ed1ab_0    conda-forge\n",
      "pixman                    0.40.0               h36c2ea0_0    conda-forge\n",
      "pooch                     1.3.0              pyhd8ed1ab_0    conda-forge\n",
      "prometheus_client         0.10.1             pyhd8ed1ab_0    conda-forge\n",
      "prompt-toolkit            3.0.18             pyha770c72_0    conda-forge\n",
      "protobuf                  3.15.8           py39he80948d_0    conda-forge\n",
      "psutil                    5.8.0            py39h3811e60_1    conda-forge\n",
      "pthread-stubs             0.4               h36c2ea0_1001    conda-forge\n",
      "ptyprocess                0.7.0              pyhd3deb0d_0    conda-forge\n",
      "py-opencv                 4.5.2            py39hef51801_0    conda-forge\n",
      "pyasn1                    0.4.8                    pypi_0    pypi\n",
      "pyasn1-modules            0.2.8                    pypi_0    pypi\n",
      "pycosat                   0.6.3           py39h3811e60_1006    conda-forge\n",
      "pycparser                 2.20               pyh9f0ad1d_2    conda-forge\n",
      "pyct                      0.4.6                      py_0    conda-forge\n",
      "pyct-core                 0.4.6                      py_0    conda-forge\n",
      "pycurl                    7.43.0.6         py39h72e3413_1    conda-forge\n",
      "pygments                  2.9.0              pyhd8ed1ab_0    conda-forge\n",
      "pyjwt                     2.1.0              pyhd8ed1ab_0    conda-forge\n",
      "pyopenssl                 20.0.1             pyhd8ed1ab_0    conda-forge\n",
      "pyparsing                 2.4.7              pyh9f0ad1d_0    conda-forge\n",
      "pyrsistent                0.17.3           py39h3811e60_2    conda-forge\n",
      "pysocks                   1.7.1            py39hf3d152e_3    conda-forge\n",
      "pytables                  3.6.1            py39hf6dc253_3    conda-forge\n",
      "python                    3.9.2           hffdb5ce_0_cpython    conda-forge\n",
      "python-dateutil           2.8.1                      py_0    conda-forge\n",
      "python-editor             1.0.4                      py_0    conda-forge\n",
      "python-json-logger        2.0.1              pyh9f0ad1d_0    conda-forge\n",
      "python_abi                3.9                      1_cp39    conda-forge\n",
      "pytz                      2021.1             pyhd8ed1ab_0    conda-forge\n",
      "pyviz_comms               2.0.1              pyhd3deb0d_0    conda-forge\n",
      "pywavelets                1.1.1            py39hce5d2b2_3    conda-forge\n",
      "pyyaml                    5.4.1            py39h3811e60_0    conda-forge\n",
      "pyzmq                     22.1.0           py39h37b5a0c_0    conda-forge\n",
      "qt                        5.12.9               hda022c4_4    conda-forge\n",
      "r-askpass                 1.1               r40hcfec24a_2    conda-forge\n",
      "r-assertthat              0.2.1             r40hc72bb7e_2    conda-forge\n",
      "r-backports               1.2.1             r40hcfec24a_0    conda-forge\n",
      "r-base                    4.0.3                h349a78a_8    conda-forge\n",
      "r-base64enc               0.1_3           r40hcfec24a_1004    conda-forge\n",
      "r-bit                     4.0.4             r40hcfec24a_0    conda-forge\n",
      "r-bit64                   4.0.5             r40hcfec24a_0    conda-forge\n",
      "r-bitops                  1.0_7             r40hcfec24a_0    conda-forge\n",
      "r-blob                    1.2.1             r40hc72bb7e_1    conda-forge\n",
      "r-brew                    1.0_6           r40hc72bb7e_1003    conda-forge\n",
      "r-brio                    1.1.2             r40hcfec24a_0    conda-forge\n",
      "r-broom                   0.7.6             r40hc72bb7e_0    conda-forge\n",
      "r-bslib                   0.2.5.1           r40hc72bb7e_0    conda-forge\n",
      "r-cachem                  1.0.5             r40hcfec24a_0    conda-forge\n",
      "r-callr                   3.7.0             r40hc72bb7e_0    conda-forge\n",
      "r-caret                   6.0_88            r40hcfec24a_0    conda-forge\n",
      "r-cellranger              1.1.0           r40hc72bb7e_1003    conda-forge\n",
      "r-class                   7.3_19            r40hcfec24a_0    conda-forge\n",
      "r-cli                     2.5.0             r40hc72bb7e_0    conda-forge\n",
      "r-clipr                   0.7.1             r40hc72bb7e_0    conda-forge\n",
      "r-codetools               0.2_18            r40hc72bb7e_0    conda-forge\n",
      "r-colorspace              2.0_1             r40hcfec24a_0    conda-forge\n",
      "r-commonmark              1.7             r40hcfec24a_1002    conda-forge\n",
      "r-conflicted              1.0.4             r40hc72bb7e_2    conda-forge\n",
      "r-covr                    3.5.1             r40h03ef668_0    conda-forge\n",
      "r-cpp11                   0.2.7             r40hc72bb7e_0    conda-forge\n",
      "r-crayon                  1.4.1             r40hc72bb7e_0    conda-forge\n",
      "r-credentials             1.3.0             r40hc72bb7e_0    conda-forge\n",
      "r-crosstalk               1.1.1             r40hc72bb7e_0    conda-forge\n",
      "r-curl                    4.3.1             r40hcfec24a_0    conda-forge\n",
      "r-data.table              1.14.0            r40hcfec24a_0    conda-forge\n",
      "r-dbi                     1.1.1             r40hc72bb7e_0    conda-forge\n",
      "r-dbplyr                  2.1.1             r40hc72bb7e_0    conda-forge\n",
      "r-desc                    1.3.0             r40hc72bb7e_0    conda-forge\n",
      "r-devtools                2.4.1             r40hc72bb7e_0    conda-forge\n",
      "r-dials                   0.0.9             r40hc72bb7e_0    conda-forge\n",
      "r-dicedesign              1.9               r40hcfec24a_0    conda-forge\n",
      "r-diffobj                 0.3.4             r40hcfec24a_0    conda-forge\n",
      "r-digest                  0.6.27            r40h03ef668_0    conda-forge\n",
      "r-dplyr                   1.0.6             r40h03ef668_1    conda-forge\n",
      "r-dt                      0.18              r40hc72bb7e_0    conda-forge\n",
      "r-dtplyr                  1.1.0             r40hc72bb7e_0    conda-forge\n",
      "r-ellipsis                0.3.2             r40hcfec24a_0    conda-forge\n",
      "r-evaluate                0.14              r40hc72bb7e_2    conda-forge\n",
      "r-fansi                   0.5.0             r40hcfec24a_0    conda-forge\n",
      "r-farver                  2.1.0             r40h03ef668_0    conda-forge\n",
      "r-fastmap                 1.1.0             r40h03ef668_0    conda-forge\n",
      "r-forcats                 0.5.1             r40hc72bb7e_0    conda-forge\n",
      "r-foreach                 1.5.1             r40hc72bb7e_0    conda-forge\n",
      "r-forecast                8.14              r40h6dc32e9_0    conda-forge\n",
      "r-fracdiff                1.5_1             r40hbfbffee_1    conda-forge\n",
      "r-fs                      1.5.0             r40h03ef668_0    conda-forge\n",
      "r-furrr                   0.2.2             r40hc72bb7e_0    conda-forge\n",
      "r-future                  1.21.0            r40hc72bb7e_0    conda-forge\n",
      "r-gargle                  1.1.0             r40hc72bb7e_0    conda-forge\n",
      "r-generics                0.1.0             r40hc72bb7e_0    conda-forge\n",
      "r-gert                    1.3.0             r40hbd84cd2_0    conda-forge\n",
      "r-ggplot2                 3.3.3             r40hc72bb7e_0    conda-forge\n",
      "r-gh                      1.3.0             r40hc72bb7e_0    conda-forge\n",
      "r-git2r                   0.28.0            r40hf628c3e_0    conda-forge\n",
      "r-gitcreds                0.1.1             r40hc72bb7e_0    conda-forge\n",
      "r-globals                 0.14.0            r40hc72bb7e_0    conda-forge\n",
      "r-glue                    1.4.2             r40hcfec24a_0    conda-forge\n",
      "r-googledrive             1.0.1             r40hc72bb7e_1    conda-forge\n",
      "r-googlesheets4           0.3.0             r40hc72bb7e_0    conda-forge\n",
      "r-gower                   0.2.2             r40hcfec24a_0    conda-forge\n",
      "r-gpfit                   1.0_8             r40hc72bb7e_1    conda-forge\n",
      "r-gtable                  0.3.0             r40hc72bb7e_3    conda-forge\n",
      "r-hardhat                 0.1.5             r40hc72bb7e_0    conda-forge\n",
      "r-haven                   2.4.1             r40h2713e49_0    conda-forge\n",
      "r-hexbin                  1.28.2            r40h859d828_0    conda-forge\n",
      "r-highr                   0.9               r40hc72bb7e_0    conda-forge\n",
      "r-hms                     1.1.0             r40hc72bb7e_0    conda-forge\n",
      "r-htmltools               0.5.1.1           r40h03ef668_0    conda-forge\n",
      "r-htmlwidgets             1.5.3             r40hc72bb7e_0    conda-forge\n",
      "r-httpuv                  1.6.1             r40h03ef668_0    conda-forge\n",
      "r-httr                    1.4.2             r40hc72bb7e_0    conda-forge\n",
      "r-ids                     1.0.1             r40hc72bb7e_1    conda-forge\n",
      "r-infer                   0.5.4             r40hc72bb7e_0    conda-forge\n",
      "r-ini                     0.3.1           r40hc72bb7e_1003    conda-forge\n",
      "r-ipred                   0.9_11            r40hcfec24a_0    conda-forge\n",
      "r-irdisplay               1.0               r40hd8ed1ab_0    conda-forge\n",
      "r-irkernel                1.1.1             r40h6115d3f_0    conda-forge\n",
      "r-isoband                 0.2.4             r40h03ef668_0    conda-forge\n",
      "r-iterators               1.0.13            r40hc72bb7e_0    conda-forge\n",
      "r-jquerylib               0.1.4             r40hc72bb7e_0    conda-forge\n",
      "r-jsonlite                1.7.2             r40hcfec24a_0    conda-forge\n",
      "r-kernsmooth              2.23_20           r40h742201e_0    conda-forge\n",
      "r-knitr                   1.33              r40hc72bb7e_0    conda-forge\n",
      "r-labeling                0.4.2             r40hc72bb7e_0    conda-forge\n",
      "r-later                   1.2.0             r40h03ef668_0    conda-forge\n",
      "r-lattice                 0.20_44           r40hcfec24a_0    conda-forge\n",
      "r-lava                    1.6.9             r40hc72bb7e_0    conda-forge\n",
      "r-lazyeval                0.2.2             r40hcfec24a_2    conda-forge\n",
      "r-lhs                     1.1.1             r40h03ef668_0    conda-forge\n",
      "r-lifecycle               1.0.0             r40hc72bb7e_0    conda-forge\n",
      "r-listenv                 0.8.0             r40hc72bb7e_1    conda-forge\n",
      "r-lmtest                  0.9_38            r40h859d828_1    conda-forge\n",
      "r-lubridate               1.7.10            r40h03ef668_0    conda-forge\n",
      "r-magrittr                2.0.1             r40hcfec24a_1    conda-forge\n",
      "r-markdown                1.1               r40hcfec24a_1    conda-forge\n",
      "r-mass                    7.3_54            r40hcfec24a_0    conda-forge\n",
      "r-matrix                  1.3_4             r40he454529_0    conda-forge\n",
      "r-memoise                 2.0.0             r40hc72bb7e_0    conda-forge\n",
      "r-mgcv                    1.8_36            r40he454529_0    conda-forge\n",
      "r-mime                    0.10              r40hcfec24a_0    conda-forge\n",
      "r-modeldata               0.1.0             r40hc72bb7e_0    conda-forge\n",
      "r-modelmetrics            1.2.2.2           r40h03ef668_1    conda-forge\n",
      "r-modelr                  0.1.8             r40hc72bb7e_0    conda-forge\n",
      "r-munsell                 0.5.0           r40hc72bb7e_1003    conda-forge\n",
      "r-nlme                    3.1_152           r40h859d828_0    conda-forge\n",
      "r-nnet                    7.3_16            r40hcfec24a_0    conda-forge\n",
      "r-numderiv                2016.8_1.1        r40hc72bb7e_3    conda-forge\n",
      "r-nycflights13            1.0.2             r40hc72bb7e_0    conda-forge\n",
      "r-openssl                 1.4.4             r40he36bf35_0    conda-forge\n",
      "r-parallelly              1.25.0            r40hc72bb7e_0    conda-forge\n",
      "r-parsnip                 0.1.6             r40hc72bb7e_0    conda-forge\n",
      "r-pbdzmq                  0.3_5             r40h42bf92c_1    conda-forge\n",
      "r-pillar                  1.6.1             r40hc72bb7e_0    conda-forge\n",
      "r-pkgbuild                1.2.0             r40hc72bb7e_0    conda-forge\n",
      "r-pkgconfig               2.0.3             r40hc72bb7e_1    conda-forge\n",
      "r-pkgload                 1.2.1             r40h03ef668_0    conda-forge\n",
      "r-plogr                   0.2.0           r40hc72bb7e_1003    conda-forge\n",
      "r-plyr                    1.8.6             r40h03ef668_1    conda-forge\n",
      "r-praise                  1.0.0           r40hc72bb7e_1004    conda-forge\n",
      "r-prettyunits             1.1.1             r40hc72bb7e_1    conda-forge\n",
      "r-proc                    1.17.0.1          r40h03ef668_0    conda-forge\n",
      "r-processx                3.5.2             r40hcfec24a_0    conda-forge\n",
      "r-prodlim                 2019.11.13        r40h03ef668_1    conda-forge\n",
      "r-progress                1.2.2             r40hc72bb7e_2    conda-forge\n",
      "r-promises                1.2.0.1           r40h03ef668_0    conda-forge\n",
      "r-ps                      1.6.0             r40hcfec24a_0    conda-forge\n",
      "r-purrr                   0.3.4             r40hcfec24a_1    conda-forge\n",
      "r-quadprog                1.5_8             r40h742201e_3    conda-forge\n",
      "r-quantmod                0.4.18            r40hc72bb7e_0    conda-forge\n",
      "r-r6                      2.5.0             r40hc72bb7e_0    conda-forge\n",
      "r-randomforest            4.6_14          r40h859d828_1004    conda-forge\n",
      "r-rappdirs                0.3.3             r40hcfec24a_0    conda-forge\n",
      "r-rcmdcheck               1.3.3             r40hc72bb7e_3    conda-forge\n",
      "r-rcolorbrewer            1.1_2           r40h785f33e_1003    conda-forge\n",
      "r-rcpp                    1.0.6             r40h03ef668_0    conda-forge\n",
      "r-rcpparmadillo           0.10.5.0.0        r40h306847c_0    conda-forge\n",
      "r-rcurl                   1.98_1.3          r40hcfec24a_0    conda-forge\n",
      "r-readr                   1.4.0             r40h03ef668_0    conda-forge\n",
      "r-readxl                  1.3.1             r40h2713e49_4    conda-forge\n",
      "r-recipes                 0.1.16            r40hc72bb7e_0    conda-forge\n",
      "r-rematch                 1.0.1           r40hc72bb7e_1003    conda-forge\n",
      "r-rematch2                2.1.2             r40hc72bb7e_1    conda-forge\n",
      "r-remotes                 2.3.0             r40hc72bb7e_0    conda-forge\n",
      "r-repr                    1.1.3             r40h785f33e_0    conda-forge\n",
      "r-reprex                  2.0.0             r40hc72bb7e_0    conda-forge\n",
      "r-reshape2                1.4.4             r40h03ef668_1    conda-forge\n",
      "r-rex                     1.2.0             r40hc72bb7e_1    conda-forge\n",
      "r-rlang                   0.4.11            r40hcfec24a_0    conda-forge\n",
      "r-rmarkdown               2.7               r40hc72bb7e_0    conda-forge\n",
      "r-rodbc                   1.3_17            r40hcfec24a_0    conda-forge\n",
      "r-roxygen2                7.1.1             r40h03ef668_0    conda-forge\n",
      "r-rpart                   4.1_15            r40hcfec24a_2    conda-forge\n",
      "r-rprojroot               2.0.2             r40hc72bb7e_0    conda-forge\n",
      "r-rsample                 0.1.0             r40hc72bb7e_0    conda-forge\n",
      "r-rsqlite                 2.2.5             r40h03ef668_0    conda-forge\n",
      "r-rstudioapi              0.13              r40hc72bb7e_0    conda-forge\n",
      "r-rversions               2.1.1             r40hc72bb7e_0    conda-forge\n",
      "r-rvest                   1.0.0             r40hc72bb7e_0    conda-forge\n",
      "r-sass                    0.4.0             r40h03ef668_0    conda-forge\n",
      "r-scales                  1.1.1             r40hc72bb7e_0    conda-forge\n",
      "r-selectr                 0.4_2             r40hc72bb7e_1    conda-forge\n",
      "r-sessioninfo             1.1.1           r40hc72bb7e_1002    conda-forge\n",
      "r-shiny                   1.6.0             r40hc72bb7e_0    conda-forge\n",
      "r-slider                  0.2.1             r40hcfec24a_1    conda-forge\n",
      "r-sourcetools             0.1.7           r40h9c3ff4c_1002    conda-forge\n",
      "r-squarem                 2021.1            r40hc72bb7e_0    conda-forge\n",
      "r-stringi                 1.6.2             r40hcabe038_0    conda-forge\n",
      "r-stringr                 1.4.0             r40hc72bb7e_2    conda-forge\n",
      "r-survival                3.2_11            r40hcfec24a_0    conda-forge\n",
      "r-sys                     3.4               r40hcfec24a_0    conda-forge\n",
      "r-testthat                3.0.2             r40h03ef668_0    conda-forge\n",
      "r-tibble                  3.1.2             r40hcfec24a_0    conda-forge\n",
      "r-tidymodels              0.1.3             r40hc72bb7e_0    conda-forge\n",
      "r-tidyr                   1.1.3             r40h03ef668_0    conda-forge\n",
      "r-tidyselect              1.1.1             r40hc72bb7e_0    conda-forge\n",
      "r-tidyverse               1.3.1             r40hc72bb7e_0    conda-forge\n",
      "r-timedate                3043.102        r40hc72bb7e_1002    conda-forge\n",
      "r-tinytex                 0.32              r40hc72bb7e_0    conda-forge\n",
      "r-tseries                 0.10_48           r40h742201e_0    conda-forge\n",
      "r-ttr                     0.24.2            r40hcfec24a_0    conda-forge\n",
      "r-tune                    0.1.5             r40hc72bb7e_0    conda-forge\n",
      "r-urca                    1.3_0           r40h859d828_1006    conda-forge\n",
      "r-usethis                 2.0.1             r40hc72bb7e_0    conda-forge\n",
      "r-utf8                    1.2.1             r40hcfec24a_0    conda-forge\n",
      "r-uuid                    0.1_4             r40hcfec24a_1    conda-forge\n",
      "r-vctrs                   0.3.8             r40hcfec24a_1    conda-forge\n",
      "r-viridislite             0.4.0             r40hc72bb7e_0    conda-forge\n",
      "r-waldo                   0.2.5             r40hc72bb7e_0    conda-forge\n",
      "r-warp                    0.2.0             r40hcfec24a_1    conda-forge\n",
      "r-whisker                 0.4               r40hc72bb7e_1    conda-forge\n",
      "r-withr                   2.4.2             r40hc72bb7e_0    conda-forge\n",
      "r-workflows               0.2.2             r40hc72bb7e_0    conda-forge\n",
      "r-workflowsets            0.0.2             r40hc72bb7e_0    conda-forge\n",
      "r-xfun                    0.23              r40h03ef668_0    conda-forge\n",
      "r-xml2                    1.3.2             r40h03ef668_1    conda-forge\n",
      "r-xopen                   1.0.0           r40hc72bb7e_1003    conda-forge\n",
      "r-xtable                  1.8_4             r40hc72bb7e_3    conda-forge\n",
      "r-xts                     0.12.1            r40hcfec24a_0    conda-forge\n",
      "r-yaml                    2.2.1             r40hcfec24a_1    conda-forge\n",
      "r-yardstick               0.0.8             r40h03ef668_0    conda-forge\n",
      "r-zip                     2.2.0             r40hcfec24a_0    conda-forge\n",
      "r-zoo                     1.8_9             r40hcfec24a_1    conda-forge\n",
      "readline                  8.1                  h46c0cb4_0    conda-forge\n",
      "reproc                    14.2.1               h36c2ea0_0    conda-forge\n",
      "reproc-cpp                14.2.1               h58526e2_0    conda-forge\n",
      "requests                  2.25.1             pyhd3deb0d_0    conda-forge\n",
      "requests-oauthlib         1.3.0                    pypi_0    pypi\n",
      "rpy2                      3.4.4           py39r40hce5d2b2_0    conda-forge\n",
      "rsa                       4.7.2                    pypi_0    pypi\n",
      "ruamel.yaml               0.17.7           py39h3811e60_0    conda-forge\n",
      "ruamel.yaml.clib          0.2.2            py39h3811e60_2    conda-forge\n",
      "ruamel_yaml               0.15.80         py39h3811e60_1004    conda-forge\n",
      "scikit-image              0.18.1           py39hde0f152_0    conda-forge\n",
      "scikit-learn              0.24.2           py39h4dfa638_0    conda-forge\n",
      "scipy                     1.6.3            py39hee8e79c_0    conda-forge\n",
      "seaborn                   0.11.1               hd8ed1ab_1    conda-forge\n",
      "seaborn-base              0.11.1             pyhd8ed1ab_1    conda-forge\n",
      "sed                       4.8                  he412f7d_0    conda-forge\n",
      "send2trash                1.5.0                      py_0    conda-forge\n",
      "setuptools                49.6.0           py39hf3d152e_3    conda-forge\n",
      "simplegeneric             0.8.1                      py_1    conda-forge\n",
      "six                       1.15.0                   pypi_0    pypi\n",
      "snappy                    1.1.8                he1b5a44_3    conda-forge\n",
      "sniffio                   1.2.0            py39hf3d152e_1    conda-forge\n",
      "sortedcontainers          2.4.0              pyhd8ed1ab_0    conda-forge\n",
      "soupsieve                 2.0.1                      py_1    conda-forge\n",
      "sqlalchemy                1.4.17           py39h3811e60_0    conda-forge\n",
      "sqlite                    3.35.5               h74cdb3f_0    conda-forge\n",
      "statsmodels               0.12.2           py39hce5d2b2_0    conda-forge\n",
      "sympy                     1.8              py39hf3d152e_0    conda-forge\n",
      "sysroot_linux-64          2.12                h77966d4_13    conda-forge\n",
      "tabulate                  0.8.9              pyhd8ed1ab_0    conda-forge\n",
      "tblib                     1.7.0              pyhd8ed1ab_0    conda-forge\n",
      "tensorboard               2.5.0                    pypi_0    pypi\n",
      "tensorboard-data-server   0.6.1                    pypi_0    pypi\n",
      "tensorboard-plugin-wit    1.8.0                    pypi_0    pypi\n",
      "tensorflow                2.5.0                    pypi_0    pypi\n",
      "tensorflow-estimator      2.5.0                    pypi_0    pypi\n",
      "termcolor                 1.1.0                    pypi_0    pypi\n",
      "terminado                 0.10.0           py39hf3d152e_0    conda-forge\n",
      "testpath                  0.5.0              pyhd8ed1ab_0    conda-forge\n",
      "threadpoolctl             2.1.0              pyh5ca1d4c_0    conda-forge\n",
      "tifffile                  2021.4.8           pyhd8ed1ab_0    conda-forge\n",
      "tk                        8.6.10               h21135ba_1    conda-forge\n",
      "tktable                   2.10                 hb7b940f_3    conda-forge\n",
      "toolz                     0.11.1                     py_0    conda-forge\n",
      "tornado                   6.1              py39h3811e60_1    conda-forge\n",
      "tqdm                      4.61.0             pyhd8ed1ab_0    conda-forge\n",
      "traitlets                 5.0.5                      py_0    conda-forge\n",
      "typing_extensions         3.7.4.3                    py_0    conda-forge\n",
      "tzdata                    2021a                he74cb21_0    conda-forge\n",
      "tzlocal                   2.1                pyh9f0ad1d_0    conda-forge\n",
      "unixodbc                  2.3.9                hb166930_0    conda-forge\n",
      "urllib3                   1.26.5             pyhd8ed1ab_0    conda-forge\n",
      "vincent                   0.4.4                      py_1    conda-forge\n",
      "watermark                 2.2.0              pyhd8ed1ab_0    conda-forge\n",
      "wcwidth                   0.2.5              pyh9f0ad1d_2    conda-forge\n",
      "webencodings              0.5.1                      py_1    conda-forge\n",
      "websocket-client          0.57.0           py39hf3d152e_4    conda-forge\n",
      "werkzeug                  2.0.1                    pypi_0    pypi\n",
      "wheel                     0.36.2             pyhd3deb0d_0    conda-forge\n",
      "widgetsnbextension        3.5.1            py39hf3d152e_4    conda-forge\n",
      "wrapt                     1.12.1                   pypi_0    pypi\n",
      "x264                      1!161.3030           h7f98852_0    conda-forge\n",
      "xarray                    0.18.2             pyhd8ed1ab_0    conda-forge\n",
      "xlrd                      2.0.1              pyhd8ed1ab_3    conda-forge\n",
      "xorg-kbproto              1.0.7             h7f98852_1002    conda-forge\n",
      "xorg-libice               1.0.10               h7f98852_0    conda-forge\n",
      "xorg-libsm                1.2.3             hd9c2040_1000    conda-forge\n",
      "xorg-libx11               1.7.1                h7f98852_0    conda-forge\n",
      "xorg-libxau               1.0.9                h7f98852_0    conda-forge\n",
      "xorg-libxdmcp             1.1.3                h7f98852_0    conda-forge\n",
      "xorg-libxext              1.3.4                h7f98852_1    conda-forge\n",
      "xorg-libxrender           0.9.10            h7f98852_1003    conda-forge\n",
      "xorg-libxt                1.2.1                h7f98852_2    conda-forge\n",
      "xorg-renderproto          0.11.1            h7f98852_1002    conda-forge\n",
      "xorg-xextproto            7.3.0             h7f98852_1002    conda-forge\n",
      "xorg-xproto               7.0.31            h7f98852_1007    conda-forge\n",
      "xz                        5.2.5                h516909a_1    conda-forge\n",
      "yaml                      0.2.5                h516909a_0    conda-forge\n",
      "zeromq                    4.3.4                h9c3ff4c_0    conda-forge\n",
      "zfp                       0.5.5                h9c3ff4c_5    conda-forge\n",
      "zict                      2.0.0                      py_0    conda-forge\n",
      "zipp                      3.4.1              pyhd8ed1ab_0    conda-forge\n",
      "zlib                      1.2.11            h516909a_1010    conda-forge\n",
      "zstd                      1.4.9                ha95c52a_0    conda-forge\n"
     ]
    },
    {
     "name": "stderr",
     "output_type": "stream",
     "text": [
      "WARNING conda.gateways.disk.delete:unlink_or_rename_to_trash(143): Could not remove or rename /opt/conda/conda-meta/h5py-3.2.1-nompi_py39h98ba4bc_100.json.  Please remove this file manually (you may need to reboot to free file handles)\n",
      "WARNING conda.gateways.disk.delete:unlink_or_rename_to_trash(143): Could not remove or rename /opt/conda/conda-meta/numpy-1.20.3-py39hdbf815f_1.json.  Please remove this file manually (you may need to reboot to free file handles)\n",
      "WARNING conda.gateways.disk.delete:unlink_or_rename_to_trash(143): Could not remove or rename /opt/conda/conda-meta/six-1.16.0-pyh6c4a22f_0.json.  Please remove this file manually (you may need to reboot to free file handles)\n"
     ]
    }
   ],
   "source": [
    "%%bash\n",
    "conda list"
   ]
  },
  {
   "cell_type": "code",
   "execution_count": 47,
   "metadata": {},
   "outputs": [
    {
     "name": "stdout",
     "output_type": "stream",
     "text": [
      "tensorflow                2.5.0                    pypi_0    pypi\n",
      "tensorflow-estimator      2.5.0                    pypi_0    pypi\n"
     ]
    },
    {
     "name": "stderr",
     "output_type": "stream",
     "text": [
      "WARNING conda.gateways.disk.delete:unlink_or_rename_to_trash(143): Could not remove or rename /opt/conda/conda-meta/h5py-3.2.1-nompi_py39h98ba4bc_100.json.  Please remove this file manually (you may need to reboot to free file handles)\n",
      "WARNING conda.gateways.disk.delete:unlink_or_rename_to_trash(143): Could not remove or rename /opt/conda/conda-meta/six-1.16.0-pyh6c4a22f_0.json.  Please remove this file manually (you may need to reboot to free file handles)\n",
      "WARNING conda.gateways.disk.delete:unlink_or_rename_to_trash(143): Could not remove or rename /opt/conda/conda-meta/numpy-1.20.3-py39hdbf815f_1.json.  Please remove this file manually (you may need to reboot to free file handles)\n"
     ]
    }
   ],
   "source": [
    "%%bash\n",
    "conda list | grep tensorflow"
   ]
  },
  {
   "cell_type": "markdown",
   "metadata": {},
   "source": [
    "These are the packages that are installed in the default environment. In our case they are part of the jupyter image that we loaded. \n",
    "\n",
    "However, when do you do if you need a package in different versions for different project, or do not want a very specific package that you need only for your very specific project and then never again to appear in the default environment?\n",
    "\n",
    "A `conda` environment can have different packages and package versions installed. In order to not create a mess using conflicting versions of Python modules or imagine your code only works with specific versions of Python modules, you can create and use different Python environments.\n",
    "\n",
    "**You can list the currently existing environments using**"
   ]
  },
  {
   "cell_type": "code",
   "execution_count": 7,
   "metadata": {},
   "outputs": [
    {
     "name": "stdout",
     "output_type": "stream",
     "text": [
      "# conda environments:\n",
      "#\n",
      "                         /home/jovyan/brain/bin/python/miniconda3\n",
      "                         /home/jovyan/brain/bin/python/miniconda3.7\n",
      "                         /home/jovyan/brain/bin/python/miniconda3/envs/bioconda\n",
      "base                  *  /opt/conda\n",
      "\n"
     ]
    }
   ],
   "source": [
    "%%bash\n",
    "conda env list"
   ]
  },
  {
   "cell_type": "markdown",
   "metadata": {},
   "source": [
    "<font size=\"3\"><b>You can create a new (empty) environment using</b></font>"
   ]
  },
  {
   "cell_type": "code",
   "execution_count": null,
   "metadata": {},
   "outputs": [],
   "source": [
    "%%bash\n",
    "conda create --name pyprog"
   ]
  },
  {
   "cell_type": "markdown",
   "metadata": {},
   "source": [
    "<font size=\"3\"><b>You can switch to a specific environment using</b></font>"
   ]
  },
  {
   "cell_type": "code",
   "execution_count": null,
   "metadata": {},
   "outputs": [],
   "source": [
    "%%bash\n",
    "conda activate new_env"
   ]
  },
  {
   "cell_type": "markdown",
   "metadata": {},
   "source": [
    "<font size=\"3\"><b>And check on the actual activated environment using</b></font>"
   ]
  },
  {
   "cell_type": "code",
   "execution_count": 8,
   "metadata": {},
   "outputs": [
    {
     "name": "stdout",
     "output_type": "stream",
     "text": [
      "\n",
      "     active environment : base\n",
      "    active env location : /home/mru/anaconda3\n",
      "            shell level : 1\n",
      "       user config file : /home/mru/.condarc\n",
      " populated config files : \n",
      "          conda version : 4.10.3\n",
      "    conda-build version : 3.20.5\n",
      "         python version : 3.8.5.final.0\n",
      "       virtual packages : __cuda=11.2=0\n",
      "                          __linux=5.8.0=0\n",
      "                          __glibc=2.32=0\n",
      "                          __unix=0=0\n",
      "                          __archspec=1=x86_64\n",
      "       base environment : /home/mru/anaconda3  (writable)\n",
      "      conda av data dir : /home/mru/anaconda3/etc/conda\n",
      "  conda av metadata url : None\n",
      "           channel URLs : https://repo.anaconda.com/pkgs/main/linux-64\n",
      "                          https://repo.anaconda.com/pkgs/main/noarch\n",
      "                          https://repo.anaconda.com/pkgs/r/linux-64\n",
      "                          https://repo.anaconda.com/pkgs/r/noarch\n",
      "          package cache : /home/mru/anaconda3/pkgs\n",
      "                          /home/mru/.conda/pkgs\n",
      "       envs directories : /home/mru/anaconda3/envs\n",
      "                          /home/mru/.conda/envs\n",
      "               platform : linux-64\n",
      "             user-agent : conda/4.10.3 requests/2.25.1 CPython/3.8.5 Linux/5.8.0-63-generic ubuntu/20.10 glibc/2.32\n",
      "                UID:GID : 1000:1000\n",
      "             netrc file : None\n",
      "           offline mode : False\n",
      "\n"
     ]
    }
   ],
   "source": [
    "%%bash\n",
    "conda info"
   ]
  },
  {
   "cell_type": "code",
   "execution_count": null,
   "metadata": {},
   "outputs": [],
   "source": [
    "%%bash\n",
    "conda deactivate"
   ]
  },
  {
   "cell_type": "markdown",
   "metadata": {},
   "source": [
    "<br><br><br>\n",
    "## Numpy \n",
    "\n",
    "Often, you have a file e.g. a CSV file with comma-separated values and you need to convert the content yourself to a table-like datastructure. In this example, we have the famous <a href=\"https://en.wikipedia.org/wiki/Iris_flower_data_set\">Iris dataset</a> (in this case a very popular standard data set in data science). Let's have a look at the first 10 lines of the file:"
   ]
  },
  {
   "cell_type": "code",
   "execution_count": 3,
   "metadata": {},
   "outputs": [
    {
     "name": "stdout",
     "output_type": "stream",
     "text": [
      "sepal_length,sepal_width,petal_length,petal_width,species\n",
      "5.1,3.5,1.4,0.2,setosa\n",
      "4.9,3.0,1.4,0.2,setosa\n",
      "4.7,3.2,1.3,0.2,setosa\n",
      "4.6,3.1,1.5,0.2,setosa\n",
      "5.0,3.6,1.4,0.2,setosa\n",
      "5.4,3.9,1.7,0.4,setosa\n",
      "4.6,3.4,1.4,0.3,setosa\n",
      "5.0,3.4,1.5,0.2,setosa\n",
      "4.4,2.9,1.4,0.2,setosa\n"
     ]
    }
   ],
   "source": [
    "%%bash\n",
    "head -n 10 data/iris.csv"
   ]
  },
  {
   "cell_type": "markdown",
   "metadata": {},
   "source": [
    "Of course, we could now manually readin the file line by line, but then we would need to process the strings and convert them to a table-like data structure. <b>Luckily, there are already functions in the 3rd party libraries <a href=\"https://numpy.org/\"><i>numpy</i></a> and <a href=\"https://pandas.pydata.org/\"><i>pandas</i></a> that solve this problem.\n",
    "    \n",
    "Recently, a <a href=\"https://www.nature.com/articles/s41586-020-2649-2\">paper</a> about the numpy Python package was published in *nature*.\n",
    "\n",
    "<img src=\"img/numpy_nature.webp\" width=\"100%\">\n",
    "\n",
    "*Source: <a href=\"https://www.nature.com/articles/s41586-020-2649-2\">https://www.nature.com/articles/s41586-020-2649-2*\n",
    "    \n",
    "**Numpy** is a powerful 3rd party package offering the new data type of the <b><i>numpy array</i></b> (numpy.ndarray) with a more powerful and faster implementation in C++ in the background. **Numpy** is essential for scientific programming. In contrast to lists in Python, <b>the size of a numpy array cannot be changed without creating a new array and the best practice is to allocate space in advance by initializing an empty array (e.g. filled with zeros)</b>. Also, the data type of its elements shouldn't differ and the number of elements in each row or column has to be the same, since <b>the numpy array represents a N x M matrix.<br><br>\n",
    "<b>To sum it up, a numpy array behaves like a \"classic\" array in other high-level programming languages due to it's precompiled C++ implementation in the background.</b><br><br>\n",
    "<font size=\"3\">In order to use Numpy, you have to import the package once. Since you will in the following often have to refer to numpy, we assign an alias that is faster to type (np) since programmers are lazy:</font>\n",
    "</font>"
   ]
  },
  {
   "cell_type": "code",
   "execution_count": 15,
   "metadata": {},
   "outputs": [],
   "source": [
    "# import num<py with alias np\n",
    "import numpy as np"
   ]
  },
  {
   "cell_type": "markdown",
   "metadata": {},
   "source": [
    "### NumPy Array\n",
    "\n",
    "<br>\n",
    "<font size=\"3\">A NumPy Array can have many dimensions. Let's start with one (similar to a Python list) and two dimensions (similar to a matrix):</font>"
   ]
  },
  {
   "cell_type": "code",
   "execution_count": 16,
   "metadata": {},
   "outputs": [
    {
     "name": "stdout",
     "output_type": "stream",
     "text": [
      "type(arr1) = <class 'numpy.ndarray'>\n",
      "arr1 = [1.    2.35  3.141]\n",
      "arr1.dtype = float64\n"
     ]
    }
   ],
   "source": [
    "# create a numpy array from a list\n",
    "arr1 = np.array([1.0,2.35,3.141])\n",
    "print(\"type(arr1) =\", type(arr1))\n",
    "print(\"arr1 =\", arr1)\n",
    "print(\"arr1.dtype =\", arr1.dtype)"
   ]
  },
  {
   "cell_type": "code",
   "execution_count": 17,
   "metadata": {},
   "outputs": [
    {
     "name": "stdout",
     "output_type": "stream",
     "text": [
      "type(arr2) = <class 'numpy.ndarray'>\n",
      "arr2 = \n",
      " [[0. 0. 0.]\n",
      " [0. 0. 0.]\n",
      " [0. 0. 0.]]\n",
      "arr2.dtype = float64\n"
     ]
    }
   ],
   "source": [
    "# create an 2D array / a 3x3 matrix filled with zeros\n",
    "arr2 = np.zeros((3,3))\n",
    "print(\"type(arr2) =\", type(arr2))\n",
    "print(\"arr2 = \\n\", arr2)\n",
    "print(\"arr2.dtype =\", arr2.dtype)"
   ]
  },
  {
   "cell_type": "code",
   "execution_count": 18,
   "metadata": {},
   "outputs": [
    {
     "name": "stdout",
     "output_type": "stream",
     "text": [
      "arr3 = \n",
      " [[2 2]\n",
      " [2 2]\n",
      " [2 2]]\n",
      "arr3.dtype = int64\n"
     ]
    }
   ],
   "source": [
    "# create a numpy array filled with a specific value\n",
    "arr3 = np.full((3,2), 2)\n",
    "print(\"arr3 = \\n\", arr3)\n",
    "print(\"arr3.dtype =\", arr3.dtype)"
   ]
  },
  {
   "cell_type": "markdown",
   "metadata": {},
   "source": [
    "Question: In the above cell, why is the dtype suddenly integer?"
   ]
  },
  {
   "cell_type": "code",
   "execution_count": 19,
   "metadata": {},
   "outputs": [
    {
     "name": "stdout",
     "output_type": "stream",
     "text": [
      "type(arr2) = <class 'numpy.ndarray'>\n",
      "arr2 = \n",
      " [[1. 0. 0.]\n",
      " [0. 2. 0.]\n",
      " [0. 0. 3.]]\n",
      "arr2.dtype = float64\n"
     ]
    }
   ],
   "source": [
    "# index an array element in a multi-dimensional array\n",
    "arr2[0,0] = 1\n",
    "arr2[1,1] = 2\n",
    "arr2[2,2] = 3\n",
    "print(\"type(arr2) =\", type(arr2))\n",
    "print(\"arr2 = \\n\", arr2)\n",
    "print(\"arr2.dtype =\", arr2.dtype)"
   ]
  },
  {
   "cell_type": "markdown",
   "metadata": {},
   "source": [
    "Sliced indexing follows the same rules as for regular python lists:"
   ]
  },
  {
   "cell_type": "code",
   "execution_count": 35,
   "metadata": {},
   "outputs": [
    {
     "name": "stdout",
     "output_type": "stream",
     "text": [
      "sliced arr2 = \n",
      " [[0. 2.]\n",
      " [0. 0.]]\n"
     ]
    }
   ],
   "source": [
    "#take all elements after the first from the first axis and all elements except the last from the second axis\n",
    "#returns a \"view\" into the original array without copying anything\n",
    "sliced_arr2 = arr2[1:, :-1] \n",
    "print(\"sliced arr2 = \\n\", sliced_arr2)"
   ]
  },
  {
   "cell_type": "code",
   "execution_count": 20,
   "metadata": {},
   "outputs": [
    {
     "name": "stdout",
     "output_type": "stream",
     "text": [
      "arr2.size = 9\n",
      "arr2.shape = (3, 3)\n"
     ]
    }
   ],
   "source": [
    "# using the attribute \"size\" of the numpy array is more reliable than using the len() function\n",
    "# the attribute \"shape\" contains a tuple with the array or matrix dimensions\n",
    "print(\"arr2.size =\", arr2.size)\n",
    "# convention for the shape tuple: (number of rows, number of columns) in case of a 2D array\n",
    "print(\"arr2.shape =\", arr2.shape)"
   ]
  },
  {
   "cell_type": "markdown",
   "metadata": {},
   "source": [
    "Sometimes you want or need to change the shape of your numpy array using the `reshape` method:"
   ]
  },
  {
   "cell_type": "code",
   "execution_count": 32,
   "metadata": {},
   "outputs": [
    {
     "name": "stdout",
     "output_type": "stream",
     "text": [
      "content of arr3:\n",
      "[[2 3]\n",
      " [3 5]\n",
      " [6 4]]\n",
      "shape of arr3:\n",
      "(3, 2)\n",
      "reshaped array:\n",
      " [[2 3 3]\n",
      " [5 6 4]]\n",
      "shape of the reshaped array: (2, 3)\n"
     ]
    }
   ],
   "source": [
    "# defines a numpy array with row number unequal column number\n",
    "arr3 = np.array([[2,3],[3,5],[6,4]])\n",
    "print(\"content of arr3:\")\n",
    "print(arr3)\n",
    "\n",
    "# prints the shape (number of rows, number of columns)\n",
    "print(\"shape of arr3:\")\n",
    "print(arr3.shape)\n",
    "\n",
    "# the same result could be achieved using the reshape method expecting a tuple \n",
    "# (total number of elements needs to be the same!)\n",
    "arr4 = arr3.reshape(2,3)\n",
    "\n",
    "print(\"reshaped array:\\n\", arr4)\n",
    "print(\"shape of the reshaped array:\", arr4.shape)"
   ]
  },
  {
   "cell_type": "markdown",
   "metadata": {},
   "source": [
    "There is also the `transpose` method. Beware that it does *not* the same as `reshape`:"
   ]
  },
  {
   "cell_type": "code",
   "execution_count": 33,
   "metadata": {},
   "outputs": [
    {
     "name": "stdout",
     "output_type": "stream",
     "text": [
      "transposed array (rows and columns interchanged):\n",
      "[[2 3 6]\n",
      " [3 5 4]]\n",
      "shape of the transposed array: (2, 3)\n"
     ]
    }
   ],
   "source": [
    "# transposes the array / matrix\n",
    "arr5 = arr3.T\n",
    "print(\"transposed array (rows and columns interchanged):\")\n",
    "print(arr5)\n",
    "\n",
    "# prints the shape of the transposed array\n",
    "print(\"shape of the transposed array:\", arr5.shape)"
   ]
  },
  {
   "cell_type": "markdown",
   "metadata": {},
   "source": [
    "<font size=\"3\"><b>Often you would like to perform computations over an entire row or column of your array (hence your dataset), like:\n",
    "    </b></font>"
   ]
  },
  {
   "cell_type": "code",
   "execution_count": 5,
   "metadata": {},
   "outputs": [
    {
     "name": "stdout",
     "output_type": "stream",
     "text": [
      "random number array:\n",
      "[[ 0.69155771  1.05404779  2.00053817 -0.64287973 -1.88192273  0.71156505\n",
      "  -3.30040426 -0.09984976]\n",
      " [-1.27785057  1.29422894 -1.55355293  0.27523196  0.44118924  2.45971609\n",
      "   1.41526056 -0.2544128 ]\n",
      " [-1.22906163  0.07217583  1.1266327   0.11870389  2.02426348  2.43643977\n",
      "  -5.41346238  2.01616514]\n",
      " [ 1.14728963 -1.9920876  -4.01950574  1.94603574 -0.41840262  2.70844872\n",
      "  -2.78285757 -3.30599101]\n",
      " [-1.01774104 -0.67308274 -4.28079489  0.93496898  0.49920896 -0.09342604\n",
      "   0.69135856 -1.0535226 ]\n",
      " [-1.19669249  0.45463304 -3.88571074  2.45914936  1.66187442  1.20443317\n",
      "  -1.5861446  -0.56296328]]\n",
      "Overall mean:-0.22244172563587483\n",
      "Overall standard deviation:1.9508043415545768\n",
      "[-0.4804164   0.03498588 -1.76873224  0.84853503  0.38770179  1.57119613\n",
      " -1.82937495 -0.54342905]\n",
      "[-0.18341847  0.34997631  0.1439821  -0.8396338  -0.62412885 -0.18142764]\n"
     ]
    }
   ],
   "source": [
    "# generates a 2D matrix of random floating-point numbers\n",
    "# np.random.normal generates normally distributed random numbers and expects (mean, standard deviation, size=(a,b))\n",
    "arr = np.random.normal(0,2,size=(6,8))\n",
    "print(\"random number array:\")\n",
    "print(arr)\n",
    "\n",
    "# sums all values in each column\n",
    "col_sum = np.sum(arr, axis=0)\n",
    "#print(\"row_sum = \"+str(row_sum))\n",
    "\n",
    "# sums all values in each row\n",
    "row_sum = np.sum(arr, axis=1)\n",
    "#print(\"col_sum = \"+str(col_sum))\n",
    "\n",
    "# multiplies all values in each column\n",
    "col_prod = np.prod(arr, axis=0)\n",
    "#print(\"row_prod = \"+str(row_prod))\n",
    "\n",
    "# multiplies all values in each row\n",
    "row_prod = np.prod(arr, axis=1)\n",
    "#print(\"col_prod = \"+str(col_prod))\n",
    "\n",
    "# calculate mean\n",
    "total_mean = np.mean(arr)\n",
    "print(\"Overall mean:\"+str(total_mean))\n",
    "# calculate standard deviation\n",
    "total_std = np.std(arr)\n",
    "print(\"Overall standard deviation:\"+str(total_std))\n",
    "\n",
    "# calculate mean over all elements in a column (iterates over first array dimension)\n",
    "col_mean = np.mean(arr, axis=0)\n",
    "print(col_mean)\n",
    "\n",
    "# calculate mean over all elements in a row (iterates over second array dimension)\n",
    "col_mean = np.mean(arr, axis=1)\n",
    "print(col_mean)"
   ]
  },
  {
   "cell_type": "markdown",
   "metadata": {},
   "source": [
    "<font size=\"3\"><b>Of course, you can also do elementwise manipulations and matrix multiplications (that was one of the original purposes of numpy):</b></font>"
   ]
  },
  {
   "cell_type": "code",
   "execution_count": 6,
   "metadata": {},
   "outputs": [
    {
     "name": "stdout",
     "output_type": "stream",
     "text": [
      "arr:\n",
      "[1 2 3 4]\n",
      "result of arr * 3.141:\n",
      "[ 3.141  6.282  9.423 12.564]\n",
      "arr2:\n",
      "[5 6 0 1]\n",
      "result of arr * arr2:\n",
      "[ 5 12  0  4]\n",
      "result of arr (dot) arr2:\n",
      "21\n",
      "arr:\n",
      "[[1 2]\n",
      " [5 6]\n",
      " [4 2]]\n",
      "arr2:\n",
      "[[5 6 7]\n",
      " [2 3 2]]\n",
      "result of matmul(arr,arr2):\n",
      "[[ 9 12 11]\n",
      " [37 48 47]\n",
      " [24 30 32]]\n"
     ]
    }
   ],
   "source": [
    "arr = np.array([1,2,3,4])\n",
    "print(\"arr:\")\n",
    "print(arr)\n",
    "\n",
    "# e.g multiply each element with value\n",
    "print(\"result of arr * 3.141:\")\n",
    "print(arr * 3.141)\n",
    "\n",
    "# compute the products of two arrays element-wise\n",
    "arr2 = np.array([5,6,0,1])\n",
    "print(\"arr2:\")\n",
    "print(arr2)\n",
    "result = arr * arr2\n",
    "print(\"result of arr * arr2:\")\n",
    "print(result)\n",
    "\n",
    "# compute the dot or scalar product of two vectors\n",
    "result = np.dot(arr, arr2)\n",
    "print(\"result of arr (dot) arr2:\")\n",
    "print(result)\n",
    "\n",
    "# more general, compute the product of two matrices\n",
    "arr = np.array([[1,2],[5,6],[4,2]])\n",
    "arr2 = np.array([[5,6,7],[2,3,2]])\n",
    "print(\"arr:\")\n",
    "print(arr)\n",
    "print(\"arr2:\")\n",
    "print(arr2)\n",
    "result = np.matmul(arr, arr2)\n",
    "print(\"result of matmul(arr,arr2):\")\n",
    "print(result)"
   ]
  },
  {
   "cell_type": "markdown",
   "metadata": {},
   "source": [
    "<font size=\"3\"><b>Now back to our CSV file, we can read-in the file using <a href=\"https://numpy.org/doc/stable/reference/generated/numpy.genfromtxt.html\">numpy.genfromtxt</a></b></font>"
   ]
  },
  {
   "cell_type": "code",
   "execution_count": 36,
   "metadata": {},
   "outputs": [
    {
     "name": "stdout",
     "output_type": "stream",
     "text": [
      "\n",
      "    Load data from a text file, with missing values handled as specified.\n",
      "\n",
      "    Each line past the first `skip_header` lines is split at the `delimiter`\n",
      "    character, and characters following the `comments` character are discarded.\n",
      "\n",
      "    Parameters\n",
      "    ----------\n",
      "    fname : file, str, pathlib.Path, list of str, generator\n",
      "        File, filename, list, or generator to read.  If the filename\n",
      "        extension is `.gz` or `.bz2`, the file is first decompressed. Note\n",
      "        that generators must return byte strings. The strings\n",
      "        in a list or produced by a generator are treated as lines.\n",
      "    dtype : dtype, optional\n",
      "        Data type of the resulting array.\n",
      "        If None, the dtypes will be determined by the contents of each\n",
      "        column, individually.\n",
      "    comments : str, optional\n",
      "        The character used to indicate the start of a comment.\n",
      "        All the characters occurring on a line after a comment are discarded\n",
      "    delimiter : str, int, or sequence, optional\n",
      "        The string used to separate values.  By default, any consecutive\n",
      "        whitespaces act as delimiter.  An integer or sequence of integers\n",
      "        can also be provided as width(s) of each field.\n",
      "    skiprows : int, optional\n",
      "        `skiprows` was removed in numpy 1.10. Please use `skip_header` instead.\n",
      "    skip_header : int, optional\n",
      "        The number of lines to skip at the beginning of the file.\n",
      "    skip_footer : int, optional\n",
      "        The number of lines to skip at the end of the file.\n",
      "    converters : variable, optional\n",
      "        The set of functions that convert the data of a column to a value.\n",
      "        The converters can also be used to provide a default value\n",
      "        for missing data: ``converters = {3: lambda s: float(s or 0)}``.\n",
      "    missing : variable, optional\n",
      "        `missing` was removed in numpy 1.10. Please use `missing_values`\n",
      "        instead.\n",
      "    missing_values : variable, optional\n",
      "        The set of strings corresponding to missing data.\n",
      "    filling_values : variable, optional\n",
      "        The set of values to be used as default when the data are missing.\n",
      "    usecols : sequence, optional\n",
      "        Which columns to read, with 0 being the first.  For example,\n",
      "        ``usecols = (1, 4, 5)`` will extract the 2nd, 5th and 6th columns.\n",
      "    names : {None, True, str, sequence}, optional\n",
      "        If `names` is True, the field names are read from the first line after\n",
      "        the first `skip_header` lines.  This line can optionally be proceeded\n",
      "        by a comment delimiter. If `names` is a sequence or a single-string of\n",
      "        comma-separated names, the names will be used to define the field names\n",
      "        in a structured dtype. If `names` is None, the names of the dtype\n",
      "        fields will be used, if any.\n",
      "    excludelist : sequence, optional\n",
      "        A list of names to exclude. This list is appended to the default list\n",
      "        ['return','file','print']. Excluded names are appended an underscore:\n",
      "        for example, `file` would become `file_`.\n",
      "    deletechars : str, optional\n",
      "        A string combining invalid characters that must be deleted from the\n",
      "        names.\n",
      "    defaultfmt : str, optional\n",
      "        A format used to define default field names, such as \"f%i\" or \"f_%02i\".\n",
      "    autostrip : bool, optional\n",
      "        Whether to automatically strip white spaces from the variables.\n",
      "    replace_space : char, optional\n",
      "        Character(s) used in replacement of white spaces in the variables\n",
      "        names. By default, use a '_'.\n",
      "    case_sensitive : {True, False, 'upper', 'lower'}, optional\n",
      "        If True, field names are case sensitive.\n",
      "        If False or 'upper', field names are converted to upper case.\n",
      "        If 'lower', field names are converted to lower case.\n",
      "    unpack : bool, optional\n",
      "        If True, the returned array is transposed, so that arguments may be\n",
      "        unpacked using ``x, y, z = loadtxt(...)``\n",
      "    usemask : bool, optional\n",
      "        If True, return a masked array.\n",
      "        If False, return a regular array.\n",
      "    loose : bool, optional\n",
      "        If True, do not raise errors for invalid values.\n",
      "    invalid_raise : bool, optional\n",
      "        If True, an exception is raised if an inconsistency is detected in the\n",
      "        number of columns.\n",
      "        If False, a warning is emitted and the offending lines are skipped.\n",
      "    max_rows : int,  optional\n",
      "        The maximum number of rows to read. Must not be used with skip_footer\n",
      "        at the same time.  If given, the value must be at least 1. Default is\n",
      "        to read the entire file.\n",
      "\n",
      "        .. versionadded:: 1.10.0\n",
      "    encoding : str, optional\n",
      "        Encoding used to decode the inputfile. Does not apply when `fname` is\n",
      "        a file object.  The special value 'bytes' enables backward compatibility\n",
      "        workarounds that ensure that you receive byte arrays when possible\n",
      "        and passes latin1 encoded strings to converters. Override this value to\n",
      "        receive unicode arrays and pass strings as input to converters.  If set\n",
      "        to None the system default is used. The default value is 'bytes'.\n",
      "\n",
      "        .. versionadded:: 1.14.0\n",
      "\n",
      "    Returns\n",
      "    -------\n",
      "    out : ndarray\n",
      "        Data read from the text file. If `usemask` is True, this is a\n",
      "        masked array.\n",
      "\n",
      "    See Also\n",
      "    --------\n",
      "    numpy.loadtxt : equivalent function when no data is missing.\n",
      "\n",
      "    Notes\n",
      "    -----\n",
      "    * When spaces are used as delimiters, or when no delimiter has been given\n",
      "      as input, there should not be any missing data between two fields.\n",
      "    * When the variables are named (either by a flexible dtype or with `names`),\n",
      "      there must not be any header in the file (else a ValueError\n",
      "      exception is raised).\n",
      "    * Individual values are not stripped of spaces by default.\n",
      "      When using a custom converter, make sure the function does remove spaces.\n",
      "\n",
      "    References\n",
      "    ----------\n",
      "    .. [1] NumPy User Guide, section `I/O with NumPy\n",
      "           <https://docs.scipy.org/doc/numpy/user/basics.io.genfromtxt.html>`_.\n",
      "\n",
      "    Examples\n",
      "    ---------\n",
      "    >>> from io import StringIO\n",
      "    >>> import numpy as np\n",
      "\n",
      "    Comma delimited file with mixed dtype\n",
      "\n",
      "    >>> s = StringIO(u\"1,1.3,abcde\")\n",
      "    >>> data = np.genfromtxt(s, dtype=[('myint','i8'),('myfloat','f8'),\n",
      "    ... ('mystring','S5')], delimiter=\",\")\n",
      "    >>> data\n",
      "    array((1, 1.3, b'abcde'),\n",
      "          dtype=[('myint', '<i8'), ('myfloat', '<f8'), ('mystring', 'S5')])\n",
      "\n",
      "    Using dtype = None\n",
      "\n",
      "    >>> _ = s.seek(0) # needed for StringIO example only\n",
      "    >>> data = np.genfromtxt(s, dtype=None,\n",
      "    ... names = ['myint','myfloat','mystring'], delimiter=\",\")\n",
      "    >>> data\n",
      "    array((1, 1.3, b'abcde'),\n",
      "          dtype=[('myint', '<i8'), ('myfloat', '<f8'), ('mystring', 'S5')])\n",
      "\n",
      "    Specifying dtype and names\n",
      "\n",
      "    >>> _ = s.seek(0)\n",
      "    >>> data = np.genfromtxt(s, dtype=\"i8,f8,S5\",\n",
      "    ... names=['myint','myfloat','mystring'], delimiter=\",\")\n",
      "    >>> data\n",
      "    array((1, 1.3, b'abcde'),\n",
      "          dtype=[('myint', '<i8'), ('myfloat', '<f8'), ('mystring', 'S5')])\n",
      "\n",
      "    An example with fixed-width columns\n",
      "\n",
      "    >>> s = StringIO(u\"11.3abcde\")\n",
      "    >>> data = np.genfromtxt(s, dtype=None, names=['intvar','fltvar','strvar'],\n",
      "    ...     delimiter=[1,3,5])\n",
      "    >>> data\n",
      "    array((1, 1.3, b'abcde'),\n",
      "          dtype=[('intvar', '<i8'), ('fltvar', '<f8'), ('strvar', 'S5')])\n",
      "\n",
      "    An example to show comments\n",
      "\n",
      "    >>> f = StringIO('''\n",
      "    ... text,# of chars\n",
      "    ... hello world,11\n",
      "    ... numpy,5''')\n",
      "    >>> np.genfromtxt(f, dtype='S12,S12', delimiter=',')\n",
      "    array([(b'text', b''), (b'hello world', b'11'), (b'numpy', b'5')],\n",
      "      dtype=[('f0', 'S12'), ('f1', 'S12')])\n",
      "\n",
      "    \n"
     ]
    }
   ],
   "source": [
    "# print the documentation string of the function\n",
    "print(np.genfromtxt.__doc__)"
   ]
  },
  {
   "cell_type": "code",
   "execution_count": 37,
   "metadata": {},
   "outputs": [
    {
     "name": "stdout",
     "output_type": "stream",
     "text": [
      "type(iris_data) = <class 'numpy.ndarray'>\n",
      "iris_data[:20] = [(5.1, 3.5, 1.4, 0.2, nan) (4.9, 3. , 1.4, 0.2, nan)\n",
      " (4.7, 3.2, 1.3, 0.2, nan) (4.6, 3.1, 1.5, 0.2, nan)\n",
      " (5. , 3.6, 1.4, 0.2, nan) (5.4, 3.9, 1.7, 0.4, nan)\n",
      " (4.6, 3.4, 1.4, 0.3, nan) (5. , 3.4, 1.5, 0.2, nan)\n",
      " (4.4, 2.9, 1.4, 0.2, nan) (4.9, 3.1, 1.5, 0.1, nan)\n",
      " (5.4, 3.7, 1.5, 0.2, nan) (4.8, 3.4, 1.6, 0.2, nan)\n",
      " (4.8, 3. , 1.4, 0.1, nan) (4.3, 3. , 1.1, 0.1, nan)\n",
      " (5.8, 4. , 1.2, 0.2, nan) (5.7, 4.4, 1.5, 0.4, nan)\n",
      " (5.4, 3.9, 1.3, 0.4, nan) (5.1, 3.5, 1.4, 0.3, nan)\n",
      " (5.7, 3.8, 1.7, 0.3, nan) (5.1, 3.8, 1.5, 0.3, nan)]\n",
      "iris_data.dtype = \n",
      "[('sepal_length', '<f8'), ('sepal_width', '<f8'), ('petal_length', '<f8'), ('petal_width', '<f8'), ('species', '<f8')]\n"
     ]
    }
   ],
   "source": [
    "# load data file and convert it to (named) numpy array\n",
    "iris_data = np.genfromtxt(\"data/iris.csv\", names=True, delimiter=\",\")\n",
    "# output just the first 20 rows\n",
    "print(\"type(iris_data) = \"+str(type(iris_data)))\n",
    "print(\"iris_data[:20] = \"+str(iris_data[:20]))\n",
    "#print the guess data types for the columns of the table\n",
    "print(\"iris_data.dtype = \\n\"+str(iris_data.dtype))"
   ]
  },
  {
   "cell_type": "markdown",
   "metadata": {},
   "source": [
    "<font size=\"3\"><b>Obviously, the numpy function couldn't properly guess the data type of the last column (just returning a <i>NaN</i> (not an number). But we can correct that:</b></font>"
   ]
  },
  {
   "cell_type": "code",
   "execution_count": 68,
   "metadata": {},
   "outputs": [
    {
     "name": "stdout",
     "output_type": "stream",
     "text": [
      "iris_data[:20] = [(5.1, 3.5, 1.4, 0.2, 'setosa') (4.9, 3. , 1.4, 0.2, 'setosa')\n",
      " (4.7, 3.2, 1.3, 0.2, 'setosa') (4.6, 3.1, 1.5, 0.2, 'setosa')\n",
      " (5. , 3.6, 1.4, 0.2, 'setosa') (5.4, 3.9, 1.7, 0.4, 'setosa')\n",
      " (4.6, 3.4, 1.4, 0.3, 'setosa') (5. , 3.4, 1.5, 0.2, 'setosa')\n",
      " (4.4, 2.9, 1.4, 0.2, 'setosa') (4.9, 3.1, 1.5, 0.1, 'setosa')\n",
      " (5.4, 3.7, 1.5, 0.2, 'setosa') (4.8, 3.4, 1.6, 0.2, 'setosa')\n",
      " (4.8, 3. , 1.4, 0.1, 'setosa') (4.3, 3. , 1.1, 0.1, 'setosa')\n",
      " (5.8, 4. , 1.2, 0.2, 'setosa') (5.7, 4.4, 1.5, 0.4, 'setosa')\n",
      " (5.4, 3.9, 1.3, 0.4, 'setosa') (5.1, 3.5, 1.4, 0.3, 'setosa')\n",
      " (5.7, 3.8, 1.7, 0.3, 'setosa') (5.1, 3.8, 1.5, 0.3, 'setosa')]\n",
      "iris_data.dtype = \n",
      "[('sepal_length', '<f4'), ('sepal_width', '<f4'), ('petal_length', '<f4'), ('petal_width', '<f4'), ('species', '<U16')]\n"
     ]
    }
   ],
   "source": [
    "# load data file again with defined data types and column names and \n",
    "# convert it to (named) numpy array\n",
    "iris_data = np.genfromtxt(\"data/iris.csv\", names=True,\\\n",
    "                          dtype=[('sepal_length', np.float32), ('sepal_width', np.float32),\\\n",
    "                                ('petal_length', np.float32), ('petal_width', np.float32),\\\n",
    "                                ('species', \"<U16\")], delimiter=\",\")\n",
    "print(\"iris_data[:20] = \"+str(iris_data[:20]))\n",
    "#print the guess data types for the columns of the table\n",
    "print(\"iris_data.dtype = \\n\"+str(iris_data.dtype))"
   ]
  },
  {
   "cell_type": "code",
   "execution_count": 69,
   "metadata": {},
   "outputs": [
    {
     "name": "stdout",
     "output_type": "stream",
     "text": [
      "iris_data['sepal_length'] = \n",
      "[5.1 4.9 4.7 4.6 5.  5.4 4.6 5.  4.4 4.9 5.4 4.8 4.8 4.3 5.8 5.7 5.4 5.1\n",
      " 5.7 5.1]\n"
     ]
    }
   ],
   "source": [
    "# access column data with column name\n",
    "print(\"iris_data['sepal_length'] = \\n\"+str(iris_data['sepal_length'][:20]))"
   ]
  },
  {
   "cell_type": "code",
   "execution_count": 70,
   "metadata": {},
   "outputs": [
    {
     "name": "stdout",
     "output_type": "stream",
     "text": [
      "Mean of column sepal_length:5.8433332\n",
      "Std of column sepal_length:0.8253013\n",
      "Mean of column sepal_length:5.843\n"
     ]
    }
   ],
   "source": [
    "#work with the data\n",
    "#compute mean of column\n",
    "mean = np.mean(iris_data['sepal_length'])\n",
    "#compute standard deviation of column\n",
    "std = np.std(iris_data['sepal_length'], axis=0)\n",
    "print(\"Mean of column sepal_length:\" + str(mean))\n",
    "print(\"Std of column sepal_length:\" + str(std))\n",
    "\n",
    "# round to n significant digits with np.round\n",
    "print(\"Mean of column sepal_length:\" + str(np.round(mean,3)))\n",
    "\n",
    "# or just change the number output format"
   ]
  },
  {
   "cell_type": "markdown",
   "metadata": {},
   "source": [
    "We now want to explore how to solve a relatively simple task in multiple ways to get a feeling of the variety of tools python proposes to us and an intuition of what to decide for depending on the complexity of the task.\n",
    "\n",
    "<div class=\"alert alert-block alert-success\"><b>Exercise:</b> We want to count the number of examples we have for each species (e.g. setosa). Try to solve this task...\n",
    "       <ol type=\"1\">\n",
    "           <li>using only basic python syntax and a <b>dict</b>.\n",
    "           <li>using the class <a href=\"https://docs.python.org/3/library/collections.html#collections.defaultdict\">defaultdict</a> from the standard library <b>collections</b>.\n",
    "           <li>using the <b>==</b> operator and <b>np.sum</b>.\n",
    "           <li>using the function <a href=\"https://numpy.org/doc/stable/reference/generated/numpy.unique.html\">numpy.unique</a> using the argument <i>return_counts</i>. \n",
    "       </ol>\n",
    "</div>"
   ]
  },
  {
   "cell_type": "code",
   "execution_count": 71,
   "metadata": {},
   "outputs": [],
   "source": [
    "# YOUR CODE HERE"
   ]
  },
  {
   "cell_type": "code",
   "execution_count": 74,
   "metadata": {},
   "outputs": [
    {
     "name": "stdout",
     "output_type": "stream",
     "text": [
      "1.\n",
      " {'setosa': 50, 'versicolor': 50, 'virginica': 50}\n",
      "2.\n",
      " defaultdict(<class 'int'>, {'setosa': 50, 'versicolor': 50, 'virginica': 50})\n",
      "3.\n",
      " {'setosa': 50, 'versicolor': 50, 'virginica': 50}\n",
      "4.\n",
      " (array(['setosa', 'versicolor', 'virginica'], dtype='<U16'), array([50, 50, 50]))\n"
     ]
    }
   ],
   "source": [
    "# example solution\n",
    "species = iris_data[\"species\"]\n",
    "\n",
    "# 1\n",
    "counts = {}\n",
    "for s in species:\n",
    "    if s in counts:\n",
    "        counts[s] += 1\n",
    "    else:\n",
    "        counts[s] = 1\n",
    "print(\"1.\\n\", counts)\n",
    "\n",
    "#2\n",
    "from collections import defaultdict\n",
    "counts = defaultdict(int) # values will default to 0\n",
    "for s in species: \n",
    "    counts[s] += 1\n",
    "print(\"2.\\n\", counts)\n",
    "\n",
    "#3 \n",
    "#using dictionary comprehension\n",
    "counts = {s : np.sum(species == s) for s in species}\n",
    "print(\"3.\\n\", counts)\n",
    "\n",
    "#4 \n",
    "counts = np.unique(species, return_counts=True)\n",
    "print(\"4.\\n\", counts)"
   ]
  },
  {
   "cell_type": "markdown",
   "metadata": {},
   "source": [
    "Lets do short discussion:\n",
    "\n",
    "1. Which is the most natural and readable attempt in your opinion?\n",
    "2. Is there a *best* way of solving this task?\n",
    "3. Do you ever want to use approach 1 over the others?"
   ]
  },
  {
   "cell_type": "markdown",
   "metadata": {},
   "source": [
    "<font size=\"3\"><div class=\"alert alert-block alert-success\"><b>Optional Exercise:</b> Write a function which loads a file (<b>in this case applied to <i>data/glass.csv<i></b>), print the shape of the resulting array, print the first N rows (adjustable via a function argument), compute and return the means and standard deviations for the data columns and print the results (adjustable via a parameter). The result of <b>numpy.genfromtxt is different in this case since glass.csv does not contain mixed data types. You don't need to specify the column data types in this case.</b><br><br>\n",
    "    <b>Hint:</b> <b>Use the numpy functions <a href=\"https://numpy.org/doc/stable/reference/generated/numpy.mean.html\">np.mean</a> and <a href=\"https://numpy.org/doc/stable/reference/generated/numpy.std.html\">np.std</a></b> to compute the mean and the standard deviaton. The parameter axis allows to specifiy for which dimension/axis you'd like to perform the computation. So you don't need to use a loop.<br><br>\n",
    "If you use the keyword argument <b>names = True</b> in numpy.genfromtxt, a named array will be returned where column data can be addressed via the column name defined in the first row of the file.\n",
    "</div>\n",
    "    \n",
    "<b>Try it yourself here:</b></font>"
   ]
  },
  {
   "cell_type": "code",
   "execution_count": null,
   "metadata": {},
   "outputs": [],
   "source": []
  },
  {
   "cell_type": "markdown",
   "metadata": {},
   "source": [
    "### Example Solution:"
   ]
  },
  {
   "cell_type": "code",
   "execution_count": 75,
   "metadata": {},
   "outputs": [
    {
     "name": "stdout",
     "output_type": "stream",
     "text": [
      "[[1.00000e+00 1.52101e+00 1.36400e+01 4.49000e+00 1.10000e+00 7.17800e+01\n",
      "  6.00000e-02 8.75000e+00 0.00000e+00 0.00000e+00 1.00000e+00]\n",
      " [2.00000e+00 1.51761e+00 1.38900e+01 3.60000e+00 1.36000e+00 7.27300e+01\n",
      "  4.80000e-01 7.83000e+00 0.00000e+00 0.00000e+00 1.00000e+00]\n",
      " [3.00000e+00 1.51618e+00 1.35300e+01 3.55000e+00 1.54000e+00 7.29900e+01\n",
      "  3.90000e-01 7.78000e+00 0.00000e+00 0.00000e+00 1.00000e+00]\n",
      " [4.00000e+00 1.51766e+00 1.32100e+01 3.69000e+00 1.29000e+00 7.26100e+01\n",
      "  5.70000e-01 8.22000e+00 0.00000e+00 0.00000e+00 1.00000e+00]\n",
      " [5.00000e+00 1.51742e+00 1.32700e+01 3.62000e+00 1.24000e+00 7.30800e+01\n",
      "  5.50000e-01 8.07000e+00 0.00000e+00 0.00000e+00 1.00000e+00]\n",
      " [6.00000e+00 1.51596e+00 1.27900e+01 3.61000e+00 1.62000e+00 7.29700e+01\n",
      "  6.40000e-01 8.07000e+00 0.00000e+00 2.60000e-01 1.00000e+00]\n",
      " [7.00000e+00 1.51743e+00 1.33000e+01 3.60000e+00 1.14000e+00 7.30900e+01\n",
      "  5.80000e-01 8.17000e+00 0.00000e+00 0.00000e+00 1.00000e+00]\n",
      " [8.00000e+00 1.51756e+00 1.31500e+01 3.61000e+00 1.05000e+00 7.32400e+01\n",
      "  5.70000e-01 8.24000e+00 0.00000e+00 0.00000e+00 1.00000e+00]\n",
      " [9.00000e+00 1.51918e+00 1.40400e+01 3.58000e+00 1.37000e+00 7.20800e+01\n",
      "  5.60000e-01 8.30000e+00 0.00000e+00 0.00000e+00 1.00000e+00]\n",
      " [1.00000e+01 1.51755e+00 1.30000e+01 3.60000e+00 1.36000e+00 7.29900e+01\n",
      "  5.70000e-01 8.40000e+00 0.00000e+00 1.10000e-01 1.00000e+00]]\n",
      "means:[1.07500000e+02 1.51836542e+00 1.34078505e+01 2.68453271e+00\n",
      " 1.44490654e+00 7.26509346e+01 4.97056075e-01 8.95696262e+00\n",
      " 1.75046729e-01 5.70093458e-02 2.78037383e+00]\n",
      "stds:[6.17758043e+01 3.02975995e-03 8.14693369e-01 1.43903379e+00\n",
      " 4.98101762e-01 7.72733989e-01 6.50666249e-01 1.41982447e+00\n",
      " 4.96056173e-01 9.72107735e-02 2.09881761e+00]\n"
     ]
    }
   ],
   "source": [
    "import numpy as np  \n",
    "def process_file(file, n_rows = 10, print_result = True): \n",
    "    glass_data = np.genfromtxt(file, delimiter=\",\", skip_header=1) \n",
    "    print(glass_data[:n_rows,:]) \n",
    "    means = np.mean(glass_data, axis = 0) \n",
    "    stds = np.std(glass_data, axis = 0) \n",
    "    if print_result: \n",
    "        print(\"means:\"+str(means)) \n",
    "        print(\"stds:\"+str(stds)) \n",
    "    return means, stds\n",
    "means, stds=process_file(\"data/glass.csv\", n_rows = 10, print_result = True)"
   ]
  },
  {
   "cell_type": "markdown",
   "metadata": {},
   "source": [
    "<br><br><br>\n",
    "## Visualizing Data with Matplotlib\n",
    "<br>\n",
    "<font size=\"3\">\n",
    "    <b>One picture can say more than 1000 words:</b> Visualizing your data is probably the most important aspect in your daily work routine. <a href=\"https://matplotlib.org/\">Matplotlib</a> is the most common Python package for data visualization offering a multitude of different plot types and options to tailor the plots according to your needs. Even Latex can be used to obtain nice looking plot titles, axes labels and annotations.<br><br>\n",
    "    <a href=\"https://matplotlib.org/gallery/index.html\">See a plot gallery here</a> of all the possibilities and functions matplotlib offers out-of-the-box.\n",
    "</font>\n",
    "\n",
    "### Example 1:"
   ]
  },
  {
   "cell_type": "markdown",
   "metadata": {},
   "source": [
    "<font size=\"3\">First you need to import the pyplot function from matplotlib using</font>"
   ]
  },
  {
   "cell_type": "code",
   "execution_count": 43,
   "metadata": {},
   "outputs": [],
   "source": [
    "import matplotlib.pyplot as plt"
   ]
  },
  {
   "cell_type": "markdown",
   "metadata": {},
   "source": [
    "<font size=\"3\">Then we plot a simple sine:</font>"
   ]
  },
  {
   "cell_type": "code",
   "execution_count": 59,
   "metadata": {
    "scrolled": true
   },
   "outputs": [
    {
     "data": {
      "text/plain": [
       "<matplotlib.legend.Legend at 0x7fcf98543fd0>"
      ]
     },
     "execution_count": 59,
     "metadata": {},
     "output_type": "execute_result"
    },
    {
     "data": {
      "image/png": "[encoded data removed]",
      "text/plain": [
       "<Figure size 640x480 with 1 Axes>"
      ]
     },
     "metadata": {
      "needs_background": "light"
     },
     "output_type": "display_data"
    }
   ],
   "source": [
    "# array [0, .01, .02, ..., 2*3.14]\n",
    "# one option is np.arange\n",
    "#x = np.arange(start = 0, stop = 2 * np.pi, step = 0.01) \n",
    "# another option is np.linspace\n",
    "x = np.linspace(0, 2*np.pi, 100)\n",
    "# applies sine elementwise\n",
    "y = np.sin(x) \n",
    "# data for the 2nd graph\n",
    "y2 = np.cos(x)\n",
    "\n",
    "# figure size and resolution in dpi (dots per inch)\n",
    "width_px = 640\n",
    "height_px = 480\n",
    "dpi = 100\n",
    "# create a figure\n",
    "fig = plt.figure(figsize=(width_px/dpi, height_px/dpi), dpi=dpi)\n",
    "# create a new plot\n",
    "ax = fig.add_subplot(111)\n",
    "# create the plot\n",
    "ax.plot(x, y, label=\"graph 1\")\n",
    "ax.plot(x, y2, color=\"red\", label=\"graph 2\")\n",
    "# adds a grid\n",
    "ax.grid(which=\"both\", color=\"gray\", linestyle=\":\")\n",
    "# semicolon suppresses output of last line in cell\n",
    "ax.set_title(\"Sine Wave\"); \n",
    "ax.set_xlabel(\"x\");\n",
    "ax.set_ylabel(\"y\");\n",
    "# adds a legend for the graphs in the plot\n",
    "ax.legend(loc=\"upper right\")"
   ]
  },
  {
   "cell_type": "code",
   "execution_count": 62,
   "metadata": {},
   "outputs": [
    {
     "data": {
      "text/plain": [
       "<matplotlib.legend.Legend at 0x7fcf98602d90>"
      ]
     },
     "execution_count": 62,
     "metadata": {},
     "output_type": "execute_result"
    },
    {
     "data": {
      "image/png": "[encoded data removed]",
      "text/plain": [
       "<Figure size 640x480 with 1 Axes>"
      ]
     },
     "metadata": {
      "needs_background": "light"
     },
     "output_type": "display_data"
    }
   ],
   "source": [
    "# array [0, .01, .02, ..., 2*3.14]\n",
    "# one option is np.arange\n",
    "#x = np.arange(start = 0, stop = 2 * np.pi, step = 0.01) \n",
    "# another option is np.linspace\n",
    "x = np.linspace(0, 2*np.pi, 20)\n",
    "# applies sine elementwise\n",
    "y = np.sin(x) \n",
    "# data for the 2nd graph\n",
    "y2 = np.cos(x)\n",
    "\n",
    "# figure size and resolution in dpi (dots per inch)\n",
    "width_px = 640\n",
    "height_px = 480\n",
    "dpi = 100\n",
    "# create a figure\n",
    "fig = plt.figure(figsize=(width_px/dpi, height_px/dpi), dpi=dpi)\n",
    "# create a new plot\n",
    "ax = fig.add_subplot(111)\n",
    "# create the plot\n",
    "ax.scatter(x, y, label=\"graph 1\")\n",
    "ax.scatter(x, y2, color=\"red\", label=\"graph 2\")\n",
    "# adds a grid\n",
    "ax.grid(which=\"both\", color=\"gray\", linestyle=\":\")\n",
    "# semicolon suppresses output of last line in cell\n",
    "ax.set_title(\"Sine Wave\"); \n",
    "ax.set_xlabel(\"x\");\n",
    "ax.set_ylabel(\"y\");\n",
    "# adds a legend for the graphs in the plot\n",
    "ax.legend(loc=\"upper right\")"
   ]
  },
  {
   "cell_type": "code",
   "execution_count": 82,
   "metadata": {},
   "outputs": [
    {
     "data": {
      "text/plain": [
       "<matplotlib.legend.Legend at 0x7fcf91bb8e50>"
      ]
     },
     "execution_count": 82,
     "metadata": {},
     "output_type": "execute_result"
    },
    {
     "data": {
      "image/png": "[encoded data removed]",
      "text/plain": [
       "<Figure size 640x480 with 1 Axes>"
      ]
     },
     "metadata": {
      "needs_background": "light"
     },
     "output_type": "display_data"
    }
   ],
   "source": [
    "# generates an array with normal distributed random values\n",
    "N = int(1E4)\n",
    "x = np.random.normal(0, 1, (N,))\n",
    "# applies sine elementwise\n",
    "y = np.random.normal(0, 1, (N,))\n",
    "\n",
    "# figure size and resolution in dpi (dots per inch)\n",
    "width_px = 640\n",
    "height_px = 480\n",
    "dpi = 100\n",
    "# create a figure\n",
    "fig = plt.figure(figsize=(width_px/dpi, height_px/dpi), dpi=dpi)\n",
    "# create a new plot\n",
    "ax = fig.add_subplot(111)\n",
    "# create the plot\n",
    "ax.scatter(x, y, label=\"graph 1\", s=1, color=\"black\", marker=\".\")\n",
    "# adds a grid\n",
    "ax.grid(which=\"both\", color=\"gray\", linestyle=\":\")\n",
    "# semicolon suppresses output of last line in cell\n",
    "ax.set_title(\"Random values\"); \n",
    "ax.set_xlabel(\"x\");\n",
    "ax.set_ylabel(\"y\");\n",
    "# adds a legend for the graphs in the plot\n",
    "ax.legend(loc=\"upper right\")"
   ]
  },
  {
   "cell_type": "markdown",
   "metadata": {},
   "source": [
    "### Example 2:"
   ]
  },
  {
   "cell_type": "code",
   "execution_count": 91,
   "metadata": {},
   "outputs": [
    {
     "data": {
      "image/png": "[encoded data removed]",
      "text/plain": [
       "<Figure size 432x288 with 1 Axes>"
      ]
     },
     "metadata": {
      "needs_background": "light"
     },
     "output_type": "display_data"
    }
   ],
   "source": [
    "Img = np.random.randint(low=0, high=255, size=(100, 100, 3), dtype='B') # B: unsigned byte (0..255)\n",
    "#print(Img) # Img is a three-dim array\n",
    "plt.imshow(Img, interpolation=\"none\"); # third dimension interpreted as red, green, blue\n",
    "# image coordinates are numbered as in matrices, first rows (top to bottom) then columns (left to right)"
   ]
  },
  {
   "cell_type": "markdown",
   "metadata": {},
   "source": [
    "### More complex Example 3:\n",
    "\n",
    "<br>\n",
    "<font size=\"3\">\n",
    "A more complex example demonstrating almost all capabilities to customize your plot:\n",
    "</font>"
   ]
  },
  {
   "cell_type": "code",
   "execution_count": 71,
   "metadata": {},
   "outputs": [
    {
     "data": {
      "image/png": "[encoded data removed]",
      "text/plain": [
       "<Figure size 600x450 with 1 Axes>"
      ]
     },
     "metadata": {
      "needs_background": "light"
     },
     "output_type": "display_data"
    }
   ],
   "source": [
    "# a very simple example to begin with\n",
    "import numpy as np\n",
    "from matplotlib import pyplot as plt\n",
    "\n",
    "# generate the data to plot\n",
    "omega = 1\n",
    "# yields a numpy array of N equidistant points on the given interval\n",
    "x = np.linspace(-2*np.pi, 2*np.pi, 100)\n",
    "y = np.sin(x)\n",
    "\n",
    "# here you can set the size and resolution of the plot\n",
    "#resolution in dpi = dots per inch\n",
    "# for the screen 75 to 120 dpi isfine\n",
    "# for a publication you'd need to use a higher resolution of 150 or 300 dpi\n",
    "dpi = 150\n",
    "# height in inch\n",
    "height = 3 \n",
    "# width in inch\n",
    "width = 4\n",
    "\n",
    "# initalize the new figure\n",
    "fig = plt.figure(figsize=(width, height), dpi=dpi)\n",
    "\n",
    "# Here you could specify multiple plots aside or in a matrix configurationn\n",
    "# we just want one plot in the figure, \n",
    "# thats why we set 111 = number of rows, number of columns, total num of plots\n",
    "ax = fig.add_subplot(111)\n",
    "\n",
    "# create the plot itself (a line plot connecting the points)\n",
    "# plot the sine\n",
    "ax.plot(x, y, color = \"r\", linestyle = \"--\", linewidth = 2, label = \"sine\")\n",
    "# plot a constant line at zero\n",
    "ax.plot(x, np.zeros(x.shape), color = \"black\", linestyle = \"-\", linewidth = 2, label = \"line\")\n",
    "# plot a graph\n",
    "ax.plot(x, x, color = \"blue\", linestyle = \":\", linewidth = 1, label = \"graph\")\n",
    "\n",
    "# use a grid in the background\n",
    "ax.grid(which=\"both\", color=\"gray\", linestyle=\"-.\", linewidth=0.5)\n",
    "\n",
    "# set the plot title using Latex\n",
    "# the semicolon at the end of the line is to suppress the output of the function\n",
    "# (one of the rare cases where you'd end a line of Python code with a semicolon)\n",
    "ax.set_title(\"A first plot of \" + r'$y = \\sin\\left(2 \\pi \\omega t\\right)$');\n",
    "\n",
    "# set the axes labels\n",
    "ax.set_xlabel(\"x\");\n",
    "ax.set_ylabel(r'$\\sum_{i=1}^{N} \\frac{1}{i} \\psi$');\n",
    "\n",
    "# normal string definition in Python uses \"string\"\n",
    "# in order to use Latex in title or axes label, use r'string'\n",
    "# Why is that?\n",
    "# If double quotation marks are used, the string is \"processed\" and the so-called escape sequences (e.g. \\n for a linebreak are replaced)\n",
    "# If single quotation marks like r'string' are used, the string is stored as it is.\n",
    "\n",
    "# use the plot legend\n",
    "# only works if keyword argument 'label' was given to the method plot\n",
    "ax.legend()\n",
    "\n",
    "# save the plot in a file\n",
    "# the file ending determines the format\n",
    "# valied formats are e.g. jpg, png for raster graphics (will become pixelated if you zoom in and the resolution is too small)\n",
    "# you can also export the plot as vector graphics with ending .eps (will be rendered at every zoom level)\n",
    "fig.savefig(\"plot.png\")"
   ]
  },
  {
   "cell_type": "markdown",
   "metadata": {},
   "source": [
    "### More complex Example 2:\n",
    "\n",
    "<br>\n",
    "<font size=\"3\">A histogram plot as more complex example for a plot:</font>"
   ]
  },
  {
   "cell_type": "code",
   "execution_count": 93,
   "metadata": {
    "scrolled": true
   },
   "outputs": [
    {
     "data": {
      "image/png": "[encoded data removed]",
      "text/plain": [
       "<Figure size 600x450 with 1 Axes>"
      ]
     },
     "metadata": {
      "needs_background": "light"
     },
     "output_type": "display_data"
    }
   ],
   "source": [
    "# a very simple example to begin with\n",
    "import numpy as np\n",
    "from matplotlib import pyplot as plt\n",
    "\n",
    "# generate data to work with\n",
    "num_values = 1E6\n",
    "x = np.random.normal(0,1,int(num_values))\n",
    "\n",
    "# here you can set the size and resolution of the plot\n",
    "#resolution in dpi = dots per inch\n",
    "# for the screen 75 to 120 dpi isfine\n",
    "# for a publication you'd need to use a higher resolution of 150 or 300 dpi\n",
    "dpi = 150\n",
    "# height in inch\n",
    "height = 3 \n",
    "# width in inch\n",
    "width = 4\n",
    "\n",
    "# initalize the new figure\n",
    "fig = plt.figure(figsize=(width, height), dpi=dpi)\n",
    "\n",
    "# Here you could specify multiple plots aside or in a matrix configurationn\n",
    "# we just want one plot in the figure, \n",
    "# thats why we set 111 = number of rows, number of columns, total num of plots\n",
    "ax = fig.add_subplot(111)\n",
    "\n",
    "# plots a histogram, use parameter density to normalize the vertical axis\n",
    "h=ax.hist(x, bins=100, color=\"black\", density=True)\n",
    "ax.set_ylabel(\"count\");\n",
    "ax.set_xlabel(\"x\");\n",
    "ax.set_title(\"A simple histogram\")\n",
    "ax.grid(which=\"both\",color=\"gray\",linewidth=0.5,linestyle=\"--\")"
   ]
  },
  {
   "cell_type": "markdown",
   "metadata": {},
   "source": [
    "<font size=\"3\">For further options to customize plots, have also a look at the predefined <a href=\"https://matplotlib.org/3.1.0/gallery/color/named_colors.html\">color</a> and <a href=\"https://matplotlib.org/3.3.1/api/_as_gen/matplotlib.lines.Line2D.html#matplotlib.lines.Line2D.lineStyles\">linestyle</a> or <a href=\"https://matplotlib.org/3.3.1/api/_as_gen/matplotlib.lines.Line2D.html#matplotlib.lines.Line2D.lineStyles\">here</a> keywords on the matplotlib website.</b>\n",
    "</font>"
   ]
  },
  {
   "cell_type": "markdown",
   "metadata": {},
   "source": [
    "<font size=\"3\">\n",
    "<div class=\"alert alert-warning\"><b>Exercise 5:</b> Create a plot for the function f(x) = 3x + 2 in the interval [-2, 3] in <b>black</b>. Also plot a horizontal, <b>red</b>, <b>dashed</b> line in the same graph at y = 1.\n",
    "<br><br>\n",
    "<b>Hint:</b> Use np.arange or <a href=\"https://numpy.org/doc/stable/reference/generated/numpy.linspace.html\">np.linspace</a> to create an array with x values. Use the style keywords color and linestyle to change the appearance of the graphs. Use <a href=\"https://numpy.org/doc/stable/reference/generated/numpy.full.html\">np.full</a> to create an array filled with a given value.\n",
    "</div>\n",
    "</font>"
   ]
  },
  {
   "cell_type": "markdown",
   "metadata": {},
   "source": [
    "### Try it yourself:"
   ]
  },
  {
   "cell_type": "code",
   "execution_count": null,
   "metadata": {},
   "outputs": [],
   "source": []
  },
  {
   "cell_type": "markdown",
   "metadata": {},
   "source": [
    "### Example Solution:"
   ]
  },
  {
   "cell_type": "code",
   "execution_count": 78,
   "metadata": {},
   "outputs": [
    {
     "data": {
      "text/plain": [
       "[<matplotlib.lines.Line2D at 0x7f70f24f0940>]"
      ]
     },
     "execution_count": 78,
     "metadata": {},
     "output_type": "execute_result"
    },
    {
     "data": {
      "image/png": "[encoded data removed]",
      "text/plain": [
       "<Figure size 432x288 with 1 Axes>"
      ]
     },
     "metadata": {
      "needs_background": "light"
     },
     "output_type": "display_data"
    }
   ],
   "source": [
    "from matplotlib import pyplot\n",
    "\n",
    "# creates an array with 100 values between -2 and 3 \n",
    "x = np.linspace(-2,3,100)\n",
    "y = 3 * x + 2\n",
    "# creates an array with 100 elements filled with 1\n",
    "y2 = np.full(100, 1)\n",
    "\n",
    "plt.plot(x,y,color=\"black\")\n",
    "plt.plot(x,y2,color=\"red\",linestyle=\"--\")"
   ]
  },
  {
   "cell_type": "markdown",
   "metadata": {},
   "source": [
    "<br><br><br>\n",
    "## A short introduction to Pandas\n",
    "\n",
    "<br>\n",
    "<font size=\"3\">\n",
    "Neither NumPy arrays, nor any of the native Python data structures (e.g. lists, dicts, ...) are suitable to handle the data that is typically generated in scientific experiments or by surveys. These are typically tables where one column contains one data type, but different columns may have different data types. As you could see, this is problematic when numpy is used. The solution in Python is to use <a href=\"https://pandas.pydata.org/\">Pandas</a>. Pandas is also most popular for time series data and it also facilitates any statistical evaluation on big data sets.\n",
    "<br><br>\n",
    "If we want to use Pandas, we have to import it:\n",
    "</font>"
   ]
  },
  {
   "cell_type": "code",
   "execution_count": 1,
   "metadata": {},
   "outputs": [],
   "source": [
    "import pandas as pd"
   ]
  },
  {
   "cell_type": "markdown",
   "metadata": {},
   "source": [
    "<font size=\"3\">\n",
    "With Pandas, we can easily import a csv file that had previously been exported from LibreOffice Calc (or similar Office software):\n",
    "</font>"
   ]
  },
  {
   "cell_type": "code",
   "execution_count": 2,
   "metadata": {},
   "outputs": [
    {
     "data": {
      "text/html": [
       "<div>\n",
       "<style scoped>\n",
       "    .dataframe tbody tr th:only-of-type {\n",
       "        vertical-align: middle;\n",
       "    }\n",
       "\n",
       "    .dataframe tbody tr th {\n",
       "        vertical-align: top;\n",
       "    }\n",
       "\n",
       "    .dataframe thead th {\n",
       "        text-align: right;\n",
       "    }\n",
       "</style>\n",
       "<table border=\"1\" class=\"dataframe\">\n",
       "  <thead>\n",
       "    <tr style=\"text-align: right;\">\n",
       "      <th></th>\n",
       "      <th>variety</th>\n",
       "      <th>yield</th>\n",
       "    </tr>\n",
       "  </thead>\n",
       "  <tbody>\n",
       "    <tr>\n",
       "      <th>0</th>\n",
       "      <td>A</td>\n",
       "      <td>25.12</td>\n",
       "    </tr>\n",
       "    <tr>\n",
       "      <th>1</th>\n",
       "      <td>A</td>\n",
       "      <td>17.25</td>\n",
       "    </tr>\n",
       "    <tr>\n",
       "      <th>2</th>\n",
       "      <td>A</td>\n",
       "      <td>26.42</td>\n",
       "    </tr>\n",
       "    <tr>\n",
       "      <th>3</th>\n",
       "      <td>A</td>\n",
       "      <td>16.08</td>\n",
       "    </tr>\n",
       "    <tr>\n",
       "      <th>4</th>\n",
       "      <td>A</td>\n",
       "      <td>22.15</td>\n",
       "    </tr>\n",
       "    <tr>\n",
       "      <th>5</th>\n",
       "      <td>A</td>\n",
       "      <td>15.92</td>\n",
       "    </tr>\n",
       "    <tr>\n",
       "      <th>6</th>\n",
       "      <td>B</td>\n",
       "      <td>40.25</td>\n",
       "    </tr>\n",
       "    <tr>\n",
       "      <th>7</th>\n",
       "      <td>B</td>\n",
       "      <td>35.25</td>\n",
       "    </tr>\n",
       "    <tr>\n",
       "      <th>8</th>\n",
       "      <td>B</td>\n",
       "      <td>31.98</td>\n",
       "    </tr>\n",
       "    <tr>\n",
       "      <th>9</th>\n",
       "      <td>B</td>\n",
       "      <td>36.52</td>\n",
       "    </tr>\n",
       "    <tr>\n",
       "      <th>10</th>\n",
       "      <td>B</td>\n",
       "      <td>43.32</td>\n",
       "    </tr>\n",
       "    <tr>\n",
       "      <th>11</th>\n",
       "      <td>B</td>\n",
       "      <td>37.10</td>\n",
       "    </tr>\n",
       "    <tr>\n",
       "      <th>12</th>\n",
       "      <td>C</td>\n",
       "      <td>18.30</td>\n",
       "    </tr>\n",
       "    <tr>\n",
       "      <th>13</th>\n",
       "      <td>C</td>\n",
       "      <td>22.60</td>\n",
       "    </tr>\n",
       "    <tr>\n",
       "      <th>14</th>\n",
       "      <td>C</td>\n",
       "      <td>25.90</td>\n",
       "    </tr>\n",
       "    <tr>\n",
       "      <th>15</th>\n",
       "      <td>C</td>\n",
       "      <td>15.05</td>\n",
       "    </tr>\n",
       "    <tr>\n",
       "      <th>16</th>\n",
       "      <td>C</td>\n",
       "      <td>11.42</td>\n",
       "    </tr>\n",
       "    <tr>\n",
       "      <th>17</th>\n",
       "      <td>C</td>\n",
       "      <td>23.68</td>\n",
       "    </tr>\n",
       "    <tr>\n",
       "      <th>18</th>\n",
       "      <td>D</td>\n",
       "      <td>28.55</td>\n",
       "    </tr>\n",
       "    <tr>\n",
       "      <th>19</th>\n",
       "      <td>D</td>\n",
       "      <td>28.05</td>\n",
       "    </tr>\n",
       "    <tr>\n",
       "      <th>20</th>\n",
       "      <td>D</td>\n",
       "      <td>33.20</td>\n",
       "    </tr>\n",
       "    <tr>\n",
       "      <th>21</th>\n",
       "      <td>D</td>\n",
       "      <td>31.68</td>\n",
       "    </tr>\n",
       "    <tr>\n",
       "      <th>22</th>\n",
       "      <td>D</td>\n",
       "      <td>30.32</td>\n",
       "    </tr>\n",
       "    <tr>\n",
       "      <th>23</th>\n",
       "      <td>D</td>\n",
       "      <td>27.58</td>\n",
       "    </tr>\n",
       "  </tbody>\n",
       "</table>\n",
       "</div>"
      ],
      "text/plain": [
       "   variety  yield\n",
       "0        A  25.12\n",
       "1        A  17.25\n",
       "2        A  26.42\n",
       "3        A  16.08\n",
       "4        A  22.15\n",
       "5        A  15.92\n",
       "6        B  40.25\n",
       "7        B  35.25\n",
       "8        B  31.98\n",
       "9        B  36.52\n",
       "10       B  43.32\n",
       "11       B  37.10\n",
       "12       C  18.30\n",
       "13       C  22.60\n",
       "14       C  25.90\n",
       "15       C  15.05\n",
       "16       C  11.42\n",
       "17       C  23.68\n",
       "18       D  28.55\n",
       "19       D  28.05\n",
       "20       D  33.20\n",
       "21       D  31.68\n",
       "22       D  30.32\n",
       "23       D  27.58"
      ]
     },
     "execution_count": 2,
     "metadata": {},
     "output_type": "execute_result"
    }
   ],
   "source": [
    "melon = pd.read_csv('data/melon.csv', sep='\\t')\n",
    "melon"
   ]
  },
  {
   "cell_type": "markdown",
   "metadata": {},
   "source": [
    "We can play with accessing parts of the melon data set. In pandas, we can use indexing in the table as usual with the `iloc` function."
   ]
  },
  {
   "cell_type": "code",
   "execution_count": 50,
   "metadata": {},
   "outputs": [
    {
     "name": "stdout",
     "output_type": "stream",
     "text": [
      "access lines 1 and 2, all columns:\n",
      "  variety  yield\n",
      "1       A  17.25\n",
      "2       A  26.42\n"
     ]
    }
   ],
   "source": [
    "print(\"access lines 1 and 2, all columns:\")\n",
    "# line index is 0-based\n",
    "# integer-location based indexing for selection by position\n",
    "print(melon.iloc[1:3,:])"
   ]
  },
  {
   "cell_type": "code",
   "execution_count": 3,
   "metadata": {},
   "outputs": [
    {
     "name": "stdout",
     "output_type": "stream",
     "text": [
      "access a particular single value as scalar:\n",
      "17.25\n"
     ]
    }
   ],
   "source": [
    "print(\"access a particular single value as scalar:\")\n",
    "print(melon.iloc[1,1])"
   ]
  },
  {
   "cell_type": "code",
   "execution_count": 4,
   "metadata": {},
   "outputs": [
    {
     "name": "stdout",
     "output_type": "stream",
     "text": [
      "access a column by name (only first couple of lines):\n",
      "0    A\n",
      "1    A\n",
      "2    A\n",
      "3    A\n",
      "4    A\n",
      "Name: variety, dtype: object\n"
     ]
    }
   ],
   "source": [
    "print(\"access a column by name (only first couple of lines):\")\n",
    "# access a whole column with column name as index\n",
    "print(melon[\"variety\"].head()) #melon.variety works as welL!"
   ]
  },
  {
   "cell_type": "code",
   "execution_count": 57,
   "metadata": {},
   "outputs": [
    {
     "name": "stdout",
     "output_type": "stream",
     "text": [
      "access multiple columns:\n",
      "  variety  yield\n",
      "0       A  25.12\n",
      "1       A  17.25\n",
      "2       A  26.42\n",
      "3       A  16.08\n",
      "4       A  22.15\n"
     ]
    }
   ],
   "source": [
    "print(\"access multiple columns:\")\n",
    "# access multiple columns with list of column names\n",
    "print(melon[[\"variety\",\"yield\"]].head())"
   ]
  },
  {
   "cell_type": "code",
   "execution_count": 58,
   "metadata": {},
   "outputs": [
    {
     "name": "stdout",
     "output_type": "stream",
     "text": [
      "yields rows of dataframe where yield >37:\n",
      "   variety  yield\n",
      "6        B  40.25\n",
      "10       B  43.32\n",
      "11       B  37.10\n"
     ]
    }
   ],
   "source": [
    "# like in Numpy we can also use comparisons in Pandas when elements are addressed\n",
    "print(\"yields rows of dataframe where yield >37:\")\n",
    "print(melon[melon['yield'] > 37])"
   ]
  },
  {
   "cell_type": "code",
   "execution_count": 59,
   "metadata": {},
   "outputs": [
    {
     "name": "stdout",
     "output_type": "stream",
     "text": [
      "yields rows of dataframe where variety == D:\n",
      "   variety  yield\n",
      "18       D  28.55\n",
      "19       D  28.05\n",
      "20       D  33.20\n",
      "21       D  31.68\n",
      "22       D  30.32\n",
      "23       D  27.58\n"
     ]
    }
   ],
   "source": [
    "# just selects entries matching the condition\n",
    "print(\"yields rows of dataframe where variety == D:\")\n",
    "print(melon[melon['variety'] == 'D'])"
   ]
  },
  {
   "cell_type": "code",
   "execution_count": 60,
   "metadata": {},
   "outputs": [
    {
     "name": "stdout",
     "output_type": "stream",
     "text": [
      "variety    6\n",
      "yield      6\n",
      "dtype: int64\n"
     ]
    }
   ],
   "source": [
    "# count the number of occurrences of this variety \n",
    "print(melon[melon[\"variety\"] == \"C\"].count())"
   ]
  },
  {
   "cell_type": "code",
   "execution_count": 7,
   "metadata": {},
   "outputs": [
    {
     "name": "stdout",
     "output_type": "stream",
     "text": [
      "         yield\n",
      "variety       \n",
      "A            6\n",
      "B            6\n",
      "C            6\n",
      "D            6\n",
      "             yield\n",
      "variety           \n",
      "A        20.490000\n",
      "B        37.403333\n",
      "C        19.491667\n",
      "D        29.896667\n",
      "            yield\n",
      "variety          \n",
      "A        4.694422\n",
      "B        3.950497\n",
      "C        5.560052\n",
      "D        2.229894\n"
     ]
    }
   ],
   "source": [
    "# group-by functionality facilitates analyses\n",
    "# computes the mean for each data group based on column variety which can contain A,B,C or D\n",
    "print(melon.groupby(\"variety\").count())\n",
    "print(melon.groupby(\"variety\").mean())\n",
    "print(melon.groupby(\"variety\").std())"
   ]
  },
  {
   "cell_type": "markdown",
   "metadata": {},
   "source": [
    "<font size=\"3\">Table-like data in Pandas is stored in DataFrame objects, as we can see, when we check the datatype of our melon dataset:</font>"
   ]
  },
  {
   "cell_type": "code",
   "execution_count": 62,
   "metadata": {},
   "outputs": [
    {
     "name": "stdout",
     "output_type": "stream",
     "text": [
      "<class 'pandas.core.frame.DataFrame'>\n"
     ]
    }
   ],
   "source": [
    "print(type(melon))"
   ]
  },
  {
   "cell_type": "markdown",
   "metadata": {},
   "source": [
    "<font size=\"3\">A DataFrame can also be created manually from one or more lists or numpy arrays:</font>"
   ]
  },
  {
   "cell_type": "code",
   "execution_count": 63,
   "metadata": {},
   "outputs": [
    {
     "data": {
      "text/html": [
       "<div>\n",
       "<style scoped>\n",
       "    .dataframe tbody tr th:only-of-type {\n",
       "        vertical-align: middle;\n",
       "    }\n",
       "\n",
       "    .dataframe tbody tr th {\n",
       "        vertical-align: top;\n",
       "    }\n",
       "\n",
       "    .dataframe thead th {\n",
       "        text-align: right;\n",
       "    }\n",
       "</style>\n",
       "<table border=\"1\" class=\"dataframe\">\n",
       "  <thead>\n",
       "    <tr style=\"text-align: right;\">\n",
       "      <th></th>\n",
       "      <th>numbers</th>\n",
       "    </tr>\n",
       "  </thead>\n",
       "  <tbody>\n",
       "    <tr>\n",
       "      <th>a</th>\n",
       "      <td>123</td>\n",
       "    </tr>\n",
       "    <tr>\n",
       "      <th>b</th>\n",
       "      <td>23</td>\n",
       "    </tr>\n",
       "    <tr>\n",
       "      <th>c</th>\n",
       "      <td>54</td>\n",
       "    </tr>\n",
       "    <tr>\n",
       "      <th>d</th>\n",
       "      <td>15</td>\n",
       "    </tr>\n",
       "    <tr>\n",
       "      <th>e</th>\n",
       "      <td>89</td>\n",
       "    </tr>\n",
       "  </tbody>\n",
       "</table>\n",
       "</div>"
      ],
      "text/plain": [
       "   numbers\n",
       "a      123\n",
       "b       23\n",
       "c       54\n",
       "d       15\n",
       "e       89"
      ]
     },
     "execution_count": 63,
     "metadata": {},
     "output_type": "execute_result"
    }
   ],
   "source": [
    "# You can define a name for each column with the parameter columns\n",
    "# The special thing about Pandas is now that one column can also be defined as index or can\n",
    "# be explicitly defined. Indexation is a key feature of big databases to speed-up queries.b\n",
    "df = pd.DataFrame([123,23,54,15,89], columns=[\"numbers\"], index=[\"a\",\"b\",\"c\",\"d\",\"e\"])\n",
    "df"
   ]
  },
  {
   "cell_type": "markdown",
   "metadata": {},
   "source": [
    "You can then access elements also by their identifiers specified in with the *index* argument above using `loc`."
   ]
  },
  {
   "cell_type": "code",
   "execution_count": 73,
   "metadata": {},
   "outputs": [
    {
     "name": "stdout",
     "output_type": "stream",
     "text": [
      "numbers    54\n",
      "Name: c, dtype: int64\n",
      "numbers    54\n",
      "Name: c, dtype: int64\n"
     ]
    }
   ],
   "source": [
    "print(\"df.loc[c]: \\n\", df.loc[\"c\"], \"\\n\")\n",
    "#which is the same as\n",
    "print(\"df.iloc[2]: \\n\", df.iloc[2])"
   ]
  },
  {
   "cell_type": "markdown",
   "metadata": {},
   "source": [
    "The distinction is useful for instance when splitting or concatenating dataframes: `iloc` will change, `loc` won't:"
   ]
  },
  {
   "cell_type": "code",
   "execution_count": 78,
   "metadata": {},
   "outputs": [
    {
     "name": "stdout",
     "output_type": "stream",
     "text": [
      "df_sliced:\n",
      "    numbers\n",
      "c       54\n",
      "d       15\n",
      "e       89 \n",
      "\n",
      "df.loc[c]: \n",
      " numbers    54\n",
      "Name: c, dtype: int64 \n",
      "\n",
      "df.iloc[2]: \n",
      " numbers    89\n",
      "Name: e, dtype: int64\n"
     ]
    }
   ],
   "source": [
    "df_sliced = df[2:]\n",
    "print(\"df_sliced:\\n\", df_sliced, \"\\n\")\n",
    "print(\"df.loc[c]: \\n\", df_sliced.loc[\"c\"], \"\\n\")\n",
    "print(\"df.iloc[2]: \\n\", df_sliced.iloc[2])"
   ]
  },
  {
   "cell_type": "markdown",
   "metadata": {},
   "source": [
    "<font size=\"3\">A Pandas DataFrame object also has useful attributes like index and columns:</font>"
   ]
  },
  {
   "cell_type": "code",
   "execution_count": 88,
   "metadata": {},
   "outputs": [
    {
     "name": "stdout",
     "output_type": "stream",
     "text": [
      "Index(['a', 'b', 'c', 'd', 'e'], dtype='object')\n",
      "Index(['numbers'], dtype='object')\n",
      "numbers    int64\n",
      "dtype: object\n"
     ]
    }
   ],
   "source": [
    "print(df.index)\n",
    "print(df.columns)\n",
    "print(df.dtypes)"
   ]
  },
  {
   "cell_type": "markdown",
   "metadata": {},
   "source": [
    "<font size=\"3\">Once defined, in contrast to a numpy array, a DataFrame can be enlarged as well by other columns even if the columns contain a different data type:</font>"
   ]
  },
  {
   "cell_type": "code",
   "execution_count": 90,
   "metadata": {},
   "outputs": [
    {
     "data": {
      "text/html": [
       "<div>\n",
       "<style scoped>\n",
       "    .dataframe tbody tr th:only-of-type {\n",
       "        vertical-align: middle;\n",
       "    }\n",
       "\n",
       "    .dataframe tbody tr th {\n",
       "        vertical-align: top;\n",
       "    }\n",
       "\n",
       "    .dataframe thead th {\n",
       "        text-align: right;\n",
       "    }\n",
       "</style>\n",
       "<table border=\"1\" class=\"dataframe\">\n",
       "  <thead>\n",
       "    <tr style=\"text-align: right;\">\n",
       "      <th></th>\n",
       "      <th>numbers</th>\n",
       "      <th>floats</th>\n",
       "      <th>names</th>\n",
       "    </tr>\n",
       "  </thead>\n",
       "  <tbody>\n",
       "    <tr>\n",
       "      <th>a</th>\n",
       "      <td>123</td>\n",
       "      <td>1.23</td>\n",
       "      <td>Marco</td>\n",
       "    </tr>\n",
       "    <tr>\n",
       "      <th>b</th>\n",
       "      <td>23</td>\n",
       "      <td>5.67</td>\n",
       "      <td>Alex</td>\n",
       "    </tr>\n",
       "    <tr>\n",
       "      <th>c</th>\n",
       "      <td>54</td>\n",
       "      <td>4.31</td>\n",
       "      <td>John</td>\n",
       "    </tr>\n",
       "    <tr>\n",
       "      <th>d</th>\n",
       "      <td>15</td>\n",
       "      <td>6.89</td>\n",
       "      <td>Michael</td>\n",
       "    </tr>\n",
       "    <tr>\n",
       "      <th>e</th>\n",
       "      <td>89</td>\n",
       "      <td>5.34</td>\n",
       "      <td>Alistair</td>\n",
       "    </tr>\n",
       "  </tbody>\n",
       "</table>\n",
       "</div>"
      ],
      "text/plain": [
       "   numbers  floats     names\n",
       "a      123    1.23     Marco\n",
       "b       23    5.67      Alex\n",
       "c       54    4.31      John\n",
       "d       15    6.89   Michael\n",
       "e       89    5.34  Alistair"
      ]
     },
     "execution_count": 90,
     "metadata": {},
     "output_type": "execute_result"
    }
   ],
   "source": [
    "df['floats'] = [1.23, 5.67, 4.31, 6.89, 5.34]\n",
    "df['names'] = ['Marco', 'Alex', 'John', 'Michael', 'Alistair']\n",
    "df"
   ]
  },
  {
   "cell_type": "code",
   "execution_count": 91,
   "metadata": {},
   "outputs": [
    {
     "name": "stdout",
     "output_type": "stream",
     "text": [
      "numbers      int64\n",
      "floats     float64\n",
      "names       object\n",
      "dtype: object\n"
     ]
    }
   ],
   "source": [
    "print(df.dtypes)"
   ]
  },
  {
   "cell_type": "markdown",
   "metadata": {},
   "source": [
    "<font size=\"3\">Or we simply add a new row with data providing a new DataFrame, but once an index has been defined, we need to make sure to provide the index values as well:</font>"
   ]
  },
  {
   "cell_type": "code",
   "execution_count": 92,
   "metadata": {},
   "outputs": [
    {
     "data": {
      "text/html": [
       "<div>\n",
       "<style scoped>\n",
       "    .dataframe tbody tr th:only-of-type {\n",
       "        vertical-align: middle;\n",
       "    }\n",
       "\n",
       "    .dataframe tbody tr th {\n",
       "        vertical-align: top;\n",
       "    }\n",
       "\n",
       "    .dataframe thead th {\n",
       "        text-align: right;\n",
       "    }\n",
       "</style>\n",
       "<table border=\"1\" class=\"dataframe\">\n",
       "  <thead>\n",
       "    <tr style=\"text-align: right;\">\n",
       "      <th></th>\n",
       "      <th>numbers</th>\n",
       "      <th>floats</th>\n",
       "      <th>names</th>\n",
       "    </tr>\n",
       "  </thead>\n",
       "  <tbody>\n",
       "    <tr>\n",
       "      <th>a</th>\n",
       "      <td>123</td>\n",
       "      <td>1.23</td>\n",
       "      <td>Marco</td>\n",
       "    </tr>\n",
       "    <tr>\n",
       "      <th>b</th>\n",
       "      <td>23</td>\n",
       "      <td>5.67</td>\n",
       "      <td>Alex</td>\n",
       "    </tr>\n",
       "    <tr>\n",
       "      <th>c</th>\n",
       "      <td>54</td>\n",
       "      <td>4.31</td>\n",
       "      <td>John</td>\n",
       "    </tr>\n",
       "    <tr>\n",
       "      <th>d</th>\n",
       "      <td>15</td>\n",
       "      <td>6.89</td>\n",
       "      <td>Michael</td>\n",
       "    </tr>\n",
       "    <tr>\n",
       "      <th>e</th>\n",
       "      <td>89</td>\n",
       "      <td>5.34</td>\n",
       "      <td>Alistair</td>\n",
       "    </tr>\n",
       "    <tr>\n",
       "      <th>f</th>\n",
       "      <td>273</td>\n",
       "      <td>8.98</td>\n",
       "      <td>Florian</td>\n",
       "    </tr>\n",
       "  </tbody>\n",
       "</table>\n",
       "</div>"
      ],
      "text/plain": [
       "   numbers  floats     names\n",
       "a      123    1.23     Marco\n",
       "b       23    5.67      Alex\n",
       "c       54    4.31      John\n",
       "d       15    6.89   Michael\n",
       "e       89    5.34  Alistair\n",
       "f      273    8.98   Florian"
      ]
     },
     "execution_count": 92,
     "metadata": {},
     "output_type": "execute_result"
    }
   ],
   "source": [
    "df.append(pd.DataFrame({'numbers': 273, 'floats': 8.98, 'names': \"Florian\"}, index=['f']))"
   ]
  },
  {
   "cell_type": "markdown",
   "metadata": {},
   "source": [
    "<div class=\"alert alert-block alert-success\"><b>Exercise:</b>\n",
    "Check out the original dataframe and some transformations applied to it in the next cell. Answer the following questions intuitively before checking the correct answer with code. After the slicing and concatenating,\n",
    "<ol>\n",
    "    <li>what name prints df_new.loc[0]?</li>\n",
    "    <li>what name prints df_new.iloc[0]?</li>\n",
    "    <li>what name prints df_new.loc[-1]?</li>\n",
    "    <li>what name prints df_new.iloc[-1]?</li>\n",
    "</ol>\n",
    "</div>"
   ]
  },
  {
   "cell_type": "code",
   "execution_count": 91,
   "metadata": {},
   "outputs": [
    {
     "name": "stdout",
     "output_type": "stream",
     "text": [
      "df:\n",
      "    numbers  floats     names\n",
      "0      123    1.23     Marco\n",
      "1       23    5.67      Alex\n",
      "2       54    4.31      John\n",
      "3       15    6.89   Michael\n",
      "4       89    5.34  Alistair\n"
     ]
    }
   ],
   "source": [
    "df = pd.DataFrame()\n",
    "df['numbers'] = [123,23,54,15,89]\n",
    "df['floats'] = [1.23, 5.67, 4.31, 6.89, 5.34]\n",
    "df['names'] = ['Marco', 'Alex', 'John', 'Michael', 'Alistair']\n",
    "print(\"df:\\n\", df)\n",
    "\n",
    "#apply some slicing and concatenating\n",
    "df1 = df.iloc[1:-1]\n",
    "df2 = df1.loc[2]\n",
    "df3 = df.iloc[0]\n",
    "df_new = df1.append(df2).append(df3)"
   ]
  },
  {
   "cell_type": "markdown",
   "metadata": {},
   "source": [
    "<br><br>\n",
    "<font size=\"3\">The index of a Pandas DataFrame can also be a timestamp which is useful for time series data. Pandas also has some useful built-in plotting functionality. As example, we load the dataset of the DAX share price index and plot it using Pandas."
   ]
  },
  {
   "cell_type": "markdown",
   "metadata": {},
   "source": [
    " \n",
    "<b>We need to install a new package first:</b></font>"
   ]
  },
  {
   "cell_type": "code",
   "execution_count": null,
   "metadata": {},
   "outputs": [],
   "source": [
    "%%bash\n",
    "pip install pandas-datareader"
   ]
  },
  {
   "cell_type": "markdown",
   "metadata": {},
   "source": [
    "Then we need to import the new module and download the data. According to the doc:\n",
    "\n",
    "*Functions from pandas_datareader.data and pandas_datareader.wb extract data from various Internet sources into a pandas DataFrame.*\n",
    "\n",
    "In the function we use the following endpoint:\n",
    "\n",
    "*yahoo - retrieve daily stock prices (high, open, close, volu,e and adjusted close)*\n",
    "\n",
    "where `name='^GDAXI'` is the name of a particular stock.\n",
    "\n",
    "This is just another example of how a python package simplifies a tedious task behind a single function call for us."
   ]
  },
  {
   "cell_type": "code",
   "execution_count": 11,
   "metadata": {},
   "outputs": [
    {
     "data": {
      "text/html": [
       "<div>\n",
       "<style scoped>\n",
       "    .dataframe tbody tr th:only-of-type {\n",
       "        vertical-align: middle;\n",
       "    }\n",
       "\n",
       "    .dataframe tbody tr th {\n",
       "        vertical-align: top;\n",
       "    }\n",
       "\n",
       "    .dataframe thead th {\n",
       "        text-align: right;\n",
       "    }\n",
       "</style>\n",
       "<table border=\"1\" class=\"dataframe\">\n",
       "  <thead>\n",
       "    <tr style=\"text-align: right;\">\n",
       "      <th></th>\n",
       "      <th>High</th>\n",
       "      <th>Low</th>\n",
       "      <th>Open</th>\n",
       "      <th>Close</th>\n",
       "      <th>Volume</th>\n",
       "      <th>Adj Close</th>\n",
       "    </tr>\n",
       "    <tr>\n",
       "      <th>Date</th>\n",
       "      <th></th>\n",
       "      <th></th>\n",
       "      <th></th>\n",
       "      <th></th>\n",
       "      <th></th>\n",
       "      <th></th>\n",
       "    </tr>\n",
       "  </thead>\n",
       "  <tbody>\n",
       "    <tr>\n",
       "      <th>2000-01-03</th>\n",
       "      <td>7159.330078</td>\n",
       "      <td>6720.870117</td>\n",
       "      <td>6961.720215</td>\n",
       "      <td>6750.759766</td>\n",
       "      <td>43072500.0</td>\n",
       "      <td>6750.759766</td>\n",
       "    </tr>\n",
       "    <tr>\n",
       "      <th>2000-01-04</th>\n",
       "      <td>6755.359863</td>\n",
       "      <td>6510.459961</td>\n",
       "      <td>6747.240234</td>\n",
       "      <td>6586.950195</td>\n",
       "      <td>46678400.0</td>\n",
       "      <td>6586.950195</td>\n",
       "    </tr>\n",
       "    <tr>\n",
       "      <th>2000-01-05</th>\n",
       "      <td>6585.850098</td>\n",
       "      <td>6388.910156</td>\n",
       "      <td>6585.850098</td>\n",
       "      <td>6502.069824</td>\n",
       "      <td>52682800.0</td>\n",
       "      <td>6502.069824</td>\n",
       "    </tr>\n",
       "    <tr>\n",
       "      <th>2000-01-06</th>\n",
       "      <td>6539.310059</td>\n",
       "      <td>6402.629883</td>\n",
       "      <td>6501.450195</td>\n",
       "      <td>6474.919922</td>\n",
       "      <td>41180600.0</td>\n",
       "      <td>6474.919922</td>\n",
       "    </tr>\n",
       "    <tr>\n",
       "      <th>2000-01-07</th>\n",
       "      <td>6791.529785</td>\n",
       "      <td>6470.140137</td>\n",
       "      <td>6489.939941</td>\n",
       "      <td>6780.959961</td>\n",
       "      <td>56058900.0</td>\n",
       "      <td>6780.959961</td>\n",
       "    </tr>\n",
       "  </tbody>\n",
       "</table>\n",
       "</div>"
      ],
      "text/plain": [
       "                   High          Low         Open        Close      Volume  \\\n",
       "Date                                                                         \n",
       "2000-01-03  7159.330078  6720.870117  6961.720215  6750.759766  43072500.0   \n",
       "2000-01-04  6755.359863  6510.459961  6747.240234  6586.950195  46678400.0   \n",
       "2000-01-05  6585.850098  6388.910156  6585.850098  6502.069824  52682800.0   \n",
       "2000-01-06  6539.310059  6402.629883  6501.450195  6474.919922  41180600.0   \n",
       "2000-01-07  6791.529785  6470.140137  6489.939941  6780.959961  56058900.0   \n",
       "\n",
       "              Adj Close  \n",
       "Date                     \n",
       "2000-01-03  6750.759766  \n",
       "2000-01-04  6586.950195  \n",
       "2000-01-05  6502.069824  \n",
       "2000-01-06  6474.919922  \n",
       "2000-01-07  6780.959961  "
      ]
     },
     "execution_count": 11,
     "metadata": {},
     "output_type": "execute_result"
    }
   ],
   "source": [
    "# imports a function to download price data from the web\n",
    "from pandas_datareader import DataReader\n",
    "dax = DataReader(name='^GDAXI', data_source=\"yahoo\", start='2000-1-1')\n",
    "# only returns the first N rows (default: 5) of the data table\n",
    "dax.head()"
   ]
  },
  {
   "cell_type": "markdown",
   "metadata": {},
   "source": [
    "<font size=\"3\">Pandas Dataframe objects have useful attributes:</font>"
   ]
  },
  {
   "cell_type": "code",
   "execution_count": 12,
   "metadata": {},
   "outputs": [
    {
     "name": "stdout",
     "output_type": "stream",
     "text": [
      "size: 34512\n",
      "shape: (5752, 6)\n",
      "info: <bound method DataFrame.info of                     High           Low          Open         Close  \\\n",
      "Date                                                                 \n",
      "2000-01-03   7159.330078   6720.870117   6961.720215   6750.759766   \n",
      "2000-01-04   6755.359863   6510.459961   6747.240234   6586.950195   \n",
      "2000-01-05   6585.850098   6388.910156   6585.850098   6502.069824   \n",
      "2000-01-06   6539.310059   6402.629883   6501.450195   6474.919922   \n",
      "2000-01-07   6791.529785   6470.140137   6489.939941   6780.959961   \n",
      "...                  ...           ...           ...           ...   \n",
      "2022-08-24  13238.610352  13085.200195  13131.120117  13220.059570   \n",
      "2022-08-25  13364.549805  13210.990234  13328.490234  13271.959961   \n",
      "2022-08-26  13375.019531  12939.959961  13335.099609  12971.469727   \n",
      "2022-08-29  12942.459961  12758.440430  12838.419922  12892.990234   \n",
      "2022-08-30  13154.150391  12885.080078  12919.429688  12961.139648   \n",
      "\n",
      "                Volume     Adj Close  \n",
      "Date                                  \n",
      "2000-01-03  43072500.0   6750.759766  \n",
      "2000-01-04  46678400.0   6586.950195  \n",
      "2000-01-05  52682800.0   6502.069824  \n",
      "2000-01-06  41180600.0   6474.919922  \n",
      "2000-01-07  56058900.0   6780.959961  \n",
      "...                ...           ...  \n",
      "2022-08-24  46809500.0  13220.059570  \n",
      "2022-08-25  41621200.0  13271.959961  \n",
      "2022-08-26  67305400.0  12971.469727  \n",
      "2022-08-29  54303000.0  12892.990234  \n",
      "2022-08-30  62479300.0  12961.139648  \n",
      "\n",
      "[5752 rows x 6 columns]>\n",
      "index: DatetimeIndex(['2000-01-03', '2000-01-04', '2000-01-05', '2000-01-06',\n",
      "               '2000-01-07', '2000-01-10', '2000-01-11', '2000-01-12',\n",
      "               '2000-01-13', '2000-01-14',\n",
      "               ...\n",
      "               '2022-08-17', '2022-08-18', '2022-08-19', '2022-08-22',\n",
      "               '2022-08-23', '2022-08-24', '2022-08-25', '2022-08-26',\n",
      "               '2022-08-29', '2022-08-30'],\n",
      "              dtype='datetime64[ns]', name='Date', length=5752, freq=None)\n",
      "values: [[7.15933008e+03 6.72087012e+03 6.96172021e+03 6.75075977e+03\n",
      "  4.30725000e+07 6.75075977e+03]\n",
      " [6.75535986e+03 6.51045996e+03 6.74724023e+03 6.58695020e+03\n",
      "  4.66784000e+07 6.58695020e+03]\n",
      " [6.58585010e+03 6.38891016e+03 6.58585010e+03 6.50206982e+03\n",
      "  5.26828000e+07 6.50206982e+03]\n",
      " ...\n",
      " [1.33750195e+04 1.29399600e+04 1.33350996e+04 1.29714697e+04\n",
      "  6.73054000e+07 1.29714697e+04]\n",
      " [1.29424600e+04 1.27584404e+04 1.28384199e+04 1.28929902e+04\n",
      "  5.43030000e+07 1.28929902e+04]\n",
      " [1.31541504e+04 1.28850801e+04 1.29194297e+04 1.29611396e+04\n",
      "  6.24793000e+07 1.29611396e+04]]\n",
      "columns: Index(['High', 'Low', 'Open', 'Close', 'Volume', 'Adj Close'], dtype='object')\n"
     ]
    }
   ],
   "source": [
    "# gives the total number of values in the table\n",
    "print(\"size:\", dax.size)\n",
    "# gives the number of rows x columns in the table\n",
    "print(\"shape:\", dax.shape)\n",
    "# gives a complete summary of the table (size, data types)\n",
    "print(\"info:\", dax.info)\n",
    "# returns the index column of the table\n",
    "# it is important to set an index e.g. the timestamp as index for time-series data\n",
    "print(\"index:\", dax.index)\n",
    "# returns the values of the table (as a numpy array)\n",
    "print(\"values:\", dax.values)\n",
    "# returns the column names of the table\n",
    "print(\"columns:\", dax.columns)"
   ]
  },
  {
   "cell_type": "markdown",
   "metadata": {},
   "source": [
    "<font size=\"3\">Finally, we directly plot now out of Pandas:</font>"
   ]
  },
  {
   "cell_type": "code",
   "execution_count": 19,
   "metadata": {},
   "outputs": [
    {
     "data": {
      "text/plain": [
       "<AxesSubplot:xlabel='Date'>"
      ]
     },
     "execution_count": 19,
     "metadata": {},
     "output_type": "execute_result"
    },
    {
     "data": {
      "image/png": "[encoded data removed]",
      "text/plain": [
       "<Figure size 576x360 with 1 Axes>"
      ]
     },
     "metadata": {
      "needs_background": "light"
     },
     "output_type": "display_data"
    }
   ],
   "source": [
    "dax[\"Close\"].plot(figsize=(8,5))"
   ]
  },
  {
   "cell_type": "markdown",
   "metadata": {},
   "source": [
    "Install required packages for Excel support in Pandas, if not already installed. Typically you find out that a package is missing from an error message or by simply studying the documentation. \n",
    "\n",
    "Note that as a package manager, **`pip` is able to install required dependencies of a package automatically**. Sometimes however, specific functionally has optional requirements. After all however, the burden of installing packages is easier than it seems here."
   ]
  },
  {
   "cell_type": "code",
   "execution_count": null,
   "metadata": {},
   "outputs": [],
   "source": [
    "%%bash\n",
    "pip install xlrd"
   ]
  },
  {
   "cell_type": "markdown",
   "metadata": {},
   "source": [
    "<font size=\"3\"><b>Pandas also supports other file formats like <a href=\"https://pandas.pydata.org/docs/reference/api/pandas.read_excel.html\">Excel sheets</a> or for bigger datasets the <a href=\"https://pandas.pydata.org/docs/reference/api/pandas.read_parquet.html\">parquet</a> or <a href=\"https://pandas.pydata.org/docs/reference/api/pandas.read_feather.html\">feather</a> file format:</b></font>"
   ]
  },
  {
   "cell_type": "code",
   "execution_count": 22,
   "metadata": {
    "scrolled": true
   },
   "outputs": [
    {
     "data": {
      "text/html": [
       "<div>\n",
       "<style scoped>\n",
       "    .dataframe tbody tr th:only-of-type {\n",
       "        vertical-align: middle;\n",
       "    }\n",
       "\n",
       "    .dataframe tbody tr th {\n",
       "        vertical-align: top;\n",
       "    }\n",
       "\n",
       "    .dataframe thead th {\n",
       "        text-align: right;\n",
       "    }\n",
       "</style>\n",
       "<table border=\"1\" class=\"dataframe\">\n",
       "  <thead>\n",
       "    <tr style=\"text-align: right;\">\n",
       "      <th></th>\n",
       "      <th>Type</th>\n",
       "      <th>Name</th>\n",
       "      <th>Business</th>\n",
       "      <th>ISIN</th>\n",
       "      <th>Price / EUR</th>\n",
       "    </tr>\n",
       "  </thead>\n",
       "  <tbody>\n",
       "    <tr>\n",
       "      <th>0</th>\n",
       "      <td>Fonds</td>\n",
       "      <td>F.TEM.INV-F.TECHN.A A.EUR</td>\n",
       "      <td>IT</td>\n",
       "      <td>A0KEDE</td>\n",
       "      <td>39.160</td>\n",
       "    </tr>\n",
       "    <tr>\n",
       "      <th>1</th>\n",
       "      <td>ETF</td>\n",
       "      <td>ISHSIII-CORE MSCI WLD DLA</td>\n",
       "      <td>World Economy</td>\n",
       "      <td>A0RPWH</td>\n",
       "      <td>72.512</td>\n",
       "    </tr>\n",
       "    <tr>\n",
       "      <th>2</th>\n",
       "      <td>ETF</td>\n",
       "      <td>ISHSV-MSCI ACWI DL A</td>\n",
       "      <td>World, more diverse</td>\n",
       "      <td>A1JMDF</td>\n",
       "      <td>61.970</td>\n",
       "    </tr>\n",
       "    <tr>\n",
       "      <th>3</th>\n",
       "      <td>ETF</td>\n",
       "      <td>IS C.MSCI EMIMI U.ETF DLA</td>\n",
       "      <td>Emerging Countries</td>\n",
       "      <td>A111X9</td>\n",
       "      <td>31.372</td>\n",
       "    </tr>\n",
       "    <tr>\n",
       "      <th>4</th>\n",
       "      <td>ETF</td>\n",
       "      <td>L+G-L+G CYBER SEC.U.ETF</td>\n",
       "      <td>Cybersec</td>\n",
       "      <td>A14WU5</td>\n",
       "      <td>21.685</td>\n",
       "    </tr>\n",
       "    <tr>\n",
       "      <th>5</th>\n",
       "      <td>ETF</td>\n",
       "      <td>ISHS IV-AUTO.+ROBOTIC.ETF</td>\n",
       "      <td>Automation/Robotik</td>\n",
       "      <td>A2ANH0</td>\n",
       "      <td>11.508</td>\n",
       "    </tr>\n",
       "    <tr>\n",
       "      <th>6</th>\n",
       "      <td>ETF</td>\n",
       "      <td>INVESCOM2 E GL BLOCKCH A</td>\n",
       "      <td>Krypto/Blockhain</td>\n",
       "      <td>A2PA3S</td>\n",
       "      <td>100.820</td>\n",
       "    </tr>\n",
       "    <tr>\n",
       "      <th>7</th>\n",
       "      <td>ETF</td>\n",
       "      <td>VANECK HYDROGEN EC UC.ETF</td>\n",
       "      <td>Wasserstoff</td>\n",
       "      <td>A2QMWR</td>\n",
       "      <td>15.222</td>\n",
       "    </tr>\n",
       "    <tr>\n",
       "      <th>8</th>\n",
       "      <td>ETF</td>\n",
       "      <td>LYX.IF-ROB.AI DLA</td>\n",
       "      <td>Robotik/AI</td>\n",
       "      <td>LXY0ZN</td>\n",
       "      <td>34.615</td>\n",
       "    </tr>\n",
       "    <tr>\n",
       "      <th>9</th>\n",
       "      <td>ETF</td>\n",
       "      <td>L&amp;G ETF-HYDROGEN ECONOMY</td>\n",
       "      <td>Wasserstoff</td>\n",
       "      <td>A2QMAL</td>\n",
       "      <td>7.030</td>\n",
       "    </tr>\n",
       "    <tr>\n",
       "      <th>10</th>\n",
       "      <td>ETF</td>\n",
       "      <td>ISHSIV-MSCI WLD ESG S.DLA</td>\n",
       "      <td>World Economy ESG</td>\n",
       "      <td>A2N6TD</td>\n",
       "      <td>NaN</td>\n",
       "    </tr>\n",
       "    <tr>\n",
       "      <th>11</th>\n",
       "      <td>ETF</td>\n",
       "      <td>ISHSV-S+500INF.T.SECT.DLA</td>\n",
       "      <td>NaN</td>\n",
       "      <td>A142N1</td>\n",
       "      <td>NaN</td>\n",
       "    </tr>\n",
       "    <tr>\n",
       "      <th>12</th>\n",
       "      <td>ETF</td>\n",
       "      <td>VANECK VID ESPORTS UC.ETF</td>\n",
       "      <td>E-Sports, Gaming</td>\n",
       "      <td>A2PLDF</td>\n",
       "      <td>34.855</td>\n",
       "    </tr>\n",
       "  </tbody>\n",
       "</table>\n",
       "</div>"
      ],
      "text/plain": [
       "     Type                        Name             Business    ISIN  \\\n",
       "0   Fonds  F.TEM.INV-F.TECHN.A A.EUR                    IT  A0KEDE   \n",
       "1     ETF  ISHSIII-CORE MSCI WLD DLA         World Economy  A0RPWH   \n",
       "2     ETF        ISHSV-MSCI ACWI DL A  World, more diverse  A1JMDF   \n",
       "3     ETF  IS C.MSCI EMIMI U.ETF DLA    Emerging Countries  A111X9   \n",
       "4     ETF     L+G-L+G CYBER SEC.U.ETF             Cybersec  A14WU5   \n",
       "5     ETF   ISHS IV-AUTO.+ROBOTIC.ETF   Automation/Robotik  A2ANH0   \n",
       "6     ETF    INVESCOM2 E GL BLOCKCH A     Krypto/Blockhain  A2PA3S   \n",
       "7     ETF  VANECK HYDROGEN EC UC.ETF           Wasserstoff  A2QMWR   \n",
       "8     ETF           LYX.IF-ROB.AI DLA           Robotik/AI  LXY0ZN   \n",
       "9     ETF    L&G ETF-HYDROGEN ECONOMY          Wasserstoff  A2QMAL   \n",
       "10    ETF   ISHSIV-MSCI WLD ESG S.DLA    World Economy ESG  A2N6TD   \n",
       "11    ETF   ISHSV-S+500INF.T.SECT.DLA                  NaN  A142N1   \n",
       "12    ETF   VANECK VID ESPORTS UC.ETF     E-Sports, Gaming  A2PLDF   \n",
       "\n",
       "    Price / EUR  \n",
       "0        39.160  \n",
       "1        72.512  \n",
       "2        61.970  \n",
       "3        31.372  \n",
       "4        21.685  \n",
       "5        11.508  \n",
       "6       100.820  \n",
       "7        15.222  \n",
       "8        34.615  \n",
       "9         7.030  \n",
       "10          NaN  \n",
       "11          NaN  \n",
       "12       34.855  "
      ]
     },
     "execution_count": 22,
     "metadata": {},
     "output_type": "execute_result"
    }
   ],
   "source": [
    "# example loading an excel sheet with Pandas in Python\n",
    "excel = pd.read_excel('data/example.xls')\n",
    "excel"
   ]
  },
  {
   "cell_type": "markdown",
   "metadata": {},
   "source": [
    "<div class=\"alert alert-block alert-success\"><b>Exercise:</b> \n",
    "    <ol type=\"1\">\n",
    "        <li>Load the file data/example.feather using <i>pd.read_feather</i>. Find out what it contains, print the column names and the size of the DataFrame. </li>\n",
    "        <li>Then write a function which loads a file (<b>in this case <i>data/example.feather</i></b>)...</li> \n",
    "        <li>...redefines the column \"time\" as index and extract only the column \"close\",...</li> \n",
    "        <li>...removes duplicated timestamps, resamples the data to 1min intervals and calculates the moving average over windows of 24 hours.</li>\n",
    "        <li>Determine the returns of the resampled column \"close\" which are defined as $\\mathrm{(close(t_{n+1}) / close(t_{n})) - 1}$.</li> \n",
    "        <li>Finally, plot the moving average, the resampled time-series and a histogram of the returns.</li>\n",
    "    </ol>\n",
    "<b>Hint:</b> Have a look at the methods <a href=\"https://pandas.pydata.org/docs/reference/api/pandas.DataFrame.duplicated.html\">duplicated()</a>, <a href=\"https://pandas.pydata.org/pandas-docs/stable/reference/api/pandas.DataFrame.resample.html\">resample()</a>, bfill() <a href=\"https://pandas.pydata.org/docs/reference/api/pandas.DataFrame.plot.html\">plot()</a>, <a href=\"https://pandas.pydata.org/docs/reference/api/pandas.DataFrame.rolling.html\">rolling()</a> and mean(). The method <a href=\"https://pandas.pydata.org/docs/reference/api/pandas.DataFrame.shift.html\">shift()</a> could be useful for the calculation of returns. Use the pandas plotting function with the <i>kind=\"hist\"</i> argument to plot a histogram. Import \"from matplotlib import pyplot as plt\" and plt.figure() to init a new plot.\n",
    "    \n",
    "</div>"
   ]
  },
  {
   "cell_type": "markdown",
   "metadata": {},
   "source": [
    "<font size=\"3\"><b>First, install the required packages to support feather and parquet files in Pandas:</b></font>"
   ]
  },
  {
   "cell_type": "code",
   "execution_count": null,
   "metadata": {
    "scrolled": true
   },
   "outputs": [],
   "source": [
    "%%bash\n",
    "pip install pyarrow"
   ]
  },
  {
   "cell_type": "code",
   "execution_count": null,
   "metadata": {},
   "outputs": [],
   "source": [
    "feather = pd.read_feather('data/example.feather')\n",
    "print(feather.info)\n",
    "print(feather.columns)\n",
    "print(feather.shape)\n",
    "print(feather.size)"
   ]
  },
  {
   "cell_type": "markdown",
   "metadata": {},
   "source": [
    "<b>Then try the exercise yourself here:</b></font>"
   ]
  },
  {
   "cell_type": "code",
   "execution_count": null,
   "metadata": {},
   "outputs": [],
   "source": [
    "#you can use the following predefined arguments for simpler plotting\n",
    "plot_args = {'figsize' : (16,10), 'grid' : True, 'fontsize' : 18, 'legend' : True}\n",
    "\n",
    "#use them like this:\n",
    "feather.close.plot(label=\"close\", **plot_args)\n",
    "\n",
    "#YOUR CODE HERE"
   ]
  },
  {
   "cell_type": "markdown",
   "metadata": {},
   "source": [
    "### Example Solution:"
   ]
  },
  {
   "cell_type": "code",
   "execution_count": 92,
   "metadata": {
    "tags": []
   },
   "outputs": [
    {
     "data": {
      "image/png": "[encoded data removed]",
      "text/plain": [
       "<Figure size 1152x720 with 1 Axes>"
      ]
     },
     "metadata": {
      "needs_background": "light"
     },
     "output_type": "display_data"
    },
    {
     "data": {
      "image/png": "[encoded data removed]",
      "text/plain": [
       "<Figure size 1152x720 with 1 Axes>"
      ]
     },
     "metadata": {
      "needs_background": "light"
     },
     "output_type": "display_data"
    }
   ],
   "source": [
    "file = \"data/example.feather\"\n",
    "feather = pd.read_feather(file) \n",
    "\n",
    "feather.index = feather.time #timestamp as index\n",
    "feather = feather.close\n",
    "#remove duplicated timestamps\n",
    "feather = feather[~feather.index.duplicated()] \n",
    "#resamples the data to 1 min bins, keep the first value in a bin or for empty bins \n",
    "#insert the value of the next non empty bin (\"backfill\")\n",
    "feather_resampled = feather.resample(\"1min\").bfill() \n",
    "#compute the moving average over windows of size 5\n",
    "moving_average = feather_resampled.rolling(\"24h\").mean()\n",
    "#compute the returns\n",
    "returns = (feather_resampled.shift(1) / feather_resampled)-1\n",
    "\n",
    "#plots\n",
    "plot_args = {'figsize' : (16,10), 'grid' : True, 'fontsize' : 18, 'legend' : True}\n",
    "from matplotlib import pyplot as plt\n",
    "\n",
    "plt.figure() #init a new plot\n",
    "feather_resampled.plot(label=\"resampled\", **plot_args)\n",
    "moving_average.plot(label=\"moving average\", **plot_args)\n",
    "plt.ylabel(\"BTCUSDT\",fontsize=18)\n",
    "plt.legend(fontsize=18)\n",
    "\n",
    "plt.figure() #init a new plot\n",
    "returns.plot(kind=\"hist\", bins=100, **plot_args)\n",
    "plt.yscale(\"log\")"
   ]
  }
 ],
 "metadata": {
  "kernelspec": {
   "display_name": "Python 3",
   "language": "python",
   "name": "python3"
  },
  "language_info": {
   "codemirror_mode": {
    "name": "ipython",
    "version": 3
   },
   "file_extension": ".py",
   "mimetype": "text/x-python",
   "name": "python",
   "nbconvert_exporter": "python",
   "pygments_lexer": "ipython3",
   "version": "3.9.2"
  },
  "varInspector": {
   "cols": {
    "lenName": 16,
    "lenType": 16,
    "lenVar": 40
   },
   "kernels_config": {
    "python": {
     "delete_cmd_postfix": "",
     "delete_cmd_prefix": "del ",
     "library": "var_list.py",
     "varRefreshCmd": "print(var_dic_list())"
    },
    "r": {
     "delete_cmd_postfix": ") ",
     "delete_cmd_prefix": "rm(",
     "library": "var_list.r",
     "varRefreshCmd": "cat(var_dic_list()) "
    }
   },
   "types_to_exclude": [
    "module",
    "function",
    "builtin_function_or_method",
    "instance",
    "_Feature"
   ],
   "window_display": false
  }
 },
 "nbformat": 4,
 "nbformat_minor": 4
}
