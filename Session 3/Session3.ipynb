{
 "cells": [
  {
   "cell_type": "markdown",
   "id": "eaa39892-e593-434d-a6b2-e9f6bdd1f09f",
   "metadata": {},
   "source": [
    "# Introduction to Python for People with Programming Experience\n",
    "\n",
    "\n",
    "## Session 3 / 4 - 28.09.2022 9:00 - 13:00\n",
    "\n",
    "*by Fabian Wilde, Katharina Hoff, Matthis Ebel, Mario Stanke & Felix Becker*\n",
    "\n",
    "Contact: felix.becker@uni-greifswald.de"
   ]
  },
  {
   "cell_type": "markdown",
   "id": "bad2609a-8ae4-4634-b049-2eeaf004fbbc",
   "metadata": {},
   "source": [
    "<br><br><br>\n",
    "## Plain File Loading in Python\n",
    "\n",
    "Python offers a way to read text files line-by-line. That is great, because now we can write programs that can load (lots of) data from a file. Before, we always had to hard-code the data we wanted to use, which is not very realistic!  \n",
    "\n",
    "The syntax to do so is\n",
    "\n",
    "    with open('path/to/file', 'rt') as file_handle:\n",
    "        # do stuff with file_handle\n",
    "        \n",
    "`path/to/file` is the path from the current working directory to the file that you want to open. `rt` stands for \"read text\", this tells the `open()` function that it should expect a text file and that we want to read from it  \n",
    "\n",
    "Python takes care of opening the file and creating a _stream_ that can be used through `file_handle`. The `file_handle` can behave like an iterable, but it also has reading methods:\n",
    "\n",
    "* `readlines()` - reads the complete file and returns a list containing all the lines  \n",
    "\n",
    "        with open('path/to/file', 'rt') as file_handle:\n",
    "            for line in file_handle:\n",
    "                print(line)\n",
    "        \n",
    "        \n",
    "        \n",
    "        with open('path/to/file', 'rt') as file_handle:\n",
    "            file_content = file_handle.readlines()\n",
    "        \n",
    "        print(file_content)\n",
    "    \n",
    "\n",
    "\n",
    "Note: after the indented code below `with open(...) as ...:` has ended, Python automatically closes the connection to the file. That's convenient, otherwise we would have to do this manually!"
   ]
  },
  {
   "cell_type": "code",
   "execution_count": null,
   "id": "653d111c-ea13-4288-a45f-c7a8a7612d61",
   "metadata": {},
   "outputs": [],
   "source": [
    "# Read the first 10 lines of the file `data/iris.csv` and print them\n",
    "with open(\"data/iris.csv\", \"rt\") as fh:\n",
    "    i = 0\n",
    "    for line in fh:\n",
    "        print(line)\n",
    "        i += 1\n",
    "        if i >= 10:\n",
    "            break"
   ]
  },
  {
   "cell_type": "code",
   "execution_count": null,
   "id": "68d1a626-dbdb-4b86-a90f-15c8df3a265f",
   "metadata": {},
   "outputs": [],
   "source": [
    "# Read the complete file `data/iris.csv` and print the first 10 lines\n",
    "with open(\"data/iris.csv\", \"rt\") as fh:\n",
    "    content = fh.readlines()\n",
    "    \n",
    "content[:10]"
   ]
  },
  {
   "cell_type": "markdown",
   "id": "3e5a3a8e-b569-4080-86ea-89f1bd9e53ba",
   "metadata": {},
   "source": [
    "**Note:** For many file types like CSV (comma seperated values), JSON, etc., there are better ways to read provided by (third-party) modules!"
   ]
  },
  {
   "cell_type": "markdown",
   "id": "4159831e-84f1-4d03-a1ec-4aece17523e8",
   "metadata": {},
   "source": [
    "#### File Writing\n",
    "\n",
    "Of course, we can also write to files! The approach is very similar:\n",
    "\n",
    "    with open('path/to/file', 'wt') as file_handle:\n",
    "        # do stuff with the file_handle, e.g.\n",
    "        file_handle.write(\"This line is written to the file!\")\n",
    "        \n",
    "`wt` stands for \"write text\" and tells the `open()` function that it should open the file for writing, and that we want to write text to it.  \n",
    "\n",
    "Useful `file_handle` methods are\n",
    "* `write(string)` - writes the string to the file\n",
    "* `writelines([string1, string2, ...])` - writes each element in the list to the file"
   ]
  },
  {
   "cell_type": "markdown",
   "id": "f35553b4-6672-46d8-87c2-2d7226b1b9b8",
   "metadata": {},
   "source": [
    "<font size=\"3\"><div class=\"alert alert-block alert-success\"><b>Exercise:</b><br>\n",
    "Create a file from Python! First, create a `dict` with some keys (`str`) and some values. The values might be `int`, `float`, `str`, `bool`, `list` or `dict` (please do not use `tuple` and `set`!).<br>\n",
    "Open a file for text writing, and use the function `dump()` from the module `json` to write your dictionary to that file!\n",
    "</div>"
   ]
  },
  {
   "cell_type": "markdown",
   "id": "36f8f02c-f7e8-4aba-b115-40e2d6c16130",
   "metadata": {},
   "source": [
    "Hints:\n",
    "* The use of `dump` is: `dump(dictionary_name, file_handle)`\n",
    "* You don't need to use another `write()` or `writelines()` method!"
   ]
  },
  {
   "cell_type": "code",
   "execution_count": null,
   "id": "d20790e8-f273-4254-8223-d6ce4861c84d",
   "metadata": {},
   "outputs": [],
   "source": [
    "import json\n",
    "\n",
    "# YOUR CODE HERE"
   ]
  },
  {
   "cell_type": "markdown",
   "id": "d7d3b08e-b49d-44cf-8859-3732d8454be9",
   "metadata": {},
   "source": [
    "### Example Solution"
   ]
  },
  {
   "cell_type": "code",
   "execution_count": null,
   "id": "815b01e6-98fe-445f-80d9-4d72df4bbbff",
   "metadata": {},
   "outputs": [],
   "source": [
    "import json\n",
    "\n",
    "my_dict = {\n",
    "    'key1': 1,\n",
    "    'key2': [True, False],\n",
    "    'foo': 'bar',\n",
    "    'new key': 42\n",
    "}\n",
    "\n",
    "with open('testfile.json', 'wt') as file_handle:\n",
    "    json.dump(my_dict, file_handle)"
   ]
  },
  {
   "cell_type": "code",
   "execution_count": null,
   "id": "b3cf0103-39a1-4ba7-8595-fce73f782b36",
   "metadata": {
    "tags": []
   },
   "outputs": [],
   "source": [
    "with open('testfile.json', 'rt') as fh:\n",
    "    for line in fh:\n",
    "        print(line)"
   ]
  },
  {
   "cell_type": "markdown",
   "id": "cd1b2c26-1eca-456e-9d35-472816d36a48",
   "metadata": {
    "tags": []
   },
   "source": [
    "## Directory Batch Processing\n",
    "<br>\n",
    "<font size=\"3\">\n",
    "Very often, you not only need to load a single file, but a whole set of files located in one or more directories. Luckily, Python also offers builtin solutions for this problem. A directory can be traversed (also recursively) to yield a list of files to be processed in your Python script.<br><br>\n",
    "    <b>The most simple solution is offered by the builtin library <i>os</i> with <i>os.walk</i>.</b>.\n",
    "</font>\n",
    "\n",
    "### Examples:"
   ]
  },
  {
   "cell_type": "code",
   "execution_count": null,
   "id": "1c408e7d-d067-42e7-9f48-3386a8fad96d",
   "metadata": {},
   "outputs": [],
   "source": [
    "# imports the required module\n",
    "import os\n",
    "\n",
    "def walk_through_files(path, file_extension='.txt'):\n",
    "    for (dirpath, dirnames, filenames) in os.walk(path):\n",
    "        for filename in filenames:\n",
    "            if filename.endswith(file_extension): \n",
    "                # yield keyword instead of return defines a generator instead of a regular function\n",
    "                yield os.path.join(dirpath, filename)\n",
    "\n",
    "# that's why we iterate over walk_through_files instead of calling it\n",
    "for fname in walk_through_files(\"data/batch/\"):\n",
    "    print(fname)\n",
    "# force the generator to return a list with the results\n",
    "print(list(walk_through_files(\"data/batch/\")))"
   ]
  },
  {
   "cell_type": "code",
   "execution_count": null,
   "id": "b76750dc-27d8-406c-9095-a6aebc8879c9",
   "metadata": {},
   "outputs": [],
   "source": [
    "print(np.loadtxt.__doc__)"
   ]
  },
  {
   "cell_type": "markdown",
   "id": "bb89222e-cd45-40e2-b806-da33217f3401",
   "metadata": {},
   "source": [
    "<font size=\"3\"><div class=\"alert alert-block alert-success\"><b>Exercise:</b> Write a function to traverse the path data/batch/, read the found files and concatenate their content to one string separated by spaces.\n",
    "</div>\n",
    "    \n",
    "Hints: \n",
    "* concatenate strings in a list `ls` using a string `s` as separator with `s.join(ls)`, e.g.  \n",
    "\n",
    "\n",
    "    print(\" \".join(['create', 'a', 'single', 'sentence']))\n",
    "    \n",
    "    create a single sentence\n",
    "\n",
    "\n",
    "* Remove trailing spaces and newline characters from a string with the string method `rstrip()`\n",
    "    \n",
    "<b>Try it yourself here:</b></font>"
   ]
  },
  {
   "cell_type": "code",
   "execution_count": null,
   "id": "7cfd78ac-c73c-44b0-9bfb-502496426d44",
   "metadata": {},
   "outputs": [],
   "source": []
  },
  {
   "cell_type": "markdown",
   "id": "b4c3decf-af35-43f0-a466-02033192da22",
   "metadata": {},
   "source": [
    "### Example Solution:"
   ]
  },
  {
   "cell_type": "code",
   "execution_count": null,
   "id": "79551960-3433-43cd-9868-b1395035725d",
   "metadata": {},
   "outputs": [],
   "source": [
    "# iterate over files\n",
    "buffer = []\n",
    "for fname in walk_through_files(\"data/batch/\"):\n",
    "    # open file\n",
    "    with open(fname, 'rt') as fh:\n",
    "        # read file content and put it in the buffer list\n",
    "        buffer.extend(fh.readlines())\n",
    "    \n",
    "# remove newlines\n",
    "for i in range(len(buffer)):\n",
    "    buffer[i] = buffer[i].rstrip()\n",
    "\n",
    "print(\"Result:\", \" \".join(buffer))"
   ]
  },
  {
   "cell_type": "code",
   "execution_count": null,
   "id": "a7fce704-85fd-47ef-b147-00de76822ba5",
   "metadata": {},
   "outputs": [],
   "source": [
    "print(str.join.__doc__)"
   ]
  },
  {
   "cell_type": "markdown",
   "id": "aeddc574-bf84-405a-acfc-5d0ec9851744",
   "metadata": {},
   "source": [
    "<br><br><br>\n",
    "### Decorators\n",
    "<br>\n",
    "<font size=\"3\">\n",
    "    <b><a href=\"https://wiki.python.org/moin/PythonDecorators\">Decorators</a> help to wrap functions around functions or class methods with a shorter notation, the so-called <i>syntactic sugar</i>, using the @-symbol.</b> Decorators are often using in 3rd party packages for debugging and runtime anaylsis. <br><br>\n",
    "A popular package to measure the runtime of a function call or an algorithm is <i>timeit</i>. But it is also frequently used in frameworks like Django or Flask for Full-Stack Python where Python-based web applications are developed to denote event callback functions.\n",
    "</font>\n",
    "<br><br>\n",
    "\n",
    "### Examples:"
   ]
  },
  {
   "cell_type": "code",
   "execution_count": 1,
   "id": "1541094e-b0c5-47f0-a112-c0b252df2d21",
   "metadata": {},
   "outputs": [
    {
     "name": "stdout",
     "output_type": "stream",
     "text": [
      "Something is happening before the function is called.\n",
      "Whee!\n",
      "Something is happening after the function is called.\n"
     ]
    }
   ],
   "source": [
    "def my_decorator(func):\n",
    "    def wrapper():\n",
    "        print(\"Something is happening before the function is called.\")\n",
    "        func()\n",
    "        print(\"Something is happening after the function is called.\")\n",
    "    return wrapper\n",
    "\n",
    "@my_decorator\n",
    "# @my_decorator is just an easier way of saying say_whee = my_decorator(say_whee)\n",
    "def say_whee():\n",
    "    print(\"Whee!\")\n",
    "    \n",
    "say_whee()"
   ]
  },
  {
   "cell_type": "code",
   "execution_count": 2,
   "id": "7065081b-ac9b-4b11-810a-f5583c5182bf",
   "metadata": {},
   "outputs": [
    {
     "name": "stdout",
     "output_type": "stream",
     "text": [
      "zZzZzZ\n",
      "2.002208 seconds passed.\n"
     ]
    }
   ],
   "source": [
    "import time\n",
    "import numpy as np\n",
    "\n",
    "def benchmark(func):\n",
    "    def wrapper():\n",
    "        t1 = time.time()\n",
    "        func()\n",
    "        delta_t = time.time() - t1\n",
    "        print(str(np.round(delta_t,6))+\" seconds passed.\")\n",
    "    return wrapper\n",
    "\n",
    "@benchmark\n",
    "def something_intensive():\n",
    "    print(\"zZzZzZ\")\n",
    "    time.sleep(2)\n",
    "    \n",
    "something_intensive()"
   ]
  },
  {
   "cell_type": "markdown",
   "id": "11734b13-f94a-43c4-8a0b-157b1c3f1f06",
   "metadata": {},
   "source": [
    "<font size=\"3\">\n",
    "<b>In Python it's also possible to define decorators with arguments and even use multiple decorators with the same function or class method.</b>\n",
    "</font>\n",
    "\n",
    "### Example:"
   ]
  },
  {
   "cell_type": "code",
   "execution_count": 3,
   "id": "dd0ccc47-fe91-44c4-b963-38de445362ad",
   "metadata": {
    "scrolled": true
   },
   "outputs": [],
   "source": [
    "import time\n",
    "\n",
    "def print_delayed(delay = 1):\n",
    "    def decorator(function):\n",
    "        def wrapper(*args, **kwargs):\n",
    "            out = function(*args, **kwargs)\n",
    "            for n in range(len(out)+1):\n",
    "                print(out[:n]+\"\\r\")\n",
    "                time.sleep(delay)\n",
    "        return wrapper\n",
    "    return decorator\n",
    "\n",
    "@print_delayed(delay = 0.2)\n",
    "def greeting(name):\n",
    "    return \"Hello, \"+name+\" !\""
   ]
  },
  {
   "cell_type": "code",
   "execution_count": 4,
   "id": "aea99b27-4e19-48d0-9bda-0e210f551eba",
   "metadata": {},
   "outputs": [
    {
     "name": "stdout",
     "output_type": "stream",
     "text": [
      "\n",
      "H\n",
      "He\n",
      "Hel\n",
      "Hell\n",
      "Hello\n",
      "Hello,\n",
      "Hello, \n",
      "Hello, J\n",
      "Hello, Jo\n",
      "Hello, Joh\n",
      "Hello, John\n",
      "Hello, John \n",
      "Hello, John D\n",
      "Hello, John Do\n",
      "Hello, John Doe\n",
      "Hello, John Doe \n",
      "Hello, John Doe !\n"
     ]
    }
   ],
   "source": [
    "greeting(\"John Doe\")"
   ]
  },
  {
   "cell_type": "markdown",
   "id": "d591bbb3-8109-4c4e-aa7b-caf737f34984",
   "metadata": {},
   "source": [
    "### Built-in Decorators\n",
    "<br>\n",
    "\n",
    "<font size=\"3\">\n",
    "    You may checkout the popular built-in decorators in Python, e.g. the <b><a href=\"https://www.geeksforgeeks.org/python-property-decorator-property/#:~:text=%40property%20decorator%20is%20a%20built,setter%20and%20deleter%20as%20parameters\">@property</a></b></i> decorator. <br>\n",
    "    <b>It makes a class method accessible as if it would be an attribute of the class object.</b>\n",
    "</font>"
   ]
  },
  {
   "cell_type": "markdown",
   "id": "466d8a4b-4ee8-49ba-9669-74885a25069d",
   "metadata": {},
   "source": [
    "<div class=\"alert alert-block alert-success\"><b>Exercise:</b> \n",
    "    Write a decorator for the function in the following cell that asserts that the passed argument is a number greater than zero. Print a positive message in case $x$ is positive and a warning otherwise.\n",
    "</div>"
   ]
  },
  {
   "cell_type": "code",
   "execution_count": null,
   "id": "68c280fb-72d2-4c59-bd8b-332db16612c5",
   "metadata": {},
   "outputs": [],
   "source": [
    "import numpy as np\n",
    "\n",
    "def f(x):\n",
    "    return np.log(x)\n",
    "\n",
    "f(3)\n",
    "f(0)\n",
    "f(-1)"
   ]
  },
  {
   "cell_type": "code",
   "execution_count": 7,
   "id": "dfdfe113-69a0-4eab-9d14-a0003ea146eb",
   "metadata": {},
   "outputs": [
    {
     "name": "stdout",
     "output_type": "stream",
     "text": [
      "You passed a positive number, great!\n",
      "f(3)= 1.0986122886681098\n",
      "Ouch! This function requires x > 0. You called f(0).\n",
      "Ouch! This function requires x > 0. You called f(-1).\n"
     ]
    }
   ],
   "source": [
    "#possible solution\n",
    "import numpy as np\n",
    "\n",
    "def assert_x(func):\n",
    "    def wrapper(x):\n",
    "        if x > 0:\n",
    "            print(\"You passed a positive number, great!\")\n",
    "            print(f\"f({x})=\", func(x))\n",
    "        else:\n",
    "            print(f\"Ouch! This function requires x > 0. You called f({x}).\")\n",
    "    return wrapper\n",
    "\n",
    "@assert_x\n",
    "def f(x):\n",
    "    return np.log(x)\n",
    "\n",
    "f(3)\n",
    "f(0)\n",
    "f(-1)"
   ]
  },
  {
   "cell_type": "markdown",
   "id": "80e9a693-3dc9-4a6b-ae01-e7d3e01c2096",
   "metadata": {},
   "source": [
    "<br><br><br>\n",
    "### Performance Aspects of Python\n",
    "\n",
    "<br>\n",
    "<font size=\"3\">In some cases, like the analysis of big amounts of data or for simulation codes, performance matters. If the acceleration that numpy or pandas offer is still insufficient or specific code needs to be accelerated, Python offers various ways to speed up your code with statically compiled code using <a href=\"https://cython.org/\">Cython</a> and just-in-time (JIT) compilation using <a href=\"http://numba.pydata.org/\">Numba</a>. This <a href=\"https://pandas.pydata.org/pandas-docs/stable/user_guide/enhancingperf.html\">link</a> presents examples to use Cython and Numba with Pandas.<br><br> Another interesting Python module is <a href=\"https://dask.org/\">Dask</a> which offers distributed and/or parallelized processing of large data sets. Dask offers e.g. a <a href=\"https://docs.dask.org/en/latest/dataframe.html\">Dask DataFrame</a> which can be distributed over multiple nodes in a cluster and supports distributed, parallelized data processing using Pandas DataFrame-like objects.<br><br>\n",
    "In the following, a small introduction on how to use Numba, a just-in-time compiler, is given and you'll see a speed comparison of Numba and the normal Python function.<br><br>\n",
    "\n",
    "The easiest way to use Numba for a Python function, is to use the specific decorator (decorators were previously introduced in this course):</font>"
   ]
  },
  {
   "cell_type": "markdown",
   "id": "f68981fb-a1d2-4e83-9f98-824ba7da667c",
   "metadata": {},
   "source": [
    "<font size=\"3\"><b>If Numba is not installed, install the numba module here:</b></font>"
   ]
  },
  {
   "cell_type": "code",
   "execution_count": 8,
   "id": "0474bf5b-508b-4e35-90f8-c4f02e111781",
   "metadata": {},
   "outputs": [
    {
     "name": "stdout",
     "output_type": "stream",
     "text": [
      "Defaulting to user installation because normal site-packages is not writeable\n",
      "Requirement already satisfied: numba in /opt/conda/lib/python3.9/site-packages (0.53.1)\n",
      "Requirement already satisfied: numpy>=1.15 in /opt/conda/lib/python3.9/site-packages (from numba) (1.19.5)\n",
      "Requirement already satisfied: setuptools in /opt/conda/lib/python3.9/site-packages (from numba) (49.6.0.post20210108)\n",
      "Requirement already satisfied: llvmlite<0.37,>=0.36.0rc1 in /opt/conda/lib/python3.9/site-packages (from numba) (0.36.0)\n"
     ]
    }
   ],
   "source": [
    "%%bash\n",
    "pip install numba"
   ]
  },
  {
   "cell_type": "code",
   "execution_count": 9,
   "id": "af277c9b-3720-4952-a2bc-90864498987c",
   "metadata": {},
   "outputs": [],
   "source": [
    "# import of the decorator from the numba module\n",
    "from numba import jit\n",
    "\n",
    "# decorator to indicate that just-in-time compilation is desired\n",
    "@jit # or @jit(nopython=True), if code is parallelizable use parallel = True\n",
    "def function(x):\n",
    "    # your loop or numerically intensive computations\n",
    "    return x"
   ]
  },
  {
   "cell_type": "markdown",
   "id": "ffc14a5b-f192-4e6c-8e2e-0721194701b0",
   "metadata": {},
   "source": [
    "<font size=\"3\">Whenever a Python function is decorated this way, the Python function will be translated to LLVM code, specific byte code that is executed on a virtual machine, comparable to Java and also with a speed comparable to Java or C(++). The illustration below describes the compilation process:<br><br>\n",
    "<center>\n",
    "    <img src=\"img/llvm.png\" width=\"60%\">\n",
    "</center>\n",
    "<br>\n",
    "    <font size=\"2\"><i>Source: <a href=\"https://github.com/ContinuumIO/gtc2017-numba/blob/master/1%20-%20Numba%20Basics.ipynb\">https://github.com/ContinuumIO/gtc2017-numba/blob/master/1%20-%20Numba%20Basics.ipynb</a></i></font><br><br>\n",
    "First, Python function is taken, optimized and is converted into Numba’s intermediate representation, then after type inference which is like Numpy’s type inference (so python float is a float64), it is converted into LLVM interpretable code. This code is then fed to LLVM’s just-in-time compiler to give out machine code.<br><br>\n",
    "</font>\n",
    "\n",
    "### Example:"
   ]
  },
  {
   "cell_type": "code",
   "execution_count": 10,
   "id": "a15e586d-2e08-4dcd-858b-d555412b9408",
   "metadata": {},
   "outputs": [
    {
     "name": "stdout",
     "output_type": "stream",
     "text": [
      "110 ns ± 1.06 ns per loop (mean ± std. dev. of 7 runs, 10000000 loops each)\n",
      "284 ns ± 0.757 ns per loop (mean ± std. dev. of 7 runs, 1000000 loops each)\n",
      "56 ns ± 0.967 ns per loop (mean ± std. dev. of 7 runs, 10000000 loops each)\n"
     ]
    }
   ],
   "source": [
    "from numba import jit, float32\n",
    "import timeit\n",
    "import math\n",
    "\n",
    "# you can explicitly define a function signature\n",
    "# so that data types are not inferred\n",
    "@jit(float32(float32,float32))\n",
    "def hypot(x, y):\n",
    "    # Implementation from https://en.wikipedia.org/wiki/Hypot\n",
    "    x = abs(x);\n",
    "    y = abs(y);\n",
    "    t = min(x, y);\n",
    "    x = max(x, y);\n",
    "    t = t / x;\n",
    "    return x * math.sqrt(1+t*t)\n",
    "\n",
    "# benchmarks the JIT version\n",
    "%timeit hypot(3.0, 4.0)\n",
    "# benchmarks the Python function\n",
    "%timeit hypot.py_func(3.0, 4.0)\n",
    "# benchmarks the implementation in the math module\n",
    "%timeit math.hypot(3.0, 4.0)"
   ]
  },
  {
   "cell_type": "markdown",
   "id": "9791ccfd-155a-469c-9c2b-28082fa87cfe",
   "metadata": {},
   "source": [
    "<font size=\"3\">For further information, look <a href=\"https://towardsdatascience.com/speed-up-your-algorithms-part-2-numba-293e554c5cc1\">here</a></font>\n"
   ]
  },
  {
   "cell_type": "markdown",
   "id": "e32c5012-0baf-4872-95df-3d09b3926ea3",
   "metadata": {},
   "source": [
    "<br><br><br>\n",
    "## The object-oriented programming (OOP) paradigm\n",
    "\n",
    "<br>\n",
    "<font size=\"3\">\n",
    "    <b>Python is a multi-paradigm programming language</b>, hence supporting multiple <a href=\"https://en.wikipedia.org/wiki/Comparison_of_programming_paradigms\">programming paradigms</a>. A programming paradigm is a style, philosophy or a set of principles followed in structuring your code and the way to implement its intended functionality. Among the various paradigms, the <a href=\"https://en.wikipedia.org/wiki/Functional_programming\"><b>functional</b></a> and the <a href=\"https://en.wikipedia.org/wiki/Object-oriented_programming\"><b>object-oriented programming (OOP)</b></a> paradigm are the most popular, also in Python.<br>\n",
    "\n",
    "<b>The functional paradigm</b> focusses on:\n",
    "<ul>\n",
    "<li><b>Structuring your code</b>\n",
    "</li>\n",
    "<li>\n",
    "<b>Functions</b> in a mathematical sense <b>with arguments and return values</b>.\n",
    "</li>\n",
    "<li>\n",
    "<b>Scoping allowing for <b>local variables</b> and <b>isolation</b>.\n",
    "</li>\n",
    "<li>\n",
    "<b>Functions allowing the reusability</b> of parts of the code since they <b>should ideally work as black boxes</b>.\n",
    "</li>\n",
    "<li>\n",
    "    <b>Statelessness</b>, hence <b>it shouldn't matter when a function is called.</b> As long as the same input is used, the function should yield the same output. <b>Hence functions are only loosely coupled to data</b> outside of their scope.\n",
    "</li>\n",
    "</ul>\n",
    "<br>\n",
    "A <b>use case</b> would be for <b>smaller projects or specialized scripts</b> where <b>new features are rather unlikely to be implemented.</b><br>\n",
    "Examples for other programming languages following this paradigm are C, Fortran and Cobol.\n",
    "<br>\n",
    "<br>\n",
    "<b>The OOP paradigm</b> focusses on:\n",
    "<ul>\n",
    "<li><b>Classes defining objects encapsulating functionality</b> which could also exist independently and can be easily ported to other projects.\n",
    "</li>\n",
    "<li>\n",
    "<b>Class objects posess <i>methods</i></b>, functions bound to the object which should act only on the <b><i>attributes</i></b> of the object. The latter are <b>variables bound to the object instance.</b>\n",
    "</li>\n",
    "<li>\n",
    "<b>The data (its state) is strictly bound to the object.</b>\n",
    "</li>\n",
    "<li><b>States</b> since the objects (can) store a state in their attributes. The interaction of these objects with the environment takes place via <b><i>special object methods</i></b>, the so-called <b><i>interfaces</i></b>, to avoid direct manipulation of object attributes from outside <b>ensuring data security.</b> <b>Statefulness implies</b> that the <b>execution order of object methods can matter.</b>\n",
    "</li>\n",
    "<li>\n",
    "<b>Classes grouped in modules</b> so that the objects have the specific environments to work in. This allows <b>easy extensibility</b>.\n",
    "</li>\n",
    "<li>\n",
    "<b>Inheritance</b> allowing for a sub-class to inherit methods and attributes from the parent class.\n",
    "</li>\n",
    "<li>\n",
    "<b>The program functionality is realized by object interactions</b>, hence message passing between the objects. \n",
    "</li>\n",
    "</ul>\n",
    "<br>\n",
    "A <b>use case</b> is a <v>big project</b> with <b>many collaborators</b> where the <b>task can be easily subdivided</b>, where <b>statefulness</b> is important and <b>new features are likely to be added.</b>\n",
    "<br>\n",
    "Examples for other programming languages following this paradigm are Java, C++, Objective-C, Ruby or VB .NET.<br>\n",
    "<br>\n",
    "\n",
    "<font size=\"3\">\n",
    "<b>In summary, the abstract features of object-oriented programming are</b><br>\n",
    "<ul>\n",
    "    <li><b>Inheritance:</b> <br>Derivation of class from another class. Hierarchy of classes sharing common attributes and methods. Allows faster development of new features using already existing interfaces.</li><br>\n",
    "    <li><b>Polymorphism:</b> <br>A function, variable or object can have multiple forms, e.g. the same method could except different number and type of input arguments or the usage of a common interface for objects of different classes.</li><br>\n",
    "    <li><b>Abstraction:</b><br> A simplified data representation\n",
    "    </li>\n",
    "    <br>\n",
    "    <li><b>Encapsulation:</b><br> Bundling data and methods to hide the internal state and mechanics of an object from the outside. Ensures data safety, portability and maintainability.</li>\n",
    "</ul>\n",
    "</font>"
   ]
  },
  {
   "cell_type": "markdown",
   "id": "5bd89cb4-870a-4dc5-96c2-e65723e9b7b0",
   "metadata": {},
   "source": [
    "### Classes, Objects & Attributes\n",
    "<br>\n",
    "<div align=\"center\">\n",
    "    <img src=\"img/yoda_meme.png\" width=\"40%\">\n",
    "</div>\n",
    "<br>\n",
    "<font size=\"2\">\n",
    "    <i>Source:</i> <a href=\"https://medium.com/@972LPV/mutable-vs-immutable-objects-in-python-a8a3439636b6\"><i>https://medium.com/@972LPV/mutable-vs-immutable-objects-in-python-a8a3439636b6</i></a>\n",
    "</font>\n",
    "<br>\n",
    "<br>\n",
    "<font size=\"3\">\n",
    "    <b>Classes are blueprints or templates for objects in Python defining the object <i>properties via attributes</i> and <i>behavior via methods</i>.</b><br>\n",
    "In Python, even the basic builtin datatypes like int, float or str, are objects of a class in the end. Even references to functions. In Python, every entity is and can be treated as object.<br><br>\n",
    "\n",
    "<font size=\"4\">\n",
    "<b>A class definition for an object in Python has the following syntax:</b><br><br>\n",
    "</font>\n",
    "<font size=\"3\">\n",
    "<b>class <i>ClassName</i>(<i>ParentClass</i>):</b><br>\n",
    "<p style=\"margin-left: 20px\"><b>def __init__(self, <i>arguments</i>):</b></p>\n",
    "<p style=\"margin-left: 40px\"><font face=\"Courier\">self.<i>public_attr</i> = <i>value</i></font></p>\n",
    "<p style=\"margin-left: 40px\"><font face=\"Courier\">self.<i>_protected_attr</i> = <i>value</i></font></p>\n",
    "<p style=\"margin-left: 40px\"><font face=\"Courier\">self.<i>__private_attr</i> = <i>value</i></font></p>\n",
    "<p style=\"margin-left: 40px\"><font face=\"Courier\">indented code block</font></p>\n",
    "<p style=\"margin-left: 40px\"><b>[return <b><i>value</i>]</b></p>\n",
    "\n",
    "<p style=\"margin-left: 20px\"><b>def public_method(self, <i>arguments</i>):</b></p>\n",
    "<p style=\"margin-left: 40px\"><font face=\"Courier\">indented code block</font></p>\n",
    "<p style=\"margin-left: 40px\"><b>[return <b><i>value</i>]</b></p>\n",
    "\n",
    "<p style=\"margin-left: 20px\"><b>def _protected_method(self, <i>arguments</i>):</b></p>\n",
    "<p style=\"margin-left: 40px\"><font face=\"Courier\">indented code block</font></p>\n",
    "<p style=\"margin-left: 40px\"><b>[return <b><i>value</i>]</b></p>\n",
    "\n",
    "<p style=\"margin-left: 20px\"><b>def __private_method(self, <i>arguments</i>):</b></p>\n",
    "<p style=\"margin-left: 40px\"><font face=\"Courier\">indented code block</font><br>\n",
    "<b>[return <b><i>value</i>]</b></p>\n",
    "<br><br>\n",
    "    \n",
    "<b>where the private, builtin method <i>__init__</i> is the so-called <i>constructor</i> of the class object which is invoked when a new class object is <i>instantiated</i> (created).</b><br>\n",
    "<b>A function or method does not need to return a value. If no return statement is present, a NoneType object will be returned. However, the function or method needs to contain at least one statement (or a <i>pass</i>).</b><br>  \n",
    "<b>The class naming convention is to start with a capital letter and may use only here camel case, hence the alternating use of small and capital letters to create seperation, e.g. ClassName.</b><br><br>\n",
    "<font size=\"4\">\n",
    "<u><b>Attribute and Method Naming Convention:</b></u>\n",
    "</font>\n",
    "<font size=\"3\">\n",
    "<br>\n",
    "<br>\n",
    "<b>Methods or attributes</b>\n",
    "<ul>\n",
    "    <li><b>without leading underscore</b> as name prefix are <b>public.</b></li>\n",
    "    <li><b>with one leading underscore</b> as name prefix are <b>protected.</b></li>\n",
    "    <li><b>with two leading underscores</b> as name prefix are <b>private.</b></li>\n",
    "    <li><b>with two underscores as</b> name <b>prefix and suffix</b> are <b>private, built-in methods.</b></li>\n",
    "</ul>\n",
    "<b>In contrast to other programming languages, this is <u>just a notational convention</u> and by no means a real access protection!</b><br>\n",
    "<b>Protected and private methods and protected attributes can be accessed anyway!</b><br> Private attribute access is possible using the built-in dictionary representation of an object: <i>obj.__dict__[attribute_name]</i>.<br><br>\n",
    "<b>When you attempt to access a private attribute, an error is thrown, but it can be accessed anyway with a trick.</b>\n",
    "</font><br><br>\n",
    "    \n",
    "\n",
    "### Example:"
   ]
  },
  {
   "cell_type": "code",
   "execution_count": 11,
   "id": "80f5d0d1-5f63-4dcd-9960-972eab039cf5",
   "metadata": {},
   "outputs": [
    {
     "name": "stdout",
     "output_type": "stream",
     "text": [
      "Object types:\n",
      "type(dog1)=<class '__main__.Dog'>\n",
      "type(dog2)=<class '__main__.Dog'>\n",
      "type(ball1)=<class '__main__.Ball'>\n",
      "\n",
      "Objects implicitly converted to strings:\n",
      "<__main__.Dog object at 0x7fe8effacbe0>\n",
      "<__main__.Dog object at 0x7fe8effacaf0>\n",
      "<__main__.Ball object at 0x7fe8effac880>\n",
      "\n"
     ]
    }
   ],
   "source": [
    "#required import to use type hinting with custom class objects are return value data type\n",
    "from __future__ import annotations\n",
    "\n",
    "# class definition\n",
    "# the class \"Dog\" inherits from class \"object\"\n",
    "# every class inherits from that class as default\n",
    "# naming convention for class names is to start with a capital letter\n",
    "class Dog(object):\n",
    "    \n",
    "    # the constructor of the class is a private, built-in method\n",
    "    # \n",
    "    def __init__(self, name : str, age : int) -> Dog:\n",
    "        # a private attrbute which should not be changed from outside the object\n",
    "        self.__name = name\n",
    "        # a protected attrbute which should not be changed from outside the object\n",
    "        self._age = age\n",
    "        # a public attrbute which can be accessed/changed from outside the object\n",
    "        self.favorite_food = \"Pizza\"\n",
    "        self.favorite_toy = \"Bone\"\n",
    "        self.has = None\n",
    "        self.__energy = 5\n",
    "        \n",
    "    # overload the builtin method __str__ \n",
    "    # for an implicit string representation of the object\n",
    "    #def __str__(self) -> str:\n",
    "    #    return \"This is the dog \"+self.__name+\". I am \"+str(self._age)+\" years old.\"\n",
    "        \n",
    "    # a public class method definition with type hints\n",
    "    def bark(self, volume : int, pitch : int, duration : int) -> str:\n",
    "        # assemble string\n",
    "        bark_str_prefix = [\"bo\",\"ba\",\"bi\"]\n",
    "        bark_str_letter = [\"o\",\"a\",\"i\"]\n",
    "        bark_str_suffix = \"rk\"\n",
    "        bark_str = bark_str_prefix[pitch]\n",
    "        bark_str += bark_str_letter[pitch]*duration\n",
    "        bark_str += bark_str_suffix\n",
    "        if volume > 50:\n",
    "            bark_str = str.upper(bark_str)\n",
    "            \n",
    "        if self.__energy <= 0:\n",
    "            return self.__sleep()\n",
    "        else:\n",
    "            self.__energy -= 1\n",
    "            return bark_str\n",
    "    \n",
    "    # a public class method\n",
    "    # implements an interaction between the objects of class Dog and Ball\n",
    "    def bite(self, obj):\n",
    "        if isinstance(obj, Ball):\n",
    "            obj.deflate()\n",
    "    \n",
    "    # a public class method\n",
    "    def retrieve(self, obj):\n",
    "        self.has = obj\n",
    "        return obj\n",
    "    \n",
    "    # a private class method - method name starts with two underscores\n",
    "    def __sleep(self):\n",
    "        self.__energy = 5\n",
    "        return \"zZzZ\"\n",
    "    \n",
    "    # setter - method to set private attribute content\n",
    "    def set_name(self, new_name):\n",
    "        self.__name = new_name\n",
    "    \n",
    "    # getter - method which yields private attribute content\n",
    "    def get_name(self):\n",
    "        return self.__name\n",
    "    \n",
    "    # getter - method which yields private attribute content\n",
    "    def get_energy(self):\n",
    "        return self.__energy\n",
    "\n",
    "# another class definition\n",
    "class Ball(object):\n",
    "    # constructor definition with type hints\n",
    "    def __init__(self, size : float, color : str, weight : float, inflated : bool) -> Ball:\n",
    "        self.__color = color\n",
    "        self.__size = size\n",
    "        self.__weight = weight\n",
    "        self.__inflated = inflated\n",
    "        \n",
    "    # setter - method to set private attribute content\n",
    "    def deflate(self) -> None:\n",
    "        self.__inflated = False\n",
    "\n",
    "    # setter - method to set private attribute content\n",
    "    def inflate(self) -> None:\n",
    "        self.__inflated = True\n",
    "        \n",
    "    # setter - method to set private attribute content\n",
    "    def set_inflated(self, value : bool) -> None:\n",
    "        self.__inflated = value\n",
    "\n",
    "    # getter - method which yields private attribute content\n",
    "    def is_inflated(self) -> bool:\n",
    "        return self.__inflated\n",
    "    \n",
    "    def print_status(self):\n",
    "        out_str = \"The ball is \"+self.__color+\" and \"+str(self.__size)+\\\n",
    "                    \" m big and weights \"+str(self.__weight)+\" kg and is \"\n",
    "        if self.__inflated:\n",
    "            out_str += \"inflated.\"\n",
    "        else:\n",
    "            out_str += \"not inflated.\"\n",
    "        print(out_str)\n",
    "        return out_str\n",
    "\n",
    "# instantiate new \"Dog\" objects\n",
    "dog1 = Dog(\"Bello\", 0)\n",
    "dog2 = Dog(\"Doggo\", 2)\n",
    "# instantiate new \"Ball\" object\n",
    "ball1 = Ball(0.3, \"red\", 0.2, True)\n",
    "\n",
    "# print types\n",
    "print(\"Object types:\")\n",
    "print(\"type(dog1)=\"+str(type(dog1)))\n",
    "print(\"type(dog2)=\"+str(type(dog2)))\n",
    "print(\"type(ball1)=\"+str(type(ball1))+\"\\n\")\n",
    "\n",
    "# attempt to print Dog-objects\n",
    "# results in standard string representation for generic objects\n",
    "# since we have not overloaded the built-in method __str__\n",
    "# which takes care of the conversion of the object to a string representation\n",
    "print(\"Objects implicitly converted to strings:\")\n",
    "print(dog1)\n",
    "print(dog2)\n",
    "print(ball1)\n",
    "print(\"\")"
   ]
  },
  {
   "cell_type": "markdown",
   "id": "88219432-6797-4e62-bb93-32d0948eb36b",
   "metadata": {},
   "source": [
    "<font size=\"3\">\n",
    "When you attempt to print objects of user-defined classes, Python tries to implicitly convert these objects to a string representation.<br><br>\n",
    "<b>Since <i>Dog</i> and <i>Ball</i> are user-defined classes, Python cannot know what an adequate string representation of that object would be. Therefore, an object is converted to a string of that form as default.</b><br><br>\n",
    "We can invoke public object methods without any problem. An object method can change attributes of the object, hence an object can have a certain state.\n",
    "</font>"
   ]
  },
  {
   "cell_type": "code",
   "execution_count": 12,
   "id": "3a23851d-7b4b-4569-87ef-c234853fca66",
   "metadata": {},
   "outputs": [
    {
     "name": "stdout",
     "output_type": "stream",
     "text": [
      "Results of invoked object methods:\n",
      "----------------------------\n",
      "\n",
      "dog1.bark(40, 0, 1) = boork\n",
      "dog1.bark(50, 1, 1) = baark\n",
      "dog1.bark(60, 1, 1) = BAARK\n",
      "dog1.bark(60, 1, 10) = BAAAAAAAAAAARK\n",
      "dog1.retrieve(ball1) = <__main__.Ball object at 0x7fe8effac880>\n",
      "The ball is red and 0.3 m big and weights 0.2 kg and is inflated.\n",
      "\n",
      "ball1.is_inflated() = True\n",
      "After invoking ball1.deflate():\n",
      "ball1.is_inflated() = False\n",
      "\n"
     ]
    }
   ],
   "source": [
    "# invoke public object methods\n",
    "print(\"Results of invoked object methods:\")\n",
    "print(\"----------------------------\\n\")\n",
    "print(\"dog1.bark(40, 0, 1) = \"+str(dog1.bark(40, 0, 1)))\n",
    "print(\"dog1.bark(50, 1, 1) = \"+str(dog1.bark(50, 1, 1)))\n",
    "print(\"dog1.bark(60, 1, 1) = \"+str(dog1.bark(60, 1, 1)))\n",
    "print(\"dog1.bark(60, 1, 10) = \"+str(dog1.bark(60, 1, 10)))\n",
    "print(\"dog1.retrieve(ball1) = \"+str(dog1.retrieve(ball1)))\n",
    "ball1.print_status()\n",
    "print(\"\")\n",
    "\n",
    "# invoke method which modifies the objects attributes\n",
    "print(\"ball1.is_inflated() = \"+str(ball1.is_inflated()))\n",
    "print(\"After invoking ball1.deflate():\")\n",
    "ball1.deflate()\n",
    "print(\"ball1.is_inflated() = \"+str(ball1.is_inflated()))\n",
    "print(\"\")"
   ]
  },
  {
   "cell_type": "markdown",
   "id": "fe60e74f-0375-49c8-881a-deec3f586911",
   "metadata": {},
   "source": [
    "<font size=\"3\">\n",
    "The statefullness of objects in Python is also demonstrated by interaction between different object types.<br>\n",
    "<b>In this example, an object of class Dog invokes a method of another object of a different class, here Ball.</b>\n",
    "</font>"
   ]
  },
  {
   "cell_type": "code",
   "execution_count": 13,
   "id": "3e65df28-69a3-4e7e-a118-d86c64219b97",
   "metadata": {},
   "outputs": [
    {
     "name": "stdout",
     "output_type": "stream",
     "text": [
      "Statefullness of objects:\n",
      "-------------------------\n",
      "If method bark() was invoked 5 times (not necessarily sequentially),\n",
      "the private method __sleep() of the Dog object is invoked.\n",
      "dog1.get_energy() = 1\n",
      "dog1.bark(100,1,20) = BAAAAAAAAAAAAAAAAAAAAARK\n",
      "dog1.get_energy() = 0\n",
      "dog1.bark(100,1,20) = zZzZ\n",
      "dog1.get_energy() = 5\n",
      "\n",
      "Interaction between objects:\n",
      "----------------------------\n",
      "\n",
      "After invoking ball1.inflate():\n",
      "ball1.is_inflated() = True\n",
      "After invoking dog1.bite(ball1):\n",
      "ball1.is_inflated() = False\n",
      "\n",
      "dog1.has = <__main__.Ball object at 0x7fe8effac880>\n",
      "\n",
      "\n",
      "Attempt to access private attribute throws an error (encapsulation):\n"
     ]
    },
    {
     "ename": "AttributeError",
     "evalue": "'Dog' object has no attribute '__name'",
     "output_type": "error",
     "traceback": [
      "\u001b[0;31m---------------------------------------------------------------------------\u001b[0m",
      "\u001b[0;31mAttributeError\u001b[0m                            Traceback (most recent call last)",
      "\u001b[0;32m<ipython-input-13-7ce1690d2821>\u001b[0m in \u001b[0;36m<module>\u001b[0;34m\u001b[0m\n\u001b[1;32m     28\u001b[0m \u001b[0;31m# attempt to access private object attribute (discouraged anyway, use setter/getter methods instead !)\u001b[0m\u001b[0;34m\u001b[0m\u001b[0;34m\u001b[0m\u001b[0;34m\u001b[0m\u001b[0m\n\u001b[1;32m     29\u001b[0m \u001b[0mprint\u001b[0m\u001b[0;34m(\u001b[0m\u001b[0;34m\"Attempt to access private attribute throws an error (encapsulation):\"\u001b[0m\u001b[0;34m)\u001b[0m\u001b[0;34m\u001b[0m\u001b[0;34m\u001b[0m\u001b[0m\n\u001b[0;32m---> 30\u001b[0;31m \u001b[0mprint\u001b[0m\u001b[0;34m(\u001b[0m\u001b[0;34m\"dog1.__name = \"\u001b[0m\u001b[0;34m+\u001b[0m\u001b[0mstr\u001b[0m\u001b[0;34m(\u001b[0m\u001b[0mdog1\u001b[0m\u001b[0;34m.\u001b[0m\u001b[0m__name\u001b[0m\u001b[0;34m)\u001b[0m\u001b[0;34m)\u001b[0m\u001b[0;34m\u001b[0m\u001b[0;34m\u001b[0m\u001b[0m\n\u001b[0m\u001b[1;32m     31\u001b[0m \u001b[0;31m# yields an AttributeError\u001b[0m\u001b[0;34m\u001b[0m\u001b[0;34m\u001b[0m\u001b[0;34m\u001b[0m\u001b[0m\n",
      "\u001b[0;31mAttributeError\u001b[0m: 'Dog' object has no attribute '__name'"
     ]
    }
   ],
   "source": [
    "print(\"Statefullness of objects:\")\n",
    "print(\"-------------------------\")\n",
    "print(\"If method bark() was invoked 5 times (not necessarily sequentially),\")\n",
    "print(\"the private method __sleep() of the Dog object is invoked.\")\n",
    "print(\"dog1.get_energy() = \"+str(dog1.get_energy()))\n",
    "print(\"dog1.bark(100,1,20) = \"+str(dog1.bark(100,1,20)))\n",
    "print(\"dog1.get_energy() = \"+str(dog1.get_energy()))\n",
    "print(\"dog1.bark(100,1,20) = \"+str(dog1.bark(100,1,20)))\n",
    "print(\"dog1.get_energy() = \"+str(dog1.get_energy()))\n",
    "print(\"\")\n",
    "\n",
    "# interaction between an object of class Dog and of class Ball\n",
    "print(\"Interaction between objects:\")\n",
    "print(\"----------------------------\\n\")\n",
    "print(\"After invoking ball1.inflate():\")\n",
    "ball1.inflate()\n",
    "print(\"ball1.is_inflated() = \"+str(ball1.is_inflated()))\n",
    "print(\"After invoking dog1.bite(ball1):\")\n",
    "dog1.bite(ball1)\n",
    "print(\"ball1.is_inflated() = \"+str(ball1.is_inflated()))\n",
    "\n",
    "print(\"\")\n",
    "\n",
    "# access public object attribute directly\n",
    "print(\"dog1.has = \"+str(dog1.has))\n",
    "print(\"\\n\")\n",
    "\n",
    "# attempt to access private object attribute (discouraged anyway, use setter/getter methods instead !)\n",
    "print(\"Attempt to access private attribute throws an error (encapsulation):\")\n",
    "print(\"dog1.__name = \"+str(dog1.__name))\n",
    "# yields an AttributeError"
   ]
  },
  {
   "cell_type": "code",
   "execution_count": 19,
   "id": "69ea3d1d-23a8-4c4a-bda3-08eaf5cf396a",
   "metadata": {},
   "outputs": [
    {
     "name": "stdout",
     "output_type": "stream",
     "text": [
      "Attempt to invoke private method throws an error (encapsulation):\n"
     ]
    },
    {
     "ename": "AttributeError",
     "evalue": "'Dog' object has no attribute '__sleep'",
     "output_type": "error",
     "traceback": [
      "\u001b[0;31m---------------------------------------------------------------------------\u001b[0m",
      "\u001b[0;31mAttributeError\u001b[0m                            Traceback (most recent call last)",
      "\u001b[0;32m<ipython-input-19-e7f9f8959629>\u001b[0m in \u001b[0;36m<module>\u001b[0;34m\u001b[0m\n\u001b[1;32m      1\u001b[0m \u001b[0;31m# attempt to invoke private object method\u001b[0m\u001b[0;34m\u001b[0m\u001b[0;34m\u001b[0m\u001b[0;34m\u001b[0m\u001b[0m\n\u001b[1;32m      2\u001b[0m \u001b[0mprint\u001b[0m\u001b[0;34m(\u001b[0m\u001b[0;34m\"Attempt to invoke private method throws an error (encapsulation):\"\u001b[0m\u001b[0;34m)\u001b[0m\u001b[0;34m\u001b[0m\u001b[0;34m\u001b[0m\u001b[0m\n\u001b[0;32m----> 3\u001b[0;31m \u001b[0mprint\u001b[0m\u001b[0;34m(\u001b[0m\u001b[0;34m\"dog1.__sleep()=\"\u001b[0m\u001b[0;34m+\u001b[0m\u001b[0mdog1\u001b[0m\u001b[0;34m.\u001b[0m\u001b[0m__sleep\u001b[0m\u001b[0;34m(\u001b[0m\u001b[0;34m)\u001b[0m\u001b[0;34m)\u001b[0m\u001b[0;34m\u001b[0m\u001b[0;34m\u001b[0m\u001b[0m\n\u001b[0m",
      "\u001b[0;31mAttributeError\u001b[0m: 'Dog' object has no attribute '__sleep'"
     ]
    }
   ],
   "source": [
    "# attempt to invoke private object method\n",
    "print(\"Attempt to invoke private method throws an error (encapsulation):\")\n",
    "print(\"dog1.__sleep()=\"+dog1.__sleep())"
   ]
  },
  {
   "cell_type": "markdown",
   "id": "415e0c00-ae12-4209-bde8-9f559db5d22c",
   "metadata": {},
   "source": [
    "<font size=\"3\"><div class=\"alert alert-block alert-success\"><b>Exercise:</b>\n",
    "    Define a class <i>Sheep</i> with <b>private</b> attributes <i>color, name, age, sheared</i> and the <b>public</b> attribute <i>id</i>. Implement <b>setters</b> and <b>getters</b> for the private attributes. Implement a <b>public</b> method <i>shear</i> switching the private attribute <i>sheared</i>. Implement a method <i>_ _str _ _</i> for the implicit string representation of the object, so that Python knows what to do when you attempt to print a Sheep object. Then try to print the Sheep object. </div><br>\n",
    "<b>Try it yourself:</b></font>"
   ]
  },
  {
   "cell_type": "code",
   "execution_count": null,
   "id": "32ffc31e-ed8d-47d1-a31a-3fb4e98a6e4f",
   "metadata": {},
   "outputs": [],
   "source": []
  },
  {
   "cell_type": "markdown",
   "id": "51b14229-c6c6-43bf-a16c-b6033ec090f9",
   "metadata": {},
   "source": [
    "### Example Solution:"
   ]
  },
  {
   "cell_type": "code",
   "execution_count": 105,
   "id": "a04dc3c7-7b42-488f-81ae-560980c363b8",
   "metadata": {
    "scrolled": true
   },
   "outputs": [
    {
     "name": "stdout",
     "output_type": "stream",
     "text": [
      "This is a sheep of black color and it is 3 years old.\n",
      "[<__main__.Sheep object at 0x7fa6242e48e0>, <__main__.Sheep object at 0x7fa5b09259d0>, <__main__.Sheep object at 0x7fa5b0925d30>]\n",
      "False\n",
      "True\n",
      "False\n",
      "<method-wrapper '__hash__' of Sheep object at 0x7fa5e92f8280>\n",
      "<method-wrapper '__hash__' of Sheep object at 0x7fa6242e48e0>\n"
     ]
    }
   ],
   "source": [
    "from __future__ import annotations\n",
    "from typing import List\n",
    "import numpy as np\n",
    "import copy\n",
    "\n",
    "class Sheep(object):\n",
    "    def __init__(self, color : str, name : str, age : int, sheared : bool) -> Sheep:\n",
    "        self.__color = color\n",
    "        self.__name = name\n",
    "        self.__age = age\n",
    "        self.__sheared = sheared\n",
    "        self.children = []\n",
    "        \n",
    "    def set_color(self, color : str):\n",
    "        self.__color = color\n",
    "    def get_color(self) -> str:\n",
    "        return self.__color\n",
    "    def set_name(self, name : str):\n",
    "        self.__name = name\n",
    "    def get_name(self) -> str:\n",
    "        return self.__name\n",
    "    def set_age(self, age : int):\n",
    "        self.__age = age\n",
    "    def get_age(self) -> int:\n",
    "        return self.__age\n",
    "    def get_children(self) -> List[Sheep]:\n",
    "        return self.children\n",
    "    def is_sheared(self) -> bool:\n",
    "        return self.__sheared\n",
    "    def shear(self) -> None:\n",
    "        #if self.sheared:\n",
    "        #    self.__sheared = False\n",
    "        #else:\n",
    "        #    self.__sheared = True\n",
    "        self.__sheared = not self.__sheared\n",
    "        \n",
    "    def give_birth(self, n) -> List[Sheep]:\n",
    "        colors=[\"black\",\"white\",\"red\",\"blue\"]\n",
    "        for i in range(n):\n",
    "            rand_color = np.random.randint(0,len(colors))\n",
    "            self.children.append(Sheep(colors[rand_color],str(np.random.randint(0,1000)),0,False))\n",
    "        return copy.deepcopy(self.children)\n",
    "        \n",
    "    def __str__(self) -> str:\n",
    "        return \"This is a sheep of \"+self.__color+\" color and it is \"+str(self.__age)+\" years old.\"\n",
    "\n",
    "sheep1 = Sheep(\"black\",\"Dolly\",3,False)\n",
    "print(sheep1)\n",
    "childrens = sheep1.give_birth(3)\n",
    "print(sheep1.get_children())\n",
    "print(sheep1.is_sheared())\n",
    "sheep1.shear()\n",
    "print(sheep1.is_sheared())\n",
    "sheep1.shear()\n",
    "print(sheep1.is_sheared())\n",
    "\n",
    "# although the list of children was returned by sheep1.give_birth(3)\n",
    "# the elements in childrens, the new sheeps objects, are not real deep copies, but references\n",
    "# to the old objects in sheep1.__children\n",
    "\n",
    "# not a real copy\n",
    "# arr1 = np.array([1,2,3,4])\n",
    "# arr2 = arr1\n",
    "\n",
    "# this becomes obvious if the object hashes are compared\n",
    "# a hash is a (in the best case) unique string or number assigned\n",
    "# to an input as a result of a (cryptographic) function\n",
    "print(childrens[0].__hash__)\n",
    "print(sheep1.children[0].__hash__)"
   ]
  },
  {
   "cell_type": "markdown",
   "id": "e1947cfe-e456-411a-b8a7-e47a3d13f1d7",
   "metadata": {},
   "source": [
    "<br><br><br>\n",
    "### Inheritance & Method prototyping, overriding and overloading\n",
    "<br>\n",
    "<font size=\"3\">\n",
    "    <b>Inheritance is one of the key features of the OOP paradigm.</b><br><br>\n",
    "    <b>Inheritance allows a child-class or subclass to inherit attributes and methods from one or more parent- or super classes.</b> The figure illustrates this circumstance:<br><br>\n",
    "    \n",
    "</font>\n",
    "<div align=\"center\">\n",
    "<img src=\"img/inheritance2.jpg\" width=\"40%\">\n",
    "</div>\n",
    "<br>\n",
    "<font size=\"2\"><i>Source: </i><a href=\"https://www.startertutorials.com/blog/inheritance-polymorphism-python.html\">https://www.startertutorials.com/blog/inheritance-polymorphism-python.html</a></font><font size=\"3\">\n",
    "<br><br>\n",
    "\n",
    "Inheritance allows to define a hierarchy of classes sharing the same base attributes and methods (interfaces). It can facilitate the implementation of new features in your code.<br><br> Inheritance is very often required when you work with big Python frameworks. There you write your own class by inheriting from a provided (abstract) class to comply with the interfaces or methods expected by the framework environment.<br><br>\n",
    "    <b>Multiple inheritance</b> is possible in Python, but only indirect via <a href=\"https://medium.com/@__hungrywolf/mro-in-python-3-e2bcd2bd6851\"><b>Method Resolution Order</b> (MRO)</a>, hence the object method are called in a specific order. An example is given below. <br><br>\n",
    "<b>In particular, method prototyping, overriding and overloading is applied in that case.<br><br>\n",
    "Method prototypes are simply empty methods defined in the parent class, hence this class is called <i>abstract</i>. <br><br>This prototype method is then overridden by redefining a method with the <u>same name</u> in the sub class.</b><br><br>\n",
    "    <b>Method overloading</b> is also called <b><i>polymorphism</i></b> since multiple class methods of the <u>same name</u> can be defined, but accepting different numbers of arguments and types. Depending on which <i>signature</i> (number and data types of expected method arguments) of the method fits, the specific method in that case is selected and executed.<br><br>\n",
    "<b>In contrast to other programming languages like e.g. Java, a builtin implementation of polymorphism is not available in Python, hence it is not possible to define multiple methods of the same name, but accepting different number of arguments.</b> Polymorphism can only be implemented indirectly by default values for (keyword) arguments or variable number of arguments.\n",
    "</font>\n",
    "\n",
    "### Example:"
   ]
  },
  {
   "cell_type": "code",
   "execution_count": 14,
   "id": "ee8d2ff3-5663-44c7-8a34-4720c28a22ab",
   "metadata": {},
   "outputs": [
    {
     "name": "stdout",
     "output_type": "stream",
     "text": [
      "{'_Dog__name': 'Hideki', '_age': 99, 'favorite_food': 'Pizza', 'favorite_toy': 'Bone', 'has': None, '_Dog__energy': 5, '_InuShiba__num_of_memes_published': 2e+100}\n",
      "['_Dog__name', '_age', 'favorite_food', 'favorite_toy', 'has', '_Dog__energy', '_InuShiba__num_of_memes_published', '__module__', '__init__', 'publish_meme', 'bark', '__doc__', 'bite', 'retrieve', '_Dog__sleep', 'set_name', 'get_name', 'get_energy', '__dict__', '__weakref__', '__repr__', '__hash__', '__str__', '__getattribute__', '__setattr__', '__delattr__', '__lt__', '__le__', '__eq__', '__ne__', '__gt__', '__ge__', '__new__', '__reduce_ex__', '__reduce__', '__subclasshook__', '__init_subclass__', '__format__', '__sizeof__', '__dir__', '__class__']\n",
      "Barking in Japanese.\n",
      "Barking in Japanese.\n",
      "\n",
      "False\n",
      "BAAAAAAAAAAARK\n"
     ]
    },
    {
     "ename": "TypeError",
     "evalue": "bark() missing 3 required positional arguments: 'volume', 'pitch', and 'duration'",
     "output_type": "error",
     "traceback": [
      "\u001b[0;31m---------------------------------------------------------------------------\u001b[0m",
      "\u001b[0;31mTypeError\u001b[0m                                 Traceback (most recent call last)",
      "\u001b[0;32m<ipython-input-14-c0667e90c1a7>\u001b[0m in \u001b[0;36m<module>\u001b[0;34m\u001b[0m\n\u001b[1;32m     42\u001b[0m \u001b[0mprint\u001b[0m\u001b[0;34m(\u001b[0m\u001b[0mdog1\u001b[0m\u001b[0;34m.\u001b[0m\u001b[0mbark\u001b[0m\u001b[0;34m(\u001b[0m\u001b[0;36m100\u001b[0m\u001b[0;34m,\u001b[0m\u001b[0;36m1\u001b[0m\u001b[0;34m,\u001b[0m\u001b[0;36m10\u001b[0m\u001b[0;34m)\u001b[0m\u001b[0;34m)\u001b[0m\u001b[0;34m\u001b[0m\u001b[0;34m\u001b[0m\u001b[0m\n\u001b[1;32m     43\u001b[0m \u001b[0;31m# invoking bark of a Dog object, throws an exception when invoked without parameters\u001b[0m\u001b[0;34m\u001b[0m\u001b[0;34m\u001b[0m\u001b[0;34m\u001b[0m\u001b[0m\n\u001b[0;32m---> 44\u001b[0;31m \u001b[0mdog1\u001b[0m\u001b[0;34m.\u001b[0m\u001b[0mbark\u001b[0m\u001b[0;34m(\u001b[0m\u001b[0;34m)\u001b[0m\u001b[0;34m\u001b[0m\u001b[0;34m\u001b[0m\u001b[0m\n\u001b[0m",
      "\u001b[0;31mTypeError\u001b[0m: bark() missing 3 required positional arguments: 'volume', 'pitch', and 'duration'"
     ]
    }
   ],
   "source": [
    "# let's use our class Dog from the example above\n",
    "# let's define a new class InuShiba which inherits from class Dog\n",
    "class InuShiba(Dog):\n",
    "    \n",
    "    # the constructor of the class Dog is overridden here\n",
    "    def __init__(self, name : str, num_of_memes_published : int, age : int) -> InuShiba:\n",
    "        \n",
    "        # in order to have the same attributes like the parent or super class Dog\n",
    "        # invoke constructor of super class, then define additional attributes\n",
    "        \n",
    "        # instead of using the explicit class name here, better use the super() method!\n",
    "        super().__init__(name, age)\n",
    "        #Dog.__init__(self, name, age)\n",
    "        self.__num_of_memes_published = num_of_memes_published\n",
    "    \n",
    "    # a new method only InuShiba objects have\n",
    "    def publish_meme(self):\n",
    "        self.__num_of_memes_published += 1\n",
    "        \n",
    "    # the method bark is overloaded, since the class Dog already has a method bark, but\n",
    "    # with a different signature: the bark method of Dog expects 3 parameters, \n",
    "    # this bark method does not.\n",
    "    def bark(self, volume=100, pitch=1, duration=10):\n",
    "        return \"Barking in Japanese.\"\n",
    "\n",
    "special_dog = InuShiba(\"Hideki\", 2E100, 99)\n",
    "# inspecting the attributes of a InuShiba object, it in fact shares the same attributes as a Dog object\n",
    "# but it has additional attributes\n",
    "print(special_dog.__dict__)\n",
    "# inspecting the methods of a InuShiba object, it shares in fact the same methods as a Dog object\n",
    "# but it has additional methods\n",
    "print(special_dog.__dir__())\n",
    "\n",
    "# demonstration of method overloading / polymorphic methods\n",
    "print(special_dog.bark())\n",
    "print(special_dog.bark(100, 1, 10))\n",
    "print(\"\")\n",
    "\n",
    "print(Dog(\"a\",1) == Dog(\"b\",1))\n",
    "# need to override __add__ to do that\n",
    "#print(Dog(\"a\",1) + Dog(\"b\",2))\n",
    "print(dog1.bark(100,1,10))\n",
    "# invoking bark of a Dog object, throws an exception when invoked without parameters\n",
    "dog1.bark()"
   ]
  },
  {
   "cell_type": "markdown",
   "id": "3ce4d832-b6d8-4b44-a198-3a4d920a6589",
   "metadata": {},
   "source": [
    "<div class=\"alert alert-block alert-success\"><b>Exercise:</b>\n",
    "    In the cells below, you will find a little game implemented. \n",
    "    \n",
    "    2 sheep graze on a field. They are hunted by a wolf. You can run the cell as usual and it will loop indefinetely until you cancel execution with <b>Ctrl + C</b>.\n",
    "    \n",
    "    However, both Sheep and Wolf have no mechanics implemented. \n",
    "    \n",
    "    <ol type=\"1\">\n",
    "        <li>Add a method <b>move</b> to <b>GameObject</b> and call <b>move</b> in every game cycle. This method is a so called actract method that expects objects deriving from <b>GameObject</b> to implement it.</li> \n",
    "        <li>If the object is a Sheep, flip a fair coin. If head, it should read the position of the wolf and move away from it. Otherwise it should panic and move in a random direction.</li>  \n",
    "        <li>If the object is a wolf, it should move one cell towards the closest sheep.</li> \n",
    "    </ol>\n",
    "</div>"
   ]
  },
  {
   "cell_type": "code",
   "execution_count": 144,
   "id": "16c38224-f6dc-4ac6-ab1b-1bbee8305343",
   "metadata": {},
   "outputs": [],
   "source": [
    "class GameObject:\n",
    "    def __init__(self,x,y):\n",
    "        self.x = x\n",
    "        self.y = y\n",
    "        \n",
    "    def move(self):\n",
    "        pass\n",
    "    \n",
    "    def stay_in_border(self, width=50, height=15):\n",
    "        self.x = min(self.x, width-3)\n",
    "        self.x = max(self.x, 1)\n",
    "        self.y = min(self.y, height-3)\n",
    "        self.y = max(self.y, 1)\n",
    "\n",
    "class Sheep(GameObject):\n",
    "    def __init__(self,x,y):\n",
    "        super(Sheep, self).__init__(x,y)\n",
    "        self.symbol = \"o\"\n",
    "        \n",
    "    def set_wolf(self, wolf):\n",
    "        self.wolf = wolf\n",
    "        \n",
    "    def move(self):\n",
    "        if np.random.random() < 0.5:\n",
    "            if self.wolf.x < self.x:\n",
    "                self.x += 1\n",
    "            elif self.wolf.x > self.x:\n",
    "                self.x -= 1\n",
    "            elif self.wolf.y < self.y:\n",
    "                self.y += 1\n",
    "            elif self.wolf.y > self.y:\n",
    "                self.y -= 1\n",
    "        else: #PANIC!!\n",
    "            if np.random.random() < 0.5:\n",
    "                self.x += 1\n",
    "            else:\n",
    "                self.x -= 1\n",
    "            if np.random.random() < 0.5:\n",
    "                self.y += 1\n",
    "            else:\n",
    "                self.y -= 1\n",
    "        \n",
    "class Wolf(GameObject):\n",
    "    def __init__(self,x,y):\n",
    "        super(Wolf, self).__init__(x,y)\n",
    "        self.symbol = \"w\"\n",
    "        \n",
    "    def set_sheep(self, sheep):\n",
    "        self.sheep = sheep\n",
    "        \n",
    "    def move(self):\n",
    "        closest_sheep = self.sheep[0]\n",
    "        closest_dist = abs(closest_sheep.x - self.x) + abs(closest_sheep.y - self.y)\n",
    "        for sheep in self.sheep[1:]:\n",
    "            dist = abs(sheep.x - self.x) + abs(sheep.y - self.y)\n",
    "            if dist < closest_dist:\n",
    "                closest_dist = dist\n",
    "                closest_sheep = sheep\n",
    "        if closest_sheep.x < self.x:\n",
    "            self.x -= 1\n",
    "        elif closest_sheep.x > self.x:\n",
    "            self.x += 1\n",
    "        elif closest_sheep.y < self.y:\n",
    "            self.y -= 1\n",
    "        elif closest_sheep.y > self.y:\n",
    "            self.y += 1"
   ]
  },
  {
   "cell_type": "code",
   "execution_count": 147,
   "id": "4860ba9b-e50f-4b68-80c0-cc287d357d44",
   "metadata": {},
   "outputs": [
    {
     "name": "stdout",
     "output_type": "stream",
     "text": [
      "##################################################\n",
      "#                                                #\n",
      "#                                                #\n",
      "#                                    o         o #\n",
      "#                                   w            #\n",
      "#                                                #\n",
      "#                                                #\n",
      "#                                                #\n",
      "#                                                #\n",
      "#                                                #\n",
      "#                                                #\n",
      "#                                                #\n",
      "#                                                #\n",
      "#                                                #\n",
      "##################################################\n"
     ]
    },
    {
     "ename": "KeyboardInterrupt",
     "evalue": "",
     "output_type": "error",
     "traceback": [
      "\u001b[0;31m---------------------------------------------------------------------------\u001b[0m",
      "\u001b[0;31mKeyboardInterrupt\u001b[0m                         Traceback (most recent call last)",
      "\u001b[0;32m<ipython-input-147-d3606943e838>\u001b[0m in \u001b[0;36m<module>\u001b[0;34m\u001b[0m\n\u001b[1;32m     37\u001b[0m \u001b[0;32mwhile\u001b[0m \u001b[0;32mTrue\u001b[0m\u001b[0;34m:\u001b[0m\u001b[0;34m\u001b[0m\u001b[0;34m\u001b[0m\u001b[0m\n\u001b[1;32m     38\u001b[0m     \u001b[0mupdate_and_print_world\u001b[0m\u001b[0;34m(\u001b[0m\u001b[0mobjects\u001b[0m\u001b[0;34m)\u001b[0m\u001b[0;34m\u001b[0m\u001b[0;34m\u001b[0m\u001b[0m\n\u001b[0;32m---> 39\u001b[0;31m     \u001b[0mtime\u001b[0m\u001b[0;34m.\u001b[0m\u001b[0msleep\u001b[0m\u001b[0;34m(\u001b[0m\u001b[0;36m0.5\u001b[0m\u001b[0;34m)\u001b[0m\u001b[0;34m\u001b[0m\u001b[0;34m\u001b[0m\u001b[0m\n\u001b[0m",
      "\u001b[0;31mKeyboardInterrupt\u001b[0m: "
     ]
    }
   ],
   "source": [
    "import time\n",
    "from IPython.display import clear_output\n",
    "\n",
    "def update_and_print_world(objects = [], width=50, heigth=15):\n",
    "    clear_output(wait=True)\n",
    "    #update \n",
    "    for o in objects:\n",
    "        o.move()\n",
    "        o.stay_in_border()\n",
    "    #print\n",
    "    print(\"#\"*width)\n",
    "    for y in range(heigth-2):\n",
    "        line = \"#\"\n",
    "        for x in range(1, width-1):\n",
    "            any_obj = False\n",
    "            for o in objects:\n",
    "                if x == o.x and y == o.y:\n",
    "                    line += o.symbol\n",
    "                    any_obj = True\n",
    "                    break\n",
    "            if not any_obj:\n",
    "                line += \" \"\n",
    "        line += \"#\"\n",
    "        print(line)\n",
    "    print(\"#\"*width)\n",
    "\n",
    "sheep1 = Sheep(24, 10)\n",
    "sheep2 = Sheep(28, 1)\n",
    "wolf = Wolf(30,10)\n",
    "\n",
    "sheep1.set_wolf(wolf)\n",
    "sheep2.set_wolf(wolf)\n",
    "wolf.set_sheep([sheep1, sheep2])\n",
    "    \n",
    "objects = [wolf, sheep1, sheep2]    \n",
    "    \n",
    "while True:\n",
    "    update_and_print_world(objects)\n",
    "    time.sleep(0.5)"
   ]
  },
  {
   "cell_type": "markdown",
   "id": "19e64791-cf45-4ea5-ab08-0d4fbc89c315",
   "metadata": {},
   "source": [
    "<div class=\"alert alert-block alert-success\"><b>Bonus if there is time left:</b>\n",
    "    Implement that the wolf can actually catch a sheep and it will disappear from the objects list.\n",
    "</div>"
   ]
  },
  {
   "cell_type": "code",
   "execution_count": null,
   "id": "aebdf5c1-2185-45d2-839a-0c016142275d",
   "metadata": {},
   "outputs": [],
   "source": []
  }
 ],
 "metadata": {
  "kernelspec": {
   "display_name": "Python 3",
   "language": "python",
   "name": "python3"
  },
  "language_info": {
   "codemirror_mode": {
    "name": "ipython",
    "version": 3
   },
   "file_extension": ".py",
   "mimetype": "text/x-python",
   "name": "python",
   "nbconvert_exporter": "python",
   "pygments_lexer": "ipython3",
   "version": "3.9.2"
  }
 },
 "nbformat": 4,
 "nbformat_minor": 5
}
