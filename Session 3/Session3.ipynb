{
 "cells": [
  {
   "cell_type": "markdown",
   "id": "eaa39892-e593-434d-a6b2-e9f6bdd1f09f",
   "metadata": {},
   "source": [
    "# Introduction to Python for People with Programming Experience\n",
    "\n",
    "\n",
    "## Session 3 / 4 - 28.09.2022 9:00 - 13:00\n",
    "\n",
    "*by Fabian Wilde, Katharina Hoff, Matthis Ebel, Mario Stanke & Felix Becker*\n",
    "\n",
    "Contact: felix.becker@uni-greifswald.de"
   ]
  },
  {
   "cell_type": "markdown",
   "id": "65ccadc8-0377-4885-9bc4-b5b92f5b303c",
   "metadata": {},
   "source": [
    "<br><br><br>\n",
    "## A short introduction to Pandas\n",
    "\n",
    "<br>\n",
    "<font size=\"3\">\n",
    "Neither NumPy arrays, nor any of the native Python data structures (e.g. lists, dicts, ...) are suitable to handle the data that is typically generated in scientific experiments or by surveys. These are typically tables where different columns may have different data types (e.g. \"name\", \"body height\", \"has disease\"). As you could see, this is problematic when numpy is used, because numpy stores data as a single chunk of memory where all elements share the same datatype. \n",
    " <br>  \n",
    "One solution in Python is to use <a href=\"https://pandas.pydata.org/\">Pandas</a>. Pandas is also most popular for time series data and it also facilitates any statistical evaluation on big data sets.\n",
    "<br><br>\n",
    "If we want to use Pandas, we have to import it:\n",
    "</font>"
   ]
  },
  {
   "cell_type": "code",
   "execution_count": 1,
   "id": "f3e399fb-b692-41c7-b8a8-a235bb51984b",
   "metadata": {},
   "outputs": [],
   "source": [
    "import pandas as pd"
   ]
  },
  {
   "cell_type": "markdown",
   "id": "7d3fb1f0-ccbf-4437-b659-7c47320f95e6",
   "metadata": {},
   "source": [
    "<font size=\"3\">\n",
    "With Pandas, we can easily import a csv file that had previously been exported from LibreOffice Calc (or similar Office software):\n",
    "</font>"
   ]
  },
  {
   "cell_type": "code",
   "execution_count": 2,
   "id": "bdb11aaa-56e3-4b25-8f15-848915ee4d7b",
   "metadata": {},
   "outputs": [
    {
     "data": {
      "text/html": [
       "<div>\n",
       "<style scoped>\n",
       "    .dataframe tbody tr th:only-of-type {\n",
       "        vertical-align: middle;\n",
       "    }\n",
       "\n",
       "    .dataframe tbody tr th {\n",
       "        vertical-align: top;\n",
       "    }\n",
       "\n",
       "    .dataframe thead th {\n",
       "        text-align: right;\n",
       "    }\n",
       "</style>\n",
       "<table border=\"1\" class=\"dataframe\">\n",
       "  <thead>\n",
       "    <tr style=\"text-align: right;\">\n",
       "      <th></th>\n",
       "      <th>variety</th>\n",
       "      <th>yield</th>\n",
       "    </tr>\n",
       "  </thead>\n",
       "  <tbody>\n",
       "    <tr>\n",
       "      <th>0</th>\n",
       "      <td>A</td>\n",
       "      <td>25.12</td>\n",
       "    </tr>\n",
       "    <tr>\n",
       "      <th>1</th>\n",
       "      <td>A</td>\n",
       "      <td>17.25</td>\n",
       "    </tr>\n",
       "    <tr>\n",
       "      <th>2</th>\n",
       "      <td>A</td>\n",
       "      <td>26.42</td>\n",
       "    </tr>\n",
       "    <tr>\n",
       "      <th>3</th>\n",
       "      <td>A</td>\n",
       "      <td>16.08</td>\n",
       "    </tr>\n",
       "    <tr>\n",
       "      <th>4</th>\n",
       "      <td>A</td>\n",
       "      <td>22.15</td>\n",
       "    </tr>\n",
       "    <tr>\n",
       "      <th>5</th>\n",
       "      <td>A</td>\n",
       "      <td>15.92</td>\n",
       "    </tr>\n",
       "    <tr>\n",
       "      <th>6</th>\n",
       "      <td>B</td>\n",
       "      <td>40.25</td>\n",
       "    </tr>\n",
       "    <tr>\n",
       "      <th>7</th>\n",
       "      <td>B</td>\n",
       "      <td>35.25</td>\n",
       "    </tr>\n",
       "    <tr>\n",
       "      <th>8</th>\n",
       "      <td>B</td>\n",
       "      <td>31.98</td>\n",
       "    </tr>\n",
       "    <tr>\n",
       "      <th>9</th>\n",
       "      <td>B</td>\n",
       "      <td>36.52</td>\n",
       "    </tr>\n",
       "    <tr>\n",
       "      <th>10</th>\n",
       "      <td>B</td>\n",
       "      <td>43.32</td>\n",
       "    </tr>\n",
       "    <tr>\n",
       "      <th>11</th>\n",
       "      <td>B</td>\n",
       "      <td>37.10</td>\n",
       "    </tr>\n",
       "    <tr>\n",
       "      <th>12</th>\n",
       "      <td>C</td>\n",
       "      <td>18.30</td>\n",
       "    </tr>\n",
       "    <tr>\n",
       "      <th>13</th>\n",
       "      <td>C</td>\n",
       "      <td>22.60</td>\n",
       "    </tr>\n",
       "    <tr>\n",
       "      <th>14</th>\n",
       "      <td>C</td>\n",
       "      <td>25.90</td>\n",
       "    </tr>\n",
       "    <tr>\n",
       "      <th>15</th>\n",
       "      <td>C</td>\n",
       "      <td>15.05</td>\n",
       "    </tr>\n",
       "    <tr>\n",
       "      <th>16</th>\n",
       "      <td>C</td>\n",
       "      <td>11.42</td>\n",
       "    </tr>\n",
       "    <tr>\n",
       "      <th>17</th>\n",
       "      <td>C</td>\n",
       "      <td>23.68</td>\n",
       "    </tr>\n",
       "    <tr>\n",
       "      <th>18</th>\n",
       "      <td>D</td>\n",
       "      <td>28.55</td>\n",
       "    </tr>\n",
       "    <tr>\n",
       "      <th>19</th>\n",
       "      <td>D</td>\n",
       "      <td>28.05</td>\n",
       "    </tr>\n",
       "    <tr>\n",
       "      <th>20</th>\n",
       "      <td>D</td>\n",
       "      <td>33.20</td>\n",
       "    </tr>\n",
       "    <tr>\n",
       "      <th>21</th>\n",
       "      <td>D</td>\n",
       "      <td>31.68</td>\n",
       "    </tr>\n",
       "    <tr>\n",
       "      <th>22</th>\n",
       "      <td>D</td>\n",
       "      <td>30.32</td>\n",
       "    </tr>\n",
       "    <tr>\n",
       "      <th>23</th>\n",
       "      <td>D</td>\n",
       "      <td>27.58</td>\n",
       "    </tr>\n",
       "  </tbody>\n",
       "</table>\n",
       "</div>"
      ],
      "text/plain": [
       "   variety  yield\n",
       "0        A  25.12\n",
       "1        A  17.25\n",
       "2        A  26.42\n",
       "3        A  16.08\n",
       "4        A  22.15\n",
       "5        A  15.92\n",
       "6        B  40.25\n",
       "7        B  35.25\n",
       "8        B  31.98\n",
       "9        B  36.52\n",
       "10       B  43.32\n",
       "11       B  37.10\n",
       "12       C  18.30\n",
       "13       C  22.60\n",
       "14       C  25.90\n",
       "15       C  15.05\n",
       "16       C  11.42\n",
       "17       C  23.68\n",
       "18       D  28.55\n",
       "19       D  28.05\n",
       "20       D  33.20\n",
       "21       D  31.68\n",
       "22       D  30.32\n",
       "23       D  27.58"
      ]
     },
     "execution_count": 2,
     "metadata": {},
     "output_type": "execute_result"
    }
   ],
   "source": [
    "melon = pd.read_csv('data/melon.csv', sep='\\t')\n",
    "melon"
   ]
  },
  {
   "cell_type": "markdown",
   "id": "51c21179-667e-448b-a59b-f660c9d130eb",
   "metadata": {},
   "source": [
    "We can play with accessing parts of the melon data set. In pandas, we can use indexing in the table as usual with the `iloc` function."
   ]
  },
  {
   "cell_type": "code",
   "execution_count": 16,
   "id": "42b5acdb-9d01-42cb-8a38-759c00e22797",
   "metadata": {},
   "outputs": [
    {
     "name": "stdout",
     "output_type": "stream",
     "text": [
      "access lines 1 and 2, all columns:\n"
     ]
    },
    {
     "data": {
      "text/html": [
       "<div>\n",
       "<style scoped>\n",
       "    .dataframe tbody tr th:only-of-type {\n",
       "        vertical-align: middle;\n",
       "    }\n",
       "\n",
       "    .dataframe tbody tr th {\n",
       "        vertical-align: top;\n",
       "    }\n",
       "\n",
       "    .dataframe thead th {\n",
       "        text-align: right;\n",
       "    }\n",
       "</style>\n",
       "<table border=\"1\" class=\"dataframe\">\n",
       "  <thead>\n",
       "    <tr style=\"text-align: right;\">\n",
       "      <th></th>\n",
       "      <th>variety</th>\n",
       "      <th>yield</th>\n",
       "    </tr>\n",
       "  </thead>\n",
       "  <tbody>\n",
       "    <tr>\n",
       "      <th>1</th>\n",
       "      <td>A</td>\n",
       "      <td>17.25</td>\n",
       "    </tr>\n",
       "    <tr>\n",
       "      <th>2</th>\n",
       "      <td>A</td>\n",
       "      <td>26.42</td>\n",
       "    </tr>\n",
       "  </tbody>\n",
       "</table>\n",
       "</div>"
      ],
      "text/plain": [
       "  variety  yield\n",
       "1       A  17.25\n",
       "2       A  26.42"
      ]
     },
     "execution_count": 16,
     "metadata": {},
     "output_type": "execute_result"
    }
   ],
   "source": [
    "print(\"access lines 1 and 2, all columns:\")\n",
    "# line index is 0-based\n",
    "# integer-location based indexing for selection by position\n",
    "melon.iloc[1:3,:]"
   ]
  },
  {
   "cell_type": "code",
   "execution_count": 17,
   "id": "7724d19e-bb17-4f2b-964a-444cb06d3ff6",
   "metadata": {},
   "outputs": [
    {
     "name": "stdout",
     "output_type": "stream",
     "text": [
      "access a particular single value as scalar:\n"
     ]
    },
    {
     "data": {
      "text/plain": [
       "17.25"
      ]
     },
     "execution_count": 17,
     "metadata": {},
     "output_type": "execute_result"
    }
   ],
   "source": [
    "print(\"access a particular single value as scalar:\")\n",
    "melon.iloc[1,1]"
   ]
  },
  {
   "cell_type": "code",
   "execution_count": 18,
   "id": "e090de3b-904a-4e29-b0e5-2adcf1a4e1ef",
   "metadata": {},
   "outputs": [
    {
     "name": "stdout",
     "output_type": "stream",
     "text": [
      "access a column by name (only first couple of lines):\n"
     ]
    },
    {
     "data": {
      "text/plain": [
       "0    A\n",
       "1    A\n",
       "2    A\n",
       "3    A\n",
       "4    A\n",
       "Name: variety, dtype: object"
      ]
     },
     "execution_count": 18,
     "metadata": {},
     "output_type": "execute_result"
    }
   ],
   "source": [
    "print(\"access a column by name (only first couple of lines):\")\n",
    "# access a whole column with column name as index\n",
    "melon[\"variety\"].head() #melon.variety works as welL!"
   ]
  },
  {
   "cell_type": "code",
   "execution_count": 19,
   "id": "4d8b17c6-b891-4d28-8f7f-aee73b44986f",
   "metadata": {},
   "outputs": [
    {
     "name": "stdout",
     "output_type": "stream",
     "text": [
      "access multiple columns:\n"
     ]
    },
    {
     "data": {
      "text/html": [
       "<div>\n",
       "<style scoped>\n",
       "    .dataframe tbody tr th:only-of-type {\n",
       "        vertical-align: middle;\n",
       "    }\n",
       "\n",
       "    .dataframe tbody tr th {\n",
       "        vertical-align: top;\n",
       "    }\n",
       "\n",
       "    .dataframe thead th {\n",
       "        text-align: right;\n",
       "    }\n",
       "</style>\n",
       "<table border=\"1\" class=\"dataframe\">\n",
       "  <thead>\n",
       "    <tr style=\"text-align: right;\">\n",
       "      <th></th>\n",
       "      <th>variety</th>\n",
       "      <th>yield</th>\n",
       "    </tr>\n",
       "  </thead>\n",
       "  <tbody>\n",
       "    <tr>\n",
       "      <th>0</th>\n",
       "      <td>A</td>\n",
       "      <td>25.12</td>\n",
       "    </tr>\n",
       "    <tr>\n",
       "      <th>1</th>\n",
       "      <td>A</td>\n",
       "      <td>17.25</td>\n",
       "    </tr>\n",
       "    <tr>\n",
       "      <th>2</th>\n",
       "      <td>A</td>\n",
       "      <td>26.42</td>\n",
       "    </tr>\n",
       "    <tr>\n",
       "      <th>3</th>\n",
       "      <td>A</td>\n",
       "      <td>16.08</td>\n",
       "    </tr>\n",
       "    <tr>\n",
       "      <th>4</th>\n",
       "      <td>A</td>\n",
       "      <td>22.15</td>\n",
       "    </tr>\n",
       "  </tbody>\n",
       "</table>\n",
       "</div>"
      ],
      "text/plain": [
       "  variety  yield\n",
       "0       A  25.12\n",
       "1       A  17.25\n",
       "2       A  26.42\n",
       "3       A  16.08\n",
       "4       A  22.15"
      ]
     },
     "execution_count": 19,
     "metadata": {},
     "output_type": "execute_result"
    }
   ],
   "source": [
    "print(\"access multiple columns:\")\n",
    "# access multiple columns with list of column names\n",
    "melon[[\"variety\",\"yield\"]].head()"
   ]
  },
  {
   "cell_type": "code",
   "execution_count": 20,
   "id": "d1ef6d06-de57-4124-93b3-69ee41118236",
   "metadata": {},
   "outputs": [
    {
     "name": "stdout",
     "output_type": "stream",
     "text": [
      "yields rows of dataframe where yield >37:\n"
     ]
    },
    {
     "data": {
      "text/html": [
       "<div>\n",
       "<style scoped>\n",
       "    .dataframe tbody tr th:only-of-type {\n",
       "        vertical-align: middle;\n",
       "    }\n",
       "\n",
       "    .dataframe tbody tr th {\n",
       "        vertical-align: top;\n",
       "    }\n",
       "\n",
       "    .dataframe thead th {\n",
       "        text-align: right;\n",
       "    }\n",
       "</style>\n",
       "<table border=\"1\" class=\"dataframe\">\n",
       "  <thead>\n",
       "    <tr style=\"text-align: right;\">\n",
       "      <th></th>\n",
       "      <th>variety</th>\n",
       "      <th>yield</th>\n",
       "    </tr>\n",
       "  </thead>\n",
       "  <tbody>\n",
       "    <tr>\n",
       "      <th>6</th>\n",
       "      <td>B</td>\n",
       "      <td>40.25</td>\n",
       "    </tr>\n",
       "    <tr>\n",
       "      <th>10</th>\n",
       "      <td>B</td>\n",
       "      <td>43.32</td>\n",
       "    </tr>\n",
       "    <tr>\n",
       "      <th>11</th>\n",
       "      <td>B</td>\n",
       "      <td>37.10</td>\n",
       "    </tr>\n",
       "  </tbody>\n",
       "</table>\n",
       "</div>"
      ],
      "text/plain": [
       "   variety  yield\n",
       "6        B  40.25\n",
       "10       B  43.32\n",
       "11       B  37.10"
      ]
     },
     "execution_count": 20,
     "metadata": {},
     "output_type": "execute_result"
    }
   ],
   "source": [
    "# like in Numpy we can also use comparisons in Pandas when elements are addressed\n",
    "print(\"yields rows of dataframe where yield >37:\")\n",
    "melon[melon['yield'] > 37]"
   ]
  },
  {
   "cell_type": "code",
   "execution_count": 21,
   "id": "5ca09f0e-a7fe-4459-a96c-c980251a76b7",
   "metadata": {},
   "outputs": [
    {
     "name": "stdout",
     "output_type": "stream",
     "text": [
      "yields rows of dataframe where variety == D:\n"
     ]
    },
    {
     "data": {
      "text/html": [
       "<div>\n",
       "<style scoped>\n",
       "    .dataframe tbody tr th:only-of-type {\n",
       "        vertical-align: middle;\n",
       "    }\n",
       "\n",
       "    .dataframe tbody tr th {\n",
       "        vertical-align: top;\n",
       "    }\n",
       "\n",
       "    .dataframe thead th {\n",
       "        text-align: right;\n",
       "    }\n",
       "</style>\n",
       "<table border=\"1\" class=\"dataframe\">\n",
       "  <thead>\n",
       "    <tr style=\"text-align: right;\">\n",
       "      <th></th>\n",
       "      <th>variety</th>\n",
       "      <th>yield</th>\n",
       "    </tr>\n",
       "  </thead>\n",
       "  <tbody>\n",
       "    <tr>\n",
       "      <th>18</th>\n",
       "      <td>D</td>\n",
       "      <td>28.55</td>\n",
       "    </tr>\n",
       "    <tr>\n",
       "      <th>19</th>\n",
       "      <td>D</td>\n",
       "      <td>28.05</td>\n",
       "    </tr>\n",
       "    <tr>\n",
       "      <th>20</th>\n",
       "      <td>D</td>\n",
       "      <td>33.20</td>\n",
       "    </tr>\n",
       "    <tr>\n",
       "      <th>21</th>\n",
       "      <td>D</td>\n",
       "      <td>31.68</td>\n",
       "    </tr>\n",
       "    <tr>\n",
       "      <th>22</th>\n",
       "      <td>D</td>\n",
       "      <td>30.32</td>\n",
       "    </tr>\n",
       "    <tr>\n",
       "      <th>23</th>\n",
       "      <td>D</td>\n",
       "      <td>27.58</td>\n",
       "    </tr>\n",
       "  </tbody>\n",
       "</table>\n",
       "</div>"
      ],
      "text/plain": [
       "   variety  yield\n",
       "18       D  28.55\n",
       "19       D  28.05\n",
       "20       D  33.20\n",
       "21       D  31.68\n",
       "22       D  30.32\n",
       "23       D  27.58"
      ]
     },
     "execution_count": 21,
     "metadata": {},
     "output_type": "execute_result"
    }
   ],
   "source": [
    "# just selects entries matching the condition\n",
    "print(\"yields rows of dataframe where variety == D:\")\n",
    "melon[melon['variety'] == 'D']"
   ]
  },
  {
   "cell_type": "code",
   "execution_count": 22,
   "id": "4981773d-ab7d-4747-a22b-a14f1d65f5c1",
   "metadata": {},
   "outputs": [
    {
     "data": {
      "text/plain": [
       "variety    6\n",
       "yield      6\n",
       "dtype: int64"
      ]
     },
     "execution_count": 22,
     "metadata": {},
     "output_type": "execute_result"
    }
   ],
   "source": [
    "# count the number of occurrences of this variety \n",
    "melon[melon[\"variety\"] == \"C\"].count()"
   ]
  },
  {
   "cell_type": "code",
   "execution_count": 25,
   "id": "7ff3940f-50bc-453f-b7c0-90f508e83baa",
   "metadata": {},
   "outputs": [
    {
     "data": {
      "text/plain": [
       "6"
      ]
     },
     "execution_count": 25,
     "metadata": {},
     "output_type": "execute_result"
    }
   ],
   "source": [
    "# in this case .count() does the same as just using len()\n",
    "# however, .count() does not count NAN elements\n",
    "len(melon[melon[\"variety\"] == \"C\"])"
   ]
  },
  {
   "cell_type": "code",
   "execution_count": 26,
   "id": "db2ff86e-4e04-4dc9-a7b3-7b812fe15537",
   "metadata": {},
   "outputs": [
    {
     "name": "stdout",
     "output_type": "stream",
     "text": [
      "         yield\n",
      "variety       \n",
      "A            6\n",
      "B            6\n",
      "C            6\n",
      "D            6\n",
      "             yield\n",
      "variety           \n",
      "A        20.490000\n",
      "B        37.403333\n",
      "C        19.491667\n",
      "D        29.896667\n",
      "            yield\n",
      "variety          \n",
      "A        4.694422\n",
      "B        3.950497\n",
      "C        5.560052\n",
      "D        2.229894\n"
     ]
    }
   ],
   "source": [
    "# group-by functionality facilitates analyses\n",
    "# computes the mean for each data group based on column variety which can contain A,B,C or D\n",
    "print(melon.groupby(\"variety\").count())\n",
    "print(melon.groupby(\"variety\").mean())\n",
    "print(melon.groupby(\"variety\").std())"
   ]
  },
  {
   "cell_type": "markdown",
   "id": "7a3b6383-91f7-41ea-ae35-49bb06912146",
   "metadata": {},
   "source": [
    "<font size=\"3\">Table-like data in Pandas is stored in DataFrame objects, as we can see, when we check the datatype of our melon dataset:</font>"
   ]
  },
  {
   "cell_type": "code",
   "execution_count": 27,
   "id": "c8f30cb9-b2f9-4c75-8c9c-34d718bc7436",
   "metadata": {},
   "outputs": [
    {
     "data": {
      "text/plain": [
       "pandas.core.frame.DataFrame"
      ]
     },
     "execution_count": 27,
     "metadata": {},
     "output_type": "execute_result"
    }
   ],
   "source": [
    "type(melon)"
   ]
  },
  {
   "cell_type": "markdown",
   "id": "57c43408-19b8-449a-a400-1703494115ff",
   "metadata": {},
   "source": [
    "<font size=\"3\">A DataFrame can also be created manually from one or more lists or numpy arrays:</font>"
   ]
  },
  {
   "cell_type": "code",
   "execution_count": 28,
   "id": "e3b5d816-d51a-485d-8bc9-f086d2a68d5f",
   "metadata": {},
   "outputs": [
    {
     "data": {
      "text/html": [
       "<div>\n",
       "<style scoped>\n",
       "    .dataframe tbody tr th:only-of-type {\n",
       "        vertical-align: middle;\n",
       "    }\n",
       "\n",
       "    .dataframe tbody tr th {\n",
       "        vertical-align: top;\n",
       "    }\n",
       "\n",
       "    .dataframe thead th {\n",
       "        text-align: right;\n",
       "    }\n",
       "</style>\n",
       "<table border=\"1\" class=\"dataframe\">\n",
       "  <thead>\n",
       "    <tr style=\"text-align: right;\">\n",
       "      <th></th>\n",
       "      <th>numbers</th>\n",
       "    </tr>\n",
       "  </thead>\n",
       "  <tbody>\n",
       "    <tr>\n",
       "      <th>a</th>\n",
       "      <td>123</td>\n",
       "    </tr>\n",
       "    <tr>\n",
       "      <th>b</th>\n",
       "      <td>23</td>\n",
       "    </tr>\n",
       "    <tr>\n",
       "      <th>c</th>\n",
       "      <td>54</td>\n",
       "    </tr>\n",
       "    <tr>\n",
       "      <th>d</th>\n",
       "      <td>15</td>\n",
       "    </tr>\n",
       "    <tr>\n",
       "      <th>e</th>\n",
       "      <td>89</td>\n",
       "    </tr>\n",
       "  </tbody>\n",
       "</table>\n",
       "</div>"
      ],
      "text/plain": [
       "   numbers\n",
       "a      123\n",
       "b       23\n",
       "c       54\n",
       "d       15\n",
       "e       89"
      ]
     },
     "execution_count": 28,
     "metadata": {},
     "output_type": "execute_result"
    }
   ],
   "source": [
    "# You can define a name for each column with the parameter columns\n",
    "# The special thing about Pandas is now that one column can also be defined as index or can\n",
    "# be explicitly defined. Indexation is a key feature of big databases to speed-up queries.b\n",
    "df = pd.DataFrame([123,23,54,15,89], columns=[\"numbers\"], index=[\"a\",\"b\",\"c\",\"d\",\"e\"])\n",
    "df"
   ]
  },
  {
   "cell_type": "markdown",
   "id": "621cb1cd-b26c-486a-ad9c-915067a638a9",
   "metadata": {},
   "source": [
    "You can then access elements also by their identifiers specified in with the *index* argument above using `loc`."
   ]
  },
  {
   "cell_type": "code",
   "execution_count": 29,
   "id": "fe6d94ac-23f2-40fd-9608-23750b210439",
   "metadata": {},
   "outputs": [
    {
     "name": "stdout",
     "output_type": "stream",
     "text": [
      "df.loc[c]: \n",
      " numbers    54\n",
      "Name: c, dtype: int64 \n",
      "\n",
      "df.iloc[2]: \n",
      " numbers    54\n",
      "Name: c, dtype: int64\n"
     ]
    }
   ],
   "source": [
    "print(\"df.loc[c]: \\n\", df.loc[\"c\"], \"\\n\")\n",
    "#which is the same as\n",
    "print(\"df.iloc[2]: \\n\", df.iloc[2])"
   ]
  },
  {
   "cell_type": "markdown",
   "id": "65e83393-9ac8-40f6-bf7f-b6537f25429f",
   "metadata": {},
   "source": [
    "The distinction is useful for instance when splitting or concatenating dataframes: `iloc` will change, `loc` won't:"
   ]
  },
  {
   "cell_type": "code",
   "execution_count": 30,
   "id": "05426c8c-3714-40bc-89bd-3b8e54a04e24",
   "metadata": {},
   "outputs": [
    {
     "name": "stdout",
     "output_type": "stream",
     "text": [
      "df_sliced:\n",
      "    numbers\n",
      "c       54\n",
      "d       15\n",
      "e       89 \n",
      "\n",
      "df.loc[c]: \n",
      " numbers    54\n",
      "Name: c, dtype: int64 \n",
      "\n",
      "df.iloc[2]: \n",
      " numbers    89\n",
      "Name: e, dtype: int64\n"
     ]
    }
   ],
   "source": [
    "df_sliced = df[2:]\n",
    "print(\"df_sliced:\\n\", df_sliced, \"\\n\")\n",
    "print(\"df.loc[c]: \\n\", df_sliced.loc[\"c\"], \"\\n\")\n",
    "print(\"df.iloc[2]: \\n\", df_sliced.iloc[2])"
   ]
  },
  {
   "cell_type": "markdown",
   "id": "930c9dba-c9d0-49cb-bf0a-5db38a981551",
   "metadata": {},
   "source": [
    "<font size=\"3\">A Pandas DataFrame object also has useful attributes like index and columns:</font>"
   ]
  },
  {
   "cell_type": "code",
   "execution_count": 31,
   "id": "70387d89-4fd6-4e36-8745-6352f8dda9ca",
   "metadata": {},
   "outputs": [
    {
     "name": "stdout",
     "output_type": "stream",
     "text": [
      "Index(['a', 'b', 'c', 'd', 'e'], dtype='object')\n",
      "Index(['numbers'], dtype='object')\n",
      "numbers    int64\n",
      "dtype: object\n"
     ]
    }
   ],
   "source": [
    "print(df.index)\n",
    "print(df.columns)\n",
    "print(df.dtypes)"
   ]
  },
  {
   "cell_type": "markdown",
   "id": "569795aa-0787-43b3-b2d4-497116e499b0",
   "metadata": {},
   "source": [
    "<font size=\"3\">Once defined, in contrast to a numpy array, a DataFrame can be enlarged as well by other columns even if the columns contain a different data type:</font>"
   ]
  },
  {
   "cell_type": "code",
   "execution_count": 32,
   "id": "2bf183b8-a09d-4362-bb53-1a72550a86c0",
   "metadata": {},
   "outputs": [
    {
     "data": {
      "text/html": [
       "<div>\n",
       "<style scoped>\n",
       "    .dataframe tbody tr th:only-of-type {\n",
       "        vertical-align: middle;\n",
       "    }\n",
       "\n",
       "    .dataframe tbody tr th {\n",
       "        vertical-align: top;\n",
       "    }\n",
       "\n",
       "    .dataframe thead th {\n",
       "        text-align: right;\n",
       "    }\n",
       "</style>\n",
       "<table border=\"1\" class=\"dataframe\">\n",
       "  <thead>\n",
       "    <tr style=\"text-align: right;\">\n",
       "      <th></th>\n",
       "      <th>numbers</th>\n",
       "      <th>floats</th>\n",
       "      <th>names</th>\n",
       "    </tr>\n",
       "  </thead>\n",
       "  <tbody>\n",
       "    <tr>\n",
       "      <th>a</th>\n",
       "      <td>123</td>\n",
       "      <td>1.23</td>\n",
       "      <td>Marco</td>\n",
       "    </tr>\n",
       "    <tr>\n",
       "      <th>b</th>\n",
       "      <td>23</td>\n",
       "      <td>5.67</td>\n",
       "      <td>Alex</td>\n",
       "    </tr>\n",
       "    <tr>\n",
       "      <th>c</th>\n",
       "      <td>54</td>\n",
       "      <td>4.31</td>\n",
       "      <td>John</td>\n",
       "    </tr>\n",
       "    <tr>\n",
       "      <th>d</th>\n",
       "      <td>15</td>\n",
       "      <td>6.89</td>\n",
       "      <td>Michael</td>\n",
       "    </tr>\n",
       "    <tr>\n",
       "      <th>e</th>\n",
       "      <td>89</td>\n",
       "      <td>5.34</td>\n",
       "      <td>Alistair</td>\n",
       "    </tr>\n",
       "  </tbody>\n",
       "</table>\n",
       "</div>"
      ],
      "text/plain": [
       "   numbers  floats     names\n",
       "a      123    1.23     Marco\n",
       "b       23    5.67      Alex\n",
       "c       54    4.31      John\n",
       "d       15    6.89   Michael\n",
       "e       89    5.34  Alistair"
      ]
     },
     "execution_count": 32,
     "metadata": {},
     "output_type": "execute_result"
    }
   ],
   "source": [
    "df['floats'] = [1.23, 5.67, 4.31, 6.89, 5.34]\n",
    "df['names'] = ['Marco', 'Alex', 'John', 'Michael', 'Alistair']\n",
    "df"
   ]
  },
  {
   "cell_type": "code",
   "execution_count": 33,
   "id": "ba89b622-6904-44ce-881b-e92a10c1e59f",
   "metadata": {},
   "outputs": [
    {
     "data": {
      "text/plain": [
       "numbers      int64\n",
       "floats     float64\n",
       "names       object\n",
       "dtype: object"
      ]
     },
     "execution_count": 33,
     "metadata": {},
     "output_type": "execute_result"
    }
   ],
   "source": [
    "df.dtypes"
   ]
  },
  {
   "cell_type": "markdown",
   "id": "ebce134e-9e97-4a01-9248-d9c6bbe9fe79",
   "metadata": {},
   "source": [
    "<font size=\"3\">Or we simply add a new row with data providing a new DataFrame, but once an index has been defined, we need to make sure to provide the index values as well:</font>"
   ]
  },
  {
   "cell_type": "code",
   "execution_count": 35,
   "id": "c68cd526-ccd5-4a6d-8353-dae5caf9fda9",
   "metadata": {},
   "outputs": [
    {
     "data": {
      "text/html": [
       "<div>\n",
       "<style scoped>\n",
       "    .dataframe tbody tr th:only-of-type {\n",
       "        vertical-align: middle;\n",
       "    }\n",
       "\n",
       "    .dataframe tbody tr th {\n",
       "        vertical-align: top;\n",
       "    }\n",
       "\n",
       "    .dataframe thead th {\n",
       "        text-align: right;\n",
       "    }\n",
       "</style>\n",
       "<table border=\"1\" class=\"dataframe\">\n",
       "  <thead>\n",
       "    <tr style=\"text-align: right;\">\n",
       "      <th></th>\n",
       "      <th>numbers</th>\n",
       "      <th>floats</th>\n",
       "      <th>names</th>\n",
       "    </tr>\n",
       "  </thead>\n",
       "  <tbody>\n",
       "    <tr>\n",
       "      <th>a</th>\n",
       "      <td>123</td>\n",
       "      <td>1.23</td>\n",
       "      <td>Marco</td>\n",
       "    </tr>\n",
       "    <tr>\n",
       "      <th>b</th>\n",
       "      <td>23</td>\n",
       "      <td>5.67</td>\n",
       "      <td>Alex</td>\n",
       "    </tr>\n",
       "    <tr>\n",
       "      <th>c</th>\n",
       "      <td>54</td>\n",
       "      <td>4.31</td>\n",
       "      <td>John</td>\n",
       "    </tr>\n",
       "    <tr>\n",
       "      <th>d</th>\n",
       "      <td>15</td>\n",
       "      <td>6.89</td>\n",
       "      <td>Michael</td>\n",
       "    </tr>\n",
       "    <tr>\n",
       "      <th>e</th>\n",
       "      <td>89</td>\n",
       "      <td>5.34</td>\n",
       "      <td>Alistair</td>\n",
       "    </tr>\n",
       "    <tr>\n",
       "      <th>f</th>\n",
       "      <td>7</td>\n",
       "      <td>111.98</td>\n",
       "      <td>Jenny</td>\n",
       "    </tr>\n",
       "  </tbody>\n",
       "</table>\n",
       "</div>"
      ],
      "text/plain": [
       "   numbers  floats     names\n",
       "a      123    1.23     Marco\n",
       "b       23    5.67      Alex\n",
       "c       54    4.31      John\n",
       "d       15    6.89   Michael\n",
       "e       89    5.34  Alistair\n",
       "f        7  111.98     Jenny"
      ]
     },
     "execution_count": 35,
     "metadata": {},
     "output_type": "execute_result"
    }
   ],
   "source": [
    "df.append(pd.DataFrame({'numbers': 7, 'floats': 111.98, 'names': \"Jenny\"}, index=['f']))"
   ]
  },
  {
   "cell_type": "markdown",
   "id": "b314829d-215c-43b6-9242-1cab544a6a43",
   "metadata": {},
   "source": [
    "Appending a dataframe that contains elements with the same index will overwrite previous rows with that index. The following cell replaces Jenny's row with Florian's."
   ]
  },
  {
   "cell_type": "code",
   "execution_count": 36,
   "id": "a925c2db-3017-46c5-a6bf-f313a3cf905b",
   "metadata": {},
   "outputs": [
    {
     "data": {
      "text/html": [
       "<div>\n",
       "<style scoped>\n",
       "    .dataframe tbody tr th:only-of-type {\n",
       "        vertical-align: middle;\n",
       "    }\n",
       "\n",
       "    .dataframe tbody tr th {\n",
       "        vertical-align: top;\n",
       "    }\n",
       "\n",
       "    .dataframe thead th {\n",
       "        text-align: right;\n",
       "    }\n",
       "</style>\n",
       "<table border=\"1\" class=\"dataframe\">\n",
       "  <thead>\n",
       "    <tr style=\"text-align: right;\">\n",
       "      <th></th>\n",
       "      <th>numbers</th>\n",
       "      <th>floats</th>\n",
       "      <th>names</th>\n",
       "    </tr>\n",
       "  </thead>\n",
       "  <tbody>\n",
       "    <tr>\n",
       "      <th>a</th>\n",
       "      <td>123</td>\n",
       "      <td>1.23</td>\n",
       "      <td>Marco</td>\n",
       "    </tr>\n",
       "    <tr>\n",
       "      <th>b</th>\n",
       "      <td>23</td>\n",
       "      <td>5.67</td>\n",
       "      <td>Alex</td>\n",
       "    </tr>\n",
       "    <tr>\n",
       "      <th>c</th>\n",
       "      <td>54</td>\n",
       "      <td>4.31</td>\n",
       "      <td>John</td>\n",
       "    </tr>\n",
       "    <tr>\n",
       "      <th>d</th>\n",
       "      <td>15</td>\n",
       "      <td>6.89</td>\n",
       "      <td>Michael</td>\n",
       "    </tr>\n",
       "    <tr>\n",
       "      <th>e</th>\n",
       "      <td>89</td>\n",
       "      <td>5.34</td>\n",
       "      <td>Alistair</td>\n",
       "    </tr>\n",
       "    <tr>\n",
       "      <th>f</th>\n",
       "      <td>273</td>\n",
       "      <td>8.98</td>\n",
       "      <td>Florian</td>\n",
       "    </tr>\n",
       "  </tbody>\n",
       "</table>\n",
       "</div>"
      ],
      "text/plain": [
       "   numbers  floats     names\n",
       "a      123    1.23     Marco\n",
       "b       23    5.67      Alex\n",
       "c       54    4.31      John\n",
       "d       15    6.89   Michael\n",
       "e       89    5.34  Alistair\n",
       "f      273    8.98   Florian"
      ]
     },
     "execution_count": 36,
     "metadata": {},
     "output_type": "execute_result"
    }
   ],
   "source": [
    "df.append(pd.DataFrame({'numbers': 273, 'floats': 8.98, 'names': \"Florian\"}, index=['f']))"
   ]
  },
  {
   "cell_type": "markdown",
   "id": "188d17d1-30bd-4bed-86bf-a7cac7fabe25",
   "metadata": {},
   "source": [
    "<div class=\"alert alert-block alert-success\"><b>Exercise:</b>\n",
    "Check out the original dataframe and some transformations applied to it in the next cell. Answer the following questions intuitively before checking the correct answer with code. After the slicing and concatenating,\n",
    "<ol>\n",
    "    <li>what name prints df_new.loc[0]?</li>\n",
    "    <li>what name prints df_new.iloc[0]?</li>\n",
    "    <li>what name prints df_new.loc[-1]?</li>\n",
    "    <li>what name prints df_new.iloc[-1]?</li>\n",
    "</ol>\n",
    "</div>"
   ]
  },
  {
   "cell_type": "code",
   "execution_count": 38,
   "id": "7fbba276-ba38-4aca-8b4e-6be771487ef6",
   "metadata": {},
   "outputs": [
    {
     "name": "stdout",
     "output_type": "stream",
     "text": [
      "df:\n",
      "    numbers  floats     names\n",
      "0      123    1.23     Marco\n",
      "1       23    5.67      Alex\n",
      "2       54    4.31      John\n",
      "3       15    6.89   Michael\n",
      "4       89    5.34  Alistair\n",
      "df_new:\n",
      " ?\n"
     ]
    }
   ],
   "source": [
    "df = pd.DataFrame()\n",
    "df['numbers'] = [123,23,54,15,89]\n",
    "df['floats'] = [1.23, 5.67, 4.31, 6.89, 5.34]\n",
    "df['names'] = ['Marco', 'Alex', 'John', 'Michael', 'Alistair']\n",
    "print(\"df:\\n\", df)\n",
    "\n",
    "#apply some slicing and concatenating\n",
    "df1 = df.iloc[1:-1]\n",
    "df2 = df1.loc[2]\n",
    "df3 = df.iloc[0]\n",
    "df_new = df1.append(df2).append(df3)\n",
    "print(\"df_new:\\n\", \"?\")"
   ]
  },
  {
   "cell_type": "code",
   "execution_count": null,
   "id": "5f44961b-2468-487c-af49-487a9f954e13",
   "metadata": {},
   "outputs": [],
   "source": [
    "# YOUR CODE HERE\n",
    "# make your guess for 1.-4. before writing any code"
   ]
  },
  {
   "cell_type": "markdown",
   "id": "f2fbbb7c-82f4-4d5d-b101-8bb9408d412d",
   "metadata": {},
   "source": [
    "<br><br>\n",
    "<font size=\"3\">The index of a Pandas DataFrame can also be a timestamp which is useful for time series data. Pandas also has some useful built-in plotting functionality. As example, we load the dataset of the DAX share price index and plot it using Pandas."
   ]
  },
  {
   "cell_type": "markdown",
   "id": "c4b566bf-8153-40c7-b9ff-999a31189b30",
   "metadata": {},
   "source": [
    " \n",
    "<b>We need to install a new package first:</b></font>"
   ]
  },
  {
   "cell_type": "code",
   "execution_count": null,
   "id": "753502c4-fec3-4453-89ca-5e4fc48dd697",
   "metadata": {},
   "outputs": [],
   "source": [
    "%%bash\n",
    "pip install pandas-datareader"
   ]
  },
  {
   "cell_type": "markdown",
   "id": "053f6e84-e9dd-4dc6-8af8-3681d61945d7",
   "metadata": {},
   "source": [
    "Then we need to import the new module and download the data. According to the doc:\n",
    "\n",
    "*Functions from pandas_datareader.data and pandas_datareader.wb extract data from various Internet sources into a pandas DataFrame.*\n",
    "\n",
    "In the function we use the following endpoint:\n",
    "\n",
    "*yahoo - retrieve daily stock prices (high, open, close, volu,e and adjusted close)*\n",
    "\n",
    "where `name='^GDAXI'` is the name of a particular stock.\n",
    "\n",
    "This is just another example of how a python package simplifies a tedious task behind a single function call for us."
   ]
  },
  {
   "cell_type": "code",
   "execution_count": 11,
   "id": "1471d73d-0b6e-435d-a8fa-40ab74ffe94c",
   "metadata": {},
   "outputs": [
    {
     "data": {
      "text/html": [
       "<div>\n",
       "<style scoped>\n",
       "    .dataframe tbody tr th:only-of-type {\n",
       "        vertical-align: middle;\n",
       "    }\n",
       "\n",
       "    .dataframe tbody tr th {\n",
       "        vertical-align: top;\n",
       "    }\n",
       "\n",
       "    .dataframe thead th {\n",
       "        text-align: right;\n",
       "    }\n",
       "</style>\n",
       "<table border=\"1\" class=\"dataframe\">\n",
       "  <thead>\n",
       "    <tr style=\"text-align: right;\">\n",
       "      <th></th>\n",
       "      <th>High</th>\n",
       "      <th>Low</th>\n",
       "      <th>Open</th>\n",
       "      <th>Close</th>\n",
       "      <th>Volume</th>\n",
       "      <th>Adj Close</th>\n",
       "    </tr>\n",
       "    <tr>\n",
       "      <th>Date</th>\n",
       "      <th></th>\n",
       "      <th></th>\n",
       "      <th></th>\n",
       "      <th></th>\n",
       "      <th></th>\n",
       "      <th></th>\n",
       "    </tr>\n",
       "  </thead>\n",
       "  <tbody>\n",
       "    <tr>\n",
       "      <th>2000-01-03</th>\n",
       "      <td>7159.330078</td>\n",
       "      <td>6720.870117</td>\n",
       "      <td>6961.720215</td>\n",
       "      <td>6750.759766</td>\n",
       "      <td>43072500.0</td>\n",
       "      <td>6750.759766</td>\n",
       "    </tr>\n",
       "    <tr>\n",
       "      <th>2000-01-04</th>\n",
       "      <td>6755.359863</td>\n",
       "      <td>6510.459961</td>\n",
       "      <td>6747.240234</td>\n",
       "      <td>6586.950195</td>\n",
       "      <td>46678400.0</td>\n",
       "      <td>6586.950195</td>\n",
       "    </tr>\n",
       "    <tr>\n",
       "      <th>2000-01-05</th>\n",
       "      <td>6585.850098</td>\n",
       "      <td>6388.910156</td>\n",
       "      <td>6585.850098</td>\n",
       "      <td>6502.069824</td>\n",
       "      <td>52682800.0</td>\n",
       "      <td>6502.069824</td>\n",
       "    </tr>\n",
       "    <tr>\n",
       "      <th>2000-01-06</th>\n",
       "      <td>6539.310059</td>\n",
       "      <td>6402.629883</td>\n",
       "      <td>6501.450195</td>\n",
       "      <td>6474.919922</td>\n",
       "      <td>41180600.0</td>\n",
       "      <td>6474.919922</td>\n",
       "    </tr>\n",
       "    <tr>\n",
       "      <th>2000-01-07</th>\n",
       "      <td>6791.529785</td>\n",
       "      <td>6470.140137</td>\n",
       "      <td>6489.939941</td>\n",
       "      <td>6780.959961</td>\n",
       "      <td>56058900.0</td>\n",
       "      <td>6780.959961</td>\n",
       "    </tr>\n",
       "  </tbody>\n",
       "</table>\n",
       "</div>"
      ],
      "text/plain": [
       "                   High          Low         Open        Close      Volume  \\\n",
       "Date                                                                         \n",
       "2000-01-03  7159.330078  6720.870117  6961.720215  6750.759766  43072500.0   \n",
       "2000-01-04  6755.359863  6510.459961  6747.240234  6586.950195  46678400.0   \n",
       "2000-01-05  6585.850098  6388.910156  6585.850098  6502.069824  52682800.0   \n",
       "2000-01-06  6539.310059  6402.629883  6501.450195  6474.919922  41180600.0   \n",
       "2000-01-07  6791.529785  6470.140137  6489.939941  6780.959961  56058900.0   \n",
       "\n",
       "              Adj Close  \n",
       "Date                     \n",
       "2000-01-03  6750.759766  \n",
       "2000-01-04  6586.950195  \n",
       "2000-01-05  6502.069824  \n",
       "2000-01-06  6474.919922  \n",
       "2000-01-07  6780.959961  "
      ]
     },
     "execution_count": 11,
     "metadata": {},
     "output_type": "execute_result"
    }
   ],
   "source": [
    "# imports a function to download price data from the web\n",
    "from pandas_datareader import DataReader\n",
    "dax = DataReader(name='^GDAXI', data_source=\"yahoo\", start='2000-1-1')\n",
    "# only returns the first N rows (default: 5) of the data table\n",
    "dax.head()"
   ]
  },
  {
   "cell_type": "markdown",
   "id": "dd92d240-992e-4e29-8864-98de3c2806b8",
   "metadata": {},
   "source": [
    "<font size=\"3\">Pandas Dataframe objects have useful attributes:</font>"
   ]
  },
  {
   "cell_type": "code",
   "execution_count": 12,
   "id": "115d1daf-f07e-4900-9da6-043d9368c737",
   "metadata": {},
   "outputs": [
    {
     "name": "stdout",
     "output_type": "stream",
     "text": [
      "size: 34512\n",
      "shape: (5752, 6)\n",
      "info: <bound method DataFrame.info of                     High           Low          Open         Close  \\\n",
      "Date                                                                 \n",
      "2000-01-03   7159.330078   6720.870117   6961.720215   6750.759766   \n",
      "2000-01-04   6755.359863   6510.459961   6747.240234   6586.950195   \n",
      "2000-01-05   6585.850098   6388.910156   6585.850098   6502.069824   \n",
      "2000-01-06   6539.310059   6402.629883   6501.450195   6474.919922   \n",
      "2000-01-07   6791.529785   6470.140137   6489.939941   6780.959961   \n",
      "...                  ...           ...           ...           ...   \n",
      "2022-08-24  13238.610352  13085.200195  13131.120117  13220.059570   \n",
      "2022-08-25  13364.549805  13210.990234  13328.490234  13271.959961   \n",
      "2022-08-26  13375.019531  12939.959961  13335.099609  12971.469727   \n",
      "2022-08-29  12942.459961  12758.440430  12838.419922  12892.990234   \n",
      "2022-08-30  13154.150391  12885.080078  12919.429688  12961.139648   \n",
      "\n",
      "                Volume     Adj Close  \n",
      "Date                                  \n",
      "2000-01-03  43072500.0   6750.759766  \n",
      "2000-01-04  46678400.0   6586.950195  \n",
      "2000-01-05  52682800.0   6502.069824  \n",
      "2000-01-06  41180600.0   6474.919922  \n",
      "2000-01-07  56058900.0   6780.959961  \n",
      "...                ...           ...  \n",
      "2022-08-24  46809500.0  13220.059570  \n",
      "2022-08-25  41621200.0  13271.959961  \n",
      "2022-08-26  67305400.0  12971.469727  \n",
      "2022-08-29  54303000.0  12892.990234  \n",
      "2022-08-30  62479300.0  12961.139648  \n",
      "\n",
      "[5752 rows x 6 columns]>\n",
      "index: DatetimeIndex(['2000-01-03', '2000-01-04', '2000-01-05', '2000-01-06',\n",
      "               '2000-01-07', '2000-01-10', '2000-01-11', '2000-01-12',\n",
      "               '2000-01-13', '2000-01-14',\n",
      "               ...\n",
      "               '2022-08-17', '2022-08-18', '2022-08-19', '2022-08-22',\n",
      "               '2022-08-23', '2022-08-24', '2022-08-25', '2022-08-26',\n",
      "               '2022-08-29', '2022-08-30'],\n",
      "              dtype='datetime64[ns]', name='Date', length=5752, freq=None)\n",
      "values: [[7.15933008e+03 6.72087012e+03 6.96172021e+03 6.75075977e+03\n",
      "  4.30725000e+07 6.75075977e+03]\n",
      " [6.75535986e+03 6.51045996e+03 6.74724023e+03 6.58695020e+03\n",
      "  4.66784000e+07 6.58695020e+03]\n",
      " [6.58585010e+03 6.38891016e+03 6.58585010e+03 6.50206982e+03\n",
      "  5.26828000e+07 6.50206982e+03]\n",
      " ...\n",
      " [1.33750195e+04 1.29399600e+04 1.33350996e+04 1.29714697e+04\n",
      "  6.73054000e+07 1.29714697e+04]\n",
      " [1.29424600e+04 1.27584404e+04 1.28384199e+04 1.28929902e+04\n",
      "  5.43030000e+07 1.28929902e+04]\n",
      " [1.31541504e+04 1.28850801e+04 1.29194297e+04 1.29611396e+04\n",
      "  6.24793000e+07 1.29611396e+04]]\n",
      "columns: Index(['High', 'Low', 'Open', 'Close', 'Volume', 'Adj Close'], dtype='object')\n"
     ]
    }
   ],
   "source": [
    "# gives the total number of values in the table\n",
    "print(\"size:\", dax.size)\n",
    "# gives the number of rows x columns in the table\n",
    "print(\"shape:\", dax.shape)\n",
    "# gives a complete summary of the table (size, data types)\n",
    "print(\"info:\", dax.info)\n",
    "# returns the index column of the table\n",
    "# it is important to set an index e.g. the timestamp as index for time-series data\n",
    "print(\"index:\", dax.index)\n",
    "# returns the values of the table (as a numpy array)\n",
    "print(\"values:\", dax.values)\n",
    "# returns the column names of the table\n",
    "print(\"columns:\", dax.columns)"
   ]
  },
  {
   "cell_type": "markdown",
   "id": "6a3af2cb-0186-4492-9fdc-4ddd13941a60",
   "metadata": {},
   "source": [
    "<font size=\"3\">Finally, we directly plot now out of Pandas:</font>"
   ]
  },
  {
   "cell_type": "code",
   "execution_count": 19,
   "id": "bf9f75c7-06c1-4a57-b8fb-92d61f57fd10",
   "metadata": {},
   "outputs": [
    {
     "data": {
      "text/plain": [
       "<AxesSubplot:xlabel='Date'>"
      ]
     },
     "execution_count": 19,
     "metadata": {},
     "output_type": "execute_result"
    },
    {
     "data": {
      "image/png": "[encoded data removed]",
      "text/plain": [
       "<Figure size 576x360 with 1 Axes>"
      ]
     },
     "metadata": {
      "needs_background": "light"
     },
     "output_type": "display_data"
    }
   ],
   "source": [
    "dax[\"Close\"].plot(figsize=(8,5))"
   ]
  },
  {
   "cell_type": "markdown",
   "id": "51ca8a32-d89b-4a21-a8d8-0df098fe9dfa",
   "metadata": {},
   "source": [
    "Install required packages for Excel support in Pandas, if not already installed. Typically you find out that a package is missing from an error message or by simply studying the documentation. \n",
    "\n",
    "Note that as a package manager, **`pip` is able to install required dependencies of a package automatically**. Sometimes however, specific functionally has optional requirements. After all however, the burden of installing packages is easier than it seems here."
   ]
  },
  {
   "cell_type": "code",
   "execution_count": null,
   "id": "8b07decc-3bae-4539-9cc4-a3b33ec32e36",
   "metadata": {},
   "outputs": [],
   "source": [
    "%%bash\n",
    "pip install xlrd"
   ]
  },
  {
   "cell_type": "markdown",
   "id": "1732c336-6b77-4e26-aa45-47a3fb34404b",
   "metadata": {},
   "source": [
    "<font size=\"3\"><b>Pandas also supports other file formats like <a href=\"https://pandas.pydata.org/docs/reference/api/pandas.read_excel.html\">Excel sheets</a> or for bigger datasets the <a href=\"https://pandas.pydata.org/docs/reference/api/pandas.read_parquet.html\">parquet</a> or <a href=\"https://pandas.pydata.org/docs/reference/api/pandas.read_feather.html\">feather</a> file format:</b></font>"
   ]
  },
  {
   "cell_type": "code",
   "execution_count": 22,
   "id": "11e08253-b865-4f23-bf14-a588113f4470",
   "metadata": {
    "scrolled": true
   },
   "outputs": [
    {
     "data": {
      "text/html": [
       "<div>\n",
       "<style scoped>\n",
       "    .dataframe tbody tr th:only-of-type {\n",
       "        vertical-align: middle;\n",
       "    }\n",
       "\n",
       "    .dataframe tbody tr th {\n",
       "        vertical-align: top;\n",
       "    }\n",
       "\n",
       "    .dataframe thead th {\n",
       "        text-align: right;\n",
       "    }\n",
       "</style>\n",
       "<table border=\"1\" class=\"dataframe\">\n",
       "  <thead>\n",
       "    <tr style=\"text-align: right;\">\n",
       "      <th></th>\n",
       "      <th>Type</th>\n",
       "      <th>Name</th>\n",
       "      <th>Business</th>\n",
       "      <th>ISIN</th>\n",
       "      <th>Price / EUR</th>\n",
       "    </tr>\n",
       "  </thead>\n",
       "  <tbody>\n",
       "    <tr>\n",
       "      <th>0</th>\n",
       "      <td>Fonds</td>\n",
       "      <td>F.TEM.INV-F.TECHN.A A.EUR</td>\n",
       "      <td>IT</td>\n",
       "      <td>A0KEDE</td>\n",
       "      <td>39.160</td>\n",
       "    </tr>\n",
       "    <tr>\n",
       "      <th>1</th>\n",
       "      <td>ETF</td>\n",
       "      <td>ISHSIII-CORE MSCI WLD DLA</td>\n",
       "      <td>World Economy</td>\n",
       "      <td>A0RPWH</td>\n",
       "      <td>72.512</td>\n",
       "    </tr>\n",
       "    <tr>\n",
       "      <th>2</th>\n",
       "      <td>ETF</td>\n",
       "      <td>ISHSV-MSCI ACWI DL A</td>\n",
       "      <td>World, more diverse</td>\n",
       "      <td>A1JMDF</td>\n",
       "      <td>61.970</td>\n",
       "    </tr>\n",
       "    <tr>\n",
       "      <th>3</th>\n",
       "      <td>ETF</td>\n",
       "      <td>IS C.MSCI EMIMI U.ETF DLA</td>\n",
       "      <td>Emerging Countries</td>\n",
       "      <td>A111X9</td>\n",
       "      <td>31.372</td>\n",
       "    </tr>\n",
       "    <tr>\n",
       "      <th>4</th>\n",
       "      <td>ETF</td>\n",
       "      <td>L+G-L+G CYBER SEC.U.ETF</td>\n",
       "      <td>Cybersec</td>\n",
       "      <td>A14WU5</td>\n",
       "      <td>21.685</td>\n",
       "    </tr>\n",
       "    <tr>\n",
       "      <th>5</th>\n",
       "      <td>ETF</td>\n",
       "      <td>ISHS IV-AUTO.+ROBOTIC.ETF</td>\n",
       "      <td>Automation/Robotik</td>\n",
       "      <td>A2ANH0</td>\n",
       "      <td>11.508</td>\n",
       "    </tr>\n",
       "    <tr>\n",
       "      <th>6</th>\n",
       "      <td>ETF</td>\n",
       "      <td>INVESCOM2 E GL BLOCKCH A</td>\n",
       "      <td>Krypto/Blockhain</td>\n",
       "      <td>A2PA3S</td>\n",
       "      <td>100.820</td>\n",
       "    </tr>\n",
       "    <tr>\n",
       "      <th>7</th>\n",
       "      <td>ETF</td>\n",
       "      <td>VANECK HYDROGEN EC UC.ETF</td>\n",
       "      <td>Wasserstoff</td>\n",
       "      <td>A2QMWR</td>\n",
       "      <td>15.222</td>\n",
       "    </tr>\n",
       "    <tr>\n",
       "      <th>8</th>\n",
       "      <td>ETF</td>\n",
       "      <td>LYX.IF-ROB.AI DLA</td>\n",
       "      <td>Robotik/AI</td>\n",
       "      <td>LXY0ZN</td>\n",
       "      <td>34.615</td>\n",
       "    </tr>\n",
       "    <tr>\n",
       "      <th>9</th>\n",
       "      <td>ETF</td>\n",
       "      <td>L&amp;G ETF-HYDROGEN ECONOMY</td>\n",
       "      <td>Wasserstoff</td>\n",
       "      <td>A2QMAL</td>\n",
       "      <td>7.030</td>\n",
       "    </tr>\n",
       "    <tr>\n",
       "      <th>10</th>\n",
       "      <td>ETF</td>\n",
       "      <td>ISHSIV-MSCI WLD ESG S.DLA</td>\n",
       "      <td>World Economy ESG</td>\n",
       "      <td>A2N6TD</td>\n",
       "      <td>NaN</td>\n",
       "    </tr>\n",
       "    <tr>\n",
       "      <th>11</th>\n",
       "      <td>ETF</td>\n",
       "      <td>ISHSV-S+500INF.T.SECT.DLA</td>\n",
       "      <td>NaN</td>\n",
       "      <td>A142N1</td>\n",
       "      <td>NaN</td>\n",
       "    </tr>\n",
       "    <tr>\n",
       "      <th>12</th>\n",
       "      <td>ETF</td>\n",
       "      <td>VANECK VID ESPORTS UC.ETF</td>\n",
       "      <td>E-Sports, Gaming</td>\n",
       "      <td>A2PLDF</td>\n",
       "      <td>34.855</td>\n",
       "    </tr>\n",
       "  </tbody>\n",
       "</table>\n",
       "</div>"
      ],
      "text/plain": [
       "     Type                        Name             Business    ISIN  \\\n",
       "0   Fonds  F.TEM.INV-F.TECHN.A A.EUR                    IT  A0KEDE   \n",
       "1     ETF  ISHSIII-CORE MSCI WLD DLA         World Economy  A0RPWH   \n",
       "2     ETF        ISHSV-MSCI ACWI DL A  World, more diverse  A1JMDF   \n",
       "3     ETF  IS C.MSCI EMIMI U.ETF DLA    Emerging Countries  A111X9   \n",
       "4     ETF     L+G-L+G CYBER SEC.U.ETF             Cybersec  A14WU5   \n",
       "5     ETF   ISHS IV-AUTO.+ROBOTIC.ETF   Automation/Robotik  A2ANH0   \n",
       "6     ETF    INVESCOM2 E GL BLOCKCH A     Krypto/Blockhain  A2PA3S   \n",
       "7     ETF  VANECK HYDROGEN EC UC.ETF           Wasserstoff  A2QMWR   \n",
       "8     ETF           LYX.IF-ROB.AI DLA           Robotik/AI  LXY0ZN   \n",
       "9     ETF    L&G ETF-HYDROGEN ECONOMY          Wasserstoff  A2QMAL   \n",
       "10    ETF   ISHSIV-MSCI WLD ESG S.DLA    World Economy ESG  A2N6TD   \n",
       "11    ETF   ISHSV-S+500INF.T.SECT.DLA                  NaN  A142N1   \n",
       "12    ETF   VANECK VID ESPORTS UC.ETF     E-Sports, Gaming  A2PLDF   \n",
       "\n",
       "    Price / EUR  \n",
       "0        39.160  \n",
       "1        72.512  \n",
       "2        61.970  \n",
       "3        31.372  \n",
       "4        21.685  \n",
       "5        11.508  \n",
       "6       100.820  \n",
       "7        15.222  \n",
       "8        34.615  \n",
       "9         7.030  \n",
       "10          NaN  \n",
       "11          NaN  \n",
       "12       34.855  "
      ]
     },
     "execution_count": 22,
     "metadata": {},
     "output_type": "execute_result"
    }
   ],
   "source": [
    "# example loading an excel sheet with Pandas in Python\n",
    "excel = pd.read_excel('data/example.xls')\n",
    "excel"
   ]
  },
  {
   "cell_type": "markdown",
   "id": "5abfa250-dea4-4719-bba7-84fa74794a52",
   "metadata": {},
   "source": [
    "<div class=\"alert alert-block alert-success\"><b>Exercise:</b> \n",
    "    <ol type=\"1\">\n",
    "        <li>Load the file data/example.feather using <i>pd.read_feather</i>. Find out what it contains, print the column names and the size of the DataFrame. </li>\n",
    "        <li>Then write a function which loads a file (<b>in this case <i>data/example.feather</i></b>)...</li> \n",
    "        <li>...redefines the column \"time\" as index and extract only the column \"close\",...</li> \n",
    "        <li>...removes duplicated timestamps, resamples the data to 1min intervals and calculates the moving average over windows of 24 hours.</li>\n",
    "        <li>Determine the returns of the resampled column \"close\" which are defined as $\\mathrm{(close(t_{n+1}) / close(t_{n})) - 1}$.</li> \n",
    "        <li>Finally, plot the moving average, the resampled time-series and a histogram of the returns.</li>\n",
    "    </ol>\n",
    "<b>Hint:</b> Have a look at the methods <a href=\"https://pandas.pydata.org/docs/reference/api/pandas.DataFrame.duplicated.html\">duplicated()</a>, <a href=\"https://pandas.pydata.org/pandas-docs/stable/reference/api/pandas.DataFrame.resample.html\">resample()</a>, bfill() <a href=\"https://pandas.pydata.org/docs/reference/api/pandas.DataFrame.plot.html\">plot()</a>, <a href=\"https://pandas.pydata.org/docs/reference/api/pandas.DataFrame.rolling.html\">rolling()</a> and mean(). The method <a href=\"https://pandas.pydata.org/docs/reference/api/pandas.DataFrame.shift.html\">shift()</a> could be useful for the calculation of returns. Use the pandas plotting function with the <i>kind=\"hist\"</i> argument to plot a histogram. Import \"from matplotlib import pyplot as plt\" and plt.figure() to init a new plot.\n",
    "    \n",
    "</div>"
   ]
  },
  {
   "cell_type": "markdown",
   "id": "37ffade3-7e98-4fe6-a671-30ba565858bb",
   "metadata": {},
   "source": [
    "<font size=\"3\"><b>First, install the required packages to support feather and parquet files in Pandas:</b></font>"
   ]
  },
  {
   "cell_type": "code",
   "execution_count": null,
   "id": "20e76039-4ea9-4a5d-a5bd-0f04d8dbb375",
   "metadata": {
    "scrolled": true
   },
   "outputs": [],
   "source": [
    "%%bash\n",
    "pip install pyarrow"
   ]
  },
  {
   "cell_type": "code",
   "execution_count": null,
   "id": "9edae01a-85e1-433e-9f45-58fd3615affc",
   "metadata": {},
   "outputs": [],
   "source": [
    "feather = pd.read_feather('data/example.feather')\n",
    "print(feather.info)\n",
    "print(feather.columns)\n",
    "print(feather.shape)\n",
    "print(feather.size)"
   ]
  },
  {
   "cell_type": "markdown",
   "id": "e97b73fa-ff28-481c-861a-cbf6278d93c2",
   "metadata": {},
   "source": [
    "<b>Then try the exercise yourself here:</b></font>"
   ]
  },
  {
   "cell_type": "code",
   "execution_count": null,
   "id": "0d5ecb75-ae21-4e87-93dd-c62e71660873",
   "metadata": {},
   "outputs": [],
   "source": [
    "#you can use the following predefined arguments for simpler plotting\n",
    "plot_args = {'figsize' : (16,10), 'grid' : True, 'fontsize' : 18, 'legend' : True}\n",
    "\n",
    "#use them like this:\n",
    "feather.close.plot(label=\"close\", **plot_args)\n",
    "\n",
    "#YOUR CODE HERE"
   ]
  },
  {
   "cell_type": "markdown",
   "id": "7648dd6c-adc8-4d82-b9af-672e0ab2a921",
   "metadata": {},
   "source": [
    "<br><br><br><br><br><br><br><br><br><br><br><br><br><br><br><br><br><br>\n",
    "### Example Solution:"
   ]
  },
  {
   "cell_type": "code",
   "execution_count": 92,
   "id": "5c53a6c5-af41-499c-a564-3d39021eecd3",
   "metadata": {
    "tags": []
   },
   "outputs": [
    {
     "data": {
      "image/png": "[encoded data removed]",
      "text/plain": [
       "<Figure size 1152x720 with 1 Axes>"
      ]
     },
     "metadata": {
      "needs_background": "light"
     },
     "output_type": "display_data"
    },
    {
     "data": {
      "image/png": "[encoded data removed]",
      "text/plain": [
       "<Figure size 1152x720 with 1 Axes>"
      ]
     },
     "metadata": {
      "needs_background": "light"
     },
     "output_type": "display_data"
    }
   ],
   "source": [
    "file = \"data/example.feather\"\n",
    "feather = pd.read_feather(file) \n",
    "\n",
    "feather.index = feather.time #timestamp as index\n",
    "feather = feather.close\n",
    "#remove duplicated timestamps\n",
    "feather = feather[~feather.index.duplicated()] \n",
    "#resamples the data to 1 min bins, keep the first value in a bin or for empty bins \n",
    "#insert the value of the next non empty bin (\"backfill\")\n",
    "feather_resampled = feather.resample(\"1min\").bfill() \n",
    "#compute the moving average over windows of size 5\n",
    "moving_average = feather_resampled.rolling(\"24h\").mean()\n",
    "#compute the returns\n",
    "returns = (feather_resampled.shift(1) / feather_resampled)-1\n",
    "\n",
    "#plots\n",
    "plot_args = {'figsize' : (16,10), 'grid' : True, 'fontsize' : 18, 'legend' : True}\n",
    "from matplotlib import pyplot as plt\n",
    "\n",
    "plt.figure() #init a new plot\n",
    "feather_resampled.plot(label=\"resampled\", **plot_args)\n",
    "moving_average.plot(label=\"moving average\", **plot_args)\n",
    "plt.ylabel(\"BTCUSDT\",fontsize=18)\n",
    "plt.legend(fontsize=18)\n",
    "\n",
    "plt.figure() #init a new plot\n",
    "returns.plot(kind=\"hist\", bins=100, **plot_args)\n",
    "plt.yscale(\"log\")"
   ]
  },
  {
   "cell_type": "markdown",
   "id": "aeddc574-bf84-405a-acfc-5d0ec9851744",
   "metadata": {},
   "source": [
    "<br><br><br>\n",
    "### Decorators\n",
    "<br>\n",
    "<font size=\"3\">\n",
    "    <b><a href=\"https://wiki.python.org/moin/PythonDecorators\">Decorators</a> help to wrap functions around functions or class methods with a shorter notation, the so-called <i>syntactic sugar</i>, using the @-symbol.</b> Decorators are often used in 3rd party packages for debugging and runtime analysis. <br><br>\n",
    "A popular package to measure the runtime of a function call or an algorithm is <i>timeit</i>. But it is also frequently used in frameworks like Django or Flask for Full-Stack Python where Python-based web applications are developed to denote event callback functions.\n",
    "</font>\n",
    "<br><br>\n",
    "\n",
    "### Examples:"
   ]
  },
  {
   "cell_type": "code",
   "execution_count": 1,
   "id": "1541094e-b0c5-47f0-a112-c0b252df2d21",
   "metadata": {},
   "outputs": [
    {
     "name": "stdout",
     "output_type": "stream",
     "text": [
      "Something is happening before the function is called.\n",
      "Whee!\n",
      "Something is happening after the function is called.\n"
     ]
    }
   ],
   "source": [
    "def my_decorator(func):\n",
    "    def wrapper():\n",
    "        print(\"Something is happening before the function is called.\")\n",
    "        func()\n",
    "        print(\"Something is happening after the function is called.\")\n",
    "    return wrapper\n",
    "\n",
    "@my_decorator\n",
    "# @my_decorator is just an easier way of saying say_whee = my_decorator(say_whee)\n",
    "def say_whee():\n",
    "    print(\"Whee!\")\n",
    "    \n",
    "say_whee()"
   ]
  },
  {
   "cell_type": "code",
   "execution_count": 2,
   "id": "7065081b-ac9b-4b11-810a-f5583c5182bf",
   "metadata": {},
   "outputs": [
    {
     "name": "stdout",
     "output_type": "stream",
     "text": [
      "zZzZzZ\n",
      "2.002208 seconds passed.\n"
     ]
    }
   ],
   "source": [
    "import time\n",
    "import numpy as np\n",
    "\n",
    "def benchmark(func):\n",
    "    def wrapper():\n",
    "        t1 = time.time()\n",
    "        func()\n",
    "        delta_t = time.time() - t1\n",
    "        print(str(np.round(delta_t,6))+\" seconds passed.\")\n",
    "    return wrapper\n",
    "\n",
    "@benchmark\n",
    "def something_intensive():\n",
    "    print(\"zZzZzZ\")\n",
    "    time.sleep(2)\n",
    "    \n",
    "something_intensive()"
   ]
  },
  {
   "cell_type": "markdown",
   "id": "11734b13-f94a-43c4-8a0b-157b1c3f1f06",
   "metadata": {},
   "source": [
    "<font size=\"3\">\n",
    "<b>In Python it's also possible to define decorators with arguments and even use multiple decorators with the same function or class method.</b>\n",
    "</font>\n",
    "\n",
    "### Example:"
   ]
  },
  {
   "cell_type": "code",
   "execution_count": 3,
   "id": "dd0ccc47-fe91-44c4-b963-38de445362ad",
   "metadata": {
    "scrolled": true
   },
   "outputs": [],
   "source": [
    "import time\n",
    "\n",
    "def print_delayed(delay = 1):\n",
    "    def decorator(function):\n",
    "        def wrapper(*args, **kwargs):\n",
    "            out = function(*args, **kwargs)\n",
    "            for n in range(len(out)+1):\n",
    "                print(out[:n]+\"\\r\")\n",
    "                time.sleep(delay)\n",
    "        return wrapper\n",
    "    return decorator\n",
    "\n",
    "@print_delayed(delay = 0.2)\n",
    "def greeting(name):\n",
    "    return \"Hello, \"+name+\" !\""
   ]
  },
  {
   "cell_type": "code",
   "execution_count": 4,
   "id": "aea99b27-4e19-48d0-9bda-0e210f551eba",
   "metadata": {},
   "outputs": [
    {
     "name": "stdout",
     "output_type": "stream",
     "text": [
      "\n",
      "H\n",
      "He\n",
      "Hel\n",
      "Hell\n",
      "Hello\n",
      "Hello,\n",
      "Hello, \n",
      "Hello, J\n",
      "Hello, Jo\n",
      "Hello, Joh\n",
      "Hello, John\n",
      "Hello, John \n",
      "Hello, John D\n",
      "Hello, John Do\n",
      "Hello, John Doe\n",
      "Hello, John Doe \n",
      "Hello, John Doe !\n"
     ]
    }
   ],
   "source": [
    "greeting(\"John Doe\")"
   ]
  },
  {
   "cell_type": "markdown",
   "id": "d591bbb3-8109-4c4e-aa7b-caf737f34984",
   "metadata": {},
   "source": [
    "### Built-in Decorators\n",
    "<br>\n",
    "\n",
    "<font size=\"3\">\n",
    "    You may checkout the popular built-in decorators in Python, e.g. the <b><a href=\"https://www.geeksforgeeks.org/python-property-decorator-property/#:~:text=%40property%20decorator%20is%20a%20built,setter%20and%20deleter%20as%20parameters\">@property</a></b></i> decorator. <br>\n",
    "    <b>It makes a class method accessible as if it would be an attribute of the class object.</b>\n",
    "</font>"
   ]
  },
  {
   "cell_type": "markdown",
   "id": "466d8a4b-4ee8-49ba-9669-74885a25069d",
   "metadata": {},
   "source": [
    "<div class=\"alert alert-block alert-success\"><b>Exercise:</b> \n",
    "    Write a decorator for the function in the following cell that asserts that the passed argument is a number greater than zero. Print a positive message in case $x$ is positive and a warning otherwise.\n",
    "</div>"
   ]
  },
  {
   "cell_type": "code",
   "execution_count": null,
   "id": "68c280fb-72d2-4c59-bd8b-332db16612c5",
   "metadata": {},
   "outputs": [],
   "source": [
    "import numpy as np\n",
    "\n",
    "def f(x):\n",
    "    return np.log(x)\n",
    "\n",
    "f(3)\n",
    "f(0)\n",
    "f(-1)"
   ]
  },
  {
   "cell_type": "markdown",
   "id": "aa9971fb-33c7-40a8-aa69-b3031a174555",
   "metadata": {},
   "source": [
    "<br><br><br><br><br><br><br><br><br><br><br><br><br><br><br><br><br><br>\n",
    "### Example Solution:"
   ]
  },
  {
   "cell_type": "code",
   "execution_count": 40,
   "id": "dfdfe113-69a0-4eab-9d14-a0003ea146eb",
   "metadata": {},
   "outputs": [
    {
     "name": "stdout",
     "output_type": "stream",
     "text": [
      "You passed a positive number, great!\n",
      "f(3)= 1.0986122886681098\n",
      "Ouch! This function requires x > 0. You called f(0).\n",
      "Ouch! This function requires x > 0. You called f(-1).\n"
     ]
    }
   ],
   "source": [
    "import numpy as np\n",
    "\n",
    "def assert_x(func):\n",
    "    def wrapper(x):\n",
    "        if x > 0:\n",
    "            print(\"You passed a positive number, great!\")\n",
    "            y = func(x)\n",
    "            print(f\"f({x})=\", y)\n",
    "            return y\n",
    "        else:\n",
    "            print(f\"Ouch! This function requires x > 0. You called f({x}).\")\n",
    "    return wrapper\n",
    "\n",
    "@assert_x\n",
    "def f(x):\n",
    "    return np.log(x)\n",
    "\n",
    "f(3)\n",
    "f(0)\n",
    "f(-1)"
   ]
  },
  {
   "cell_type": "markdown",
   "id": "80e9a693-3dc9-4a6b-ae01-e7d3e01c2096",
   "metadata": {},
   "source": [
    "<br><br><br>\n",
    "### Performance Aspects of Python\n",
    "\n",
    "<br>\n",
    "<font size=\"3\">In some cases, like the analysis of big amounts of data or for simulation codes, performance matters. If the acceleration that numpy or pandas offer is still insufficient or specific code needs to be accelerated, Python offers various ways to speed up your code with statically compiled code using <a href=\"https://cython.org/\">Cython</a> and just-in-time (JIT) compilation using <a href=\"http://numba.pydata.org/\">Numba</a>. This <a href=\"https://pandas.pydata.org/pandas-docs/stable/user_guide/enhancingperf.html\">link</a> presents examples to use Cython and Numba with Pandas.<br><br> Another interesting Python module is <a href=\"https://dask.org/\">Dask</a> which offers distributed and/or parallelized processing of large data sets. Dask offers e.g. a <a href=\"https://docs.dask.org/en/latest/dataframe.html\">Dask DataFrame</a> which can be distributed over multiple nodes in a cluster and supports distributed, parallelized data processing using Pandas DataFrame-like objects.<br><br>\n",
    "In the following, a small introduction on how to use Numba, a just-in-time compiler, is given and you'll see a speed comparison of Numba and the normal Python function.<br><br>\n",
    "\n",
    "The easiest way to use Numba for a Python function, is to use the specific decorator (decorators were previously introduced in this course):</font>"
   ]
  },
  {
   "cell_type": "markdown",
   "id": "f68981fb-a1d2-4e83-9f98-824ba7da667c",
   "metadata": {},
   "source": [
    "<font size=\"3\"><b>If Numba is not installed, install the numba module here:</b></font>"
   ]
  },
  {
   "cell_type": "code",
   "execution_count": null,
   "id": "0474bf5b-508b-4e35-90f8-c4f02e111781",
   "metadata": {},
   "outputs": [],
   "source": [
    "%%bash\n",
    "pip install numba"
   ]
  },
  {
   "cell_type": "code",
   "execution_count": 42,
   "id": "af277c9b-3720-4952-a2bc-90864498987c",
   "metadata": {},
   "outputs": [],
   "source": [
    "# import of the decorator from the numba module\n",
    "from numba import jit\n",
    "\n",
    "# decorator to indicate that just-in-time compilation is desired\n",
    "@jit # or @jit(nopython=True), if code is parallelizable use parallel = True\n",
    "def function(x):\n",
    "    # your loop or numerically intensive computations\n",
    "    return x"
   ]
  },
  {
   "cell_type": "markdown",
   "id": "ffc14a5b-f192-4e6c-8e2e-0721194701b0",
   "metadata": {},
   "source": [
    "<font size=\"3\">Whenever a Python function is decorated this way, the Python function will be translated to LLVM code, specific byte code that is executed on a virtual machine, comparable to Java and also with a speed comparable to Java or C(++). The illustration below describes the compilation process:<br><br>\n",
    "<center>\n",
    "    <img src=\"img/llvm.png\" width=\"60%\">\n",
    "</center>\n",
    "<br>\n",
    "    <font size=\"2\"><i>Source: <a href=\"https://github.com/ContinuumIO/gtc2017-numba/blob/master/1%20-%20Numba%20Basics.ipynb\">https://github.com/ContinuumIO/gtc2017-numba/blob/master/1%20-%20Numba%20Basics.ipynb</a></i></font><br><br>\n",
    "First, Python function is taken, optimized and is converted into Numba’s intermediate representation, then after type inference which is like Numpy’s type inference (so python float is a float64), it is converted into LLVM interpretable code. This code is then fed to LLVM’s just-in-time compiler to give out machine code.<br><br>\n",
    "</font>\n",
    "\n",
    "### Example:"
   ]
  },
  {
   "cell_type": "code",
   "execution_count": 43,
   "id": "a15e586d-2e08-4dcd-858b-d555412b9408",
   "metadata": {},
   "outputs": [
    {
     "name": "stdout",
     "output_type": "stream",
     "text": [
      "106 ns ± 0.259 ns per loop (mean ± std. dev. of 7 runs, 10000000 loops each)\n",
      "274 ns ± 0.547 ns per loop (mean ± std. dev. of 7 runs, 1000000 loops each)\n",
      "52.9 ns ± 0.159 ns per loop (mean ± std. dev. of 7 runs, 10000000 loops each)\n"
     ]
    }
   ],
   "source": [
    "from numba import jit, float32\n",
    "import timeit\n",
    "import math\n",
    "\n",
    "# you can explicitly define a function signature\n",
    "# so that data types are not inferred\n",
    "@jit(float32(float32,float32))\n",
    "def hypot(x, y):\n",
    "    # Implementation from https://en.wikipedia.org/wiki/Hypot\n",
    "    x = abs(x);\n",
    "    y = abs(y);\n",
    "    t = min(x, y);\n",
    "    x = max(x, y);\n",
    "    t = t / x;\n",
    "    return x * math.sqrt(1+t*t)\n",
    "\n",
    "# benchmarks the JIT version\n",
    "%timeit hypot(3.0, 4.0)\n",
    "# benchmarks the Python function\n",
    "%timeit hypot.py_func(3.0, 4.0)\n",
    "# benchmarks the implementation in the math module\n",
    "%timeit math.hypot(3.0, 4.0)"
   ]
  },
  {
   "cell_type": "markdown",
   "id": "9791ccfd-155a-469c-9c2b-28082fa87cfe",
   "metadata": {},
   "source": [
    "<font size=\"3\">For further information, look <a href=\"https://towardsdatascience.com/speed-up-your-algorithms-part-2-numba-293e554c5cc1\">here</a></font>\n"
   ]
  },
  {
   "cell_type": "markdown",
   "id": "e32c5012-0baf-4872-95df-3d09b3926ea3",
   "metadata": {},
   "source": [
    "<br><br><br>\n",
    "## The object-oriented programming (OOP) paradigm\n",
    "\n",
    "<br>\n",
    "<font size=\"3\">\n",
    "    <b>Python is a multi-paradigm programming language</b>, hence supporting multiple <a href=\"https://en.wikipedia.org/wiki/Comparison_of_programming_paradigms\">programming paradigms</a>. A programming paradigm is a style, philosophy or a set of principles followed in structuring your code and the way to implement its intended functionality. Among the various paradigms, the <a href=\"https://en.wikipedia.org/wiki/Functional_programming\"><b>functional</b></a> and the <a href=\"https://en.wikipedia.org/wiki/Object-oriented_programming\"><b>object-oriented programming (OOP)</b></a> paradigm are the most popular, also in Python.<br>\n",
    "\n",
    "<b>The functional paradigm</b> focusses on:\n",
    "<ul>\n",
    "<li><b>Structuring your code</b>\n",
    "</li>\n",
    "<li>\n",
    "<b>Functions</b> in a mathematical sense <b>with arguments and return values</b>.\n",
    "</li>\n",
    "<li>\n",
    "<b>Scoping allowing for <b>local variables</b> and <b>isolation</b>.\n",
    "</li>\n",
    "<li>\n",
    "<b>Functions allowing the reusability</b> of parts of the code since they <b>should ideally work as black boxes</b>.\n",
    "</li>\n",
    "<li>\n",
    "    <b>Statelessness</b>, hence <b>it shouldn't matter when a function is called.</b> As long as the same input is used, the function should yield the same output. <b>Hence functions are only loosely coupled to data</b> outside of their scope.\n",
    "</li>\n",
    "</ul>\n",
    "<br>\n",
    "A <b>use case</b> would be for <b>smaller projects or specialized scripts</b> where <b>new features are rather unlikely to be implemented.</b><br>\n",
    "Examples for other programming languages following this paradigm are C, Fortran and Cobol.\n",
    "<br>\n",
    "<br>\n",
    "<b>The OOP paradigm</b> focusses on:\n",
    "<ul>\n",
    "<li><b>Classes defining objects encapsulating functionality</b> which could also exist independently and can be easily ported to other projects.\n",
    "</li>\n",
    "<li>\n",
    "<b>Class objects posess <i>methods</i></b>, functions bound to the object which should act only on the <b><i>attributes</i></b> of the object. The latter are <b>variables bound to the object instance.</b>\n",
    "</li>\n",
    "<li>\n",
    "<b>The data (its state) is strictly bound to the object.</b>\n",
    "</li>\n",
    "<li><b>States</b> since the objects (can) store a state in their attributes. The interaction of these objects with the environment takes place via <b><i>special object methods</i></b>, the so-called <b><i>interfaces</i></b>, to avoid direct manipulation of object attributes from outside <b>ensuring data security.</b> <b>Statefulness implies</b> that the <b>execution order of object methods can matter.</b>\n",
    "</li>\n",
    "<li>\n",
    "<b>Classes grouped in modules</b> so that the objects have the specific environments to work in. This allows <b>easy extensibility</b>.\n",
    "</li>\n",
    "<li>\n",
    "<b>Inheritance</b> allowing for a sub-class to inherit methods and attributes from the parent class.\n",
    "</li>\n",
    "<li>\n",
    "<b>The program functionality is realized by object interactions</b>, hence message passing between the objects. \n",
    "</li>\n",
    "</ul>\n",
    "<br>\n",
    "A <b>use case</b> is a <v>big project</b> with <b>many collaborators</b> where the <b>task can be easily subdivided</b>, where <b>statefulness</b> is important and <b>new features are likely to be added.</b>\n",
    "<br>\n",
    "Examples for other programming languages following this paradigm are Java, C++, Objective-C, Ruby or VB .NET.<br>\n",
    "<br>\n",
    "\n",
    "<font size=\"3\">\n",
    "<b>In summary, the abstract features of object-oriented programming are</b><br>\n",
    "<ul>\n",
    "    <li><b>Inheritance:</b> <br>Derivation of class from another class. Hierarchy of classes sharing common attributes and methods. Allows faster development of new features using already existing interfaces.</li><br>\n",
    "    <li><b>Polymorphism:</b> <br>A function, variable or object can have multiple forms, e.g. the same method could except different number and type of input arguments or the usage of a common interface for objects of different classes.</li><br>\n",
    "    <li><b>Abstraction:</b><br> A simplified data representation\n",
    "    </li>\n",
    "    <br>\n",
    "    <li><b>Encapsulation:</b><br> Bundling data and methods to hide the internal state and mechanics of an object from the outside. Ensures data safety, portability and maintainability.</li>\n",
    "</ul>\n",
    "</font>"
   ]
  },
  {
   "cell_type": "markdown",
   "id": "5bd89cb4-870a-4dc5-96c2-e65723e9b7b0",
   "metadata": {},
   "source": [
    "### Classes, Objects & Attributes\n",
    "<br>\n",
    "<div align=\"center\">\n",
    "    <img src=\"img/yoda_meme.png\" width=\"40%\">\n",
    "</div>\n",
    "<br>\n",
    "<font size=\"2\">\n",
    "    <i>Source:</i> <a href=\"https://medium.com/@972LPV/mutable-vs-immutable-objects-in-python-a8a3439636b6\"><i>https://medium.com/@972LPV/mutable-vs-immutable-objects-in-python-a8a3439636b6</i></a>\n",
    "</font>\n",
    "<br>\n",
    "<br>\n",
    "<font size=\"3\">\n",
    "    <b>Classes are blueprints or templates for objects in Python defining the object <i>properties via attributes</i> and <i>behavior via methods</i>.</b><br>\n",
    "In Python, even the basic builtin datatypes like int, float or str, are objects of a class in the end. Even references to functions. In Python, every entity is and can be treated as object.<br><br>\n",
    "\n",
    "<font size=\"4\">\n",
    "<b>A class definition for an object in Python has the following syntax:</b><br><br>\n",
    "</font>\n",
    "<font size=\"3\">\n",
    "<b>class <i>ClassName</i>(<i>ParentClass</i>):</b><br>\n",
    "<p style=\"margin-left: 20px\"><b>def __init__(self, <i>arguments</i>):</b></p>\n",
    "<p style=\"margin-left: 40px\"><font face=\"Courier\">self.<i>public_attr</i> = <i>value</i></font></p>\n",
    "<p style=\"margin-left: 40px\"><font face=\"Courier\">self.<i>_protected_attr</i> = <i>value</i></font></p>\n",
    "<p style=\"margin-left: 40px\"><font face=\"Courier\">self.<i>__private_attr</i> = <i>value</i></font></p>\n",
    "<p style=\"margin-left: 40px\"><font face=\"Courier\">indented code block</font></p>\n",
    "<p style=\"margin-left: 40px\"><b>[return <b><i>value</i>]</b></p>\n",
    "\n",
    "<p style=\"margin-left: 20px\"><b>def public_method(self, <i>arguments</i>):</b></p>\n",
    "<p style=\"margin-left: 40px\"><font face=\"Courier\">indented code block</font></p>\n",
    "<p style=\"margin-left: 40px\"><b>[return <b><i>value</i>]</b></p>\n",
    "\n",
    "<p style=\"margin-left: 20px\"><b>def _protected_method(self, <i>arguments</i>):</b></p>\n",
    "<p style=\"margin-left: 40px\"><font face=\"Courier\">indented code block</font></p>\n",
    "<p style=\"margin-left: 40px\"><b>[return <b><i>value</i>]</b></p>\n",
    "\n",
    "<p style=\"margin-left: 20px\"><b>def __private_method(self, <i>arguments</i>):</b></p>\n",
    "<p style=\"margin-left: 40px\"><font face=\"Courier\">indented code block</font><br>\n",
    "<b>[return <b><i>value</i>]</b></p>\n",
    "<br><br>\n",
    "    \n",
    "<b>where the private, builtin method <i>__init__</i> is the so-called <i>constructor</i> of the class object which is invoked when a new class object is <i>instantiated</i> (created).</b><br>\n",
    "<b>A function or method does not need to return a value. If no return statement is present, a NoneType object will be returned. However, the function or method needs to contain at least one statement (or a <i>pass</i>).</b><br>  \n",
    "<b>The class naming convention is to start with a capital letter and may use only here camel case, hence the alternating use of small and capital letters to create seperation, e.g. ClassName.</b><br><br>\n",
    "<font size=\"4\">\n",
    "<u><b>Attribute and Method Naming Convention:</b></u>\n",
    "</font>\n",
    "<font size=\"3\">\n",
    "<br>\n",
    "<br>\n",
    "<b>Methods or attributes</b>\n",
    "<ul>\n",
    "    <li><b>without leading underscore</b> as name prefix are <b>public.</b></li>\n",
    "    <li><b>with one leading underscore</b> as name prefix are <b>protected.</b></li>\n",
    "    <li><b>with two leading underscores</b> as name prefix are <b>private.</b></li>\n",
    "    <li><b>with two underscores as</b> name <b>prefix and suffix</b> are <b>private, built-in methods.</b></li>\n",
    "</ul>\n",
    "<b>In contrast to other programming languages, this is <u>just a notational convention</u> and by no means a real access protection!</b><br>\n",
    "<b>Protected and private methods and protected attributes can be accessed anyway!</b><br> Private attribute access is possible using the built-in dictionary representation of an object: <i>obj.__dict__[attribute_name]</i>.<br><br>\n",
    "<b>When you attempt to access a private attribute, an error is thrown, but it can be accessed anyway with a trick.</b>\n",
    "</font><br><br>\n",
    "    \n",
    "\n",
    "### Example:"
   ]
  },
  {
   "cell_type": "code",
   "execution_count": 11,
   "id": "80f5d0d1-5f63-4dcd-9960-972eab039cf5",
   "metadata": {},
   "outputs": [
    {
     "name": "stdout",
     "output_type": "stream",
     "text": [
      "Object types:\n",
      "type(dog1)=<class '__main__.Dog'>\n",
      "type(dog2)=<class '__main__.Dog'>\n",
      "type(ball1)=<class '__main__.Ball'>\n",
      "\n",
      "Objects implicitly converted to strings:\n",
      "<__main__.Dog object at 0x7fe8effacbe0>\n",
      "<__main__.Dog object at 0x7fe8effacaf0>\n",
      "<__main__.Ball object at 0x7fe8effac880>\n",
      "\n"
     ]
    }
   ],
   "source": [
    "#required import to use type hinting with custom class objects are return value data type\n",
    "from __future__ import annotations\n",
    "\n",
    "# class definition\n",
    "# the class \"Dog\" inherits from class \"object\"\n",
    "# every class inherits from that class as default\n",
    "# naming convention for class names is to start with a capital letter\n",
    "class Dog(object):\n",
    "    \n",
    "    # the constructor of the class is a private, built-in method\n",
    "    # \n",
    "    def __init__(self, name : str, age : int) -> Dog:\n",
    "        # a private attrbute which should not be changed from outside the object\n",
    "        self.__name = name\n",
    "        # a protected attrbute which should not be changed from outside the object\n",
    "        self._age = age\n",
    "        # a public attrbute which can be accessed/changed from outside the object\n",
    "        self.favorite_food = \"Pizza\"\n",
    "        self.favorite_toy = \"Bone\"\n",
    "        self.has = None\n",
    "        self.__energy = 5\n",
    "        \n",
    "    # overload the builtin method __str__ \n",
    "    # for an implicit string representation of the object\n",
    "    #def __str__(self) -> str:\n",
    "    #    return \"This is the dog \"+self.__name+\". I am \"+str(self._age)+\" years old.\"\n",
    "        \n",
    "    # a public class method definition with type hints\n",
    "    def bark(self, volume : int, pitch : int, duration : int) -> str:\n",
    "        # assemble string\n",
    "        bark_str_prefix = [\"bo\",\"ba\",\"bi\"]\n",
    "        bark_str_letter = [\"o\",\"a\",\"i\"]\n",
    "        bark_str_suffix = \"rk\"\n",
    "        bark_str = bark_str_prefix[pitch]\n",
    "        bark_str += bark_str_letter[pitch]*duration\n",
    "        bark_str += bark_str_suffix\n",
    "        if volume > 50:\n",
    "            bark_str = str.upper(bark_str)\n",
    "            \n",
    "        if self.__energy <= 0:\n",
    "            return self.__sleep()\n",
    "        else:\n",
    "            self.__energy -= 1\n",
    "            return bark_str\n",
    "    \n",
    "    # a public class method\n",
    "    # implements an interaction between the objects of class Dog and Ball\n",
    "    def bite(self, obj):\n",
    "        if isinstance(obj, Ball):\n",
    "            obj.deflate()\n",
    "    \n",
    "    # a public class method\n",
    "    def retrieve(self, obj):\n",
    "        self.has = obj\n",
    "        return obj\n",
    "    \n",
    "    # a private class method - method name starts with two underscores\n",
    "    def __sleep(self):\n",
    "        self.__energy = 5\n",
    "        return \"zZzZ\"\n",
    "    \n",
    "    # setter - method to set private attribute content\n",
    "    def set_name(self, new_name):\n",
    "        self.__name = new_name\n",
    "    \n",
    "    # getter - method which yields private attribute content\n",
    "    def get_name(self):\n",
    "        return self.__name\n",
    "    \n",
    "    # getter - method which yields private attribute content\n",
    "    def get_energy(self):\n",
    "        return self.__energy\n",
    "\n",
    "# another class definition\n",
    "class Ball(object):\n",
    "    # constructor definition with type hints\n",
    "    def __init__(self, size : float, color : str, weight : float, inflated : bool) -> Ball:\n",
    "        self.__color = color\n",
    "        self.__size = size\n",
    "        self.__weight = weight\n",
    "        self.__inflated = inflated\n",
    "        \n",
    "    # setter - method to set private attribute content\n",
    "    def deflate(self) -> None:\n",
    "        self.__inflated = False\n",
    "\n",
    "    # setter - method to set private attribute content\n",
    "    def inflate(self) -> None:\n",
    "        self.__inflated = True\n",
    "        \n",
    "    # setter - method to set private attribute content\n",
    "    def set_inflated(self, value : bool) -> None:\n",
    "        self.__inflated = value\n",
    "\n",
    "    # getter - method which yields private attribute content\n",
    "    def is_inflated(self) -> bool:\n",
    "        return self.__inflated\n",
    "    \n",
    "    def print_status(self):\n",
    "        out_str = \"The ball is \"+self.__color+\" and \"+str(self.__size)+\\\n",
    "                    \" m big and weights \"+str(self.__weight)+\" kg and is \"\n",
    "        if self.__inflated:\n",
    "            out_str += \"inflated.\"\n",
    "        else:\n",
    "            out_str += \"not inflated.\"\n",
    "        print(out_str)\n",
    "        return out_str\n",
    "\n",
    "# instantiate new \"Dog\" objects\n",
    "dog1 = Dog(\"Bello\", 0)\n",
    "dog2 = Dog(\"Doggo\", 2)\n",
    "# instantiate new \"Ball\" object\n",
    "ball1 = Ball(0.3, \"red\", 0.2, True)\n",
    "\n",
    "# print types\n",
    "print(\"Object types:\")\n",
    "print(\"type(dog1)=\"+str(type(dog1)))\n",
    "print(\"type(dog2)=\"+str(type(dog2)))\n",
    "print(\"type(ball1)=\"+str(type(ball1))+\"\\n\")\n",
    "\n",
    "# attempt to print Dog-objects\n",
    "# results in standard string representation for generic objects\n",
    "# since we have not overloaded the built-in method __str__\n",
    "# which takes care of the conversion of the object to a string representation\n",
    "print(\"Objects implicitly converted to strings:\")\n",
    "print(dog1)\n",
    "print(dog2)\n",
    "print(ball1)\n",
    "print(\"\")"
   ]
  },
  {
   "cell_type": "markdown",
   "id": "88219432-6797-4e62-bb93-32d0948eb36b",
   "metadata": {},
   "source": [
    "<font size=\"3\">\n",
    "When you attempt to print objects of user-defined classes, Python tries to implicitly convert these objects to a string representation.<br><br>\n",
    "<b>Since <i>Dog</i> and <i>Ball</i> are user-defined classes, Python cannot know what an adequate string representation of that object would be. Therefore, an object is converted to a string of that form as default.</b><br><br>\n",
    "We can invoke public object methods without any problem. An object method can change attributes of the object, hence an object can have a certain state.\n",
    "</font>"
   ]
  },
  {
   "cell_type": "code",
   "execution_count": 12,
   "id": "3a23851d-7b4b-4569-87ef-c234853fca66",
   "metadata": {},
   "outputs": [
    {
     "name": "stdout",
     "output_type": "stream",
     "text": [
      "Results of invoked object methods:\n",
      "----------------------------\n",
      "\n",
      "dog1.bark(40, 0, 1) = boork\n",
      "dog1.bark(50, 1, 1) = baark\n",
      "dog1.bark(60, 1, 1) = BAARK\n",
      "dog1.bark(60, 1, 10) = BAAAAAAAAAAARK\n",
      "dog1.retrieve(ball1) = <__main__.Ball object at 0x7fe8effac880>\n",
      "The ball is red and 0.3 m big and weights 0.2 kg and is inflated.\n",
      "\n",
      "ball1.is_inflated() = True\n",
      "After invoking ball1.deflate():\n",
      "ball1.is_inflated() = False\n",
      "\n"
     ]
    }
   ],
   "source": [
    "# invoke public object methods\n",
    "print(\"Results of invoked object methods:\")\n",
    "print(\"----------------------------\\n\")\n",
    "print(\"dog1.bark(40, 0, 1) = \"+str(dog1.bark(40, 0, 1)))\n",
    "print(\"dog1.bark(50, 1, 1) = \"+str(dog1.bark(50, 1, 1)))\n",
    "print(\"dog1.bark(60, 1, 1) = \"+str(dog1.bark(60, 1, 1)))\n",
    "print(\"dog1.bark(60, 1, 10) = \"+str(dog1.bark(60, 1, 10)))\n",
    "print(\"dog1.retrieve(ball1) = \"+str(dog1.retrieve(ball1)))\n",
    "ball1.print_status()\n",
    "print(\"\")\n",
    "\n",
    "# invoke method which modifies the objects attributes\n",
    "print(\"ball1.is_inflated() = \"+str(ball1.is_inflated()))\n",
    "print(\"After invoking ball1.deflate():\")\n",
    "ball1.deflate()\n",
    "print(\"ball1.is_inflated() = \"+str(ball1.is_inflated()))\n",
    "print(\"\")"
   ]
  },
  {
   "cell_type": "markdown",
   "id": "fe60e74f-0375-49c8-881a-deec3f586911",
   "metadata": {},
   "source": [
    "<font size=\"3\">\n",
    "The statefullness of objects in Python is also demonstrated by interaction between different object types.<br>\n",
    "<b>In this example, an object of class Dog invokes a method of another object of a different class, here Ball.</b>\n",
    "</font>"
   ]
  },
  {
   "cell_type": "code",
   "execution_count": 13,
   "id": "3e65df28-69a3-4e7e-a118-d86c64219b97",
   "metadata": {},
   "outputs": [
    {
     "name": "stdout",
     "output_type": "stream",
     "text": [
      "Statefullness of objects:\n",
      "-------------------------\n",
      "If method bark() was invoked 5 times (not necessarily sequentially),\n",
      "the private method __sleep() of the Dog object is invoked.\n",
      "dog1.get_energy() = 1\n",
      "dog1.bark(100,1,20) = BAAAAAAAAAAAAAAAAAAAAARK\n",
      "dog1.get_energy() = 0\n",
      "dog1.bark(100,1,20) = zZzZ\n",
      "dog1.get_energy() = 5\n",
      "\n",
      "Interaction between objects:\n",
      "----------------------------\n",
      "\n",
      "After invoking ball1.inflate():\n",
      "ball1.is_inflated() = True\n",
      "After invoking dog1.bite(ball1):\n",
      "ball1.is_inflated() = False\n",
      "\n",
      "dog1.has = <__main__.Ball object at 0x7fe8effac880>\n",
      "\n",
      "\n",
      "Attempt to access private attribute throws an error (encapsulation):\n"
     ]
    },
    {
     "ename": "AttributeError",
     "evalue": "'Dog' object has no attribute '__name'",
     "output_type": "error",
     "traceback": [
      "\u001b[0;31m---------------------------------------------------------------------------\u001b[0m",
      "\u001b[0;31mAttributeError\u001b[0m                            Traceback (most recent call last)",
      "\u001b[0;32m<ipython-input-13-7ce1690d2821>\u001b[0m in \u001b[0;36m<module>\u001b[0;34m\u001b[0m\n\u001b[1;32m     28\u001b[0m \u001b[0;31m# attempt to access private object attribute (discouraged anyway, use setter/getter methods instead !)\u001b[0m\u001b[0;34m\u001b[0m\u001b[0;34m\u001b[0m\u001b[0;34m\u001b[0m\u001b[0m\n\u001b[1;32m     29\u001b[0m \u001b[0mprint\u001b[0m\u001b[0;34m(\u001b[0m\u001b[0;34m\"Attempt to access private attribute throws an error (encapsulation):\"\u001b[0m\u001b[0;34m)\u001b[0m\u001b[0;34m\u001b[0m\u001b[0;34m\u001b[0m\u001b[0m\n\u001b[0;32m---> 30\u001b[0;31m \u001b[0mprint\u001b[0m\u001b[0;34m(\u001b[0m\u001b[0;34m\"dog1.__name = \"\u001b[0m\u001b[0;34m+\u001b[0m\u001b[0mstr\u001b[0m\u001b[0;34m(\u001b[0m\u001b[0mdog1\u001b[0m\u001b[0;34m.\u001b[0m\u001b[0m__name\u001b[0m\u001b[0;34m)\u001b[0m\u001b[0;34m)\u001b[0m\u001b[0;34m\u001b[0m\u001b[0;34m\u001b[0m\u001b[0m\n\u001b[0m\u001b[1;32m     31\u001b[0m \u001b[0;31m# yields an AttributeError\u001b[0m\u001b[0;34m\u001b[0m\u001b[0;34m\u001b[0m\u001b[0;34m\u001b[0m\u001b[0m\n",
      "\u001b[0;31mAttributeError\u001b[0m: 'Dog' object has no attribute '__name'"
     ]
    }
   ],
   "source": [
    "print(\"Statefullness of objects:\")\n",
    "print(\"-------------------------\")\n",
    "print(\"If method bark() was invoked 5 times (not necessarily sequentially),\")\n",
    "print(\"the private method __sleep() of the Dog object is invoked.\")\n",
    "print(\"dog1.get_energy() = \"+str(dog1.get_energy()))\n",
    "print(\"dog1.bark(100,1,20) = \"+str(dog1.bark(100,1,20)))\n",
    "print(\"dog1.get_energy() = \"+str(dog1.get_energy()))\n",
    "print(\"dog1.bark(100,1,20) = \"+str(dog1.bark(100,1,20)))\n",
    "print(\"dog1.get_energy() = \"+str(dog1.get_energy()))\n",
    "print(\"\")\n",
    "\n",
    "# interaction between an object of class Dog and of class Ball\n",
    "print(\"Interaction between objects:\")\n",
    "print(\"----------------------------\\n\")\n",
    "print(\"After invoking ball1.inflate():\")\n",
    "ball1.inflate()\n",
    "print(\"ball1.is_inflated() = \"+str(ball1.is_inflated()))\n",
    "print(\"After invoking dog1.bite(ball1):\")\n",
    "dog1.bite(ball1)\n",
    "print(\"ball1.is_inflated() = \"+str(ball1.is_inflated()))\n",
    "\n",
    "print(\"\")\n",
    "\n",
    "# access public object attribute directly\n",
    "print(\"dog1.has = \"+str(dog1.has))\n",
    "print(\"\\n\")\n",
    "\n",
    "# attempt to access private object attribute (discouraged anyway, use setter/getter methods instead !)\n",
    "print(\"Attempt to access private attribute throws an error (encapsulation):\")\n",
    "print(\"dog1.__name = \"+str(dog1.__name))\n",
    "# yields an AttributeError"
   ]
  },
  {
   "cell_type": "code",
   "execution_count": 19,
   "id": "69ea3d1d-23a8-4c4a-bda3-08eaf5cf396a",
   "metadata": {},
   "outputs": [
    {
     "name": "stdout",
     "output_type": "stream",
     "text": [
      "Attempt to invoke private method throws an error (encapsulation):\n"
     ]
    },
    {
     "ename": "AttributeError",
     "evalue": "'Dog' object has no attribute '__sleep'",
     "output_type": "error",
     "traceback": [
      "\u001b[0;31m---------------------------------------------------------------------------\u001b[0m",
      "\u001b[0;31mAttributeError\u001b[0m                            Traceback (most recent call last)",
      "\u001b[0;32m<ipython-input-19-e7f9f8959629>\u001b[0m in \u001b[0;36m<module>\u001b[0;34m\u001b[0m\n\u001b[1;32m      1\u001b[0m \u001b[0;31m# attempt to invoke private object method\u001b[0m\u001b[0;34m\u001b[0m\u001b[0;34m\u001b[0m\u001b[0;34m\u001b[0m\u001b[0m\n\u001b[1;32m      2\u001b[0m \u001b[0mprint\u001b[0m\u001b[0;34m(\u001b[0m\u001b[0;34m\"Attempt to invoke private method throws an error (encapsulation):\"\u001b[0m\u001b[0;34m)\u001b[0m\u001b[0;34m\u001b[0m\u001b[0;34m\u001b[0m\u001b[0m\n\u001b[0;32m----> 3\u001b[0;31m \u001b[0mprint\u001b[0m\u001b[0;34m(\u001b[0m\u001b[0;34m\"dog1.__sleep()=\"\u001b[0m\u001b[0;34m+\u001b[0m\u001b[0mdog1\u001b[0m\u001b[0;34m.\u001b[0m\u001b[0m__sleep\u001b[0m\u001b[0;34m(\u001b[0m\u001b[0;34m)\u001b[0m\u001b[0;34m)\u001b[0m\u001b[0;34m\u001b[0m\u001b[0;34m\u001b[0m\u001b[0m\n\u001b[0m",
      "\u001b[0;31mAttributeError\u001b[0m: 'Dog' object has no attribute '__sleep'"
     ]
    }
   ],
   "source": [
    "# attempt to invoke private object method\n",
    "print(\"Attempt to invoke private method throws an error (encapsulation):\")\n",
    "print(\"dog1.__sleep()=\"+dog1.__sleep())"
   ]
  },
  {
   "cell_type": "markdown",
   "id": "415e0c00-ae12-4209-bde8-9f559db5d22c",
   "metadata": {},
   "source": [
    "<font size=\"3\"><div class=\"alert alert-block alert-success\"><b>Exercise:</b>\n",
    "    Define a class <i>Sheep</i> with <b>private</b> attributes <i>color, name, age, sheared</i> and the <b>public</b> attribute <i>id</i>. Implement <b>setters</b> and <b>getters</b> for the private attributes. Implement a <b>public</b> method <i>shear</i> switching the private attribute <i>sheared</i>. Implement a method <i>_ _str _ _</i> for the implicit string representation of the object, so that Python knows what to do when you attempt to print a Sheep object. Then try to print the Sheep object. </div><br>\n",
    "<b>Try it yourself:</b></font>"
   ]
  },
  {
   "cell_type": "code",
   "execution_count": null,
   "id": "32ffc31e-ed8d-47d1-a31a-3fb4e98a6e4f",
   "metadata": {},
   "outputs": [],
   "source": []
  },
  {
   "cell_type": "markdown",
   "id": "51b14229-c6c6-43bf-a16c-b6033ec090f9",
   "metadata": {},
   "source": [
    "<br><br><br><br><br><br><br><br><br><br><br><br><br><br><br><br><br><br>\n",
    "### Example Solution:"
   ]
  },
  {
   "cell_type": "code",
   "execution_count": 6,
   "id": "8d1f02e5-7b8b-4490-ad8e-c628703dcad1",
   "metadata": {},
   "outputs": [
    {
     "name": "stdout",
     "output_type": "stream",
     "text": [
      "This is a sheep of black color and it is 3 years old.\n",
      "[<__main__.Sheep object at 0x7fdaed97c430>, <__main__.Sheep object at 0x7fd9c52abe50>, <__main__.Sheep object at 0x7fd9c52abf40>]\n",
      "False\n",
      "True\n",
      "False\n",
      "<method-wrapper '__hash__' of Sheep object at 0x7fd9c52b7070>\n",
      "<method-wrapper '__hash__' of Sheep object at 0x7fdaed97c430>\n"
     ]
    }
   ],
   "source": [
    "from __future__ import annotations\n",
    "from typing import List\n",
    "import numpy as np\n",
    "import copy\n",
    "\n",
    "class Sheep(object):\n",
    "    def __init__(self, color : str, name : str, age : int, sheared : bool) -> Sheep:\n",
    "        self.__color = color\n",
    "        self.__name = name\n",
    "        self.__age = age\n",
    "        self.__sheared = sheared\n",
    "        self.children = []\n",
    "        \n",
    "    def set_color(self, color : str):\n",
    "        self.__color = color\n",
    "    def get_color(self) -> str:\n",
    "        return self.__color\n",
    "    def set_name(self, name : str):\n",
    "        self.__name = name\n",
    "    def get_name(self) -> str:\n",
    "        return self.__name\n",
    "    def set_age(self, age : int):\n",
    "        self.__age = age\n",
    "    def get_age(self) -> int:\n",
    "        return self.__age\n",
    "    def get_children(self) -> List[Sheep]:\n",
    "        return self.children\n",
    "    def is_sheared(self) -> bool:\n",
    "        return self.__sheared\n",
    "    def shear(self) -> None:\n",
    "        #if self.sheared:\n",
    "        #    self.__sheared = False\n",
    "        #else:\n",
    "        #    self.__sheared = True\n",
    "        self.__sheared = not self.__sheared\n",
    "        \n",
    "    def give_birth(self, n) -> List[Sheep]:\n",
    "        colors=[\"black\",\"white\",\"red\",\"blue\"]\n",
    "        for i in range(n):\n",
    "            rand_color = np.random.randint(0,len(colors))\n",
    "            self.children.append(Sheep(colors[rand_color],str(np.random.randint(0,1000)),0,False))\n",
    "        return copy.deepcopy(self.children)\n",
    "        \n",
    "    def __str__(self) -> str:\n",
    "        return \"This is a sheep of \"+self.__color+\" color and it is \"+str(self.__age)+\" years old.\"\n",
    "\n",
    "sheep1 = Sheep(\"black\",\"Dolly\",3,False)\n",
    "print(sheep1)\n",
    "childrens = sheep1.give_birth(3)\n",
    "print(sheep1.get_children())\n",
    "print(sheep1.is_sheared())\n",
    "sheep1.shear()\n",
    "print(sheep1.is_sheared())\n",
    "sheep1.shear()\n",
    "print(sheep1.is_sheared())\n",
    "\n",
    "# although the list of children was returned by sheep1.give_birth(3)\n",
    "# the elements in childrens, the new sheeps objects, are not real deep copies, but references\n",
    "# to the old objects in sheep1.__children\n",
    "\n",
    "# not a real copy\n",
    "# arr1 = np.array([1,2,3,4])\n",
    "# arr2 = arr1\n",
    "\n",
    "# this becomes obvious if the object hashes are compared\n",
    "# a hash is a (in the best case) unique string or number assigned\n",
    "# to an input as a result of a (cryptographic) function\n",
    "print(childrens[0].__hash__)\n",
    "print(sheep1.children[0].__hash__)"
   ]
  },
  {
   "cell_type": "markdown",
   "id": "670e56de-930e-4457-b3c5-797e01c858a4",
   "metadata": {},
   "source": [
    "<br><br><br><br>\n",
    "Due to the way Python works, you can actually start using polymorphism right now even without having learned anything about inheritance yet. Consider the expression `X.make()`. `X` could be an object of any class that has a method called `make`. The same code will work for entirely unrelated objects. You will see how this is useful in the following exercise.\n",
    "\n",
    "<div class=\"alert alert-block alert-success\"><b>Exercise:</b>\n",
    "    Check out the following code block. It teaches you how to redirect a <b>print</b> statement to a file instead of the standard output. All it does is replacing the stdout stream with a file stream. It works, because when calling <b>print</b> all what Python does is searching for a method called <b>write(string)</b> in the object referenced by <b>sys.stdout</b>.\n",
    "    <br><br>\n",
    "    In your daily work it may be useful to have both: Output to stdout and to a file. Write a custom class with a method called <b>write</b> that accepts a string. Write this string to stdout <i>and</i> to a file. Replace - like in the example - <b>sys.stdout</b> with your custom class and see what happens!\n",
    "    <br><br>\n",
    "    Hints:\n",
    "    <ul>\n",
    "        <li>Both <b>sys.stdout</b> and a file object created by <b>open</b> have a <b>write</b> method that you can use.</li>\n",
    "        <li>Since you will override <b>sys.stdout</b> with your own object, you can not use <b>sys.stdout</b> or <b>print</b> in your call directly!</li>\n",
    "    </ul>\n",
    "</div>"
   ]
  },
  {
   "cell_type": "code",
   "execution_count": 1,
   "id": "856dd79c-b26c-48a7-bb4b-ceba08c35829",
   "metadata": {},
   "outputs": [],
   "source": [
    "import sys\n",
    "\n",
    "stdout_tmp = sys.stdout #remember the stdout stream to revert this change later!\n",
    "sys.stdout = open(\"log.file\", \"a\")\n",
    "\n",
    "#writes to the log file instead of stdout\n",
    "print(\"Hello!\")\n",
    "\n",
    "#dont forget to close the file!\n",
    "sys.stdout.close()\n",
    "#dont forget to replace the closed filestream again with the original stdout!\n",
    "sys.stdout = stdout_tmp"
   ]
  },
  {
   "cell_type": "markdown",
   "id": "4dc6ea2b-4b4b-488f-bf3b-f5fbde3a61cf",
   "metadata": {},
   "source": [
    "<br><br><br><br><br><br><br><br><br><br><br><br><br><br><br><br><br><br><br><br><br><br>\n",
    "### Example solution:"
   ]
  },
  {
   "cell_type": "code",
   "execution_count": 3,
   "id": "1d48f6fc-f3bf-40b1-b08a-9a0778045683",
   "metadata": {},
   "outputs": [
    {
     "name": "stdout",
     "output_type": "stream",
     "text": [
      "Hello!\n"
     ]
    }
   ],
   "source": [
    "#YOUR CODE HERE\n",
    "class MyWriter():\n",
    "    def __init__(self):\n",
    "        self.stdout = sys.stdout\n",
    "    \n",
    "    def write(self, string):\n",
    "        with open(\"log.file\", \"a\") as log:\n",
    "            log.write(string)\n",
    "        self.stdout.write(string)\n",
    "        \n",
    "stdout_tmp = sys.stdout #remember the stdout stream to revert this change later!\n",
    "sys.stdout = MyWriter()\n",
    "print(\"Hello!\")\n",
    "sys.stdout = stdout_tmp"
   ]
  },
  {
   "cell_type": "markdown",
   "id": "e1947cfe-e456-411a-b8a7-e47a3d13f1d7",
   "metadata": {},
   "source": [
    "<br><br><br>\n",
    "### Inheritance & Method prototyping, overriding and overloading\n",
    "<br>\n",
    "<font size=\"3\">\n",
    "    <b>Inheritance is one of the key features of the OOP paradigm.</b><br><br>\n",
    "    <b>Inheritance allows a child-class or subclass to inherit attributes and methods from one or more parent- or super classes.</b> The figure illustrates this circumstance:<br><br>\n",
    "    \n",
    "</font>\n",
    "<div align=\"center\">\n",
    "<img src=\"img/inheritance2.jpg\" width=\"40%\">\n",
    "</div>\n",
    "<br>\n",
    "<font size=\"2\"><i>Source: </i><a href=\"https://www.startertutorials.com/blog/inheritance-polymorphism-python.html\">https://www.startertutorials.com/blog/inheritance-polymorphism-python.html</a></font><font size=\"3\">\n",
    "<br><br>\n",
    "\n",
    "Inheritance allows to define a hierarchy of classes sharing the same base attributes and methods (interfaces). It can facilitate the implementation of new features in your code.<br><br> Inheritance is very often required when you work with big Python frameworks. There you write your own class by inheriting from a provided (abstract) class to comply with the interfaces or methods expected by the framework environment.<br><br>\n",
    "    <b>Multiple inheritance</b> is possible in Python, but only indirect via <a href=\"https://medium.com/@__hungrywolf/mro-in-python-3-e2bcd2bd6851\"><b>Method Resolution Order</b> (MRO)</a>, hence the object method are called in a specific order. An example is given below. <br><br>\n",
    "<b>In particular, method prototyping, overriding and overloading is applied in that case.<br><br>\n",
    "Method prototypes are simply empty methods defined in the parent class, hence this class is called <i>abstract</i>. <br><br>This prototype method is then overridden by redefining a method with the <u>same name</u> in the sub class.</b><br><br>\n",
    "    <b>Method overloading</b> is also called <b><i>polymorphism</i></b> since multiple class methods of the <u>same name</u> can be defined, but accepting different numbers of arguments and types. Depending on which <i>signature</i> (number and data types of expected method arguments) of the method fits, the specific method in that case is selected and executed.<br><br>\n",
    "<b>In contrast to other programming languages like e.g. Java, a builtin implementation of polymorphism is not available in Python, hence it is not possible to define multiple methods of the same name, but accepting different number of arguments.</b> Polymorphism can only be implemented indirectly by default values for (keyword) arguments or variable number of arguments.\n",
    "</font>\n",
    "\n",
    "### Example:"
   ]
  },
  {
   "cell_type": "code",
   "execution_count": 14,
   "id": "ee8d2ff3-5663-44c7-8a34-4720c28a22ab",
   "metadata": {},
   "outputs": [
    {
     "name": "stdout",
     "output_type": "stream",
     "text": [
      "{'_Dog__name': 'Hideki', '_age': 99, 'favorite_food': 'Pizza', 'favorite_toy': 'Bone', 'has': None, '_Dog__energy': 5, '_InuShiba__num_of_memes_published': 2e+100}\n",
      "['_Dog__name', '_age', 'favorite_food', 'favorite_toy', 'has', '_Dog__energy', '_InuShiba__num_of_memes_published', '__module__', '__init__', 'publish_meme', 'bark', '__doc__', 'bite', 'retrieve', '_Dog__sleep', 'set_name', 'get_name', 'get_energy', '__dict__', '__weakref__', '__repr__', '__hash__', '__str__', '__getattribute__', '__setattr__', '__delattr__', '__lt__', '__le__', '__eq__', '__ne__', '__gt__', '__ge__', '__new__', '__reduce_ex__', '__reduce__', '__subclasshook__', '__init_subclass__', '__format__', '__sizeof__', '__dir__', '__class__']\n",
      "Barking in Japanese.\n",
      "Barking in Japanese.\n",
      "\n",
      "False\n",
      "BAAAAAAAAAAARK\n"
     ]
    },
    {
     "ename": "TypeError",
     "evalue": "bark() missing 3 required positional arguments: 'volume', 'pitch', and 'duration'",
     "output_type": "error",
     "traceback": [
      "\u001b[0;31m---------------------------------------------------------------------------\u001b[0m",
      "\u001b[0;31mTypeError\u001b[0m                                 Traceback (most recent call last)",
      "\u001b[0;32m<ipython-input-14-c0667e90c1a7>\u001b[0m in \u001b[0;36m<module>\u001b[0;34m\u001b[0m\n\u001b[1;32m     42\u001b[0m \u001b[0mprint\u001b[0m\u001b[0;34m(\u001b[0m\u001b[0mdog1\u001b[0m\u001b[0;34m.\u001b[0m\u001b[0mbark\u001b[0m\u001b[0;34m(\u001b[0m\u001b[0;36m100\u001b[0m\u001b[0;34m,\u001b[0m\u001b[0;36m1\u001b[0m\u001b[0;34m,\u001b[0m\u001b[0;36m10\u001b[0m\u001b[0;34m)\u001b[0m\u001b[0;34m)\u001b[0m\u001b[0;34m\u001b[0m\u001b[0;34m\u001b[0m\u001b[0m\n\u001b[1;32m     43\u001b[0m \u001b[0;31m# invoking bark of a Dog object, throws an exception when invoked without parameters\u001b[0m\u001b[0;34m\u001b[0m\u001b[0;34m\u001b[0m\u001b[0;34m\u001b[0m\u001b[0m\n\u001b[0;32m---> 44\u001b[0;31m \u001b[0mdog1\u001b[0m\u001b[0;34m.\u001b[0m\u001b[0mbark\u001b[0m\u001b[0;34m(\u001b[0m\u001b[0;34m)\u001b[0m\u001b[0;34m\u001b[0m\u001b[0;34m\u001b[0m\u001b[0m\n\u001b[0m",
      "\u001b[0;31mTypeError\u001b[0m: bark() missing 3 required positional arguments: 'volume', 'pitch', and 'duration'"
     ]
    }
   ],
   "source": [
    "# let's use our class Dog from the example above\n",
    "# let's define a new class InuShiba which inherits from class Dog\n",
    "class InuShiba(Dog):\n",
    "    \n",
    "    # the constructor of the class Dog is overridden here\n",
    "    def __init__(self, name : str, num_of_memes_published : int, age : int) -> InuShiba:\n",
    "        \n",
    "        # in order to have the same attributes like the parent or super class Dog\n",
    "        # invoke constructor of super class, then define additional attributes\n",
    "        \n",
    "        # instead of using the explicit class name here, better use the super() method!\n",
    "        super().__init__(name, age)\n",
    "        #Dog.__init__(self, name, age)\n",
    "        self.__num_of_memes_published = num_of_memes_published\n",
    "    \n",
    "    # a new method only InuShiba objects have\n",
    "    def publish_meme(self):\n",
    "        self.__num_of_memes_published += 1\n",
    "        \n",
    "    # the method bark is overloaded, since the class Dog already has a method bark, but\n",
    "    # with a different signature: the bark method of Dog expects 3 parameters, \n",
    "    # this bark method does not.\n",
    "    def bark(self, volume=100, pitch=1, duration=10):\n",
    "        return \"Barking in Japanese.\"\n",
    "\n",
    "special_dog = InuShiba(\"Hideki\", 2E100, 99)\n",
    "# inspecting the attributes of a InuShiba object, it in fact shares the same attributes as a Dog object\n",
    "# but it has additional attributes\n",
    "print(special_dog.__dict__)\n",
    "# inspecting the methods of a InuShiba object, it shares in fact the same methods as a Dog object\n",
    "# but it has additional methods\n",
    "print(special_dog.__dir__())\n",
    "\n",
    "# demonstration of method overloading / polymorphic methods\n",
    "print(special_dog.bark())\n",
    "print(special_dog.bark(100, 1, 10))\n",
    "print(\"\")\n",
    "\n",
    "print(Dog(\"a\",1) == Dog(\"b\",1))\n",
    "# need to override __add__ to do that\n",
    "#print(Dog(\"a\",1) + Dog(\"b\",2))\n",
    "print(dog1.bark(100,1,10))\n",
    "# invoking bark of a Dog object, throws an exception when invoked without parameters\n",
    "dog1.bark()"
   ]
  },
  {
   "cell_type": "markdown",
   "id": "d76a171c-ac6b-4d3a-be6c-f27535654932",
   "metadata": {
    "tags": []
   },
   "source": [
    "<br><br><br>\n",
    "<font size=\"3\"><div class=\"alert alert-block alert-success\"><b>Exercise:</b>\n",
    "    Create your own DataFrame class by deriving from pandas DataFrame. Add a method that summarizes the dataframe in a useful way (let's ignore the existence of such a method in the base class). Ignore naming conflicts with existing methods of the DataFrame class for now. Print at least the number of rows and the columns of the DataFrame plus any other kind of information you would like to check. </div><br>\n",
    "<b>Try it yourself:</b></font>"
   ]
  },
  {
   "cell_type": "code",
   "execution_count": null,
   "id": "0612b230-d56e-4471-b05d-f5fab73fbe8f",
   "metadata": {},
   "outputs": [],
   "source": [
    "# YOUR CODE HERE"
   ]
  },
  {
   "cell_type": "markdown",
   "id": "f9f07494-aa5c-4202-984a-db916a2d71a8",
   "metadata": {},
   "source": [
    "<br><br><br><br><br><br><br><br><br><br><br><br><br><br><br><br><br><br>\n",
    "### Example Solution:"
   ]
  },
  {
   "cell_type": "code",
   "execution_count": 54,
   "id": "536342f5-bb47-4ded-8add-f6f2a42fbfea",
   "metadata": {},
   "outputs": [
    {
     "name": "stdout",
     "output_type": "stream",
     "text": [
      "number of rows: 5\n",
      "columns: Index(['numbers'], dtype='object')\n",
      "The first 3 elements:\n",
      "a  :  123\n",
      "b  :  23\n",
      "c  :  54\n"
     ]
    }
   ],
   "source": [
    "import pandas as pd\n",
    "\n",
    "class MyDF(pd.DataFrame):\n",
    "    \n",
    "    __n = 3\n",
    "    \n",
    "    def summarize(self):\n",
    "        print(\"number of rows:\", len(self))\n",
    "        print(\"columns:\", self.columns)\n",
    "        print(f\"The first {self.__n} elements:\")\n",
    "        for i in range(min(len(self), self.__n)):\n",
    "            print(self.index[i], \" : \", self.iloc[i, 0])\n",
    "\n",
    "        \n",
    "my_df = MyDF([123,23,54,15,89], columns=[\"numbers\"], index=[\"a\",\"b\",\"c\",\"d\",\"e\"]) #uses pf.DataFrame's constructor\n",
    "\n",
    "my_df.summarize()"
   ]
  },
  {
   "cell_type": "markdown",
   "id": "3ce4d832-b6d8-4b44-a198-3a4d920a6589",
   "metadata": {},
   "source": [
    "<br><br><br><br><br>\n",
    "<div class=\"alert alert-block alert-success\"><b>Exercise:</b>\n",
    "    In the cells below, you will find a little game implemented. \n",
    "    \n",
    "    2 sheep graze on a field. They are hunted by a wolf. You can run the cell as usual and it will loop indefinetely until you cancel execution with <b>Ctrl + C</b>.\n",
    "    \n",
    "    However, both Sheep and Wolf have no mechanics implemented. \n",
    "    <br>\n",
    "    (1) \n",
    "    \n",
    "    <ul>\n",
    "        <li>The method <b>move</b> of <b>GameObject</b> is called every game cycle. This method is a so called actract method that expects objects deriving from <b>GameObject</b> to implement it. Is has no behavior on its own yet. Implement <b>move</b> in the 2 subclasses. </li> \n",
    "        <li>If the object is a Sheep, flip a fair coin. If head, it should read the position of the wolf and move away from it. Otherwise it should panic and move in a random direction.</li>  \n",
    "        <li>If the object is a wolf, it should move one cell towards the closest sheep.</li> \n",
    "    </ul>\n",
    "    <br>\n",
    "    (2) \n",
    "    \n",
    "    <ul>\n",
    "        <li>Add an abstract method <b>interact</b> to <b>GameObject</b> that is called every time when 2 game objects share the same position after moving. </li>\n",
    "        <li>Implement <b>interact</b> such that the wolf can catch the sheep and they die (stop moving and their symbol is replaced).  </li>\n",
    "        <li>At the end of the game, print a message whether sheep (at least one alive) or wolf has won. </li>\n",
    "    </ul>\n",
    "</div>"
   ]
  },
  {
   "cell_type": "code",
   "execution_count": 100,
   "id": "16c38224-f6dc-4ac6-ab1b-1bbee8305343",
   "metadata": {},
   "outputs": [],
   "source": [
    "class GameObject:\n",
    "    def __init__(self,x,y):\n",
    "        self.x = x\n",
    "        self.y = y\n",
    "        \n",
    "    def move(self):\n",
    "        pass\n",
    "    \n",
    "    def stay_in_border(self, width=50, height=15):\n",
    "        self.x = min(self.x, width-3)\n",
    "        self.x = max(self.x, 1)\n",
    "        self.y = min(self.y, height-3)\n",
    "        self.y = max(self.y, 1)\n",
    "\n",
    "        \n",
    "class Sheep(GameObject):\n",
    "    def __init__(self,x,y):\n",
    "        super(Sheep, self).__init__(x,y)\n",
    "        self.symbol = \"o\"\n",
    "\n",
    "    #YOUR CODE HERE\n",
    "        \n",
    "        \n",
    "class Wolf(GameObject):\n",
    "    def __init__(self,x,y):\n",
    "        super(Wolf, self).__init__(x,y)\n",
    "        self.symbol = \"w\"\n",
    "\n",
    "    #YOUR CODE HERE"
   ]
  },
  {
   "cell_type": "code",
   "execution_count": 101,
   "id": "b866839d-76f9-41e0-8082-6a91c009026b",
   "metadata": {},
   "outputs": [
    {
     "name": "stdout",
     "output_type": "stream",
     "text": [
      "##################################################\n",
      "#                                                #\n",
      "#                           o                    #\n",
      "#                                                #\n",
      "#                                                #\n",
      "#                                                #\n",
      "#                                                #\n",
      "#                                                #\n",
      "#                                                #\n",
      "#                                                #\n",
      "#                                                #\n",
      "#                       o     w                  #\n",
      "#                                                #\n",
      "#                                                #\n",
      "##################################################\n",
      "Press the interrupt button to termiante.\n"
     ]
    }
   ],
   "source": [
    "import time\n",
    "from IPython.display import clear_output\n",
    "\n",
    "def update_and_print_world(objects = [], width=50, heigth=15):\n",
    "    clear_output(wait=True)\n",
    "    #update \n",
    "    for o in objects:\n",
    "        o.move()\n",
    "        o.stay_in_border()\n",
    "    #print\n",
    "    print(\"#\"*width)\n",
    "    for y in range(heigth-2):\n",
    "        line = \"#\"\n",
    "        for x in range(1, width-1):\n",
    "            any_obj = False\n",
    "            for o in objects:\n",
    "                if x == o.x and y == o.y:\n",
    "                    line += o.symbol\n",
    "                    any_obj = True\n",
    "                    break\n",
    "            if not any_obj:\n",
    "                line += \" \"\n",
    "        line += \"#\"\n",
    "        print(line)\n",
    "    print(\"#\"*width)\n",
    "\n",
    "sheep1 = Sheep(24, 10)\n",
    "sheep2 = Sheep(28, 1)\n",
    "wolf = Wolf(30,10)\n",
    "\n",
    "#YOUR CODE HERE\n",
    "    \n",
    "objects = [wolf, sheep1, sheep2]    \n",
    "    \n",
    "max_cycles = 20\n",
    "num_cylces = 0\n",
    "    \n",
    "while num_cylces < max_cycles:\n",
    "    update_and_print_world(objects)\n",
    "    print(\"Press the interrupt button to terminate.\")\n",
    "    num_cylces += 1\n",
    "    time.sleep(0.5)\n",
    "    \n",
    "#YOUR CODE HERE"
   ]
  },
  {
   "cell_type": "markdown",
   "id": "f056104f-f588-4e46-8c06-af93737d69c3",
   "metadata": {},
   "source": [
    "<br><br><br><br><br><br><br><br><br><br><br><br><br><br><br><br><br><br>\n",
    "### Example Solution:"
   ]
  },
  {
   "cell_type": "code",
   "execution_count": 98,
   "id": "965f5b96-28bf-4ae4-9255-afe44275891e",
   "metadata": {},
   "outputs": [],
   "source": [
    "class GameObject:\n",
    "    def __init__(self,x,y):\n",
    "        self.x = x\n",
    "        self.y = y\n",
    "        self.alive = True\n",
    "        \n",
    "    def move(self):\n",
    "        pass\n",
    "        \n",
    "    def interact(self, other):\n",
    "        pass\n",
    "    \n",
    "    def stay_in_border(self, width=50, height=15):\n",
    "        self.x = min(self.x, width-3)\n",
    "        self.x = max(self.x, 1)\n",
    "        self.y = min(self.y, height-3)\n",
    "        self.y = max(self.y, 1)\n",
    "\n",
    "class Sheep(GameObject):\n",
    "    def __init__(self,x,y):\n",
    "        super(Sheep, self).__init__(x,y)\n",
    "        self.symbol = \"o\"\n",
    "        \n",
    "    def set_wolf(self, wolf):\n",
    "        self.wolf = wolf\n",
    "        \n",
    "    def move(self):\n",
    "        if np.random.random() < 0.5:\n",
    "            if self.wolf.x < self.x:\n",
    "                self.x += 1\n",
    "            elif self.wolf.x > self.x:\n",
    "                self.x -= 1\n",
    "            elif self.wolf.y < self.y:\n",
    "                self.y += 1\n",
    "            elif self.wolf.y > self.y:\n",
    "                self.y -= 1\n",
    "        else: #PANIC!!\n",
    "            if np.random.random() < 0.5:\n",
    "                self.x += 1\n",
    "            else:\n",
    "                self.x -= 1\n",
    "            if np.random.random() < 0.5:\n",
    "                self.y += 1\n",
    "            else:\n",
    "                self.y -= 1\n",
    "        \n",
    "class Wolf(GameObject):\n",
    "    def __init__(self,x,y):\n",
    "        super(Wolf, self).__init__(x,y)\n",
    "        self.symbol = \"w\"\n",
    "        \n",
    "    def set_sheep(self, sheep):\n",
    "        self.sheep = sheep\n",
    "        \n",
    "    def interact(self, other):\n",
    "        if isinstance(other, Sheep):\n",
    "            other.alive = False\n",
    "            other.symbol = \"x\"\n",
    "        \n",
    "    def move(self):\n",
    "        start = 0\n",
    "        while start < len(self.sheep) and not self.sheep[start].alive:\n",
    "            start += 1\n",
    "        if start == len(self.sheep):\n",
    "            return\n",
    "        closest_sheep = self.sheep[start]\n",
    "        closest_dist = abs(closest_sheep.x - self.x) + abs(closest_sheep.y - self.y)\n",
    "        for i in range(start, len(self.sheep)):\n",
    "            sheep = self.sheep[i]\n",
    "            if not sheep.alive:\n",
    "                continue\n",
    "            dist = abs(sheep.x - self.x) + abs(sheep.y - self.y)\n",
    "            if dist < closest_dist:\n",
    "                closest_dist = dist\n",
    "                closest_sheep = sheep\n",
    "        if closest_sheep.x < self.x:\n",
    "            self.x -= 1\n",
    "        elif closest_sheep.x > self.x:\n",
    "            self.x += 1\n",
    "        elif closest_sheep.y < self.y:\n",
    "            self.y -= 1\n",
    "        elif closest_sheep.y > self.y:\n",
    "            self.y += 1"
   ]
  },
  {
   "cell_type": "code",
   "execution_count": 99,
   "id": "4860ba9b-e50f-4b68-80c0-cc287d357d44",
   "metadata": {},
   "outputs": [
    {
     "name": "stdout",
     "output_type": "stream",
     "text": [
      "Sheep won!\n"
     ]
    }
   ],
   "source": [
    "import time\n",
    "from IPython.display import clear_output\n",
    "\n",
    "def update_and_print_world(objects = [], width=50, heigth=15):\n",
    "    clear_output(wait=True)\n",
    "    #update \n",
    "    for o in objects:\n",
    "        if not o.alive:\n",
    "            continue\n",
    "        o.move()\n",
    "        o.stay_in_border()\n",
    "        for o2 in objects:\n",
    "            if not o == o2 and o2.alive and o.x == o2.x and o.y == o2.y:\n",
    "                o.interact(o2)\n",
    "    #print\n",
    "    print(\"#\"*width)\n",
    "    for y in range(heigth-2):\n",
    "        line = \"#\"\n",
    "        for x in range(1, width-1):\n",
    "            any_obj = False\n",
    "            for o in objects:\n",
    "                if x == o.x and y == o.y:\n",
    "                    line += o.symbol\n",
    "                    any_obj = True\n",
    "                    break\n",
    "            if not any_obj:\n",
    "                line += \" \"\n",
    "        line += \"#\"\n",
    "        print(line)\n",
    "    print(\"#\"*width)\n",
    "\n",
    "sheep1 = Sheep(24, 10)\n",
    "sheep2 = Sheep(28, 10)\n",
    "wolf = Wolf(30,10)\n",
    "\n",
    "sheep1.set_wolf(wolf)\n",
    "sheep2.set_wolf(wolf)\n",
    "wolf.set_sheep([sheep1, sheep2])\n",
    "    \n",
    "objects = [wolf, sheep1, sheep2]    \n",
    "    \n",
    "max_cycles = 30\n",
    "num_cylces = 0\n",
    "    \n",
    "while num_cylces < max_cycles:\n",
    "    update_and_print_world(objects)\n",
    "    print(\"Press the interrupt button to termiante.\")\n",
    "    num_cylces += 1\n",
    "    time.sleep(0.5)\n",
    "    \n",
    "clear_output(wait=True)\n",
    "if sheep1.alive or sheep2.alive:\n",
    "    print(\"Sheep won!\")\n",
    "else:\n",
    "    print(\"Wolf won!\")"
   ]
  },
  {
   "cell_type": "code",
   "execution_count": null,
   "id": "aebdf5c1-2185-45d2-839a-0c016142275d",
   "metadata": {},
   "outputs": [],
   "source": []
  }
 ],
 "metadata": {
  "kernelspec": {
   "display_name": "Python 3",
   "language": "python",
   "name": "python3"
  },
  "language_info": {
   "codemirror_mode": {
    "name": "ipython",
    "version": 3
   },
   "file_extension": ".py",
   "mimetype": "text/x-python",
   "name": "python",
   "nbconvert_exporter": "python",
   "pygments_lexer": "ipython3",
   "version": "3.9.2"
  }
 },
 "nbformat": 4,
 "nbformat_minor": 5
}
