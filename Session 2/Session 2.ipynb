{
 "cells": [
  {
   "cell_type": "markdown",
   "metadata": {},
   "source": [
    "# Introduction to Python for People with Programming Experience\n",
    "\n",
    "\n",
    "## Session 2 / 4 - 27.09.2022 9:00 - 13:00\n",
    "\n",
    "*by Fabian Wilde, Katharina Hoff, Matthis Ebel, Mario Stanke & Felix Becker*\n",
    "\n",
    "Contact: felix.becker@uni-greifswald.de"
   ]
  },
  {
   "cell_type": "markdown",
   "metadata": {},
   "source": [
    "<br><br><br>\n",
    "## List Comprehensions and Generators\n",
    "<br>\n",
    "For-loops in Python very often do not contain complicated code blocks. In fact, the most frequent use case is just to apply a certain function or formula to every element e.g. in a list and store the result somewhere.<br><br>\n",
    "A very elegant (and also faster way) to avoid for-loops in Python in those cases is to use so-called <a href=\"https://docs.python.org/3/tutorial/datastructures.html#list-comprehensions\"><i><b>list comprehensions</b></i></a>.<br><br>\n",
    "<b>A list comprehension in Python is defined by</b><br><br>\n",
    "\n",
    "<font face=\"Courier\"><b>a = [ <i>output_expression</i> for elem in x]</b></font>\n",
    "\n",
    "Note that you could achieve the same result e.g. with `append` and a `for loop`. However, you will notice that your code is written faster and more readable and will likely use list comprehension on a daily basis in your future Python career once you get familiar."
   ]
  },
  {
   "cell_type": "markdown",
   "metadata": {},
   "source": [
    "**We can also generate elements conditionally:**\n",
    "\n",
    "<font face=\"Courier\"><b>a = [ <i>out_expr</i> if <i>condition</i> else <i>alt_out_expr</i> for elem in x]</b><br>\n",
    "</font>\n",
    "<br>\n",
    "    where <i>out_expr</i> and <i>alt_out_expr</i> are expressions (which should include elem) to be evaluated. This could be anything from <font face=\"Courier\">1+1</font> to any function call (with the element as argument). <i>condition</i> is then a Python expression returning a boolean (True/False value) as for \"normal\" if-elif-else statements in Python.\n",
    "</font>\n",
    "\n",
    "### Example 1:"
   ]
  },
  {
   "cell_type": "markdown",
   "metadata": {},
   "source": [
    "The range function yields a generator (an iterable) where the new/next value is generated on-the-fly \n",
    "on each iteration. In order to get a full list of the numbers, enclose it with the list constructor,\n",
    "forcing the range generator to be executed.\n",
    "\n",
    "(If you do not understand this, that's okay for the moment.)"
   ]
  },
  {
   "cell_type": "code",
   "execution_count": null,
   "metadata": {},
   "outputs": [],
   "source": [
    "# Generate a list of ascending numbers\n",
    "x = list(range(10))      # define elements to work on\n",
    "print(\"x =\", x)"
   ]
  },
  {
   "cell_type": "code",
   "execution_count": null,
   "metadata": {
    "scrolled": true
   },
   "outputs": [],
   "source": [
    "# define a lambda expression that compute the square root\n",
    "sqr = lambda x: x**0.5"
   ]
  },
  {
   "cell_type": "markdown",
   "metadata": {},
   "source": [
    "Assume you want to apply `sqr` to all elements in `x`. You already learned how to do this with a for loop:"
   ]
  },
  {
   "cell_type": "code",
   "execution_count": null,
   "metadata": {},
   "outputs": [],
   "source": [
    "# create empty list to store the result\n",
    "y = []\n",
    "for elem in x:\n",
    "    # evaluates function sqr with elem as argument and adds the result to the list y\n",
    "    y.append(sqr(elem))\n",
    "print(\"y =\", str(y))"
   ]
  },
  {
   "cell_type": "markdown",
   "metadata": {},
   "source": [
    "A better way to express this using a list comprehension is:"
   ]
  },
  {
   "cell_type": "code",
   "execution_count": null,
   "metadata": {},
   "outputs": [],
   "source": [
    "y = [sqr(elem) for elem in x]\n",
    "print(\"y =\", str(y))"
   ]
  },
  {
   "cell_type": "markdown",
   "metadata": {},
   "source": [
    "### Example 2"
   ]
  },
  {
   "cell_type": "code",
   "execution_count": null,
   "metadata": {},
   "outputs": [],
   "source": [
    "#when printed, the list y is not very readable\n",
    "#one could use a list comprehension to generate a list of strings with less digits right of the comma\n",
    "\n",
    "def print_nice(y):\n",
    "    return [\"%.3f\" % elem for elem in y]\n",
    "\n",
    "print(\"rounded y=\", print_nice(y))"
   ]
  },
  {
   "cell_type": "markdown",
   "metadata": {},
   "source": [
    "Here the expression `\"%.3f\" % elem` converts the float `elem` to a string after rounding to 3 digits after the comma."
   ]
  },
  {
   "cell_type": "markdown",
   "metadata": {},
   "source": [
    "### Example 3"
   ]
  },
  {
   "cell_type": "code",
   "execution_count": null,
   "metadata": {},
   "outputs": [],
   "source": [
    "# Example 2: conditionally generate a list of values\n",
    "\n",
    "# import numpy module to use numpy functions\n",
    "# it is sufficent to import it once in any cell, typically at the start of a notebook\n",
    "import numpy as np\n",
    "\n",
    "# create list with 10 random values in [0, 1)\n",
    "x = np.random.uniform(0,1,(10,))\n",
    "y = [1 if elem >= 0.5 else 0 for elem in x]\n",
    "print(\"x =\", print_nice(x)) \n",
    "print(\"y =\", y)"
   ]
  },
  {
   "cell_type": "code",
   "execution_count": null,
   "metadata": {},
   "outputs": [],
   "source": [
    "#or to just keep \"True\" elements and omit the else statement (i.e. filter the list) \n",
    "x = np.random.uniform(0,1,(10,))\n",
    "y = [elem for elem in x if elem >= 0.5]\n",
    "print(\"x =\", print_nice(x)) \n",
    "print(\"y =\", print_nice(y))"
   ]
  },
  {
   "cell_type": "markdown",
   "metadata": {},
   "source": [
    "\n",
    "\n",
    "<div class=\"alert alert-block alert-success\"><b>Exercise:</b> Try it yourself: In the following cell, generate a list \n",
    "    <ol type=\"1\">\n",
    "        <li>containing the lengths of all elements in `strings` without using a loop.</li>\n",
    "        <li>containing the first letters of each string.</li>\n",
    "        <li>containing a tuple for each string that contains the index of the string in the list (e.g. 1 for \"Adam\") and the last letter of the string.</li>\n",
    "        <li>of lists such that two consecutive elements of `strings` are packed into their own sublist (i.e. [[\"Jenny\", \"Adam\"], [\"tea\", \"apple\"], ...]\n",
    "        <li>containing only the strings that start with \"A\" or \"a\".\n",
    "    </ol>\n",
    "</div>\n",
    "\n",
    "Tip: For task 3. you could use Python's `zip` (https://docs.python.org/3/library/functions.html#zip) function. Also check out `enumerate` (https://docs.python.org/3/library/functions.html#enumerate)."
   ]
  },
  {
   "cell_type": "code",
   "execution_count": null,
   "metadata": {},
   "outputs": [],
   "source": [
    "strings = [\"Jenny\", \"Adam\", \"tea\", \"apple\", \"keyboard\", \"computer\"]\n",
    "\n",
    "#YOUR CODE HERE"
   ]
  },
  {
   "cell_type": "markdown",
   "metadata": {},
   "source": [
    "<br><br><br>\n",
    "<font size=\"3\">\n",
    "<b>We can also define our own generators using round brackets instead of square brackets for a list comprehension:</b>\n",
    "</font>"
   ]
  },
  {
   "cell_type": "code",
   "execution_count": null,
   "metadata": {},
   "outputs": [],
   "source": [
    "# create list with 10 random values in [0, 1)\n",
    "x = np.random.uniform(0,1,(10,))\n",
    "print(\"x =\", print_nice(x)) \n",
    "\n",
    "#define a generator \n",
    "y = (1 if elem >= 0.5 else 0 for elem in x)\n",
    "print(y)"
   ]
  },
  {
   "cell_type": "markdown",
   "metadata": {},
   "source": [
    "<font size=\"3\">\n",
    "In fact, y now does not contain a list with values, but yields a generator object. We still get the same result as before for the list comprehension, if the generator object is used as argument for the constructor of a list (object):\n",
    "</font>"
   ]
  },
  {
   "cell_type": "code",
   "execution_count": null,
   "metadata": {},
   "outputs": [],
   "source": [
    "list(y)"
   ]
  },
  {
   "cell_type": "code",
   "execution_count": null,
   "metadata": {},
   "outputs": [],
   "source": [
    "# or use the generator (like range) in a for loop\n",
    "y = (1 if elem >= 0.5 else 0 for elem in x)\n",
    "for elem in y:\n",
    "    print(elem)"
   ]
  },
  {
   "cell_type": "markdown",
   "metadata": {},
   "source": [
    "<font size=\"3\">\n",
    "The generator object lazily generates a new value at each iteration and not in advance:\n",
    "</font>"
   ]
  },
  {
   "cell_type": "code",
   "execution_count": null,
   "metadata": {},
   "outputs": [],
   "source": [
    "#redefining the generator\n",
    "y = (1 if elem >= 0.5 else 0 for elem in x)\n",
    "iter_count = 0"
   ]
  },
  {
   "cell_type": "code",
   "execution_count": null,
   "metadata": {},
   "outputs": [],
   "source": [
    "# the elements of the list y are generated on-the-fly\n",
    "# the generator yields the next element by invoking the (private / hidden) method\n",
    "# of the generator object\n",
    "\n",
    "# evaluate same cell with CTRL + ENTER\n",
    "# counter increments, the generator yields a new value at each iteration\n",
    "print(\"iter:\"+str(iter_count))\n",
    "print(y.__next__())\n",
    "iter_count += 1"
   ]
  },
  {
   "cell_type": "markdown",
   "metadata": {},
   "source": [
    "<div class=\"alert alert-block alert-success\"><b>Exercise:</b> Define a function that generates a list of random integers and decide for each of the numbers if the number is even or odd. As output for each number, we want a string \"even\" or \"odd\". <b>Solve the problem with a for-loop and a list comprehension seperately and compare the required time.</b><br><br>\n",
    "    <b>Hint:</b> Use the function <a href=\"https://docs.scipy.org/doc/numpy-1.15.1/reference/generated/numpy.random.randint.html\"><b>np.random.randint</b></a> to generate random integers. Prior using that function, import numpy with <i>import numpy as np</i>. Use the module <a href=\"https://docs.python.org/3/library/timeit.html\">timeit</a> and wrap it around your function to benchmark it. You can also use the function time from the module <a href=\"https://docs.python.org/3/library/time.html\">time</a> to get the actual timestamp before and after the execution of the function.\n",
    "   \n",
    "</div>\n",
    "\n",
    "\n",
    "### Try it yourself:"
   ]
  },
  {
   "cell_type": "code",
   "execution_count": null,
   "metadata": {},
   "outputs": [],
   "source": [
    "import numpy as np\n",
    "import timeit\n",
    "\n",
    "def example_func():\n",
    "    randints = np.random.randint(-100, 100, 10) #generate 10 random numbers in the range [-100, 100)\n",
    "    return randints\n",
    "\n",
    "#example timeit\n",
    "print(\"example_func finished after:\")\n",
    "print(timeit.timeit('example_func()', number=100, globals=globals())) #run example_func 100 times and time it\n",
    "\n",
    "#YOUR CODE HERE, reuse the example above"
   ]
  },
  {
   "cell_type": "markdown",
   "metadata": {},
   "source": [
    "<br><br><br><br><br><br><br><br><br><br><br><br><br><br><br><br><br><br><br><br>\n",
    "### Example Solution:"
   ]
  },
  {
   "cell_type": "code",
   "execution_count": null,
   "metadata": {},
   "outputs": [],
   "source": [
    "from typing import List\n",
    "import numpy as np\n",
    "import timeit\n",
    "\n",
    "# function definiton using type hinting\n",
    "def list_compr_fun(lower_int : int, upper_int : int, num : int) -> (List, List):\n",
    "    randints = np.random.randint(lower_int,upper_int,(num,),)\n",
    "    return randints, [\"even\" if (elem % 2 == 0) else \"odd\" for elem in randints]\n",
    "\n",
    "# function definiton using type hinting\n",
    "def python_for_fun(lower_int : int, upper_int : int, num : int) -> (List, List):\n",
    "    randints = np.random.randint(lower_int,upper_int,(num,),)\n",
    "    result = []\n",
    "    for rand_int in randints:\n",
    "        if (rand_int % 2 == 0):\n",
    "            result.append(\"even\")\n",
    "        else:\n",
    "            result.append(\"odd\")\n",
    "    return randints, result\n",
    "\n",
    "randints, result = python_for_fun(-100,100,10)\n",
    "print(\"randints =\"+str(randints))\n",
    "print(\"result =\"+str(result))\n",
    "randints, result = list_compr_fun(-100,100,10)\n",
    "print(\"randints =\"+str(randints))\n",
    "print(\"result =\"+str(result))\n",
    "\n",
    "#compare the speed of the Python for-loop with the list comprehension\n",
    "print(\"python_for_fun finished after:\")\n",
    "print(timeit.timeit('python_for_fun(-100,100,int(1E5))', number=100, globals=globals()))\n",
    "print(\"list_compr_fun finished after:\")\n",
    "print(timeit.timeit('list_compr_fun(-100,100,int(1E5))', number=100, globals=globals()))"
   ]
  },
  {
   "cell_type": "markdown",
   "metadata": {},
   "source": [
    "<br><br><br>\n",
    "## Plain File Loading in Python\n",
    "\n",
    "Python offers a way to read text files line-by-line. That is great, because now we can write programs that can load (lots of) data from a file. \n",
    "\n",
    "The syntax to do so is\n",
    "\n",
    "    with open('path/to/file', 'rt') as file_handle:\n",
    "        # do stuff with file_handle\n",
    "        \n",
    "`path/to/file` is the path from the current working directory to the file that you want to open. `rt` stands for \"read text\", this tells the `open()` function that it should expect a text file and that we want to read from it  \n",
    "\n",
    "Python takes care of opening the file and creating a _stream_ that can be used through `file_handle`. \n",
    "\n",
    "- The `file_handle` is a **generator**, i.e. it iterates over lines lazily without loading the whole file into memory at once:\n",
    "\n",
    "        with open('path/to/file', 'rt') as file_handle:\n",
    "            for line in file_handle:\n",
    "                print(line)\n",
    "\n",
    "\n",
    "- `readlines()` reads the complete file and returns a list containing all the lines:\n",
    "        \n",
    "        with open('path/to/file', 'rt') as file_handle:\n",
    "            file_content = file_handle.readlines()\n",
    "        \n",
    "        print(file_content)\n",
    "    \n",
    "\n",
    "\n",
    "Note: after the indented code below `with open(...) as ...:` has ended, Python automatically closes the connection to the file. That's convenient, otherwise we would have to do this manually!"
   ]
  },
  {
   "cell_type": "code",
   "execution_count": null,
   "metadata": {},
   "outputs": [],
   "source": [
    "# Read the first 10 lines of the file `data/iris.csv` and print them\n",
    "with open(\"data/iris.csv\", \"rt\") as fh:\n",
    "    i = 0\n",
    "    for line in fh:\n",
    "        print(line)\n",
    "        i += 1\n",
    "        if i >= 10:\n",
    "            break"
   ]
  },
  {
   "cell_type": "code",
   "execution_count": null,
   "metadata": {},
   "outputs": [],
   "source": [
    "# Read the complete file `data/iris.csv` and print the first 10 lines\n",
    "with open(\"data/iris.csv\", \"rt\") as fh:\n",
    "    content = fh.readlines()\n",
    "    \n",
    "content[:10]"
   ]
  },
  {
   "cell_type": "markdown",
   "metadata": {},
   "source": [
    "**Note:** For many file types like CSV (comma seperated values), JSON, etc., there are better ways to read provided by (third-party) modules!"
   ]
  },
  {
   "cell_type": "markdown",
   "metadata": {},
   "source": [
    "#### File Writing\n",
    "\n",
    "Of course, we can also write to files! The approach is very similar:\n",
    "\n",
    "    with open('path/to/file', 'wt') as file_handle:\n",
    "        # do stuff with the file_handle, e.g.\n",
    "        file_handle.write(\"This line is written to the file!\")\n",
    "        \n",
    "`wt` stands for \"write text\" and tells the `open()` function that it should open the file for writing, and that we want to write text to it.  \n",
    "\n",
    "Useful `file_handle` methods are\n",
    "* `write(string)` - writes the string to the file\n",
    "* `writelines([string1, string2, ...])` - writes each element in the list to the file"
   ]
  },
  {
   "cell_type": "markdown",
   "metadata": {},
   "source": [
    "<font size=\"3\"><div class=\"alert alert-block alert-success\"><b>Exercise:</b><br>\n",
    "Create a file from Python! First, create a `dict` with some keys (`str`) and some values. The values might be `int`, `float`, `str`, `bool`, `list` or `dict` (please do not use `tuple` and `set`!).<br>\n",
    "Open a file for text writing, and use the function `dump()` from the module `json` to write your dictionary to that file!\n",
    "</div>"
   ]
  },
  {
   "cell_type": "markdown",
   "metadata": {},
   "source": [
    "Hints:\n",
    "* The use of `dump` is: `dump(dictionary_name, file_handle)`\n",
    "* You don't need to use another `write()` or `writelines()` method!"
   ]
  },
  {
   "cell_type": "code",
   "execution_count": null,
   "metadata": {},
   "outputs": [],
   "source": [
    "import json\n",
    "\n",
    "# YOUR CODE HERE"
   ]
  },
  {
   "cell_type": "markdown",
   "metadata": {},
   "source": [
    "<br><br><br><br><br><br><br><br><br><br><br><br><br><br><br><br><br><br><br><br>\n",
    "### Example Solution"
   ]
  },
  {
   "cell_type": "code",
   "execution_count": null,
   "metadata": {},
   "outputs": [],
   "source": [
    "import json\n",
    "\n",
    "my_dict = {\n",
    "    'key1': 1,\n",
    "    'key2': [True, False],\n",
    "    'foo': 'bar',\n",
    "    'new key': 42\n",
    "}\n",
    "\n",
    "with open('testfile.json', 'wt') as file_handle:\n",
    "    json.dump(my_dict, file_handle)"
   ]
  },
  {
   "cell_type": "code",
   "execution_count": null,
   "metadata": {
    "tags": []
   },
   "outputs": [],
   "source": [
    "with open('testfile.json', 'rt') as fh:\n",
    "    for line in fh:\n",
    "        print(line)"
   ]
  },
  {
   "cell_type": "markdown",
   "metadata": {
    "tags": []
   },
   "source": [
    "## Directory Batch Processing\n",
    "<br>\n",
    "<font size=\"3\">\n",
    "Very often, you not only need to load a single file, but a whole set of files located in one or more directories. Luckily, Python also offers builtin solutions for this problem. A directory can be traversed (also recursively) to yield a list of files to be processed in your Python script.<br><br>\n",
    "    <b>The most simple solution is offered by the builtin library <i>os</i> with <i>os.walk</i>.</b>.\n",
    "</font>\n",
    "\n",
    "### Examples:"
   ]
  },
  {
   "cell_type": "code",
   "execution_count": null,
   "metadata": {},
   "outputs": [],
   "source": [
    "# imports the required module\n",
    "import os\n",
    "\n",
    "def walk_through_files(path, file_extension='.txt'):\n",
    "    for (dirpath, dirnames, filenames) in os.walk(path):\n",
    "        for filename in filenames:\n",
    "            if filename.endswith(file_extension): \n",
    "                # yield keyword instead of return defines a generator instead of a regular function\n",
    "                yield os.path.join(dirpath, filename)"
   ]
  },
  {
   "cell_type": "code",
   "execution_count": null,
   "metadata": {},
   "outputs": [],
   "source": [
    "# that's why we iterate over walk_through_files instead of calling it\n",
    "for fname in walk_through_files(\"data/batch/\"):\n",
    "    print(fname)"
   ]
  },
  {
   "cell_type": "code",
   "execution_count": null,
   "metadata": {},
   "outputs": [],
   "source": [
    "# force the generator to return a list with the results\n",
    "print(list(walk_through_files(\"data/batch/\")))"
   ]
  },
  {
   "cell_type": "markdown",
   "metadata": {},
   "source": [
    "<font size=\"3\"><div class=\"alert alert-block alert-success\"><b>Exercise:</b> Write a function to traverse the path data/batch/, read the found files and concatenate their content to one string separated by spaces.\n",
    "</div>\n",
    "    \n",
    "Hints: \n",
    "* concatenate strings in a list `ls` using a string `s` as separator with `s.join(ls)`, e.g.  \n",
    "\n",
    "\n",
    "    print(\" \".join(['create', 'a', 'single', 'sentence']))\n",
    "    \n",
    "    create a single sentence\n",
    "\n",
    "\n",
    "* Remove trailing spaces and newline characters from a string with the string method `rstrip()`\n",
    "    \n",
    "<b>Try it yourself here:</b></font>"
   ]
  },
  {
   "cell_type": "code",
   "execution_count": null,
   "metadata": {},
   "outputs": [],
   "source": [
    "#YOUR CODE HERE"
   ]
  },
  {
   "cell_type": "markdown",
   "metadata": {},
   "source": [
    "<br><br><br><br><br><br><br><br><br><br><br><br><br><br><br><br><br><br><br><br>\n",
    "### Example Solution:"
   ]
  },
  {
   "cell_type": "code",
   "execution_count": null,
   "metadata": {},
   "outputs": [],
   "source": [
    "# iterate over files\n",
    "buffer = []\n",
    "for fname in walk_through_files(\"data/batch/\"):\n",
    "    print(fname)\n",
    "    # open file\n",
    "    with open(fname, 'rt') as fh:\n",
    "        # read file content and put it in the buffer list\n",
    "        buffer.extend(fh.readlines())\n",
    "    \n",
    "# remove newlines\n",
    "for i in range(len(buffer)):\n",
    "    buffer[i] = buffer[i].rstrip()\n",
    "\n",
    "print(\"Result:\", \" \".join(buffer))"
   ]
  },
  {
   "cell_type": "markdown",
   "metadata": {},
   "source": [
    "However, we should not make assumptions about the order in which files are iterated. It might not be the same order as they are displayed for us in the file browser!"
   ]
  },
  {
   "cell_type": "code",
   "execution_count": null,
   "metadata": {},
   "outputs": [],
   "source": [
    "print(str.join.__doc__)"
   ]
  },
  {
   "cell_type": "markdown",
   "metadata": {},
   "source": [
    "<br><br><br>\n",
    "## Non-interactive Python: \n",
    "## Running your code from the command-line\n",
    "\n",
    "So far, you have used Python interactively in this Jupyter notebook, but often, you'd like to run a long task in the background and you don't need to see intermediate results. You can run Python scripts from the command-line to achieve this behaviour. \n",
    "    \n",
    "**Here, we assume that you're using Linux.** But it works in a similar manner if you're using Windows. If you'd like to run your Python script on the command-line (which is Bash under Linux in the default case), you need to save your script first and then run it with\n",
    "\n",
    "`python your_script.py` or `python3 your_script.py`\n",
    "\n",
    "\n",
    "In case you have both, Python 2.x and Python 3.x installed on your system, make sure, you're running the right interpreter using\n",
    "\n",
    "`which python` or `python --version` \n",
    "\n",
    "Of course, you can also directly run your Python script on the command-line treating is it as a Bash script (a script file for the command-line), but putting the \"shebang line\" \n",
    "\n",
    "`#!/usr/bin/python3`\n",
    "\n",
    "as first line in your Python script to tell Bash which interpreter to use for the file.\n",
    "\n",
    "Then, you need to make your newly created file **executable** by adding the flag **executable** e.g. with the command\n",
    "\n",
    "`chmod u+x your_script.py`\n",
    "\n",
    "You can check the file permission flags in the listing of your directory using\n",
    "\n",
    "`ls -la scripts`\n",
    "\n",
    "Then you should be able to simply run your Python script as if it would be a Bash script using\n",
    "\n",
    "`./your_script.py`        \n",
    "\n",
    "In the following examples, a special \"cell magic\" command is used, so that bash scripts and commands can be run within a Jupyter notebook cell.\n",
    "\n",
    "### Examples:"
   ]
  },
  {
   "cell_type": "code",
   "execution_count": null,
   "metadata": {},
   "outputs": [],
   "source": [
    "%%bash\n",
    "which python3\n",
    "python3 --version\n",
    "python3 scripts/hello_world.py"
   ]
  },
  {
   "cell_type": "markdown",
   "metadata": {},
   "source": [
    "Or directly run your python script as it would be a bash script or native executable, after you have set the executable file flag:"
   ]
  },
  {
   "cell_type": "code",
   "execution_count": null,
   "metadata": {},
   "outputs": [],
   "source": [
    "%%bash\n",
    "ls -la scripts/\n",
    "chmod u+x scripts/hello_world2.py\n",
    "./scripts/hello_world2.py"
   ]
  },
  {
   "cell_type": "markdown",
   "metadata": {},
   "source": [
    "We check what <i>hello_world2.py</i> contained by printing its file content with the command <i>cat</i>:"
   ]
  },
  {
   "cell_type": "code",
   "execution_count": null,
   "metadata": {},
   "outputs": [],
   "source": [
    "%%bash\n",
    "cat scripts/hello_world2.py"
   ]
  },
  {
   "cell_type": "markdown",
   "metadata": {},
   "source": [
    "## Handling of command-line arguments \n",
    "<br>\n",
    "<font size=\"3\">\n",
    "Very often, it's the case that you'd like to run your Python script, but with slightly different parameters or paths with files to work on. It would be annoying to make the required changes every time in your Python code.<br><br>\n",
    "Luckily, you can easily handle given command-line arguments in Python and work with them in your script. <b>The most basic option is to use the builtin library <i>sys</i> and the provided list <i>argv</i>. If any command-line argument was given to run your Python script, it will appear in <i>argv</i>.%%bash\n",
    "cat scripts/cli_args.py\n",
    "</font>\n",
    "\n",
    "<font size=\"3\">Let's check first the content of the little example script:</font>"
   ]
  },
  {
   "cell_type": "code",
   "execution_count": null,
   "metadata": {},
   "outputs": [],
   "source": [
    "%%bash\n",
    "cat scripts/cli_args.py"
   ]
  },
  {
   "cell_type": "markdown",
   "metadata": {},
   "source": [
    "Then we run it giving various command-line arguments:"
   ]
  },
  {
   "cell_type": "code",
   "execution_count": null,
   "metadata": {},
   "outputs": [],
   "source": [
    "%%bash \n",
    "\n",
    "# modifies file permission flags\n",
    "chmod u+x scripts/cli_args.py\n",
    "\n",
    "# run it without any command-line argument\n",
    "./scripts/cli_args.py\n",
    "\n",
    "# run it with one command-line argument\n",
    "./scripts/cli_args.py --test1\n",
    "\n",
    "# run it with multiple command-line arguments\n",
    "./scripts/cli_args.py --test1 --test2 --test3"
   ]
  },
  {
   "cell_type": "markdown",
   "metadata": {},
   "source": [
    "<font size=\"3\">\n",
    "    <b>A more convenient option to handle (define and check) command-line arguments is the module <a href=\"https://docs.python.org/3/library/argparse.html\"><i>argparse</i></a></b>.<br><br> With <i>argparse</i> you can easily define expected mandatory or optional command-line arguments for your scripts with built-in checking of the user input. You can even define nice description and help texts for your parameters to help others to use your scripts later independently.\n",
    "</font>"
   ]
  },
  {
   "cell_type": "code",
   "execution_count": null,
   "metadata": {},
   "outputs": [],
   "source": [
    "%%bash\n",
    "\n",
    "# modifies file permission flags\n",
    "chmod u+x scripts/argparse_example.py\n",
    "\n",
    "# list file content\n",
    "cat scripts/argparse_example.py"
   ]
  },
  {
   "cell_type": "markdown",
   "metadata": {},
   "source": [
    "If we now attempt to run the script without command-line arguments, we get an error and argparse gives us a hint what we have done wrong:"
   ]
  },
  {
   "cell_type": "code",
   "execution_count": null,
   "metadata": {},
   "outputs": [],
   "source": [
    "%%bash\n",
    "./scripts/argparse_example.py"
   ]
  },
  {
   "cell_type": "markdown",
   "metadata": {},
   "source": [
    "Argparse provides a nice help function when the argument *-h%%bash\n",
    "./scripts/argparse_example.py -h* is used:"
   ]
  },
  {
   "cell_type": "code",
   "execution_count": null,
   "metadata": {},
   "outputs": [],
   "source": [
    "%%bash\n",
    "./scripts/argparse_example.py -h"
   ]
  },
  {
   "cell_type": "code",
   "execution_count": null,
   "metadata": {},
   "outputs": [],
   "source": [
    "%%bash\n",
    "./scripts/argparse_example.py 1 2 3 --sum"
   ]
  },
  {
   "cell_type": "markdown",
   "metadata": {},
   "source": [
    "<font size=\"3\"><div class=\"alert alert-block alert-success\"><b>Exercise:</b> Write your own script evaluating command-line arguments and run it on the command-line yourself. Either simply use the builtin <i>os.argv</i> variable or use the <i>argparse</i> module if you feel already comfortable enough.<br><br>\n",
    "    <b>Simply create a new Python script in the directory <i>scripts</i> via <i>File -> New -> TextFile</i> and rename it to <i>my_script.py</i>.</b>\n",
    "</div>\n",
    "    \n",
    "<b>Try to run it yourself here:</b></font>"
   ]
  },
  {
   "cell_type": "code",
   "execution_count": null,
   "metadata": {},
   "outputs": [],
   "source": [
    "%%bash\n",
    "python3 scripts/my_script.py"
   ]
  },
  {
   "cell_type": "markdown",
   "metadata": {},
   "source": [
    "<br><br><br>\n",
    "## Importing Modules and Namespaces\n",
    "\n",
    "Structuring the code in functions which can be easily reused and maintained is the first step to achieve cleaner and leaner code. Nevertheless, in big Python projects, it would result in not really well readable code and collaborating on a common project would be difficult, if all the code would be in one single file. Nowadays Python projects are therefore organised in modules, allowing to distribute parts of the code over multiple files as well. We have already imported modules/packages several times to use standard or 3rd party functions in the examples. \n",
    "    \n",
    "The figure below shows an exemplaric project directory structure organized in modules and submodules:\n",
    "    \n",
    "<div align=\"center\">\n",
    "    <img src=\"img/absolute-import.jpg\" width=\"40%\">\n",
    "</div>\n",
    "\n",
    "<font size=\"2\"><i>Source: <a href=\"https://www.geeksforgeeks.org/absolute-and-relative-imports-in-python/\">https://www.geeksforgeeks.org/absolute-and-relative-imports-in-python/</a></i></font>\n",
    "<br><br>\n",
    "\n",
    "**In order to use an existing (3rd party) module in your new script or project, you need to import the module using**\n",
    "    \n",
    "`import module_name`\n",
    "    \n",
    "**or define a shorter alias for the module name, if it is too long when used in the code:**\n",
    "    \n",
    "`import module_name as alias`\n",
    "\n",
    "**You can also import a specific class or function from module:**\n",
    "\n",
    "`from module_name import function_name`\n",
    "\n",
    "`from module_name import function_name as alias`\n",
    "\n",
    "**You can also further specifiy an *absolute path* to the submodule (or the file) to import a specific class or function from:**\n",
    "\n",
    "`from module_name.submodule_name.file_name import function_name`\n",
    "\n",
    "Related to the project structure above, we could use the statement:\n",
    "\n",
    "`from pkg2.subpkg1.module5 import fun3`\n",
    "\n",
    "to specify an *absolute import* path. However, absolute imports are discouraged to use when the directory structure is very large.\n",
    "\n",
    "A relative import with respect to the project structure in the figure above may be defined using\n",
    "\n",
    "`from .subpkg1.module5 import fun3`\n",
    "    \n",
    "The best practice in Python regarding imports can be found in the official Python style guide <a href=\"https://www.python.org/dev/peps/pep-0008/#imports\">PEP8</a>. \n",
    "\n",
    "The most important best practices are:\n",
    "\n",
    "- import statements should be located at the beginning of your script.\n",
    "- import statements should be sorted in alphabetical order for their module names.\n",
    "- standard library imports before 3rd party imports.\n",
    "\n",
    "### Examples:"
   ]
  },
  {
   "cell_type": "code",
   "execution_count": null,
   "metadata": {},
   "outputs": [],
   "source": [
    "# standard library imports first\n",
    "# use for each import a new line\n",
    "import math\n",
    "import os\n",
    "\n",
    "# the most popular example to use numpy\n",
    "# imports numpy and sets the namespace to the alias \"np\"\n",
    "# the module content is then accessible via the alias\n",
    "import numpy as np\n",
    "\n",
    "# the most popular example to plot/visualize data\n",
    "from matplotlib import pyplot as plt\n",
    "\n",
    "# import specific class from module\n",
    "from tqdm import tqdm"
   ]
  },
  {
   "cell_type": "markdown",
   "metadata": {},
   "source": [
    "<font size=\"3\"><b>You can check the path, version and short documentation of a module using the module attributes:</b></font>"
   ]
  },
  {
   "cell_type": "code",
   "execution_count": null,
   "metadata": {},
   "outputs": [],
   "source": [
    "# the hidden attribute __version__ contains the module version\n",
    "print(np.__version__)\n",
    "# the hidden attribute __path__ contains the module path or location\n",
    "print(np.__path__)\n",
    "# the hidden attribute __doc__ contains a short documentation\n",
    "# or description of the module, the so-called docstring\n",
    "print(np.__doc__[:200], \"... (more text follows) ...\")"
   ]
  },
  {
   "cell_type": "markdown",
   "metadata": {},
   "source": [
    "You can also import your own modules (python files):"
   ]
  },
  {
   "cell_type": "code",
   "execution_count": null,
   "metadata": {},
   "outputs": [],
   "source": [
    "from scripts import hello_world3 as hw3 #scripts is a folder in our local directory structure\n",
    "\n",
    "hw3.useful_function()"
   ]
  },
  {
   "cell_type": "markdown",
   "metadata": {},
   "source": [
    "<div class=\"alert alert-block alert-success\"><b>Exercise:</b> Implement a simple pipeline called <i>hash</i> consisting of 3 functions that modify a user input (a string). Each function should be in its own module (python file) and the files should be imported here. Think about arguments and return values of each function. \n",
    "<br>\n",
    "The 3 stand-alone functions should do:\n",
    "    \n",
    "<ol type = \"1\">\n",
    "<li>Convert all characters in the string to upper case. Return the capitalized string.</li>\n",
    "<li>Replace all characters with their respective ASCII code (function <i>ord</i>). Return a list of numbers.</li>\n",
    "<li>Sum up all numbers in the list and return the result.</li>\n",
    "</ol>\n",
    "\n",
    "Name the 3 modules appropriately according to their roles. For example:\n",
    "\n",
    "<ol type = \"1\">\n",
    "<li>stringmod.py - Contains functions that modify strings in very specific ways.</li>\n",
    "<li>convert.py - Contains functions that convert strings to other things that might be useful or not.</li>\n",
    "<li>mymath.py - Contains simple arithmetric functions that operate on lists.</li>\n",
    "</ol>\n",
    "    \n",
    "Try to use list comprehension and other things you already learned to keep your code as short as possible. (Bonus: Can you implement all 3 functions in at most 2 lines each?)\n",
    "</div>"
   ]
  },
  {
   "cell_type": "code",
   "execution_count": null,
   "metadata": {},
   "outputs": [],
   "source": [
    "#YOUR imports here\n",
    "\n",
    "user_string = \"I don't have enough € for this coffee!!\"\n",
    "\n",
    "#YOUR CODE HERE"
   ]
  },
  {
   "cell_type": "markdown",
   "metadata": {},
   "source": [
    "<br><br><br><br><br><br><br><br><br><br><br><br><br><br><br><br><br><br><br><br>\n",
    "### Example Solution:"
   ]
  },
  {
   "cell_type": "code",
   "execution_count": null,
   "metadata": {},
   "outputs": [],
   "source": [
    "#just the functions, put these into separate files and import them\n",
    "def stringmod(s):\n",
    "    s_mod = \"\".join([c.upper() for c in s])\n",
    "    return s_mod\n",
    "\n",
    "def convert(s):\n",
    "    return [ord(c) for c in s]\n",
    "\n",
    "def my_sum(L):\n",
    "    return sum(L)\n",
    "\n",
    "s_mod = stringmod(user_string)\n",
    "L = convert(s_mod)\n",
    "x = my_sum(L)\n",
    "\n",
    "print(\"User string:\", user_string)\n",
    "print(\"Upper case:\", s_mod)\n",
    "print(\"Codes:\", L)\n",
    "print(\"Sum:\", x)"
   ]
  },
  {
   "cell_type": "markdown",
   "metadata": {},
   "source": [
    "<br><br><br>\n",
    "## Some popular Python Libraries (3rd party Modules)\n",
    "\n",
    "\n",
    "Let's take a look at the most popular Python libraries which you will use yourself sooner that later. Each library is accompanied by a minimal piece of code just to give you an idea of what you can do with it.\n",
    "\n",
    "### Numpy \n",
    "\n",
    "<a href=\"https://numpy.org/\">Numpy</a> is one of the most widely used Python libraries. It offers fast handling and efficient storage of bigger amounts of numerical data in numpy arrays as well as a variety of useful arithmetric functions and utility to readin various data file formats."
   ]
  },
  {
   "cell_type": "code",
   "execution_count": null,
   "metadata": {},
   "outputs": [],
   "source": [
    "import numpy as np\n",
    "\n",
    "n = 10000\n",
    "\n",
    "X = np.random.rand(n, n) #many numbers\n",
    "Y = np.random.rand(n, n) #more numbers\n",
    "\n",
    "S = X + Y #summing them in no time\n",
    "M = np.amax(S) #computing the maximum in no time"
   ]
  },
  {
   "cell_type": "code",
   "execution_count": null,
   "metadata": {},
   "outputs": [],
   "source": [
    "#summing naively with loops takes much longer\n",
    "S = np.zeros_like(X)\n",
    "for i in range(n):\n",
    "    for j in range(n):\n",
    "        S[i,j] = X[i,j] + Y[i,j]"
   ]
  },
  {
   "cell_type": "code",
   "execution_count": null,
   "metadata": {},
   "outputs": [],
   "source": [
    "del X,Y,S #free memory, just because these arrays are so lange and so pointless, you normally don't have to do this"
   ]
  },
  {
   "cell_type": "markdown",
   "metadata": {},
   "source": [
    "### Matplotlib and seaborn\n",
    "<a href=\"https://matplotlib.org/\">Matplotlib</a> is the most common Python library for data visualization. The library <a href=\"https://seaborn.pydata.org/\">seaborn</a> builds on matplotlib and offers more beautiful plots and more sophisticated plot types for statistics."
   ]
  },
  {
   "cell_type": "code",
   "execution_count": null,
   "metadata": {},
   "outputs": [],
   "source": [
    "import matplotlib.pyplot as plt\n",
    "import numpy as np\n",
    "\n",
    "t = np.arange(0.0, 2.0, 0.01)\n",
    "s = 1 + np.sin(2*np.pi*t)\n",
    "plt.plot(t, s)\n",
    "\n",
    "plt.xlabel('time (s)')\n",
    "plt.ylabel('voltage (mV)')\n",
    "plt.title('About as simple as it gets, folks')\n",
    "plt.grid(True)\n",
    "plt.savefig(\"test.png\")\n",
    "plt.show()"
   ]
  },
  {
   "cell_type": "code",
   "execution_count": null,
   "metadata": {},
   "outputs": [],
   "source": [
    "import seaborn as sns\n",
    "import matplotlib.pyplot as plt\n",
    "sns.set_theme(style=\"whitegrid\")\n",
    "\n",
    "# Load the example diamonds dataset\n",
    "diamonds = sns.load_dataset(\"diamonds\")\n",
    "\n",
    "# Draw a scatter plot while assigning point colors and sizes to different\n",
    "# variables in the dataset\n",
    "f, ax = plt.subplots(figsize=(6.5, 6.5))\n",
    "sns.despine(f, left=True, bottom=True)\n",
    "clarity_ranking = [\"I1\", \"SI2\", \"SI1\", \"VS2\", \"VS1\", \"VVS2\", \"VVS1\", \"IF\"]\n",
    "sns.scatterplot(x=\"carat\", y=\"price\",\n",
    "                hue=\"clarity\", size=\"depth\",\n",
    "                palette=\"ch:r=-.2,d=.3_r\",\n",
    "                hue_order=clarity_ranking,\n",
    "                sizes=(1, 8), linewidth=0,\n",
    "                data=diamonds, ax=ax)"
   ]
  },
  {
   "cell_type": "markdown",
   "metadata": {},
   "source": [
    "### Pandas\n",
    "<a href=\"https://pandas.pydata.org/\">Pandas</a> is a library for chart data visualization and also for analysis and handling of large amounts of data. It became most popular for time series analysis."
   ]
  },
  {
   "cell_type": "code",
   "execution_count": null,
   "metadata": {},
   "outputs": [],
   "source": [
    "import pandas as pd\n",
    "\n",
    "d = {'col1': [1, 2, 9, -17], 'col2': [3, 4, 4, 1000], 'col3': [\"A\", \"B\", \"C\", \"D\"]}\n",
    "\n",
    "pd.DataFrame(data=d)"
   ]
  },
  {
   "cell_type": "markdown",
   "metadata": {},
   "source": [
    "### Scipy\n",
    "<a href=\"https://www.scipy.org/\">Scipy</a> is a general purpose library for science and engineering offering mostly functionalities for signal analysis, filtering and regression."
   ]
  },
  {
   "cell_type": "code",
   "execution_count": null,
   "metadata": {},
   "outputs": [],
   "source": [
    "# preprocessing e.g. for machine learning\n",
    "# just one of the more illustrative example for many different things you can do with scipy\n",
    "from scipy import ndimage, misc\n",
    "from matplotlib import pyplot as plt\n",
    "panda = misc.face()\n",
    "#rotatation function of scipy for image – image rotated 135 degree\n",
    "panda_rotate = ndimage.rotate(panda, 135)\n",
    "plt.imshow(panda_rotate)\n",
    "plt.show()"
   ]
  },
  {
   "cell_type": "markdown",
   "metadata": {},
   "source": [
    "### Statsmodels\n",
    "As the name implies, the library <a href=\"https://www.statsmodels.org/\">Statsmodels</a> offers a big variety of statistical models and tests for your data."
   ]
  },
  {
   "cell_type": "code",
   "execution_count": null,
   "metadata": {},
   "outputs": [],
   "source": [
    "import numpy as np\n",
    "import statsmodels.api as sm\n",
    "import statsmodels.formula.api as smf\n",
    "\n",
    "# Load data\n",
    "dat = sm.datasets.get_rdataset(\"Guerry\", \"HistData\").data\n",
    "\n",
    "# Fit regression model (using the natural log of one of the regressors)\n",
    "results = smf.ols('Lottery ~ Literacy + np.log(Pop1831)', data=dat).fit()\n",
    "\n",
    "# Inspect the results\n",
    "print(results.summary())"
   ]
  },
  {
   "cell_type": "markdown",
   "metadata": {},
   "source": [
    "### Tensorflow\n",
    "<a href=\"https://www.tensorflow.org/\">Tensorflow</a> is the most popular machine learning library developed mostly by Google besides the competing <a href=\"https://pytorch.org/\">pytorch</a> by Facebook. It is popular for its automatic differentiation feature which lets you specify arbitrary models instead of just predefined ones like in statsmodels."
   ]
  },
  {
   "cell_type": "code",
   "execution_count": null,
   "metadata": {},
   "outputs": [],
   "source": [
    "import tensorflow as tf\n",
    "\n",
    "#load your data\n",
    "mnist = tf.keras.datasets.mnist\n",
    "\n",
    "(x_train, y_train), (x_test, y_test) = mnist.load_data()\n",
    "x_train, x_test = x_train / 255.0, x_test / 255.0\n",
    "\n",
    "#define a creative (and useful) model\n",
    "model = tf.keras.models.Sequential([\n",
    "  tf.keras.layers.Flatten(input_shape=(28, 28)),\n",
    "  tf.keras.layers.Dense(128, activation='relu'),\n",
    "  tf.keras.layers.Dropout(0.2),\n",
    "  tf.keras.layers.Dense(10)\n",
    "])\n",
    "\n",
    "#train the model\n",
    "model.compile(optimizer='adam',\n",
    "              loss=tf.keras.losses.SparseCategoricalCrossentropy(from_logits=True),\n",
    "              metrics=['accuracy'])\n",
    "model.fit(x_train, y_train, epochs=5)"
   ]
  },
  {
   "cell_type": "markdown",
   "metadata": {},
   "source": [
    "### Requests\n",
    "\n",
    "There are many other non scitific fields with very useful libraries like <a href=\"https://www.tensorflow.org/\">Requests</a>, which lets you send http requests using python. "
   ]
  },
  {
   "cell_type": "code",
   "execution_count": null,
   "metadata": {},
   "outputs": [],
   "source": [
    "import requests\n",
    "   \n",
    "# Making a GET request - let's hack my github account\n",
    "r = requests.get('https://api.github.com/users/felbecker')\n",
    "  \n",
    "# check status code for response received\n",
    "# success code - 200\n",
    "print(r)\n",
    "  \n",
    "# print content of request\n",
    "print(r.json()[\"name\"])\n",
    "print(r.json()[\"created_at\"])\n",
    "print(r.json()[\"site_admin\"])\n",
    "print(r.json()[\"public_repos\"])"
   ]
  },
  {
   "cell_type": "markdown",
   "metadata": {},
   "source": [
    "## How to list installed modules and install new modules in Python\n",
    "\n",
    "Often you would like to use the functionality of a 3rd-party module, but the module is not installed (this may not be the case for the above libraries as we use a jupyter image with preinstalled packages).\n",
    "\n",
    "In most Python environments, a package manager is used to administer the installed modules. \n",
    "\n",
    "In most cases, this is either <a href=\"https://docs.python.org/3/installing/index.html\">pip</a> or if you use the Anaconda environment, it will be <a href=\"\">conda</a> and pip.\n",
    "\n",
    "`pip` (Package Installer for Python) downloads and installs packages and their dependencies from the Python Package Index (PyPI). Everyone can contribute their packages to PyPI and make them available for others.\n",
    "\n",
    "`conda` is an open source package management system and environment management system that runs on Windows, macOS, Linux and z/OS. It is not limited to Python and installs pre-build packages. \n",
    "\n",
    "**In order to check which modules are installed (in your current virtual environment), you can use the command:**\n",
    "\n",
    "`pip list` or `conda list`\n",
    "\n",
    "on the command-line prompt in a console or in a cell:"
   ]
  },
  {
   "cell_type": "code",
   "execution_count": null,
   "metadata": {},
   "outputs": [],
   "source": [
    "%%bash\n",
    "conda list"
   ]
  },
  {
   "cell_type": "code",
   "execution_count": null,
   "metadata": {},
   "outputs": [],
   "source": [
    "%%bash\n",
    "conda list | grep tensorflow"
   ]
  },
  {
   "cell_type": "markdown",
   "metadata": {},
   "source": [
    "These are the packages that are installed in the default environment. In our case they are part of the jupyter image that we loaded. \n",
    "\n",
    "However, when do you do if you need a package in different versions for different project, or do not want a very specific package that you need only for your very specific project and then never again to appear in the default environment?\n",
    "\n",
    "A `conda` environment can have different packages and package versions installed. In order to not create a mess using conflicting versions of Python modules or imagine your code only works with specific versions of Python modules, you can create and use different Python environments.\n",
    "\n",
    "**You can list the currently existing environments using**"
   ]
  },
  {
   "cell_type": "code",
   "execution_count": null,
   "metadata": {},
   "outputs": [],
   "source": [
    "%%bash\n",
    "conda env list"
   ]
  },
  {
   "cell_type": "markdown",
   "metadata": {},
   "source": [
    "<font size=\"3\"><b>You can create a new (empty) environment using</b></font>"
   ]
  },
  {
   "cell_type": "code",
   "execution_count": null,
   "metadata": {},
   "outputs": [],
   "source": [
    "%%bash\n",
    "conda create --name pyprog"
   ]
  },
  {
   "cell_type": "markdown",
   "metadata": {},
   "source": [
    "<font size=\"3\"><b>You can switch to a specific environment using</b></font>"
   ]
  },
  {
   "cell_type": "code",
   "execution_count": null,
   "metadata": {},
   "outputs": [],
   "source": [
    "%%bash\n",
    "conda activate new_env"
   ]
  },
  {
   "cell_type": "markdown",
   "metadata": {},
   "source": [
    "<font size=\"3\"><b>And check on the actual activated environment using</b></font>"
   ]
  },
  {
   "cell_type": "code",
   "execution_count": null,
   "metadata": {},
   "outputs": [],
   "source": [
    "%%bash\n",
    "conda info"
   ]
  },
  {
   "cell_type": "code",
   "execution_count": null,
   "metadata": {},
   "outputs": [],
   "source": [
    "%%bash\n",
    "conda deactivate"
   ]
  },
  {
   "cell_type": "markdown",
   "metadata": {},
   "source": [
    "<br><br><br>\n",
    "## Numpy \n",
    "\n",
    "Often, you have a file e.g. a CSV file with comma-separated values and you need to convert the content yourself to a table-like datastructure. In this example, we have the famous <a href=\"https://en.wikipedia.org/wiki/Iris_flower_data_set\">Iris dataset</a> (in this case a very popular standard data set in data science). Let's have a look at the first 10 lines of the file:"
   ]
  },
  {
   "cell_type": "code",
   "execution_count": null,
   "metadata": {},
   "outputs": [],
   "source": [
    "%%bash\n",
    "head -n 10 data/iris.csv"
   ]
  },
  {
   "cell_type": "markdown",
   "metadata": {},
   "source": [
    "Of course, we could now manually readin the file line by line, but then we would need to process the strings and convert them to a table-like data structure. <b>Luckily, there are already functions in the 3rd party libraries <a href=\"https://numpy.org/\"><i>numpy</i></a> and <a href=\"https://pandas.pydata.org/\"><i>pandas</i></a> that solve this problem.\n",
    "    \n",
    "Recently, a <a href=\"https://www.nature.com/articles/s41586-020-2649-2\">paper</a> about the numpy Python package was published in *nature*.\n",
    "\n",
    "<img src=\"img/numpy_nature.webp\" width=\"100%\">\n",
    "\n",
    "*Source: <a href=\"https://www.nature.com/articles/s41586-020-2649-2\">https://www.nature.com/articles/s41586-020-2649-2*\n",
    "    \n",
    "**Numpy** is a powerful 3rd party package offering the new data type of the <b><i>numpy array</i></b> (numpy.ndarray) with a more powerful and faster implementation in C++ in the background. **Numpy** is essential for scientific programming. In contrast to lists in Python, <b>the size of a numpy array cannot be changed without creating a new array and the best practice is to allocate space in advance by initializing an empty array (e.g. filled with zeros)</b>. Also, the data type of its elements shouldn't differ and the number of elements in each row or column has to be the same, since <b>the numpy array represents a N x M matrix.<br><br>\n",
    "<b>To sum it up, a numpy array behaves like a \"classic\" array in other high-level programming languages due to it's precompiled C++ implementation in the background.</b><br><br>\n",
    "<font size=\"3\">In order to use Numpy, you have to import the package once. Since you will in the following often have to refer to numpy, we assign an alias that is faster to type (np) since programmers are lazy:</font>\n",
    "</font>"
   ]
  },
  {
   "cell_type": "code",
   "execution_count": null,
   "metadata": {},
   "outputs": [],
   "source": [
    "# import num<py with alias np\n",
    "import numpy as np"
   ]
  },
  {
   "cell_type": "markdown",
   "metadata": {},
   "source": [
    "### NumPy Array\n",
    "\n",
    "<br>\n",
    "<font size=\"3\">A NumPy Array can have many dimensions. Let's start with one (similar to a Python list) and two dimensions (similar to a matrix):</font>"
   ]
  },
  {
   "cell_type": "code",
   "execution_count": null,
   "metadata": {},
   "outputs": [],
   "source": [
    "# create a numpy array from a list\n",
    "arr1 = np.array([1.0,2.35,3.141])\n",
    "print(\"type(arr1) =\", type(arr1))\n",
    "print(\"arr1 =\", arr1)\n",
    "print(\"arr1.dtype =\", arr1.dtype)"
   ]
  },
  {
   "cell_type": "code",
   "execution_count": null,
   "metadata": {},
   "outputs": [],
   "source": [
    "# create an 2D array / a 3x3 matrix filled with zeros\n",
    "arr2 = np.zeros((3,3))\n",
    "print(\"type(arr2) =\", type(arr2))\n",
    "print(\"arr2 = \\n\", arr2)\n",
    "print(\"arr2.dtype =\", arr2.dtype)"
   ]
  },
  {
   "cell_type": "code",
   "execution_count": null,
   "metadata": {},
   "outputs": [],
   "source": [
    "# create a numpy array filled with a specific value\n",
    "arr3 = np.full((3,2), 2)\n",
    "print(\"arr3 = \\n\", arr3)\n",
    "print(\"arr3.dtype =\", arr3.dtype)"
   ]
  },
  {
   "cell_type": "markdown",
   "metadata": {},
   "source": [
    "Question: In the above cell, why is the dtype suddenly integer?"
   ]
  },
  {
   "cell_type": "code",
   "execution_count": null,
   "metadata": {},
   "outputs": [],
   "source": [
    "# index an array element in a multi-dimensional array\n",
    "arr2[0,0] = 1\n",
    "arr2[1,1] = 2\n",
    "arr2[2,2] = 3\n",
    "print(\"type(arr2) =\", type(arr2))\n",
    "print(\"arr2 = \\n\", arr2)\n",
    "print(\"arr2.dtype =\", arr2.dtype)"
   ]
  },
  {
   "cell_type": "markdown",
   "metadata": {},
   "source": [
    "Sliced indexing follows the same rules as for regular python lists:"
   ]
  },
  {
   "cell_type": "code",
   "execution_count": null,
   "metadata": {},
   "outputs": [],
   "source": [
    "#take all elements after the first from the first axis and all elements except the last from the second axis\n",
    "#returns a \"view\" into the original array without copying anything\n",
    "sliced_arr2 = arr2[1:, :-1] \n",
    "print(\"sliced arr2 = \\n\", sliced_arr2)"
   ]
  },
  {
   "cell_type": "code",
   "execution_count": null,
   "metadata": {},
   "outputs": [],
   "source": [
    "# using the attribute \"size\" of the numpy array is more reliable than using the len() function\n",
    "# the attribute \"shape\" contains a tuple with the array or matrix dimensions\n",
    "print(\"arr2.size =\", arr2.size)\n",
    "# convention for the shape tuple: (number of rows, number of columns) in case of a 2D array\n",
    "print(\"arr2.shape =\", arr2.shape)"
   ]
  },
  {
   "cell_type": "markdown",
   "metadata": {},
   "source": [
    "Sometimes you want or need to change the shape of your numpy array using the `reshape` method:"
   ]
  },
  {
   "cell_type": "code",
   "execution_count": null,
   "metadata": {},
   "outputs": [],
   "source": [
    "# defines a numpy array with row number unequal column number\n",
    "arr3 = np.array([[2,3],[3,5],[6,4]])\n",
    "print(\"content of arr3:\")\n",
    "print(arr3)\n",
    "\n",
    "# prints the shape (number of rows, number of columns)\n",
    "print(\"shape of arr3:\")\n",
    "print(arr3.shape)\n",
    "\n",
    "# the same result could be achieved using the reshape method expecting a tuple \n",
    "# (total number of elements needs to be the same!)\n",
    "arr4 = arr3.reshape(2,3)\n",
    "\n",
    "print(\"reshaped array:\\n\", arr4)\n",
    "print(\"shape of the reshaped array:\", arr4.shape)"
   ]
  },
  {
   "cell_type": "markdown",
   "metadata": {},
   "source": [
    "There is also the `transpose` method. Beware that it does *not* the same as `reshape`:"
   ]
  },
  {
   "cell_type": "code",
   "execution_count": null,
   "metadata": {},
   "outputs": [],
   "source": [
    "# transposes the array / matrix\n",
    "arr5 = arr3.T\n",
    "print(\"transposed array (rows and columns interchanged):\")\n",
    "print(arr5)\n",
    "\n",
    "# prints the shape of the transposed array\n",
    "print(\"shape of the transposed array:\", arr5.shape)"
   ]
  },
  {
   "cell_type": "markdown",
   "metadata": {},
   "source": [
    "<font size=\"3\"><b>Often you would like to perform computations over an entire row or column of your array (hence your dataset), like:\n",
    "    </b></font>"
   ]
  },
  {
   "cell_type": "code",
   "execution_count": null,
   "metadata": {},
   "outputs": [],
   "source": [
    "# generates a 2D matrix of random floating-point numbers\n",
    "# np.random.normal generates normally distributed random numbers and expects (mean, standard deviation, size=(a,b))\n",
    "arr = np.random.normal(0,2,size=(6,8))\n",
    "print(\"random number array:\")\n",
    "print(arr)\n",
    "\n",
    "# sums all values in each column\n",
    "col_sum = np.sum(arr, axis=0)\n",
    "#print(\"row_sum = \"+str(row_sum))\n",
    "\n",
    "# sums all values in each row\n",
    "row_sum = np.sum(arr, axis=1)\n",
    "#print(\"col_sum = \"+str(col_sum))\n",
    "\n",
    "# multiplies all values in each column\n",
    "col_prod = np.prod(arr, axis=0)\n",
    "#print(\"row_prod = \"+str(row_prod))\n",
    "\n",
    "# multiplies all values in each row\n",
    "row_prod = np.prod(arr, axis=1)\n",
    "#print(\"col_prod = \"+str(col_prod))\n",
    "\n",
    "# calculate mean\n",
    "total_mean = np.mean(arr)\n",
    "print(\"Overall mean:\"+str(total_mean))\n",
    "# calculate standard deviation\n",
    "total_std = np.std(arr)\n",
    "print(\"Overall standard deviation:\"+str(total_std))\n",
    "\n",
    "# calculate mean over all elements in a column (iterates over first array dimension)\n",
    "col_mean = np.mean(arr, axis=0)\n",
    "print(col_mean)\n",
    "\n",
    "# calculate mean over all elements in a row (iterates over second array dimension)\n",
    "col_mean = np.mean(arr, axis=1)\n",
    "print(col_mean)"
   ]
  },
  {
   "cell_type": "markdown",
   "metadata": {},
   "source": [
    "<font size=\"3\"><b>Of course, you can also do elementwise manipulations and matrix multiplications (that was one of the original purposes of numpy):</b></font>"
   ]
  },
  {
   "cell_type": "code",
   "execution_count": null,
   "metadata": {},
   "outputs": [],
   "source": [
    "arr = np.array([1,2,3,4])\n",
    "print(\"arr:\")\n",
    "print(arr)\n",
    "\n",
    "# e.g multiply each element with value\n",
    "print(\"result of arr * 3.141:\")\n",
    "print(arr * 3.141)\n",
    "\n",
    "# compute the products of two arrays element-wise\n",
    "arr2 = np.array([5,6,0,1])\n",
    "print(\"arr2:\")\n",
    "print(arr2)\n",
    "result = arr * arr2\n",
    "print(\"result of arr * arr2:\")\n",
    "print(result)\n",
    "\n",
    "# compute the dot or scalar product of two vectors\n",
    "result = np.dot(arr, arr2)\n",
    "print(\"result of arr (dot) arr2:\")\n",
    "print(result)\n",
    "\n",
    "# more general, compute the product of two matrices\n",
    "arr = np.array([[1,2],[5,6],[4,2]])\n",
    "arr2 = np.array([[5,6,7],[2,3,2]])\n",
    "print(\"arr:\")\n",
    "print(arr)\n",
    "print(\"arr2:\")\n",
    "print(arr2)\n",
    "result = np.matmul(arr, arr2)\n",
    "print(\"result of matmul(arr,arr2):\")\n",
    "print(result)"
   ]
  },
  {
   "cell_type": "markdown",
   "metadata": {},
   "source": [
    "<font size=\"3\"><b>Now back to our CSV file, we can read-in the file using <a href=\"https://numpy.org/doc/stable/reference/generated/numpy.genfromtxt.html\">numpy.genfromtxt</a></b></font>"
   ]
  },
  {
   "cell_type": "code",
   "execution_count": null,
   "metadata": {},
   "outputs": [],
   "source": [
    "# print the documentation string of the function\n",
    "print(np.genfromtxt.__doc__)"
   ]
  },
  {
   "cell_type": "code",
   "execution_count": null,
   "metadata": {},
   "outputs": [],
   "source": [
    "# load data file and convert it to (named) numpy array\n",
    "iris_data = np.genfromtxt(\"data/iris.csv\", names=True, delimiter=\",\")\n",
    "# output just the first 20 rows\n",
    "print(\"type(iris_data) = \"+str(type(iris_data)))\n",
    "print(\"iris_data[:20] = \"+str(iris_data[:20]))\n",
    "#print the guess data types for the columns of the table\n",
    "print(\"iris_data.dtype = \\n\"+str(iris_data.dtype))"
   ]
  },
  {
   "cell_type": "markdown",
   "metadata": {},
   "source": [
    "<font size=\"3\"><b>Obviously, the numpy function couldn't properly guess the data type of the last column (just returning a <i>NaN</i> (not an number). But we can correct that:</b></font>"
   ]
  },
  {
   "cell_type": "code",
   "execution_count": null,
   "metadata": {},
   "outputs": [],
   "source": [
    "# load data file again with defined data types and column names and \n",
    "# convert it to (named) numpy array\n",
    "iris_data = np.genfromtxt(\"data/iris.csv\", names=True,\\\n",
    "                          dtype=[('sepal_length', np.float32), ('sepal_width', np.float32),\\\n",
    "                                ('petal_length', np.float32), ('petal_width', np.float32),\\\n",
    "                                ('species', \"<U16\")], delimiter=\",\")\n",
    "print(\"iris_data[:20] = \"+str(iris_data[:20]))\n",
    "#print the guess data types for the columns of the table\n",
    "print(\"iris_data.dtype = \\n\"+str(iris_data.dtype))"
   ]
  },
  {
   "cell_type": "code",
   "execution_count": null,
   "metadata": {},
   "outputs": [],
   "source": [
    "# access column data with column name\n",
    "print(\"iris_data['sepal_length'] = \\n\"+str(iris_data['sepal_length'][:20]))"
   ]
  },
  {
   "cell_type": "code",
   "execution_count": null,
   "metadata": {},
   "outputs": [],
   "source": [
    "#work with the data\n",
    "#compute mean of column\n",
    "mean = np.mean(iris_data['sepal_length'])\n",
    "#compute standard deviation of column\n",
    "std = np.std(iris_data['sepal_length'], axis=0)\n",
    "print(\"Mean of column sepal_length:\" + str(mean))\n",
    "print(\"Std of column sepal_length:\" + str(std))\n",
    "\n",
    "# round to n significant digits with np.round\n",
    "print(\"Mean of column sepal_length:\" + str(np.round(mean,3)))\n",
    "\n",
    "# or just change the number output format"
   ]
  },
  {
   "cell_type": "markdown",
   "metadata": {},
   "source": [
    "We now want to explore how to solve a relatively simple task in multiple ways to get a feeling of the variety of tools python proposes to us and an intuition of what to decide for depending on the complexity of the task.\n",
    "\n",
    "<div class=\"alert alert-block alert-success\"><b>Exercise:</b> We want to count the number of examples we have for each species (e.g. setosa). Try to solve this task...\n",
    "       <ol type=\"1\">\n",
    "           <li>using only basic python syntax and a <b>dict</b>.\n",
    "           <li>using the class <a href=\"https://docs.python.org/3/library/collections.html#collections.defaultdict\">defaultdict</a> from the standard library <b>collections</b>.\n",
    "           <li>using the <b>==</b> operator and <b>np.sum</b>.\n",
    "           <li>using the function <a href=\"https://numpy.org/doc/stable/reference/generated/numpy.unique.html\">numpy.unique</a> using the argument <i>return_counts</i>. \n",
    "       </ol>\n",
    "</div>"
   ]
  },
  {
   "cell_type": "code",
   "execution_count": null,
   "metadata": {},
   "outputs": [],
   "source": [
    "# YOUR CODE HERE"
   ]
  },
  {
   "cell_type": "markdown",
   "metadata": {},
   "source": [
    "<br><br><br><br><br><br><br><br><br><br><br><br><br><br><br><br><br><br><br><br>\n",
    "### Example Solution:"
   ]
  },
  {
   "cell_type": "code",
   "execution_count": null,
   "metadata": {},
   "outputs": [],
   "source": [
    "species = iris_data[\"species\"]\n",
    "\n",
    "# 1\n",
    "counts = {}\n",
    "for s in species:\n",
    "    if s in counts:\n",
    "        counts[s] += 1\n",
    "    else:\n",
    "        counts[s] = 1\n",
    "print(\"1.\\n\", counts)\n",
    "\n",
    "#2\n",
    "from collections import defaultdict\n",
    "counts = defaultdict(int) # values will default to 0\n",
    "for s in species: \n",
    "    counts[s] += 1\n",
    "print(\"2.\\n\", counts)\n",
    "\n",
    "#3 \n",
    "#using dictionary comprehension\n",
    "counts = {s : np.sum(species == s) for s in species}\n",
    "print(\"3.\\n\", counts)\n",
    "\n",
    "#4 \n",
    "counts = np.unique(species, return_counts=True)\n",
    "print(\"4.\\n\", counts)"
   ]
  },
  {
   "cell_type": "markdown",
   "metadata": {},
   "source": [
    "Lets do short discussion:\n",
    "\n",
    "1. Which is the most natural and readable attempt in your opinion?\n",
    "2. Is there a *best* way of solving this task?\n",
    "3. Do you ever want to use approach 1 over the others?"
   ]
  },
  {
   "cell_type": "markdown",
   "metadata": {},
   "source": [
    "<font size=\"3\"><div class=\"alert alert-block alert-success\"><b>Exercise:</b> Write a function which loads a file (<b>in this case applied to <i>data/glass.csv<i></b>), print the shape of the resulting array, print the first N rows (adjustable via a function argument), compute and return the means and standard deviations for the data columns and print the results (adjustable via a parameter). The result of <b>numpy.genfromtxt is different in this case since glass.csv does not contain mixed data types. You don't need to specify the column data types in this case.</b><br><br>\n",
    "    <b>Hint:</b> <b>Use the numpy functions <a href=\"https://numpy.org/doc/stable/reference/generated/numpy.mean.html\">np.mean</a> and <a href=\"https://numpy.org/doc/stable/reference/generated/numpy.std.html\">np.std</a></b> to compute the mean and the standard deviaton. The parameter axis allows to specifiy for which dimension/axis you'd like to perform the computation. So you don't need to use a loop.<br><br>\n",
    "If you use the keyword argument <b>names = True</b> in numpy.genfromtxt, a named array will be returned where column data can be addressed via the column name defined in the first row of the file.\n",
    "</div>\n",
    "    \n",
    "<b>Try it yourself here:</b></font>"
   ]
  },
  {
   "cell_type": "code",
   "execution_count": null,
   "metadata": {},
   "outputs": [],
   "source": []
  },
  {
   "cell_type": "markdown",
   "metadata": {},
   "source": [
    "<br><br><br><br><br><br><br><br><br><br><br><br><br><br><br><br><br><br><br><br>\n",
    "### Example Solution:"
   ]
  },
  {
   "cell_type": "code",
   "execution_count": null,
   "metadata": {},
   "outputs": [],
   "source": [
    "import numpy as np  \n",
    "def process_file(file, n_rows = 10, print_result = True): \n",
    "    glass_data = np.genfromtxt(file, delimiter=\",\", skip_header=1) \n",
    "    print(glass_data[:n_rows,:]) \n",
    "    means = np.mean(glass_data, axis = 0) \n",
    "    stds = np.std(glass_data, axis = 0) \n",
    "    if print_result: \n",
    "        print(\"means:\"+str(means)) \n",
    "        print(\"stds:\"+str(stds)) \n",
    "    return means, stds\n",
    "means, stds=process_file(\"data/glass.csv\", n_rows = 10, print_result = True)"
   ]
  },
  {
   "cell_type": "markdown",
   "metadata": {},
   "source": [
    "<br><br><br>\n",
    "## Visualizing Data with Matplotlib\n",
    "<br>\n",
    "<font size=\"3\">\n",
    "    <b>One picture can say more than 1000 words:</b> Visualizing your data is probably the most important aspect in your daily work routine. <a href=\"https://matplotlib.org/\">Matplotlib</a> is the most common Python package for data visualization offering a multitude of different plot types and options to tailor the plots according to your needs. Even Latex can be used to obtain nice looking plot titles, axes labels and annotations.<br><br>\n",
    "    <a href=\"https://matplotlib.org/gallery/index.html\">See a plot gallery here</a> of all the possibilities and functions matplotlib offers out-of-the-box.\n",
    "</font>\n",
    "\n",
    "### Example 1:"
   ]
  },
  {
   "cell_type": "markdown",
   "metadata": {},
   "source": [
    "<font size=\"3\">First you need to import the pyplot function from matplotlib using</font>"
   ]
  },
  {
   "cell_type": "code",
   "execution_count": null,
   "metadata": {},
   "outputs": [],
   "source": [
    "import matplotlib.pyplot as plt"
   ]
  },
  {
   "cell_type": "markdown",
   "metadata": {},
   "source": [
    "<font size=\"3\">Then we plot a simple sine:</font>"
   ]
  },
  {
   "cell_type": "code",
   "execution_count": null,
   "metadata": {
    "scrolled": true
   },
   "outputs": [],
   "source": [
    "# array [0, .01, .02, ..., 2*3.14]\n",
    "# one option is np.arange\n",
    "#x = np.arange(start = 0, stop = 2 * np.pi, step = 0.01) \n",
    "# another option is np.linspace\n",
    "x = np.linspace(0, 2*np.pi, 100)\n",
    "# applies sine elementwise\n",
    "y = np.sin(x) \n",
    "# data for the 2nd graph\n",
    "y2 = np.cos(x)\n",
    "\n",
    "# figure size and resolution in dpi (dots per inch)\n",
    "width_px = 640\n",
    "height_px = 480\n",
    "dpi = 100\n",
    "# create a figure\n",
    "fig = plt.figure(figsize=(width_px/dpi, height_px/dpi), dpi=dpi)\n",
    "# create a new plot\n",
    "ax = fig.add_subplot(111)\n",
    "# create the plot\n",
    "ax.plot(x, y, label=\"graph 1\")\n",
    "ax.plot(x, y2, color=\"red\", label=\"graph 2\")\n",
    "# adds a grid\n",
    "ax.grid(which=\"both\", color=\"gray\", linestyle=\":\")\n",
    "# semicolon suppresses output of last line in cell\n",
    "ax.set_title(\"Sine Wave\"); \n",
    "ax.set_xlabel(\"x\");\n",
    "ax.set_ylabel(\"y\");\n",
    "# adds a legend for the graphs in the plot\n",
    "ax.legend(loc=\"upper right\")"
   ]
  },
  {
   "cell_type": "code",
   "execution_count": null,
   "metadata": {},
   "outputs": [],
   "source": [
    "# array [0, .01, .02, ..., 2*3.14]\n",
    "# one option is np.arange\n",
    "#x = np.arange(start = 0, stop = 2 * np.pi, step = 0.01) \n",
    "# another option is np.linspace\n",
    "x = np.linspace(0, 2*np.pi, 20)\n",
    "# applies sine elementwise\n",
    "y = np.sin(x) \n",
    "# data for the 2nd graph\n",
    "y2 = np.cos(x)\n",
    "\n",
    "# figure size and resolution in dpi (dots per inch)\n",
    "width_px = 640\n",
    "height_px = 480\n",
    "dpi = 100\n",
    "# create a figure\n",
    "fig = plt.figure(figsize=(width_px/dpi, height_px/dpi), dpi=dpi)\n",
    "# create a new plot\n",
    "ax = fig.add_subplot(111)\n",
    "# create the plot\n",
    "ax.scatter(x, y, label=\"graph 1\")\n",
    "ax.scatter(x, y2, color=\"red\", label=\"graph 2\")\n",
    "# adds a grid\n",
    "ax.grid(which=\"both\", color=\"gray\", linestyle=\":\")\n",
    "# semicolon suppresses output of last line in cell\n",
    "ax.set_title(\"Sine Wave\"); \n",
    "ax.set_xlabel(\"x\");\n",
    "ax.set_ylabel(\"y\");\n",
    "# adds a legend for the graphs in the plot\n",
    "ax.legend(loc=\"upper right\")"
   ]
  },
  {
   "cell_type": "code",
   "execution_count": null,
   "metadata": {},
   "outputs": [],
   "source": [
    "# generates an array with normal distributed random values\n",
    "N = int(1E4)\n",
    "x = np.random.normal(0, 1, (N,))\n",
    "# applies sine elementwise\n",
    "y = np.random.normal(0, 1, (N,))\n",
    "\n",
    "# figure size and resolution in dpi (dots per inch)\n",
    "width_px = 640\n",
    "height_px = 480\n",
    "dpi = 100\n",
    "# create a figure\n",
    "fig = plt.figure(figsize=(width_px/dpi, height_px/dpi), dpi=dpi)\n",
    "# create a new plot\n",
    "ax = fig.add_subplot(111)\n",
    "# create the plot\n",
    "ax.scatter(x, y, label=\"graph 1\", s=1, color=\"black\", marker=\".\")\n",
    "# adds a grid\n",
    "ax.grid(which=\"both\", color=\"gray\", linestyle=\":\")\n",
    "# semicolon suppresses output of last line in cell\n",
    "ax.set_title(\"Random values\"); \n",
    "ax.set_xlabel(\"x\");\n",
    "ax.set_ylabel(\"y\");\n",
    "# adds a legend for the graphs in the plot\n",
    "ax.legend(loc=\"upper right\")"
   ]
  },
  {
   "cell_type": "markdown",
   "metadata": {},
   "source": [
    "### Example 2:"
   ]
  },
  {
   "cell_type": "code",
   "execution_count": null,
   "metadata": {},
   "outputs": [],
   "source": [
    "Img = np.random.randint(low=0, high=255, size=(100, 100, 3), dtype='B') # B: unsigned byte (0..255)\n",
    "#print(Img) # Img is a three-dim array\n",
    "plt.imshow(Img, interpolation=\"none\"); # third dimension interpreted as red, green, blue\n",
    "# image coordinates are numbered as in matrices, first rows (top to bottom) then columns (left to right)"
   ]
  },
  {
   "cell_type": "markdown",
   "metadata": {},
   "source": [
    "### More complex Example 3:\n",
    "\n",
    "<br>\n",
    "<font size=\"3\">\n",
    "A more complex example demonstrating almost all capabilities to customize your plot:\n",
    "</font>"
   ]
  },
  {
   "cell_type": "code",
   "execution_count": null,
   "metadata": {},
   "outputs": [],
   "source": [
    "# a very simple example to begin with\n",
    "import numpy as np\n",
    "from matplotlib import pyplot as plt\n",
    "\n",
    "# generate the data to plot\n",
    "omega = 1\n",
    "# yields a numpy array of N equidistant points on the given interval\n",
    "x = np.linspace(-2*np.pi, 2*np.pi, 100)\n",
    "y = np.sin(x)\n",
    "\n",
    "# here you can set the size and resolution of the plot\n",
    "#resolution in dpi = dots per inch\n",
    "# for the screen 75 to 120 dpi isfine\n",
    "# for a publication you'd need to use a higher resolution of 150 or 300 dpi\n",
    "dpi = 150\n",
    "# height in inch\n",
    "height = 3 \n",
    "# width in inch\n",
    "width = 4\n",
    "\n",
    "# initalize the new figure\n",
    "fig = plt.figure(figsize=(width, height), dpi=dpi)\n",
    "\n",
    "# Here you could specify multiple plots aside or in a matrix configurationn\n",
    "# we just want one plot in the figure, \n",
    "# thats why we set 111 = number of rows, number of columns, total num of plots\n",
    "ax = fig.add_subplot(111)\n",
    "\n",
    "# create the plot itself (a line plot connecting the points)\n",
    "# plot the sine\n",
    "ax.plot(x, y, color = \"r\", linestyle = \"--\", linewidth = 2, label = \"sine\")\n",
    "# plot a constant line at zero\n",
    "ax.plot(x, np.zeros(x.shape), color = \"black\", linestyle = \"-\", linewidth = 2, label = \"line\")\n",
    "# plot a graph\n",
    "ax.plot(x, x, color = \"blue\", linestyle = \":\", linewidth = 1, label = \"graph\")\n",
    "\n",
    "# use a grid in the background\n",
    "ax.grid(which=\"both\", color=\"gray\", linestyle=\"-.\", linewidth=0.5)\n",
    "\n",
    "# set the plot title using Latex\n",
    "# the semicolon at the end of the line is to suppress the output of the function\n",
    "# (one of the rare cases where you'd end a line of Python code with a semicolon)\n",
    "ax.set_title(\"A first plot of \" + r'$y = \\sin\\left(2 \\pi \\omega t\\right)$');\n",
    "\n",
    "# set the axes labels\n",
    "ax.set_xlabel(\"x\");\n",
    "ax.set_ylabel(r'$\\sum_{i=1}^{N} \\frac{1}{i} \\psi$');\n",
    "\n",
    "# normal string definition in Python uses \"string\"\n",
    "# in order to use Latex in title or axes label, use r'string'\n",
    "# Why is that?\n",
    "# If double quotation marks are used, the string is \"processed\" and the so-called escape sequences (e.g. \\n for a linebreak are replaced)\n",
    "# If single quotation marks like r'string' are used, the string is stored as it is.\n",
    "\n",
    "# use the plot legend\n",
    "# only works if keyword argument 'label' was given to the method plot\n",
    "ax.legend()\n",
    "\n",
    "# save the plot in a file\n",
    "# the file ending determines the format\n",
    "# valied formats are e.g. jpg, png for raster graphics (will become pixelated if you zoom in and the resolution is too small)\n",
    "# you can also export the plot as vector graphics with ending .eps (will be rendered at every zoom level)\n",
    "fig.savefig(\"plot.png\")"
   ]
  },
  {
   "cell_type": "markdown",
   "metadata": {},
   "source": [
    "### More complex Example 2:\n",
    "\n",
    "<br>\n",
    "<font size=\"3\">A histogram plot as more complex example for a plot:</font>"
   ]
  },
  {
   "cell_type": "code",
   "execution_count": null,
   "metadata": {},
   "outputs": [],
   "source": [
    "# a very simple example to begin with\n",
    "import numpy as np\n",
    "from matplotlib import pyplot as plt\n",
    "\n",
    "# generate data to work with\n",
    "num_values = 1E6\n",
    "x = np.random.normal(0,1,int(num_values))\n",
    "\n",
    "# here you can set the size and resolution of the plot\n",
    "#resolution in dpi = dots per inch\n",
    "# for the screen 75 to 120 dpi isfine\n",
    "# for a publication you'd need to use a higher resolution of 150 or 300 dpi\n",
    "dpi = 150\n",
    "# height in inch\n",
    "height = 3 \n",
    "# width in inch\n",
    "width = 4\n",
    "\n",
    "# initalize the new figure\n",
    "fig = plt.figure(figsize=(width, height), dpi=dpi)\n",
    "\n",
    "# Here you could specify multiple plots aside or in a matrix configurationn\n",
    "# we just want one plot in the figure, \n",
    "# thats why we set 111 = number of rows, number of columns, total num of plots\n",
    "ax = fig.add_subplot(111)\n",
    "\n",
    "# plots a histogram, use parameter density to normalize the vertical axis\n",
    "h=ax.hist(x, bins=100, color=\"black\", density=True)\n",
    "ax.set_ylabel(\"count\");\n",
    "ax.set_xlabel(\"x\");\n",
    "ax.set_title(\"A simple histogram\")\n",
    "ax.grid(which=\"both\",color=\"gray\",linewidth=0.5,linestyle=\"--\")"
   ]
  },
  {
   "cell_type": "markdown",
   "metadata": {},
   "source": [
    "<font size=\"3\">For further options to customize plots, have also a look at the predefined <a href=\"https://matplotlib.org/3.1.0/gallery/color/named_colors.html\">color</a> and <a href=\"https://matplotlib.org/3.3.1/api/_as_gen/matplotlib.lines.Line2D.html#matplotlib.lines.Line2D.lineStyles\">linestyle</a> or <a href=\"https://matplotlib.org/3.3.1/api/_as_gen/matplotlib.lines.Line2D.html#matplotlib.lines.Line2D.lineStyles\">here</a> keywords on the matplotlib website.</b>\n",
    "</font>"
   ]
  },
  {
   "cell_type": "markdown",
   "metadata": {},
   "source": [
    "<font size=\"3\">\n",
    "<div class=\"alert alert-warning\"><b>Exercise 5:</b> Create a plot for the function f(x) = 3x + 2 in the interval [-2, 3] in <b>black</b>. Also plot a horizontal, <b>red</b>, <b>dashed</b> line in the same graph at y = 1.\n",
    "<br><br>\n",
    "<b>Hint:</b> Use np.arange or <a href=\"https://numpy.org/doc/stable/reference/generated/numpy.linspace.html\">np.linspace</a> to create an array with x values. Use the style keywords color and linestyle to change the appearance of the graphs. Use <a href=\"https://numpy.org/doc/stable/reference/generated/numpy.full.html\">np.full</a> to create an array filled with a given value.\n",
    "</div>\n",
    "</font>"
   ]
  },
  {
   "cell_type": "markdown",
   "metadata": {},
   "source": [
    "### Try it yourself:"
   ]
  },
  {
   "cell_type": "code",
   "execution_count": null,
   "metadata": {},
   "outputs": [],
   "source": []
  },
  {
   "cell_type": "markdown",
   "metadata": {},
   "source": [
    "<br><br><br><br><br><br><br><br><br><br><br><br><br><br><br><br><br><br><br><br>\n",
    "### Example Solution:"
   ]
  },
  {
   "cell_type": "code",
   "execution_count": null,
   "metadata": {},
   "outputs": [],
   "source": [
    "from matplotlib import pyplot\n",
    "\n",
    "# creates an array with 100 values between -2 and 3 \n",
    "x = np.linspace(-2,3,100)\n",
    "y = 3 * x + 2\n",
    "# creates an array with 100 elements filled with 1\n",
    "y2 = np.full(100, 1)\n",
    "\n",
    "plt.plot(x,y,color=\"black\")\n",
    "plt.plot(x,y2,color=\"red\",linestyle=\"--\")"
   ]
  }
 ],
 "metadata": {
  "kernelspec": {
   "display_name": "Python 3",
   "language": "python",
   "name": "python3"
  },
  "language_info": {
   "codemirror_mode": {
    "name": "ipython",
    "version": 3
   },
   "file_extension": ".py",
   "mimetype": "text/x-python",
   "name": "python",
   "nbconvert_exporter": "python",
   "pygments_lexer": "ipython3",
   "version": "3.9.2"
  },
  "varInspector": {
   "cols": {
    "lenName": 16,
    "lenType": 16,
    "lenVar": 40
   },
   "kernels_config": {
    "python": {
     "delete_cmd_postfix": "",
     "delete_cmd_prefix": "del ",
     "library": "var_list.py",
     "varRefreshCmd": "print(var_dic_list())"
    },
    "r": {
     "delete_cmd_postfix": ") ",
     "delete_cmd_prefix": "rm(",
     "library": "var_list.r",
     "varRefreshCmd": "cat(var_dic_list()) "
    }
   },
   "types_to_exclude": [
    "module",
    "function",
    "builtin_function_or_method",
    "instance",
    "_Feature"
   ],
   "window_display": false
  }
 },
 "nbformat": 4,
 "nbformat_minor": 4
}
