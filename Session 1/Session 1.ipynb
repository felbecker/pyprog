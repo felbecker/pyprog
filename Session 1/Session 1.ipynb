{
 "cells": [
  {
   "cell_type": "markdown",
   "metadata": {},
   "source": [
    "# Introduction to Python for People with Programming Experience\n",
    "\n",
    "\n",
    "## Session 1 / 4 - 26.09.2022 9:00 - 13:00\n",
    "*by Fabian Wilde, Katharina Hoff, Matthis Ebel, Mario Stanke & Felix Becker*\n",
    "\n",
    "Contact: felix.becker@uni-greifswald.de\n",
    "\n",
    "<center>\n",
    "    <a href=><img src=\"img/meme_python_xkcd353.png\" width=\"40%\"></a>\n",
    "</center>\n",
    "<font size=\"2\"><i>Source: <a href=\"https://xkcd.com/353/\">https://xkcd.com/353/</a></i></font>\n",
    "\n",
    "Python became one of the most popular and versatile programming languages in various scientific disciplines for data analysis and visualization. \"Python is not just for simple tasks. Rather, it makes tasks simple by its ease of use and flexibility.\" [Learning Python] It is also one of the most demanded programming languages outside academia in particular for machine learning applications and business data analytics. Therefore it will be an invaluable skill once you've mastered this and other more advanced courses in Python.\n",
    "\n",
    "#### Python is not translated to machine language before execution.\n",
    "\n",
    "- In contrast to other popular programming languages like e.g. C++ or Java, the code is not precompiled which means the code is not translated from a human-readable version of the program to a so-called executable binary file (containing the binary machine language (assembler) version of the program) before it is executed. \n",
    "\n",
    "#### Python is an interpreted language.\n",
    "\n",
    "- In simple words, the program is translated on-the-fly line by line while it is executed. Interpreted languages have a slight performance drawback, but this is negligible in most applications. In particular Python had a bad reputation regarding its execution speed in its infancy. But nowadays, its speed is even comparable to C(++) which is achieved by integrated precompiled libraries like <a href=\"https://numpy.org/\">numpy</a>, <a href=\"https://pandas.pydata.org/\">pandas</a> or <a href=\"http://numba.pydata.org/\">numba</a>.\n",
    "\n",
    "#### Python is platform-independent. \n",
    "\n",
    "- Python is available for various platform like Windows, Linux, but also Mac OS X and Android, even within a web browser as you can see here. As mentioned above, some libraries could be precompiled for a specific target platform. Therefore, it depends in the end on the 3rd party dependencies of your code whether it'll run flawlessly under all operating systems.\n",
    "\n",
    "#### Python is comparabily easy to learn if you already know e.g C(++) or Java.\n",
    "\n",
    "- In contrast to other programming languages, Python offers dynamic typing and a built-in memory management (garbage collection), hence C-like pointers don't exist in Python.\n",
    "\n",
    "#### Coming from a different background e.g. R is also fine, but you will have different kind of problems than the Java/C++ people \n",
    "\n",
    "- For instance, indexing in Python starts at 0 whereas in R it starts at 1 \n",
    "\n",
    "#### Why do people use Python?\n",
    "\n",
    "- Readable, almost minimalist syntax\n",
    "- Many other people use it and can understand your code\n",
    "- Productivity \n",
    "- Extensive built-in and external libraries from a broad range of fields \n",
    "- Simply the enjoyment of writing code \n",
    "\n",
    "#### Who uses Python today?\n",
    "\n",
    "<center>\n",
    "    <a href=><img src=\"img/python_who_uses_it.png\" width=\"30%\"></a>\n",
    "</center>\n",
    "<i>(Source: Learning Python: Powerful Object-Oriented Programming, O'Reilly)</i>\n",
    "\n",
    "<br><br>\n",
    "\n",
    "**In this course Python 3 is used.** \n",
    "\n",
    "Python 3.x is a cleaner and a more sophisticated improvement over 2.x. There is no real reason except backwards compatiblity to use (**or even learn**) Python 2 today.\n",
    "\n",
    "### Objective of this course\n",
    "\n",
    "This course aims to introduce you into the interpreted programming language Python and enable you to use it on an intermediate level for your projects including the object-orienting programming style. The learning curve of this course is steeper and the programming exercises are a bit more complex compared to the absolute beginner's course since some programming experience in another language is recommended."
   ]
  },
  {
   "cell_type": "markdown",
   "metadata": {},
   "source": [
    "## JupyterHub\n",
    "\n",
    "\n",
    "JupyterHub is a Jupyter environment running on a remote server of the university (which we're using right now).\n",
    "**It is accessible from within the university network or remotely from home via the VPN access.** \n",
    "\n",
    "Therefore, a local installation is not necessary, if you're a student or employee of the university.\n",
    "\n",
    "<div class=\"alert alert-warning\" role=\"alert\">\n",
    "    <b>If you're connected to eduroam, you can directly access the JupyterHub via</b>\n",
    "    <a href=\"https://jupyterhub.wolke.uni-greifswald.de/hub/login\">https://jupyterhub.wolke.uni-greifswald.de/hub/login</a> using your personal login credentials from the university data center.\n",
    "</div>\n",
    "\n",
    "\n",
    "## Access the course materials\n",
    "    \n",
    "**Create a new notebook** and run the following commands in a new cell to **download the course materials**:"
   ]
  },
  {
   "cell_type": "code",
   "execution_count": null,
   "metadata": {
    "scrolled": true
   },
   "outputs": [],
   "source": [
    "%%bash\n",
    "git clone https://github.com/felbecker/pyprog"
   ]
  },
  {
   "cell_type": "markdown",
   "metadata": {},
   "source": [
    "The line `%%bash` is a magic command from iPython to tell the interpreter that the following lines are to be interpreted as bash commands not as Python."
   ]
  },
  {
   "cell_type": "markdown",
   "metadata": {},
   "source": [
    "**Alternatively, you can open a terminal and run the following command to download (or clone) the course materials**:\n",
    "\n",
    "`git clone https://github.com/felbecker/pyprog`\n",
    "\n",
    "Changes to your jupyter home directory are persistent when restarting the server.\n",
    "\n",
    "You should now have a copy of the materials that you can modify to your liking. **The materials for days 2-4 may change after day 1.** At the start of each following day use the following commands to pull the latest changes.\n",
    "\n",
    "`cd pyprog`\n",
    "`git pull`\n",
    "\n",
    "If you try it right now, it says that everything is up to date. **Please only modify files in the directory of the respective day, not from following days.** For example today, only modify the contents of the directory \"Session 1\". This is to avoid merge conflicts when updating the repository later."
   ]
  },
  {
   "cell_type": "markdown",
   "metadata": {},
   "source": [
    "## Local Installation of the Jupyter Environment\n",
    "\n",
    "In case you prefer to use Jupyter Hub, you can skip the setup section. If you'd like to write and test your code independently from the university infrastructure **or in case you're an external participant without eduroam or VPN access**, then install the Jupyter environment locally on your machine, following the instructions below.\n",
    "\n",
    "### Linux\n",
    "\n",
    "The easiest way is to download and install the Anaconda distribution here: \\\n",
    "https://repo.anaconda.com/archive/Anaconda3-2021.05-Linux-x86_64.sh\n",
    "\n",
    "### Mac OS X\n",
    "\n",
    "The easiest way is to download and install the Anaconda distribution here: \\\n",
    "https://repo.anaconda.com/archive/Anaconda3-2021.05-MacOSX-x86_64.pkg\n",
    "\n",
    "### Windows\n",
    "\n",
    "The easiest way is to download and install the Anaconda distribution here: \\\n",
    "https://repo.anaconda.com/archive/Anaconda3-2021.05-Windows-x86_64.exe\n",
    "    \n",
    "The Anaconda distribution also contains the popular Python IDE <a href=\"https://www.spyder-ide.org/\">Spyder</a>."
   ]
  },
  {
   "cell_type": "markdown",
   "metadata": {},
   "source": [
    "### Popular Python Editors (with GUI) and IDEs\n",
    "\n",
    "- <a href=\"https://www.spyder-ide.org/\">Spyder</a>: Spyder is the most common Python editor and evolved lately to a decent IDE for Python. It is part of the Anaconda environment.\n",
    "\n",
    "- <a href=\"https://www.jetbrains.com/de-de/pycharm/\">PyCharm</a>: another popular IDE including a debugger for Python and free of charge for the community edition.\n",
    "\n",
    "- <a href=\"https://code.visualstudio.com/\">Visual Studio Code</a>: an open-source editor and IDE for various programming languages, including Python via Plugins.\n",
    "\n",
    "- <a href=\"https://marketplace.eclipse.org/content/pydev-python-ide-eclipse\">PyDev for Eclipse</a>: Eclipse is the most popular IDE for Java and other programming languages, but offers Python support via PyDev.\n",
    "\n",
    "- <a href=\"https://realpython.com/vim-and-python-a-match-made-in-heaven/\">Vim</a>: Vi offers via Plugins a very puristic, text-based IDE for Python with integrated github support."
   ]
  },
  {
   "cell_type": "markdown",
   "metadata": {},
   "source": [
    "*From now on it is assumed that you have a working copy of the course data for yourself and can play around in the notebook.*"
   ]
  },
  {
   "cell_type": "markdown",
   "metadata": {},
   "source": [
    "    \n",
    "### Usage modes for Python\n",
    "\n",
    "In contrast to C(++) or Java (except during an interactive debugging session), Python offers an interactive and a non-interactive usage mode.\n",
    "In this course, **we will use both modes, but first the interactive usage mode.** This course uses the popular **Jupyter environment** and **Jupyter Notebooks** offering an interactive environment where we can enter commands and immediately see the results.\n",
    "\n",
    "Click for example in the empty code cell below and enter `1 + 1`, `\"Hello world!\"` or `print(\"Hello world!\")` (or any other simple arithmetic expression) and **press Ctrl + Enter** to execute the content of the currently selected cell (The currenty selected cell has a blue left border which switches to green when being edited.)"
   ]
  },
  {
   "cell_type": "code",
   "execution_count": null,
   "metadata": {},
   "outputs": [],
   "source": []
  },
  {
   "cell_type": "markdown",
   "metadata": {
    "tags": []
   },
   "source": [
    "**You should see the result or the output of the commands in the cell below.**\n",
    "\n",
    "### Useful Keyboard Shortcuts in a JupyterNotebook\n",
    "    \n",
    "| Shortcut | Function |\n",
    "| -------- | ----------- |\n",
    "| Esc      | Switch to command mode |\n",
    "| Enter    | Switch to edit mode |\n",
    "| B        | Creates new empty cell **B**elow |\n",
    "| X        | Deletes currently selected cell|\n",
    "| Shift + Enter | Run cell and advance to next cell |\n",
    "| Ctrl  + Enter | Run cell |\n",
    "| Ctrl  + S     | Save notebook |"
   ]
  },
  {
   "cell_type": "markdown",
   "metadata": {},
   "source": [
    "<font size=\"3\"><div class=\"alert alert-block alert-success\"><b>Exercise:</b> Create a code and a markdown cell by selecting the cell type from the drop down menu in the top line. Type something and execute both cells. Try to switch between command and edit mode in one of the cells.</div>"
   ]
  },
  {
   "cell_type": "markdown",
   "metadata": {},
   "source": [
    "## Basic Syntax and Dynamic Variable Typing / Casting\n",
    "\n",
    "<center>\n",
    "<img src=\"img/semicolon2.png\" width=\"40%\">\n",
    "<br>\n",
    "<font size=\"2\"><i>Source:</i> <a href=\"https://www.reddit.com/r/ProgrammerHumor/\">https://www.reddit.com/r/ProgrammerHumor/</a>\n",
    "    </font>\n",
    "</center>\n",
    "\n",
    "\n",
    "Python is very different from the classic compiled programming languages like C(++) and Java. In the very first example, the prominent \"Hello World\", you may have already noticed the **lack of semicolons as terminating statement character**. Apart from that, **variables and their types don't need to be declared in advance, but their name, content and type** can be declared at runtime.\n",
    "    \n",
    "    \n",
    "    \n",
    "The following table summarizes the some important differences and similarities between Python and other programming languages:\n",
    "    \n",
    "    \n",
    "| Feature| Python | C++ or Java |\n",
    "| -------| ------- | ----------- |\n",
    "| Typing | dynamic | static |\n",
    "| Statement termination | None (or colon) | Semicolon |\n",
    "| Codeblock definition | Indentation | Brackets { } |\n",
    "| Memory management | automatic garbage collection | not automatic |\n",
    "| Pointers | don't exist | exist |\n",
    "| Classes | native support | native support |\n",
    "| Constants | don't exist | exist |\n",
    "\n",
    "\n",
    "As first example, we define various variables (at runtime) which illustrates <b>the dynamic typing in Python</b> and that <b>a data type does not need to be defined, but the interpreter then guesses the correct data type for the given variable</b>:"
   ]
  },
  {
   "cell_type": "markdown",
   "metadata": {},
   "source": [
    "**First of all**: The internal python state is persistent. You can access variables delacred in one cell from other cells."
   ]
  },
  {
   "cell_type": "code",
   "execution_count": null,
   "metadata": {},
   "outputs": [],
   "source": [
    "a = 5 # Definition of an integer variable"
   ]
  },
  {
   "cell_type": "code",
   "execution_count": null,
   "metadata": {},
   "outputs": [],
   "source": [
    "#access a in the next cell\n",
    "a"
   ]
  },
  {
   "cell_type": "code",
   "execution_count": null,
   "metadata": {},
   "outputs": [],
   "source": [
    "# A single-line comment begins with a number sign character '#'\n",
    "\n",
    "var1  = False              # Definition of a boolean variable\n",
    "var2  = 4                  # Definition of an integer variable\n",
    "var3  = 123.456            # Definition of floating point number variable\n",
    "var4  = 9.1e-31            # Python supports the scientific notation for floats\n",
    "\n",
    "# Definition of a string with double quotes -> special escape sequences / string literals are replaced\n",
    "# which are characters which are non-visible e.g. \\n (ASCII linefeed) causes a line break in the output\n",
    "var5  = \"Hello world! \\n\""
   ]
  },
  {
   "cell_type": "code",
   "execution_count": null,
   "metadata": {},
   "outputs": [],
   "source": [
    "# call the print function with var5 as argument\n",
    "print(var5)"
   ]
  },
  {
   "cell_type": "code",
   "execution_count": null,
   "metadata": {},
   "outputs": [],
   "source": [
    "# Definition of a string with single quotes and preceding r \n",
    "# -> string without handling of escape sequences is used\n",
    "var10 = r'Hello world! \\n'\n",
    "print(var10)"
   ]
  },
  {
   "cell_type": "code",
   "execution_count": null,
   "metadata": {},
   "outputs": [],
   "source": [
    "var6 = var7 = 3.14159      # Multiple Assignments in one line\n",
    "var8, var9 = \"Python\", 4   # Multiple Assignments in one line"
   ]
  },
  {
   "cell_type": "markdown",
   "metadata": {},
   "source": [
    "Running a code cell automatically outputs the last line. In this case the values assigned to all variables are printed."
   ]
  },
  {
   "cell_type": "code",
   "execution_count": null,
   "metadata": {},
   "outputs": [],
   "source": [
    "var1, var2, var3, var4, var5, var6, var7, var8, var9"
   ]
  },
  {
   "cell_type": "markdown",
   "metadata": {},
   "source": [
    "<font size=\"3\"><b>Let's have a look at the data types of the variables, we have just defined / declared:</b></font>"
   ]
  },
  {
   "cell_type": "code",
   "execution_count": null,
   "metadata": {},
   "outputs": [],
   "source": [
    "print(\"var1:\")\n",
    "print(type(var1))    # Outputs data type or class of the variable var1\n",
    "print(var1)          # Outputs content of the variable var1"
   ]
  },
  {
   "cell_type": "markdown",
   "metadata": {},
   "source": [
    "<font size=\"3\"><div class=\"alert alert-block alert-success\"><b>Exercise:</b> Take a moment and try it for yourself for some of the other variables `var2, var3, ..., var9` we have just defined. You may also define your own variable and check its content and type.</div>"
   ]
  },
  {
   "cell_type": "code",
   "execution_count": null,
   "metadata": {},
   "outputs": [],
   "source": []
  },
  {
   "cell_type": "markdown",
   "metadata": {},
   "source": [
    "**Here, we already called functions:**\n",
    "\n",
    "We can see the **content** and the **type** of the variables defined above with the functions `print()` and `type()`.\n",
    "\n",
    "A function call is performed with `function_name(argument(s))`. The **type** of a Python variable is retrieved with the `type()`function. The **content** of a Python variable is printed with the `print()` function.\n",
    "\n",
    "\n",
    "You may have noticed, that the data type says of class 'bool', class 'int' etc. Variables of basic data types in Python are instances (objects) of built-in classes in Python."
   ]
  },
  {
   "cell_type": "markdown",
   "metadata": {},
   "source": [
    "<div class=\"alert alert-info\"><font size = \"4\"><b>Background:</b></font><br>\n",
    "<center>\n",
    "<img src=\"img/python_meme_objs.png\" width=\"25%\">\n",
    "</center>\n",
    "</div>"
   ]
  },
  {
   "cell_type": "markdown",
   "metadata": {},
   "source": [
    "In Python, all entities are objects, hence independent instances of an abstract class. Classes and functions are also objects that may be passed around. Even the type of an object is an object of class \"type\":"
   ]
  },
  {
   "cell_type": "code",
   "execution_count": null,
   "metadata": {},
   "outputs": [],
   "source": [
    "i = 5\n",
    "print(type(type(i)))"
   ]
  },
  {
   "cell_type": "markdown",
   "metadata": {},
   "source": [
    "Every object can have functions bound to the object, called *methods*. The methods of an object can be invoked using the dot-operator. We will see examples of built-in classes that have member function (e.g. strings) later and also write our own classes."
   ]
  },
  {
   "cell_type": "markdown",
   "metadata": {},
   "source": [
    "## Data Type Conversions and mixed-type Arithmetic\n",
    "   \n",
    "<br>\n",
    "<font size=\"3\">\n",
    "<b>As we can see, Python automatically assigned adequate data types to the variables based on the assigned values.</b> Since the interpreter guess is sometimes wrong, it is also possible to explicitly use or convert to a specific data type, if possible:\n",
    "</font>"
   ]
  },
  {
   "cell_type": "code",
   "execution_count": null,
   "metadata": {},
   "outputs": [],
   "source": [
    "print(\"var 1:\")\n",
    "print(type(var1))    # Outputs data type or class of the variable var1\n",
    "print(var1)          # Outputs the content of the variable var1"
   ]
  },
  {
   "cell_type": "code",
   "execution_count": null,
   "metadata": {},
   "outputs": [],
   "source": [
    "print(\"conversion of var 1 (bool) to int:\")\n",
    "var9 = int(var1)     # Converts var1 of type boolean to integer and stores result in variable var9\n",
    "                     # the function int() is the constructor of the class of the built-in integer data type\n",
    "print(type(var9))    # Outputs data type or class of the variable var9\n",
    "print(var9)          # Outputs the content of the variable var9\n",
    "print(\"\")"
   ]
  },
  {
   "cell_type": "code",
   "execution_count": null,
   "metadata": {},
   "outputs": [],
   "source": [
    "print(\"var 2:\")\n",
    "print(type(var2))    # Outputs data type or class of the variable var2\n",
    "print(var2)          # Outputs content of the variable var2"
   ]
  },
  {
   "cell_type": "code",
   "execution_count": null,
   "metadata": {},
   "outputs": [],
   "source": [
    "print(\"conversion of var 2 (int) to float:\")\n",
    "var10 = float(var2)  # Converts var2 of type integer to float and stores result in variable var10\n",
    "print(type(var10))   # Outputs data type or class of the variable var10\n",
    "print(var10)         # Outputs content of the variable var10"
   ]
  },
  {
   "cell_type": "code",
   "execution_count": null,
   "metadata": {},
   "outputs": [],
   "source": [
    "print(\"conversion of var 10 (float) to string:\")\n",
    "var11 = str(var10)   # Converts var10 of type float to string and stores result in variable var11\n",
    "print(type(var11))   # Outputs data type or class of the variable var11\n",
    "print(var11)         # Outputs content of the variable var11"
   ]
  },
  {
   "cell_type": "markdown",
   "metadata": {},
   "source": [
    "It is not a problem in Python to mix different data types in arithmetic operations, since integers are implicitly converted to float if at least one float number is involved in the computation:"
   ]
  },
  {
   "cell_type": "code",
   "execution_count": null,
   "metadata": {},
   "outputs": [],
   "source": [
    "print(\"type of var2:\")\n",
    "print(type(var2))\n",
    "print(\"type of var3:\")\n",
    "print(type(var3))\n",
    "\n",
    "print(\"type of result:\")\n",
    "result = var2 + var3   # Adds var2 of type integer to var3 of type float\n",
    "print(type(result))    # Outputs the data type or class of the variable result\n",
    "print(result)          # Outputs \n",
    "\n",
    "result2 = var2 + 5 #5 is an integer\n",
    "print(type(result2))    # Outputs the data type or class of the variable result\n",
    "print(result2)          # Outputs "
   ]
  },
  {
   "cell_type": "markdown",
   "metadata": {},
   "source": [
    "<font size=\"3\"><b>In some cases the implicit data type conversion fails</b> and a specific data type is required:</font>"
   ]
  },
  {
   "cell_type": "code",
   "execution_count": null,
   "metadata": {},
   "outputs": [],
   "source": [
    "result = var5 + var2   # Attempts to add var5 of type string to var2 of type integer"
   ]
  },
  {
   "cell_type": "markdown",
   "metadata": {},
   "source": [
    "<font size=\"3\">Converting var2 (of type integer) to a string solves the problem and the strings are simply concatenated using the addition operator \"+\":</font>"
   ]
  },
  {
   "cell_type": "code",
   "execution_count": null,
   "metadata": {},
   "outputs": [],
   "source": [
    "result = var5 + str(var2) # Concatenates the string var5 with the string representation of var2\n",
    "print(type(result))       # Outputs data type or class of the variable result\n",
    "print(result)             # Outputs content of the variable result"
   ]
  },
  {
   "cell_type": "markdown",
   "metadata": {},
   "source": [
    "<font size=\"3\"><div class=\"alert alert-block alert-success\"><b>Exercise:</b> Does it also work the other way around (convert var5 to an integer)? Try it and interpret potential error messages.</div>"
   ]
  },
  {
   "cell_type": "code",
   "execution_count": null,
   "metadata": {},
   "outputs": [],
   "source": []
  },
  {
   "cell_type": "markdown",
   "metadata": {},
   "source": [
    "<font size=\"3\">\n",
    "An example for string to number conversion:\n",
    "</font>"
   ]
  },
  {
   "cell_type": "code",
   "execution_count": null,
   "metadata": {},
   "outputs": [],
   "source": [
    "var11 = \"123.123\"\n",
    "print(type(var11))\n",
    "var11 = float(var11)\n",
    "print(type(var11))\n",
    "var11 + var11"
   ]
  },
  {
   "cell_type": "markdown",
   "metadata": {},
   "source": [
    "<div class=\"alert alert-info\"><font size=\"3\"><b>Takeaways:<br>\n",
    "    <ul><li>Single-line or in-line comments in Python begin with the number sign character \"#\".</li>\n",
    "        <li>No semicolons are required to end a statement.</li>\n",
    "        <li>No data type needs to be explicitly declared to define a variable, but the interpreter then guesses the appropriate data type.</li>\n",
    "        <li>Everything is an object of a class in Python.</li>\n",
    "        <li>All variables are (references) to objects in Python. Also the basic data types are instances of built-in classes.</li>\n",
    "        <li>Variables can be converted to another data type by calling their constructors e.g. bool(), float(), int() or str().</li>\n",
    "    </ul>\n",
    "    </b></font></div>"
   ]
  },
  {
   "cell_type": "markdown",
   "metadata": {},
   "source": [
    "# Python's built-in Datatypes\n",
    "\n",
    "Besides the universal data types Boolean, Integer, Float and String which can be found in most programming languages, Python offers a variety of Python specific data types (or data type classes). \n",
    "Among those **Tuples**, **Lists** and **Dictionaries** are the most frequent ones used in Python. These are also called **datastructures** because they - while being object themself - have to purpose or storing and organizing other objects. Datastructures can also be nested (hence stored in other datastructures).\n",
    "\n",
    "## Tuples\n",
    "\n",
    "A tuple in Python represents an **immutable list** (with fixed length) of objects or elements of variable data types e.g. Bool, Integer, Float, String or an arbitrary object of an user-defined class. Tuples are also **ordered**, hence two tuples containing the same elements, but in different order, are not considered equal.\n",
    "    \n",
    "**A tuple is initialized using round brackets.**\n",
    "    \n",
    "### Example:"
   ]
  },
  {
   "cell_type": "code",
   "execution_count": null,
   "metadata": {},
   "outputs": [],
   "source": [
    "# a Python tuple is initialized with ROUND brackets\n",
    "t1 = (1,2,3)\n",
    "print(\"t1 is of \" + str(type(t1)))  # Outputs the variable data type or object class\n",
    "print(\"t1 contains \" + str(t1))     # Outputs the content of the variable"
   ]
  },
  {
   "cell_type": "code",
   "execution_count": null,
   "metadata": {},
   "outputs": [],
   "source": [
    "# or using the so-called constructor, a special function creating an object instance (instanciation) of a class\n",
    "t2 = tuple((4,5,6))\n",
    "print(\"t2 is of\" + str(type(t2)))  # Outputs the variable data type or object class\n",
    "print(\"t2 contains \" + str(t2))    # Outputs the content of the variable"
   ]
  },
  {
   "cell_type": "code",
   "execution_count": null,
   "metadata": {},
   "outputs": [],
   "source": [
    "t3 = t1                            # Assign t1 to t3\n",
    "t4 = (3,1,2)                      # defines new tuple t4\n",
    "\n",
    "result = t3 == t1                  # Compare the tuples t1 and t3 store result in variable \"result\"\n",
    "print(\"Is t3 == t1 ?\")\n",
    "print(result)                      # Output the result of the comparison\n",
    "\n",
    "result2 = t4 == t1                  # Compare the tuples t1 and t4 store result in variable \"result\"\n",
    "print(\"Is t4 == t1 ?\")\n",
    "print(result2)                      # Output the result of the comparison"
   ]
  },
  {
   "cell_type": "markdown",
   "metadata": {},
   "source": [
    "**Side note**: the `print` function can also take multiple arguments (i.e. a tuple). We will use this fact in the following to keep our code shorter and more readable.\n",
    "\n",
    "A very useful function is `len()` giving the length of a tuple, list or string."
   ]
  },
  {
   "cell_type": "code",
   "execution_count": null,
   "metadata": {},
   "outputs": [],
   "source": [
    "t3 = (\"foo\",\"bar\",5)  # Defines a tuple t3\n",
    "print(\"Length of t3:\", len(t3)) #Prints all arguments separated by single whitespaces. Implicitely converts to strings\n",
    "\n",
    "t4 = ()\n",
    "print(\"Length of t4:\", len(t4)) \n",
    "\n",
    "s1 = \"Hello world!\"\n",
    "print(\"Length of s1:\", len(s1)) "
   ]
  },
  {
   "cell_type": "markdown",
   "metadata": {},
   "source": [
    "## Addressing Tuple Elements\n",
    "<br>\n",
    "<font size=\"3\">\n",
    "    The individual <b>elements</b> in a Python Tuple <b>are adressed with an integer index starting from zero.</b> A negative integer can be used to address the tuple elements in reversed order where an index of -1 yields the last element in the tuple. The figure illustrates the element indexing:\n",
    "</font>\n",
    "<br>\n",
    "<br>\n",
    "<div align=\"center\">\n",
    "<img src=\"img/python_list_tuple_negindex.png\" width=\"66%\">\n",
    "</div>\n",
    "<br>\n",
    "<br>\n",
    "<font size=\"2\"><i>Source: <a href=\"https://www.pybloggers.com/2018/07/lists-and-tuples-in-python/\">https://www.pybloggers.com/2018/07/lists-and-tuples-in-python/</a></i></font>\n",
    "<br><br>\n",
    "\n",
    "<font size=\"3\">\n",
    "    <b>Square brackets</b> around the integer index following the tuple's variable name are used <b>to select a specific element of the tuple</b>: \n",
    "</font>\n",
    "<br>\n",
    "\n",
    "### Example:"
   ]
  },
  {
   "cell_type": "code",
   "execution_count": null,
   "metadata": {},
   "outputs": [],
   "source": [
    "t3 = (7, \"orange\", 3.141, \"bread\", \"leite\", 42)    # Assigns tuple containing elements of various data types"
   ]
  },
  {
   "cell_type": "markdown",
   "metadata": {},
   "source": [
    "<font size=\"3\"><div class=\"alert alert-block alert-success\"><b>Exercise:</b>Try it for yourself by changing the value of `i` in the following cell. Try positive and negative values.</div>"
   ]
  },
  {
   "cell_type": "code",
   "execution_count": null,
   "metadata": {},
   "outputs": [],
   "source": [
    "i = 0 #a (possibly negative) integer\n",
    "value = t3[i] #accessing a tuple element with square brackets\n",
    "print(\"Element with index\", i, \"in t3:\", value) #a call to print with 4 arguments that are concatenated"
   ]
  },
  {
   "cell_type": "markdown",
   "metadata": {},
   "source": [
    "<font size=\"3\">\n",
    "You can simply query with the \"in\"-operator (which returns a boolean) if a certain element is at least contained once in the tuple:\n",
    "</font>"
   ]
  },
  {
   "cell_type": "code",
   "execution_count": null,
   "metadata": {},
   "outputs": [],
   "source": [
    "t3 = (7, \"orange\", 3.141, \"bread\", \"leite\", 42)    # Assigns tuple containing elements of various data types\n",
    "\n",
    "result = \"orange\" in t3   # in-operator checks if element is contained in tuple or list\n",
    "print(\"Is \\\"orange\\\" in t3?\")\n",
    "print(result)\n",
    "\n",
    "result2 = \"paprika\" in t3\n",
    "print(\"Is \\\"paprika\\\" in t3?\")\n",
    "print(result2)"
   ]
  },
  {
   "cell_type": "markdown",
   "metadata": {},
   "source": [
    "<font size=\"3\">If you attempt to access a tuple element with an invalid index e.g. <br>\n",
    "<ul>\n",
    "    <li><b>the index is bigger than len(tuple) - 1<b></li>\n",
    "        <li><b>the index is of the wrong data type</b></li>\n",
    "</ul>\n",
    "an error occurs:\n",
    "</font>"
   ]
  },
  {
   "cell_type": "code",
   "execution_count": null,
   "metadata": {},
   "outputs": [],
   "source": [
    "t3 = (7, \"orange\", 3.141, \"bread\", \"leite\", 42) \n",
    "\n",
    "print(\"Length of t3:\")\n",
    "print(len(t3))\n",
    "\n",
    "print(\"Element with index 6:\")\n",
    "print(t3[6])                       # Attempting to access tuple element with invalid index (index out of range)"
   ]
  },
  {
   "cell_type": "markdown",
   "metadata": {},
   "source": [
    "<font size=\"3\">\n",
    "When you attempt to modify an element of the tuple, an exception is thrown, since the tuple is <b>immutable</b>:\n",
    "</font>"
   ]
  },
  {
   "cell_type": "code",
   "execution_count": null,
   "metadata": {},
   "outputs": [],
   "source": [
    "t3 = (7, \"orange\", 3.141, \"bread\", \"leite\", 42) \n",
    "\n",
    "t3[1] = \"apple\""
   ]
  },
  {
   "cell_type": "markdown",
   "metadata": {},
   "source": [
    "## Addressing Subsets with Slices\n",
    "\n",
    "<br>\n",
    "<font size = \"3\">\n",
    "    <b>Subsets (called slices in Python)</b> of tuples can be selected using the <font size=\"4\"><b>slice notation</b></font> of Python:\n",
    "</font>\n",
    "<br><br>\n",
    "<center>\n",
    "<img src=\"img/python_slice.png\" width=\"75%\">\n",
    "</center>\n",
    "<br>\n",
    "<font size=\"2\">\n",
    "<i>Source: <a href=\"https://railsware.com/blog/python-for-machine-learning-indexing-and-slicing-for-lists-tuples-strings-and-other-sequential-types/\">https://railsware.com/blog/python-for-machine-learning-indexing-and-slicing-for-lists-tuples-strings-and-other-sequential-types/</a> </i>\n",
    "</font>\n",
    "<br>\n",
    "<font size=\"3\">\n",
    "Be var e.g. a Python tuple or list, then <br>\n",
    "<ul>\n",
    "<li><b>var[start:stop] yields the elements with indices >=start (including start) to < stop (excluding stop)<br></li>\n",
    "<li>var[start:stop:n] yields every n-th element with indices >=start (including start) to < stop (excluding stop)<br></li>\n",
    "<li>var[::-1] yields the elements in reversed order</b></li>\n",
    "</ul>\n",
    "</font>\n",
    "<br>\n",
    "\n",
    "### Example:"
   ]
  },
  {
   "cell_type": "code",
   "execution_count": null,
   "metadata": {},
   "outputs": [],
   "source": [
    "t4 = (3.141, \"apple\", \"milk\", 0, 1, 6.626E23)\n",
    "n = 2 #lets define some integer to play around with"
   ]
  },
  {
   "cell_type": "code",
   "execution_count": null,
   "metadata": {},
   "outputs": [],
   "source": [
    "t4[:n]   # yields the slice up to (but not including!) element with index n"
   ]
  },
  {
   "cell_type": "code",
   "execution_count": null,
   "metadata": {},
   "outputs": [],
   "source": [
    "t4[0:n]  # equivalent to the expression above"
   ]
  },
  {
   "cell_type": "code",
   "execution_count": null,
   "metadata": {},
   "outputs": [],
   "source": [
    "t4[-n:]  # yields the last n elements of the tuple (the first element of the slice has index -n)"
   ]
  },
  {
   "cell_type": "code",
   "execution_count": null,
   "metadata": {},
   "outputs": [],
   "source": [
    "t4[:-n]  # yields the tuple without the last n elements"
   ]
  },
  {
   "cell_type": "markdown",
   "metadata": {},
   "source": [
    "<font size=\"3\"><div class=\"alert alert-block alert-success\"><b>Exercise:</b>Express the equivalent of the previous cell (i.e. (3.141, 'apple', 'milk', 0) for $n=2$) but now in the form t4[:x] where x is **positive**. Make sure your result is still correct if one changes the value of $n$ (do **not** use hardcoded numbers).</div>"
   ]
  },
  {
   "cell_type": "code",
   "execution_count": null,
   "metadata": {},
   "outputs": [],
   "source": [
    "x = #YOUR CODE HERE\n",
    "assert x >= 0, \"x has to be positive, your value: \" + str(x) #assertions can be used to validate certain conditions at runtime\n",
    "t4[:x]"
   ]
  },
  {
   "cell_type": "markdown",
   "metadata": {},
   "source": [
    "More advanced indexing techniques:"
   ]
  },
  {
   "cell_type": "code",
   "execution_count": null,
   "metadata": {},
   "outputs": [],
   "source": [
    "t4[::-1] # yields every element of the tuple, but in reversed order"
   ]
  },
  {
   "cell_type": "code",
   "execution_count": null,
   "metadata": {},
   "outputs": [],
   "source": [
    "t4[::2]  # yields every 2nd element of the tuple in normal order"
   ]
  },
  {
   "cell_type": "markdown",
   "metadata": {},
   "source": [
    "## Lists\n",
    "\n",
    "A list in Python behaves similar to the tuple, but it is **mutable** and **dynamic**, hence its length and elements can be both changed. Like tuples, lists are also **ordered**, hence two lists containing the same elements, but in different order, are not considered equal.\n",
    "\n",
    "**Slicing** works the same way for lists as it does for tuples in Python.\n",
    "\n",
    "\n",
    "A list is initialized using square brackets.\n",
    "\n",
    "### Example:"
   ]
  },
  {
   "cell_type": "code",
   "execution_count": null,
   "metadata": {},
   "outputs": [],
   "source": [
    "cities = ['Greifswald', 'Berlin', 'Hamburg', 'Hannover']   # Definition of a list\n",
    "print(cities)                                              # Output the list\n",
    "cities2 = cities                                           # Assign cities to cities2\n",
    "cities3 = ['Hannover', 'Greifswald', 'Berlin', 'Hamburg']  # Define cities3 as permutation of cities\n",
    "\n",
    "result = cities == cities2                                 # Compare the lists cities and cities2\n",
    "print(\"Is cities == cities2?\")\n",
    "print(result)                                              # Output the result of the comparison\n",
    "\n",
    "result2 = cities == cities3                                # Compare the lists cities and cities3\n",
    "print(\"Is cities == cities3?\")\n",
    "print(result2)                                             # Output the result of the comparison"
   ]
  },
  {
   "cell_type": "markdown",
   "metadata": {},
   "source": [
    "For lists - as they are also sequences - the same slicing syntax as for tuples applies. But lists are **mutable**, so what happens with the original list if we modify a slice? **Slicing a list creates a new list**:"
   ]
  },
  {
   "cell_type": "code",
   "execution_count": null,
   "metadata": {},
   "outputs": [],
   "source": [
    "fruits = [\"apple\", \"banana\", \"cherry\"]\n",
    "fruits_slice = fruits[1:]\n",
    "fruits_slice[0] = \"peach\" #modify the slice by chaging the first element\n",
    "fruits, fruits_slice"
   ]
  },
  {
   "cell_type": "markdown",
   "metadata": {},
   "source": [
    "However, things work differently if lists are **nested**:"
   ]
  },
  {
   "cell_type": "code",
   "execution_count": null,
   "metadata": {},
   "outputs": [],
   "source": [
    "fruits = [\"apple\", [\"banana\"], \"cherry\"]\n",
    "fruits_slice = fruits[1:]\n",
    "fruits_slice[0][0] = \"peach\" #access the first elements of the slice (which is a list) and from that list also the first element\n",
    "fruits, fruits_slice"
   ]
  },
  {
   "cell_type": "markdown",
   "metadata": {},
   "source": [
    "The list content and its length can be easily modified using the assigment via index and the **list methods:** `pop()`, `append()` and `extend()`. \n",
    "\n",
    "- The list method `pop(n)` removes the n-th element from the list.\n",
    "- The list method `append(elem)` adds the element elem to the list.\n",
    "- The list method `extend(list)` extends the list with the content of another list.\n",
    "- The list method `index(elem)` yields the integer index of the element in the list, if present. **Otherwise the list method yields -1.**\n",
    "\n",
    "**A member method is a function bound to a specific class (type of object) and acts on the object itself.**\n",
    "\n",
    "**A method of the list or any object in Python in general is invoked via the \".\" / dot-operator.**\n",
    "\n",
    "### Examples:"
   ]
  },
  {
   "cell_type": "code",
   "execution_count": null,
   "metadata": {},
   "outputs": [],
   "source": [
    "# Definition of a list\n",
    "cities = ['Greifswald', 'Berlin', 'Hamburg', 'Hannover']   \n",
    "\n",
    "# Remove element with index 1 from list by invoking the pop() method\n",
    "cities.pop(1)                                              \n",
    "\n",
    "# Output modified list with one element removed\n",
    "print(cities)         "
   ]
  },
  {
   "cell_type": "markdown",
   "metadata": {},
   "source": [
    "In this case, the method `pop()` acted on the list \"cities\" itself.\n",
    "\n",
    "**What happened here?**\n",
    "    cities refers to a List object and we invoked its method pop which acts **in-place** on the object itself. The list after removing the element **is still the same object** at the same position in memory as before.\n",
    "    \n",
    "An element of the list can be easily modified via the assignment of a new element:"
   ]
  },
  {
   "cell_type": "code",
   "execution_count": null,
   "metadata": {},
   "outputs": [],
   "source": [
    "cities = ['Greifswald', 'Berlin', 'Hamburg', 'Hanover']    # Definition of a list\n",
    "cities[0] = \"Rostock\"                                       # Modification of an element\n",
    "print(cities)"
   ]
  },
  {
   "cell_type": "markdown",
   "metadata": {},
   "source": [
    "<font size=\"3\"><b>You can query the index of a list element, if it is present in the list:</b></font>"
   ]
  },
  {
   "cell_type": "code",
   "execution_count": null,
   "metadata": {},
   "outputs": [],
   "source": [
    "# query an element which is present in the list\n",
    "print(cities.index(\"Rostock\"))\n",
    "# attempt to query an element which is not present in the list\n",
    "# leads to a ValueError exception\n",
    "print(cities.index(\"Munich\"))"
   ]
  },
  {
   "cell_type": "markdown",
   "metadata": {},
   "source": [
    "Site note: You might think that the property of `index(x)` to quit the program with an error message, if $x$ is not in the list, makes in somehow useless if the user of the software can control $x$. Users might enter any value in a prompt we have no control over. Handling this case requires proper error handling with `try` and `except` which we will talk about later."
   ]
  },
  {
   "cell_type": "markdown",
   "metadata": {},
   "source": [
    "<font size=\"3\"><b>A list can be extended or concatenated:</b></font>"
   ]
  },
  {
   "cell_type": "code",
   "execution_count": null,
   "metadata": {},
   "outputs": [],
   "source": [
    "cities  = ['Greifswald', 'Berlin', 'Hamburg', 'Hanover']         # Definition of a list\n",
    "cities2 = ['Paris', \"New York\", \"Moscow\", \"Tokyo\", \"Sao Paolo\"]   # Definition of another list\n",
    "a_city = \"London\"\n",
    "\n",
    "# extends the list cities with the elements in list cities2\n",
    "cities.extend(cities2)\n",
    "\n",
    "print(\"Extended list:\", cities)\n",
    "\n",
    "# appends an element to the list cities\n",
    "cities.append(a_city)\n",
    "print(\"Appended list:\", cities)"
   ]
  },
  {
   "cell_type": "markdown",
   "metadata": {},
   "source": [
    "Avoid confusing `extend` and `append`. In *most* cases this is **not** what you want to do:"
   ]
  },
  {
   "cell_type": "code",
   "execution_count": null,
   "metadata": {},
   "outputs": [],
   "source": [
    "numbers = [5, 6, 20, 11]\n",
    "numbers2 = [7, 33, -2]\n",
    "numbers.append(numbers2)\n",
    "print(\"Nested numbers:\", numbers)"
   ]
  },
  {
   "cell_type": "markdown",
   "metadata": {},
   "source": [
    "<font size=\"3\"><div class=\"alert alert-block alert-success\">**Exercise:** Use the list member methods `extend`, `append` and `reverse` to create a nested datastructure with the lists and values in the next cell that looks like this:  \n",
    "    `[['apple', 'banana', 'cherry'], ['blue', 'orange', 'red']]`\n",
    "    <br><br>\n",
    "Use only the 3 methods, the 4 already defined variables and no string literals, i.e. <br>\n",
    "    `mylist = [['apple', 'banana', 'cherry'], ['blue', 'orange', 'red']]` <br>\n",
    "    is no valid solution!\n",
    "    <br><br>\n",
    "    Note that `reverse` reverses the list <i>in place</i> instead of creating a new list.\n",
    "</div>"
   ]
  },
  {
   "cell_type": "code",
   "execution_count": null,
   "metadata": {},
   "outputs": [],
   "source": [
    "fruits = [\"apple\", \"banana\"]\n",
    "fruits2 = [\"cherry\"]\n",
    "colors = [\"red\", \"orange\"]\n",
    "a_color = \"blue\"\n",
    "#YOUR CODE HERE"
   ]
  },
  {
   "cell_type": "markdown",
   "metadata": {},
   "source": [
    "<font size=\"3\"><div class=\"alert alert-block alert-success\">**Exercise:** Now create a new list which is a flattened version of the list you just created (for instance using `extend` again). It should look like this after this step: ['apple', 'banana', 'cherry', 'blue', 'orange', 'red']. Sort the flat list with the list member method `sort` which also operates in place like `reverse`. Look at the output. How does Python define comparisons (<, >) for strings?\n",
    "</div>"
   ]
  },
  {
   "cell_type": "code",
   "execution_count": null,
   "metadata": {},
   "outputs": [],
   "source": [
    "#YOUR CODE HERE"
   ]
  },
  {
   "cell_type": "markdown",
   "metadata": {},
   "source": [
    "<div class=\"alert alert-warning\"><font size = \"4\"><b>Warning:</b></font><font size=\"3\"> Note that assigning a variable to another variable does not (always) mean that an independent copy (of the object) is created, but it can be a mere reference to the original object!</div></font>\n",
    "<br>\n",
    "<font size=\"3\">\n",
    "    <b>This circumstance is illustrated with the following example using lists:</b>\n",
    "</font>"
   ]
  },
  {
   "cell_type": "code",
   "execution_count": null,
   "metadata": {},
   "outputs": [],
   "source": [
    "import copy                                                       # Imports the module copy: includes more functions\n",
    "\n",
    "cities  = ['Greifswald', 'Berlin', 'Hamburg', 'Hanover']         # Definition of a list\n",
    "cities2 = cities                                                  # cities2 falsely assumed to be a copy of cities\n",
    "\n",
    "# Real copy of cities assigned to cities4\n",
    "cities4 = copy.deepcopy(cities)                                   \n",
    "# alternatively, we can just create / instantiate a new list object to have an independent copy\n",
    "cities5 = list(cities)                                            \n",
    "\n",
    "cities3 = ['Paris', \"New York\", \"Moscow\", \"Tokyo\", \"Sao Paolo\"]   # Definition of another list\n",
    "cities.extend(cities3)                                            # Extend list cities with list cities3\n",
    "\n",
    "print(\"cities = \" + str(cities)+\"\\n\")\n",
    "\n",
    "print(\"Shallow copy of / reference to cities:\")\n",
    "print(\"cities2 = \" + str(cities2)+\"\\n\")\n",
    "\n",
    "print(\"Real (deep) copy:\")\n",
    "print(\"cities4 = \" + str(cities4))"
   ]
  },
  {
   "cell_type": "markdown",
   "metadata": {},
   "source": [
    "Although the list method `extend()` was invoked on `cities`, both, `cities` and `cities2` have the same content in the end.\n",
    "\n",
    "**That's because `cities2` is not a copy, but just a reference to the original object `cities`!**\n",
    "\n",
    "**So beware of this pitfall in your future Python programming career, as it can cause errors that are hard to spot.**\n",
    "\n",
    "You can check whether to variable refer to the same object (rather than 2 different objects with the same value) like so:"
   ]
  },
  {
   "cell_type": "code",
   "execution_count": null,
   "metadata": {},
   "outputs": [],
   "source": [
    "cities is cities2"
   ]
  },
  {
   "cell_type": "code",
   "execution_count": null,
   "metadata": {},
   "outputs": [],
   "source": [
    "cities6 = copy.deepcopy(cities) \n",
    "cities is cities6"
   ]
  },
  {
   "cell_type": "code",
   "execution_count": null,
   "metadata": {},
   "outputs": [],
   "source": [
    "# they are not the same object but have the same value \n",
    "cities == cities6"
   ]
  },
  {
   "cell_type": "markdown",
   "metadata": {},
   "source": [
    "<div class=\"alert alert-block alert-info\">\n",
    "    <font size=\"3\"><b>Takeaways:</b><br>\n",
    "<ul>\n",
    "    <li> <b>A list is initialized using square brackets [].</b></li>\n",
    "    <li><b>List elements are addressed with an integer index starting from zero.</b></li>\n",
    "    <li><b>List subsets are addressed using the slice notation [start:stop:step].</b></li>\n",
    "    <li><b>Elements are added to a list with the <i>append()</i> method, mutiple elements are added to the list with the <i>extend()</i> method.</b></li>\n",
    "    </ul>\n",
    "</font>\n",
    "</div>"
   ]
  },
  {
   "cell_type": "markdown",
   "metadata": {},
   "source": [
    "<br><br><br>\n",
    "## Dictionaries\n",
    "<br>\n",
    "<font size=\"3\">\n",
    "    A dictionary in Python is a so-called <b>associative array</b> or <b>key-value mapping</b>. In contrast to the list data type in Python, <b>the dictionary</b> can have either a numerical index or <b>a set of unique strings</b>, called <b><i>keys</i></b> here, <b>to address its elements</b>. <b>The C++ equivalent to a dictionary in Python would the std::map or std::unordered_map data type.</b> This circumstance is illustrated below:\n",
    "</font>\n",
    "<br><br>\n",
    "<center>\n",
    "<img src=\"img/python_dicts2.png\" width=\"50%\">\n",
    "</center>\n",
    "<font size=\"2\"><i>Source: <a href=\"https://www.faceprep.in/python/python-nested-dictionaries/\">https://www.faceprep.in/python/python-nested-dictionaries/</a></i></font>\n",
    "<br>\n",
    "<br>\n",
    "<font size=\"3\">Each element of the dictionary has its own, unique key. Like tuples or lists, <b>dictionaries are mutable and dynamic</b>, hence their elements and the size of the dictionary are changeable during runtime. Of course, dictionaries can be also arbitrarily nested.<br>\n",
    "</font>"
   ]
  },
  {
   "cell_type": "markdown",
   "metadata": {},
   "source": [
    "<div class=\"alert alert-block alert-info\">\n",
    "    <font size=\"3\"><b>Takeaways:</b><br>\n",
    "<ul>\n",
    "    <li> <b>A dictionary is initialized using braces {}, following the convention {key : value, key2 : value2, ...} or using the dict constructor dict(key = value, key2 = value2, ...).</b></li>\n",
    "    <li><b>Dictionary elements are addressed with unique keys (strings).</b></li>\n",
    "    <li><b>Multiple existing keys can be updated (effectively replaced) using the dict method <i>update()</i>.</b></li>\n",
    "    <li><b>Keys can be deleted using the dict method <i>pop()</i> or the builtin function <i>del</i>.</b></li>\n",
    "    <li><b>The dictionary can be deep copied using the dict method <i>copy()</i>.</b></li>\n",
    "    <li><b>The dict method <i>keys()</i> yields a list of the dictionary keys.</b></li>\n",
    "    </ul>\n",
    "</font>\n",
    "</div>"
   ]
  },
  {
   "cell_type": "markdown",
   "metadata": {},
   "source": [
    "### Example:"
   ]
  },
  {
   "cell_type": "code",
   "execution_count": null,
   "metadata": {},
   "outputs": [],
   "source": [
    "vegetables_list = [\"paprikas\", \"carrots\"]\n",
    "fruits_list     = [\"apples\", \"bananas\", \"cherries\"]\n",
    "diary_list      = [\"milk\", \"butter\", \"yoghurt\"]\n",
    "\n",
    "# Definition of the dictionary\n",
    "shopping_list = {'vegetables' : vegetables_list, 'fruits' : fruits_list, 'diary' : diary_list}"
   ]
  },
  {
   "cell_type": "code",
   "execution_count": null,
   "metadata": {},
   "outputs": [],
   "source": [
    "shopping_list"
   ]
  },
  {
   "cell_type": "code",
   "execution_count": null,
   "metadata": {},
   "outputs": [],
   "source": [
    "shopping_list[\"fruits\"]"
   ]
  },
  {
   "cell_type": "code",
   "execution_count": null,
   "metadata": {},
   "outputs": [],
   "source": [
    "# Adds a new item to the vegetable list\n",
    "shopping_list[\"vegetables\"].append(\"celery\")\n",
    "\n",
    "# Removes item\n",
    "shopping_list.pop(\"diary\")     #or alternatively to delete single element: del shopping_list[\"diary\"]\n",
    "\n",
    "# Updates entry for key \"fruits\"\n",
    "shopping_list.update({\"fruits\" : [\"maracuja\", \"papaya\"]}) #or alternatively: shopping_list[\"fruits\"] = [\"maracuja\", \"papaya\"]\n",
    "\n",
    "# Output changed dictionary\n",
    "print(\"Changed dict:\")\n",
    "print(shopping_list)"
   ]
  },
  {
   "cell_type": "code",
   "execution_count": null,
   "metadata": {},
   "outputs": [],
   "source": [
    "# Output dict keys\n",
    "print(\"Dictionary keys:\")\n",
    "# Note that the method keys() yields a dict_keys object, but can be treated as list\n",
    "print(type(shopping_list.keys()))   \n",
    "print(shopping_list.keys())\n",
    "print(list(shopping_list.keys()))"
   ]
  },
  {
   "cell_type": "code",
   "execution_count": null,
   "metadata": {},
   "outputs": [],
   "source": [
    "# Access the dicionary values\n",
    "shopping_list.values()"
   ]
  },
  {
   "cell_type": "markdown",
   "metadata": {},
   "source": [
    "<font size=\"3\"><div class=\"alert alert-block alert-success\"><b>Exercise:</b> <br> Define a data structure to store the information of the following table. \n",
    "</div>"
   ]
  },
  {
   "cell_type": "markdown",
   "metadata": {},
   "source": [
    "| Name | Surname | Age |\n",
    "| ---- | ------- | --- |\n",
    "| Rosalind | Franklin | 100 |\n",
    "| Jane | Doe     | 41  |\n",
    "| John | Doe     | 44  |\n",
    "| Albert | Einstein | 141 |\n",
    "| Marie | Curie | 153 |\n",
    "\n",
    "A user should be able to query information from our datastructure like:\n",
    "- what is the name of person 2 (zero based), i.e. 3rd row in the table?\n",
    "- what is the age of the last person?\n",
    " \n",
    "<b>Try it yourself using lists/tuples and dictionaries:</b></font>"
   ]
  },
  {
   "cell_type": "code",
   "execution_count": null,
   "metadata": {},
   "outputs": [],
   "source": []
  },
  {
   "cell_type": "markdown",
   "metadata": {},
   "source": [
    "<div class=\"alert alert-info\"><font size = \"3\"><b>Info:</b></font><font size=\"3\"> There are more elegant and efficient solutions to handle data in tables, e.g. named arrays in the package numpy or even better DataFrames in the popular package pandas.</div></font>\n"
   ]
  },
  {
   "cell_type": "markdown",
   "metadata": {},
   "source": [
    "### Advanced Solution (using pandas):"
   ]
  },
  {
   "cell_type": "code",
   "execution_count": null,
   "metadata": {},
   "outputs": [],
   "source": [
    "# import an external module (similar to the include statement in C(++))\n",
    "import pandas as pd \n",
    "# define a Python dictionary\n",
    "table_as_dict = {\"Name\" : [\"Rosalind\", \"Jane\", \"John\", \"Albert\", \"Marie\"], \n",
    "         \"Surname\" : [\"Franklin\", \"Doe\", \"Doe\", \"Einstein\", \"Curie\"],\n",
    "         \"Age\" : [100, 41, 44, 141, 153]}\n",
    "# pd.DataFrame is the constructor and takes a Python dictionary as argument\n",
    "table = pd.DataFrame(table_as_dict)\n",
    "table"
   ]
  },
  {
   "cell_type": "code",
   "execution_count": null,
   "metadata": {},
   "outputs": [],
   "source": [
    "table.Name[2]"
   ]
  },
  {
   "cell_type": "markdown",
   "metadata": {},
   "source": [
    "<br><br><br>\n",
    "# Control Flow and Conditional Execution\n",
    "<br>\n",
    "<font size=\"3\">\n",
    "In Python and almost every other programming language, the if...elif...else construction allows to implement a distinction of multiple, nested conditions at a time to steer the program flow.<br><br><b>A valid condition for an if...else-statement is a Python expression (e.g. a function call) which yields a boolean or truth value (True or False).</b><br><br> In contrast to other popular programming languages where braces {} are used to separate blocks of code (e.g. C(++)), <b>Python uses indentation with spaces (usually 4 per indentation level) or tabs to seperate code blocks</b> (spaces should be preferred, and you cannot mix spaces and tabs, otherwise the interpreter will throw an IndentationError exception).<br><br>\n",
    "    <b>The syntax for the conditionally executed code block is</b><br>"
   ]
  },
  {
   "cell_type": "markdown",
   "metadata": {},
   "source": [
    "```\n",
    "if condition:\n",
    "     ...\n",
    " elif condition2:\n",
    "     ...\n",
    " elif condition3:\n",
    "     ...\n",
    " else:\n",
    "     ...\n",
    "```"
   ]
  },
  {
   "cell_type": "markdown",
   "metadata": {},
   "source": [
    "<br>\n",
    "<br><b>Of course, we can also have nested conditionally executed code blocks with multiple indentation levels, like</b><br>"
   ]
  },
  {
   "cell_type": "markdown",
   "metadata": {},
   "source": [
    "```\n",
    "if a:\n",
    "     if b:\n",
    "         ...\n",
    "     else:\n",
    "         ...\n",
    " elif c:\n",
    "     ...\n",
    " elif d:\n",
    "     if e:\n",
    "         ...\n",
    "     elif f:\n",
    "         if g:\n",
    "             ...\n",
    "         else:\n",
    "             ...\n",
    "     else:\n",
    "         ...\n",
    " else:\n",
    "     ...\n",
    "```"
   ]
  },
  {
   "cell_type": "markdown",
   "metadata": {},
   "source": [
    "<br>A condition can serve any function or expression (e.g. a comparison) which yields a boolean (True / False) as result which can be combined with <b>logic operators (AND &, OR |, not ~)</b> and / or <b>comparisons (== equal, != unequal, > bigger, < less, >= bigger or equal, ...)</b><br><br>\n",
    "</font>"
   ]
  },
  {
   "cell_type": "markdown",
   "metadata": {},
   "source": [
    "### Examples for Conditional Execution (feel free to experiment):\n",
    "\n",
    "### Example 1:"
   ]
  },
  {
   "cell_type": "code",
   "execution_count": null,
   "metadata": {},
   "outputs": [],
   "source": [
    "x = 3.141\n",
    "# distinction of three cases with simple condition\n",
    "# IMPORTANT: code block of first matching condition is executed!\n",
    "if x == 3.141:\n",
    "    print(\"Thanks for all the fish.\")\n",
    "elif x >= 0:\n",
    "    print(\"x is positive and greater than zero!\")\n",
    "else:\n",
    "    print(\"x is negative!\")\n",
    "    \n",
    "# concatenation of multiple conditions is also possible\n",
    "# (x > 2) & (x <= 4) would be equivalent\n",
    "if (x > 2) and (x <= 4):\n",
    "    print(\"x is in the interval (2,3].\")\n",
    "\n",
    "# ~((x > 2) & (x <= 4)) would NOT be equivalent !\n",
    "if not ((x > 2) & (x <= 4)):\n",
    "    print(\"x is outside the interval (2,3].\")"
   ]
  },
  {
   "cell_type": "markdown",
   "metadata": {},
   "source": [
    "### Example 2:"
   ]
  },
  {
   "cell_type": "code",
   "execution_count": null,
   "metadata": {},
   "outputs": [],
   "source": [
    "to_buy = \"milk\"\n",
    "fridge_content = [\"milk\", \"salami\", \"butter\", \"marmalade\"]\n",
    "\n",
    "if not (to_buy in fridge_content):\n",
    "    print(\"You should buy \" + to_buy + \" !\")\n",
    "else:\n",
    "    print(\"You still have some \" + to_buy + \" !\")\n",
    "print(\"Best, your fridge\")"
   ]
  },
  {
   "cell_type": "markdown",
   "metadata": {},
   "source": [
    "<font size=\"3\"><div class=\"alert alert-block alert-success\"><b>Exercise:</b><br> Implement a simplified version of the dice game \"Kniffel\". Roll two dices. Output the results for the two dices. If the two random integers are equal, additionally notify the user that he got an \"n-er Pasch\" where n stands for the random integer. Otherwise, also inform the user.<br>\n",
    "    \n",
    "<b>Hint:</b><br> Add the command \"import numpy as np\". Then use the function np.random.randint(1,7) to draw a random integer in the range [1,6].<br> \n",
    "\n",
    "</div>\n",
    "    \n",
    "\n",
    " \n",
    "<b>Try it yourself:</b></font>"
   ]
  },
  {
   "cell_type": "code",
   "execution_count": null,
   "metadata": {},
   "outputs": [],
   "source": [
    "# imports a so-called module with name \"numpy\" with alias \"np\"\n",
    "import numpy as np\n",
    "# returns a random integer in the given range [1,7)\n",
    "np.random.randint(1,7)\n",
    "\n",
    "#YOUR CODE HERE"
   ]
  },
  {
   "cell_type": "markdown",
   "metadata": {},
   "source": [
    "<br><br><br>\n",
    "## Loops\n",
    "<br>\n",
    "<font size=\"3\">\n",
    "Python offers two options to run a code block in a loop:\n",
    "<br>\n",
    "<ul>\n",
    "    <li>The <b>for-loop repeats</b> the enclosed code block <b> (in most simple cases) for a defined number of times.</b><br><br>This type of loop is often (but not always) used when the data set is finite and its size known before its runtime. In general, the for-loop iterates through the already-existing elements of an <a href=\"https://www.pythonlikeyoumeanit.com/Module2_EssentialsOfPython/Iterables.html\"><i>Iterable</i></a> (finite) or <a href=\"https://www.pythonlikeyoumeanit.com/Module2_EssentialsOfPython/Generators_and_Comprehensions.html\"><i>Generator</i></a> (potentially infinite since a new element is generated on demand for each iteration) object. <br><b>An <i>Iterable</i> object can be e.g. a list, tuple or dictionary.</b><br><b>A popular <i>Generator</i> object is e.g. the range generator which will be presented here.</b></li><br>\n",
    "    <li>The <b>while-loop can repeat</b> the enclosed code block <b>indefinitely as long as the condition</b> in the header <b>is not fulfilled.</b> This type of loop is often used e.g. when the program needs to wait for some event indefinitely.</li>\n",
    "</ul>\n",
    "</font>"
   ]
  },
  {
   "cell_type": "markdown",
   "metadata": {},
   "source": [
    "### For-Loops\n",
    "<br>\n",
    "<font size=\"3\">\n",
    "The syntax of a for-loop in Python is as following:<br>\n",
    "\n",
    "<b>for <i>elem</i> in <i>Iterable</i>:</b><br>\n",
    "\n",
    "    indented code block\n",
    "    \n",
    "<br>\n",
    "A very popular <i>Iterable</i> or <i>Generator</i> object is the range generator which yields integers which can be used e.g. as index to run over the elements of an array. The range generator expects <i><b>range(start, stop [, step])</b></i> three arguments to define begin, end (and step size which is optional) for list of integers. The range generates integers from start to (stop - 1).<br>\n",
    "<br>\n",
    "<b>Python has reserved keywords to be used within for-loops: break, continue</b>\n",
    "<br>\n",
    "<ul>\n",
    "    <li>break can be used to end the for-loop prematurely</li>\n",
    "    <li>continue can be used to skip the remaining code block of the current iteration</li>\n",
    "</ul>\n",
    "</font>"
   ]
  },
  {
   "cell_type": "markdown",
   "metadata": {},
   "source": [
    "### Examples (feel free to experiment):"
   ]
  },
  {
   "cell_type": "code",
   "execution_count": null,
   "metadata": {},
   "outputs": [],
   "source": [
    "#a simple for-loop using the range generator\n",
    "print(\"For-loop 1:\")\n",
    "# old / C-style way of a loop with a running index\n",
    "for i in range(0,10):\n",
    "    print(\"i=\" + str(i))"
   ]
  },
  {
   "cell_type": "code",
   "execution_count": null,
   "metadata": {},
   "outputs": [],
   "source": [
    "#a simple for-loop with a different step size\n",
    "print(\"For-loop 2:\")\n",
    "# old / C-style way of a loop with a running index\n",
    "for i in range(0,10,2):\n",
    "    print(\"i=\" + str(i))"
   ]
  },
  {
   "cell_type": "code",
   "execution_count": null,
   "metadata": {},
   "outputs": [],
   "source": [
    "#nested for-loops (which should be avoided for performance reasons, if possible)\n",
    "print(\"For-loop 3:\")\n",
    "# old / C-style way of a loop with a running index\n",
    "for i in range(0,4):\n",
    "    for j in range(0,4):\n",
    "        print(\"(i,j)=\" + str((i,j)))"
   ]
  },
  {
   "cell_type": "code",
   "execution_count": null,
   "metadata": {},
   "outputs": [],
   "source": [
    "#a for-loop running over the elements of a list\n",
    "print(\"For-loop 4:\")\n",
    "fridge_content = ['milk', 'butter', 'strawberries', 'chicken']\n",
    "# more Pythonic way of a loop instead of using a running index\n",
    "for item in fridge_content:\n",
    "    print(\"We still have \" + item + \".\")\n",
    "print(\"Best, your fridge\")"
   ]
  },
  {
   "cell_type": "code",
   "execution_count": null,
   "metadata": {},
   "outputs": [],
   "source": [
    "#a for-loop running over a dictionary\n",
    "print(\"For-loop 5:\")\n",
    "fridge_content2 = {'vegetables' : ['paprika', 'fennel'], 'diary products' : ['milk', 'butter']}\n",
    "# more Pythonic way of a loop instead of using a running index\n",
    "for key in fridge_content2:\n",
    "    print(\"We still have \" + str(fridge_content2[key]) + \" which are \" + key + \".\")"
   ]
  },
  {
   "cell_type": "code",
   "execution_count": null,
   "metadata": {},
   "outputs": [],
   "source": [
    "for value,key in fridge_content2.items():\n",
    "    print(str(value)+ \" = \" + str(key))\n",
    "print(\"Best, your fridge\")"
   ]
  },
  {
   "cell_type": "markdown",
   "metadata": {},
   "source": [
    "<font size=\"3\"><div class=\"alert alert-block alert-success\"><b>Exercise:</b> Implement a for-loop running up to an arbitrary number which outputs the number of the running variable and outputs a message whether the number is odd or even.\n",
    "    \n",
    "<b>Hint:</b> Use the <a href=\"https://en.wikipedia.org/wiki/Modulo_operation\">modulo operator</a> \"%\" giving the remainder of a divison. In particular use x % 2. In this case 2 % 2 yields 0, 1 % 2 yields 1.<br> \n",
    "\n",
    "</div>\n",
    "    \n",
    "\n",
    " \n",
    "<b>Try it yourself:</b></font>"
   ]
  },
  {
   "cell_type": "code",
   "execution_count": null,
   "metadata": {},
   "outputs": [],
   "source": [
    "# YOUR CODE HERE"
   ]
  },
  {
   "cell_type": "markdown",
   "metadata": {},
   "source": [
    "<font size=\"3\"><div class=\"alert alert-block alert-success\"><b>Exercise:</b> Implement a program which finds the biggest number in a list and prints it. *Do **not** use build-in methods like `max` or `np.amax`.\n",
    "    <br>  <br>\n",
    "    Side note: In the following cell, a `numpy array` of random numbers is created. If you use `type()` you will see, that it is in fact no `list`. However, for now you can use it as it would be a list (i.e. elements are accessed the same way and you can iterate over it).\n",
    "</div>\n",
    "    \n",
    "    \n",
    "    <b>Hint</b>: Define a variable to store the maximum and update it when iterating over the array.\n",
    "<br><br>\n",
    " \n",
    "<b>Try it yourself:</b></font>"
   ]
  },
  {
   "cell_type": "code",
   "execution_count": null,
   "metadata": {
    "tags": []
   },
   "outputs": [],
   "source": [
    "# import module numpy\n",
    "import numpy as np\n",
    "# generate list of 10 random integers in the interval [0,100)\n",
    "rand_array = np.random.randint(0,100,10)\n",
    "print(\"The array:\", rand_array)\n",
    "#YOUR CODE HERE"
   ]
  },
  {
   "cell_type": "markdown",
   "metadata": {},
   "source": [
    "<br><br><br>\n",
    "### While-Loops\n",
    "<br>\n",
    "<font size=\"3\">\n",
    "While-loops can run indefinitely e.g. to wait for an event. An example for such an event loop would be to read the lines of file until a specific string is found.<br><br>\n",
    "The syntax for a while-loop in Python is as following:<br>\n",
    "    \n",
    "    <b>while <i>condition:</i></b><br>\n",
    "        indented code block\n",
    "<br><br>\n",
    "<b>Python has reserved a keyword to be used within while-loops: break</b>\n",
    "<br>\n",
    "<ul>\n",
    "    <li>break can be used to end the while-loop.</li>\n",
    "</ul>\n",
    "</font>\n",
    "\n",
    "### Example 1:"
   ]
  },
  {
   "cell_type": "code",
   "execution_count": null,
   "metadata": {},
   "outputs": [],
   "source": [
    "counter = 0\n",
    "# runs the loop as long as the variable counter is smaller than 10\n",
    "while counter < 10:\n",
    "    # print the content of the variable counter\n",
    "    print(counter)\n",
    "    # increment the variable counter by 1\n",
    "    counter += 1"
   ]
  },
  {
   "cell_type": "markdown",
   "metadata": {},
   "source": [
    "### Example 2:"
   ]
  },
  {
   "cell_type": "code",
   "execution_count": null,
   "metadata": {},
   "outputs": [],
   "source": [
    "import numpy as np\n",
    "# infinite loop: header condition is always fulfilled\n",
    "counter = 0\n",
    "while True:\n",
    "    # draws a random integer\n",
    "    random_number = np.random.randint(1,7)\n",
    "    # if the random integer was 3, break the loop execution\n",
    "    if random_number == 3:\n",
    "        break\n",
    "    else:\n",
    "        #if the random number was not 3, increment a counter\n",
    "        counter += 1\n",
    "print(\"While-loop has ended.\")\n",
    "print(\"The 3 was drawn after \" + str(counter) + \" trials.\")"
   ]
  },
  {
   "cell_type": "markdown",
   "metadata": {},
   "source": [
    "### Example 3:"
   ]
  },
  {
   "cell_type": "code",
   "execution_count": null,
   "metadata": {},
   "outputs": [],
   "source": [
    "import time\n",
    "import numpy as np\n",
    "#a simple while-loop generating random numbers till a certain number is hit\n",
    "match = False\n",
    "hit = 42\n",
    "upper = int(1E6)\n",
    "t1 = time.time()\n",
    "\n",
    "print(match)\n",
    "print(not match)\n",
    "\n",
    "# Condition in header of the while-loop never not fullfilled (always True)\n",
    "while not match:\n",
    "    # Compares random number with defined hit\n",
    "    if np.random.randint(0,upper) == hit:\n",
    "        # Interrupts the while-loop\n",
    "        break\n",
    "# Calculates how much time has passed\n",
    "delta_t = time.time() - t1\n",
    "# Outputs result\n",
    "print(str(np.round(delta_t,6))+\" seconds passed till \"+str(hit)+\" was randomly hit out of randomly drawn numbers up to \"+str(upper)+\".\")\n"
   ]
  },
  {
   "cell_type": "markdown",
   "metadata": {},
   "source": [
    "<font size=\"3\"><div class=\"alert alert-block alert-success\"><b>Exercise:</b> Implement a program which sorts a list of numbers.<br><br>\n",
    "    \n",
    "<b>Hint:</b> Use pairwise comparison of neighbouring elements and implement e.g. the <a href=\"https://en.wikipedia.org/wiki/Bubble_sort\">bubblesort</a> algorithm using a while-loop.<br>\n",
    "<b>Bonus:</b> You can use <a href=\"https://numpy.org/doc/stable/reference/random/generated/numpy.random.randint.html\">np.random.randint</a> to generate a list of N random integers in the range [a,b).<br>\n",
    "\n",
    "</div>"
   ]
  },
  {
   "cell_type": "markdown",
   "metadata": {},
   "source": [
    "Bubblesort Pseudocode from Wikipedia:\n",
    "```\n",
    "procedure bubbleSort(A : list of sortable items)\n",
    "    n := length(A)\n",
    "    repeat\n",
    "        swapped := false\n",
    "        for i := 1 to n - 1 inclusive do\n",
    "            if A[i - 1] > A[i] then\n",
    "                swap(A[i - 1], A[i])\n",
    "                swapped := true\n",
    "            end if\n",
    "        end for\n",
    "        n := n - 1\n",
    "    until not swapped\n",
    "end procedure\n",
    "```"
   ]
  },
  {
   "cell_type": "markdown",
   "metadata": {},
   "source": [
    " \n",
    "<b>Try it yourself:</b></font>"
   ]
  },
  {
   "cell_type": "code",
   "execution_count": null,
   "metadata": {},
   "outputs": [],
   "source": [
    "# import module numpy\n",
    "import numpy as np\n",
    "# generate list of 10 random integers in the interval [0,100)\n",
    "rand_list = np.random.randint(0,100,10)\n",
    "print(\"Unsorted list:\"+str(rand_list))"
   ]
  },
  {
   "cell_type": "markdown",
   "metadata": {},
   "source": [
    "<br><br><br><br><br><br><br><br><br><br><br><br><br><br><br><br><br><br><br><br>\n",
    "### Example Solution:"
   ]
  },
  {
   "cell_type": "code",
   "execution_count": null,
   "metadata": {},
   "outputs": [],
   "source": [
    "# import module numpy\n",
    "import numpy as np\n",
    "# generate list of 10 random integers in the interval [0,100)\n",
    "rand_list = np.random.randint(0,100,10)\n",
    "print(\"Unsorted list:\"+str(rand_list))\n",
    "\n",
    "# YOUR CODE HERE\n",
    "def sort(A):\n",
    "    swapped = True\n",
    "    n = len(A)\n",
    "    while swapped:\n",
    "        swapped = False\n",
    "        for i in range(1,n):\n",
    "            if A[i-1] > A[i]:\n",
    "                A[i], A[i-1] = A[i-1], A[i]\n",
    "                swapped = True\n",
    "        n -= 1\n",
    "sort(rand_list)\n",
    "rand_list"
   ]
  },
  {
   "cell_type": "markdown",
   "metadata": {},
   "source": [
    "**Bonus question:** Why is the `n -= 1` optimization (reducing the number of times the for loop is run) correct?"
   ]
  },
  {
   "cell_type": "markdown",
   "metadata": {},
   "source": [
    "<br><br><br>\n",
    "## Functions\n",
    "\n",
    "<br>\n",
    "<font size=\"3\">\n",
    "As your code grows bigger and some parts of the code may repeat in it, the first step for cleaner code is to outsource repeating code snippets in user-defined functions. If some repeats itself for at least two times, it is already worth considering to write a function for that.<br><br>\n",
    "<b>The biggest difference between a function definiton in Python and in other statically-typed languages is that no data types need to be given - neither for the function arguments, nor the return value of the function.</b><br><br>Nevertheless, the newest <a href=\"https://www.python.org/dev/peps/pep-0008/\">code style best practice</a> in Python is that you CAN indicate the data types of the function arguments and its return value(s) (give so-called <a href=\"https://www.python.org/dev/peps/pep-0484/\">type hints</a>) but there is no automatic type check (yet). So it only contributes to a better readability and understanding of your code for other programmers.</b>\n",
    "<br><br>\n",
    "<b>User-defined functions in Python are defined as follows</b><br>\n",
    "<ul>\n",
    "    <li><b>with a fixed number of mandatory arguments:</b><br>\n",
    "        def <i>function_name</i>(<b>arg1, arg2, arg3, ...</b>):<br>\n",
    "    <p style=\"margin-left: 40px\"><font face=\"Courier\">indented code block</font></p>\n",
    "    <p style=\"margin-left: 40px\">return <i>value</i></p>\n",
    "    </li>\n",
    "    <br>\n",
    "    <li><b>with a fixed number of arguments, but some have a default value (and are hence not mandatory):</b><br>\n",
    "        def <i>function_name</i>(<b>arg1, arg2, arg3 = True, arg4 = 1</b>):<br>\n",
    "    <p style=\"margin-left: 40px\"><font face=\"Courier\">indented code block</font></p>\n",
    "    <p style=\"margin-left: 40px\">return <i>value</i></p>\n",
    "    </li>\n",
    "    <br>\n",
    "    <li>\n",
    "    <b>with a variable number of arguments:</b><br>\n",
    "        def <i>function_name</i>(<b>*args</b>):<br>\n",
    "    <p style=\"margin-left: 40px\"><font face=\"Courier\">indented code block</font></p>\n",
    "    <p style=\"margin-left: 40px\">return <i>value</i></p>\n",
    "    <br>\n",
    "        <b>The variable name <i>args</i>, a tuple of the function arguments, is used in the function definition.</b> <br><br>\n",
    "        <b>The asterisk (*) unpacks a tuple to positional arguments for a function call.</b><br>\n",
    "        <b>It can be only used within function calls or in assignments.</b>\n",
    "    </li>\n",
    "    <br>\n",
    "    <li>\n",
    "    <b>with a variable number of keyword-arguments:</b><br>\n",
    "        def <i>function_name</i>(<b>**kwargs</b>):<br>\n",
    "    <p style=\"margin-left: 40px\"><font face=\"Courier\">indented code block</font></p>\n",
    "    <p style=\"margin-left: 40px\">return <i>value</i></p>\n",
    "    </li>\n",
    "    <br>\n",
    "            <b>The variable name <i>kwargs</i>, a dict of the keyword arguments of the function, is used in the function definition.</b> <br><br>\n",
    "        <b>The double asterisk (**) unpacks a dict to keyword arguments for a function call.</b><br>\n",
    "        <b>It can be only used within function calls or in assigments.</b>\n",
    "    <br>\n",
    "    <br>\n",
    "    <li>\n",
    "    <b>with variable numer of arguments and variable number of keyword arguments:</b><br>\n",
    "        def <i>function_name</i>(<b>*args, **kwargs</b>):<br>\n",
    "    <p style=\"margin-left: 40px\"><font face=\"Courier\">indented code block</font></p>\n",
    "    <p style=\"margin-left: 40px\">return <i>value</i></p>\n",
    "    </li>\n",
    "</ul>\n",
    "<br>\n",
    "    The indented code block <b>does not need to end</b> in all cases <b>with a <i>return</i> statement</b>.\n",
    "    <b>If left blank, the function returns a <i>NoneType</i> (None) object.</b>\n",
    "\n",
    "<b>An advantage of encapsulating your code in functions is that the variable scope (the environment where the variable is valid and accessible) is limited to the code block enclosed by your function definition!</b>\n",
    "</font>\n",
    "\n",
    "### Examples of functions with fixed number of arguments:"
   ]
  },
  {
   "cell_type": "code",
   "execution_count": null,
   "metadata": {},
   "outputs": [],
   "source": [
    "# here you see an example with a first function definition\n",
    "# with a single, mandatory argument without default value\n",
    "def get_state_of_water(temperature):\n",
    "    if temperature < 0:\n",
    "        print(\"The water is ice.\")\n",
    "    elif (temperature > 0)&(temperature < 100):\n",
    "        print(\"The water is liquid.\")\n",
    "    elif temperature >= 100:\n",
    "        print(\"The water is boiling.\")\n",
    "\n",
    "get_state_of_water(-10)\n",
    "get_state_of_water(99)\n",
    "get_state_of_water(101)"
   ]
  },
  {
   "cell_type": "code",
   "execution_count": null,
   "metadata": {},
   "outputs": [],
   "source": [
    "# an example for a function with a defined number of arguments\n",
    "def foo(a, b, c):\n",
    "    return c * (a + b)\n",
    "\n",
    "print(\"foo(1,2,3)=\"+str(foo(1,2,3)))\n",
    "print(\"foo(2.12,8,123)=\"+str(foo(2.12,8,123)))"
   ]
  },
  {
   "cell_type": "code",
   "execution_count": null,
   "metadata": {},
   "outputs": [],
   "source": [
    "# an example for a function with a defined number of arguments\n",
    "# a function can also have multiple return statements\n",
    "def greetings(name, surname, language):\n",
    "    sentences = {'german' : 'Guten Tag', 'english' : 'Hello', 'portuguese' : 'Bom dìa', 'french' : 'Bonjour', 'russian' : 'Здравствуйте'}\n",
    "    # check if language keyword exists in the keys of the dictionary 'sentences'\n",
    "    if not language in sentences.keys():\n",
    "        print(\"Invalid language given.\")\n",
    "        return\n",
    "    # assemble and print output string\n",
    "    print(sentences[language] + \", \" + name + \" \" + surname)\n",
    "    return\n",
    "\n",
    "#call / invoke the function greetings with different parameters\n",
    "greetings(\"Jane\", \"Doe\", \"german\")\n",
    "greetings(\"John\", \"Doe\", \"portuguese\")\n",
    "greetings(\"Pièrre\", \"Fromage\", \"french\")\n",
    "greetings(\"Dima\", \"Durak\", \"russian\")\n",
    "greetings(\"World\", \"\", \"english\")\n",
    "greetings(\"World\", \"\", \"klingon\")"
   ]
  },
  {
   "cell_type": "code",
   "execution_count": null,
   "metadata": {},
   "outputs": [],
   "source": [
    "# using the reserved keyword pass, you can also define function prototypes (empty functions)\n",
    "# this is used e.g. in the definition of abstract classes where the class methods are overloaded (overwritten)\n",
    "def prototype(a, b, c):\n",
    "    pass"
   ]
  },
  {
   "cell_type": "code",
   "execution_count": null,
   "metadata": {},
   "outputs": [],
   "source": [
    "#the scope of variables defined within the function is function local\n",
    "#if we attempt to access e.g. the variable sentences, from the local\n",
    "#context of the method greetings, an error occurrs\n",
    "print(sentences)"
   ]
  },
  {
   "cell_type": "markdown",
   "metadata": {},
   "source": [
    "<font size=\"3\">\n",
    "    Having a look at the class of the object <i>greetings</i>, we in fact obtain\n",
    "</font>"
   ]
  },
  {
   "cell_type": "code",
   "execution_count": null,
   "metadata": {},
   "outputs": [],
   "source": [
    "print(type(greetings))       # print data type or class of object\n",
    "print(callable(greetings))   # check if object is callable, hence if object is a function handle"
   ]
  },
  {
   "cell_type": "markdown",
   "metadata": {},
   "source": [
    "<font size=\"3\">\n",
    "    a function or an object of the class \"function\". <b>The builtin function <i>callable()</i> checks if a variable contains or is a callable object, hence a reference to a function which can be invoked.</b><br><br>\n",
    "</font>"
   ]
  },
  {
   "cell_type": "markdown",
   "metadata": {},
   "source": [
    "### Examples of functions with fixed number of arguments and default values (keyword arguments):"
   ]
  },
  {
   "cell_type": "code",
   "execution_count": null,
   "metadata": {},
   "outputs": [],
   "source": [
    "# an example for a function with fixed number of arguments with default values\n",
    "def print_location(name, start_res = \"Earth\", language = \"english\"):\n",
    "    \n",
    "    # you can insert a line break in a very long line of code with a backslash\n",
    "    locations_en = ['Greifswald', 'Mecklenburg-Vorpommern', 'Germany', 'Europe', \\\n",
    "                    \"Earth\", \"Milky Way\", \"Alpha Quadrant\", \"Universe X001A\"]\n",
    "    locations_de = ['Greifswald', 'Mecklenburg-Vorpommern', 'Deutschland', 'Europa', \\\n",
    "                    \"Erde\", \"Milchstrasse\", \"Alpha Quadrant\", \"Universum X001A\"]\n",
    "    language_str = {'english':{'locations' : locations_en,\\\n",
    "                    'phrase' : ['Hello', 'You are','in','in','in','in','on','in','in','in']},\\\n",
    "                    'german': {'locations' : locations_de, \\\n",
    "                    'phrase' : ['Hallo', 'Du bist', 'in', 'in', 'in', 'in', 'auf der', 'in der', 'im', 'im']}}\n",
    "    \n",
    "    # throws an error if given language keyword is not included\n",
    "    if not (language in language_str):\n",
    "        raise KeyError(\"Invalid language keyword.\")\n",
    "    \n",
    "    # throws an error if given start is not included\n",
    "    if not (start_res in language_str[language]['locations']):\n",
    "        raise ValueError(\"Wrong location resolution level.\")\n",
    "    else:\n",
    "        start_index = language_str[language][\"locations\"].index(start_res)\n",
    "        \n",
    "    # assemble string\n",
    "    out_str = language_str[language]['phrase'][0] + \", \" + name + \"! \\n\"\n",
    "    out_str += language_str[language]['phrase'][1] + \" \"\n",
    "    for i in range(start_index,len(language_str[language][\"locations\"])):\n",
    "        out_str += language_str[language]['phrase'][i+2] + \" \" + language_str[language]['locations'][i] + \" \"\n",
    "    # print string\n",
    "    print(out_str)\n",
    "\n",
    "# example of how polymorphism (same function/method name, but different number and/or data types\n",
    "# of accepted arguments) could be implemented in Python using (default) keyword arguments\n",
    "print_location(\"Jane Doe\")\n",
    "print_location(\"Jon Doe\", start_res = \"Greifswald\")\n",
    "print_location(\"Pierre Fromage\", start_res = \"Greifswald\", language = \"german\")"
   ]
  },
  {
   "cell_type": "markdown",
   "metadata": {},
   "source": [
    "### Examples of functions with variable number of arguments:"
   ]
  },
  {
   "cell_type": "code",
   "execution_count": null,
   "metadata": {},
   "outputs": [],
   "source": [
    "# an example for a function definition with a variable number of function arguments\n",
    "def calc_sum(*args):\n",
    "    # inside the function, args is a tuple\n",
    "    print(\"type(args) = \"+str(type(args)))\n",
    "    result = 0\n",
    "    for elem in args:\n",
    "        result += elem\n",
    "    return result\n",
    "\n",
    "print(\"calc_sum(*(1, 2, 3)) = \"+str(calc_sum(*(1,2,3))))  # the function call\n",
    "print(\"calc_sum(1, 2, 3) = \"+str(calc_sum(1,2,3)))        # is equivalent to\n",
    "print(\"calc_sum(8, 9, 11, 5) = \"+str(calc_sum(8, 9, 11, 5)))        # a different number of arguments can be used"
   ]
  },
  {
   "cell_type": "code",
   "execution_count": null,
   "metadata": {},
   "outputs": [],
   "source": [
    "import numpy as np\n",
    "rand_len = np.random.randint(1,10)\n",
    "rand_tuple = tuple(np.random.randint(0,10,(rand_len,)))  # but the argument can be a tuple of arbitrary length\n",
    "print(\"rand_tuple = \"+str(rand_tuple))\n",
    "print(\"calc_sum(*rand_tuple) = \"+str(calc_sum(*rand_tuple)))"
   ]
  },
  {
   "cell_type": "markdown",
   "metadata": {},
   "source": [
    "### Example of functions with variable number of keyword arguments:"
   ]
  },
  {
   "cell_type": "code",
   "execution_count": null,
   "metadata": {},
   "outputs": [],
   "source": [
    "# an example for a function definition with a variable number of keyword arguments\n",
    "def get_molecule_name(**kwargs):\n",
    "    # inside the function, kwargs is a dict\n",
    "    print(\"type(kwargs) = \"+str(type(kwargs)))\n",
    "    \n",
    "    molecules = {'H2O' : 'water', 'C2H5OH' : 'ethanol', 'CH3OH' : 'methanol'}\n",
    "    \n",
    "    # assemble string\n",
    "    out_str = ''\n",
    "    for key in kwargs.keys():\n",
    "        if kwargs[key] == 1:\n",
    "            out_str += key\n",
    "        else:\n",
    "            out_str += key + str(kwargs[key])\n",
    "    \n",
    "    if out_str in molecules.keys():\n",
    "        print(\"The molecule \"+out_str+\" is known as \"+molecules[out_str]+\".\")\n",
    "    else:\n",
    "        print(\"The molecule \"+out_str+\" is unknown.\")\n",
    "\n",
    "get_molecule_name() #equivalent to get_molecule_name(**{})\n",
    "get_molecule_name(C=2, H=5, OH=1) #equivalent to get_molecule_name(**{'C':2,'H':5,'OH':1})"
   ]
  },
  {
   "cell_type": "markdown",
   "metadata": {},
   "source": [
    "### Example of a function definition with type hinting:"
   ]
  },
  {
   "cell_type": "code",
   "execution_count": null,
   "metadata": {},
   "outputs": [],
   "source": [
    "# indicate the data type of a function argument by variable_name : datatype\n",
    "# indicate the data type of the return value of the function by -> datatype following the argument list\n",
    "def celsius_to_kelvin(temperature : float) -> float:\n",
    "    return temperature + 273.15\n",
    "\n",
    "# if the function does not return a value, then use None as data type and no return statement is given\n",
    "def print_kelvin(temperature_in_c : float) -> None:\n",
    "    print(\"Temperature in degrees Celsius:\"+str(temperature_in_c))\n",
    "    print(\"Temperature in degrees Kelvin:\"+str(temperature_in_c + 273.15))\n",
    "    \n",
    "print(celsius_to_kelvin(23))\n",
    "print_kelvin(23)"
   ]
  },
  {
   "cell_type": "markdown",
   "metadata": {},
   "source": [
    "<font size=\"3\"><div class=\"alert alert-block alert-success\"><b>Exercise:</b> Define a function named <i>compute</i> using a variable number of arguments (args) and a keyword argument named <i>operation</i> expecting one of the following strings: \"add\", \"subtract\", \"multiply\", \"divide\".<br><br> The function should then add/subtract/multiply/divide the numbers given by the preceding arguments. The computation should be performed pairwise e.g. first add <i>argument1 </i> and <i>argument2</i>. Then add to the result <i>argument3</i>. Then add to the result <i>argument4</i> etc... Repeat for all arguments. <br><br>\n",
    "<b>Hint:</b> You can use the arithmetic assignment operators +=, -=, *= and /=. The first e.g. adds the expression on the right side to the variable on the left. You can also use the Python operators as callable functions using the <a href=\"https://docs.python.org/3/library/operator.html\">module operator</a>.</div>\n",
    "    \n",
    "<b>Try it yourself:</b></font>"
   ]
  },
  {
   "cell_type": "code",
   "execution_count": null,
   "metadata": {},
   "outputs": [],
   "source": [
    "#YOUR CODE HERE"
   ]
  },
  {
   "cell_type": "code",
   "execution_count": null,
   "metadata": {},
   "outputs": [],
   "source": [
    "#A so called unit test\n",
    "#If this cell runs without errors, \n",
    "#your compute method seems to work as intended\n",
    "x1 = compute(1, 2, operation=\"add\")\n",
    "x2 = compute(100, 20, 7, operation=\"subtract\")\n",
    "x3 = compute(1, 30, 14, 0, operation=\"multiply\")\n",
    "x4 = compute(100, 50, 2, operation=\"divide\")\n",
    "assert x1 == 3, f\"Sum of 1 and 2 is {x1} != 3\"\n",
    "assert x2 == 73, f\"Difference of 100, 20, 7 is {x2} != 73\"\n",
    "assert x3 == 0, f\"Product of 1, 30, 14, 0 is {x3} != 0\"\n",
    "assert x4 == 1, f\"Division of 100, 50, 2 is {x4} != 1\"\n",
    "print(\"Great, your compute method seems to work!\")"
   ]
  },
  {
   "cell_type": "markdown",
   "metadata": {},
   "source": [
    "## Lambda Functions (anonymous functions) *\n",
    "<br>\n",
    "<font size=\"3\">\n",
    "The so-called <i>Lambda functions</i> or <i>anonymous functions</i> allow the definition of functions in one line of Python. Since they have no name assigned, they are also called anonymous.<br><br>\n",
    "<b>A lambda function in Python can be defined as follows</b><br><br>\n",
    "<b>var = lambda arg1, arg2, ..., arg_n : <font face=\"Courier\"> Do something with the args</font></b><br><br>\n",
    "    where <i><b>var</b></i> is then equivalent to<br><br>\n",
    "<b>def var(arg1, arg2, ..., arg_n):</b><br>\n",
    "    <p style=\"margin-left: 40px\"><font face=\"Courier\">indented code block</font></p>\n",
    "    <p style=\"margin-left: 40px\"><b>return <i>return_value</i></b></p>\n",
    "<br><br>\n",
    "    <b>and var is an object of <i>class 'function'</i></b>.\n",
    "</font>\n",
    "\n",
    "### Examples:"
   ]
  },
  {
   "cell_type": "code",
   "execution_count": null,
   "metadata": {},
   "outputs": [],
   "source": [
    "fun1 = lambda x : x + 1               # Definition of a simple lambda/anonymous function\n",
    "print(\"fun1(1)=\"+str(fun1(1)))        # Print result of fun1(1)\n",
    "print(type(fun1))                     # Print type of fun1\n",
    "print(callable(fun1))                 # Print if fun1 is callable\n",
    "\n",
    "fun2 = lambda y, z : z + fun1(y)      # Lambda/anonymous function can have multiple arguments and can be concatenated\n",
    "print(\"fun2(1, 2)=\"+str(fun2(1, 2)))  # Print result of fun2(1,2))\n",
    "\n",
    "fun3 = lambda a, b, fun: a + fun(b)   # Lambda functions can also have other functions or callable objects as args\n",
    "print(\"fun3(1, 2, fun1)=\"+str(fun3(1, 2, fun1)))"
   ]
  },
  {
   "cell_type": "markdown",
   "metadata": {},
   "source": [
    "<font size=\"3\">\n",
    "    We see that var is in fact again an object of <i>class 'function'</i> and is a <i>callable object</i>, hence a reference to a function which can be invoked. The function can also be directly invoked after definition:\n",
    "</font>"
   ]
  },
  {
   "cell_type": "code",
   "execution_count": null,
   "metadata": {},
   "outputs": [],
   "source": [
    "print((lambda x : x + 1)(1))          # a lambda function can also be directly invoked, but this is discouraged"
   ]
  },
  {
   "cell_type": "markdown",
   "metadata": {},
   "source": [
    "<font size=\"3\">\n",
    "The typical use case for lambda functions are so-called high-order functions (functions with another callable as argument) which can be another user-defined function, another lambda function or a special <b>builtin Python function like <i>map()</i> or <i>filter()</i></b>.<br><br>Lambda functions are adequate to use if only a nameless function is required (once) for a short period of time with the advantage of a shorter notation.\n",
    "</font>\n",
    "<br>\n",
    "<br>"
   ]
  },
  {
   "cell_type": "markdown",
   "metadata": {},
   "source": [
    "<br><br><br><br><br><br><br><br><br><br><br><br><br><br><br><br><br><br>\n",
    "# Time for questions and feedback\n",
    "<br><br><br><br><br><br><br><br><br><br><br><br><br><br><br><br><br><br>"
   ]
  },
  {
   "cell_type": "markdown",
   "metadata": {},
   "source": [
    "# Summary Quiz\n",
    "\n",
    "Predict/describe the output of the following cells. Enter something in the text cells before executing the code cell directly below.\n",
    "\n",
    "### 1. Variables, types and simple operations"
   ]
  },
  {
   "cell_type": "raw",
   "metadata": {},
   "source": [
    "YOUR TEXT HERE"
   ]
  },
  {
   "cell_type": "code",
   "execution_count": null,
   "metadata": {},
   "outputs": [],
   "source": [
    "int(12 + 3 / 4)"
   ]
  },
  {
   "cell_type": "raw",
   "metadata": {},
   "source": [
    "YOUR TEXT HERE"
   ]
  },
  {
   "cell_type": "code",
   "execution_count": null,
   "metadata": {},
   "outputs": [],
   "source": [
    "x = 4\n",
    "y = True\n",
    "print(\"x + y: \", x + y)\n",
    "print(\"type(x + y): \", type(x + y))"
   ]
  },
  {
   "cell_type": "raw",
   "metadata": {},
   "source": [
    "YOUR TEXT HERE"
   ]
  },
  {
   "cell_type": "code",
   "execution_count": null,
   "metadata": {},
   "outputs": [],
   "source": [
    "x = \"4\"\n",
    "y = str(2)\n",
    "print(\"x + y: \", x + y)\n",
    "print(\"type(x + y): \", type(x + y))"
   ]
  },
  {
   "cell_type": "raw",
   "metadata": {},
   "source": [
    "YOUR TEXT HERE"
   ]
  },
  {
   "cell_type": "code",
   "execution_count": null,
   "metadata": {},
   "outputs": [],
   "source": [
    "x = y = 0\n",
    "a, b = 4., 12\n",
    "\n",
    "print(\"type(x + a): \", type(x + a))\n",
    "print(\"type(y + b): \", type(y + b))"
   ]
  },
  {
   "cell_type": "raw",
   "metadata": {},
   "source": [
    "YOUR TEXT HERE"
   ]
  },
  {
   "cell_type": "code",
   "execution_count": null,
   "metadata": {},
   "outputs": [],
   "source": [
    "t = (-4, 12.7, \"5\")\n",
    "y = 2\n",
    "for x in t:\n",
    "    print(y + x)"
   ]
  },
  {
   "cell_type": "raw",
   "metadata": {},
   "source": [
    "YOUR TEXT HERE"
   ]
  },
  {
   "cell_type": "code",
   "execution_count": null,
   "metadata": {},
   "outputs": [],
   "source": [
    "t = (-4, 12.7, \"5\")\n",
    "y = 0\n",
    "for x in t:\n",
    "    print(y + int(x))"
   ]
  },
  {
   "cell_type": "raw",
   "metadata": {},
   "source": [
    "YOUR TEXT HERE"
   ]
  },
  {
   "cell_type": "code",
   "execution_count": null,
   "metadata": {},
   "outputs": [],
   "source": [
    "text = \"my number is 173510\"\n",
    "x = 150\n",
    "x + int(text[15:17])"
   ]
  },
  {
   "cell_type": "raw",
   "metadata": {},
   "source": [
    "YOUR TEXT HERE"
   ]
  },
  {
   "cell_type": "code",
   "execution_count": null,
   "metadata": {},
   "outputs": [],
   "source": [
    "L = list(range(10))\n",
    "L[0] + L[-2]"
   ]
  },
  {
   "cell_type": "raw",
   "metadata": {},
   "source": [
    "YOUR TEXT HERE"
   ]
  },
  {
   "cell_type": "code",
   "execution_count": null,
   "metadata": {},
   "outputs": [],
   "source": [
    "text = \"I am nearly done for today!\" #len(text) = 27\n",
    "n1 = len(text[::2])\n",
    "n2 = len(text[1::2])\n",
    "n1 == n2"
   ]
  },
  {
   "cell_type": "markdown",
   "metadata": {},
   "source": [
    "### Datastructures"
   ]
  },
  {
   "cell_type": "raw",
   "metadata": {},
   "source": [
    "YOUR TEXT HERE"
   ]
  },
  {
   "cell_type": "code",
   "execution_count": null,
   "metadata": {},
   "outputs": [],
   "source": [
    "X = (14, 5., \"abc\")\n",
    "Y = [14, 5., \"abc\"]\n",
    "Z = {0 : 14, 1 : 5., 2 : \"abc\"}\n",
    "\n",
    "print(\"type(X): \", type(X))\n",
    "print(\"type(Y): \", type(Y))\n",
    "print(\"type(Z): \", type(Z))"
   ]
  },
  {
   "cell_type": "raw",
   "metadata": {},
   "source": [
    "YOUR TEXT HERE"
   ]
  },
  {
   "cell_type": "code",
   "execution_count": null,
   "metadata": {},
   "outputs": [],
   "source": [
    "L = [1, 2, 3, 4]\n",
    "L.append(5)\n",
    "L.extend([6])\n",
    "L.append([7,8])\n",
    "L.extend([9,10])\n",
    "len(L)"
   ]
  },
  {
   "cell_type": "raw",
   "metadata": {},
   "source": [
    "YOUR TEXT HERE"
   ]
  },
  {
   "cell_type": "code",
   "execution_count": null,
   "metadata": {},
   "outputs": [],
   "source": [
    "vegetables_list = [\"paprikas\", \"carrots\"]\n",
    "fruits_list     = [\"apples\", \"bananas\", \"cherries\"]\n",
    "diary_list      = [\"milk\", \"butter\", \"yoghurt\"]\n",
    "shopping_list = {\"vegetables\" : vegetables_list, \"fruits\" : fruits_list, \"diary\" : diary_list}\n",
    "\n",
    "print(len(shopping_list))\n",
    "print(len(shopping_list[\"vegetables\"]))\n",
    "print(\"vegetables\" in shopping_list)\n",
    "print(\"butter\" in shopping_list)"
   ]
  },
  {
   "cell_type": "markdown",
   "metadata": {},
   "source": [
    "### Control flow"
   ]
  },
  {
   "cell_type": "raw",
   "metadata": {},
   "source": [
    "YOUR TEXT HERE"
   ]
  },
  {
   "cell_type": "code",
   "execution_count": null,
   "metadata": {},
   "outputs": [],
   "source": [
    "x = None\n",
    "y = False\n",
    "if x == y:\n",
    "    print(\"Message 1\")\n",
    "    y = None\n",
    "elif y is None:\n",
    "    print(\"Message 2\")\n",
    "else:\n",
    "    print(\"Message 3\")"
   ]
  },
  {
   "cell_type": "raw",
   "metadata": {},
   "source": [
    "YOUR TEXT HERE"
   ]
  },
  {
   "cell_type": "code",
   "execution_count": null,
   "metadata": {},
   "outputs": [],
   "source": [
    "x = False\n",
    "y = False\n",
    "if x == y:\n",
    "    print(\"Message 1\")\n",
    "    y = True\n",
    "if y:\n",
    "    print(\"Message 2\")\n",
    "    y = False\n",
    "else:\n",
    "    print(\"Message 3\")\n",
    "    x = False\n",
    "x or y"
   ]
  },
  {
   "cell_type": "raw",
   "metadata": {},
   "source": [
    "YOUR TEXT HERE"
   ]
  },
  {
   "cell_type": "code",
   "execution_count": null,
   "metadata": {},
   "outputs": [],
   "source": [
    "#does this cell print an error?\n",
    "x = 42\n",
    "y = 3.14\n",
    "if x > y or y/0 == 0:\n",
    "    print(\"Random message!\")\n",
    "else:\n",
    "    print(\"Other message!\")"
   ]
  },
  {
   "cell_type": "raw",
   "metadata": {},
   "source": [
    "YOUR TEXT HERE"
   ]
  },
  {
   "cell_type": "code",
   "execution_count": null,
   "metadata": {},
   "outputs": [],
   "source": [
    "x = ['a', 'b', 'c', 'd']\n",
    "if 'e' not in x and len(x):\n",
    "    if len(x) >= 4:\n",
    "        x[0] = 'e'\n",
    "    else:\n",
    "        x.append('e')\n",
    "else:\n",
    "    x = ['e']\n",
    "x"
   ]
  },
  {
   "cell_type": "raw",
   "metadata": {},
   "source": [
    "YOUR TEXT HERE"
   ]
  },
  {
   "cell_type": "code",
   "execution_count": null,
   "metadata": {},
   "outputs": [],
   "source": [
    "#does this loop ever stop?\n",
    "x = 0\n",
    "while True:\n",
    "    x += 1\n",
    "    if x % 2 == 1:\n",
    "        continue\n",
    "    if x == 9:\n",
    "        break\n",
    "print(\"Awesome! I'm done!\")"
   ]
  },
  {
   "cell_type": "raw",
   "metadata": {},
   "source": [
    "YOUR TEXT HERE"
   ]
  },
  {
   "cell_type": "code",
   "execution_count": null,
   "metadata": {},
   "outputs": [],
   "source": [
    "x = 2\n",
    "for i in range(0,5):\n",
    "    x = x**i\n",
    "x"
   ]
  },
  {
   "cell_type": "raw",
   "metadata": {},
   "source": [
    "YOUR TEXT HERE"
   ]
  },
  {
   "cell_type": "markdown",
   "metadata": {},
   "source": [
    "### Functions"
   ]
  },
  {
   "cell_type": "raw",
   "metadata": {},
   "source": [
    "YOUR TEXT HERE"
   ]
  },
  {
   "cell_type": "code",
   "execution_count": null,
   "metadata": {},
   "outputs": [],
   "source": [
    "x = 42\n",
    "def my_function():\n",
    "    print(x)\n",
    "    \n",
    "my_function()"
   ]
  },
  {
   "cell_type": "raw",
   "metadata": {},
   "source": [
    "YOUR TEXT HERE"
   ]
  },
  {
   "cell_type": "code",
   "execution_count": null,
   "metadata": {},
   "outputs": [],
   "source": [
    "x = 42\n",
    "def my_function():\n",
    "    print(x)\n",
    "x += 10\n",
    "my_function()"
   ]
  },
  {
   "cell_type": "raw",
   "metadata": {},
   "source": [
    "YOUR TEXT HERE"
   ]
  },
  {
   "cell_type": "code",
   "execution_count": 33,
   "metadata": {},
   "outputs": [
    {
     "data": {
      "text/plain": [
       "21.0"
      ]
     },
     "execution_count": 33,
     "metadata": {},
     "output_type": "execute_result"
    }
   ],
   "source": [
    "def my_function(y):\n",
    "    result = z*y\n",
    "    return result\n",
    "\n",
    "z = 42\n",
    "my_function(0.5)"
   ]
  },
  {
   "cell_type": "markdown",
   "metadata": {},
   "source": [
    "2. Unfortunately, the following cell prints not the expected result. Can you spot and fix the mistake?"
   ]
  },
  {
   "cell_type": "code",
   "execution_count": null,
   "metadata": {},
   "outputs": [],
   "source": [
    "n = 20\n",
    "\n",
    "list1 = list(range(n))[::2]\n",
    "\n",
    "list2 = list3 = []\n",
    "for i in range(n):\n",
    "    if i % 2 == 0:\n",
    "        list2.append(i)\n",
    "    else:\n",
    "        list3.append(i)\n",
    "        \n",
    "if list1 == list2:\n",
    "    print(\"Even numbers!\")\n",
    "else:\n",
    "    print(\"Odd numbers!\")"
   ]
  },
  {
   "cell_type": "code",
   "execution_count": null,
   "metadata": {},
   "outputs": [],
   "source": []
  }
 ],
 "metadata": {
  "kernelspec": {
   "display_name": "Python 3",
   "language": "python",
   "name": "python3"
  },
  "language_info": {
   "codemirror_mode": {
    "name": "ipython",
    "version": 3
   },
   "file_extension": ".py",
   "mimetype": "text/x-python",
   "name": "python",
   "nbconvert_exporter": "python",
   "pygments_lexer": "ipython3",
   "version": "3.9.2"
  },
  "varInspector": {
   "cols": {
    "lenName": 16,
    "lenType": 16,
    "lenVar": 40
   },
   "kernels_config": {
    "python": {
     "delete_cmd_postfix": "",
     "delete_cmd_prefix": "del ",
     "library": "var_list.py",
     "varRefreshCmd": "print(var_dic_list())"
    },
    "r": {
     "delete_cmd_postfix": ") ",
     "delete_cmd_prefix": "rm(",
     "library": "var_list.r",
     "varRefreshCmd": "cat(var_dic_list()) "
    }
   },
   "types_to_exclude": [
    "module",
    "function",
    "builtin_function_or_method",
    "instance",
    "_Feature"
   ],
   "window_display": false
  }
 },
 "nbformat": 4,
 "nbformat_minor": 4
}
