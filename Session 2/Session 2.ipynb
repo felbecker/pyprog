{
 "cells": [
  {
   "cell_type": "markdown",
   "metadata": {},
   "source": [
    "# Introduction to Python for People with Programming Experience\n",
    "\n",
    "\n",
    "## Session 2 / 4 - 27.09.2022 9:00 - 13:00\n",
    "\n",
    "*by Fabian Wilde, Katharina Hoff, Matthis Ebel, Mario Stanke & Felix Becker*\n",
    "\n",
    "Contact: felix.becker@uni-greifswald.de"
   ]
  },
  {
   "cell_type": "markdown",
   "metadata": {},
   "source": [
    "<br><br><br>\n",
    "## Non-interactive Python: \n",
    "## Running your code from the command-line\n",
    "\n",
    "So far, you have used Python interactively in this Jupyter notebook, but often, you'd like to run a long task in the background and you don't need to see intermediate results. You can run Python scripts from the command-line to achieve this behaviour. \n",
    "    \n",
    "**Here, we assume that you're using Linux.** But it works in a similar manner if you're using Windows. If you'd like to run your Python script on the command-line (which is Bash under Linux in the default case), you need to save your script first and then run it with\n",
    "\n",
    "`python your_script.py` or `python3 your_script.py`\n",
    "\n",
    "\n",
    "In case you have both, Python 2.x and Python 3.x installed on your system, make sure, you're running the right interpreter using\n",
    "\n",
    "`which python` or `python --version` \n",
    "\n",
    "Of course, you can also directly run your Python script on the command-line treating is it as a Bash script (a script file for the command-line), but putting th \"shebang line\" \n",
    "\n",
    "`#!/usr/bin/python3`\n",
    "\n",
    "as first line in your Python script to tell Bash which interpreter to use for the file.\n",
    "\n",
    "Then, you need to make your newly created file **executable** by adding the flag **executable** e.g. with the command\n",
    "\n",
    "`chmod u+x your_script.py`\n",
    "\n",
    "You can check the file permission flags in the listing of your directory using\n",
    "\n",
    "`ls -la scripts`\n",
    "\n",
    "Then you should be able to simply run your Python script as if it would be a Bash script using\n",
    "\n",
    "`./your_script.py`        \n",
    "\n",
    "In the following examples, a special \"cell magic\" command is used, so that bash scripts and commands can be run within a Jupyter notebook cell.\n",
    "\n",
    "### Examples:"
   ]
  },
  {
   "cell_type": "code",
   "execution_count": 6,
   "metadata": {},
   "outputs": [
    {
     "name": "stdout",
     "output_type": "stream",
     "text": [
      "/opt/conda/bin/python3\n",
      "Hello World from the console!\n"
     ]
    }
   ],
   "source": [
    "%%bash\n",
    "which python3\n",
    "python3 scripts/hello_world.py"
   ]
  },
  {
   "cell_type": "markdown",
   "metadata": {},
   "source": [
    "Or directly run your python script as it would be a bash script or native executable, after you have set the executable file flag:"
   ]
  },
  {
   "cell_type": "code",
   "execution_count": 7,
   "metadata": {},
   "outputs": [
    {
     "name": "stdout",
     "output_type": "stream",
     "text": [
      "total 24\n",
      "drwxr-xr-x 2 jovyan root 4096 Aug 17 07:57 .\n",
      "drwxrwxr-x 6 jovyan root 4096 Aug 23 13:09 ..\n",
      "-rwxr--r-- 1 jovyan root  873 Aug 17 07:57 argparse_example.py\n",
      "-rwxr--r-- 1 jovyan root  101 Aug 17 07:57 cli_args.py\n",
      "-rwxr--r-- 1 jovyan root   58 Aug 17 07:57 hello_world2.py\n",
      "-rw-r--r-- 1 jovyan root   39 Aug 17 07:57 hello_world.py\n",
      "Hello World from the console!\n"
     ]
    }
   ],
   "source": [
    "%%bash\n",
    "ls -la scripts/\n",
    "chmod u+x scripts/hello_world2.py\n",
    "./scripts/hello_world2.py"
   ]
  },
  {
   "cell_type": "markdown",
   "metadata": {},
   "source": [
    "We check what <i>hello_world2.py</i> contained by printing its file content with the command <i>cat</i>:"
   ]
  },
  {
   "cell_type": "code",
   "execution_count": 8,
   "metadata": {},
   "outputs": [
    {
     "name": "stdout",
     "output_type": "stream",
     "text": [
      "#!/usr/bin/python3\n",
      "print(\"Hello World from the console!\")\n"
     ]
    }
   ],
   "source": [
    "%%bash\n",
    "cat scripts/hello_world2.py"
   ]
  },
  {
   "cell_type": "markdown",
   "metadata": {},
   "source": [
    "## Handling of command-line arguments \n",
    "<br>\n",
    "<font size=\"3\">\n",
    "Very often, it's the case that you'd like to run your Python script, but with slightly different parameters or paths with files to work on. It would be annoying to make the required changes every time in your Python code.<br><br>\n",
    "Luckily, you can easily handle given command-line arguments in Python and work with them in your script. <b>The most basic option is to use the builtin library <i>sys</i> and the provided list <i>argv</i>. If any command-line argument was given to run your Python script, it will appear in <i>argv</i>.%%bash\n",
    "cat scripts/cli_args.py\n",
    "</font>\n",
    "\n",
    "<font size=\"3\">Let's check first the content of the little example script:</font>"
   ]
  },
  {
   "cell_type": "code",
   "execution_count": 9,
   "metadata": {},
   "outputs": [
    {
     "name": "stdout",
     "output_type": "stream",
     "text": [
      "#!/usr/bin/python3\n",
      "\n",
      "import sys\n",
      "\n",
      "print(\"I got the following command-line arguments:\")\n",
      "print(sys.argv)\n"
     ]
    }
   ],
   "source": [
    "%%bash\n",
    "cat scripts/cli_args.py"
   ]
  },
  {
   "cell_type": "markdown",
   "metadata": {},
   "source": [
    "Then we run it giving various command-line arguments:"
   ]
  },
  {
   "cell_type": "code",
   "execution_count": 10,
   "metadata": {},
   "outputs": [
    {
     "name": "stdout",
     "output_type": "stream",
     "text": [
      "I got the following command-line arguments:\n",
      "['./scripts/cli_args.py']\n",
      "I got the following command-line arguments:\n",
      "['./scripts/cli_args.py', '--test1']\n",
      "I got the following command-line arguments:\n",
      "['./scripts/cli_args.py', '--test1', '--test2', '--test3']\n"
     ]
    }
   ],
   "source": [
    "%%bash \n",
    "\n",
    "# modifies file permission flags\n",
    "chmod u+x scripts/cli_args.py\n",
    "\n",
    "# run it without any command-line argument\n",
    "./scripts/cli_args.py\n",
    "\n",
    "# run it with one command-line argument\n",
    "./scripts/cli_args.py --test1\n",
    "\n",
    "# run it with multiple command-line arguments\n",
    "./scripts/cli_args.py --test1 --test2 --test3"
   ]
  },
  {
   "cell_type": "markdown",
   "metadata": {},
   "source": [
    "<font size=\"3\">\n",
    "    <b>A more convenient option to handle (define and check) command-line arguments is the module <a href=\"https://docs.python.org/3/library/argparse.html\"><i>argparse</i></a></b>.<br><br> With <i>argparse</i> you can easily define expected mandatory or optional command-line arguments for your scripts with built-in checking of the user input. You can even define nice description and help texts for your parameters to help others to use your scripts later independently.\n",
    "</font>"
   ]
  },
  {
   "cell_type": "code",
   "execution_count": 11,
   "metadata": {},
   "outputs": [
    {
     "name": "stdout",
     "output_type": "stream",
     "text": [
      "#!/usr/bin/python3\n",
      "\n",
      "# import the argparse module\n",
      "import argparse\n",
      "\n",
      "# creating the parser\n",
      "parser = argparse.ArgumentParser(description='Argparse example')\n",
      "\n",
      "# add a command-line argument\n",
      "parser.add_argument('integers', metavar='N', type=int, nargs='+',\n",
      "                   help='integers to sum up')\n",
      "\n",
      "# adds a command-line argument which triggers the summations of the previous integers\n",
      "parser.add_argument('--sum', dest='sum', action='store_const',\n",
      "                   const=sum, default=max,\n",
      "                   help='sums the integers')\n",
      "\n",
      "# invoke parsing (processing) of the arguments\n",
      "args = parser.parse_args()\n",
      "\n",
      "# the processed arguments are stored as attributes in the argparse object !\n",
      "# attributes of object are accessed using the dot-operator.\n",
      "print(\"Content of args.integers:\")\n",
      "print(args.integers)\n",
      "print(\"Result of argument processing:\")\n",
      "print(args.sum(args.integers))\n"
     ]
    }
   ],
   "source": [
    "%%bash\n",
    "\n",
    "# modifies file permission flags\n",
    "chmod u+x scripts/argparse_example.py\n",
    "\n",
    "# list file content\n",
    "cat scripts/argparse_example.py"
   ]
  },
  {
   "cell_type": "markdown",
   "metadata": {},
   "source": [
    "If we now attempt to run the script without command-line arguments, we get an error and argparse gives us a hint what we have done wrong:"
   ]
  },
  {
   "cell_type": "code",
   "execution_count": 12,
   "metadata": {},
   "outputs": [
    {
     "name": "stderr",
     "output_type": "stream",
     "text": [
      "usage: argparse_example.py [-h] [--sum] N [N ...]\n",
      "argparse_example.py: error: the following arguments are required: N\n"
     ]
    },
    {
     "ename": "CalledProcessError",
     "evalue": "Command 'b'./scripts/argparse_example.py\\n'' returned non-zero exit status 2.",
     "output_type": "error",
     "traceback": [
      "\u001b[0;31m---------------------------------------------------------------------------\u001b[0m",
      "\u001b[0;31mCalledProcessError\u001b[0m                        Traceback (most recent call last)",
      "\u001b[0;32m<ipython-input-12-78431bbb72eb>\u001b[0m in \u001b[0;36m<module>\u001b[0;34m\u001b[0m\n\u001b[0;32m----> 1\u001b[0;31m \u001b[0mget_ipython\u001b[0m\u001b[0;34m(\u001b[0m\u001b[0;34m)\u001b[0m\u001b[0;34m.\u001b[0m\u001b[0mrun_cell_magic\u001b[0m\u001b[0;34m(\u001b[0m\u001b[0;34m'bash'\u001b[0m\u001b[0;34m,\u001b[0m \u001b[0;34m''\u001b[0m\u001b[0;34m,\u001b[0m \u001b[0;34m'./scripts/argparse_example.py\\n'\u001b[0m\u001b[0;34m)\u001b[0m\u001b[0;34m\u001b[0m\u001b[0;34m\u001b[0m\u001b[0m\n\u001b[0m",
      "\u001b[0;32m/opt/conda/lib/python3.9/site-packages/IPython/core/interactiveshell.py\u001b[0m in \u001b[0;36mrun_cell_magic\u001b[0;34m(self, magic_name, line, cell)\u001b[0m\n\u001b[1;32m   2401\u001b[0m             \u001b[0;32mwith\u001b[0m \u001b[0mself\u001b[0m\u001b[0;34m.\u001b[0m\u001b[0mbuiltin_trap\u001b[0m\u001b[0;34m:\u001b[0m\u001b[0;34m\u001b[0m\u001b[0;34m\u001b[0m\u001b[0m\n\u001b[1;32m   2402\u001b[0m                 \u001b[0margs\u001b[0m \u001b[0;34m=\u001b[0m \u001b[0;34m(\u001b[0m\u001b[0mmagic_arg_s\u001b[0m\u001b[0;34m,\u001b[0m \u001b[0mcell\u001b[0m\u001b[0;34m)\u001b[0m\u001b[0;34m\u001b[0m\u001b[0;34m\u001b[0m\u001b[0m\n\u001b[0;32m-> 2403\u001b[0;31m                 \u001b[0mresult\u001b[0m \u001b[0;34m=\u001b[0m \u001b[0mfn\u001b[0m\u001b[0;34m(\u001b[0m\u001b[0;34m*\u001b[0m\u001b[0margs\u001b[0m\u001b[0;34m,\u001b[0m \u001b[0;34m**\u001b[0m\u001b[0mkwargs\u001b[0m\u001b[0;34m)\u001b[0m\u001b[0;34m\u001b[0m\u001b[0;34m\u001b[0m\u001b[0m\n\u001b[0m\u001b[1;32m   2404\u001b[0m             \u001b[0;32mreturn\u001b[0m \u001b[0mresult\u001b[0m\u001b[0;34m\u001b[0m\u001b[0;34m\u001b[0m\u001b[0m\n\u001b[1;32m   2405\u001b[0m \u001b[0;34m\u001b[0m\u001b[0m\n",
      "\u001b[0;32m/opt/conda/lib/python3.9/site-packages/IPython/core/magics/script.py\u001b[0m in \u001b[0;36mnamed_script_magic\u001b[0;34m(line, cell)\u001b[0m\n\u001b[1;32m    140\u001b[0m             \u001b[0;32melse\u001b[0m\u001b[0;34m:\u001b[0m\u001b[0;34m\u001b[0m\u001b[0;34m\u001b[0m\u001b[0m\n\u001b[1;32m    141\u001b[0m                 \u001b[0mline\u001b[0m \u001b[0;34m=\u001b[0m \u001b[0mscript\u001b[0m\u001b[0;34m\u001b[0m\u001b[0;34m\u001b[0m\u001b[0m\n\u001b[0;32m--> 142\u001b[0;31m             \u001b[0;32mreturn\u001b[0m \u001b[0mself\u001b[0m\u001b[0;34m.\u001b[0m\u001b[0mshebang\u001b[0m\u001b[0;34m(\u001b[0m\u001b[0mline\u001b[0m\u001b[0;34m,\u001b[0m \u001b[0mcell\u001b[0m\u001b[0;34m)\u001b[0m\u001b[0;34m\u001b[0m\u001b[0;34m\u001b[0m\u001b[0m\n\u001b[0m\u001b[1;32m    143\u001b[0m \u001b[0;34m\u001b[0m\u001b[0m\n\u001b[1;32m    144\u001b[0m         \u001b[0;31m# write a basic docstring:\u001b[0m\u001b[0;34m\u001b[0m\u001b[0;34m\u001b[0m\u001b[0;34m\u001b[0m\u001b[0m\n",
      "\u001b[0;32m/opt/conda/lib/python3.9/site-packages/decorator.py\u001b[0m in \u001b[0;36mfun\u001b[0;34m(*args, **kw)\u001b[0m\n\u001b[1;32m    230\u001b[0m             \u001b[0;32mif\u001b[0m \u001b[0;32mnot\u001b[0m \u001b[0mkwsyntax\u001b[0m\u001b[0;34m:\u001b[0m\u001b[0;34m\u001b[0m\u001b[0;34m\u001b[0m\u001b[0m\n\u001b[1;32m    231\u001b[0m                 \u001b[0margs\u001b[0m\u001b[0;34m,\u001b[0m \u001b[0mkw\u001b[0m \u001b[0;34m=\u001b[0m \u001b[0mfix\u001b[0m\u001b[0;34m(\u001b[0m\u001b[0margs\u001b[0m\u001b[0;34m,\u001b[0m \u001b[0mkw\u001b[0m\u001b[0;34m,\u001b[0m \u001b[0msig\u001b[0m\u001b[0;34m)\u001b[0m\u001b[0;34m\u001b[0m\u001b[0;34m\u001b[0m\u001b[0m\n\u001b[0;32m--> 232\u001b[0;31m             \u001b[0;32mreturn\u001b[0m \u001b[0mcaller\u001b[0m\u001b[0;34m(\u001b[0m\u001b[0mfunc\u001b[0m\u001b[0;34m,\u001b[0m \u001b[0;34m*\u001b[0m\u001b[0;34m(\u001b[0m\u001b[0mextras\u001b[0m \u001b[0;34m+\u001b[0m \u001b[0margs\u001b[0m\u001b[0;34m)\u001b[0m\u001b[0;34m,\u001b[0m \u001b[0;34m**\u001b[0m\u001b[0mkw\u001b[0m\u001b[0;34m)\u001b[0m\u001b[0;34m\u001b[0m\u001b[0;34m\u001b[0m\u001b[0m\n\u001b[0m\u001b[1;32m    233\u001b[0m     \u001b[0mfun\u001b[0m\u001b[0;34m.\u001b[0m\u001b[0m__name__\u001b[0m \u001b[0;34m=\u001b[0m \u001b[0mfunc\u001b[0m\u001b[0;34m.\u001b[0m\u001b[0m__name__\u001b[0m\u001b[0;34m\u001b[0m\u001b[0;34m\u001b[0m\u001b[0m\n\u001b[1;32m    234\u001b[0m     \u001b[0mfun\u001b[0m\u001b[0;34m.\u001b[0m\u001b[0m__doc__\u001b[0m \u001b[0;34m=\u001b[0m \u001b[0mfunc\u001b[0m\u001b[0;34m.\u001b[0m\u001b[0m__doc__\u001b[0m\u001b[0;34m\u001b[0m\u001b[0;34m\u001b[0m\u001b[0m\n",
      "\u001b[0;32m/opt/conda/lib/python3.9/site-packages/IPython/core/magic.py\u001b[0m in \u001b[0;36m<lambda>\u001b[0;34m(f, *a, **k)\u001b[0m\n\u001b[1;32m    185\u001b[0m     \u001b[0;31m# but it's overkill for just that one bit of state.\u001b[0m\u001b[0;34m\u001b[0m\u001b[0;34m\u001b[0m\u001b[0;34m\u001b[0m\u001b[0m\n\u001b[1;32m    186\u001b[0m     \u001b[0;32mdef\u001b[0m \u001b[0mmagic_deco\u001b[0m\u001b[0;34m(\u001b[0m\u001b[0marg\u001b[0m\u001b[0;34m)\u001b[0m\u001b[0;34m:\u001b[0m\u001b[0;34m\u001b[0m\u001b[0;34m\u001b[0m\u001b[0m\n\u001b[0;32m--> 187\u001b[0;31m         \u001b[0mcall\u001b[0m \u001b[0;34m=\u001b[0m \u001b[0;32mlambda\u001b[0m \u001b[0mf\u001b[0m\u001b[0;34m,\u001b[0m \u001b[0;34m*\u001b[0m\u001b[0ma\u001b[0m\u001b[0;34m,\u001b[0m \u001b[0;34m**\u001b[0m\u001b[0mk\u001b[0m\u001b[0;34m:\u001b[0m \u001b[0mf\u001b[0m\u001b[0;34m(\u001b[0m\u001b[0;34m*\u001b[0m\u001b[0ma\u001b[0m\u001b[0;34m,\u001b[0m \u001b[0;34m**\u001b[0m\u001b[0mk\u001b[0m\u001b[0;34m)\u001b[0m\u001b[0;34m\u001b[0m\u001b[0;34m\u001b[0m\u001b[0m\n\u001b[0m\u001b[1;32m    188\u001b[0m \u001b[0;34m\u001b[0m\u001b[0m\n\u001b[1;32m    189\u001b[0m         \u001b[0;32mif\u001b[0m \u001b[0mcallable\u001b[0m\u001b[0;34m(\u001b[0m\u001b[0marg\u001b[0m\u001b[0;34m)\u001b[0m\u001b[0;34m:\u001b[0m\u001b[0;34m\u001b[0m\u001b[0;34m\u001b[0m\u001b[0m\n",
      "\u001b[0;32m/opt/conda/lib/python3.9/site-packages/IPython/core/magics/script.py\u001b[0m in \u001b[0;36mshebang\u001b[0;34m(self, line, cell)\u001b[0m\n\u001b[1;32m    243\u001b[0m             \u001b[0msys\u001b[0m\u001b[0;34m.\u001b[0m\u001b[0mstderr\u001b[0m\u001b[0;34m.\u001b[0m\u001b[0mflush\u001b[0m\u001b[0;34m(\u001b[0m\u001b[0;34m)\u001b[0m\u001b[0;34m\u001b[0m\u001b[0;34m\u001b[0m\u001b[0m\n\u001b[1;32m    244\u001b[0m         \u001b[0;32mif\u001b[0m \u001b[0margs\u001b[0m\u001b[0;34m.\u001b[0m\u001b[0mraise_error\u001b[0m \u001b[0;32mand\u001b[0m \u001b[0mp\u001b[0m\u001b[0;34m.\u001b[0m\u001b[0mreturncode\u001b[0m\u001b[0;34m!=\u001b[0m\u001b[0;36m0\u001b[0m\u001b[0;34m:\u001b[0m\u001b[0;34m\u001b[0m\u001b[0;34m\u001b[0m\u001b[0m\n\u001b[0;32m--> 245\u001b[0;31m             \u001b[0;32mraise\u001b[0m \u001b[0mCalledProcessError\u001b[0m\u001b[0;34m(\u001b[0m\u001b[0mp\u001b[0m\u001b[0;34m.\u001b[0m\u001b[0mreturncode\u001b[0m\u001b[0;34m,\u001b[0m \u001b[0mcell\u001b[0m\u001b[0;34m,\u001b[0m \u001b[0moutput\u001b[0m\u001b[0;34m=\u001b[0m\u001b[0mout\u001b[0m\u001b[0;34m,\u001b[0m \u001b[0mstderr\u001b[0m\u001b[0;34m=\u001b[0m\u001b[0merr\u001b[0m\u001b[0;34m)\u001b[0m\u001b[0;34m\u001b[0m\u001b[0;34m\u001b[0m\u001b[0m\n\u001b[0m\u001b[1;32m    246\u001b[0m \u001b[0;34m\u001b[0m\u001b[0m\n\u001b[1;32m    247\u001b[0m     \u001b[0;32mdef\u001b[0m \u001b[0m_run_script\u001b[0m\u001b[0;34m(\u001b[0m\u001b[0mself\u001b[0m\u001b[0;34m,\u001b[0m \u001b[0mp\u001b[0m\u001b[0;34m,\u001b[0m \u001b[0mcell\u001b[0m\u001b[0;34m,\u001b[0m \u001b[0mto_close\u001b[0m\u001b[0;34m)\u001b[0m\u001b[0;34m:\u001b[0m\u001b[0;34m\u001b[0m\u001b[0;34m\u001b[0m\u001b[0m\n",
      "\u001b[0;31mCalledProcessError\u001b[0m: Command 'b'./scripts/argparse_example.py\\n'' returned non-zero exit status 2."
     ]
    }
   ],
   "source": [
    "%%bash\n",
    "./scripts/argparse_example.py"
   ]
  },
  {
   "cell_type": "markdown",
   "metadata": {},
   "source": [
    "Argparse provides a nice help function when the argument *-h%%bash\n",
    "./scripts/argparse_example.py -h* is used:"
   ]
  },
  {
   "cell_type": "code",
   "execution_count": 13,
   "metadata": {},
   "outputs": [
    {
     "name": "stdout",
     "output_type": "stream",
     "text": [
      "usage: argparse_example.py [-h] [--sum] N [N ...]\n",
      "\n",
      "Argparse example\n",
      "\n",
      "positional arguments:\n",
      "  N           integers to sum up\n",
      "\n",
      "optional arguments:\n",
      "  -h, --help  show this help message and exit\n",
      "  --sum       sums the integers\n"
     ]
    }
   ],
   "source": [
    "%%bash\n",
    "./scripts/argparse_example.py -h"
   ]
  },
  {
   "cell_type": "code",
   "execution_count": 14,
   "metadata": {},
   "outputs": [
    {
     "name": "stdout",
     "output_type": "stream",
     "text": [
      "Content of args.integers:\n",
      "[1, 2, 3]\n",
      "Result of argument processing:\n",
      "6\n"
     ]
    }
   ],
   "source": [
    "%%bash\n",
    "./scripts/argparse_example.py 1 2 3 --sum"
   ]
  },
  {
   "cell_type": "markdown",
   "metadata": {},
   "source": [
    "<font size=\"3\"><div class=\"alert alert-block alert-success\"><b>Exercise:</b> Write your own script evaluating command-line arguments and run it on the command-line yourself. Either simply use the builtin <i>os.argv</i> variable or use the <i>argparse</i> module if you feel already comfortable enough.<br><br>\n",
    "<b>Simply create a new Python script locally using a text editor or within the Spyder IDE (which is part of the Anaconda distribution) and upload it in the subfolder scripts (or elsewhere and modify then the file path).</b>\n",
    "</div>\n",
    "    \n",
    "<b>Try to run it yourself here:</b></font>"
   ]
  },
  {
   "cell_type": "code",
   "execution_count": null,
   "metadata": {},
   "outputs": [],
   "source": [
    "%%bash\n",
    "# replace \"your_script\" with your filename, may also change the file path\n",
    "chmod u+x scripts/your_script.py\n",
    "./scripts/your_script.py"
   ]
  },
  {
   "cell_type": "markdown",
   "metadata": {},
   "source": [
    "<br><br><br>\n",
    "## Importing Modules and Namespaces\n",
    "\n",
    "Structuring the code in functions which can be easily reused and maintained is the first step to achieve cleaner and leaner code. Nevertheless, in big Python projects, it would result in not really well readable code and collaborating on a common project would be difficult, if all the code would be in one single file. Nowadays Python projects are therefore organised in modules, allowing to distribute parts of the code over multiple files as well. We have already imported modules/packages several times to use standard or 3rd party functions in the examples. \n",
    "    \n",
    "The figure below shows an exemplaric project directory structure organized in modules and submodules:\n",
    "    \n",
    "<div align=\"center\">\n",
    "    <img src=\"img/absolute-import.jpg\" width=\"40%\">\n",
    "</div>\n",
    "\n",
    "<font size=\"2\"><i>Source: <a href=\"https://www.geeksforgeeks.org/absolute-and-relative-imports-in-python/\">https://www.geeksforgeeks.org/absolute-and-relative-imports-in-python/</a></i></font>\n",
    "<br><br>\n",
    "\n",
    "**In order to use an existing (3rd party) module in your new script or project, you need to import the module using**\n",
    "    \n",
    "`import module_name`\n",
    "    \n",
    "**or define a shorter alias for the module name, if it is too long when used in the code:**\n",
    "    \n",
    "`import module_name as alias`\n",
    "\n",
    "**You can also import a specific class or function from module:**\n",
    "\n",
    "`from module_name import function_name`\n",
    "\n",
    "`from module_name import function_name as alias`\n",
    "\n",
    "**You can also further specifiy an *absolute path* to the submodule (or the file) to import a specific class or function from:**\n",
    "\n",
    "`from module_name.submodule_name.file_name import function_name`\n",
    "\n",
    "Related to the project structure above, we could use the statement:\n",
    "\n",
    "`from pkg2.subpkg1.module5 import fun3`\n",
    "\n",
    "to specify an *absolute import* path. However, absolute imports are discouraged to use when the directory structure is very large.\n",
    "\n",
    "A relative import with respect to the project structure in the figure above may be defined using\n",
    "\n",
    "`from .subpkg1.module5 import fun3`\n",
    "    \n",
    "The best practice in Python regarding imports can be found in the official Python style guide <a href=\"https://www.python.org/dev/peps/pep-0008/#imports\">PEP8</a>. \n",
    "\n",
    "The most important best practices are:\n",
    "\n",
    "- import statements should be located at the beginning of your script.\n",
    "- import statements should be sorted in alphabetical order for their module names.\n",
    "- standard library imports before 3rd party imports.\n",
    "\n",
    "### Examples:"
   ]
  },
  {
   "cell_type": "code",
   "execution_count": 16,
   "metadata": {},
   "outputs": [],
   "source": [
    "# standard library imports first\n",
    "# use for each import a new line\n",
    "import math\n",
    "import os\n",
    "\n",
    "# the most popular example to use numpy\n",
    "# imports numpy and sets the namespace to the alias \"np\"\n",
    "# the module content is then accessible via the alias\n",
    "import numpy as np\n",
    "\n",
    "# the most popular example to plot/visualize data\n",
    "from matplotlib import pyplot as plt\n",
    "\n",
    "# import specific class from module\n",
    "from tqdm import tqdm"
   ]
  },
  {
   "cell_type": "markdown",
   "metadata": {},
   "source": [
    "<font size=\"3\"><b>You can check the path, version and short documentation of a module using the module attributes:</b></font>"
   ]
  },
  {
   "cell_type": "code",
   "execution_count": 30,
   "metadata": {},
   "outputs": [
    {
     "name": "stdout",
     "output_type": "stream",
     "text": [
      "1.19.5\n",
      "['/opt/conda/lib/python3.9/site-packages/numpy']\n",
      "\n",
      "NumPy\n",
      "=====\n",
      "\n",
      "Provides\n",
      "  1. An array object of arbitrary homogeneous items\n",
      "  2. Fast mathematical operations over arrays\n",
      "  3. Linear Algebra, Fourier Transforms, Random Number Generation\n",
      "\n",
      "How to use t ... (more text follows) ...\n"
     ]
    }
   ],
   "source": [
    "# the hidden attribute __version__ contains the module version\n",
    "print(np.__version__)\n",
    "# the hidden attribute __path__ contains the module path or location\n",
    "print(np.__path__)\n",
    "# the hidden attribute __doc__ contains a short documentation\n",
    "# or description of the module, the so-called docstring\n",
    "print(np.__doc__[:200], \"... (more text follows) ...\")"
   ]
  },
  {
   "cell_type": "markdown",
   "metadata": {},
   "source": [
    "You can also import your own modules (python files):"
   ]
  },
  {
   "cell_type": "code",
   "execution_count": 2,
   "metadata": {},
   "outputs": [
    {
     "name": "stdout",
     "output_type": "stream",
     "text": [
      "Hello World from your module!\n"
     ]
    }
   ],
   "source": [
    "from scripts import hello_world3 as hw3 #scripts is a folder in our local directory structure\n",
    "\n",
    "hw3.useful_function()"
   ]
  },
  {
   "cell_type": "markdown",
   "metadata": {},
   "source": [
    "<div class=\"alert alert-block alert-success\"><b>Exercise:</b> Implement a simple pipeline called <i>hash</i> consisting of 3 functions that modify a user input (a string). Each function should be in its own module (python file) and the files should be imported here. Think about arguments and return values of each function. \n",
    "<br>\n",
    "The 3 stand-alone functions should do:\n",
    "    \n",
    "<ol type = \"1\">\n",
    "<li>Convert all characters in the string to upper case. Return the capitalized string.</li>\n",
    "<li>Replace all characters with their respective ASCII code (function <i>ord</i>). Return a list of numbers.</li>\n",
    "<li>Sum up all numbers in the list and return the result.</li>\n",
    "</ol>\n",
    "\n",
    "Name the 3 modules appropriately according to their roles. For example:\n",
    "\n",
    "<ol type = \"1\">\n",
    "<li>stringmod.py - Contains functions that modify strings in very specific ways.</li>\n",
    "<li>convert.py - Contains functions that convert strings to other things that might be useful or not.</li>\n",
    "<li>mymath.py - Contains simple arithmetric functions that operate on lists.</li>\n",
    "</ol>\n",
    "    \n",
    "Try to use list comprehension and other things you already learned to keep your code as short as possible.\n",
    "</div>"
   ]
  },
  {
   "cell_type": "code",
   "execution_count": 4,
   "metadata": {},
   "outputs": [],
   "source": [
    "#YOUR imports here\n",
    "\n",
    "user_string = \"I don't have enough € for this coffee!!\"\n",
    "\n",
    "#YOUR CODE HERE"
   ]
  },
  {
   "cell_type": "code",
   "execution_count": 5,
   "metadata": {},
   "outputs": [
    {
     "name": "stdout",
     "output_type": "stream",
     "text": [
      "User string: I don't have enough € for this coffee!!\n",
      "Upper case: I DON'T HAVE ENOUGH € FOR THIS COFFEE!!\n",
      "Codes: [73, 32, 68, 79, 78, 39, 84, 32, 72, 65, 86, 69, 32, 69, 78, 79, 85, 71, 72, 32, 8364, 32, 70, 79, 82, 32, 84, 72, 73, 83, 32, 67, 79, 70, 70, 69, 69, 33, 33]\n",
      "Sum: 10788\n"
     ]
    }
   ],
   "source": [
    "#example solution\n",
    "def stringmod(s):\n",
    "    s_mod = \"\".join([c.upper() for c in s])\n",
    "    return s_mod\n",
    "\n",
    "def convert(s):\n",
    "    return [ord(c) for c in s]\n",
    "\n",
    "def my_sum(L):\n",
    "    return sum(L)\n",
    "\n",
    "s_mod = stringmod(user_string)\n",
    "L = convert(s_mod)\n",
    "x = my_sum(L)\n",
    "\n",
    "print(\"User string:\", user_string)\n",
    "print(\"Upper case:\", s_mod)\n",
    "print(\"Codes:\", L)\n",
    "print(\"Sum:\", x)"
   ]
  },
  {
   "cell_type": "markdown",
   "metadata": {},
   "source": [
    "<br><br><br>\n",
    "## Some popular Python Libraries (3rd party Modules)\n",
    "\n",
    "\n",
    "Let's take a look at the most popular Python libraries which you will use yourself sooner that later. Each library is accompanied by a minimal piece of code just to give you an idea of what you can do with it.\n",
    "\n",
    "### Numpy \n",
    "\n",
    "<a href=\"https://numpy.org/\">Numpy</a> is one of the most widely used Python libraries. It offers fast handling and efficient storage of bigger amounts of numerical data in numpy arrays as well as a variety of useful arithmetric functions and utility to readin various data file formats."
   ]
  },
  {
   "cell_type": "code",
   "execution_count": 13,
   "metadata": {},
   "outputs": [],
   "source": [
    "import numpy as np\n",
    "\n",
    "X = np.random.rand(10000, 10000) #many numbers\n",
    "Y = np.random.rand(10000, 10000) #more numbers\n",
    "\n",
    "S = X + Y #summing them in no time\n",
    "M = np.amax(S) #computing the maximum in no time"
   ]
  },
  {
   "cell_type": "code",
   "execution_count": 14,
   "metadata": {},
   "outputs": [],
   "source": [
    "#summing naively with loops takes much longer\n",
    "S = np.zeros_like(X)\n",
    "for i in range(10000):\n",
    "    for j in range(10000):\n",
    "        S[i,j] = X[i,j] + Y[i,j]"
   ]
  },
  {
   "cell_type": "code",
   "execution_count": 15,
   "metadata": {},
   "outputs": [],
   "source": [
    "del X,Y,S #free memory, just because these arrays are so lange and so pointless, you normally don't have to do this"
   ]
  },
  {
   "cell_type": "markdown",
   "metadata": {},
   "source": [
    "### Matplotlib and seaborn\n",
    "<a href=\"https://matplotlib.org/\">Matplotlib</a> is the most common Python library for data visualization. The library <a href=\"https://seaborn.pydata.org/\">seaborn</a> builds on matplotlib and offers more beautiful plots and more sophisticated plot types for statistics."
   ]
  },
  {
   "cell_type": "code",
   "execution_count": 16,
   "metadata": {},
   "outputs": [
    {
     "data": {
      "image/png": "[encoded data removed]",
      "text/plain": [
       "<Figure size 432x288 with 1 Axes>"
      ]
     },
     "metadata": {
      "needs_background": "light"
     },
     "output_type": "display_data"
    }
   ],
   "source": [
    "import matplotlib.pyplot as plt\n",
    "import numpy as np\n",
    "\n",
    "t = np.arange(0.0, 2.0, 0.01)\n",
    "s = 1 + np.sin(2*np.pi*t)\n",
    "plt.plot(t, s)\n",
    "\n",
    "plt.xlabel('time (s)')\n",
    "plt.ylabel('voltage (mV)')\n",
    "plt.title('About as simple as it gets, folks')\n",
    "plt.grid(True)\n",
    "plt.savefig(\"test.png\")\n",
    "plt.show()"
   ]
  },
  {
   "cell_type": "code",
   "execution_count": 17,
   "metadata": {},
   "outputs": [
    {
     "data": {
      "text/plain": [
       "<AxesSubplot:xlabel='carat', ylabel='price'>"
      ]
     },
     "execution_count": 17,
     "metadata": {},
     "output_type": "execute_result"
    },
    {
     "data": {
      "image/png": "[encoded data removed]",
      "text/plain": [
       "<Figure size 468x468 with 1 Axes>"
      ]
     },
     "metadata": {},
     "output_type": "display_data"
    }
   ],
   "source": [
    "import seaborn as sns\n",
    "import matplotlib.pyplot as plt\n",
    "sns.set_theme(style=\"whitegrid\")\n",
    "\n",
    "# Load the example diamonds dataset\n",
    "diamonds = sns.load_dataset(\"diamonds\")\n",
    "\n",
    "# Draw a scatter plot while assigning point colors and sizes to different\n",
    "# variables in the dataset\n",
    "f, ax = plt.subplots(figsize=(6.5, 6.5))\n",
    "sns.despine(f, left=True, bottom=True)\n",
    "clarity_ranking = [\"I1\", \"SI2\", \"SI1\", \"VS2\", \"VS1\", \"VVS2\", \"VVS1\", \"IF\"]\n",
    "sns.scatterplot(x=\"carat\", y=\"price\",\n",
    "                hue=\"clarity\", size=\"depth\",\n",
    "                palette=\"ch:r=-.2,d=.3_r\",\n",
    "                hue_order=clarity_ranking,\n",
    "                sizes=(1, 8), linewidth=0,\n",
    "                data=diamonds, ax=ax)"
   ]
  },
  {
   "cell_type": "markdown",
   "metadata": {},
   "source": [
    "### Pandas\n",
    "<a href=\"https://pandas.pydata.org/\">Pandas</a> is a library for chart data visualization and also for analysis and handling of large amounts of data. It became most popular for time series analysis."
   ]
  },
  {
   "cell_type": "code",
   "execution_count": 22,
   "metadata": {},
   "outputs": [
    {
     "data": {
      "text/html": [
       "<div>\n",
       "<style scoped>\n",
       "    .dataframe tbody tr th:only-of-type {\n",
       "        vertical-align: middle;\n",
       "    }\n",
       "\n",
       "    .dataframe tbody tr th {\n",
       "        vertical-align: top;\n",
       "    }\n",
       "\n",
       "    .dataframe thead th {\n",
       "        text-align: right;\n",
       "    }\n",
       "</style>\n",
       "<table border=\"1\" class=\"dataframe\">\n",
       "  <thead>\n",
       "    <tr style=\"text-align: right;\">\n",
       "      <th></th>\n",
       "      <th>col1</th>\n",
       "      <th>col2</th>\n",
       "      <th>col3</th>\n",
       "    </tr>\n",
       "  </thead>\n",
       "  <tbody>\n",
       "    <tr>\n",
       "      <th>0</th>\n",
       "      <td>1</td>\n",
       "      <td>3</td>\n",
       "      <td>A</td>\n",
       "    </tr>\n",
       "    <tr>\n",
       "      <th>1</th>\n",
       "      <td>2</td>\n",
       "      <td>4</td>\n",
       "      <td>B</td>\n",
       "    </tr>\n",
       "    <tr>\n",
       "      <th>2</th>\n",
       "      <td>9</td>\n",
       "      <td>4</td>\n",
       "      <td>C</td>\n",
       "    </tr>\n",
       "    <tr>\n",
       "      <th>3</th>\n",
       "      <td>-17</td>\n",
       "      <td>1000</td>\n",
       "      <td>D</td>\n",
       "    </tr>\n",
       "  </tbody>\n",
       "</table>\n",
       "</div>"
      ],
      "text/plain": [
       "   col1  col2 col3\n",
       "0     1     3    A\n",
       "1     2     4    B\n",
       "2     9     4    C\n",
       "3   -17  1000    D"
      ]
     },
     "execution_count": 22,
     "metadata": {},
     "output_type": "execute_result"
    }
   ],
   "source": [
    "import pandas as pd\n",
    "\n",
    "d = {'col1': [1, 2, 9, -17], 'col2': [3, 4, 4, 1000], 'col3': [\"A\", \"B\", \"C\", \"D\"]}\n",
    "\n",
    "pd.DataFrame(data=d)"
   ]
  },
  {
   "cell_type": "markdown",
   "metadata": {},
   "source": [
    "### Scipy\n",
    "<a href=\"https://www.scipy.org/\">Scipy</a> is a general purpose library for science and engineering offering mostly functionalities for signal analysis, filtering and regression."
   ]
  },
  {
   "cell_type": "code",
   "execution_count": 26,
   "metadata": {},
   "outputs": [
    {
     "data": {
      "image/png": "[encoded data removed]",
      "text/plain": [
       "<Figure size 432x288 with 1 Axes>"
      ]
     },
     "metadata": {},
     "output_type": "display_data"
    }
   ],
   "source": [
    "# preprocessing e.g. for machine learning\n",
    "# just one of the more illustrative example for many different things you can do with scipy\n",
    "from scipy import ndimage, misc\n",
    "from matplotlib import pyplot as plt\n",
    "panda = misc.face()\n",
    "#rotatation function of scipy for image – image rotated 135 degree\n",
    "panda_rotate = ndimage.rotate(panda, 135)\n",
    "plt.imshow(panda_rotate)\n",
    "plt.show()"
   ]
  },
  {
   "cell_type": "markdown",
   "metadata": {},
   "source": [
    "### Statsmodels\n",
    "As the name implies, the library <a href=\"https://www.statsmodels.org/\">Statsmodels</a> offers a big variety of statistical models and tests for your data."
   ]
  },
  {
   "cell_type": "code",
   "execution_count": 30,
   "metadata": {},
   "outputs": [
    {
     "name": "stdout",
     "output_type": "stream",
     "text": [
      "                            OLS Regression Results                            \n",
      "==============================================================================\n",
      "Dep. Variable:                Lottery   R-squared:                       0.348\n",
      "Model:                            OLS   Adj. R-squared:                  0.333\n",
      "Method:                 Least Squares   F-statistic:                     22.20\n",
      "Date:                Sat, 27 Aug 2022   Prob (F-statistic):           1.90e-08\n",
      "Time:                        06:57:53   Log-Likelihood:                -379.82\n",
      "No. Observations:                  86   AIC:                             765.6\n",
      "Df Residuals:                      83   BIC:                             773.0\n",
      "Df Model:                           2                                         \n",
      "Covariance Type:            nonrobust                                         \n",
      "===================================================================================\n",
      "                      coef    std err          t      P>|t|      [0.025      0.975]\n",
      "-----------------------------------------------------------------------------------\n",
      "Intercept         246.4341     35.233      6.995      0.000     176.358     316.510\n",
      "Literacy           -0.4889      0.128     -3.832      0.000      -0.743      -0.235\n",
      "np.log(Pop1831)   -31.3114      5.977     -5.239      0.000     -43.199     -19.424\n",
      "==============================================================================\n",
      "Omnibus:                        3.713   Durbin-Watson:                   2.019\n",
      "Prob(Omnibus):                  0.156   Jarque-Bera (JB):                3.394\n",
      "Skew:                          -0.487   Prob(JB):                        0.183\n",
      "Kurtosis:                       3.003   Cond. No.                         702.\n",
      "==============================================================================\n",
      "\n",
      "Notes:\n",
      "[1] Standard Errors assume that the covariance matrix of the errors is correctly specified.\n"
     ]
    }
   ],
   "source": [
    "import numpy as np\n",
    "import statsmodels.api as sm\n",
    "import statsmodels.formula.api as smf\n",
    "\n",
    "# Load data\n",
    "dat = sm.datasets.get_rdataset(\"Guerry\", \"HistData\").data\n",
    "\n",
    "# Fit regression model (using the natural log of one of the regressors)\n",
    "results = smf.ols('Lottery ~ Literacy + np.log(Pop1831)', data=dat).fit()\n",
    "\n",
    "# Inspect the results\n",
    "print(results.summary())"
   ]
  },
  {
   "cell_type": "markdown",
   "metadata": {},
   "source": [
    "### Tensorflow\n",
    "<a href=\"https://www.tensorflow.org/\">Tensorflow</a> is the most popular machine learning library developed mostly by Google besides the competing <a href=\"https://pytorch.org/\">pytorch</a> by Facebook. It is popular for its automatic differentiation feature which lets you specify arbitrary models instead of just predefined ones like in statsmodels."
   ]
  },
  {
   "cell_type": "code",
   "execution_count": null,
   "metadata": {},
   "outputs": [],
   "source": [
    "import tensorflow as tf\n",
    "\n",
    "#load your data\n",
    "mnist = tf.keras.datasets.mnist\n",
    "\n",
    "(x_train, y_train), (x_test, y_test) = mnist.load_data()\n",
    "x_train, x_test = x_train / 255.0, x_test / 255.0\n",
    "\n",
    "#define a creative (and useful) model\n",
    "model = tf.keras.models.Sequential([\n",
    "  tf.keras.layers.Flatten(input_shape=(28, 28)),\n",
    "  tf.keras.layers.Dense(128, activation='relu'),\n",
    "  tf.keras.layers.Dropout(0.2),\n",
    "  tf.keras.layers.Dense(10)\n",
    "])\n",
    "\n",
    "#train the model\n",
    "model.compile(optimizer='adam',\n",
    "              loss=tf.keras.losses.SparseCategoricalCrossentropy(from_logits=True),\n",
    "              metrics=['accuracy'])\n",
    "model.fit(x_train, y_train, epochs=5)"
   ]
  },
  {
   "cell_type": "markdown",
   "metadata": {},
   "source": [
    "### Requests\n",
    "\n",
    "There are many other non scitific fields with very useful libraries like <a href=\"https://www.tensorflow.org/\">Requests</a>, which lets you send http requests using python. "
   ]
  },
  {
   "cell_type": "code",
   "execution_count": 45,
   "metadata": {},
   "outputs": [
    {
     "name": "stdout",
     "output_type": "stream",
     "text": [
      "<Response [200]>\n",
      "FelixBecker\n",
      "2016-06-20T13:28:07Z\n",
      "False\n",
      "16\n"
     ]
    }
   ],
   "source": [
    "import requests\n",
    "   \n",
    "# Making a GET request - let's hack my github account\n",
    "r = requests.get('https://api.github.com/users/felbecker')\n",
    "  \n",
    "# check status code for response received\n",
    "# success code - 200\n",
    "print(r)\n",
    "  \n",
    "# print content of request\n",
    "print(r.json()[\"name\"])\n",
    "print(r.json()[\"created_at\"])\n",
    "print(r.json()[\"site_admin\"])\n",
    "print(r.json()[\"public_repos\"])"
   ]
  },
  {
   "cell_type": "markdown",
   "metadata": {},
   "source": [
    "## How to list installed modules and install new modules in Python\n",
    "\n",
    "Often you would like to use the functionality of a 3rd-party module, but the module is not installed (this may not be the case for the above libraries as we use a jupyter image with preinstalled packages).\n",
    "\n",
    "In most Python environments, a package manager is used to administer the installed modules. \n",
    "\n",
    "In most cases, this is either <a href=\"https://docs.python.org/3/installing/index.html\">pip</a> or if you use the Anaconda environment, it will be <a href=\"\">conda</a> and pip.\n",
    "\n",
    "`pip` (Package Installer for Python) downloads and installs packages and their dependencies from the Python Package Index (PyPI). Everyone can contribute their packages to PyPI and make them available for others.\n",
    "\n",
    "`conda` is an open source package management system and environment management system that runs on Windows, macOS, Linux and z/OS. It is not limited to Python and installs pre-build packages. \n",
    "\n",
    "**In order to check which modules are installed (in your current virtual environment), you can use the command:**\n",
    "\n",
    "`pip list` or `conda list`\n",
    "\n",
    "on the command-line prompt in a console or in a cell:"
   ]
  },
  {
   "cell_type": "code",
   "execution_count": 46,
   "metadata": {},
   "outputs": [
    {
     "name": "stdout",
     "output_type": "stream",
     "text": [
      "# packages in environment at /opt/conda:\n",
      "#\n",
      "# Name                    Version                   Build  Channel\n",
      "_libgcc_mutex             0.1                 conda_forge    conda-forge\n",
      "_openmp_mutex             4.5                       1_gnu    conda-forge\n",
      "_r-mutex                  1.0.1               anacondar_1    conda-forge\n",
      "absl-py                   0.12.0                   pypi_0    pypi\n",
      "alembic                   1.6.5              pyhd8ed1ab_0    conda-forge\n",
      "alsa-lib                  1.2.3                h516909a_0    conda-forge\n",
      "anyio                     3.1.0            py39hf3d152e_0    conda-forge\n",
      "appdirs                   1.4.4              pyh9f0ad1d_0    conda-forge\n",
      "argon2-cffi               20.1.0           py39h3811e60_2    conda-forge\n",
      "astunparse                1.6.3                    pypi_0    pypi\n",
      "async_generator           1.10                       py_0    conda-forge\n",
      "attrs                     21.2.0             pyhd8ed1ab_0    conda-forge\n",
      "babel                     2.9.1              pyh44b312d_0    conda-forge\n",
      "backcall                  0.2.0              pyh9f0ad1d_0    conda-forge\n",
      "backports                 1.0                        py_2    conda-forge\n",
      "backports.functools_lru_cache 1.6.4              pyhd8ed1ab_0    conda-forge\n",
      "beautifulsoup4            4.9.3              pyhb0f4dca_0    conda-forge\n",
      "binutils_impl_linux-64    2.35.1               h193b22a_2    conda-forge\n",
      "binutils_linux-64         2.35                h67ddf6f_30    conda-forge\n",
      "biopython                 1.78             py39h3811e60_2    conda-forge\n",
      "blas                      1.1                    openblas    conda-forge\n",
      "bleach                    3.3.0              pyh44b312d_0    conda-forge\n",
      "blinker                   1.4                        py_1    conda-forge\n",
      "blosc                     1.21.0               h9c3ff4c_0    conda-forge\n",
      "bokeh                     2.3.2            py39hf3d152e_0    conda-forge\n",
      "bottleneck                1.3.2            py39hce5d2b2_3    conda-forge\n",
      "brotli                    1.0.9                h9c3ff4c_4    conda-forge\n",
      "brotlipy                  0.7.0           py39h3811e60_1001    conda-forge\n",
      "brunsli                   0.1                  h9c3ff4c_0    conda-forge\n",
      "bwidget                   1.9.14               ha770c72_0    conda-forge\n",
      "bzip2                     1.0.8                h7f98852_4    conda-forge\n",
      "c-ares                    1.17.1               h7f98852_1    conda-forge\n",
      "ca-certificates           2021.5.30            ha878542_0    conda-forge\n",
      "cached-property           1.5.2                hd8ed1ab_1    conda-forge\n",
      "cached_property           1.5.2              pyha770c72_1    conda-forge\n",
      "cachetools                4.2.2                    pypi_0    pypi\n",
      "cairo                     1.16.0            h6cf1ce9_1008    conda-forge\n",
      "certifi                   2021.5.30        py39hf3d152e_0    conda-forge\n",
      "certipy                   0.1.3                      py_0    conda-forge\n",
      "cffi                      1.14.5           py39he32792d_0    conda-forge\n",
      "chardet                   4.0.0            py39hf3d152e_1    conda-forge\n",
      "charls                    2.2.0                h9c3ff4c_0    conda-forge\n",
      "click                     7.1.2              pyh9f0ad1d_0    conda-forge\n",
      "cloudpickle               1.6.0                      py_0    conda-forge\n",
      "colorcet                  2.0.6              pyhd8ed1ab_0    conda-forge\n",
      "conda                     4.10.1           py39hf3d152e_0    conda-forge\n",
      "conda-package-handling    1.7.3            py39h3811e60_0    conda-forge\n",
      "configurable-http-proxy   4.4.0           node15_he6ea98c_0    conda-forge\n",
      "cryptography              3.4.7            py39hbca0aa6_0    conda-forge\n",
      "curl                      7.76.1               h979ede3_1    conda-forge\n",
      "cycler                    0.10.0                     py_2    conda-forge\n",
      "cython                    0.29.23          py39he80948d_0    conda-forge\n",
      "cytoolz                   0.11.0           py39h3811e60_3    conda-forge\n",
      "dask                      2021.4.1           pyhd8ed1ab_0    conda-forge\n",
      "dask-core                 2021.4.1           pyhd8ed1ab_0    conda-forge\n",
      "dbus                      1.13.6               h48d8840_2    conda-forge\n",
      "decorator                 5.0.9              pyhd8ed1ab_0    conda-forge\n",
      "defusedxml                0.7.1              pyhd8ed1ab_0    conda-forge\n",
      "dill                      0.3.3              pyhd8ed1ab_0    conda-forge\n",
      "distributed               2021.4.1         py39hf3d152e_1    conda-forge\n",
      "entrypoints               0.3             pyhd8ed1ab_1003    conda-forge\n",
      "expat                     2.4.1                h9c3ff4c_0    conda-forge\n",
      "ffmpeg                    4.3.1                hca11adc_2    conda-forge\n",
      "flatbuffers               1.12                     pypi_0    pypi\n",
      "font-ttf-dejavu-sans-mono 2.37                 hab24e00_0    conda-forge\n",
      "font-ttf-inconsolata      3.000                h77eed37_0    conda-forge\n",
      "font-ttf-source-code-pro  2.038                h77eed37_0    conda-forge\n",
      "font-ttf-ubuntu           0.83                 hab24e00_0    conda-forge\n",
      "fontconfig                2.13.1            hba837de_1005    conda-forge\n",
      "fonts-conda-ecosystem     1                             0    conda-forge\n",
      "fonts-conda-forge         1                             0    conda-forge\n",
      "freetype                  2.10.4               h0708190_1    conda-forge\n",
      "fribidi                   1.0.10               h36c2ea0_0    conda-forge\n",
      "fsspec                    2021.5.0           pyhd8ed1ab_0    conda-forge\n",
      "gast                      0.4.0                    pypi_0    pypi\n",
      "gcc_impl_linux-64         9.3.0               h70c0ae5_19    conda-forge\n",
      "gcc_linux-64              9.3.0               hf25ea35_30    conda-forge\n",
      "gettext                   0.19.8.1          h0b5b191_1005    conda-forge\n",
      "gfortran_impl_linux-64    9.3.0               hc4a2995_19    conda-forge\n",
      "gfortran_linux-64         9.3.0               hdc58fab_30    conda-forge\n",
      "giflib                    5.2.1                h36c2ea0_2    conda-forge\n",
      "glib                      2.68.2               h9c3ff4c_1    conda-forge\n",
      "glib-tools                2.68.2               h9c3ff4c_1    conda-forge\n",
      "gmp                       6.2.1                h58526e2_0    conda-forge\n",
      "gmpy2                     2.1.0b1          py39hf9ed83c_1    conda-forge\n",
      "gnutls                    3.6.13               h85f3911_1    conda-forge\n",
      "google-auth               1.30.1                   pypi_0    pypi\n",
      "google-auth-oauthlib      0.4.4                    pypi_0    pypi\n",
      "google-pasta              0.2.0                    pypi_0    pypi\n",
      "graphite2                 1.3.13            h58526e2_1001    conda-forge\n",
      "greenlet                  1.1.0            py39he80948d_0    conda-forge\n",
      "grpcio                    1.34.1                   pypi_0    pypi\n",
      "gsl                       2.6                  he838d99_2    conda-forge\n",
      "gst-plugins-base          1.18.4               hf529b03_2    conda-forge\n",
      "gstreamer                 1.18.4               h76c114f_2    conda-forge\n",
      "gxx_impl_linux-64         9.3.0               hd87eabc_19    conda-forge\n",
      "gxx_linux-64              9.3.0               h3fbe746_30    conda-forge\n",
      "h5py                      3.1.0                    pypi_0    pypi\n",
      "harfbuzz                  2.8.1                h83ec7ef_0    conda-forge\n",
      "hdf5                      1.10.6          nompi_h6a2412b_1114    conda-forge\n",
      "heapdict                  1.0.1                      py_0    conda-forge\n",
      "holoviews                 1.14.4             pyhd8ed1ab_0    conda-forge\n",
      "icu                       68.1                 h58526e2_0    conda-forge\n",
      "idna                      2.10               pyh9f0ad1d_0    conda-forge\n",
      "imagecodecs               2021.3.31        py39h559889c_0    conda-forge\n",
      "imageio                   2.9.0                      py_0    conda-forge\n",
      "importlib-metadata        4.4.0            py39hf3d152e_0    conda-forge\n",
      "ipykernel                 5.5.5            py39hef51801_0    conda-forge\n",
      "ipympl                    0.7.0              pyhd8ed1ab_0    conda-forge\n",
      "ipython                   7.24.0           py39hef51801_0    conda-forge\n",
      "ipython_genutils          0.2.0                      py_1    conda-forge\n",
      "ipywidgets                7.6.3              pyhd3deb0d_0    conda-forge\n",
      "jasper                    1.900.1           h07fcdf6_1006    conda-forge\n",
      "jbig                      2.1               h7f98852_2003    conda-forge\n",
      "jedi                      0.18.0           py39hf3d152e_2    conda-forge\n",
      "jinja2                    3.0.1              pyhd8ed1ab_0    conda-forge\n",
      "joblib                    1.0.1              pyhd8ed1ab_0    conda-forge\n",
      "jpeg                      9d                   h36c2ea0_0    conda-forge\n",
      "json5                     0.9.5              pyh9f0ad1d_0    conda-forge\n",
      "jsonschema                3.2.0              pyhd8ed1ab_3    conda-forge\n",
      "jupyter_client            6.1.12             pyhd8ed1ab_0    conda-forge\n",
      "jupyter_core              4.7.1            py39hf3d152e_0    conda-forge\n",
      "jupyter_server            1.8.0              pyhd8ed1ab_0    conda-forge\n",
      "jupyter_telemetry         0.1.0              pyhd8ed1ab_1    conda-forge\n",
      "jupyterhub                1.4.1            py39hf3d152e_0    conda-forge\n",
      "jupyterhub-base           1.4.1            py39hf3d152e_0    conda-forge\n",
      "jupyterlab                3.0.15             pyhd8ed1ab_0    conda-forge\n",
      "jupyterlab_pygments       0.1.2              pyh9f0ad1d_0    conda-forge\n",
      "jupyterlab_server         2.5.2              pyhd8ed1ab_0    conda-forge\n",
      "jupyterlab_widgets        1.0.0              pyhd8ed1ab_1    conda-forge\n",
      "jxrlib                    1.1                  h7f98852_2    conda-forge\n",
      "keras                     2.4.3                    pypi_0    pypi\n",
      "keras-nightly             2.5.0.dev2021032900          pypi_0    pypi\n",
      "keras-preprocessing       1.1.2                    pypi_0    pypi\n",
      "kernel-headers_linux-64   2.6.32              h77966d4_13    conda-forge\n",
      "kiwisolver                1.3.1            py39h1a9c180_1    conda-forge\n",
      "krb5                      1.17.2               h926e7f8_0    conda-forge\n",
      "lame                      3.100             h7f98852_1001    conda-forge\n",
      "lcms2                     2.12                 hddcbb42_0    conda-forge\n",
      "ld_impl_linux-64          2.35.1               hea4e1c9_2    conda-forge\n",
      "lerc                      2.2.1                h9c3ff4c_0    conda-forge\n",
      "libaec                    1.0.4                h9c3ff4c_1    conda-forge\n",
      "libarchive                3.5.1                h3f442fb_1    conda-forge\n",
      "libblas                   3.9.0                9_openblas    conda-forge\n",
      "libcblas                  3.9.0                9_openblas    conda-forge\n",
      "libclang                  11.1.0          default_ha53f305_1    conda-forge\n",
      "libcurl                   7.76.1               hc4aaa36_1    conda-forge\n",
      "libdeflate                1.7                  h7f98852_5    conda-forge\n",
      "libedit                   3.1.20191231         he28a2e2_2    conda-forge\n",
      "libev                     4.33                 h516909a_1    conda-forge\n",
      "libevent                  2.1.10               hcdb4288_3    conda-forge\n",
      "libffi                    3.3                  h58526e2_2    conda-forge\n",
      "libgcc-devel_linux-64     9.3.0               h7864c58_19    conda-forge\n",
      "libgcc-ng                 9.3.0               h2828fa1_19    conda-forge\n",
      "libgfortran-ng            9.3.0               hff62375_19    conda-forge\n",
      "libgfortran5              9.3.0               hff62375_19    conda-forge\n",
      "libgit2                   1.1.0                h3974521_1    conda-forge\n",
      "libglib                   2.68.2               h3e27bee_1    conda-forge\n",
      "libgomp                   9.3.0               h2828fa1_19    conda-forge\n",
      "libiconv                  1.16                 h516909a_0    conda-forge\n",
      "liblapack                 3.9.0                9_openblas    conda-forge\n",
      "liblapacke                3.9.0                9_openblas    conda-forge\n",
      "libllvm10                 10.0.1               he513fc3_3    conda-forge\n",
      "libllvm11                 11.1.0               hf817b99_2    conda-forge\n",
      "libnghttp2                1.43.0               h812cca2_0    conda-forge\n",
      "libogg                    1.3.4                h7f98852_1    conda-forge\n",
      "libopenblas               0.3.15          pthreads_h8fe5266_1    conda-forge\n",
      "libopencv                 4.5.2            py39h2406f9b_0    conda-forge\n",
      "libopus                   1.3.1                h7f98852_1    conda-forge\n",
      "libpng                    1.6.37               h21135ba_2    conda-forge\n",
      "libpq                     13.2                 hfd2b0eb_2    conda-forge\n",
      "libprotobuf               3.15.8               h780b84a_0    conda-forge\n",
      "libsodium                 1.0.18               h36c2ea0_1    conda-forge\n",
      "libsolv                   0.7.18               h780b84a_0    conda-forge\n",
      "libssh2                   1.9.0                ha56f1ee_6    conda-forge\n",
      "libstdcxx-devel_linux-64  9.3.0               hb016644_19    conda-forge\n",
      "libstdcxx-ng              9.3.0               h6de172a_19    conda-forge\n",
      "libtiff                   4.2.0                hbd63e13_2    conda-forge\n",
      "libuuid                   2.32.1            h7f98852_1000    conda-forge\n",
      "libuv                     1.41.0               h7f98852_0    conda-forge\n",
      "libvorbis                 1.3.7                h9c3ff4c_0    conda-forge\n",
      "libwebp-base              1.2.0                h7f98852_2    conda-forge\n",
      "libxcb                    1.13              h7f98852_1003    conda-forge\n",
      "libxkbcommon              1.0.3                he3ba5ed_0    conda-forge\n",
      "libxml2                   2.9.12               h72842e0_0    conda-forge\n",
      "libzopfli                 1.0.3                h9c3ff4c_0    conda-forge\n",
      "llvmlite                  0.36.0           py39h1bbdace_0    conda-forge\n",
      "locket                    0.2.0                      py_2    conda-forge\n",
      "lz4-c                     1.9.3                h9c3ff4c_0    conda-forge\n",
      "lzo                       2.10              h516909a_1000    conda-forge\n",
      "make                      4.3                  hd18ef5c_1    conda-forge\n",
      "mako                      1.1.4              pyh44b312d_0    conda-forge\n",
      "mamba                     0.13.0           py39h951de11_0    conda-forge\n",
      "markdown                  3.3.4              pyhd8ed1ab_0    conda-forge\n",
      "markupsafe                2.0.1            py39h3811e60_0    conda-forge\n",
      "matplotlib-base           3.4.2            py39h2fa2bec_0    conda-forge\n",
      "matplotlib-inline         0.1.2              pyhd8ed1ab_2    conda-forge\n",
      "mistune                   0.8.4           py39h3811e60_1003    conda-forge\n",
      "mock                      4.0.3            py39hf3d152e_1    conda-forge\n",
      "mpc                       1.1.0             h04dde30_1009    conda-forge\n",
      "mpfr                      4.0.2                he80fd80_1    conda-forge\n",
      "mpmath                    1.2.1              pyhd8ed1ab_0    conda-forge\n",
      "msgpack-python            1.0.2            py39h1a9c180_1    conda-forge\n",
      "mysql-common              8.0.23               ha770c72_2    conda-forge\n",
      "mysql-libs                8.0.23               h935591d_2    conda-forge\n",
      "nbclassic                 0.3.1              pyhd8ed1ab_1    conda-forge\n",
      "nbclient                  0.5.3              pyhd8ed1ab_0    conda-forge\n",
      "nbconvert                 6.0.7            py39hf3d152e_3    conda-forge\n",
      "nbformat                  5.1.3              pyhd8ed1ab_0    conda-forge\n",
      "nbresuse                  0.4.0              pyhd8ed1ab_0    conda-forge\n",
      "ncurses                   6.2                  h58526e2_4    conda-forge\n",
      "nest-asyncio              1.5.1              pyhd8ed1ab_0    conda-forge\n",
      "nettle                    3.6                  he412f7d_0    conda-forge\n",
      "networkx                  2.5                        py_0    conda-forge\n",
      "nodejs                    15.14.0              h92b4a50_0    conda-forge\n",
      "nose                      1.3.7                   py_1006    conda-forge\n",
      "notebook                  6.3.0              pyha770c72_1    conda-forge\n",
      "nspr                      4.30                 h9c3ff4c_0    conda-forge\n",
      "nss                       3.65                 hb5efdd6_0    conda-forge\n",
      "numba                     0.53.1           py39h4292f66_0    conda-forge\n",
      "numexpr                   2.7.3            py39hde0f152_0    conda-forge\n",
      "numpy                     1.19.5                   pypi_0    pypi\n",
      "oauthlib                  3.1.0              pyhd8ed1ab_0    conda-forge\n",
      "olefile                   0.46               pyh9f0ad1d_1    conda-forge\n",
      "openblas                  0.3.15          pthreads_h4748800_1    conda-forge\n",
      "opencv                    4.5.2            py39hf3d152e_0    conda-forge\n",
      "openh264                  2.1.1                h780b84a_0    conda-forge\n",
      "openjpeg                  2.4.0                hb52868f_1    conda-forge\n",
      "openssl                   1.1.1k               h7f98852_0    conda-forge\n",
      "opt-einsum                3.3.0                    pypi_0    pypi\n",
      "packaging                 20.9               pyh44b312d_0    conda-forge\n",
      "pamela                    1.0.0                      py_0    conda-forge\n",
      "pandas                    1.2.4            py39hde0f152_0    conda-forge\n",
      "pandoc                    2.14                 h7f98852_0    conda-forge\n",
      "pandocfilters             1.4.2                      py_1    conda-forge\n",
      "panel                     0.11.3             pyhd8ed1ab_0    conda-forge\n",
      "pango                     1.48.5               hb8ff022_0    conda-forge\n",
      "param                     1.10.1             pyhd3deb0d_0    conda-forge\n",
      "parso                     0.8.2              pyhd8ed1ab_0    conda-forge\n",
      "partd                     1.2.0              pyhd8ed1ab_0    conda-forge\n",
      "patsy                     0.5.1                      py_0    conda-forge\n",
      "pcre                      8.44                 he1b5a44_0    conda-forge\n",
      "pcre2                     10.36                h032f7d1_1    conda-forge\n",
      "pexpect                   4.8.0              pyh9f0ad1d_2    conda-forge\n",
      "pickleshare               0.7.5                   py_1003    conda-forge\n",
      "pillow                    8.2.0            py39hf95b381_1    conda-forge\n",
      "pip                       21.1.2             pyhd8ed1ab_0    conda-forge\n",
      "pixman                    0.40.0               h36c2ea0_0    conda-forge\n",
      "pooch                     1.3.0              pyhd8ed1ab_0    conda-forge\n",
      "prometheus_client         0.10.1             pyhd8ed1ab_0    conda-forge\n",
      "prompt-toolkit            3.0.18             pyha770c72_0    conda-forge\n",
      "protobuf                  3.15.8           py39he80948d_0    conda-forge\n",
      "psutil                    5.8.0            py39h3811e60_1    conda-forge\n",
      "pthread-stubs             0.4               h36c2ea0_1001    conda-forge\n",
      "ptyprocess                0.7.0              pyhd3deb0d_0    conda-forge\n",
      "py-opencv                 4.5.2            py39hef51801_0    conda-forge\n",
      "pyasn1                    0.4.8                    pypi_0    pypi\n",
      "pyasn1-modules            0.2.8                    pypi_0    pypi\n",
      "pycosat                   0.6.3           py39h3811e60_1006    conda-forge\n",
      "pycparser                 2.20               pyh9f0ad1d_2    conda-forge\n",
      "pyct                      0.4.6                      py_0    conda-forge\n",
      "pyct-core                 0.4.6                      py_0    conda-forge\n",
      "pycurl                    7.43.0.6         py39h72e3413_1    conda-forge\n",
      "pygments                  2.9.0              pyhd8ed1ab_0    conda-forge\n",
      "pyjwt                     2.1.0              pyhd8ed1ab_0    conda-forge\n",
      "pyopenssl                 20.0.1             pyhd8ed1ab_0    conda-forge\n",
      "pyparsing                 2.4.7              pyh9f0ad1d_0    conda-forge\n",
      "pyrsistent                0.17.3           py39h3811e60_2    conda-forge\n",
      "pysocks                   1.7.1            py39hf3d152e_3    conda-forge\n",
      "pytables                  3.6.1            py39hf6dc253_3    conda-forge\n",
      "python                    3.9.2           hffdb5ce_0_cpython    conda-forge\n",
      "python-dateutil           2.8.1                      py_0    conda-forge\n",
      "python-editor             1.0.4                      py_0    conda-forge\n",
      "python-json-logger        2.0.1              pyh9f0ad1d_0    conda-forge\n",
      "python_abi                3.9                      1_cp39    conda-forge\n",
      "pytz                      2021.1             pyhd8ed1ab_0    conda-forge\n",
      "pyviz_comms               2.0.1              pyhd3deb0d_0    conda-forge\n",
      "pywavelets                1.1.1            py39hce5d2b2_3    conda-forge\n",
      "pyyaml                    5.4.1            py39h3811e60_0    conda-forge\n",
      "pyzmq                     22.1.0           py39h37b5a0c_0    conda-forge\n",
      "qt                        5.12.9               hda022c4_4    conda-forge\n",
      "r-askpass                 1.1               r40hcfec24a_2    conda-forge\n",
      "r-assertthat              0.2.1             r40hc72bb7e_2    conda-forge\n",
      "r-backports               1.2.1             r40hcfec24a_0    conda-forge\n",
      "r-base                    4.0.3                h349a78a_8    conda-forge\n",
      "r-base64enc               0.1_3           r40hcfec24a_1004    conda-forge\n",
      "r-bit                     4.0.4             r40hcfec24a_0    conda-forge\n",
      "r-bit64                   4.0.5             r40hcfec24a_0    conda-forge\n",
      "r-bitops                  1.0_7             r40hcfec24a_0    conda-forge\n",
      "r-blob                    1.2.1             r40hc72bb7e_1    conda-forge\n",
      "r-brew                    1.0_6           r40hc72bb7e_1003    conda-forge\n",
      "r-brio                    1.1.2             r40hcfec24a_0    conda-forge\n",
      "r-broom                   0.7.6             r40hc72bb7e_0    conda-forge\n",
      "r-bslib                   0.2.5.1           r40hc72bb7e_0    conda-forge\n",
      "r-cachem                  1.0.5             r40hcfec24a_0    conda-forge\n",
      "r-callr                   3.7.0             r40hc72bb7e_0    conda-forge\n",
      "r-caret                   6.0_88            r40hcfec24a_0    conda-forge\n",
      "r-cellranger              1.1.0           r40hc72bb7e_1003    conda-forge\n",
      "r-class                   7.3_19            r40hcfec24a_0    conda-forge\n",
      "r-cli                     2.5.0             r40hc72bb7e_0    conda-forge\n",
      "r-clipr                   0.7.1             r40hc72bb7e_0    conda-forge\n",
      "r-codetools               0.2_18            r40hc72bb7e_0    conda-forge\n",
      "r-colorspace              2.0_1             r40hcfec24a_0    conda-forge\n",
      "r-commonmark              1.7             r40hcfec24a_1002    conda-forge\n",
      "r-conflicted              1.0.4             r40hc72bb7e_2    conda-forge\n",
      "r-covr                    3.5.1             r40h03ef668_0    conda-forge\n",
      "r-cpp11                   0.2.7             r40hc72bb7e_0    conda-forge\n",
      "r-crayon                  1.4.1             r40hc72bb7e_0    conda-forge\n",
      "r-credentials             1.3.0             r40hc72bb7e_0    conda-forge\n",
      "r-crosstalk               1.1.1             r40hc72bb7e_0    conda-forge\n",
      "r-curl                    4.3.1             r40hcfec24a_0    conda-forge\n",
      "r-data.table              1.14.0            r40hcfec24a_0    conda-forge\n",
      "r-dbi                     1.1.1             r40hc72bb7e_0    conda-forge\n",
      "r-dbplyr                  2.1.1             r40hc72bb7e_0    conda-forge\n",
      "r-desc                    1.3.0             r40hc72bb7e_0    conda-forge\n",
      "r-devtools                2.4.1             r40hc72bb7e_0    conda-forge\n",
      "r-dials                   0.0.9             r40hc72bb7e_0    conda-forge\n",
      "r-dicedesign              1.9               r40hcfec24a_0    conda-forge\n",
      "r-diffobj                 0.3.4             r40hcfec24a_0    conda-forge\n",
      "r-digest                  0.6.27            r40h03ef668_0    conda-forge\n",
      "r-dplyr                   1.0.6             r40h03ef668_1    conda-forge\n",
      "r-dt                      0.18              r40hc72bb7e_0    conda-forge\n",
      "r-dtplyr                  1.1.0             r40hc72bb7e_0    conda-forge\n",
      "r-ellipsis                0.3.2             r40hcfec24a_0    conda-forge\n",
      "r-evaluate                0.14              r40hc72bb7e_2    conda-forge\n",
      "r-fansi                   0.5.0             r40hcfec24a_0    conda-forge\n",
      "r-farver                  2.1.0             r40h03ef668_0    conda-forge\n",
      "r-fastmap                 1.1.0             r40h03ef668_0    conda-forge\n",
      "r-forcats                 0.5.1             r40hc72bb7e_0    conda-forge\n",
      "r-foreach                 1.5.1             r40hc72bb7e_0    conda-forge\n",
      "r-forecast                8.14              r40h6dc32e9_0    conda-forge\n",
      "r-fracdiff                1.5_1             r40hbfbffee_1    conda-forge\n",
      "r-fs                      1.5.0             r40h03ef668_0    conda-forge\n",
      "r-furrr                   0.2.2             r40hc72bb7e_0    conda-forge\n",
      "r-future                  1.21.0            r40hc72bb7e_0    conda-forge\n",
      "r-gargle                  1.1.0             r40hc72bb7e_0    conda-forge\n",
      "r-generics                0.1.0             r40hc72bb7e_0    conda-forge\n",
      "r-gert                    1.3.0             r40hbd84cd2_0    conda-forge\n",
      "r-ggplot2                 3.3.3             r40hc72bb7e_0    conda-forge\n",
      "r-gh                      1.3.0             r40hc72bb7e_0    conda-forge\n",
      "r-git2r                   0.28.0            r40hf628c3e_0    conda-forge\n",
      "r-gitcreds                0.1.1             r40hc72bb7e_0    conda-forge\n",
      "r-globals                 0.14.0            r40hc72bb7e_0    conda-forge\n",
      "r-glue                    1.4.2             r40hcfec24a_0    conda-forge\n",
      "r-googledrive             1.0.1             r40hc72bb7e_1    conda-forge\n",
      "r-googlesheets4           0.3.0             r40hc72bb7e_0    conda-forge\n",
      "r-gower                   0.2.2             r40hcfec24a_0    conda-forge\n",
      "r-gpfit                   1.0_8             r40hc72bb7e_1    conda-forge\n",
      "r-gtable                  0.3.0             r40hc72bb7e_3    conda-forge\n",
      "r-hardhat                 0.1.5             r40hc72bb7e_0    conda-forge\n",
      "r-haven                   2.4.1             r40h2713e49_0    conda-forge\n",
      "r-hexbin                  1.28.2            r40h859d828_0    conda-forge\n",
      "r-highr                   0.9               r40hc72bb7e_0    conda-forge\n",
      "r-hms                     1.1.0             r40hc72bb7e_0    conda-forge\n",
      "r-htmltools               0.5.1.1           r40h03ef668_0    conda-forge\n",
      "r-htmlwidgets             1.5.3             r40hc72bb7e_0    conda-forge\n",
      "r-httpuv                  1.6.1             r40h03ef668_0    conda-forge\n",
      "r-httr                    1.4.2             r40hc72bb7e_0    conda-forge\n",
      "r-ids                     1.0.1             r40hc72bb7e_1    conda-forge\n",
      "r-infer                   0.5.4             r40hc72bb7e_0    conda-forge\n",
      "r-ini                     0.3.1           r40hc72bb7e_1003    conda-forge\n",
      "r-ipred                   0.9_11            r40hcfec24a_0    conda-forge\n",
      "r-irdisplay               1.0               r40hd8ed1ab_0    conda-forge\n",
      "r-irkernel                1.1.1             r40h6115d3f_0    conda-forge\n",
      "r-isoband                 0.2.4             r40h03ef668_0    conda-forge\n",
      "r-iterators               1.0.13            r40hc72bb7e_0    conda-forge\n",
      "r-jquerylib               0.1.4             r40hc72bb7e_0    conda-forge\n",
      "r-jsonlite                1.7.2             r40hcfec24a_0    conda-forge\n",
      "r-kernsmooth              2.23_20           r40h742201e_0    conda-forge\n",
      "r-knitr                   1.33              r40hc72bb7e_0    conda-forge\n",
      "r-labeling                0.4.2             r40hc72bb7e_0    conda-forge\n",
      "r-later                   1.2.0             r40h03ef668_0    conda-forge\n",
      "r-lattice                 0.20_44           r40hcfec24a_0    conda-forge\n",
      "r-lava                    1.6.9             r40hc72bb7e_0    conda-forge\n",
      "r-lazyeval                0.2.2             r40hcfec24a_2    conda-forge\n",
      "r-lhs                     1.1.1             r40h03ef668_0    conda-forge\n",
      "r-lifecycle               1.0.0             r40hc72bb7e_0    conda-forge\n",
      "r-listenv                 0.8.0             r40hc72bb7e_1    conda-forge\n",
      "r-lmtest                  0.9_38            r40h859d828_1    conda-forge\n",
      "r-lubridate               1.7.10            r40h03ef668_0    conda-forge\n",
      "r-magrittr                2.0.1             r40hcfec24a_1    conda-forge\n",
      "r-markdown                1.1               r40hcfec24a_1    conda-forge\n",
      "r-mass                    7.3_54            r40hcfec24a_0    conda-forge\n",
      "r-matrix                  1.3_4             r40he454529_0    conda-forge\n",
      "r-memoise                 2.0.0             r40hc72bb7e_0    conda-forge\n",
      "r-mgcv                    1.8_36            r40he454529_0    conda-forge\n",
      "r-mime                    0.10              r40hcfec24a_0    conda-forge\n",
      "r-modeldata               0.1.0             r40hc72bb7e_0    conda-forge\n",
      "r-modelmetrics            1.2.2.2           r40h03ef668_1    conda-forge\n",
      "r-modelr                  0.1.8             r40hc72bb7e_0    conda-forge\n",
      "r-munsell                 0.5.0           r40hc72bb7e_1003    conda-forge\n",
      "r-nlme                    3.1_152           r40h859d828_0    conda-forge\n",
      "r-nnet                    7.3_16            r40hcfec24a_0    conda-forge\n",
      "r-numderiv                2016.8_1.1        r40hc72bb7e_3    conda-forge\n",
      "r-nycflights13            1.0.2             r40hc72bb7e_0    conda-forge\n",
      "r-openssl                 1.4.4             r40he36bf35_0    conda-forge\n",
      "r-parallelly              1.25.0            r40hc72bb7e_0    conda-forge\n",
      "r-parsnip                 0.1.6             r40hc72bb7e_0    conda-forge\n",
      "r-pbdzmq                  0.3_5             r40h42bf92c_1    conda-forge\n",
      "r-pillar                  1.6.1             r40hc72bb7e_0    conda-forge\n",
      "r-pkgbuild                1.2.0             r40hc72bb7e_0    conda-forge\n",
      "r-pkgconfig               2.0.3             r40hc72bb7e_1    conda-forge\n",
      "r-pkgload                 1.2.1             r40h03ef668_0    conda-forge\n",
      "r-plogr                   0.2.0           r40hc72bb7e_1003    conda-forge\n",
      "r-plyr                    1.8.6             r40h03ef668_1    conda-forge\n",
      "r-praise                  1.0.0           r40hc72bb7e_1004    conda-forge\n",
      "r-prettyunits             1.1.1             r40hc72bb7e_1    conda-forge\n",
      "r-proc                    1.17.0.1          r40h03ef668_0    conda-forge\n",
      "r-processx                3.5.2             r40hcfec24a_0    conda-forge\n",
      "r-prodlim                 2019.11.13        r40h03ef668_1    conda-forge\n",
      "r-progress                1.2.2             r40hc72bb7e_2    conda-forge\n",
      "r-promises                1.2.0.1           r40h03ef668_0    conda-forge\n",
      "r-ps                      1.6.0             r40hcfec24a_0    conda-forge\n",
      "r-purrr                   0.3.4             r40hcfec24a_1    conda-forge\n",
      "r-quadprog                1.5_8             r40h742201e_3    conda-forge\n",
      "r-quantmod                0.4.18            r40hc72bb7e_0    conda-forge\n",
      "r-r6                      2.5.0             r40hc72bb7e_0    conda-forge\n",
      "r-randomforest            4.6_14          r40h859d828_1004    conda-forge\n",
      "r-rappdirs                0.3.3             r40hcfec24a_0    conda-forge\n",
      "r-rcmdcheck               1.3.3             r40hc72bb7e_3    conda-forge\n",
      "r-rcolorbrewer            1.1_2           r40h785f33e_1003    conda-forge\n",
      "r-rcpp                    1.0.6             r40h03ef668_0    conda-forge\n",
      "r-rcpparmadillo           0.10.5.0.0        r40h306847c_0    conda-forge\n",
      "r-rcurl                   1.98_1.3          r40hcfec24a_0    conda-forge\n",
      "r-readr                   1.4.0             r40h03ef668_0    conda-forge\n",
      "r-readxl                  1.3.1             r40h2713e49_4    conda-forge\n",
      "r-recipes                 0.1.16            r40hc72bb7e_0    conda-forge\n",
      "r-rematch                 1.0.1           r40hc72bb7e_1003    conda-forge\n",
      "r-rematch2                2.1.2             r40hc72bb7e_1    conda-forge\n",
      "r-remotes                 2.3.0             r40hc72bb7e_0    conda-forge\n",
      "r-repr                    1.1.3             r40h785f33e_0    conda-forge\n",
      "r-reprex                  2.0.0             r40hc72bb7e_0    conda-forge\n",
      "r-reshape2                1.4.4             r40h03ef668_1    conda-forge\n",
      "r-rex                     1.2.0             r40hc72bb7e_1    conda-forge\n",
      "r-rlang                   0.4.11            r40hcfec24a_0    conda-forge\n",
      "r-rmarkdown               2.7               r40hc72bb7e_0    conda-forge\n",
      "r-rodbc                   1.3_17            r40hcfec24a_0    conda-forge\n",
      "r-roxygen2                7.1.1             r40h03ef668_0    conda-forge\n",
      "r-rpart                   4.1_15            r40hcfec24a_2    conda-forge\n",
      "r-rprojroot               2.0.2             r40hc72bb7e_0    conda-forge\n",
      "r-rsample                 0.1.0             r40hc72bb7e_0    conda-forge\n",
      "r-rsqlite                 2.2.5             r40h03ef668_0    conda-forge\n",
      "r-rstudioapi              0.13              r40hc72bb7e_0    conda-forge\n",
      "r-rversions               2.1.1             r40hc72bb7e_0    conda-forge\n",
      "r-rvest                   1.0.0             r40hc72bb7e_0    conda-forge\n",
      "r-sass                    0.4.0             r40h03ef668_0    conda-forge\n",
      "r-scales                  1.1.1             r40hc72bb7e_0    conda-forge\n",
      "r-selectr                 0.4_2             r40hc72bb7e_1    conda-forge\n",
      "r-sessioninfo             1.1.1           r40hc72bb7e_1002    conda-forge\n",
      "r-shiny                   1.6.0             r40hc72bb7e_0    conda-forge\n",
      "r-slider                  0.2.1             r40hcfec24a_1    conda-forge\n",
      "r-sourcetools             0.1.7           r40h9c3ff4c_1002    conda-forge\n",
      "r-squarem                 2021.1            r40hc72bb7e_0    conda-forge\n",
      "r-stringi                 1.6.2             r40hcabe038_0    conda-forge\n",
      "r-stringr                 1.4.0             r40hc72bb7e_2    conda-forge\n",
      "r-survival                3.2_11            r40hcfec24a_0    conda-forge\n",
      "r-sys                     3.4               r40hcfec24a_0    conda-forge\n",
      "r-testthat                3.0.2             r40h03ef668_0    conda-forge\n",
      "r-tibble                  3.1.2             r40hcfec24a_0    conda-forge\n",
      "r-tidymodels              0.1.3             r40hc72bb7e_0    conda-forge\n",
      "r-tidyr                   1.1.3             r40h03ef668_0    conda-forge\n",
      "r-tidyselect              1.1.1             r40hc72bb7e_0    conda-forge\n",
      "r-tidyverse               1.3.1             r40hc72bb7e_0    conda-forge\n",
      "r-timedate                3043.102        r40hc72bb7e_1002    conda-forge\n",
      "r-tinytex                 0.32              r40hc72bb7e_0    conda-forge\n",
      "r-tseries                 0.10_48           r40h742201e_0    conda-forge\n",
      "r-ttr                     0.24.2            r40hcfec24a_0    conda-forge\n",
      "r-tune                    0.1.5             r40hc72bb7e_0    conda-forge\n",
      "r-urca                    1.3_0           r40h859d828_1006    conda-forge\n",
      "r-usethis                 2.0.1             r40hc72bb7e_0    conda-forge\n",
      "r-utf8                    1.2.1             r40hcfec24a_0    conda-forge\n",
      "r-uuid                    0.1_4             r40hcfec24a_1    conda-forge\n",
      "r-vctrs                   0.3.8             r40hcfec24a_1    conda-forge\n",
      "r-viridislite             0.4.0             r40hc72bb7e_0    conda-forge\n",
      "r-waldo                   0.2.5             r40hc72bb7e_0    conda-forge\n",
      "r-warp                    0.2.0             r40hcfec24a_1    conda-forge\n",
      "r-whisker                 0.4               r40hc72bb7e_1    conda-forge\n",
      "r-withr                   2.4.2             r40hc72bb7e_0    conda-forge\n",
      "r-workflows               0.2.2             r40hc72bb7e_0    conda-forge\n",
      "r-workflowsets            0.0.2             r40hc72bb7e_0    conda-forge\n",
      "r-xfun                    0.23              r40h03ef668_0    conda-forge\n",
      "r-xml2                    1.3.2             r40h03ef668_1    conda-forge\n",
      "r-xopen                   1.0.0           r40hc72bb7e_1003    conda-forge\n",
      "r-xtable                  1.8_4             r40hc72bb7e_3    conda-forge\n",
      "r-xts                     0.12.1            r40hcfec24a_0    conda-forge\n",
      "r-yaml                    2.2.1             r40hcfec24a_1    conda-forge\n",
      "r-yardstick               0.0.8             r40h03ef668_0    conda-forge\n",
      "r-zip                     2.2.0             r40hcfec24a_0    conda-forge\n",
      "r-zoo                     1.8_9             r40hcfec24a_1    conda-forge\n",
      "readline                  8.1                  h46c0cb4_0    conda-forge\n",
      "reproc                    14.2.1               h36c2ea0_0    conda-forge\n",
      "reproc-cpp                14.2.1               h58526e2_0    conda-forge\n",
      "requests                  2.25.1             pyhd3deb0d_0    conda-forge\n",
      "requests-oauthlib         1.3.0                    pypi_0    pypi\n",
      "rpy2                      3.4.4           py39r40hce5d2b2_0    conda-forge\n",
      "rsa                       4.7.2                    pypi_0    pypi\n",
      "ruamel.yaml               0.17.7           py39h3811e60_0    conda-forge\n",
      "ruamel.yaml.clib          0.2.2            py39h3811e60_2    conda-forge\n",
      "ruamel_yaml               0.15.80         py39h3811e60_1004    conda-forge\n",
      "scikit-image              0.18.1           py39hde0f152_0    conda-forge\n",
      "scikit-learn              0.24.2           py39h4dfa638_0    conda-forge\n",
      "scipy                     1.6.3            py39hee8e79c_0    conda-forge\n",
      "seaborn                   0.11.1               hd8ed1ab_1    conda-forge\n",
      "seaborn-base              0.11.1             pyhd8ed1ab_1    conda-forge\n",
      "sed                       4.8                  he412f7d_0    conda-forge\n",
      "send2trash                1.5.0                      py_0    conda-forge\n",
      "setuptools                49.6.0           py39hf3d152e_3    conda-forge\n",
      "simplegeneric             0.8.1                      py_1    conda-forge\n",
      "six                       1.15.0                   pypi_0    pypi\n",
      "snappy                    1.1.8                he1b5a44_3    conda-forge\n",
      "sniffio                   1.2.0            py39hf3d152e_1    conda-forge\n",
      "sortedcontainers          2.4.0              pyhd8ed1ab_0    conda-forge\n",
      "soupsieve                 2.0.1                      py_1    conda-forge\n",
      "sqlalchemy                1.4.17           py39h3811e60_0    conda-forge\n",
      "sqlite                    3.35.5               h74cdb3f_0    conda-forge\n",
      "statsmodels               0.12.2           py39hce5d2b2_0    conda-forge\n",
      "sympy                     1.8              py39hf3d152e_0    conda-forge\n",
      "sysroot_linux-64          2.12                h77966d4_13    conda-forge\n",
      "tabulate                  0.8.9              pyhd8ed1ab_0    conda-forge\n",
      "tblib                     1.7.0              pyhd8ed1ab_0    conda-forge\n",
      "tensorboard               2.5.0                    pypi_0    pypi\n",
      "tensorboard-data-server   0.6.1                    pypi_0    pypi\n",
      "tensorboard-plugin-wit    1.8.0                    pypi_0    pypi\n",
      "tensorflow                2.5.0                    pypi_0    pypi\n",
      "tensorflow-estimator      2.5.0                    pypi_0    pypi\n",
      "termcolor                 1.1.0                    pypi_0    pypi\n",
      "terminado                 0.10.0           py39hf3d152e_0    conda-forge\n",
      "testpath                  0.5.0              pyhd8ed1ab_0    conda-forge\n",
      "threadpoolctl             2.1.0              pyh5ca1d4c_0    conda-forge\n",
      "tifffile                  2021.4.8           pyhd8ed1ab_0    conda-forge\n",
      "tk                        8.6.10               h21135ba_1    conda-forge\n",
      "tktable                   2.10                 hb7b940f_3    conda-forge\n",
      "toolz                     0.11.1                     py_0    conda-forge\n",
      "tornado                   6.1              py39h3811e60_1    conda-forge\n",
      "tqdm                      4.61.0             pyhd8ed1ab_0    conda-forge\n",
      "traitlets                 5.0.5                      py_0    conda-forge\n",
      "typing_extensions         3.7.4.3                    py_0    conda-forge\n",
      "tzdata                    2021a                he74cb21_0    conda-forge\n",
      "tzlocal                   2.1                pyh9f0ad1d_0    conda-forge\n",
      "unixodbc                  2.3.9                hb166930_0    conda-forge\n",
      "urllib3                   1.26.5             pyhd8ed1ab_0    conda-forge\n",
      "vincent                   0.4.4                      py_1    conda-forge\n",
      "watermark                 2.2.0              pyhd8ed1ab_0    conda-forge\n",
      "wcwidth                   0.2.5              pyh9f0ad1d_2    conda-forge\n",
      "webencodings              0.5.1                      py_1    conda-forge\n",
      "websocket-client          0.57.0           py39hf3d152e_4    conda-forge\n",
      "werkzeug                  2.0.1                    pypi_0    pypi\n",
      "wheel                     0.36.2             pyhd3deb0d_0    conda-forge\n",
      "widgetsnbextension        3.5.1            py39hf3d152e_4    conda-forge\n",
      "wrapt                     1.12.1                   pypi_0    pypi\n",
      "x264                      1!161.3030           h7f98852_0    conda-forge\n",
      "xarray                    0.18.2             pyhd8ed1ab_0    conda-forge\n",
      "xlrd                      2.0.1              pyhd8ed1ab_3    conda-forge\n",
      "xorg-kbproto              1.0.7             h7f98852_1002    conda-forge\n",
      "xorg-libice               1.0.10               h7f98852_0    conda-forge\n",
      "xorg-libsm                1.2.3             hd9c2040_1000    conda-forge\n",
      "xorg-libx11               1.7.1                h7f98852_0    conda-forge\n",
      "xorg-libxau               1.0.9                h7f98852_0    conda-forge\n",
      "xorg-libxdmcp             1.1.3                h7f98852_0    conda-forge\n",
      "xorg-libxext              1.3.4                h7f98852_1    conda-forge\n",
      "xorg-libxrender           0.9.10            h7f98852_1003    conda-forge\n",
      "xorg-libxt                1.2.1                h7f98852_2    conda-forge\n",
      "xorg-renderproto          0.11.1            h7f98852_1002    conda-forge\n",
      "xorg-xextproto            7.3.0             h7f98852_1002    conda-forge\n",
      "xorg-xproto               7.0.31            h7f98852_1007    conda-forge\n",
      "xz                        5.2.5                h516909a_1    conda-forge\n",
      "yaml                      0.2.5                h516909a_0    conda-forge\n",
      "zeromq                    4.3.4                h9c3ff4c_0    conda-forge\n",
      "zfp                       0.5.5                h9c3ff4c_5    conda-forge\n",
      "zict                      2.0.0                      py_0    conda-forge\n",
      "zipp                      3.4.1              pyhd8ed1ab_0    conda-forge\n",
      "zlib                      1.2.11            h516909a_1010    conda-forge\n",
      "zstd                      1.4.9                ha95c52a_0    conda-forge\n"
     ]
    },
    {
     "name": "stderr",
     "output_type": "stream",
     "text": [
      "WARNING conda.gateways.disk.delete:unlink_or_rename_to_trash(143): Could not remove or rename /opt/conda/conda-meta/h5py-3.2.1-nompi_py39h98ba4bc_100.json.  Please remove this file manually (you may need to reboot to free file handles)\n",
      "WARNING conda.gateways.disk.delete:unlink_or_rename_to_trash(143): Could not remove or rename /opt/conda/conda-meta/numpy-1.20.3-py39hdbf815f_1.json.  Please remove this file manually (you may need to reboot to free file handles)\n",
      "WARNING conda.gateways.disk.delete:unlink_or_rename_to_trash(143): Could not remove or rename /opt/conda/conda-meta/six-1.16.0-pyh6c4a22f_0.json.  Please remove this file manually (you may need to reboot to free file handles)\n"
     ]
    }
   ],
   "source": [
    "%%bash\n",
    "conda list"
   ]
  },
  {
   "cell_type": "code",
   "execution_count": 47,
   "metadata": {},
   "outputs": [
    {
     "name": "stdout",
     "output_type": "stream",
     "text": [
      "tensorflow                2.5.0                    pypi_0    pypi\n",
      "tensorflow-estimator      2.5.0                    pypi_0    pypi\n"
     ]
    },
    {
     "name": "stderr",
     "output_type": "stream",
     "text": [
      "WARNING conda.gateways.disk.delete:unlink_or_rename_to_trash(143): Could not remove or rename /opt/conda/conda-meta/h5py-3.2.1-nompi_py39h98ba4bc_100.json.  Please remove this file manually (you may need to reboot to free file handles)\n",
      "WARNING conda.gateways.disk.delete:unlink_or_rename_to_trash(143): Could not remove or rename /opt/conda/conda-meta/six-1.16.0-pyh6c4a22f_0.json.  Please remove this file manually (you may need to reboot to free file handles)\n",
      "WARNING conda.gateways.disk.delete:unlink_or_rename_to_trash(143): Could not remove or rename /opt/conda/conda-meta/numpy-1.20.3-py39hdbf815f_1.json.  Please remove this file manually (you may need to reboot to free file handles)\n"
     ]
    }
   ],
   "source": [
    "%%bash\n",
    "conda list | grep tensorflow"
   ]
  },
  {
   "cell_type": "markdown",
   "metadata": {},
   "source": [
    "These are the packages that are installed in the default environment. In our case they are part of the jupyter image that we loaded. \n",
    "\n",
    "However, when do you do if you need a package in different versions for different project, or do not want a very specific package that you need only for your very specific project and then never again to appear in the default environment?\n",
    "\n",
    "A `conda` environment can have different packages and package versions installed. In order to not create a mess using conflicting versions of Python modules or imagine your code only works with specific versions of Python modules, you can create and use different Python environments.\n",
    "\n",
    "**You can list the currently existing environments using**"
   ]
  },
  {
   "cell_type": "code",
   "execution_count": 7,
   "metadata": {},
   "outputs": [
    {
     "name": "stdout",
     "output_type": "stream",
     "text": [
      "# conda environments:\n",
      "#\n",
      "                         /home/jovyan/brain/bin/python/miniconda3\n",
      "                         /home/jovyan/brain/bin/python/miniconda3.7\n",
      "                         /home/jovyan/brain/bin/python/miniconda3/envs/bioconda\n",
      "base                  *  /opt/conda\n",
      "\n"
     ]
    }
   ],
   "source": [
    "%%bash\n",
    "conda env list"
   ]
  },
  {
   "cell_type": "markdown",
   "metadata": {},
   "source": [
    "<font size=\"3\"><b>You can create a new (empty) environment using</b></font>"
   ]
  },
  {
   "cell_type": "code",
   "execution_count": null,
   "metadata": {},
   "outputs": [],
   "source": [
    "%%bash\n",
    "conda create --name pyprog"
   ]
  },
  {
   "cell_type": "markdown",
   "metadata": {},
   "source": [
    "<font size=\"3\"><b>You can switch to a specific environment using</b></font>"
   ]
  },
  {
   "cell_type": "code",
   "execution_count": null,
   "metadata": {},
   "outputs": [],
   "source": [
    "%%bash\n",
    "conda activate new_env"
   ]
  },
  {
   "cell_type": "markdown",
   "metadata": {},
   "source": [
    "<font size=\"3\"><b>And check on the actual activated environment using</b></font>"
   ]
  },
  {
   "cell_type": "code",
   "execution_count": 8,
   "metadata": {},
   "outputs": [
    {
     "name": "stdout",
     "output_type": "stream",
     "text": [
      "\n",
      "     active environment : base\n",
      "    active env location : /home/mru/anaconda3\n",
      "            shell level : 1\n",
      "       user config file : /home/mru/.condarc\n",
      " populated config files : \n",
      "          conda version : 4.10.3\n",
      "    conda-build version : 3.20.5\n",
      "         python version : 3.8.5.final.0\n",
      "       virtual packages : __cuda=11.2=0\n",
      "                          __linux=5.8.0=0\n",
      "                          __glibc=2.32=0\n",
      "                          __unix=0=0\n",
      "                          __archspec=1=x86_64\n",
      "       base environment : /home/mru/anaconda3  (writable)\n",
      "      conda av data dir : /home/mru/anaconda3/etc/conda\n",
      "  conda av metadata url : None\n",
      "           channel URLs : https://repo.anaconda.com/pkgs/main/linux-64\n",
      "                          https://repo.anaconda.com/pkgs/main/noarch\n",
      "                          https://repo.anaconda.com/pkgs/r/linux-64\n",
      "                          https://repo.anaconda.com/pkgs/r/noarch\n",
      "          package cache : /home/mru/anaconda3/pkgs\n",
      "                          /home/mru/.conda/pkgs\n",
      "       envs directories : /home/mru/anaconda3/envs\n",
      "                          /home/mru/.conda/envs\n",
      "               platform : linux-64\n",
      "             user-agent : conda/4.10.3 requests/2.25.1 CPython/3.8.5 Linux/5.8.0-63-generic ubuntu/20.10 glibc/2.32\n",
      "                UID:GID : 1000:1000\n",
      "             netrc file : None\n",
      "           offline mode : False\n",
      "\n"
     ]
    }
   ],
   "source": [
    "%%bash\n",
    "conda info"
   ]
  },
  {
   "cell_type": "code",
   "execution_count": null,
   "metadata": {},
   "outputs": [],
   "source": [
    "%%bash\n",
    "conda deactivate"
   ]
  },
  {
   "cell_type": "markdown",
   "metadata": {},
   "source": [
    "<br><br><br>\n",
    "## Numpy \n",
    "\n",
    "Often, you have a file e.g. a CSV file with comma-separated values and you need to convert the content yourself to a table-like datastructure. In this example, we have the famous <a href=\"https://en.wikipedia.org/wiki/Iris_flower_data_set\">Iris dataset</a> (in this case a very popular standard data set in data science). Let's have a look at the first 10 lines of the file:"
   ]
  },
  {
   "cell_type": "code",
   "execution_count": 3,
   "metadata": {},
   "outputs": [
    {
     "name": "stdout",
     "output_type": "stream",
     "text": [
      "sepal_length,sepal_width,petal_length,petal_width,species\n",
      "5.1,3.5,1.4,0.2,setosa\n",
      "4.9,3.0,1.4,0.2,setosa\n",
      "4.7,3.2,1.3,0.2,setosa\n",
      "4.6,3.1,1.5,0.2,setosa\n",
      "5.0,3.6,1.4,0.2,setosa\n",
      "5.4,3.9,1.7,0.4,setosa\n",
      "4.6,3.4,1.4,0.3,setosa\n",
      "5.0,3.4,1.5,0.2,setosa\n",
      "4.4,2.9,1.4,0.2,setosa\n"
     ]
    }
   ],
   "source": [
    "%%bash\n",
    "head -n 10 data/iris.csv"
   ]
  },
  {
   "cell_type": "markdown",
   "metadata": {},
   "source": [
    "Of course, we could now manually readin the file line by line, but then we would need to process the strings and convert them to a table-like data structure. <b>Luckily, there are already functions in the 3rd party libraries <a href=\"https://numpy.org/\"><i>numpy</i></a> and <a href=\"https://pandas.pydata.org/\"><i>pandas</i></a> that solve this problem.\n",
    "    \n",
    "Recently, a <a href=\"https://www.nature.com/articles/s41586-020-2649-2\">paper</a> about the numpy Python package was published in *nature*.\n",
    "\n",
    "<img src=\"img/numpy_nature.webp\" width=\"100%\">\n",
    "\n",
    "*Source: <a href=\"https://www.nature.com/articles/s41586-020-2649-2\">https://www.nature.com/articles/s41586-020-2649-2*\n",
    "    \n",
    "**Numpy** is a powerful 3rd party package offering the new data type of the <b><i>numpy array</i></b> (numpy.ndarray) with a more powerful and faster implementation in C++ in the background. **Numpy** is essential for scientific programming. In contrast to lists in Python, <b>the size of a numpy array cannot be changed without creating a new array and the best practice is to allocate space in advance by initializing an empty array (e.g. filled with zeros)</b>. Also, the data type of its elements shouldn't differ and the number of elements in each row or column has to be the same, since <b>the numpy array represents a N x M matrix.<br><br>\n",
    "<b>To sum it up, a numpy array behaves like a \"classic\" array in other high-level programming languages due to it's precompiled C++ implementation in the background.</b><br><br>\n",
    "<font size=\"3\">In order to use Numpy, you have to import the package once. Since you will in the following often have to refer to numpy, we assign an alias that is faster to type (np) since programmers are lazy:</font>\n",
    "</font>"
   ]
  },
  {
   "cell_type": "code",
   "execution_count": 15,
   "metadata": {},
   "outputs": [],
   "source": [
    "# import num<py with alias np\n",
    "import numpy as np"
   ]
  },
  {
   "cell_type": "markdown",
   "metadata": {},
   "source": [
    "### NumPy Array\n",
    "\n",
    "<br>\n",
    "<font size=\"3\">A NumPy Array can have many dimensions. Let's start with one (similar to a Python list) and two dimensions (similar to a matrix):</font>"
   ]
  },
  {
   "cell_type": "code",
   "execution_count": 16,
   "metadata": {},
   "outputs": [
    {
     "name": "stdout",
     "output_type": "stream",
     "text": [
      "type(arr1) = <class 'numpy.ndarray'>\n",
      "arr1 = [1.    2.35  3.141]\n",
      "arr1.dtype = float64\n"
     ]
    }
   ],
   "source": [
    "# create a numpy array from a list\n",
    "arr1 = np.array([1.0,2.35,3.141])\n",
    "print(\"type(arr1) =\", type(arr1))\n",
    "print(\"arr1 =\", arr1)\n",
    "print(\"arr1.dtype =\", arr1.dtype)"
   ]
  },
  {
   "cell_type": "code",
   "execution_count": 17,
   "metadata": {},
   "outputs": [
    {
     "name": "stdout",
     "output_type": "stream",
     "text": [
      "type(arr2) = <class 'numpy.ndarray'>\n",
      "arr2 = \n",
      " [[0. 0. 0.]\n",
      " [0. 0. 0.]\n",
      " [0. 0. 0.]]\n",
      "arr2.dtype = float64\n"
     ]
    }
   ],
   "source": [
    "# create an 2D array / a 3x3 matrix filled with zeros\n",
    "arr2 = np.zeros((3,3))\n",
    "print(\"type(arr2) =\", type(arr2))\n",
    "print(\"arr2 = \\n\", arr2)\n",
    "print(\"arr2.dtype =\", arr2.dtype)"
   ]
  },
  {
   "cell_type": "code",
   "execution_count": 18,
   "metadata": {},
   "outputs": [
    {
     "name": "stdout",
     "output_type": "stream",
     "text": [
      "arr3 = \n",
      " [[2 2]\n",
      " [2 2]\n",
      " [2 2]]\n",
      "arr3.dtype = int64\n"
     ]
    }
   ],
   "source": [
    "# create a numpy array filled with a specific value\n",
    "arr3 = np.full((3,2), 2)\n",
    "print(\"arr3 = \\n\", arr3)\n",
    "print(\"arr3.dtype =\", arr3.dtype)"
   ]
  },
  {
   "cell_type": "markdown",
   "metadata": {},
   "source": [
    "Question: In the above cell, why is the dtype suddenly integer?"
   ]
  },
  {
   "cell_type": "code",
   "execution_count": 19,
   "metadata": {},
   "outputs": [
    {
     "name": "stdout",
     "output_type": "stream",
     "text": [
      "type(arr2) = <class 'numpy.ndarray'>\n",
      "arr2 = \n",
      " [[1. 0. 0.]\n",
      " [0. 2. 0.]\n",
      " [0. 0. 3.]]\n",
      "arr2.dtype = float64\n"
     ]
    }
   ],
   "source": [
    "# index an array element in a multi-dimensional array\n",
    "arr2[0,0] = 1\n",
    "arr2[1,1] = 2\n",
    "arr2[2,2] = 3\n",
    "print(\"type(arr2) =\", type(arr2))\n",
    "print(\"arr2 = \\n\", arr2)\n",
    "print(\"arr2.dtype =\", arr2.dtype)"
   ]
  },
  {
   "cell_type": "markdown",
   "metadata": {},
   "source": [
    "Sliced indexing follows the same rules as for regular python lists:"
   ]
  },
  {
   "cell_type": "code",
   "execution_count": 35,
   "metadata": {},
   "outputs": [
    {
     "name": "stdout",
     "output_type": "stream",
     "text": [
      "sliced arr2 = \n",
      " [[0. 2.]\n",
      " [0. 0.]]\n"
     ]
    }
   ],
   "source": [
    "#take all elements after the first from the first axis and all elements except the last from the second axis\n",
    "#returns a \"view\" into the original array without copying anything\n",
    "sliced_arr2 = arr2[1:, :-1] \n",
    "print(\"sliced arr2 = \\n\", sliced_arr2)"
   ]
  },
  {
   "cell_type": "code",
   "execution_count": 20,
   "metadata": {},
   "outputs": [
    {
     "name": "stdout",
     "output_type": "stream",
     "text": [
      "arr2.size = 9\n",
      "arr2.shape = (3, 3)\n"
     ]
    }
   ],
   "source": [
    "# using the attribute \"size\" of the numpy array is more reliable than using the len() function\n",
    "# the attribute \"shape\" contains a tuple with the array or matrix dimensions\n",
    "print(\"arr2.size =\", arr2.size)\n",
    "# convention for the shape tuple: (number of rows, number of columns) in case of a 2D array\n",
    "print(\"arr2.shape =\", arr2.shape)"
   ]
  },
  {
   "cell_type": "markdown",
   "metadata": {},
   "source": [
    "Sometimes you want or need to change the shape of your numpy array using the `reshape` method:"
   ]
  },
  {
   "cell_type": "code",
   "execution_count": 32,
   "metadata": {},
   "outputs": [
    {
     "name": "stdout",
     "output_type": "stream",
     "text": [
      "content of arr3:\n",
      "[[2 3]\n",
      " [3 5]\n",
      " [6 4]]\n",
      "shape of arr3:\n",
      "(3, 2)\n",
      "reshaped array:\n",
      " [[2 3 3]\n",
      " [5 6 4]]\n",
      "shape of the reshaped array: (2, 3)\n"
     ]
    }
   ],
   "source": [
    "# defines a numpy array with row number unequal column number\n",
    "arr3 = np.array([[2,3],[3,5],[6,4]])\n",
    "print(\"content of arr3:\")\n",
    "print(arr3)\n",
    "\n",
    "# prints the shape (number of rows, number of columns)\n",
    "print(\"shape of arr3:\")\n",
    "print(arr3.shape)\n",
    "\n",
    "# the same result could be achieved using the reshape method expecting a tuple \n",
    "# (total number of elements needs to be the same!)\n",
    "arr4 = arr3.reshape(2,3)\n",
    "\n",
    "print(\"reshaped array:\\n\", arr4)\n",
    "print(\"shape of the reshaped array:\", arr4.shape)"
   ]
  },
  {
   "cell_type": "markdown",
   "metadata": {},
   "source": [
    "There is also the `transpose` method. Beware that it does *not* the same as `reshape`:"
   ]
  },
  {
   "cell_type": "code",
   "execution_count": 33,
   "metadata": {},
   "outputs": [
    {
     "name": "stdout",
     "output_type": "stream",
     "text": [
      "transposed array (rows and columns interchanged):\n",
      "[[2 3 6]\n",
      " [3 5 4]]\n",
      "shape of the transposed array: (2, 3)\n"
     ]
    }
   ],
   "source": [
    "# transposes the array / matrix\n",
    "arr5 = arr3.T\n",
    "print(\"transposed array (rows and columns interchanged):\")\n",
    "print(arr5)\n",
    "\n",
    "# prints the shape of the transposed array\n",
    "print(\"shape of the transposed array:\", arr5.shape)"
   ]
  },
  {
   "cell_type": "markdown",
   "metadata": {},
   "source": [
    "<font size=\"3\"><b>Often you would like to perform computations over an entire row or column of your array (hence your dataset), like:\n",
    "    </b></font>"
   ]
  },
  {
   "cell_type": "code",
   "execution_count": 5,
   "metadata": {},
   "outputs": [
    {
     "name": "stdout",
     "output_type": "stream",
     "text": [
      "random number array:\n",
      "[[ 0.69155771  1.05404779  2.00053817 -0.64287973 -1.88192273  0.71156505\n",
      "  -3.30040426 -0.09984976]\n",
      " [-1.27785057  1.29422894 -1.55355293  0.27523196  0.44118924  2.45971609\n",
      "   1.41526056 -0.2544128 ]\n",
      " [-1.22906163  0.07217583  1.1266327   0.11870389  2.02426348  2.43643977\n",
      "  -5.41346238  2.01616514]\n",
      " [ 1.14728963 -1.9920876  -4.01950574  1.94603574 -0.41840262  2.70844872\n",
      "  -2.78285757 -3.30599101]\n",
      " [-1.01774104 -0.67308274 -4.28079489  0.93496898  0.49920896 -0.09342604\n",
      "   0.69135856 -1.0535226 ]\n",
      " [-1.19669249  0.45463304 -3.88571074  2.45914936  1.66187442  1.20443317\n",
      "  -1.5861446  -0.56296328]]\n",
      "Overall mean:-0.22244172563587483\n",
      "Overall standard deviation:1.9508043415545768\n",
      "[-0.4804164   0.03498588 -1.76873224  0.84853503  0.38770179  1.57119613\n",
      " -1.82937495 -0.54342905]\n",
      "[-0.18341847  0.34997631  0.1439821  -0.8396338  -0.62412885 -0.18142764]\n"
     ]
    }
   ],
   "source": [
    "# generates a 2D matrix of random floating-point numbers\n",
    "# np.random.normal generates normally distributed random numbers and expects (mean, standard deviation, size=(a,b))\n",
    "arr = np.random.normal(0,2,size=(6,8))\n",
    "print(\"random number array:\")\n",
    "print(arr)\n",
    "\n",
    "# sums all values in each column\n",
    "col_sum = np.sum(arr, axis=0)\n",
    "#print(\"row_sum = \"+str(row_sum))\n",
    "\n",
    "# sums all values in each row\n",
    "row_sum = np.sum(arr, axis=1)\n",
    "#print(\"col_sum = \"+str(col_sum))\n",
    "\n",
    "# multiplies all values in each column\n",
    "col_prod = np.prod(arr, axis=0)\n",
    "#print(\"row_prod = \"+str(row_prod))\n",
    "\n",
    "# multiplies all values in each row\n",
    "row_prod = np.prod(arr, axis=1)\n",
    "#print(\"col_prod = \"+str(col_prod))\n",
    "\n",
    "# calculate mean\n",
    "total_mean = np.mean(arr)\n",
    "print(\"Overall mean:\"+str(total_mean))\n",
    "# calculate standard deviation\n",
    "total_std = np.std(arr)\n",
    "print(\"Overall standard deviation:\"+str(total_std))\n",
    "\n",
    "# calculate mean over all elements in a column (iterates over first array dimension)\n",
    "col_mean = np.mean(arr, axis=0)\n",
    "print(col_mean)\n",
    "\n",
    "# calculate mean over all elements in a row (iterates over second array dimension)\n",
    "col_mean = np.mean(arr, axis=1)\n",
    "print(col_mean)"
   ]
  },
  {
   "cell_type": "markdown",
   "metadata": {},
   "source": [
    "<font size=\"3\"><b>Of course, you can also do elementwise manipulations and matrix multiplications (that was one of the original purposes of numpy):</b></font>"
   ]
  },
  {
   "cell_type": "code",
   "execution_count": 6,
   "metadata": {},
   "outputs": [
    {
     "name": "stdout",
     "output_type": "stream",
     "text": [
      "arr:\n",
      "[1 2 3 4]\n",
      "result of arr * 3.141:\n",
      "[ 3.141  6.282  9.423 12.564]\n",
      "arr2:\n",
      "[5 6 0 1]\n",
      "result of arr * arr2:\n",
      "[ 5 12  0  4]\n",
      "result of arr (dot) arr2:\n",
      "21\n",
      "arr:\n",
      "[[1 2]\n",
      " [5 6]\n",
      " [4 2]]\n",
      "arr2:\n",
      "[[5 6 7]\n",
      " [2 3 2]]\n",
      "result of matmul(arr,arr2):\n",
      "[[ 9 12 11]\n",
      " [37 48 47]\n",
      " [24 30 32]]\n"
     ]
    }
   ],
   "source": [
    "arr = np.array([1,2,3,4])\n",
    "print(\"arr:\")\n",
    "print(arr)\n",
    "\n",
    "# e.g multiply each element with value\n",
    "print(\"result of arr * 3.141:\")\n",
    "print(arr * 3.141)\n",
    "\n",
    "# compute the products of two arrays element-wise\n",
    "arr2 = np.array([5,6,0,1])\n",
    "print(\"arr2:\")\n",
    "print(arr2)\n",
    "result = arr * arr2\n",
    "print(\"result of arr * arr2:\")\n",
    "print(result)\n",
    "\n",
    "# compute the dot or scalar product of two vectors\n",
    "result = np.dot(arr, arr2)\n",
    "print(\"result of arr (dot) arr2:\")\n",
    "print(result)\n",
    "\n",
    "# more general, compute the product of two matrices\n",
    "arr = np.array([[1,2],[5,6],[4,2]])\n",
    "arr2 = np.array([[5,6,7],[2,3,2]])\n",
    "print(\"arr:\")\n",
    "print(arr)\n",
    "print(\"arr2:\")\n",
    "print(arr2)\n",
    "result = np.matmul(arr, arr2)\n",
    "print(\"result of matmul(arr,arr2):\")\n",
    "print(result)"
   ]
  },
  {
   "cell_type": "markdown",
   "metadata": {},
   "source": [
    "<font size=\"3\"><b>Now back to our CSV file, we can read-in the file using <a href=\"https://numpy.org/doc/stable/reference/generated/numpy.genfromtxt.html\">numpy.genfromtxt</a></b></font>"
   ]
  },
  {
   "cell_type": "code",
   "execution_count": 36,
   "metadata": {},
   "outputs": [
    {
     "name": "stdout",
     "output_type": "stream",
     "text": [
      "\n",
      "    Load data from a text file, with missing values handled as specified.\n",
      "\n",
      "    Each line past the first `skip_header` lines is split at the `delimiter`\n",
      "    character, and characters following the `comments` character are discarded.\n",
      "\n",
      "    Parameters\n",
      "    ----------\n",
      "    fname : file, str, pathlib.Path, list of str, generator\n",
      "        File, filename, list, or generator to read.  If the filename\n",
      "        extension is `.gz` or `.bz2`, the file is first decompressed. Note\n",
      "        that generators must return byte strings. The strings\n",
      "        in a list or produced by a generator are treated as lines.\n",
      "    dtype : dtype, optional\n",
      "        Data type of the resulting array.\n",
      "        If None, the dtypes will be determined by the contents of each\n",
      "        column, individually.\n",
      "    comments : str, optional\n",
      "        The character used to indicate the start of a comment.\n",
      "        All the characters occurring on a line after a comment are discarded\n",
      "    delimiter : str, int, or sequence, optional\n",
      "        The string used to separate values.  By default, any consecutive\n",
      "        whitespaces act as delimiter.  An integer or sequence of integers\n",
      "        can also be provided as width(s) of each field.\n",
      "    skiprows : int, optional\n",
      "        `skiprows` was removed in numpy 1.10. Please use `skip_header` instead.\n",
      "    skip_header : int, optional\n",
      "        The number of lines to skip at the beginning of the file.\n",
      "    skip_footer : int, optional\n",
      "        The number of lines to skip at the end of the file.\n",
      "    converters : variable, optional\n",
      "        The set of functions that convert the data of a column to a value.\n",
      "        The converters can also be used to provide a default value\n",
      "        for missing data: ``converters = {3: lambda s: float(s or 0)}``.\n",
      "    missing : variable, optional\n",
      "        `missing` was removed in numpy 1.10. Please use `missing_values`\n",
      "        instead.\n",
      "    missing_values : variable, optional\n",
      "        The set of strings corresponding to missing data.\n",
      "    filling_values : variable, optional\n",
      "        The set of values to be used as default when the data are missing.\n",
      "    usecols : sequence, optional\n",
      "        Which columns to read, with 0 being the first.  For example,\n",
      "        ``usecols = (1, 4, 5)`` will extract the 2nd, 5th and 6th columns.\n",
      "    names : {None, True, str, sequence}, optional\n",
      "        If `names` is True, the field names are read from the first line after\n",
      "        the first `skip_header` lines.  This line can optionally be proceeded\n",
      "        by a comment delimiter. If `names` is a sequence or a single-string of\n",
      "        comma-separated names, the names will be used to define the field names\n",
      "        in a structured dtype. If `names` is None, the names of the dtype\n",
      "        fields will be used, if any.\n",
      "    excludelist : sequence, optional\n",
      "        A list of names to exclude. This list is appended to the default list\n",
      "        ['return','file','print']. Excluded names are appended an underscore:\n",
      "        for example, `file` would become `file_`.\n",
      "    deletechars : str, optional\n",
      "        A string combining invalid characters that must be deleted from the\n",
      "        names.\n",
      "    defaultfmt : str, optional\n",
      "        A format used to define default field names, such as \"f%i\" or \"f_%02i\".\n",
      "    autostrip : bool, optional\n",
      "        Whether to automatically strip white spaces from the variables.\n",
      "    replace_space : char, optional\n",
      "        Character(s) used in replacement of white spaces in the variables\n",
      "        names. By default, use a '_'.\n",
      "    case_sensitive : {True, False, 'upper', 'lower'}, optional\n",
      "        If True, field names are case sensitive.\n",
      "        If False or 'upper', field names are converted to upper case.\n",
      "        If 'lower', field names are converted to lower case.\n",
      "    unpack : bool, optional\n",
      "        If True, the returned array is transposed, so that arguments may be\n",
      "        unpacked using ``x, y, z = loadtxt(...)``\n",
      "    usemask : bool, optional\n",
      "        If True, return a masked array.\n",
      "        If False, return a regular array.\n",
      "    loose : bool, optional\n",
      "        If True, do not raise errors for invalid values.\n",
      "    invalid_raise : bool, optional\n",
      "        If True, an exception is raised if an inconsistency is detected in the\n",
      "        number of columns.\n",
      "        If False, a warning is emitted and the offending lines are skipped.\n",
      "    max_rows : int,  optional\n",
      "        The maximum number of rows to read. Must not be used with skip_footer\n",
      "        at the same time.  If given, the value must be at least 1. Default is\n",
      "        to read the entire file.\n",
      "\n",
      "        .. versionadded:: 1.10.0\n",
      "    encoding : str, optional\n",
      "        Encoding used to decode the inputfile. Does not apply when `fname` is\n",
      "        a file object.  The special value 'bytes' enables backward compatibility\n",
      "        workarounds that ensure that you receive byte arrays when possible\n",
      "        and passes latin1 encoded strings to converters. Override this value to\n",
      "        receive unicode arrays and pass strings as input to converters.  If set\n",
      "        to None the system default is used. The default value is 'bytes'.\n",
      "\n",
      "        .. versionadded:: 1.14.0\n",
      "\n",
      "    Returns\n",
      "    -------\n",
      "    out : ndarray\n",
      "        Data read from the text file. If `usemask` is True, this is a\n",
      "        masked array.\n",
      "\n",
      "    See Also\n",
      "    --------\n",
      "    numpy.loadtxt : equivalent function when no data is missing.\n",
      "\n",
      "    Notes\n",
      "    -----\n",
      "    * When spaces are used as delimiters, or when no delimiter has been given\n",
      "      as input, there should not be any missing data between two fields.\n",
      "    * When the variables are named (either by a flexible dtype or with `names`),\n",
      "      there must not be any header in the file (else a ValueError\n",
      "      exception is raised).\n",
      "    * Individual values are not stripped of spaces by default.\n",
      "      When using a custom converter, make sure the function does remove spaces.\n",
      "\n",
      "    References\n",
      "    ----------\n",
      "    .. [1] NumPy User Guide, section `I/O with NumPy\n",
      "           <https://docs.scipy.org/doc/numpy/user/basics.io.genfromtxt.html>`_.\n",
      "\n",
      "    Examples\n",
      "    ---------\n",
      "    >>> from io import StringIO\n",
      "    >>> import numpy as np\n",
      "\n",
      "    Comma delimited file with mixed dtype\n",
      "\n",
      "    >>> s = StringIO(u\"1,1.3,abcde\")\n",
      "    >>> data = np.genfromtxt(s, dtype=[('myint','i8'),('myfloat','f8'),\n",
      "    ... ('mystring','S5')], delimiter=\",\")\n",
      "    >>> data\n",
      "    array((1, 1.3, b'abcde'),\n",
      "          dtype=[('myint', '<i8'), ('myfloat', '<f8'), ('mystring', 'S5')])\n",
      "\n",
      "    Using dtype = None\n",
      "\n",
      "    >>> _ = s.seek(0) # needed for StringIO example only\n",
      "    >>> data = np.genfromtxt(s, dtype=None,\n",
      "    ... names = ['myint','myfloat','mystring'], delimiter=\",\")\n",
      "    >>> data\n",
      "    array((1, 1.3, b'abcde'),\n",
      "          dtype=[('myint', '<i8'), ('myfloat', '<f8'), ('mystring', 'S5')])\n",
      "\n",
      "    Specifying dtype and names\n",
      "\n",
      "    >>> _ = s.seek(0)\n",
      "    >>> data = np.genfromtxt(s, dtype=\"i8,f8,S5\",\n",
      "    ... names=['myint','myfloat','mystring'], delimiter=\",\")\n",
      "    >>> data\n",
      "    array((1, 1.3, b'abcde'),\n",
      "          dtype=[('myint', '<i8'), ('myfloat', '<f8'), ('mystring', 'S5')])\n",
      "\n",
      "    An example with fixed-width columns\n",
      "\n",
      "    >>> s = StringIO(u\"11.3abcde\")\n",
      "    >>> data = np.genfromtxt(s, dtype=None, names=['intvar','fltvar','strvar'],\n",
      "    ...     delimiter=[1,3,5])\n",
      "    >>> data\n",
      "    array((1, 1.3, b'abcde'),\n",
      "          dtype=[('intvar', '<i8'), ('fltvar', '<f8'), ('strvar', 'S5')])\n",
      "\n",
      "    An example to show comments\n",
      "\n",
      "    >>> f = StringIO('''\n",
      "    ... text,# of chars\n",
      "    ... hello world,11\n",
      "    ... numpy,5''')\n",
      "    >>> np.genfromtxt(f, dtype='S12,S12', delimiter=',')\n",
      "    array([(b'text', b''), (b'hello world', b'11'), (b'numpy', b'5')],\n",
      "      dtype=[('f0', 'S12'), ('f1', 'S12')])\n",
      "\n",
      "    \n"
     ]
    }
   ],
   "source": [
    "# print the documentation string of the function\n",
    "print(np.genfromtxt.__doc__)"
   ]
  },
  {
   "cell_type": "code",
   "execution_count": 37,
   "metadata": {},
   "outputs": [
    {
     "name": "stdout",
     "output_type": "stream",
     "text": [
      "type(iris_data) = <class 'numpy.ndarray'>\n",
      "iris_data[:20] = [(5.1, 3.5, 1.4, 0.2, nan) (4.9, 3. , 1.4, 0.2, nan)\n",
      " (4.7, 3.2, 1.3, 0.2, nan) (4.6, 3.1, 1.5, 0.2, nan)\n",
      " (5. , 3.6, 1.4, 0.2, nan) (5.4, 3.9, 1.7, 0.4, nan)\n",
      " (4.6, 3.4, 1.4, 0.3, nan) (5. , 3.4, 1.5, 0.2, nan)\n",
      " (4.4, 2.9, 1.4, 0.2, nan) (4.9, 3.1, 1.5, 0.1, nan)\n",
      " (5.4, 3.7, 1.5, 0.2, nan) (4.8, 3.4, 1.6, 0.2, nan)\n",
      " (4.8, 3. , 1.4, 0.1, nan) (4.3, 3. , 1.1, 0.1, nan)\n",
      " (5.8, 4. , 1.2, 0.2, nan) (5.7, 4.4, 1.5, 0.4, nan)\n",
      " (5.4, 3.9, 1.3, 0.4, nan) (5.1, 3.5, 1.4, 0.3, nan)\n",
      " (5.7, 3.8, 1.7, 0.3, nan) (5.1, 3.8, 1.5, 0.3, nan)]\n",
      "iris_data.dtype = \n",
      "[('sepal_length', '<f8'), ('sepal_width', '<f8'), ('petal_length', '<f8'), ('petal_width', '<f8'), ('species', '<f8')]\n"
     ]
    }
   ],
   "source": [
    "# load data file and convert it to (named) numpy array\n",
    "iris_data = np.genfromtxt(\"data/iris.csv\", names=True, delimiter=\",\")\n",
    "# output just the first 20 rows\n",
    "print(\"type(iris_data) = \"+str(type(iris_data)))\n",
    "print(\"iris_data[:20] = \"+str(iris_data[:20]))\n",
    "#print the guess data types for the columns of the table\n",
    "print(\"iris_data.dtype = \\n\"+str(iris_data.dtype))"
   ]
  },
  {
   "cell_type": "markdown",
   "metadata": {},
   "source": [
    "<font size=\"3\"><b>Obviously, the numpy function couldn't properly guess the data type of the last column (just returning a <i>NaN</i> (not an number). But we can correct that:</b></font>"
   ]
  },
  {
   "cell_type": "code",
   "execution_count": 68,
   "metadata": {},
   "outputs": [
    {
     "name": "stdout",
     "output_type": "stream",
     "text": [
      "iris_data[:20] = [(5.1, 3.5, 1.4, 0.2, 'setosa') (4.9, 3. , 1.4, 0.2, 'setosa')\n",
      " (4.7, 3.2, 1.3, 0.2, 'setosa') (4.6, 3.1, 1.5, 0.2, 'setosa')\n",
      " (5. , 3.6, 1.4, 0.2, 'setosa') (5.4, 3.9, 1.7, 0.4, 'setosa')\n",
      " (4.6, 3.4, 1.4, 0.3, 'setosa') (5. , 3.4, 1.5, 0.2, 'setosa')\n",
      " (4.4, 2.9, 1.4, 0.2, 'setosa') (4.9, 3.1, 1.5, 0.1, 'setosa')\n",
      " (5.4, 3.7, 1.5, 0.2, 'setosa') (4.8, 3.4, 1.6, 0.2, 'setosa')\n",
      " (4.8, 3. , 1.4, 0.1, 'setosa') (4.3, 3. , 1.1, 0.1, 'setosa')\n",
      " (5.8, 4. , 1.2, 0.2, 'setosa') (5.7, 4.4, 1.5, 0.4, 'setosa')\n",
      " (5.4, 3.9, 1.3, 0.4, 'setosa') (5.1, 3.5, 1.4, 0.3, 'setosa')\n",
      " (5.7, 3.8, 1.7, 0.3, 'setosa') (5.1, 3.8, 1.5, 0.3, 'setosa')]\n",
      "iris_data.dtype = \n",
      "[('sepal_length', '<f4'), ('sepal_width', '<f4'), ('petal_length', '<f4'), ('petal_width', '<f4'), ('species', '<U16')]\n"
     ]
    }
   ],
   "source": [
    "# load data file again with defined data types and column names and \n",
    "# convert it to (named) numpy array\n",
    "iris_data = np.genfromtxt(\"data/iris.csv\", names=True,\\\n",
    "                          dtype=[('sepal_length', np.float32), ('sepal_width', np.float32),\\\n",
    "                                ('petal_length', np.float32), ('petal_width', np.float32),\\\n",
    "                                ('species', \"<U16\")], delimiter=\",\")\n",
    "print(\"iris_data[:20] = \"+str(iris_data[:20]))\n",
    "#print the guess data types for the columns of the table\n",
    "print(\"iris_data.dtype = \\n\"+str(iris_data.dtype))"
   ]
  },
  {
   "cell_type": "code",
   "execution_count": 69,
   "metadata": {},
   "outputs": [
    {
     "name": "stdout",
     "output_type": "stream",
     "text": [
      "iris_data['sepal_length'] = \n",
      "[5.1 4.9 4.7 4.6 5.  5.4 4.6 5.  4.4 4.9 5.4 4.8 4.8 4.3 5.8 5.7 5.4 5.1\n",
      " 5.7 5.1]\n"
     ]
    }
   ],
   "source": [
    "# access column data with column name\n",
    "print(\"iris_data['sepal_length'] = \\n\"+str(iris_data['sepal_length'][:20]))"
   ]
  },
  {
   "cell_type": "code",
   "execution_count": 70,
   "metadata": {},
   "outputs": [
    {
     "name": "stdout",
     "output_type": "stream",
     "text": [
      "Mean of column sepal_length:5.8433332\n",
      "Std of column sepal_length:0.8253013\n",
      "Mean of column sepal_length:5.843\n"
     ]
    }
   ],
   "source": [
    "#work with the data\n",
    "#compute mean of column\n",
    "mean = np.mean(iris_data['sepal_length'])\n",
    "#compute standard deviation of column\n",
    "std = np.std(iris_data['sepal_length'], axis=0)\n",
    "print(\"Mean of column sepal_length:\" + str(mean))\n",
    "print(\"Std of column sepal_length:\" + str(std))\n",
    "\n",
    "# round to n significant digits with np.round\n",
    "print(\"Mean of column sepal_length:\" + str(np.round(mean,3)))\n",
    "\n",
    "# or just change the number output format"
   ]
  },
  {
   "cell_type": "markdown",
   "metadata": {},
   "source": [
    "We now want to explore how to solve a relatively simple task in multiple ways to get a feeling of the variety of tools python proposes to us and an intuition of what to decide for depending on the complexity of the task.\n",
    "\n",
    "<div class=\"alert alert-block alert-success\"><b>Exercise:</b> We want to count the number of examples we have for each species (e.g. setosa). Try to solve this task...\n",
    "       <ol type=\"1\">\n",
    "           <li>using only basic python syntax and a <b>dict</b>.\n",
    "           <li>using the class <a href=\"https://docs.python.org/3/library/collections.html#collections.defaultdict\">defaultdict</a> from the standard library <b>collections</b>.\n",
    "           <li>using the <b>==</b> operator and <b>np.sum</b>.\n",
    "           <li>using the function <a href=\"https://numpy.org/doc/stable/reference/generated/numpy.unique.html\">numpy.unique</a> using the argument <i>return_counts</i>. \n",
    "       </ol>\n",
    "</div>"
   ]
  },
  {
   "cell_type": "code",
   "execution_count": 71,
   "metadata": {},
   "outputs": [],
   "source": [
    "# YOUR CODE HERE"
   ]
  },
  {
   "cell_type": "code",
   "execution_count": 74,
   "metadata": {},
   "outputs": [
    {
     "name": "stdout",
     "output_type": "stream",
     "text": [
      "1.\n",
      " {'setosa': 50, 'versicolor': 50, 'virginica': 50}\n",
      "2.\n",
      " defaultdict(<class 'int'>, {'setosa': 50, 'versicolor': 50, 'virginica': 50})\n",
      "3.\n",
      " {'setosa': 50, 'versicolor': 50, 'virginica': 50}\n",
      "4.\n",
      " (array(['setosa', 'versicolor', 'virginica'], dtype='<U16'), array([50, 50, 50]))\n"
     ]
    }
   ],
   "source": [
    "# example solution\n",
    "species = iris_data[\"species\"]\n",
    "\n",
    "# 1\n",
    "counts = {}\n",
    "for s in species:\n",
    "    if s in counts:\n",
    "        counts[s] += 1\n",
    "    else:\n",
    "        counts[s] = 1\n",
    "print(\"1.\\n\", counts)\n",
    "\n",
    "#2\n",
    "from collections import defaultdict\n",
    "counts = defaultdict(int) # values will default to 0\n",
    "for s in species: \n",
    "    counts[s] += 1\n",
    "print(\"2.\\n\", counts)\n",
    "\n",
    "#3 \n",
    "#using dictionary comprehension\n",
    "counts = {s : np.sum(species == s) for s in species}\n",
    "print(\"3.\\n\", counts)\n",
    "\n",
    "#4 \n",
    "counts = np.unique(species, return_counts=True)\n",
    "print(\"4.\\n\", counts)"
   ]
  },
  {
   "cell_type": "markdown",
   "metadata": {},
   "source": [
    "Lets do short discussion:\n",
    "\n",
    "1. Which is the most natural and readable attempt in your opinion?\n",
    "2. Is there a *best* way of solving this task?\n",
    "3. Do you ever want to use approach 1 over the others?"
   ]
  },
  {
   "cell_type": "markdown",
   "metadata": {},
   "source": [
    "<font size=\"3\"><div class=\"alert alert-block alert-success\"><b>Optional Exercise:</b> Write a function which loads a file (<b>in this case applied to <i>data/glass.csv<i></b>), print the shape of the resulting array, print the first N rows (adjustable via a function argument), compute and return the means and standard deviations for the data columns and print the results (adjustable via a parameter). The result of <b>numpy.genfromtxt is different in this case since glass.csv does not contain mixed data types. You don't need to specify the column data types in this case.</b><br><br>\n",
    "    <b>Hint:</b> <b>Use the numpy functions <a href=\"https://numpy.org/doc/stable/reference/generated/numpy.mean.html\">np.mean</a> and <a href=\"https://numpy.org/doc/stable/reference/generated/numpy.std.html\">np.std</a></b> to compute the mean and the standard deviaton. The parameter axis allows to specifiy for which dimension/axis you'd like to perform the computation. So you don't need to use a loop.<br><br>\n",
    "If you use the keyword argument <b>names = True</b> in numpy.genfromtxt, a named array will be returned where column data can be addressed via the column name defined in the first row of the file.\n",
    "</div>\n",
    "    \n",
    "<b>Try it yourself here:</b></font>"
   ]
  },
  {
   "cell_type": "code",
   "execution_count": null,
   "metadata": {},
   "outputs": [],
   "source": []
  },
  {
   "cell_type": "markdown",
   "metadata": {},
   "source": [
    "### Example Solution:"
   ]
  },
  {
   "cell_type": "code",
   "execution_count": 75,
   "metadata": {},
   "outputs": [
    {
     "name": "stdout",
     "output_type": "stream",
     "text": [
      "[[1.00000e+00 1.52101e+00 1.36400e+01 4.49000e+00 1.10000e+00 7.17800e+01\n",
      "  6.00000e-02 8.75000e+00 0.00000e+00 0.00000e+00 1.00000e+00]\n",
      " [2.00000e+00 1.51761e+00 1.38900e+01 3.60000e+00 1.36000e+00 7.27300e+01\n",
      "  4.80000e-01 7.83000e+00 0.00000e+00 0.00000e+00 1.00000e+00]\n",
      " [3.00000e+00 1.51618e+00 1.35300e+01 3.55000e+00 1.54000e+00 7.29900e+01\n",
      "  3.90000e-01 7.78000e+00 0.00000e+00 0.00000e+00 1.00000e+00]\n",
      " [4.00000e+00 1.51766e+00 1.32100e+01 3.69000e+00 1.29000e+00 7.26100e+01\n",
      "  5.70000e-01 8.22000e+00 0.00000e+00 0.00000e+00 1.00000e+00]\n",
      " [5.00000e+00 1.51742e+00 1.32700e+01 3.62000e+00 1.24000e+00 7.30800e+01\n",
      "  5.50000e-01 8.07000e+00 0.00000e+00 0.00000e+00 1.00000e+00]\n",
      " [6.00000e+00 1.51596e+00 1.27900e+01 3.61000e+00 1.62000e+00 7.29700e+01\n",
      "  6.40000e-01 8.07000e+00 0.00000e+00 2.60000e-01 1.00000e+00]\n",
      " [7.00000e+00 1.51743e+00 1.33000e+01 3.60000e+00 1.14000e+00 7.30900e+01\n",
      "  5.80000e-01 8.17000e+00 0.00000e+00 0.00000e+00 1.00000e+00]\n",
      " [8.00000e+00 1.51756e+00 1.31500e+01 3.61000e+00 1.05000e+00 7.32400e+01\n",
      "  5.70000e-01 8.24000e+00 0.00000e+00 0.00000e+00 1.00000e+00]\n",
      " [9.00000e+00 1.51918e+00 1.40400e+01 3.58000e+00 1.37000e+00 7.20800e+01\n",
      "  5.60000e-01 8.30000e+00 0.00000e+00 0.00000e+00 1.00000e+00]\n",
      " [1.00000e+01 1.51755e+00 1.30000e+01 3.60000e+00 1.36000e+00 7.29900e+01\n",
      "  5.70000e-01 8.40000e+00 0.00000e+00 1.10000e-01 1.00000e+00]]\n",
      "means:[1.07500000e+02 1.51836542e+00 1.34078505e+01 2.68453271e+00\n",
      " 1.44490654e+00 7.26509346e+01 4.97056075e-01 8.95696262e+00\n",
      " 1.75046729e-01 5.70093458e-02 2.78037383e+00]\n",
      "stds:[6.17758043e+01 3.02975995e-03 8.14693369e-01 1.43903379e+00\n",
      " 4.98101762e-01 7.72733989e-01 6.50666249e-01 1.41982447e+00\n",
      " 4.96056173e-01 9.72107735e-02 2.09881761e+00]\n"
     ]
    }
   ],
   "source": [
    "import numpy as np  \n",
    "def process_file(file, n_rows = 10, print_result = True): \n",
    "    glass_data = np.genfromtxt(file, delimiter=\",\", skip_header=1) \n",
    "    print(glass_data[:n_rows,:]) \n",
    "    means = np.mean(glass_data, axis = 0) \n",
    "    stds = np.std(glass_data, axis = 0) \n",
    "    if print_result: \n",
    "        print(\"means:\"+str(means)) \n",
    "        print(\"stds:\"+str(stds)) \n",
    "    return means, stds\n",
    "means, stds=process_file(\"data/glass.csv\", n_rows = 10, print_result = True)"
   ]
  },
  {
   "cell_type": "markdown",
   "metadata": {},
   "source": [
    "<br><br><br>\n",
    "## A short introduction to Pandas\n",
    "\n",
    "<br>\n",
    "<font size=\"3\">\n",
    "Neither NumPy arrays, nor any of the native Python data structures (e.g. lists, dicts, ...) are suitable to handle the data that is typically generated in scientific experiments or by surveys. These are typically tables where one column contains one data type, but different columns may have different data types. As you could see, this is problematic when numpy is used. The solution in Python is to use <a href=\"https://pandas.pydata.org/\">Pandas</a>. Pandas is also most popular for time series data and it also facilitates any statistical evaluation on big data sets.\n",
    "<br><br>\n",
    "If we want to use Pandas, we have to import it:\n",
    "</font>"
   ]
  },
  {
   "cell_type": "code",
   "execution_count": 48,
   "metadata": {},
   "outputs": [],
   "source": [
    "import pandas as pd"
   ]
  },
  {
   "cell_type": "markdown",
   "metadata": {},
   "source": [
    "<font size=\"3\">\n",
    "With Pandas, we can easily import a csv file that had previously been exported from LibreOffice Calc (or similar Office software):\n",
    "</font>"
   ]
  },
  {
   "cell_type": "code",
   "execution_count": 49,
   "metadata": {},
   "outputs": [
    {
     "data": {
      "text/html": [
       "<div>\n",
       "<style scoped>\n",
       "    .dataframe tbody tr th:only-of-type {\n",
       "        vertical-align: middle;\n",
       "    }\n",
       "\n",
       "    .dataframe tbody tr th {\n",
       "        vertical-align: top;\n",
       "    }\n",
       "\n",
       "    .dataframe thead th {\n",
       "        text-align: right;\n",
       "    }\n",
       "</style>\n",
       "<table border=\"1\" class=\"dataframe\">\n",
       "  <thead>\n",
       "    <tr style=\"text-align: right;\">\n",
       "      <th></th>\n",
       "      <th>variety</th>\n",
       "      <th>yield</th>\n",
       "    </tr>\n",
       "  </thead>\n",
       "  <tbody>\n",
       "    <tr>\n",
       "      <th>0</th>\n",
       "      <td>A</td>\n",
       "      <td>25.12</td>\n",
       "    </tr>\n",
       "    <tr>\n",
       "      <th>1</th>\n",
       "      <td>A</td>\n",
       "      <td>17.25</td>\n",
       "    </tr>\n",
       "    <tr>\n",
       "      <th>2</th>\n",
       "      <td>A</td>\n",
       "      <td>26.42</td>\n",
       "    </tr>\n",
       "    <tr>\n",
       "      <th>3</th>\n",
       "      <td>A</td>\n",
       "      <td>16.08</td>\n",
       "    </tr>\n",
       "    <tr>\n",
       "      <th>4</th>\n",
       "      <td>A</td>\n",
       "      <td>22.15</td>\n",
       "    </tr>\n",
       "    <tr>\n",
       "      <th>5</th>\n",
       "      <td>A</td>\n",
       "      <td>15.92</td>\n",
       "    </tr>\n",
       "    <tr>\n",
       "      <th>6</th>\n",
       "      <td>B</td>\n",
       "      <td>40.25</td>\n",
       "    </tr>\n",
       "    <tr>\n",
       "      <th>7</th>\n",
       "      <td>B</td>\n",
       "      <td>35.25</td>\n",
       "    </tr>\n",
       "    <tr>\n",
       "      <th>8</th>\n",
       "      <td>B</td>\n",
       "      <td>31.98</td>\n",
       "    </tr>\n",
       "    <tr>\n",
       "      <th>9</th>\n",
       "      <td>B</td>\n",
       "      <td>36.52</td>\n",
       "    </tr>\n",
       "    <tr>\n",
       "      <th>10</th>\n",
       "      <td>B</td>\n",
       "      <td>43.32</td>\n",
       "    </tr>\n",
       "    <tr>\n",
       "      <th>11</th>\n",
       "      <td>B</td>\n",
       "      <td>37.10</td>\n",
       "    </tr>\n",
       "    <tr>\n",
       "      <th>12</th>\n",
       "      <td>C</td>\n",
       "      <td>18.30</td>\n",
       "    </tr>\n",
       "    <tr>\n",
       "      <th>13</th>\n",
       "      <td>C</td>\n",
       "      <td>22.60</td>\n",
       "    </tr>\n",
       "    <tr>\n",
       "      <th>14</th>\n",
       "      <td>C</td>\n",
       "      <td>25.90</td>\n",
       "    </tr>\n",
       "    <tr>\n",
       "      <th>15</th>\n",
       "      <td>C</td>\n",
       "      <td>15.05</td>\n",
       "    </tr>\n",
       "    <tr>\n",
       "      <th>16</th>\n",
       "      <td>C</td>\n",
       "      <td>11.42</td>\n",
       "    </tr>\n",
       "    <tr>\n",
       "      <th>17</th>\n",
       "      <td>C</td>\n",
       "      <td>23.68</td>\n",
       "    </tr>\n",
       "    <tr>\n",
       "      <th>18</th>\n",
       "      <td>D</td>\n",
       "      <td>28.55</td>\n",
       "    </tr>\n",
       "    <tr>\n",
       "      <th>19</th>\n",
       "      <td>D</td>\n",
       "      <td>28.05</td>\n",
       "    </tr>\n",
       "    <tr>\n",
       "      <th>20</th>\n",
       "      <td>D</td>\n",
       "      <td>33.20</td>\n",
       "    </tr>\n",
       "    <tr>\n",
       "      <th>21</th>\n",
       "      <td>D</td>\n",
       "      <td>31.68</td>\n",
       "    </tr>\n",
       "    <tr>\n",
       "      <th>22</th>\n",
       "      <td>D</td>\n",
       "      <td>30.32</td>\n",
       "    </tr>\n",
       "    <tr>\n",
       "      <th>23</th>\n",
       "      <td>D</td>\n",
       "      <td>27.58</td>\n",
       "    </tr>\n",
       "  </tbody>\n",
       "</table>\n",
       "</div>"
      ],
      "text/plain": [
       "   variety  yield\n",
       "0        A  25.12\n",
       "1        A  17.25\n",
       "2        A  26.42\n",
       "3        A  16.08\n",
       "4        A  22.15\n",
       "5        A  15.92\n",
       "6        B  40.25\n",
       "7        B  35.25\n",
       "8        B  31.98\n",
       "9        B  36.52\n",
       "10       B  43.32\n",
       "11       B  37.10\n",
       "12       C  18.30\n",
       "13       C  22.60\n",
       "14       C  25.90\n",
       "15       C  15.05\n",
       "16       C  11.42\n",
       "17       C  23.68\n",
       "18       D  28.55\n",
       "19       D  28.05\n",
       "20       D  33.20\n",
       "21       D  31.68\n",
       "22       D  30.32\n",
       "23       D  27.58"
      ]
     },
     "execution_count": 49,
     "metadata": {},
     "output_type": "execute_result"
    }
   ],
   "source": [
    "melon = pd.read_csv('data/melon.csv', sep='\\t')\n",
    "melon"
   ]
  },
  {
   "cell_type": "markdown",
   "metadata": {},
   "source": [
    "We can play with accessing parts of the melon data set. However, if we decide to use pandas, we have to detach from our understanding of indexing a little bit:"
   ]
  },
  {
   "cell_type": "code",
   "execution_count": 50,
   "metadata": {},
   "outputs": [
    {
     "name": "stdout",
     "output_type": "stream",
     "text": [
      "access lines 1 and 2, all columns:\n",
      "  variety  yield\n",
      "1       A  17.25\n",
      "2       A  26.42\n"
     ]
    }
   ],
   "source": [
    "print(\"access lines 1 and 2, all columns:\")\n",
    "# line index is 0-based\n",
    "# integer-location based indexing for selection by position\n",
    "print(melon.iloc[1:3,:])"
   ]
  },
  {
   "cell_type": "code",
   "execution_count": 51,
   "metadata": {},
   "outputs": [
    {
     "name": "stdout",
     "output_type": "stream",
     "text": [
      "access a particular single value as scalar:\n",
      "17.25\n"
     ]
    }
   ],
   "source": [
    "print(\"access a particular single value as scalar:\")\n",
    "print(melon.iloc[1,1])"
   ]
  },
  {
   "cell_type": "code",
   "execution_count": 56,
   "metadata": {},
   "outputs": [
    {
     "name": "stdout",
     "output_type": "stream",
     "text": [
      "access a column by name (only first couple of lines):\n",
      "0    A\n",
      "1    A\n",
      "2    A\n",
      "3    A\n",
      "4    A\n",
      "Name: variety, dtype: object\n"
     ]
    }
   ],
   "source": [
    "print(\"access a column by name (only first couple of lines):\")\n",
    "# access a whole column with column name as index\n",
    "print(melon[\"variety\"].head()) #melon.variety works as welL!"
   ]
  },
  {
   "cell_type": "code",
   "execution_count": 57,
   "metadata": {},
   "outputs": [
    {
     "name": "stdout",
     "output_type": "stream",
     "text": [
      "access multiple columns:\n",
      "  variety  yield\n",
      "0       A  25.12\n",
      "1       A  17.25\n",
      "2       A  26.42\n",
      "3       A  16.08\n",
      "4       A  22.15\n"
     ]
    }
   ],
   "source": [
    "print(\"access multiple columns:\")\n",
    "# access multiple columns with list of column names\n",
    "print(melon[[\"variety\",\"yield\"]].head())"
   ]
  },
  {
   "cell_type": "code",
   "execution_count": 58,
   "metadata": {},
   "outputs": [
    {
     "name": "stdout",
     "output_type": "stream",
     "text": [
      "yields rows of dataframe where yield >37:\n",
      "   variety  yield\n",
      "6        B  40.25\n",
      "10       B  43.32\n",
      "11       B  37.10\n"
     ]
    }
   ],
   "source": [
    "# like in Numpy we can also use comparisons in Pandas when elements are addressed\n",
    "print(\"yields rows of dataframe where yield >37:\")\n",
    "print(melon[melon['yield'] > 37])"
   ]
  },
  {
   "cell_type": "code",
   "execution_count": 59,
   "metadata": {},
   "outputs": [
    {
     "name": "stdout",
     "output_type": "stream",
     "text": [
      "yields rows of dataframe where variety == D:\n",
      "   variety  yield\n",
      "18       D  28.55\n",
      "19       D  28.05\n",
      "20       D  33.20\n",
      "21       D  31.68\n",
      "22       D  30.32\n",
      "23       D  27.58\n"
     ]
    }
   ],
   "source": [
    "# just selects entries matching the condition\n",
    "print(\"yields rows of dataframe where variety == D:\")\n",
    "print(melon[melon['variety'] == 'D'])"
   ]
  },
  {
   "cell_type": "code",
   "execution_count": 60,
   "metadata": {},
   "outputs": [
    {
     "name": "stdout",
     "output_type": "stream",
     "text": [
      "variety    6\n",
      "yield      6\n",
      "dtype: int64\n"
     ]
    }
   ],
   "source": [
    "# count the number of occurrences of this variety\n",
    "print(melon[melon[\"variety\"] == \"C\"].count())"
   ]
  },
  {
   "cell_type": "code",
   "execution_count": 61,
   "metadata": {},
   "outputs": [
    {
     "name": "stdout",
     "output_type": "stream",
     "text": [
      "             yield\n",
      "variety           \n",
      "A        20.490000\n",
      "B        37.403333\n",
      "C        19.491667\n",
      "D        29.896667\n",
      "            yield\n",
      "variety          \n",
      "A        4.694422\n",
      "B        3.950497\n",
      "C        5.560052\n",
      "D        2.229894\n"
     ]
    }
   ],
   "source": [
    "# group-by functionality facilitates analyses\n",
    "# computes the mean for each data group based on column variety which can contain A,B,C or D\n",
    "print(melon.groupby(\"variety\").mean())\n",
    "print(melon.groupby(\"variety\").std())"
   ]
  },
  {
   "cell_type": "markdown",
   "metadata": {},
   "source": [
    "<font size=\"3\">Table-like data in Pandas is stored in DataFrame objects, as we can see, when we check the datatype of our melon dataset:</font>"
   ]
  },
  {
   "cell_type": "code",
   "execution_count": 62,
   "metadata": {},
   "outputs": [
    {
     "name": "stdout",
     "output_type": "stream",
     "text": [
      "<class 'pandas.core.frame.DataFrame'>\n"
     ]
    }
   ],
   "source": [
    "print(type(melon))"
   ]
  },
  {
   "cell_type": "markdown",
   "metadata": {},
   "source": [
    "<font size=\"3\">A DataFrame can also be created manually from one or more lists or numpy arrays:</font>"
   ]
  },
  {
   "cell_type": "code",
   "execution_count": 63,
   "metadata": {},
   "outputs": [
    {
     "data": {
      "text/html": [
       "<div>\n",
       "<style scoped>\n",
       "    .dataframe tbody tr th:only-of-type {\n",
       "        vertical-align: middle;\n",
       "    }\n",
       "\n",
       "    .dataframe tbody tr th {\n",
       "        vertical-align: top;\n",
       "    }\n",
       "\n",
       "    .dataframe thead th {\n",
       "        text-align: right;\n",
       "    }\n",
       "</style>\n",
       "<table border=\"1\" class=\"dataframe\">\n",
       "  <thead>\n",
       "    <tr style=\"text-align: right;\">\n",
       "      <th></th>\n",
       "      <th>numbers</th>\n",
       "    </tr>\n",
       "  </thead>\n",
       "  <tbody>\n",
       "    <tr>\n",
       "      <th>a</th>\n",
       "      <td>123</td>\n",
       "    </tr>\n",
       "    <tr>\n",
       "      <th>b</th>\n",
       "      <td>23</td>\n",
       "    </tr>\n",
       "    <tr>\n",
       "      <th>c</th>\n",
       "      <td>54</td>\n",
       "    </tr>\n",
       "    <tr>\n",
       "      <th>d</th>\n",
       "      <td>15</td>\n",
       "    </tr>\n",
       "    <tr>\n",
       "      <th>e</th>\n",
       "      <td>89</td>\n",
       "    </tr>\n",
       "  </tbody>\n",
       "</table>\n",
       "</div>"
      ],
      "text/plain": [
       "   numbers\n",
       "a      123\n",
       "b       23\n",
       "c       54\n",
       "d       15\n",
       "e       89"
      ]
     },
     "execution_count": 63,
     "metadata": {},
     "output_type": "execute_result"
    }
   ],
   "source": [
    "# You can define a name for each column with the parameter columns\n",
    "# The special thing about Pandas is now that one column can also be defined as index or can\n",
    "# be explicitly defined. Indexation is a key feature of big databases to speed-up queries.b\n",
    "df = pd.DataFrame([123,23,54,15,89], columns=[\"numbers\"], index=[\"a\",\"b\",\"c\",\"d\",\"e\"])\n",
    "df"
   ]
  },
  {
   "cell_type": "markdown",
   "metadata": {},
   "source": [
    "You can then access elements also by their identifiers specified in with the *inex* argument above using `loc`."
   ]
  },
  {
   "cell_type": "code",
   "execution_count": 73,
   "metadata": {},
   "outputs": [
    {
     "name": "stdout",
     "output_type": "stream",
     "text": [
      "numbers    54\n",
      "Name: c, dtype: int64\n",
      "numbers    54\n",
      "Name: c, dtype: int64\n"
     ]
    }
   ],
   "source": [
    "print(\"df.loc[c]: \\n\", df.loc[\"c\"], \"\\n\")\n",
    "#which is the same as\n",
    "print(\"df.iloc[2]: \\n\", df.iloc[2])"
   ]
  },
  {
   "cell_type": "markdown",
   "metadata": {},
   "source": [
    "The distinction is useful for instance when splitting or concatenating dataframes: `iloc` will change, `loc` won't:"
   ]
  },
  {
   "cell_type": "code",
   "execution_count": 78,
   "metadata": {},
   "outputs": [
    {
     "name": "stdout",
     "output_type": "stream",
     "text": [
      "df_sliced:\n",
      "    numbers\n",
      "c       54\n",
      "d       15\n",
      "e       89 \n",
      "\n",
      "df.loc[c]: \n",
      " numbers    54\n",
      "Name: c, dtype: int64 \n",
      "\n",
      "df.iloc[2]: \n",
      " numbers    89\n",
      "Name: e, dtype: int64\n"
     ]
    }
   ],
   "source": [
    "df_sliced = df[2:]\n",
    "print(\"df_sliced:\\n\", df_sliced, \"\\n\")\n",
    "print(\"df.loc[c]: \\n\", df_sliced.loc[\"c\"], \"\\n\")\n",
    "print(\"df.iloc[2]: \\n\", df_sliced.iloc[2])"
   ]
  },
  {
   "cell_type": "markdown",
   "metadata": {},
   "source": [
    "<font size=\"3\">A Pandas DataFrame object also has useful attributes like index and columns:</font>"
   ]
  },
  {
   "cell_type": "code",
   "execution_count": 88,
   "metadata": {},
   "outputs": [
    {
     "name": "stdout",
     "output_type": "stream",
     "text": [
      "Index(['a', 'b', 'c', 'd', 'e'], dtype='object')\n",
      "Index(['numbers'], dtype='object')\n",
      "numbers    int64\n",
      "dtype: object\n"
     ]
    }
   ],
   "source": [
    "print(df.index)\n",
    "print(df.columns)\n",
    "print(df.dtypes)"
   ]
  },
  {
   "cell_type": "markdown",
   "metadata": {},
   "source": [
    "<font size=\"3\">Once defined, in contrast to a numpy array, a DataFrame can be enlarged as well by other columns even if the columns contain a different data type:</font>"
   ]
  },
  {
   "cell_type": "code",
   "execution_count": 90,
   "metadata": {},
   "outputs": [
    {
     "data": {
      "text/html": [
       "<div>\n",
       "<style scoped>\n",
       "    .dataframe tbody tr th:only-of-type {\n",
       "        vertical-align: middle;\n",
       "    }\n",
       "\n",
       "    .dataframe tbody tr th {\n",
       "        vertical-align: top;\n",
       "    }\n",
       "\n",
       "    .dataframe thead th {\n",
       "        text-align: right;\n",
       "    }\n",
       "</style>\n",
       "<table border=\"1\" class=\"dataframe\">\n",
       "  <thead>\n",
       "    <tr style=\"text-align: right;\">\n",
       "      <th></th>\n",
       "      <th>numbers</th>\n",
       "      <th>floats</th>\n",
       "      <th>names</th>\n",
       "    </tr>\n",
       "  </thead>\n",
       "  <tbody>\n",
       "    <tr>\n",
       "      <th>a</th>\n",
       "      <td>123</td>\n",
       "      <td>1.23</td>\n",
       "      <td>Marco</td>\n",
       "    </tr>\n",
       "    <tr>\n",
       "      <th>b</th>\n",
       "      <td>23</td>\n",
       "      <td>5.67</td>\n",
       "      <td>Alex</td>\n",
       "    </tr>\n",
       "    <tr>\n",
       "      <th>c</th>\n",
       "      <td>54</td>\n",
       "      <td>4.31</td>\n",
       "      <td>John</td>\n",
       "    </tr>\n",
       "    <tr>\n",
       "      <th>d</th>\n",
       "      <td>15</td>\n",
       "      <td>6.89</td>\n",
       "      <td>Michael</td>\n",
       "    </tr>\n",
       "    <tr>\n",
       "      <th>e</th>\n",
       "      <td>89</td>\n",
       "      <td>5.34</td>\n",
       "      <td>Alistair</td>\n",
       "    </tr>\n",
       "  </tbody>\n",
       "</table>\n",
       "</div>"
      ],
      "text/plain": [
       "   numbers  floats     names\n",
       "a      123    1.23     Marco\n",
       "b       23    5.67      Alex\n",
       "c       54    4.31      John\n",
       "d       15    6.89   Michael\n",
       "e       89    5.34  Alistair"
      ]
     },
     "execution_count": 90,
     "metadata": {},
     "output_type": "execute_result"
    }
   ],
   "source": [
    "df['floats'] = [1.23, 5.67, 4.31, 6.89, 5.34]\n",
    "df['names'] = ['Marco', 'Alex', 'John', 'Michael', 'Alistair']\n",
    "df"
   ]
  },
  {
   "cell_type": "code",
   "execution_count": 91,
   "metadata": {},
   "outputs": [
    {
     "name": "stdout",
     "output_type": "stream",
     "text": [
      "numbers      int64\n",
      "floats     float64\n",
      "names       object\n",
      "dtype: object\n"
     ]
    }
   ],
   "source": [
    "print(df.dtypes)"
   ]
  },
  {
   "cell_type": "markdown",
   "metadata": {},
   "source": [
    "<font size=\"3\">Or we simply add a new row with data providing a new DataFrame, but once an index has been defined, we need to make sure to provide then index values as well:</font>"
   ]
  },
  {
   "cell_type": "code",
   "execution_count": 92,
   "metadata": {},
   "outputs": [
    {
     "data": {
      "text/html": [
       "<div>\n",
       "<style scoped>\n",
       "    .dataframe tbody tr th:only-of-type {\n",
       "        vertical-align: middle;\n",
       "    }\n",
       "\n",
       "    .dataframe tbody tr th {\n",
       "        vertical-align: top;\n",
       "    }\n",
       "\n",
       "    .dataframe thead th {\n",
       "        text-align: right;\n",
       "    }\n",
       "</style>\n",
       "<table border=\"1\" class=\"dataframe\">\n",
       "  <thead>\n",
       "    <tr style=\"text-align: right;\">\n",
       "      <th></th>\n",
       "      <th>numbers</th>\n",
       "      <th>floats</th>\n",
       "      <th>names</th>\n",
       "    </tr>\n",
       "  </thead>\n",
       "  <tbody>\n",
       "    <tr>\n",
       "      <th>a</th>\n",
       "      <td>123</td>\n",
       "      <td>1.23</td>\n",
       "      <td>Marco</td>\n",
       "    </tr>\n",
       "    <tr>\n",
       "      <th>b</th>\n",
       "      <td>23</td>\n",
       "      <td>5.67</td>\n",
       "      <td>Alex</td>\n",
       "    </tr>\n",
       "    <tr>\n",
       "      <th>c</th>\n",
       "      <td>54</td>\n",
       "      <td>4.31</td>\n",
       "      <td>John</td>\n",
       "    </tr>\n",
       "    <tr>\n",
       "      <th>d</th>\n",
       "      <td>15</td>\n",
       "      <td>6.89</td>\n",
       "      <td>Michael</td>\n",
       "    </tr>\n",
       "    <tr>\n",
       "      <th>e</th>\n",
       "      <td>89</td>\n",
       "      <td>5.34</td>\n",
       "      <td>Alistair</td>\n",
       "    </tr>\n",
       "    <tr>\n",
       "      <th>f</th>\n",
       "      <td>273</td>\n",
       "      <td>8.98</td>\n",
       "      <td>Florian</td>\n",
       "    </tr>\n",
       "  </tbody>\n",
       "</table>\n",
       "</div>"
      ],
      "text/plain": [
       "   numbers  floats     names\n",
       "a      123    1.23     Marco\n",
       "b       23    5.67      Alex\n",
       "c       54    4.31      John\n",
       "d       15    6.89   Michael\n",
       "e       89    5.34  Alistair\n",
       "f      273    8.98   Florian"
      ]
     },
     "execution_count": 92,
     "metadata": {},
     "output_type": "execute_result"
    }
   ],
   "source": [
    "df.append(pd.DataFrame({'numbers': 273, 'floats': 8.98, 'names': \"Florian\"}, index=['f']))"
   ]
  },
  {
   "cell_type": "markdown",
   "metadata": {},
   "source": [
    "<div class=\"alert alert-block alert-success\"><b>Exercise:</b>\n",
    "Check out the original dataframe and some transformations applied to it in the next cell. Answer the following questions intuitively before checking the correct answer with code:\n",
    "<ol>\n",
    "    <li>What name prints df_new.loc[0]?</li>\n",
    "    <li>What name prints df_new.iloc[0]?</li>\n",
    "    <li>What name prints df_new.loc[-1]?</li>\n",
    "    <li>What name prints df_new.iloc[-1]?</li>\n",
    "</ol>\n",
    "</div>"
   ]
  },
  {
   "cell_type": "code",
   "execution_count": 91,
   "metadata": {},
   "outputs": [
    {
     "name": "stdout",
     "output_type": "stream",
     "text": [
      "df:\n",
      "    numbers  floats     names\n",
      "0      123    1.23     Marco\n",
      "1       23    5.67      Alex\n",
      "2       54    4.31      John\n",
      "3       15    6.89   Michael\n",
      "4       89    5.34  Alistair\n"
     ]
    }
   ],
   "source": [
    "df = pd.DataFrame()\n",
    "df['numbers'] = [123,23,54,15,89]\n",
    "df['floats'] = [1.23, 5.67, 4.31, 6.89, 5.34]\n",
    "df['names'] = ['Marco', 'Alex', 'John', 'Michael', 'Alistair']\n",
    "print(\"df:\\n\", df)\n",
    "\n",
    "#apply some slicing and concatenating\n",
    "df1 = df.iloc[1:-1]\n",
    "df2 = df1.loc[2]\n",
    "df3 = df.iloc[0]\n",
    "df_new = df1.append(df2).append(df3)"
   ]
  },
  {
   "cell_type": "markdown",
   "metadata": {},
   "source": [
    "<font size=\"3\">The index of a Pandas DataFrame can also be a timestamp which is useful for time series data. Pandas also has some useful built-in plotting functionality. As example, we load the dataset of the DAX share price index and plot it using Pandas."
   ]
  },
  {
   "cell_type": "markdown",
   "metadata": {},
   "source": [
    " \n",
    "<b>We need to install a new package first:</b></font>"
   ]
  },
  {
   "cell_type": "code",
   "execution_count": null,
   "metadata": {},
   "outputs": [],
   "source": [
    "%%bash\n",
    "pip install pandas-datareader"
   ]
  },
  {
   "cell_type": "markdown",
   "metadata": {},
   "source": [
    "<font size=\"3\">Then we need to import the new module and download the data:</font>"
   ]
  },
  {
   "cell_type": "code",
   "execution_count": 97,
   "metadata": {},
   "outputs": [
    {
     "data": {
      "text/html": [
       "<div>\n",
       "<style scoped>\n",
       "    .dataframe tbody tr th:only-of-type {\n",
       "        vertical-align: middle;\n",
       "    }\n",
       "\n",
       "    .dataframe tbody tr th {\n",
       "        vertical-align: top;\n",
       "    }\n",
       "\n",
       "    .dataframe thead th {\n",
       "        text-align: right;\n",
       "    }\n",
       "</style>\n",
       "<table border=\"1\" class=\"dataframe\">\n",
       "  <thead>\n",
       "    <tr style=\"text-align: right;\">\n",
       "      <th></th>\n",
       "      <th>High</th>\n",
       "      <th>Low</th>\n",
       "      <th>Open</th>\n",
       "      <th>Close</th>\n",
       "      <th>Volume</th>\n",
       "      <th>Adj Close</th>\n",
       "    </tr>\n",
       "    <tr>\n",
       "      <th>Date</th>\n",
       "      <th></th>\n",
       "      <th></th>\n",
       "      <th></th>\n",
       "      <th></th>\n",
       "      <th></th>\n",
       "      <th></th>\n",
       "    </tr>\n",
       "  </thead>\n",
       "  <tbody>\n",
       "    <tr>\n",
       "      <th>2000-01-03</th>\n",
       "      <td>7159.330078</td>\n",
       "      <td>6720.870117</td>\n",
       "      <td>6961.720215</td>\n",
       "      <td>6750.759766</td>\n",
       "      <td>43072500.0</td>\n",
       "      <td>6750.759766</td>\n",
       "    </tr>\n",
       "    <tr>\n",
       "      <th>2000-01-04</th>\n",
       "      <td>6755.359863</td>\n",
       "      <td>6510.459961</td>\n",
       "      <td>6747.240234</td>\n",
       "      <td>6586.950195</td>\n",
       "      <td>46678400.0</td>\n",
       "      <td>6586.950195</td>\n",
       "    </tr>\n",
       "    <tr>\n",
       "      <th>2000-01-05</th>\n",
       "      <td>6585.850098</td>\n",
       "      <td>6388.910156</td>\n",
       "      <td>6585.850098</td>\n",
       "      <td>6502.069824</td>\n",
       "      <td>52682800.0</td>\n",
       "      <td>6502.069824</td>\n",
       "    </tr>\n",
       "    <tr>\n",
       "      <th>2000-01-06</th>\n",
       "      <td>6539.310059</td>\n",
       "      <td>6402.629883</td>\n",
       "      <td>6501.450195</td>\n",
       "      <td>6474.919922</td>\n",
       "      <td>41180600.0</td>\n",
       "      <td>6474.919922</td>\n",
       "    </tr>\n",
       "    <tr>\n",
       "      <th>2000-01-07</th>\n",
       "      <td>6791.529785</td>\n",
       "      <td>6470.140137</td>\n",
       "      <td>6489.939941</td>\n",
       "      <td>6780.959961</td>\n",
       "      <td>56058900.0</td>\n",
       "      <td>6780.959961</td>\n",
       "    </tr>\n",
       "  </tbody>\n",
       "</table>\n",
       "</div>"
      ],
      "text/plain": [
       "                   High          Low         Open        Close      Volume  \\\n",
       "Date                                                                         \n",
       "2000-01-03  7159.330078  6720.870117  6961.720215  6750.759766  43072500.0   \n",
       "2000-01-04  6755.359863  6510.459961  6747.240234  6586.950195  46678400.0   \n",
       "2000-01-05  6585.850098  6388.910156  6585.850098  6502.069824  52682800.0   \n",
       "2000-01-06  6539.310059  6402.629883  6501.450195  6474.919922  41180600.0   \n",
       "2000-01-07  6791.529785  6470.140137  6489.939941  6780.959961  56058900.0   \n",
       "\n",
       "              Adj Close  \n",
       "Date                     \n",
       "2000-01-03  6750.759766  \n",
       "2000-01-04  6586.950195  \n",
       "2000-01-05  6502.069824  \n",
       "2000-01-06  6474.919922  \n",
       "2000-01-07  6780.959961  "
      ]
     },
     "execution_count": 97,
     "metadata": {},
     "output_type": "execute_result"
    }
   ],
   "source": [
    "# imports a function to download price data from the web\n",
    "from pandas_datareader import DataReader\n",
    "dax = DataReader(name='^GDAXI', data_source=\"yahoo\", start='2000-1-1')\n",
    "# only returns the first N rows (default: 5) of the data table\n",
    "dax.head()"
   ]
  },
  {
   "cell_type": "markdown",
   "metadata": {},
   "source": [
    "<font size=\"3\">Pandas Dataframe objects have useful attributes:</font>"
   ]
  },
  {
   "cell_type": "code",
   "execution_count": 98,
   "metadata": {},
   "outputs": [
    {
     "name": "stdout",
     "output_type": "stream",
     "text": [
      "size: 34500\n",
      "shape: (5750, 6)\n",
      "info: <bound method DataFrame.info of                     High           Low          Open         Close  \\\n",
      "Date                                                                 \n",
      "2000-01-03   7159.330078   6720.870117   6961.720215   6750.759766   \n",
      "2000-01-04   6755.359863   6510.459961   6747.240234   6586.950195   \n",
      "2000-01-05   6585.850098   6388.910156   6585.850098   6502.069824   \n",
      "2000-01-06   6539.310059   6402.629883   6501.450195   6474.919922   \n",
      "2000-01-07   6791.529785   6470.140137   6489.939941   6780.959961   \n",
      "...                  ...           ...           ...           ...   \n",
      "2022-08-22  13510.290039  13189.269531  13471.440430  13230.570312   \n",
      "2022-08-23  13298.259766  13156.440430  13163.519531  13194.230469   \n",
      "2022-08-24  13238.610352  13085.200195  13131.120117  13220.059570   \n",
      "2022-08-25  13364.549805  13210.990234  13328.490234  13271.959961   \n",
      "2022-08-26  13375.019531  12939.959961  13335.099609  12971.469727   \n",
      "\n",
      "                Volume     Adj Close  \n",
      "Date                                  \n",
      "2000-01-03  43072500.0   6750.759766  \n",
      "2000-01-04  46678400.0   6586.950195  \n",
      "2000-01-05  52682800.0   6502.069824  \n",
      "2000-01-06  41180600.0   6474.919922  \n",
      "2000-01-07  56058900.0   6780.959961  \n",
      "...                ...           ...  \n",
      "2022-08-22  68371700.0  13230.570312  \n",
      "2022-08-23  53963000.0  13194.230469  \n",
      "2022-08-24  46809500.0  13220.059570  \n",
      "2022-08-25  41621200.0  13271.959961  \n",
      "2022-08-26  67305400.0  12971.469727  \n",
      "\n",
      "[5750 rows x 6 columns]>\n",
      "index: DatetimeIndex(['2000-01-03', '2000-01-04', '2000-01-05', '2000-01-06',\n",
      "               '2000-01-07', '2000-01-10', '2000-01-11', '2000-01-12',\n",
      "               '2000-01-13', '2000-01-14',\n",
      "               ...\n",
      "               '2022-08-15', '2022-08-16', '2022-08-17', '2022-08-18',\n",
      "               '2022-08-19', '2022-08-22', '2022-08-23', '2022-08-24',\n",
      "               '2022-08-25', '2022-08-26'],\n",
      "              dtype='datetime64[ns]', name='Date', length=5750, freq=None)\n",
      "values: [[7.15933008e+03 6.72087012e+03 6.96172021e+03 6.75075977e+03\n",
      "  4.30725000e+07 6.75075977e+03]\n",
      " [6.75535986e+03 6.51045996e+03 6.74724023e+03 6.58695020e+03\n",
      "  4.66784000e+07 6.58695020e+03]\n",
      " [6.58585010e+03 6.38891016e+03 6.58585010e+03 6.50206982e+03\n",
      "  5.26828000e+07 6.50206982e+03]\n",
      " ...\n",
      " [1.32386104e+04 1.30852002e+04 1.31311201e+04 1.32200596e+04\n",
      "  4.68095000e+07 1.32200596e+04]\n",
      " [1.33645498e+04 1.32109902e+04 1.33284902e+04 1.32719600e+04\n",
      "  4.16212000e+07 1.32719600e+04]\n",
      " [1.33750195e+04 1.29399600e+04 1.33350996e+04 1.29714697e+04\n",
      "  6.73054000e+07 1.29714697e+04]]\n",
      "columns: Index(['High', 'Low', 'Open', 'Close', 'Volume', 'Adj Close'], dtype='object')\n"
     ]
    }
   ],
   "source": [
    "# gives the total number of values in the table\n",
    "print(\"size:\", dax.size)\n",
    "# gives the number of rows x columns in the table\n",
    "print(\"shape:\", dax.shape)\n",
    "# gives a complete summary of the table (size, data types)\n",
    "print(\"info:\", dax.info)\n",
    "# returns the index column of the table\n",
    "# it is important to set an index e.g. the timestamp as index for time-series data\n",
    "print(\"index:\", dax.index)\n",
    "# returns the values of the table\n",
    "print(\"values:\", dax.values)\n",
    "# returns the column names of the table\n",
    "print(\"columns:\", dax.columns)"
   ]
  },
  {
   "cell_type": "markdown",
   "metadata": {},
   "source": [
    "<font size=\"3\">Finally, we directly plot now out of Pandas:</font>"
   ]
  },
  {
   "cell_type": "code",
   "execution_count": 99,
   "metadata": {},
   "outputs": [
    {
     "data": {
      "text/plain": [
       "<AxesSubplot:xlabel='Date'>"
      ]
     },
     "execution_count": 99,
     "metadata": {},
     "output_type": "execute_result"
    },
    {
     "data": {
      "image/png": "[encoded data removed]",
      "text/plain": [
       "<Figure size 576x360 with 1 Axes>"
      ]
     },
     "metadata": {},
     "output_type": "display_data"
    }
   ],
   "source": [
    "dax[\"Close\"].plot(figsize=(8,5))"
   ]
  },
  {
   "cell_type": "markdown",
   "metadata": {},
   "source": [
    "<font size=\"3\"><b>Install required packages for Excel support in Pandas:</b></font>"
   ]
  },
  {
   "cell_type": "code",
   "execution_count": 98,
   "metadata": {},
   "outputs": [
    {
     "name": "stdout",
     "output_type": "stream",
     "text": [
      "Defaulting to user installation because normal site-packages is not writeable\n",
      "Requirement already satisfied: xlrd in /opt/conda/lib/python3.9/site-packages (2.0.1)\n"
     ]
    }
   ],
   "source": [
    "%%bash\n",
    "pip install xlrd"
   ]
  },
  {
   "cell_type": "markdown",
   "metadata": {},
   "source": [
    "<font size=\"3\"><b>Pandas also supports other file formats like <a href=\"https://pandas.pydata.org/docs/reference/api/pandas.read_excel.html\">Excel sheets</a> or for bigger datasets the <a href=\"https://pandas.pydata.org/docs/reference/api/pandas.read_parquet.html\">parquet</a> or <a href=\"https://pandas.pydata.org/docs/reference/api/pandas.read_feather.html\">feather</a> file format:</b></font>"
   ]
  },
  {
   "cell_type": "code",
   "execution_count": 99,
   "metadata": {
    "scrolled": true
   },
   "outputs": [
    {
     "data": {
      "text/html": [
       "<div>\n",
       "<style scoped>\n",
       "    .dataframe tbody tr th:only-of-type {\n",
       "        vertical-align: middle;\n",
       "    }\n",
       "\n",
       "    .dataframe tbody tr th {\n",
       "        vertical-align: top;\n",
       "    }\n",
       "\n",
       "    .dataframe thead th {\n",
       "        text-align: right;\n",
       "    }\n",
       "</style>\n",
       "<table border=\"1\" class=\"dataframe\">\n",
       "  <thead>\n",
       "    <tr style=\"text-align: right;\">\n",
       "      <th></th>\n",
       "      <th>Type</th>\n",
       "      <th>Name</th>\n",
       "      <th>Business</th>\n",
       "      <th>ISIN</th>\n",
       "      <th>Price / EUR</th>\n",
       "    </tr>\n",
       "  </thead>\n",
       "  <tbody>\n",
       "    <tr>\n",
       "      <th>0</th>\n",
       "      <td>Fonds</td>\n",
       "      <td>F.TEM.INV-F.TECHN.A A.EUR</td>\n",
       "      <td>IT</td>\n",
       "      <td>A0KEDE</td>\n",
       "      <td>39.160</td>\n",
       "    </tr>\n",
       "    <tr>\n",
       "      <th>1</th>\n",
       "      <td>ETF</td>\n",
       "      <td>ISHSIII-CORE MSCI WLD DLA</td>\n",
       "      <td>World Economy</td>\n",
       "      <td>A0RPWH</td>\n",
       "      <td>72.512</td>\n",
       "    </tr>\n",
       "    <tr>\n",
       "      <th>2</th>\n",
       "      <td>ETF</td>\n",
       "      <td>ISHSV-MSCI ACWI DL A</td>\n",
       "      <td>World, more diverse</td>\n",
       "      <td>A1JMDF</td>\n",
       "      <td>61.970</td>\n",
       "    </tr>\n",
       "    <tr>\n",
       "      <th>3</th>\n",
       "      <td>ETF</td>\n",
       "      <td>IS C.MSCI EMIMI U.ETF DLA</td>\n",
       "      <td>Emerging Countries</td>\n",
       "      <td>A111X9</td>\n",
       "      <td>31.372</td>\n",
       "    </tr>\n",
       "    <tr>\n",
       "      <th>4</th>\n",
       "      <td>ETF</td>\n",
       "      <td>L+G-L+G CYBER SEC.U.ETF</td>\n",
       "      <td>Cybersec</td>\n",
       "      <td>A14WU5</td>\n",
       "      <td>21.685</td>\n",
       "    </tr>\n",
       "    <tr>\n",
       "      <th>5</th>\n",
       "      <td>ETF</td>\n",
       "      <td>ISHS IV-AUTO.+ROBOTIC.ETF</td>\n",
       "      <td>Automation/Robotik</td>\n",
       "      <td>A2ANH0</td>\n",
       "      <td>11.508</td>\n",
       "    </tr>\n",
       "    <tr>\n",
       "      <th>6</th>\n",
       "      <td>ETF</td>\n",
       "      <td>INVESCOM2 E GL BLOCKCH A</td>\n",
       "      <td>Krypto/Blockhain</td>\n",
       "      <td>A2PA3S</td>\n",
       "      <td>100.820</td>\n",
       "    </tr>\n",
       "    <tr>\n",
       "      <th>7</th>\n",
       "      <td>ETF</td>\n",
       "      <td>VANECK HYDROGEN EC UC.ETF</td>\n",
       "      <td>Wasserstoff</td>\n",
       "      <td>A2QMWR</td>\n",
       "      <td>15.222</td>\n",
       "    </tr>\n",
       "    <tr>\n",
       "      <th>8</th>\n",
       "      <td>ETF</td>\n",
       "      <td>LYX.IF-ROB.AI DLA</td>\n",
       "      <td>Robotik/AI</td>\n",
       "      <td>LXY0ZN</td>\n",
       "      <td>34.615</td>\n",
       "    </tr>\n",
       "    <tr>\n",
       "      <th>9</th>\n",
       "      <td>ETF</td>\n",
       "      <td>L&amp;G ETF-HYDROGEN ECONOMY</td>\n",
       "      <td>Wasserstoff</td>\n",
       "      <td>A2QMAL</td>\n",
       "      <td>7.030</td>\n",
       "    </tr>\n",
       "    <tr>\n",
       "      <th>10</th>\n",
       "      <td>ETF</td>\n",
       "      <td>ISHSIV-MSCI WLD ESG S.DLA</td>\n",
       "      <td>World Economy ESG</td>\n",
       "      <td>A2N6TD</td>\n",
       "      <td>NaN</td>\n",
       "    </tr>\n",
       "    <tr>\n",
       "      <th>11</th>\n",
       "      <td>ETF</td>\n",
       "      <td>ISHSV-S+500INF.T.SECT.DLA</td>\n",
       "      <td>NaN</td>\n",
       "      <td>A142N1</td>\n",
       "      <td>NaN</td>\n",
       "    </tr>\n",
       "    <tr>\n",
       "      <th>12</th>\n",
       "      <td>ETF</td>\n",
       "      <td>VANECK VID ESPORTS UC.ETF</td>\n",
       "      <td>E-Sports, Gaming</td>\n",
       "      <td>A2PLDF</td>\n",
       "      <td>34.855</td>\n",
       "    </tr>\n",
       "  </tbody>\n",
       "</table>\n",
       "</div>"
      ],
      "text/plain": [
       "     Type                        Name             Business    ISIN  \\\n",
       "0   Fonds  F.TEM.INV-F.TECHN.A A.EUR                    IT  A0KEDE   \n",
       "1     ETF  ISHSIII-CORE MSCI WLD DLA         World Economy  A0RPWH   \n",
       "2     ETF        ISHSV-MSCI ACWI DL A  World, more diverse  A1JMDF   \n",
       "3     ETF  IS C.MSCI EMIMI U.ETF DLA    Emerging Countries  A111X9   \n",
       "4     ETF     L+G-L+G CYBER SEC.U.ETF             Cybersec  A14WU5   \n",
       "5     ETF   ISHS IV-AUTO.+ROBOTIC.ETF   Automation/Robotik  A2ANH0   \n",
       "6     ETF    INVESCOM2 E GL BLOCKCH A     Krypto/Blockhain  A2PA3S   \n",
       "7     ETF  VANECK HYDROGEN EC UC.ETF           Wasserstoff  A2QMWR   \n",
       "8     ETF           LYX.IF-ROB.AI DLA           Robotik/AI  LXY0ZN   \n",
       "9     ETF    L&G ETF-HYDROGEN ECONOMY          Wasserstoff  A2QMAL   \n",
       "10    ETF   ISHSIV-MSCI WLD ESG S.DLA    World Economy ESG  A2N6TD   \n",
       "11    ETF   ISHSV-S+500INF.T.SECT.DLA                  NaN  A142N1   \n",
       "12    ETF   VANECK VID ESPORTS UC.ETF     E-Sports, Gaming  A2PLDF   \n",
       "\n",
       "    Price / EUR  \n",
       "0        39.160  \n",
       "1        72.512  \n",
       "2        61.970  \n",
       "3        31.372  \n",
       "4        21.685  \n",
       "5        11.508  \n",
       "6       100.820  \n",
       "7        15.222  \n",
       "8        34.615  \n",
       "9         7.030  \n",
       "10          NaN  \n",
       "11          NaN  \n",
       "12       34.855  "
      ]
     },
     "execution_count": 99,
     "metadata": {},
     "output_type": "execute_result"
    }
   ],
   "source": [
    "# example loading an excel sheet with Pandas in Python\n",
    "excel = pd.read_excel('data/example.xls')\n",
    "excel"
   ]
  },
  {
   "cell_type": "markdown",
   "metadata": {},
   "source": [
    "<div class=\"alert alert-block alert-success\"><b>Exercise:</b> Load the file data/example.feather using <i>pd.read_feather</i>. Find out what it contains, print the column names and the size of the DataFrame. \n",
    "    <br>\n",
    "Then write a function which loads a file (<b>in this case <i>data/example.feather</i></b>), redefines the column \"time\" as index and resamples the data to 1min intervals and calculate the moving average. Determine the returns of the resampled column \"close\" which are defined as $\\mathrm{(close(t_{n+1}) / close(t_{n})) - 1}$. \n",
    "    <br>\n",
    "Finally, plot the moving average, the resampled time-series and a histogram of the returns.<br>\n",
    "\n",
    "<b>Hint:</b> Have a look at the methods <a href=\"https://pandas.pydata.org/docs/reference/api/pandas.DataFrame.drop_duplicates.html\">drop_duplicates()</a>, <a href=\"https://pandas.pydata.org/pandas-docs/stable/reference/api/pandas.DataFrame.resample.html\">resample()</a>, bfill() <a href=\"https://pandas.pydata.org/docs/reference/api/pandas.DataFrame.plot.html\">plot()</a>, <a href=\"https://pandas.pydata.org/docs/reference/api/pandas.DataFrame.rolling.html\">rolling()</a> and mean(). The method <a href=\"https://pandas.pydata.org/docs/reference/api/pandas.DataFrame.shift.html\">shift()</a> could be useful for the calculation of returns. Use the method <a href=\"https://pandas.pydata.org/pandas-docs/stable/reference/api/pandas.DataFrame.hist.html\">hist()</a> to plot a histogram. Import \"from matplotlib import pyplot as plt\" and plt.figure() to init a new plot.\n",
    "    \n",
    "</div>"
   ]
  },
  {
   "cell_type": "markdown",
   "metadata": {},
   "source": [
    "<font size=\"3\"><b>First, install the required packages to support feather and parquet files in Pandas:</b></font>"
   ]
  },
  {
   "cell_type": "code",
   "execution_count": null,
   "metadata": {
    "scrolled": true
   },
   "outputs": [],
   "source": [
    "%%bash\n",
    "pip install pyarrow"
   ]
  },
  {
   "cell_type": "code",
   "execution_count": 102,
   "metadata": {},
   "outputs": [
    {
     "name": "stdout",
     "output_type": "stream",
     "text": [
      "<bound method DataFrame.info of                            time   symbol     open     high      low    close  \\\n",
      "0       2021-03-12 12:50:40.877  RSRUSDT  0.06934  0.06937  0.06920  0.06929   \n",
      "1       2021-03-12 12:50:43.635  RSRUSDT  0.06934  0.06937  0.06920  0.06929   \n",
      "2       2021-03-12 12:50:46.644  RSRUSDT  0.06934  0.06937  0.06920  0.06934   \n",
      "3       2021-03-12 12:51:02.445  RSRUSDT  0.06934  0.06937  0.06920  0.06934   \n",
      "4       2021-03-12 12:51:04.704  RSRUSDT  0.06921  0.06921  0.06918  0.06918   \n",
      "...                         ...      ...      ...      ...      ...      ...   \n",
      "2580495 2021-08-10 07:10:31.614  RSRUSDT  0.03773  0.03775  0.03772  0.03775   \n",
      "2580496 2021-08-10 07:10:34.625  RSRUSDT  0.03773  0.03776  0.03772  0.03776   \n",
      "2580497 2021-08-10 07:10:38.639  RSRUSDT  0.03773  0.03776  0.03772  0.03776   \n",
      "2580498 2021-08-10 07:10:57.359  RSRUSDT  0.03773  0.03778  0.03772  0.03778   \n",
      "2580499 2021-08-10 07:11:01.000  RSRUSDT  0.03773  0.03778  0.03772  0.03778   \n",
      "\n",
      "         base_vol    quote_vol  taker_base_vol  taker_quote_vol  num_trades  \\\n",
      "0         74678.3  5172.633005          9544.1       661.440122          43   \n",
      "1         75691.2  5242.816846         10557.0       731.623963          45   \n",
      "2         75920.0  5258.681838         10785.8       747.488955          46   \n",
      "3         75920.0  5258.681838         10785.8       747.488955          46   \n",
      "4          2160.9   149.528863             0.0         0.000000           6   \n",
      "...           ...          ...             ...              ...         ...   \n",
      "2580495   47476.0  1791.597853         32539.4      1228.132723           7   \n",
      "2580496   49989.4  1886.503837         32539.4      1228.132723           8   \n",
      "2580497   58059.2  2191.219485         40609.2      1532.848371           9   \n",
      "2580498   65659.2  2478.347485         48209.2      1819.976371          10   \n",
      "2580499   65659.2  2478.347485         48209.2      1819.976371          10   \n",
      "\n",
      "         kline_closed  \n",
      "0               False  \n",
      "1               False  \n",
      "2               False  \n",
      "3                True  \n",
      "4               False  \n",
      "...               ...  \n",
      "2580495         False  \n",
      "2580496         False  \n",
      "2580497         False  \n",
      "2580498         False  \n",
      "2580499          True  \n",
      "\n",
      "[2580500 rows x 12 columns]>\n",
      "Index(['time', 'symbol', 'open', 'high', 'low', 'close', 'base_vol',\n",
      "       'quote_vol', 'taker_base_vol', 'taker_quote_vol', 'num_trades',\n",
      "       'kline_closed'],\n",
      "      dtype='object')\n",
      "(2580500, 12)\n",
      "30966000\n"
     ]
    }
   ],
   "source": [
    "feather = pd.read_feather('data/example.feather')\n",
    "print(feather.info)\n",
    "print(feather.columns)\n",
    "print(feather.shape)\n",
    "print(feather.size)"
   ]
  },
  {
   "cell_type": "markdown",
   "metadata": {},
   "source": [
    "<b>Then try the exercise yourself here:</b></font>"
   ]
  },
  {
   "cell_type": "code",
   "execution_count": null,
   "metadata": {},
   "outputs": [],
   "source": []
  },
  {
   "cell_type": "markdown",
   "metadata": {},
   "source": [
    "### Example Solution:"
   ]
  },
  {
   "cell_type": "code",
   "execution_count": 106,
   "metadata": {},
   "outputs": [
    {
     "data": {
      "image/png": "[encoded data removed]",
      "text/plain": [
       "<Figure size 1152x720 with 1 Axes>"
      ]
     },
     "metadata": {},
     "output_type": "display_data"
    },
    {
     "data": {
      "image/png": "[encoded data removed]",
      "text/plain": [
       "<Figure size 1152x720 with 1 Axes>"
      ]
     },
     "metadata": {},
     "output_type": "display_data"
    }
   ],
   "source": [
    "from matplotlib import pyplot as plt\n",
    "\n",
    "def process_feather(file, mavg_wnd=360):\n",
    "    feather = pd.read_feather(\"data/example.feather\")\n",
    "    #redefine the column \"time\" as index\n",
    "    feather.index = feather[\"time\"]\n",
    "    #select the column \"close\" and resample the resulting time series\n",
    "    resampled = feather[\"close\"].drop_duplicates().resample(\"1min\").bfill()\n",
    "    #compute the rolling average over a window of mavg_wnd values\n",
    "    mavg = resampled.rolling(mavg_wnd).mean()\n",
    "    #compute returns using shifted time series\n",
    "    returns = (resampled.shift(1)/resampled)-1\n",
    "    \n",
    "    #create plots\n",
    "    plot_args = {'figsize' : (16,10), 'grid' : True, 'fontsize' : 18, 'legend' : True}\n",
    "    # init new plot\n",
    "    plt.figure()\n",
    "    # plot resampled time series\n",
    "    resampled.plot(label=\"resampled\", **plot_args)\n",
    "    # plot moving average of time series\n",
    "    mavg.plot(label=\"moving average\", **plot_args)\n",
    "    plt.ylabel(\"BTCUSDT\",fontsize=18)\n",
    "    plt.legend(fontsize=18)\n",
    "    # init new plot\n",
    "    plt.figure()\n",
    "    # plot histogram of returns with logarithmic y scaling\n",
    "    # can use hist() or plot(kind=\"hist\") here\n",
    "    returns.plot(kind=\"hist\", bins=100, **plot_args)\n",
    "    plt.ylabel(\"Frequency\",fontsize=18)\n",
    "    plt.yscale(\"log\")\n",
    "    plt.legend(fontsize=18)\n",
    "    \n",
    "#call the defined function\n",
    "process_feather(\"data/example.feather\")"
   ]
  },
  {
   "cell_type": "markdown",
   "metadata": {},
   "source": [
    "<br><br><br>\n",
    "### Decorators\n",
    "<br>\n",
    "<font size=\"3\">\n",
    "    <b><a href=\"https://wiki.python.org/moin/PythonDecorators\">Decorators</a> help to wrap functions around functions or class methods with a shorter notation, the so-called <i>syntactic sugar</i>, using the @-symbol.</b> Decorators are often using in 3rd party packages for debugging and runtime anaylsis. <br><br>\n",
    "A popular package to measure the runtime of a function call or an algorithm is <i>timeit</i>. But it is also frequently used in frameworks like Django or Flask for Full-Stack Python where Python-based web applications are developed to denote event callback functions.\n",
    "</font>\n",
    "<br><br>\n",
    "\n",
    "### Examples:"
   ]
  },
  {
   "cell_type": "code",
   "execution_count": 100,
   "metadata": {},
   "outputs": [
    {
     "name": "stdout",
     "output_type": "stream",
     "text": [
      "Something is happening before the function is called.\n",
      "Whee!\n",
      "Something is happening after the function is called.\n"
     ]
    }
   ],
   "source": [
    "def my_decorator(func):\n",
    "    def wrapper():\n",
    "        print(\"Something is happening before the function is called.\")\n",
    "        func()\n",
    "        print(\"Something is happening after the function is called.\")\n",
    "    return wrapper\n",
    "\n",
    "@my_decorator\n",
    "# @my_decorator is just an easier way of saying say_whee = my_decorator(say_whee)\n",
    "def say_whee():\n",
    "    print(\"Whee!\")\n",
    "    \n",
    "say_whee()"
   ]
  },
  {
   "cell_type": "code",
   "execution_count": 101,
   "metadata": {},
   "outputs": [
    {
     "name": "stdout",
     "output_type": "stream",
     "text": [
      "zZzZzZ\n",
      "2.0021 seconds passed.\n"
     ]
    }
   ],
   "source": [
    "import time\n",
    "import numpy as np\n",
    "\n",
    "def benchmark(func):\n",
    "    def wrapper():\n",
    "        t1 = time.time()\n",
    "        func()\n",
    "        delta_t = time.time() - t1\n",
    "        print(str(np.round(delta_t,6))+\" seconds passed.\")\n",
    "    return wrapper\n",
    "\n",
    "@benchmark\n",
    "def something_intensive():\n",
    "    print(\"zZzZzZ\")\n",
    "    time.sleep(2)\n",
    "    \n",
    "something_intensive()"
   ]
  },
  {
   "cell_type": "markdown",
   "metadata": {},
   "source": [
    "<font size=\"3\">\n",
    "<b>In Python it's also possible to define decorators with arguments and even use multiple decorators with the same function or class method.</b>\n",
    "</font>\n",
    "\n",
    "### Example:"
   ]
  },
  {
   "cell_type": "code",
   "execution_count": 120,
   "metadata": {
    "scrolled": true
   },
   "outputs": [],
   "source": [
    "import time\n",
    "\n",
    "def print_delayed(delay = 1):\n",
    "    def decorator(function):\n",
    "        def wrapper(*args, **kwargs):\n",
    "            out = function(*args, **kwargs)\n",
    "            for n in range(len(out)+1):\n",
    "                print(out[:n]+\"\\r\")\n",
    "                time.sleep(delay)\n",
    "        return wrapper\n",
    "    return decorator\n",
    "\n",
    "@print_delayed(delay = 0.2)\n",
    "def greeting(name):\n",
    "    return \"Hello, \"+name+\" !\""
   ]
  },
  {
   "cell_type": "code",
   "execution_count": 121,
   "metadata": {},
   "outputs": [
    {
     "name": "stdout",
     "output_type": "stream",
     "text": [
      "\n",
      "H\n",
      "He\n",
      "Hel\n",
      "Hell\n",
      "Hello\n",
      "Hello,\n",
      "Hello, \n",
      "Hello, J\n",
      "Hello, Jo\n",
      "Hello, Joh\n",
      "Hello, John\n",
      "Hello, John \n",
      "Hello, John D\n",
      "Hello, John Do\n",
      "Hello, John Doe\n",
      "Hello, John Doe \n",
      "Hello, John Doe !\n"
     ]
    }
   ],
   "source": [
    "greeting(\"John Doe\")"
   ]
  },
  {
   "cell_type": "markdown",
   "metadata": {},
   "source": [
    "### Built-in Decorators\n",
    "<br>\n",
    "\n",
    "<font size=\"3\">\n",
    "    You may checkout the popular built-in decorators in Python, e.g. the <b><a href=\"https://www.geeksforgeeks.org/python-property-decorator-property/#:~:text=%40property%20decorator%20is%20a%20built,setter%20and%20deleter%20as%20parameters\">@property</a></b></i> decorator. <br>\n",
    "    <b>It makes a class method accessible as if it would be an attribute of the class object.</b>\n",
    "</font>"
   ]
  },
  {
   "cell_type": "code",
   "execution_count": null,
   "metadata": {},
   "outputs": [],
   "source": []
  },
  {
   "cell_type": "markdown",
   "metadata": {},
   "source": [
    "<br><br><br>\n",
    "### Performance Aspects of Python\n",
    "\n",
    "<br>\n",
    "<font size=\"3\">In some cases, like the analysis of big amounts of data or for simulation codes, performance matters. If the acceleration that numpy or pandas offer is still insufficient or specific code needs to be accelerated, Python offers various ways to speed up your code with statically compiled code using <a href=\"https://cython.org/\">Cython</a> and just-in-time (JIT) compilation using <a href=\"http://numba.pydata.org/\">Numba</a>. This <a href=\"https://pandas.pydata.org/pandas-docs/stable/user_guide/enhancingperf.html\">link</a> presents examples to use Cython and Numba with Pandas.<br><br> Another interesting Python module is <a href=\"https://dask.org/\">Dask</a> which offers distributed and/or parallelized processing of large data sets. Dask offers e.g. a <a href=\"https://docs.dask.org/en/latest/dataframe.html\">Dask DataFrame</a> which can be distributed over multiple nodes in a cluster and supports distributed, parallelized data processing using Pandas DataFrame-like objects.<br><br>\n",
    "In the following, a small introduction on how to use Numba, a just-in-time compiler, is given and you'll see a speed comparison of Numba and the normal Python function.<br><br>\n",
    "\n",
    "The easiest way to use Numba for a Python function, is to use the specific decorator (decorators were previously introduced in this course):</font>"
   ]
  },
  {
   "cell_type": "markdown",
   "metadata": {},
   "source": [
    "<font size=\"3\"><b>If Numba is not installed, install the numba module here:</b></font>"
   ]
  },
  {
   "cell_type": "code",
   "execution_count": 151,
   "metadata": {},
   "outputs": [
    {
     "name": "stdout",
     "output_type": "stream",
     "text": [
      "Collecting numba\n",
      "  Downloading numba-0.54.0-cp38-cp38-manylinux2014_x86_64.manylinux_2_17_x86_64.whl (3.5 MB)\n",
      "Requirement already satisfied: numpy<1.21,>=1.17 in /home/mru/anaconda3/lib/python3.8/site-packages (from numba) (1.19.2)\n",
      "Requirement already satisfied: setuptools in /home/mru/anaconda3/lib/python3.8/site-packages (from numba) (52.0.0.post20210125)\n",
      "Collecting llvmlite<0.38,>=0.37.0rc1\n",
      "  Downloading llvmlite-0.37.0-cp38-cp38-manylinux2014_x86_64.whl (26.3 MB)\n",
      "Installing collected packages: llvmlite, numba\n",
      "Successfully installed llvmlite-0.37.0 numba-0.54.0\n"
     ]
    }
   ],
   "source": [
    "%%bash\n",
    "pip install numba"
   ]
  },
  {
   "cell_type": "code",
   "execution_count": 152,
   "metadata": {},
   "outputs": [],
   "source": [
    "# import of the decorator from the numba module\n",
    "from numba import jit\n",
    "\n",
    "# decorator to indicate that just-in-time compilation is desired\n",
    "@jit # or @jit(nopython=True), if code is parallelizable use parallel = True\n",
    "def function(x):\n",
    "    # your loop or numerically intensive computations\n",
    "    return x"
   ]
  },
  {
   "cell_type": "markdown",
   "metadata": {},
   "source": [
    "<font size=\"3\">Whenever a Python function is decorated this way, the Python function will be translated to LLVM code, specific byte code that is executed on a virtual machine, comparable to Java and also with a speed comparable to Java or C(++). The illustration below describes the compilation process:<br><br>\n",
    "<center>\n",
    "    <img src=\"img/llvm.png\" width=\"60%\">\n",
    "</center>\n",
    "<br>\n",
    "    <font size=\"2\"><i>Source: <a href=\"https://github.com/ContinuumIO/gtc2017-numba/blob/master/1%20-%20Numba%20Basics.ipynb\">https://github.com/ContinuumIO/gtc2017-numba/blob/master/1%20-%20Numba%20Basics.ipynb</a></i></font><br><br>\n",
    "First, Python function is taken, optimized and is converted into Numba’s intermediate representation, then after type inference which is like Numpy’s type inference (so python float is a float64), it is converted into LLVM interpretable code. This code is then fed to LLVM’s just-in-time compiler to give out machine code.<br><br>\n",
    "</font>\n",
    "\n",
    "### Example:"
   ]
  },
  {
   "cell_type": "code",
   "execution_count": null,
   "metadata": {},
   "outputs": [],
   "source": [
    "from numba import jit, float32\n",
    "import timeit\n",
    "import math\n",
    "\n",
    "# you can explicitly define a function signature\n",
    "# so that data types are not inferred\n",
    "@jit(float32(float32,float32))\n",
    "def hypot(x, y):\n",
    "    # Implementation from https://en.wikipedia.org/wiki/Hypot\n",
    "    x = abs(x);\n",
    "    y = abs(y);\n",
    "    t = min(x, y);\n",
    "    x = max(x, y);\n",
    "    t = t / x;\n",
    "    return x * math.sqrt(1+t*t)\n",
    "\n",
    "# benchmarks the JIT version\n",
    "%timeit hypot(3.0, 4.0)\n",
    "# benchmarks the Python function\n",
    "%timeit hypot.py_func(3.0, 4.0)\n",
    "# benchmarks the implementation in the math module\n",
    "%timeit math.hypot(3.0, 4.0)"
   ]
  },
  {
   "cell_type": "markdown",
   "metadata": {},
   "source": [
    "<font size=\"3\">For further information, look <a href=\"https://towardsdatascience.com/speed-up-your-algorithms-part-2-numba-293e554c5cc1\">here</a></font>\n"
   ]
  },
  {
   "cell_type": "markdown",
   "metadata": {},
   "source": [
    "<br><br><br>\n",
    "## The object-oriented programming (OOP) paradigm\n",
    "\n",
    "<br>\n",
    "<font size=\"3\">\n",
    "    <b>Python is a multi-paradigm programming language</b>, hence supporting multiple <a href=\"https://en.wikipedia.org/wiki/Comparison_of_programming_paradigms\">programming paradigms</a>. A programming paradigm is a style, philosophy or a set of principles followed in structuring your code and the way to implement its intended functionality. Among the various paradigms, the <a href=\"https://en.wikipedia.org/wiki/Functional_programming\"><b>functional</b></a> and the <a href=\"https://en.wikipedia.org/wiki/Object-oriented_programming\"><b>object-oriented programming (OOP)</b></a> paradigm are the most popular, also in Python.<br>\n",
    "\n",
    "<b>The functional paradigm</b> focusses on:\n",
    "<ul>\n",
    "<li><b>Structuring your code</b>\n",
    "</li>\n",
    "<li>\n",
    "<b>Functions</b> in a mathematical sense <b>with arguments and return values</b>.\n",
    "</li>\n",
    "<li>\n",
    "<b>Scoping allowing for <b>local variables</b> and <b>isolation</b>.\n",
    "</li>\n",
    "<li>\n",
    "<b>Functions allowing the reusability</b> of parts of the code since they <b>should ideally work as black boxes</b>.\n",
    "</li>\n",
    "<li>\n",
    "    <b>Statelessness</b>, hence <b>it shouldn't matter when a function is called.</b> As long as the same input is used, the function should yield the same output. <b>Hence functions are only loosely coupled to data</b> outside of their scope.\n",
    "</li>\n",
    "</ul>\n",
    "<br>\n",
    "A <b>use case</b> would be for <b>smaller projects or specialized scripts</b> where <b>new features are rather unlikely to be implemented.</b><br>\n",
    "Examples for other programming languages following this paradigm are C, Fortran and Cobol.\n",
    "<br>\n",
    "<br>\n",
    "<b>The OOP paradigm</b> focusses on:\n",
    "<ul>\n",
    "<li><b>Classes defining objects encapsulating functionality</b> which could also exist independently and can be easily ported to other projects.\n",
    "</li>\n",
    "<li>\n",
    "<b>Class objects posess <i>methods</i></b>, functions bound to the object which should act only on the <b><i>attributes</i></b> of the object. The latter are <b>variables bound to the object instance.</b>\n",
    "</li>\n",
    "<li>\n",
    "<b>The data (its state) is strictly bound to the object.</b>\n",
    "</li>\n",
    "<li><b>States</b> since the objects (can) store a state in their attributes. The interaction of these objects with the environment takes place via <b><i>special object methods</i></b>, the so-called <b><i>interfaces</i></b>, to avoid direct manipulation of object attributes from outside <b>ensuring data security.</b> <b>Statefulness implies</b> that the <b>execution order of object methods can matter.</b>\n",
    "</li>\n",
    "<li>\n",
    "<b>Classes grouped in modules</b> so that the objects have the specific environments to work in. This allows <b>easy extensibility</b>.\n",
    "</li>\n",
    "<li>\n",
    "<b>Inheritance</b> allowing for a sub-class to inherit methods and attributes from the parent class.\n",
    "</li>\n",
    "<li>\n",
    "<b>The program functionality is realized by object interactions</b>, hence message passing between the objects. \n",
    "</li>\n",
    "</ul>\n",
    "<br>\n",
    "A <b>use case</b> is a <v>big project</b> with <b>many collaborators</b> where the <b>task can be easily subdivided</b>, where <b>statefulness</b> is important and <b>new features are likely to be added.</b>\n",
    "<br>\n",
    "Examples for other programming languages following this paradigm are Java, C++, Objective-C, Ruby or VB .NET.<br>\n",
    "<br>\n",
    "\n",
    "<font size=\"3\">\n",
    "<b>In summary, the abstract features of object-oriented programming are</b><br>\n",
    "<ul>\n",
    "    <li><b>Inheritance:</b> <br>Derivation of class from another class. Hierarchy of classes sharing common attributes and methods. Allows faster development of new features using already existing interfaces.</li><br>\n",
    "    <li><b>Polymorphism:</b> <br>A function, variable or object can have multiple forms, e.g. the same method could except different number and type of input arguments or the usage of a common interface for objects of different classes.</li><br>\n",
    "    <li><b>Abstraction:</b><br> A simplified data representation\n",
    "    </li>\n",
    "    <br>\n",
    "    <li><b>Encapsulation:</b><br> Bundling data and methods to hide the internal state and mechanics of an object from the outside. Ensures data safety, portability and maintainability.</li>\n",
    "</ul>\n",
    "</font>"
   ]
  },
  {
   "cell_type": "markdown",
   "metadata": {},
   "source": [
    "### Classes, Objects & Attributes\n",
    "<br>\n",
    "<div align=\"center\">\n",
    "    <img src=\"img/yoda_meme.png\" width=\"40%\">\n",
    "</div>\n",
    "<br>\n",
    "<font size=\"2\">\n",
    "    <i>Source:</i> <a href=\"https://medium.com/@972LPV/mutable-vs-immutable-objects-in-python-a8a3439636b6\"><i>https://medium.com/@972LPV/mutable-vs-immutable-objects-in-python-a8a3439636b6</i></a>\n",
    "</font>\n",
    "<br>\n",
    "<br>\n",
    "<font size=\"3\">\n",
    "    <b>Classes are blueprints or templates for objects in Python defining the object <i>properties via attributes</i> and <i>behavior via methods</i>.</b><br>\n",
    "In Python, even the basic builtin datatypes like int, float or str, are objects of a class in the end. Even references to functions. In Python, every entity is and can be treated as object.<br><br>\n",
    "\n",
    "<font size=\"4\">\n",
    "<b>A class definition for an object in Python has the following syntax:</b><br><br>\n",
    "</font>\n",
    "<font size=\"3\">\n",
    "<b>class <i>ClassName</i>(<i>ParentClass</i>):</b><br>\n",
    "<p style=\"margin-left: 20px\"><b>def __init__(self, <i>arguments</i>):</b></p>\n",
    "<p style=\"margin-left: 40px\"><font face=\"Courier\">self.<i>public_attr</i> = <i>value</i></font></p>\n",
    "<p style=\"margin-left: 40px\"><font face=\"Courier\">self.<i>_protected_attr</i> = <i>value</i></font></p>\n",
    "<p style=\"margin-left: 40px\"><font face=\"Courier\">self.<i>__private_attr</i> = <i>value</i></font></p>\n",
    "<p style=\"margin-left: 40px\"><font face=\"Courier\">indented code block</font></p>\n",
    "<p style=\"margin-left: 40px\"><b>[return <b><i>value</i>]</b></p>\n",
    "\n",
    "<p style=\"margin-left: 20px\"><b>def public_method(self, <i>arguments</i>):</b></p>\n",
    "<p style=\"margin-left: 40px\"><font face=\"Courier\">indented code block</font></p>\n",
    "<p style=\"margin-left: 40px\"><b>[return <b><i>value</i>]</b></p>\n",
    "\n",
    "<p style=\"margin-left: 20px\"><b>def _protected_method(self, <i>arguments</i>):</b></p>\n",
    "<p style=\"margin-left: 40px\"><font face=\"Courier\">indented code block</font></p>\n",
    "<p style=\"margin-left: 40px\"><b>[return <b><i>value</i>]</b></p>\n",
    "\n",
    "<p style=\"margin-left: 20px\"><b>def __private_method(self, <i>arguments</i>):</b></p>\n",
    "<p style=\"margin-left: 40px\"><font face=\"Courier\">indented code block</font><br>\n",
    "<b>[return <b><i>value</i>]</b></p>\n",
    "<br><br>\n",
    "    \n",
    "<b>where the private, builtin method <i>__init__</i> is the so-called <i>constructor</i> of the class object which is invoked when a new class object is <i>instantiated</i> (created).</b><br>\n",
    "<b>A function or method does not need to return a value. If no return statement is present, a NoneType object will be returned. However, the function or method needs to contain at least one statement (or a <i>pass</i>).</b><br>  \n",
    "<b>The class naming convention is to start with a capital letter and may use only here camel case, hence the alternating use of small and capital letters to create seperation, e.g. ClassName.</b><br><br>\n",
    "<font size=\"4\">\n",
    "<u><b>Attribute and Method Naming Convention:</b></u>\n",
    "</font>\n",
    "<font size=\"3\">\n",
    "<br>\n",
    "<br>\n",
    "<b>Methods or attributes</b>\n",
    "<ul>\n",
    "    <li><b>without leading underscore</b> as name prefix are <b>public.</b></li>\n",
    "    <li><b>with one leading underscore</b> as name prefix are <b>protected.</b></li>\n",
    "    <li><b>with two leading underscores</b> as name prefix are <b>private.</b></li>\n",
    "    <li><b>with two underscores as</b> name <b>prefix and suffix</b> are <b>private, built-in methods.</b></li>\n",
    "</ul>\n",
    "<b>In contrast to other programming languages, this is <u>just a notational convention</u> and by no means a real access protection!</b><br>\n",
    "<b>Protected and private methods and protected attributes can be accessed anyway!</b><br> Private attribute access is possible using the built-in dictionary representation of an object: <i>obj.__dict__[attribute_name]</i>.<br><br>\n",
    "<b>When you attempt to access a private attribute, an error is thrown, but it can be accessed anyway with a trick.</b>\n",
    "</font><br><br>\n",
    "    \n",
    "\n",
    "### Example:"
   ]
  },
  {
   "cell_type": "code",
   "execution_count": 50,
   "metadata": {},
   "outputs": [
    {
     "name": "stdout",
     "output_type": "stream",
     "text": [
      "Object types:\n",
      "type(dog1)=<class '__main__.Dog'>\n",
      "type(dog2)=<class '__main__.Dog'>\n",
      "type(ball1)=<class '__main__.Ball'>\n",
      "\n",
      "Objects implicitly converted to strings:\n",
      "<__main__.Dog object at 0x7f73c94230a0>\n",
      "<__main__.Dog object at 0x7f73c9423100>\n",
      "<__main__.Ball object at 0x7f73d054e130>\n",
      "\n"
     ]
    }
   ],
   "source": [
    "#required import to use type hinting with custom class objects are return value data type\n",
    "from __future__ import annotations\n",
    "\n",
    "# class definition\n",
    "# the class \"Dog\" inherits from class \"object\"\n",
    "# every class inherits from that class as default\n",
    "# naming convention for class names is to start with a capital letter\n",
    "class Dog(object):\n",
    "    \n",
    "    # the constructor of the class is a private, built-in method\n",
    "    # \n",
    "    def __init__(self, name : str, age : int) -> Dog:\n",
    "        # a private attrbute which should not be changed from outside the object\n",
    "        self.__name = name\n",
    "        # a protected attrbute which should not be changed from outside the object\n",
    "        self._age = age\n",
    "        # a public attrbute which can be accessed/changed from outside the object\n",
    "        self.favorite_food = \"Pizza\"\n",
    "        self.favorite_toy = \"Bone\"\n",
    "        self.has = None\n",
    "        self.__energy = 5\n",
    "        \n",
    "    # overload the builtin method __str__ \n",
    "    # for an implicit string representation of the object\n",
    "    #def __str__(self) -> str:\n",
    "    #    return \"This is the dog \"+self.__name+\". I am \"+str(self._age)+\" years old.\"\n",
    "        \n",
    "    # a public class method definition with type hints\n",
    "    def bark(self, volume : int, pitch : int, duration : int) -> str:\n",
    "        # assemble string\n",
    "        bark_str_prefix = [\"bo\",\"ba\",\"bi\"]\n",
    "        bark_str_letter = [\"o\",\"a\",\"i\"]\n",
    "        bark_str_suffix = \"rk\"\n",
    "        bark_str = bark_str_prefix[pitch]\n",
    "        bark_str += bark_str_letter[pitch]*duration\n",
    "        bark_str += bark_str_suffix\n",
    "        if volume > 50:\n",
    "            bark_str = str.upper(bark_str)\n",
    "            \n",
    "        if self.__energy <= 0:\n",
    "            return self.__sleep()\n",
    "        else:\n",
    "            self.__energy -= 1\n",
    "            return bark_str\n",
    "    \n",
    "    # a public class method\n",
    "    # implements an interaction between the objects of class Dog and Ball\n",
    "    def bite(self, obj):\n",
    "        if isinstance(obj, Ball):\n",
    "            obj.deflate()\n",
    "    \n",
    "    # a public class method\n",
    "    def retrieve(self, obj):\n",
    "        self.has = obj\n",
    "        return obj\n",
    "    \n",
    "    # a private class method - method name starts with two underscores\n",
    "    def __sleep(self):\n",
    "        self.__energy = 5\n",
    "        return \"zZzZ\"\n",
    "    \n",
    "    # setter - method to set private attribute content\n",
    "    def set_name(self, new_name):\n",
    "        self.__name = new_name\n",
    "    \n",
    "    # getter - method which yields private attribute content\n",
    "    def get_name(self):\n",
    "        return self.__name\n",
    "    \n",
    "    # getter - method which yields private attribute content\n",
    "    def get_energy(self):\n",
    "        return self.__energy\n",
    "\n",
    "# another class definition\n",
    "class Ball(object):\n",
    "    # constructor definition with type hints\n",
    "    def __init__(self, size : float, color : str, weight : float, inflated : bool) -> Ball:\n",
    "        self.__color = color\n",
    "        self.__size = size\n",
    "        self.__weight = weight\n",
    "        self.__inflated = inflated\n",
    "        \n",
    "    # setter - method to set private attribute content\n",
    "    def deflate(self) -> None:\n",
    "        self.__inflated = False\n",
    "\n",
    "    # setter - method to set private attribute content\n",
    "    def inflate(self) -> None:\n",
    "        self.__inflated = True\n",
    "        \n",
    "    # setter - method to set private attribute content\n",
    "    def set_inflated(self, value : bool) -> None:\n",
    "        self.__inflated = value\n",
    "\n",
    "    # getter - method which yields private attribute content\n",
    "    def is_inflated(self) -> bool:\n",
    "        return self.__inflated\n",
    "    \n",
    "    def print_status(self):\n",
    "        out_str = \"The ball is \"+self.__color+\" and \"+str(self.__size)+\\\n",
    "                    \" m big and weights \"+str(self.__weight)+\" kg and is \"\n",
    "        if self.__inflated:\n",
    "            out_str += \"inflated.\"\n",
    "        else:\n",
    "            out_str += \"not inflated.\"\n",
    "        print(out_str)\n",
    "        return out_str\n",
    "\n",
    "# instantiate new \"Dog\" objects\n",
    "dog1 = Dog(\"Bello\", 0)\n",
    "dog2 = Dog(\"Doggo\", 2)\n",
    "# instantiate new \"Ball\" object\n",
    "ball1 = Ball(0.3, \"red\", 0.2, True)\n",
    "\n",
    "# print types\n",
    "print(\"Object types:\")\n",
    "print(\"type(dog1)=\"+str(type(dog1)))\n",
    "print(\"type(dog2)=\"+str(type(dog2)))\n",
    "print(\"type(ball1)=\"+str(type(ball1))+\"\\n\")\n",
    "\n",
    "# attempt to print Dog-objects\n",
    "# results in standard string representation for generic objects\n",
    "# since we have not overloaded the built-in method __str__\n",
    "# which takes care of the conversion of the object to a string representation\n",
    "print(\"Objects implicitly converted to strings:\")\n",
    "print(dog1)\n",
    "print(dog2)\n",
    "print(ball1)\n",
    "print(\"\")"
   ]
  },
  {
   "cell_type": "markdown",
   "metadata": {},
   "source": [
    "<font size=\"3\">\n",
    "When you attempt to print objects of user-defined classes, Python tries to implicitly convert these objects to a string representation.<br><br>\n",
    "<b>Since <i>Dog</i> and <i>Ball</i> are user-defined classes, Python cannot know what an adequate string representation of that object would be. Therefore, an object is converted to a string of that form as default.</b><br><br>\n",
    "We can invoke public object methods without any problem. An object method can change attributes of the object, hence an object can have a certain state.\n",
    "</font>"
   ]
  },
  {
   "cell_type": "code",
   "execution_count": null,
   "metadata": {},
   "outputs": [],
   "source": [
    "# invoke public object methods\n",
    "print(\"Results of invoked object methods:\")\n",
    "print(\"----------------------------\\n\")\n",
    "print(\"dog1.bark(40, 0, 1) = \"+str(dog1.bark(40, 0, 1)))\n",
    "print(\"dog1.bark(50, 1, 1) = \"+str(dog1.bark(50, 1, 1)))\n",
    "print(\"dog1.bark(60, 1, 1) = \"+str(dog1.bark(60, 1, 1)))\n",
    "print(\"dog1.bark(60, 1, 10) = \"+str(dog1.bark(60, 1, 10)))\n",
    "print(\"dog1.retrieve(ball1) = \"+str(dog1.retrieve(ball1)))\n",
    "ball1.print_status()\n",
    "print(\"\")\n",
    "\n",
    "# invoke method which modifies the objects attributes\n",
    "print(\"ball1.is_inflated() = \"+str(ball1.is_inflated()))\n",
    "print(\"After invoking ball1.deflate():\")\n",
    "ball1.deflate()\n",
    "print(\"ball1.is_inflated() = \"+str(ball1.is_inflated()))\n",
    "print(\"\")"
   ]
  },
  {
   "cell_type": "markdown",
   "metadata": {},
   "source": [
    "<font size=\"3\">\n",
    "The statefullness of objects in Python is also demonstrated by interaction between different object types.<br>\n",
    "<b>In this example, an object of class Dog invokes a method of another object of a different class, here Ball.</b>\n",
    "</font>"
   ]
  },
  {
   "cell_type": "code",
   "execution_count": null,
   "metadata": {},
   "outputs": [],
   "source": [
    "print(\"Statefullness of objects:\")\n",
    "print(\"-------------------------\")\n",
    "print(\"If method bark() was invoked 5 times (not necessarily sequentially),\")\n",
    "print(\"the private method __sleep() of the Dog object is invoked.\")\n",
    "print(\"dog1.get_energy() = \"+str(dog1.get_energy()))\n",
    "print(\"dog1.bark(100,1,20) = \"+str(dog1.bark(100,1,20)))\n",
    "print(\"dog1.get_energy() = \"+str(dog1.get_energy()))\n",
    "print(\"dog1.bark(100,1,20) = \"+str(dog1.bark(100,1,20)))\n",
    "print(\"dog1.get_energy() = \"+str(dog1.get_energy()))\n",
    "print(\"\")\n",
    "\n",
    "# interaction between an object of class Dog and of class Ball\n",
    "print(\"Interaction between objects:\")\n",
    "print(\"----------------------------\\n\")\n",
    "print(\"After invoking ball1.inflate():\")\n",
    "ball1.inflate()\n",
    "print(\"ball1.is_inflated() = \"+str(ball1.is_inflated()))\n",
    "print(\"After invoking dog1.bite(ball1):\")\n",
    "dog1.bite(ball1)\n",
    "print(\"ball1.is_inflated() = \"+str(ball1.is_inflated()))\n",
    "\n",
    "print(\"\")\n",
    "\n",
    "# access public object attribute directly\n",
    "print(\"dog1.has = \"+str(dog1.has))\n",
    "print(\"\\n\")\n",
    "\n",
    "# attempt to access private object attribute (discouraged anyway, use setter/getter methods instead !)\n",
    "print(\"Attempt to access private attribute throws an error (encapsulation):\")\n",
    "print(\"dog1.__name = \"+str(dog1.__name))\n",
    "# yields an AttributeError"
   ]
  },
  {
   "cell_type": "code",
   "execution_count": 19,
   "metadata": {},
   "outputs": [
    {
     "name": "stdout",
     "output_type": "stream",
     "text": [
      "Attempt to invoke private method throws an error (encapsulation):\n"
     ]
    },
    {
     "ename": "AttributeError",
     "evalue": "'Dog' object has no attribute '__sleep'",
     "output_type": "error",
     "traceback": [
      "\u001b[0;31m---------------------------------------------------------------------------\u001b[0m",
      "\u001b[0;31mAttributeError\u001b[0m                            Traceback (most recent call last)",
      "\u001b[0;32m<ipython-input-19-e7f9f8959629>\u001b[0m in \u001b[0;36m<module>\u001b[0;34m\u001b[0m\n\u001b[1;32m      1\u001b[0m \u001b[0;31m# attempt to invoke private object method\u001b[0m\u001b[0;34m\u001b[0m\u001b[0;34m\u001b[0m\u001b[0;34m\u001b[0m\u001b[0m\n\u001b[1;32m      2\u001b[0m \u001b[0mprint\u001b[0m\u001b[0;34m(\u001b[0m\u001b[0;34m\"Attempt to invoke private method throws an error (encapsulation):\"\u001b[0m\u001b[0;34m)\u001b[0m\u001b[0;34m\u001b[0m\u001b[0;34m\u001b[0m\u001b[0m\n\u001b[0;32m----> 3\u001b[0;31m \u001b[0mprint\u001b[0m\u001b[0;34m(\u001b[0m\u001b[0;34m\"dog1.__sleep()=\"\u001b[0m\u001b[0;34m+\u001b[0m\u001b[0mdog1\u001b[0m\u001b[0;34m.\u001b[0m\u001b[0m__sleep\u001b[0m\u001b[0;34m(\u001b[0m\u001b[0;34m)\u001b[0m\u001b[0;34m)\u001b[0m\u001b[0;34m\u001b[0m\u001b[0;34m\u001b[0m\u001b[0m\n\u001b[0m",
      "\u001b[0;31mAttributeError\u001b[0m: 'Dog' object has no attribute '__sleep'"
     ]
    }
   ],
   "source": [
    "# attempt to invoke private object method\n",
    "print(\"Attempt to invoke private method throws an error (encapsulation):\")\n",
    "print(\"dog1.__sleep()=\"+dog1.__sleep())"
   ]
  },
  {
   "cell_type": "markdown",
   "metadata": {},
   "source": [
    "<font size=\"3\"><div class=\"alert alert-block alert-success\"><b>Exercise:</b>\n",
    "    Define a class <i>Sheep</i> with <b>private</b> attributes <i>color, name, age, sheared</i> and the <b>public</b> attribute <i>id</i>. Implement <b>setters</b> and <b>getters</b> for the private attributes. Implement a <b>public</b> method <i>shear</i> switching the private attribute <i>sheared</i>. Implement a method <i>_ _str _ _</i> for the implicit string representation of the object, so that Python knows what to do when you attempt to print a Sheep object. Then try to print the Sheep object. </div><br>\n",
    "<b>Try it yourself:</b></font>"
   ]
  },
  {
   "cell_type": "code",
   "execution_count": null,
   "metadata": {},
   "outputs": [],
   "source": []
  },
  {
   "cell_type": "markdown",
   "metadata": {},
   "source": [
    "### Example Solution:"
   ]
  },
  {
   "cell_type": "code",
   "execution_count": 21,
   "metadata": {
    "scrolled": true
   },
   "outputs": [
    {
     "name": "stdout",
     "output_type": "stream",
     "text": [
      "This is a sheep of black color and it is 3 years old.\n",
      "[<__main__.Sheep object at 0x7f73d0550310>, <__main__.Sheep object at 0x7f73d054ef40>, <__main__.Sheep object at 0x7f73d054ed00>]\n",
      "False\n",
      "True\n",
      "False\n",
      "<method-wrapper '__hash__' of Sheep object at 0x7f73d054ed90>\n",
      "<method-wrapper '__hash__' of Sheep object at 0x7f73d0550310>\n"
     ]
    }
   ],
   "source": [
    "from __future__ import annotations\n",
    "from typing import List\n",
    "import numpy as np\n",
    "import copy\n",
    "\n",
    "class Sheep(object):\n",
    "    def __init__(self, color : str, name : str, age : int, sheared : bool) -> Sheep:\n",
    "        self.__color = color\n",
    "        self.__name = name\n",
    "        self.__age = age\n",
    "        self.__sheared = sheared\n",
    "        self.children = []\n",
    "        \n",
    "    def set_color(self, color : str):\n",
    "        self.__color = color\n",
    "    def get_color(self) -> str:\n",
    "        return self.__color\n",
    "    def set_name(self, name : str):\n",
    "        self.__name = name\n",
    "    def get_name(self) -> str:\n",
    "        return self.__name\n",
    "    def set_age(self, age : int):\n",
    "        self.__age = age\n",
    "    def get_age(self) -> int:\n",
    "        return self.__age\n",
    "    def get_children(self) -> List[Sheep]:\n",
    "        return self.children\n",
    "    def is_sheared(self) -> bool:\n",
    "        return self.__sheared\n",
    "    def shear(self) -> None:\n",
    "        #if self.sheared:\n",
    "        #    self.__sheared = False\n",
    "        #else:\n",
    "        #    self.__sheared = True\n",
    "        self.__sheared = not self.__sheared\n",
    "        \n",
    "    def give_birth(self, n) -> List[Sheep]:\n",
    "        colors=[\"black\",\"white\",\"red\",\"blue\"]\n",
    "        for i in range(n):\n",
    "            rand_color = np.random.randint(0,len(colors))\n",
    "            self.children.append(Sheep(colors[rand_color],str(np.random.randint(0,1000)),0,False))\n",
    "        return copy.deepcopy(self.children)\n",
    "        \n",
    "    def __str__(self) -> str:\n",
    "        return \"This is a sheep of \"+self.__color+\" color and it is \"+str(self.__age)+\" years old.\"\n",
    "\n",
    "sheep1 = Sheep(\"black\",\"Dolly\",3,False)\n",
    "print(sheep1)\n",
    "childrens = sheep1.give_birth(3)\n",
    "print(sheep1.get_children())\n",
    "print(sheep1.is_sheared())\n",
    "sheep1.shear()\n",
    "print(sheep1.is_sheared())\n",
    "sheep1.shear()\n",
    "print(sheep1.is_sheared())\n",
    "\n",
    "# although the list of children was returned by sheep1.give_birth(3)\n",
    "# the elements in childrens, the new sheeps objects, are not real deep copies, but references\n",
    "# to the old objects in sheep1.__children\n",
    "\n",
    "# not a real copy\n",
    "# arr1 = np.array([1,2,3,4])\n",
    "# arr2 = arr1\n",
    "\n",
    "# this becomes obvious if the object hashes are compared\n",
    "# a hash is a (in the best case) unique string or number assigned\n",
    "# to an input as a result of a (cryptographic) function\n",
    "print(childrens[0].__hash__)\n",
    "print(sheep1.children[0].__hash__)"
   ]
  },
  {
   "cell_type": "markdown",
   "metadata": {},
   "source": [
    "<br><br><br>\n",
    "### Inheritance & Method prototyping, overriding and overloading\n",
    "<br>\n",
    "<font size=\"3\">\n",
    "    <b>Inheritance is one of the key features of the OOP paradigm.</b><br><br>\n",
    "    <b>Inheritance allows a child-class or subclass to inherit attributes and methods from one or more parent- or super classes.</b> The figure illustrates this circumstance:<br><br>\n",
    "    \n",
    "</font>\n",
    "<div align=\"center\">\n",
    "<img src=\"img/inheritance2.jpg\" width=\"40%\">\n",
    "</div>\n",
    "<br>\n",
    "<font size=\"2\"><i>Source: </i><a href=\"https://www.startertutorials.com/blog/inheritance-polymorphism-python.html\">https://www.startertutorials.com/blog/inheritance-polymorphism-python.html</a></font><font size=\"3\">\n",
    "<br><br>\n",
    "\n",
    "Inheritance allows to define a hierarchy of classes sharing the same base attributes and methods (interfaces). It can facilitate the implementation of new features in your code.<br><br> Inheritance is very often required when you work with big Python frameworks. There you write your own class by inheriting from a provided (abstract) class to comply with the interfaces or methods expected by the framework environment.<br><br>\n",
    "    <b>Multiple inheritance</b> is possible in Python, but only indirect via <a href=\"https://medium.com/@__hungrywolf/mro-in-python-3-e2bcd2bd6851\"><b>Method Resolution Order</b> (MRO)</a>, hence the object method are called in a specific order. An example is given below. <br><br>\n",
    "<b>In particular, method prototyping, overriding and overloading is applied in that case.<br><br>\n",
    "Method prototypes are simply empty methods defined in the parent class, hence this class is called <i>abstract</i>. <br><br>This prototype method is then overridden by redefining a method with the <u>same name</u> in the sub class.</b><br><br>\n",
    "    <b>Method overloading</b> is also called <b><i>polymorphism</i></b> since multiple class methods of the <u>same name</u> can be defined, but accepting different numbers of arguments and types. Depending on which <i>signature</i> (number and data types of expected method arguments) of the method fits, the specific method in that case is selected and executed.<br><br>\n",
    "<b>In contrast to other programming languages like e.g. Java, a builtin implementation of polymorphism is not available in Python, hence it is not possible to define multiple methods of the same name, but accepting different number of arguments.</b> Polymorphism can only be implemented indirectly by default values for (keyword) arguments or variable number of arguments.\n",
    "</font>\n",
    "\n",
    "### Example:"
   ]
  },
  {
   "cell_type": "code",
   "execution_count": 27,
   "metadata": {},
   "outputs": [
    {
     "name": "stdout",
     "output_type": "stream",
     "text": [
      "{'_Dog__name': 'Hideki', '_age': 99, 'favorite_food': 'Pizza', 'favorite_toy': 'Bone', 'has': None, '_Dog__energy': 5, '_InuShiba__num_of_memes_published': 2e+100}\n",
      "['_Dog__name', '_age', 'favorite_food', 'favorite_toy', 'has', '_Dog__energy', '_InuShiba__num_of_memes_published', '__module__', '__init__', 'publish_meme', 'bark', '__doc__', '__str__', 'bite', 'retrieve', '_Dog__sleep', 'set_name', 'get_name', 'get_energy', '__dict__', '__weakref__', '__repr__', '__hash__', '__getattribute__', '__setattr__', '__delattr__', '__lt__', '__le__', '__eq__', '__ne__', '__gt__', '__ge__', '__new__', '__reduce_ex__', '__reduce__', '__subclasshook__', '__init_subclass__', '__format__', '__sizeof__', '__dir__', '__class__']\n",
      "Barking in Japanese.\n",
      "Barking in Japanese.\n",
      "\n",
      "False\n",
      "BAAAAAAAAAAARK\n"
     ]
    },
    {
     "ename": "TypeError",
     "evalue": "bark() missing 3 required positional arguments: 'volume', 'pitch', and 'duration'",
     "output_type": "error",
     "traceback": [
      "\u001b[0;31m---------------------------------------------------------------------------\u001b[0m",
      "\u001b[0;31mTypeError\u001b[0m                                 Traceback (most recent call last)",
      "\u001b[0;32m<ipython-input-27-a54a05e449fb>\u001b[0m in \u001b[0;36m<module>\u001b[0;34m\u001b[0m\n\u001b[1;32m     41\u001b[0m \u001b[0mprint\u001b[0m\u001b[0;34m(\u001b[0m\u001b[0mdog1\u001b[0m\u001b[0;34m.\u001b[0m\u001b[0mbark\u001b[0m\u001b[0;34m(\u001b[0m\u001b[0;36m100\u001b[0m\u001b[0;34m,\u001b[0m\u001b[0;36m1\u001b[0m\u001b[0;34m,\u001b[0m\u001b[0;36m10\u001b[0m\u001b[0;34m)\u001b[0m\u001b[0;34m)\u001b[0m\u001b[0;34m\u001b[0m\u001b[0;34m\u001b[0m\u001b[0m\n\u001b[1;32m     42\u001b[0m \u001b[0;31m# invoking bark of a Dog object, throws an exception when invoked without parameters\u001b[0m\u001b[0;34m\u001b[0m\u001b[0;34m\u001b[0m\u001b[0;34m\u001b[0m\u001b[0m\n\u001b[0;32m---> 43\u001b[0;31m \u001b[0mdog1\u001b[0m\u001b[0;34m.\u001b[0m\u001b[0mbark\u001b[0m\u001b[0;34m(\u001b[0m\u001b[0;34m)\u001b[0m\u001b[0;34m\u001b[0m\u001b[0;34m\u001b[0m\u001b[0m\n\u001b[0m",
      "\u001b[0;31mTypeError\u001b[0m: bark() missing 3 required positional arguments: 'volume', 'pitch', and 'duration'"
     ]
    }
   ],
   "source": [
    "# let's use our class Dog from the example above\n",
    "# let's define a new class InuShiba which inherits from class Dog\n",
    "class InuShiba(Dog):\n",
    "    \n",
    "    # the constructor of the class Dog is overridden here\n",
    "    def __init__(self, name : str, num_of_memes_published : int, age : int) -> InuShiba:\n",
    "        \n",
    "        # in order to have the same attributes like the parent or super class Dog\n",
    "        # invoke constructor of super class, then define additional attributes\n",
    "        \n",
    "        # instead of using the explicit class name here, better use the super() method!\n",
    "        super().__init__(name, age)\n",
    "        #Dog.__init__(self, name, age)\n",
    "        self.__num_of_memes_published = num_of_memes_published\n",
    "    \n",
    "    # a new method only InuShiba objects have\n",
    "    def publish_meme(self):\n",
    "        self.__num_of_memes_published += 1\n",
    "        \n",
    "    # the method bark is overloaded, since the class Dog already has a method bark, but\n",
    "    # with a different signature: the bark method of Dog expects 3 parameters, \n",
    "    # this bark method does not.\n",
    "    def bark(self, volume=100, pitch=1, duration=10):\n",
    "        return \"Barking in Japanese.\"\n",
    "\n",
    "special_dog = InuShiba(\"Hideki\", 2E100, 99)\n",
    "# inspecting the attributes of a InuShiba object, it in fact shares the same attributes as a Dog object\n",
    "# but it has additional attributes\n",
    "print(special_dog.__dict__)\n",
    "# inspecting the methods of a InuShiba object, it shares in fact the same methods as a Dog object\n",
    "# but it has additional methods\n",
    "print(special_dog.__dir__())\n",
    "\n",
    "# demonstration of method overloading / polymorphic methods\n",
    "print(special_dog.bark())\n",
    "print(special_dog.bark(100, 1, 10))\n",
    "print(\"\")\n",
    "\n",
    "print(Dog(\"a\",1) == Dog(\"b\",1))\n",
    "# need to override __add__ to do that\n",
    "#print(Dog(\"a\",1) + Dog(\"b\",2))\n",
    "print(dog1.bark(100,1,10))\n",
    "# invoking bark of a Dog object, throws an exception when invoked without parameters\n",
    "dog1.bark()"
   ]
  }
 ],
 "metadata": {
  "kernelspec": {
   "display_name": "Python 3",
   "language": "python",
   "name": "python3"
  },
  "language_info": {
   "codemirror_mode": {
    "name": "ipython",
    "version": 3
   },
   "file_extension": ".py",
   "mimetype": "text/x-python",
   "name": "python",
   "nbconvert_exporter": "python",
   "pygments_lexer": "ipython3",
   "version": "3.9.2"
  },
  "varInspector": {
   "cols": {
    "lenName": 16,
    "lenType": 16,
    "lenVar": 40
   },
   "kernels_config": {
    "python": {
     "delete_cmd_postfix": "",
     "delete_cmd_prefix": "del ",
     "library": "var_list.py",
     "varRefreshCmd": "print(var_dic_list())"
    },
    "r": {
     "delete_cmd_postfix": ") ",
     "delete_cmd_prefix": "rm(",
     "library": "var_list.r",
     "varRefreshCmd": "cat(var_dic_list()) "
    }
   },
   "types_to_exclude": [
    "module",
    "function",
    "builtin_function_or_method",
    "instance",
    "_Feature"
   ],
   "window_display": false
  }
 },
 "nbformat": 4,
 "nbformat_minor": 4
}
