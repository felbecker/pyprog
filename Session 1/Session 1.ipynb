{
 "cells": [
  {
   "cell_type": "markdown",
   "metadata": {},
   "source": [
    "# Introduction to Python for People with Programming Experience\n",
    "\n",
    "\n",
    "## Session 1 / 2 - 25.08.2021 9:00 - 12:30\n",
    "<br>\n",
    "<font size=\"3\">\n",
    "    <i>by Fabian Wilde, Katharina Hoff, Matthis Ebel & Mario Stanke<br></i><br>\n",
    "<b>Contact:</b> fabian.wilde@uni-greifswald.de\n",
    "<br>\n",
    "</font>\n",
    "<br>\n",
    "<font size=\"3\">\n",
    "Python became one of the most popular and versatile programming languages in various scientific disciplines for data analysis and visualization. It is also one of the most demanded programming languages outside academia in particular for machine learning applications and business data analytics. Therefore it will be an invaluable skill once you've mastered this and other more advances courses in Python.<br>\n",
    "\n",
    "**Python is not translated to machine language before execution.** <br>\n",
    "In contrast to other popular programming languages like e.g. C++ or Java, the code is not precompiled which means the code is not translated from a human-readable version of the program to a so-called executable binary file (containing the binary machine language (assembler) version of the program) before it is executed. <br>\n",
    "\n",
    "**Python is an interpreted language.** <br>\n",
    "In simple words, the program is translated on-the-fly line by line while it is executed. Interpreted languages have a slight performance drawback, but this is negligible in most applications. In particular Python had a bad reputation regarding its execution speed in its infancy. But nowadays, its speed is even comparable to C(++) which is achieved by integrated precompiled libraries like <a href=\"https://numpy.org/\">numpy</a>, <a href=\"https://pandas.pydata.org/\">pandas</a> or <a href=\"http://numba.pydata.org/\">numba</a>.<br>\n",
    "\n",
    "**Python is platform-independent.** <br>\n",
    "Python is available for various platform like Windows, Linux, but also Mac OS X and Android, even within a web browser as you can see here. As mentioned above, some libraries could be precompiled for a specific target platform. Therefore, it depends in the end on the 3rd party dependencies of your code whether it'll run flawlessly under all operating systems.<br>\n",
    "\n",
    "**Python is comparabily easy to learn if you already know e.g C(++) or Java.**<br>\n",
    "In contrast to other programming languages, Python offers dynamic typing and a built-in memory management (garbage collection), hence C-like pointers don't exist in Python.\n",
    "    \n",
    "**In this course Python 3 is used.** <br><br>\n",
    "    \n",
    "### Objective of this course\n",
    "\n",
    "<br>\n",
    "<font size=\"3\">\n",
    "This course aims to introduce you into the interpreted programming language Python and enable you to use it on an intermediate level for your projects including the object-orienting programming style. The learning curve of this course is a bit steeper and the programming exercises are a bit more complex compared to the absolute beginner's course since some programming experience in another language is recommended.\n",
    "</font><br><br>\n",
    "    \n",
    "## Usage modes for Python\n",
    "\n",
    "<br>\n",
    "<font size=\"3\">\n",
    "<b>In contrast to C(++) or Java (except during an interactive debugging session), Python offers an interactive and a non-interactive usage mode.</b><br><br>\n",
    "In this course, <b>we will use both modes, but first the interactive usage mode.</b> This course uses the popular <b>Jupyter environment</b> and <b>Jupyter Notebooks</b> offering an interactive environment where we can enter commands and immediately see the results.\n",
    "\n",
    "Click for example in the empty cell below and enter `1 + 1` or `print(\"Hello world!\")` (or any other simple arithmetic expression) and **press Ctrl + Enter** to execute the content of the currently selected cell (The currenty selected cell has a blue left border which switches to green when being edited.):\n",
    "    </font>"
   ]
  },
  {
   "cell_type": "code",
   "execution_count": 1,
   "metadata": {},
   "outputs": [
    {
     "data": {
      "text/plain": [
       "2"
      ]
     },
     "execution_count": 1,
     "metadata": {},
     "output_type": "execute_result"
    }
   ],
   "source": [
    "1 + 1"
   ]
  },
  {
   "cell_type": "code",
   "execution_count": 2,
   "metadata": {},
   "outputs": [
    {
     "name": "stdout",
     "output_type": "stream",
     "text": [
      "Hello World!\n"
     ]
    }
   ],
   "source": [
    "print(\"Hello World!\")"
   ]
  },
  {
   "cell_type": "markdown",
   "metadata": {},
   "source": [
    "<font size=\"3\"><b>You should see the result or the output of the commands in the cell below.</b></font>\n",
    "\n",
    "### Useful Keyboard Shortcuts in a JupyterNotebook\n",
    "<br>\n",
    "\n",
    "<font size=\"3\">\n",
    "    \n",
    "| Shortcut | Function |\n",
    "| -------- | ----------- |\n",
    "| Esc      | Switch to command mode |\n",
    "| Enter    | Switch to edit mode |\n",
    "| B        | Creates new empty cell **B**elow |\n",
    "| H        | Show **H**elp   |\n",
    "| X        | Deletes currently selected cell|\n",
    "| Shift + Enter | Run cell and advance to next cell |\n",
    "| Ctrl  + Enter | Run cell |\n",
    "| Ctrl  + S     | Save notebook |\n",
    "\n",
    "The frame color of the currently selected cell changes from blue in command mode to green in edit mode.<br>\n",
    "    <b>Press ESC to switch from edit mode to command mode.</b>\n",
    "\n",
    "</font>"
   ]
  },
  {
   "cell_type": "markdown",
   "metadata": {},
   "source": [
    "## JupyterHub\n",
    "\n",
    "<br>\n",
    "<font size=\"3\">\n",
    "JupyterHub is a Jupyter environment running on a remote server of the university (which we're using right now).<br><br>\n",
    "<b>It is accessible from within the university network or remotely from home via the VPN access.</b><br>Therefore, a local installation is not necessary, if you're a student or employee of the university.<br>\n",
    "<div class=\"alert alert-warning\" role=\"alert\">\n",
    "    <b>If you're connected to eduroam, you can directly access the JupyterHub via</b>\n",
    "    <a href=\"https://jupyterhub.wolke.uni-greifswald.de/hub/login\">https://jupyterhub.wolke.uni-greifswald.de/hub/login</a> using your personal login credentials from the university data center.\n",
    "</div>\n",
    "\n",
    "<b>Open a terminal and run the following command to download (or clone) the course materials</b> to your Jupyter notebook instance:\n",
    "\n",
    "`git clone https://github.com/fwilde/pyprog`\n",
    "    \n",
    "<b>Alternatively, create a new notebook</b> and run the following commands in a new cell to download the course materials:"
   ]
  },
  {
   "cell_type": "code",
   "execution_count": 4,
   "metadata": {
    "scrolled": true
   },
   "outputs": [
    {
     "name": "stderr",
     "output_type": "stream",
     "text": [
      "Klone nach 'pyprogs' ...\n",
      "remote: Not Found\n",
      "fatal: Repository 'https://github.com/pyprogs/' nicht gefunden.\n"
     ]
    },
    {
     "ename": "CalledProcessError",
     "evalue": "Command 'b'git clone https://github.com/pyprogs\\n'' returned non-zero exit status 128.",
     "output_type": "error",
     "traceback": [
      "\u001b[0;31m---------------------------------------------------------------------------\u001b[0m",
      "\u001b[0;31mCalledProcessError\u001b[0m                        Traceback (most recent call last)",
      "\u001b[0;32m<ipython-input-4-ade8d1c2507f>\u001b[0m in \u001b[0;36m<module>\u001b[0;34m\u001b[0m\n\u001b[0;32m----> 1\u001b[0;31m \u001b[0mget_ipython\u001b[0m\u001b[0;34m(\u001b[0m\u001b[0;34m)\u001b[0m\u001b[0;34m.\u001b[0m\u001b[0mrun_cell_magic\u001b[0m\u001b[0;34m(\u001b[0m\u001b[0;34m'bash'\u001b[0m\u001b[0;34m,\u001b[0m \u001b[0;34m''\u001b[0m\u001b[0;34m,\u001b[0m \u001b[0;34m'git clone https://github.com/pyprogs\\n'\u001b[0m\u001b[0;34m)\u001b[0m\u001b[0;34m\u001b[0m\u001b[0;34m\u001b[0m\u001b[0m\n\u001b[0m",
      "\u001b[0;32m~/anaconda3/lib/python3.8/site-packages/IPython/core/interactiveshell.py\u001b[0m in \u001b[0;36mrun_cell_magic\u001b[0;34m(self, magic_name, line, cell)\u001b[0m\n\u001b[1;32m   2369\u001b[0m             \u001b[0;32mwith\u001b[0m \u001b[0mself\u001b[0m\u001b[0;34m.\u001b[0m\u001b[0mbuiltin_trap\u001b[0m\u001b[0;34m:\u001b[0m\u001b[0;34m\u001b[0m\u001b[0;34m\u001b[0m\u001b[0m\n\u001b[1;32m   2370\u001b[0m                 \u001b[0margs\u001b[0m \u001b[0;34m=\u001b[0m \u001b[0;34m(\u001b[0m\u001b[0mmagic_arg_s\u001b[0m\u001b[0;34m,\u001b[0m \u001b[0mcell\u001b[0m\u001b[0;34m)\u001b[0m\u001b[0;34m\u001b[0m\u001b[0;34m\u001b[0m\u001b[0m\n\u001b[0;32m-> 2371\u001b[0;31m                 \u001b[0mresult\u001b[0m \u001b[0;34m=\u001b[0m \u001b[0mfn\u001b[0m\u001b[0;34m(\u001b[0m\u001b[0;34m*\u001b[0m\u001b[0margs\u001b[0m\u001b[0;34m,\u001b[0m \u001b[0;34m**\u001b[0m\u001b[0mkwargs\u001b[0m\u001b[0;34m)\u001b[0m\u001b[0;34m\u001b[0m\u001b[0;34m\u001b[0m\u001b[0m\n\u001b[0m\u001b[1;32m   2372\u001b[0m             \u001b[0;32mreturn\u001b[0m \u001b[0mresult\u001b[0m\u001b[0;34m\u001b[0m\u001b[0;34m\u001b[0m\u001b[0m\n\u001b[1;32m   2373\u001b[0m \u001b[0;34m\u001b[0m\u001b[0m\n",
      "\u001b[0;32m~/anaconda3/lib/python3.8/site-packages/IPython/core/magics/script.py\u001b[0m in \u001b[0;36mnamed_script_magic\u001b[0;34m(line, cell)\u001b[0m\n\u001b[1;32m    140\u001b[0m             \u001b[0;32melse\u001b[0m\u001b[0;34m:\u001b[0m\u001b[0;34m\u001b[0m\u001b[0;34m\u001b[0m\u001b[0m\n\u001b[1;32m    141\u001b[0m                 \u001b[0mline\u001b[0m \u001b[0;34m=\u001b[0m \u001b[0mscript\u001b[0m\u001b[0;34m\u001b[0m\u001b[0;34m\u001b[0m\u001b[0m\n\u001b[0;32m--> 142\u001b[0;31m             \u001b[0;32mreturn\u001b[0m \u001b[0mself\u001b[0m\u001b[0;34m.\u001b[0m\u001b[0mshebang\u001b[0m\u001b[0;34m(\u001b[0m\u001b[0mline\u001b[0m\u001b[0;34m,\u001b[0m \u001b[0mcell\u001b[0m\u001b[0;34m)\u001b[0m\u001b[0;34m\u001b[0m\u001b[0;34m\u001b[0m\u001b[0m\n\u001b[0m\u001b[1;32m    143\u001b[0m \u001b[0;34m\u001b[0m\u001b[0m\n\u001b[1;32m    144\u001b[0m         \u001b[0;31m# write a basic docstring:\u001b[0m\u001b[0;34m\u001b[0m\u001b[0;34m\u001b[0m\u001b[0;34m\u001b[0m\u001b[0m\n",
      "\u001b[0;32m<decorator-gen-110>\u001b[0m in \u001b[0;36mshebang\u001b[0;34m(self, line, cell)\u001b[0m\n",
      "\u001b[0;32m~/anaconda3/lib/python3.8/site-packages/IPython/core/magic.py\u001b[0m in \u001b[0;36m<lambda>\u001b[0;34m(f, *a, **k)\u001b[0m\n\u001b[1;32m    185\u001b[0m     \u001b[0;31m# but it's overkill for just that one bit of state.\u001b[0m\u001b[0;34m\u001b[0m\u001b[0;34m\u001b[0m\u001b[0;34m\u001b[0m\u001b[0m\n\u001b[1;32m    186\u001b[0m     \u001b[0;32mdef\u001b[0m \u001b[0mmagic_deco\u001b[0m\u001b[0;34m(\u001b[0m\u001b[0marg\u001b[0m\u001b[0;34m)\u001b[0m\u001b[0;34m:\u001b[0m\u001b[0;34m\u001b[0m\u001b[0;34m\u001b[0m\u001b[0m\n\u001b[0;32m--> 187\u001b[0;31m         \u001b[0mcall\u001b[0m \u001b[0;34m=\u001b[0m \u001b[0;32mlambda\u001b[0m \u001b[0mf\u001b[0m\u001b[0;34m,\u001b[0m \u001b[0;34m*\u001b[0m\u001b[0ma\u001b[0m\u001b[0;34m,\u001b[0m \u001b[0;34m**\u001b[0m\u001b[0mk\u001b[0m\u001b[0;34m:\u001b[0m \u001b[0mf\u001b[0m\u001b[0;34m(\u001b[0m\u001b[0;34m*\u001b[0m\u001b[0ma\u001b[0m\u001b[0;34m,\u001b[0m \u001b[0;34m**\u001b[0m\u001b[0mk\u001b[0m\u001b[0;34m)\u001b[0m\u001b[0;34m\u001b[0m\u001b[0;34m\u001b[0m\u001b[0m\n\u001b[0m\u001b[1;32m    188\u001b[0m \u001b[0;34m\u001b[0m\u001b[0m\n\u001b[1;32m    189\u001b[0m         \u001b[0;32mif\u001b[0m \u001b[0mcallable\u001b[0m\u001b[0;34m(\u001b[0m\u001b[0marg\u001b[0m\u001b[0;34m)\u001b[0m\u001b[0;34m:\u001b[0m\u001b[0;34m\u001b[0m\u001b[0;34m\u001b[0m\u001b[0m\n",
      "\u001b[0;32m~/anaconda3/lib/python3.8/site-packages/IPython/core/magics/script.py\u001b[0m in \u001b[0;36mshebang\u001b[0;34m(self, line, cell)\u001b[0m\n\u001b[1;32m    243\u001b[0m             \u001b[0msys\u001b[0m\u001b[0;34m.\u001b[0m\u001b[0mstderr\u001b[0m\u001b[0;34m.\u001b[0m\u001b[0mflush\u001b[0m\u001b[0;34m(\u001b[0m\u001b[0;34m)\u001b[0m\u001b[0;34m\u001b[0m\u001b[0;34m\u001b[0m\u001b[0m\n\u001b[1;32m    244\u001b[0m         \u001b[0;32mif\u001b[0m \u001b[0margs\u001b[0m\u001b[0;34m.\u001b[0m\u001b[0mraise_error\u001b[0m \u001b[0;32mand\u001b[0m \u001b[0mp\u001b[0m\u001b[0;34m.\u001b[0m\u001b[0mreturncode\u001b[0m\u001b[0;34m!=\u001b[0m\u001b[0;36m0\u001b[0m\u001b[0;34m:\u001b[0m\u001b[0;34m\u001b[0m\u001b[0;34m\u001b[0m\u001b[0m\n\u001b[0;32m--> 245\u001b[0;31m             \u001b[0;32mraise\u001b[0m \u001b[0mCalledProcessError\u001b[0m\u001b[0;34m(\u001b[0m\u001b[0mp\u001b[0m\u001b[0;34m.\u001b[0m\u001b[0mreturncode\u001b[0m\u001b[0;34m,\u001b[0m \u001b[0mcell\u001b[0m\u001b[0;34m,\u001b[0m \u001b[0moutput\u001b[0m\u001b[0;34m=\u001b[0m\u001b[0mout\u001b[0m\u001b[0;34m,\u001b[0m \u001b[0mstderr\u001b[0m\u001b[0;34m=\u001b[0m\u001b[0merr\u001b[0m\u001b[0;34m)\u001b[0m\u001b[0;34m\u001b[0m\u001b[0;34m\u001b[0m\u001b[0m\n\u001b[0m\u001b[1;32m    246\u001b[0m \u001b[0;34m\u001b[0m\u001b[0m\n\u001b[1;32m    247\u001b[0m     \u001b[0;32mdef\u001b[0m \u001b[0m_run_script\u001b[0m\u001b[0;34m(\u001b[0m\u001b[0mself\u001b[0m\u001b[0;34m,\u001b[0m \u001b[0mp\u001b[0m\u001b[0;34m,\u001b[0m \u001b[0mcell\u001b[0m\u001b[0;34m,\u001b[0m \u001b[0mto_close\u001b[0m\u001b[0;34m)\u001b[0m\u001b[0;34m:\u001b[0m\u001b[0;34m\u001b[0m\u001b[0;34m\u001b[0m\u001b[0m\n",
      "\u001b[0;31mCalledProcessError\u001b[0m: Command 'b'git clone https://github.com/pyprogs\\n'' returned non-zero exit status 128."
     ]
    }
   ],
   "source": [
    "%%bash\n",
    "git clone https://github.com/pyprog"
   ]
  },
  {
   "cell_type": "markdown",
   "metadata": {},
   "source": [
    "<font size=\"3\">The line \"%%bash\" is a magic command from iPython to tell the interpreter that the following lines are to be interpreted as bash commands not as Python.</font>"
   ]
  },
  {
   "cell_type": "markdown",
   "metadata": {},
   "source": [
    "## Local Installation of the Jupyter Environment\n",
    "\n",
    "<br>\n",
    "<font size=\"3\">\n",
    "In case you prefer to or can use Jupyter Hub, you can skip the setup section. If you'd like to write and test your code independently from the university infrastructure <b> or in case you're an external participant without eduroam or VPN access</b>, then install the Jupyter environment locally on your machine, following the instructions below.\n",
    "\n",
    "### Linux\n",
    "\n",
    "The easiest way is to download and install the Anaconda distribution here: <br>\n",
    "https://repo.anaconda.com/archive/Anaconda3-2021.05-Linux-x86_64.sh\n",
    "\n",
    "### Mac OS X\n",
    "\n",
    "The easiest way is to download and install the Anaconda distribution here: <br>\n",
    "https://repo.anaconda.com/archive/Anaconda3-2021.05-MacOSX-x86_64.pkg\n",
    "\n",
    "### Windows\n",
    "\n",
    "The easiest way is to download and install the Anaconda distribution here: <br>\n",
    "https://repo.anaconda.com/archive/Anaconda3-2021.05-Windows-x86_64.exe\n",
    "    \n",
    "The Anaconda distribution also contains the popular Python IDE <a href=\"https://www.spyder-ide.org/\">Spyder</a>.\n",
    "</font>"
   ]
  },
  {
   "cell_type": "markdown",
   "metadata": {},
   "source": [
    "### Popular Python Editors (with GUI) and IDEs\n",
    "\n",
    "<br>\n",
    "<font size=\"3\">\n",
    "    <ul>\n",
    "        <li><a href=\"https://www.spyder-ide.org/\">Spyder</a>:<br> Spyder is the most common Python editor and evolved lately to a decent IDE for Python. It is part of the Anaconda environment.</li><br>\n",
    "        <li><a href=\"https://www.jetbrains.com/de-de/pycharm/\">PyCharm</a>:<br> another popular IDE including a debugger for Python and free of charge for the community edition.</li><br>\n",
    "        <li><a href=\"https://code.visualstudio.com/\">Visual Studio Code</a>:<br> an open-source editor and IDE for various programming languages, including Python via Plugins.</li><br>\n",
    "        <li><a href=\"https://marketplace.eclipse.org/content/pydev-python-ide-eclipse\">PyDev for Eclipse</a>: <br>Eclipse is the most popular IDE for Java and other programming languages, but offers Python support via PyDev.</li><br>\n",
    "        <li><a href=\"https://realpython.com/vim-and-python-a-match-made-in-heaven/\">Vim</a>: <br> Vi offers via Plugins a very puristic, text-based IDE for Python with integrated github support.\n",
    "    </ul>\n",
    "</font>"
   ]
  },
  {
   "cell_type": "markdown",
   "metadata": {},
   "source": [
    "## Basic Syntax and Dynamic Variable Typing / Casting\n",
    "\n",
    "<br>\n",
    "<center>\n",
    "<img src=\"img/semicolon2.png\" width=\"40%\">\n",
    "<br>\n",
    "<font size=\"2\"><i>Source:</i> <a href=\"https://www.reddit.com/r/ProgrammerHumor/\">https://www.reddit.com/r/ProgrammerHumor/</a>\n",
    "    </font>\n",
    "</center>\n",
    "<br>\n",
    "<font size=\"3\">\n",
    "Python is very different from the classic compiled programming languages like C(++) and Java. In the very first example, the prominent \"Hello World\", you may have already noticed the <b>lack of semicolons as terminating statement character.</b> Apart from that, <b>variables and their types</b> don't need to be declared in advance, but their name, content and type <b>can be declared at runtime.</b><br><br>\n",
    "The following table summarizes the most important differences and similarities between Python and other programming languages:<br>\n",
    "    \n",
    "<div align=\"center\">\n",
    "    \n",
    "| Feature| Python | C++ or Java |\n",
    "| -------| ------- | ----------- |\n",
    "| Classes | native support | native support |\n",
    "| Constants | don't exist | exist |\n",
    "| Codeblock definition | Indentation | Brackets { } |\n",
    "| Functions | native support | native support |\n",
    "| Inheritance | mutiple inheritance via MRO | native support |\n",
    "| Pointers | don't exist | exist |\n",
    "| Polymorphism | can be simulated | native support |\n",
    "| Typing | dynamic | static |\n",
    "| Statement termination | None (or colon) | Semicolon |\n",
    "\n",
    "\n",
    "</div><br>\n",
    "As first example, we define various variables (at runtime) which illustrates <b>the dynamic typing in Python</b> and that <b>a data type does not need to be defined, but the interpreter then guesses the correct data type for the given variable</b>:"
   ]
  },
  {
   "cell_type": "code",
   "execution_count": 5,
   "metadata": {},
   "outputs": [
    {
     "name": "stdout",
     "output_type": "stream",
     "text": [
      "Hello world! \n",
      "\n",
      "Hello world! \\n\n"
     ]
    }
   ],
   "source": [
    "# A single-line comment begins with a number sign character '#'\n",
    "\n",
    "var1  = False              # Definition of a boolean variable\n",
    "var2  = 4                  # Definition of an integer variable\n",
    "var3  = 123.456            # Definition of floating point number variable\n",
    "var4  = 9.1e-31            # Python supports the scientific notation for floats\n",
    "\n",
    "# Definition of a string with double quotes -> special escape sequences / string literals are replaced\n",
    "# which are characters which are non-visible e.g. \\n (ASCII linefeed) causes a line break in the output\n",
    "var5  = \"Hello world! \\n\"\n",
    "\n",
    "# call the print function with var5 as argument\n",
    "print(var5)\n",
    "\n",
    "# Definition of a string with single quotes and preceding r \n",
    "# -> string without handling of escape sequences is used\n",
    "var10 = r'Hello world! \\n'\n",
    "print(var10)\n",
    "\n",
    "var6 = var7 = 3.14159      # Multiple Assignments in one line\n",
    "var8, var9 = \"Python\", 4   # Multiple Assignments in one line"
   ]
  },
  {
   "cell_type": "markdown",
   "metadata": {},
   "source": [
    "<font size=\"3\"><b>Let's have a look at the data types of the variables, we have just defined / declared:</b></font>"
   ]
  },
  {
   "cell_type": "code",
   "execution_count": 7,
   "metadata": {},
   "outputs": [
    {
     "name": "stdout",
     "output_type": "stream",
     "text": [
      "var1:\n",
      "<class 'bool'>\n",
      "False\n",
      "var 2:\n",
      "<class 'int'>\n",
      "4\n",
      "var 3:\n",
      "<class 'float'>\n",
      "123.456\n",
      "var 4:\n",
      "<class 'float'>\n",
      "9.1e-31\n",
      "var 5:\n",
      "<class 'str'>\n",
      "Hello world! \n",
      "\n",
      "<class 'str'>\n",
      "Hello world! \\n\n"
     ]
    }
   ],
   "source": [
    "print(\"var1:\")\n",
    "print(type(var1))    # Outputs data type or class of the variable var1\n",
    "print(var1)          # Outputs content of the variable var1\n",
    "\n",
    "print(\"var 2:\")\n",
    "print(type(var2))    # Outputs data type or class of the variable var2\n",
    "print(var2)          # Outputs content of the variable var2\n",
    "\n",
    "print(\"var 3:\")\n",
    "print(type(var3))    # Outputs data type or class of the variable var3\n",
    "print(var3)          # Outputs content of the variable var3\n",
    "\n",
    "print(\"var 4:\")\n",
    "print(type(var4))    # Outputs data type or class of the variable var4\n",
    "print(var4)          # Outputs content of the variable var4\n",
    "\n",
    "print(\"var 5:\")\n",
    "print(type(var5))    # Outputs data type or class of the variable var5\n",
    "print(var5)          # Outputs content of the variable var5, the escape sequence \"\\n\" is replaced by line break\n",
    "print(type(var10))    # Outputs data type or class of the variable var10\n",
    "print(var10)          # Outputs content of the variable var10, the escape sequence \"\\n\" is just printed"
   ]
  },
  {
   "cell_type": "markdown",
   "metadata": {},
   "source": [
    "<font size=\"3\"><b>Here, we already called functions:</b><br> We can see the <b>content</b> and the <b>type</b> of the variables defined above with the functions <i><b>print()</b></i> and <i><b>type()</b></i>.<br> <br>\n",
    "<b>A function call is performed with <i>function_name</i>(<i>argument(s)</i>)</b>. The type of a Python variable is retrieved with the <i>type()</i> function. <b>The content</b> of a Python variable is printed with the <i>print()</i> function.<br><br>\n",
    "<b>You may have noticed, that the data type says of class 'bool', class 'int' etc.</b><b> Variables of basic data types in Python are instances (objects) of built-in classes in Python.</b>"
   ]
  },
  {
   "cell_type": "markdown",
   "metadata": {},
   "source": [
    "<div class=\"alert alert-info\"><font size = \"4\"><b>Background:</b></font><br>\n",
    "<center>\n",
    "<img src=\"img/python_meme_objs.png\" width=\"25%\">\n",
    "</center>\n",
    "<br>\n",
    "<font size=\"3\">\n",
    "In Python, all entities are objects, hence independent instances of an abstract class. Every object can have functions bound to the object, called <i>methods</i>. The methods of an object can be invoked using the dot-operator. </div></font>"
   ]
  },
  {
   "cell_type": "markdown",
   "metadata": {},
   "source": [
    "## Data Type Conversions and mixed-type Arithmetic\n",
    "   \n",
    "<br>\n",
    "<font size=\"3\">\n",
    "<b>As we can see, Python automatically assigned adequate data types to the variables based on the assigned values.</b> Since the interpreter guess is sometimes wrong, it is also possible to explicitly use or convert to a specific data type, if possible:\n",
    "</font>"
   ]
  },
  {
   "cell_type": "code",
   "execution_count": 15,
   "metadata": {},
   "outputs": [
    {
     "name": "stdout",
     "output_type": "stream",
     "text": [
      "var 1:\n",
      "<class 'bool'>\n",
      "False\n",
      "\n",
      "conversion of var 1 (bool) to int:\n",
      "<class 'int'>\n",
      "0\n",
      "\n",
      "var 2:\n",
      "<class 'int'>\n",
      "4\n",
      "\n",
      "conversion of var 2 (int) to float:\n",
      "<class 'float'>\n",
      "4.0\n",
      "\n",
      "conversion of var 10 (float) to string:\n",
      "<class 'str'>\n",
      "4.0\n"
     ]
    }
   ],
   "source": [
    "print(\"var 1:\")\n",
    "print(type(var1))    # Outputs data type or class of the variable var1\n",
    "print(var1)          # Outputs the content of the variable var1\n",
    "print(\"\")\n",
    "\n",
    "print(\"conversion of var 1 (bool) to int:\")\n",
    "var9 = int(var1)     # Converts var1 of type boolean to integer and stores result in variable var9\n",
    "                     # the function int() is the constructor of the class of the built-in integer data type\n",
    "\n",
    "print(type(var9))    # Outputs data type or class of the variable var9\n",
    "print(var9)          # Outputs the content of the variable var9\n",
    "print(\"\")\n",
    "\n",
    "print(\"var 2:\")\n",
    "print(type(var2))    # Outputs data type or class of the variable var2\n",
    "print(var2)          # Outputs content of the variable var2\n",
    "print(\"\")\n",
    "\n",
    "print(\"conversion of var 2 (int) to float:\")\n",
    "var10 = float(var2)  # Converts var2 of type integer to float and stores result in variable var10\n",
    "print(type(var10))   # Outputs data type or class of the variable var10\n",
    "print(var10)         # Outputs content of the variable var10\n",
    "print(\"\")\n",
    "\n",
    "print(\"conversion of var 10 (float) to string:\")\n",
    "var11 = str(var10)   # Converts var10 of type float to string and stores result in variable var11\n",
    "print(type(var11))   # Outputs data type or class of the variable var11\n",
    "print(var11)         # Outputs content of the variable var11"
   ]
  },
  {
   "cell_type": "markdown",
   "metadata": {},
   "source": [
    "<font size=3>In contrast to programming languages with static typing, <b>it is not a problem in Python to mix different data types in arithmetic operations</b>, since integers are then implicitly converted to float:</font>"
   ]
  },
  {
   "cell_type": "code",
   "execution_count": 19,
   "metadata": {
    "scrolled": true
   },
   "outputs": [
    {
     "name": "stdout",
     "output_type": "stream",
     "text": [
      "type of var2:\n",
      "<class 'int'>\n",
      "type of var3:\n",
      "<class 'float'>\n",
      "type of result:\n",
      "<class 'float'>\n",
      "127.456\n"
     ]
    }
   ],
   "source": [
    "print(\"type of var2:\")\n",
    "print(type(var2))\n",
    "print(\"type of var3:\")\n",
    "print(type(var3))\n",
    "\n",
    "print(\"type of result:\")\n",
    "result = var2 + var3   # Adds var2 of type integer to var3 of type float\n",
    "print(type(result))    # Outputs the data type or class of the variable result\n",
    "print(result)          # Outputs "
   ]
  },
  {
   "cell_type": "markdown",
   "metadata": {},
   "source": [
    "<font size=\"3\"><b>In some cases the implicit data type conversion fails</b> and a specific data type is required:</font>"
   ]
  },
  {
   "cell_type": "code",
   "execution_count": 20,
   "metadata": {},
   "outputs": [
    {
     "ename": "TypeError",
     "evalue": "can only concatenate str (not \"int\") to str",
     "output_type": "error",
     "traceback": [
      "\u001b[0;31m---------------------------------------------------------------------------\u001b[0m",
      "\u001b[0;31mTypeError\u001b[0m                                 Traceback (most recent call last)",
      "\u001b[0;32m<ipython-input-20-fa69ebb46120>\u001b[0m in \u001b[0;36m<module>\u001b[0;34m\u001b[0m\n\u001b[0;32m----> 1\u001b[0;31m \u001b[0mresult\u001b[0m \u001b[0;34m=\u001b[0m \u001b[0mvar5\u001b[0m \u001b[0;34m+\u001b[0m \u001b[0mvar2\u001b[0m   \u001b[0;31m# Attempts to add var5 of type string to var2 of type integer\u001b[0m\u001b[0;34m\u001b[0m\u001b[0;34m\u001b[0m\u001b[0m\n\u001b[0m",
      "\u001b[0;31mTypeError\u001b[0m: can only concatenate str (not \"int\") to str"
     ]
    }
   ],
   "source": [
    "result = var5 + var2   # Attempts to add var5 of type string to var2 of type integer"
   ]
  },
  {
   "cell_type": "markdown",
   "metadata": {},
   "source": [
    "<font size=\"3\">Converting var2 (of type integer) to a string solves the problem and the strings are simply concatenated using the addition operator \"+\":</font>"
   ]
  },
  {
   "cell_type": "code",
   "execution_count": 21,
   "metadata": {},
   "outputs": [
    {
     "name": "stdout",
     "output_type": "stream",
     "text": [
      "<class 'str'>\n",
      "Hello world! \n",
      "4\n"
     ]
    }
   ],
   "source": [
    "result = var5 + str(var2) # Concatenates the string var5 with the string representation of var2\n",
    "print(type(result))       # Outputs data type or class of the variable result\n",
    "print(result)             # Outputs content of the variable result"
   ]
  },
  {
   "cell_type": "markdown",
   "metadata": {},
   "source": [
    "<font size=\"3\">\n",
    "Another example for number to string conversion:\n",
    "</font>"
   ]
  },
  {
   "cell_type": "code",
   "execution_count": 23,
   "metadata": {},
   "outputs": [
    {
     "name": "stdout",
     "output_type": "stream",
     "text": [
      "<class 'str'>\n",
      "<class 'float'>\n"
     ]
    },
    {
     "data": {
      "text/plain": [
       "246.246"
      ]
     },
     "execution_count": 23,
     "metadata": {},
     "output_type": "execute_result"
    }
   ],
   "source": [
    "var11 = \"123.123\"\n",
    "print(type(var11))\n",
    "var11 = float(var11)\n",
    "print(type(var11))\n",
    "var11 + var11"
   ]
  },
  {
   "cell_type": "markdown",
   "metadata": {},
   "source": [
    "<div class=\"alert alert-info\"><font size=\"3\"><b>Takeaways:<br>\n",
    "    <ul><li>Single-line or in-line comments in Python begin with the number sign character \"#\".</li>\n",
    "        <li>No semicolons are required to end a statement.</li>\n",
    "        <li>No data type needs to be explicitly declared to define a variable, but the interpreter then guesses the appropriate data type.</li>\n",
    "        <li>Everything is an object of a class in Python.</li>\n",
    "        <li>All variables are (references) to objects in Python. Also the basic data types are instances of built-in classes.</li>\n",
    "        <li>Variables can be converted to another data type by calling their constructors e.g. bool(), float(), int() or str().</li>\n",
    "    </ul>\n",
    "    </b></font></div>"
   ]
  },
  {
   "cell_type": "markdown",
   "metadata": {},
   "source": [
    "# Python's built-in Datatypes\n",
    "<br>\n",
    "<font size=\"3\">\n",
    "Besides the universal data types Boolean, Integer, Float and String which can be found in most programming languages, Python offers a variety of Python specific data types (or data type classes). \n",
    "Among those <b>Tuples</b>, <b>Lists</b> and <b>Dictionaries</b> are the most frequent ones used in Python.\n",
    "<br><br>\n",
    "\n",
    "## Tuples\n",
    "<br>\n",
    "<font size=\"3\">\n",
    "    A tuple in Python represents an <b>immutable list</b> (with fixed length) of objects or elements of variable data types e.g. Bool, Integer, Float, String or an arbitrary object of an user-defined class. Tuples are also <b>ordered</b>, hence two tuples containing the same elements, but in different order, are not considered equal.<br><br>\n",
    "    \n",
    "**A tuple is initialized using round brackets.**\n",
    "    \n",
    "<br>\n",
    "    \n",
    "### Example:\n",
    "</font>"
   ]
  },
  {
   "cell_type": "code",
   "execution_count": 1,
   "metadata": {},
   "outputs": [
    {
     "name": "stdout",
     "output_type": "stream",
     "text": [
      "t1 is of <class 'tuple'>\n",
      "t1 contains (1, 2, 3)\n",
      "t2 is of<class 'tuple'>\n",
      "t2 contains (4, 5, 6)\n",
      "Is t3 == t1 ?\n",
      "True\n",
      "Is t4 == t1 ?\n",
      "False\n"
     ]
    }
   ],
   "source": [
    "# a Python tuple is initialized with ROUND brackets\n",
    "t1 = (1,2,3,)\n",
    "print(\"t1 is of \" + str(type(t1)))  # Outputs the variable data type or object class\n",
    "print(\"t1 contains \" + str(t1))     # Outputs the content of the variable\n",
    "\n",
    "# or using the so-called constructor, a special function creating an object instance (instanciation) of a class\n",
    "t2 = tuple((4,5,6))\n",
    "print(\"t2 is of\" + str(type(t2)))  # Outputs the variable data type or object class\n",
    "print(\"t2 contains \" + str(t2))    # Outputs the content of the variable\n",
    "\n",
    "t3 = t1                            # Assign copy* of t1 to t3\n",
    "t4 = (3,1,2,)                      # defines new tuple t4\n",
    "\n",
    "result = t3 == t1                  # Compare the tuples t1 and t3 store result in variable \"result\"\n",
    "print(\"Is t3 == t1 ?\")\n",
    "print(result)                      # Output the result of the comparison\n",
    "\n",
    "result2 = t4 == t1                  # Compare the tuples t1 and t4 store result in variable \"result\"\n",
    "print(\"Is t4 == t1 ?\")\n",
    "print(result2)                      # Output the result of the comparison"
   ]
  },
  {
   "cell_type": "markdown",
   "metadata": {},
   "source": [
    "<font size=\"3\">A very useful function is <b><i>len()</i></b> giving the length of a tuple, list or string:</font>"
   ]
  },
  {
   "cell_type": "code",
   "execution_count": 25,
   "metadata": {
    "scrolled": true
   },
   "outputs": [
    {
     "name": "stdout",
     "output_type": "stream",
     "text": [
      "Length of t3:\n",
      "3\n",
      "Length of t4:\n",
      "0\n",
      "Length of s1:\n",
      "12\n"
     ]
    }
   ],
   "source": [
    "t3 = (\"foo\",\"bar\",5,)  # Defines a tuple t3\n",
    "print(\"Length of t3:\") \n",
    "print(len(t3))         # Outputs the length of the tuple t3\n",
    "\n",
    "t4 = ()\n",
    "print(\"Length of t4:\") \n",
    "print(len(t4))         # Outputs the length of the tuple t4\n",
    "\n",
    "s1 = \"Hello world!\"\n",
    "print(\"Length of s1:\") \n",
    "print(len(s1))         # Outputs the length of the string s1"
   ]
  },
  {
   "cell_type": "markdown",
   "metadata": {},
   "source": [
    "## Addressing Tuple Elements\n",
    "<br>\n",
    "<font size=\"3\">\n",
    "    The individual <b>elements</b> in a Python Tuple <b>are adressed with an integer index starting from zero.</b> A negative integer can be used to address the tuple elements in reversed order where an index of -1 yields the last element in the tuple. The figure illustrates the element indexing:\n",
    "</font>\n",
    "<br>\n",
    "<br>\n",
    "<div align=\"center\">\n",
    "<img src=\"img/python_list_tuple_negindex.png\" width=\"66%\">\n",
    "</div>\n",
    "<br>\n",
    "<br>\n",
    "<font size=\"2\"><i>Source: <a href=\"https://www.pybloggers.com/2018/07/lists-and-tuples-in-python/\">https://www.pybloggers.com/2018/07/lists-and-tuples-in-python/</a></i></font>\n",
    "<br><br>\n",
    "\n",
    "<font size=\"3\">\n",
    "    <b>Square brackets</b> around the integer index following the tuple's variable name are used <b>to select a specific element of the tuple</b>: \n",
    "</font>\n",
    "<br>\n",
    "\n",
    "### Example:"
   ]
  },
  {
   "cell_type": "code",
   "execution_count": 27,
   "metadata": {},
   "outputs": [
    {
     "name": "stdout",
     "output_type": "stream",
     "text": [
      "Element with index 0 in t3:\n",
      "7\n",
      "Last element in t3:\n",
      "42\n"
     ]
    }
   ],
   "source": [
    "t3 = (7, \"orange\", 3.141, \"bread\", \"leite\", 42)    # Assigns tuple containing elements of various data types\n",
    "\n",
    "print(\"Element with index 0 in t3:\")\n",
    "print(t3[0])  # An index of 0 yields the first element of the tuple\n",
    "print(\"Last element in t3:\")\n",
    "print(t3[-1]) # An index of -1 yields the last element of the tuple"
   ]
  },
  {
   "cell_type": "markdown",
   "metadata": {},
   "source": [
    "<font size=\"3\">\n",
    "You can simply query with the \"in\"-operator (which returns a boolean) if a certain element is at least contained once in the tuple:\n",
    "</font>"
   ]
  },
  {
   "cell_type": "code",
   "execution_count": 28,
   "metadata": {},
   "outputs": [
    {
     "name": "stdout",
     "output_type": "stream",
     "text": [
      "Is \"orange\" in t3?\n",
      "True\n",
      "Is \"paprika\" in t3?\n",
      "False\n"
     ]
    }
   ],
   "source": [
    "t3 = (7, \"orange\", 3.141, \"bread\", \"leite\", 42)    # Assigns tuple containing elements of various data types\n",
    "\n",
    "result = \"orange\" in t3   # in-operator checks if element is contained in tuple or list\n",
    "print(\"Is \\\"orange\\\" in t3?\")\n",
    "print(result)\n",
    "\n",
    "result2 = \"paprika\" in t3\n",
    "print(\"Is \\\"paprika\\\" in t3?\")\n",
    "print(result2)"
   ]
  },
  {
   "cell_type": "markdown",
   "metadata": {},
   "source": [
    "<font size=\"3\">If you attempt to access a tuple element with an invalid index e.g. <br>\n",
    "<ul>\n",
    "    <li><b>the index is bigger than len(tuple) - 1<b></li>\n",
    "        <li><b>the index is of the wrong data type</b></li>\n",
    "</ul>\n",
    "an error ocurrs:\n",
    "</font>"
   ]
  },
  {
   "cell_type": "code",
   "execution_count": 29,
   "metadata": {},
   "outputs": [
    {
     "name": "stdout",
     "output_type": "stream",
     "text": [
      "Length of t3:\n",
      "6\n",
      "Element with index 6:\n"
     ]
    },
    {
     "ename": "IndexError",
     "evalue": "tuple index out of range",
     "output_type": "error",
     "traceback": [
      "\u001b[0;31m---------------------------------------------------------------------------\u001b[0m",
      "\u001b[0;31mIndexError\u001b[0m                                Traceback (most recent call last)",
      "\u001b[0;32m<ipython-input-29-ab40daf20179>\u001b[0m in \u001b[0;36m<module>\u001b[0;34m\u001b[0m\n\u001b[1;32m      5\u001b[0m \u001b[0;34m\u001b[0m\u001b[0m\n\u001b[1;32m      6\u001b[0m \u001b[0mprint\u001b[0m\u001b[0;34m(\u001b[0m\u001b[0;34m\"Element with index 6:\"\u001b[0m\u001b[0;34m)\u001b[0m\u001b[0;34m\u001b[0m\u001b[0;34m\u001b[0m\u001b[0m\n\u001b[0;32m----> 7\u001b[0;31m \u001b[0mprint\u001b[0m\u001b[0;34m(\u001b[0m\u001b[0mt3\u001b[0m\u001b[0;34m[\u001b[0m\u001b[0;36m6\u001b[0m\u001b[0;34m]\u001b[0m\u001b[0;34m)\u001b[0m                       \u001b[0;31m# Attempting to access tuple element with invalid index (index out of range)\u001b[0m\u001b[0;34m\u001b[0m\u001b[0;34m\u001b[0m\u001b[0m\n\u001b[0m",
      "\u001b[0;31mIndexError\u001b[0m: tuple index out of range"
     ]
    }
   ],
   "source": [
    "t3 = (7, \"orange\", 3.141, \"bread\", \"leite\", 42) \n",
    "\n",
    "print(\"Length of t3:\")\n",
    "print(len(t3))\n",
    "\n",
    "print(\"Element with index 6:\")\n",
    "print(t3[6])                       # Attempting to access tuple element with invalid index (index out of range)"
   ]
  },
  {
   "cell_type": "markdown",
   "metadata": {},
   "source": [
    "<font size=\"3\">\n",
    "When you attempt to modify an element of the tuple, an exception is thrown, since the tuple is <b>immutable</b>:\n",
    "</font>"
   ]
  },
  {
   "cell_type": "code",
   "execution_count": 30,
   "metadata": {},
   "outputs": [
    {
     "ename": "TypeError",
     "evalue": "'tuple' object does not support item assignment",
     "output_type": "error",
     "traceback": [
      "\u001b[0;31m---------------------------------------------------------------------------\u001b[0m",
      "\u001b[0;31mTypeError\u001b[0m                                 Traceback (most recent call last)",
      "\u001b[0;32m<ipython-input-30-47c268e15b4b>\u001b[0m in \u001b[0;36m<module>\u001b[0;34m\u001b[0m\n\u001b[1;32m      1\u001b[0m \u001b[0mt3\u001b[0m \u001b[0;34m=\u001b[0m \u001b[0;34m(\u001b[0m\u001b[0;36m7\u001b[0m\u001b[0;34m,\u001b[0m \u001b[0;34m\"orange\"\u001b[0m\u001b[0;34m,\u001b[0m \u001b[0;36m3.141\u001b[0m\u001b[0;34m,\u001b[0m \u001b[0;34m\"bread\"\u001b[0m\u001b[0;34m,\u001b[0m \u001b[0;34m\"leite\"\u001b[0m\u001b[0;34m,\u001b[0m \u001b[0;36m42\u001b[0m\u001b[0;34m)\u001b[0m\u001b[0;34m\u001b[0m\u001b[0;34m\u001b[0m\u001b[0m\n\u001b[1;32m      2\u001b[0m \u001b[0;34m\u001b[0m\u001b[0m\n\u001b[0;32m----> 3\u001b[0;31m \u001b[0mt3\u001b[0m\u001b[0;34m[\u001b[0m\u001b[0;36m1\u001b[0m\u001b[0;34m]\u001b[0m \u001b[0;34m=\u001b[0m \u001b[0;34m\"apple\"\u001b[0m\u001b[0;34m\u001b[0m\u001b[0;34m\u001b[0m\u001b[0m\n\u001b[0m",
      "\u001b[0;31mTypeError\u001b[0m: 'tuple' object does not support item assignment"
     ]
    }
   ],
   "source": [
    "t3 = (7, \"orange\", 3.141, \"bread\", \"leite\", 42) \n",
    "\n",
    "t3[1] = \"apple\""
   ]
  },
  {
   "cell_type": "markdown",
   "metadata": {},
   "source": [
    "## Addressing Subsets with Slices\n",
    "\n",
    "<br>\n",
    "<font size = \"3\">\n",
    "    <b>Subsets (called slices in Python)</b> of tuples can be selected using the <font size=\"4\"><b>slice notation</b></font> of Python:\n",
    "</font>\n",
    "<br><br>\n",
    "<center>\n",
    "<img src=\"img/python_slice.png\" width=\"75%\">\n",
    "</center>\n",
    "<br>\n",
    "<font size=\"2\">\n",
    "<i>Source: <a href=\"https://railsware.com/blog/python-for-machine-learning-indexing-and-slicing-for-lists-tuples-strings-and-other-sequential-types/\">https://railsware.com/blog/python-for-machine-learning-indexing-and-slicing-for-lists-tuples-strings-and-other-sequential-types/</a> </i>\n",
    "</font>\n",
    "<br>\n",
    "<font size=\"3\">\n",
    "Be var e.g. a Python tuple or list, then <br>\n",
    "<ul>\n",
    "<li><b>var[start:stop] yields the elements with indices >=start (including start) to < stop (excluding stop)<br></li>\n",
    "<li>var[start:stop:n] yields every n-th element with indices >=start (including start) to < stop (excluding stop)<br></li>\n",
    "<li>var[::-1] yields the elements in reversed order</b></li>\n",
    "</ul>\n",
    "</font>\n",
    "<br>\n",
    "\n",
    "### Example:"
   ]
  },
  {
   "cell_type": "code",
   "execution_count": 31,
   "metadata": {},
   "outputs": [
    {
     "name": "stdout",
     "output_type": "stream",
     "text": [
      "Slice 1:\n",
      "(3.141, 'apple')\n",
      "Slice 2:\n",
      "(3.141, 'apple')\n",
      "Slice 3:\n",
      "(1, 6.626e+23)\n",
      "Slice 4:\n",
      "(6.626e+23, 1, 0, 'milk', 'apple', 3.141)\n",
      "Slice 5:\n",
      "(3.141, 'milk', 1)\n"
     ]
    }
   ],
   "source": [
    "t4 = (3.141, \"apple\", \"milk\", 0, 1, 6.626E23)\n",
    "\n",
    "print(\"Slice 1:\")\n",
    "print(t4[:2])   # yields the slice up to (but not including!) element with index 2\n",
    "\n",
    "print(\"Slice 2:\")\n",
    "print(t4[0:2])  # equivalent to the expression above\n",
    "\n",
    "print(\"Slice 3:\")\n",
    "print(t4[-2:])  # yields the last two elements of the tuple (the first element of the slice has index -2)\n",
    "\n",
    "print(\"Slice 4:\")\n",
    "print(t4[::-1]) # yields every element of the tuple, but in reversed order\n",
    "\n",
    "print(\"Slice 5:\")\n",
    "print(t4[::2])  # yields every 2nd element of the tuple in normal order"
   ]
  },
  {
   "cell_type": "markdown",
   "metadata": {},
   "source": [
    "## Lists\n",
    "<br>\n",
    "\n",
    "<font size=\"3\">\n",
    "    A list in Python behaves similar to the tuple, but it is <b>mutable</b> and <b>dynamic</b>, hence its length and elements can be both changed.<br> Like tuples, lists are also <b>ordered</b>, hence two lists containing the same elements, but in different order, are not considered equal.<br> <b>Slicing</b> works the same way for lists as it does for tuples in Python.\n",
    "<br><br>\n",
    "    <b>A list is initialized using square brackets.</b>\n",
    "</font>\n",
    "\n",
    "### Example:"
   ]
  },
  {
   "cell_type": "code",
   "execution_count": 35,
   "metadata": {},
   "outputs": [
    {
     "name": "stdout",
     "output_type": "stream",
     "text": [
      "['Greifswald', 'Berlin', 'Hamburg', 'Hannover']\n",
      "Is cities == cities2?\n",
      "True\n",
      "Is cities == cities3?\n",
      "False\n"
     ]
    }
   ],
   "source": [
    "cities = ['Greifswald', 'Berlin', 'Hamburg', 'Hannover']   # Definition of a list\n",
    "print(cities)                                              # Output the list\n",
    "cities2 = cities                                           # Assign cities to cities2\n",
    "cities3 = ['Hannover', 'Greifswald', 'Berlin', 'Hamburg']  # Define cities3 as permutation of cities\n",
    "\n",
    "result = cities == cities2                                 # Compare the lists cities and cities2\n",
    "print(\"Is cities == cities2?\")\n",
    "print(result)                                              # Output the result of the comparison\n",
    "\n",
    "result2 = cities == cities3                                # Compare the lists cities and cities3\n",
    "print(\"Is cities == cities3?\")\n",
    "print(result2)                                             # Output the result of the comparison"
   ]
  },
  {
   "cell_type": "markdown",
   "metadata": {},
   "source": [
    "<font size=\"3\">The list content and its length can be easily modified using the assigment via index and the <b>list methods:</b> <b><i>pop()</i></b>, <b><i>append()</i></b> and <b><i>extend()</i></b>. <br>\n",
    "<ul>\n",
    "    <li>The list method <b><i>pop(n)</b></i> removes the n-th element from the list.</li>\n",
    "    <li>The list method <b><i>append(elem)</b></i> adds the element elem to the list.</li>\n",
    "    <li>The list method <b><i>extend(list)</b></i> extends the list with the content of another list.</li>\n",
    "    <li>The list method <b><i>index(elem)</b></i> yields the integer index of the element in the list, if present. <b>Otherwise the list method yields -1.</b></li>\n",
    "</ul>\n",
    "    <b>A method is a function bound to a specific object and acts on the object itself.</b><br>\n",
    "    <b>A method of the list or any object in Python in general is invoked via the \".\" / dot-operator.</b>\n",
    "</font>\n",
    "\n",
    "### Examples:"
   ]
  },
  {
   "cell_type": "code",
   "execution_count": 36,
   "metadata": {},
   "outputs": [
    {
     "name": "stdout",
     "output_type": "stream",
     "text": [
      "['Greifswald', 'Hamburg', 'Hannover']\n"
     ]
    }
   ],
   "source": [
    "# Definition of a list\n",
    "cities = ['Greifswald', 'Berlin', 'Hamburg', 'Hannover']   \n",
    "\n",
    "# Remove element with index 1 from list by invoking the pop() method\n",
    "cities.pop(1)                                              \n",
    "\n",
    "# Output modified list with one element removed\n",
    "print(cities)         "
   ]
  },
  {
   "cell_type": "markdown",
   "metadata": {},
   "source": [
    "<font size=\"3\">\n",
    "    In this case, the method <i>pop()</i> acted on the list \"cities\" itself. The result, the modified list, is accessible using the same variable name and no explicit assignment of the method's result is required. <br><br>\n",
    "    <b>What happened here?</b><br>\n",
    "    cities refers to a List object and we invoked its method pop which acts <b><i>in-place</i></b> on the object itself.\n",
    "<br>\n",
    "<br>\n",
    "<b>An element of the list can be easily modified via the assignment of a new element:</b>\n",
    "</font>"
   ]
  },
  {
   "cell_type": "code",
   "execution_count": 39,
   "metadata": {},
   "outputs": [
    {
     "name": "stdout",
     "output_type": "stream",
     "text": [
      "['Rostock', 'Berlin', 'Hamburg', 'Hanover']\n"
     ]
    }
   ],
   "source": [
    "cities = ['Greifswald', 'Berlin', 'Hamburg', 'Hanover']    # Definition of a list\n",
    "cities[0] = \"Rostock\"                                       # Modification of an element\n",
    "print(cities)"
   ]
  },
  {
   "cell_type": "markdown",
   "metadata": {},
   "source": [
    "<font size=\"3\"><b>You can query the index of a list element, if it is present in the list:</b></font>"
   ]
  },
  {
   "cell_type": "code",
   "execution_count": 40,
   "metadata": {},
   "outputs": [
    {
     "name": "stdout",
     "output_type": "stream",
     "text": [
      "0\n"
     ]
    },
    {
     "ename": "ValueError",
     "evalue": "'Munich' is not in list",
     "output_type": "error",
     "traceback": [
      "\u001b[0;31m---------------------------------------------------------------------------\u001b[0m",
      "\u001b[0;31mValueError\u001b[0m                                Traceback (most recent call last)",
      "\u001b[0;32m<ipython-input-40-9cfecfb708e6>\u001b[0m in \u001b[0;36m<module>\u001b[0;34m\u001b[0m\n\u001b[1;32m      3\u001b[0m \u001b[0;31m# attempt to query an element which is not present in the list\u001b[0m\u001b[0;34m\u001b[0m\u001b[0;34m\u001b[0m\u001b[0;34m\u001b[0m\u001b[0m\n\u001b[1;32m      4\u001b[0m \u001b[0;31m# leads to a ValueError exception\u001b[0m\u001b[0;34m\u001b[0m\u001b[0;34m\u001b[0m\u001b[0;34m\u001b[0m\u001b[0m\n\u001b[0;32m----> 5\u001b[0;31m \u001b[0mprint\u001b[0m\u001b[0;34m(\u001b[0m\u001b[0mcities\u001b[0m\u001b[0;34m.\u001b[0m\u001b[0mindex\u001b[0m\u001b[0;34m(\u001b[0m\u001b[0;34m\"Munich\"\u001b[0m\u001b[0;34m)\u001b[0m\u001b[0;34m)\u001b[0m\u001b[0;34m\u001b[0m\u001b[0;34m\u001b[0m\u001b[0m\n\u001b[0m",
      "\u001b[0;31mValueError\u001b[0m: 'Munich' is not in list"
     ]
    }
   ],
   "source": [
    "# query an element which is present in the list\n",
    "print(cities.index(\"Rostock\"))\n",
    "# attempt to query an element which is not present in the list\n",
    "# leads to a ValueError exception\n",
    "print(cities.index(\"Munich\"))"
   ]
  },
  {
   "cell_type": "markdown",
   "metadata": {},
   "source": [
    "<font size=\"3\"><b>A list can be extended or concatenated:</b></font>"
   ]
  },
  {
   "cell_type": "code",
   "execution_count": 41,
   "metadata": {},
   "outputs": [
    {
     "name": "stdout",
     "output_type": "stream",
     "text": [
      "Extended list:\n",
      "['Greifswald', 'Berlin', 'Hamburg', 'Hanover', 'Paris', 'New York', 'Moscow', 'Tokyo', 'Sao Paolo']\n",
      "['Greifswald', 'Berlin', 'Hamburg', 'Hanover', 'Paris', 'New York', 'Moscow', 'Tokyo', 'Sao Paolo', ['Paris', 'New York', 'Moscow', 'Tokyo', 'Sao Paolo']]\n"
     ]
    }
   ],
   "source": [
    "cities  = ['Greifswald', 'Berlin', 'Hamburg', 'Hanover']         # Definition of a list\n",
    "cities2 = ['Paris', \"New York\", \"Moscow\", \"Tokyo\", \"Sao Paolo\"]   # Definition of another list\n",
    "# extends the list cities with the elements in list cities2\n",
    "cities.extend(cities2)\n",
    "\n",
    "print(\"Extended list:\")\n",
    "print(cities)\n",
    "\n",
    "# appends an element to the list cities\n",
    "cities.append(cities2)\n",
    "print(cities)"
   ]
  },
  {
   "cell_type": "markdown",
   "metadata": {},
   "source": [
    "<div class=\"alert alert-warning\"><font size = \"4\"><b>Warning:</b></font><font size=\"3\"> Note that assigning a variable to another variable does not (always) mean that an independent copy (of the object) is created, but it can be a mere reference to the original object!</div></font>\n",
    "<br>\n",
    "<font size=\"3\">\n",
    "    <b>This circumstance is illustrated with the following example using lists:</b>\n",
    "</font>"
   ]
  },
  {
   "cell_type": "code",
   "execution_count": 42,
   "metadata": {},
   "outputs": [
    {
     "name": "stdout",
     "output_type": "stream",
     "text": [
      "cities = ['Greifswald', 'Berlin', 'Hamburg', 'Hanover', 'Paris', 'New York', 'Moscow', 'Tokyo', 'Sao Paolo']\n",
      "\n",
      "Shallow copy of / reference to cities:\n",
      "cities2 = ['Greifswald', 'Berlin', 'Hamburg', 'Hanover', 'Paris', 'New York', 'Moscow', 'Tokyo', 'Sao Paolo']\n",
      "\n",
      "Real (deep) copy:\n",
      "cities4 = ['Greifswald', 'Berlin', 'Hamburg', 'Hanover']\n"
     ]
    }
   ],
   "source": [
    "import copy                                                       # Imports the module copy: includes more functions\n",
    "\n",
    "cities  = ['Greifswald', 'Berlin', 'Hamburg', 'Hanover']         # Definition of a list\n",
    "cities2 = cities                                                  # cities2 falsely assumed to be a copy of cities\n",
    "\n",
    "# Real copy of cities assigned to cities4\n",
    "cities4 = copy.deepcopy(cities)                                   \n",
    "# alternatively, we can just create / instantiate a new list object to have an independent copy\n",
    "cities5 = list(cities)                                            \n",
    "\n",
    "cities3 = ['Paris', \"New York\", \"Moscow\", \"Tokyo\", \"Sao Paolo\"]   # Definition of another list\n",
    "cities.extend(cities3)                                            # Extend list cities with list cities3\n",
    "\n",
    "print(\"cities = \" + str(cities)+\"\\n\")\n",
    "\n",
    "print(\"Shallow copy of / reference to cities:\")\n",
    "print(\"cities2 = \" + str(cities2)+\"\\n\")\n",
    "\n",
    "print(\"Real (deep) copy:\")\n",
    "print(\"cities4 = \" + str(cities4))"
   ]
  },
  {
   "cell_type": "markdown",
   "metadata": {},
   "source": [
    "<font size=\"3\">\n",
    "    Although the list method <b><i>extend()</i></b> was invoked on <i>cities</i>, both, <i>cities</i> and <i>cities2</i> have the same content in the end.<br>\n",
    "<b>That's because <i>cities2</i> is not a full, but just a shallow copy / reference to the original object <i>cities</i>!</b><br><br>\n",
    "    <b>So beware of this pitfall in your future Python programming career!</b>\n",
    "</font>"
   ]
  },
  {
   "cell_type": "markdown",
   "metadata": {},
   "source": [
    "<div class=\"alert alert-block alert-info\">\n",
    "    <font size=\"3\"><b>Takeaways:</b><br>\n",
    "<ul>\n",
    "    <li> <b>A list is initialized using square brackets [].</b></li>\n",
    "    <li><b>List elements are addressed with an integer index starting from zero.</b></li>\n",
    "    <li><b>List subsets are addressed using the slice notation [start:stop:step].</b></li>\n",
    "    <li><b>Elements are added to a list with the <i>append()</i> method, mutiple elements are added to the list with the <i>extend()</i> method.</b></li>\n",
    "    </ul>\n",
    "</font>\n",
    "</div>"
   ]
  },
  {
   "cell_type": "markdown",
   "metadata": {},
   "source": [
    "## Dictionaries\n",
    "<br>\n",
    "<font size=\"3\">\n",
    "    A dictionary in Python is a so-called <b>associative array</b> or <b>key-value mapping</b>. In contrast to the list data type in Python, <b>the dictionary</b> can have either a numerical index or <b>a set of unique strings</b>, called <b><i>keys</i></b> here, <b>to address its elements</b>. <b>The C++ equivalent to a dictionary in Python would the std::map or std::unordered_map data type.</b> This circumstance is illustrated below:\n",
    "</font>\n",
    "<br><br>\n",
    "<center>\n",
    "<img src=\"img/python_dicts2.png\" width=\"50%\">\n",
    "</center>\n",
    "<font size=\"2\"><i>Source: <a href=\"https://www.faceprep.in/python/python-nested-dictionaries/\">https://www.faceprep.in/python/python-nested-dictionaries/</a></i></font>\n",
    "<br>\n",
    "<br>\n",
    "<font size=\"3\">Each element of the dictionary has its own, unique key. Like tuples or lists, <b>dictionaries are mutable and dynamic</b>, hence their elements and the size of the dictionary are changeable during runtime. Of course, dictionaries can be also arbitrarily nested.<br>\n",
    "</font>"
   ]
  },
  {
   "cell_type": "markdown",
   "metadata": {},
   "source": [
    "<div class=\"alert alert-block alert-info\">\n",
    "    <font size=\"3\"><b>Takeaways:</b><br>\n",
    "<ul>\n",
    "    <li> <b>A dictionary is initialized using braces {}, following the convention {key : value, key2 : value2, ...} or using the dict constructor dict(key = value, key2 = value2, ...).</b></li>\n",
    "    <li><b>Dictionary elements are addressed with unique keys (strings).</b></li>\n",
    "    <li><b>Multiple existing keys can be updated (effectively replaced) using the dict method <i>update()</i>.</b></li>\n",
    "    <li><b>Keys can be deleted using the dict method <i>pop()</i> or the builtin function <i>del</i>.</b></li>\n",
    "    <li><b>The dictionary can be deep copied using the dict method <i>copy()</i>.</b></li>\n",
    "    <li><b>The dict method <i>keys()</i> yields a list of the dictionary keys.</b></li>\n",
    "    </ul>\n",
    "</font>\n",
    "</div>"
   ]
  },
  {
   "cell_type": "markdown",
   "metadata": {},
   "source": [
    "### Example:"
   ]
  },
  {
   "cell_type": "code",
   "execution_count": 43,
   "metadata": {},
   "outputs": [
    {
     "name": "stdout",
     "output_type": "stream",
     "text": [
      "The content of the dictionary shoppping_list:\n",
      "{'vegetables': ['paprikas', 'carrots'], 'fruits': ['apples', 'bananas', 'cherries'], 'diary': ['milk', 'butter', 'yoghurt']}\n",
      "\n",
      "\n",
      "Changed dict:\n",
      "{'vegetables': ['paprikas', 'carrots', 'celery'], 'fruits': ['maracuja', 'papaya']}\n",
      "Dictionary keys:\n",
      "<class 'dict_keys'>\n",
      "dict_keys(['vegetables', 'fruits'])\n",
      "['vegetables', 'fruits']\n"
     ]
    }
   ],
   "source": [
    "vegetables_list = [\"paprikas\", \"carrots\"]\n",
    "fruits_list     = [\"apples\", \"bananas\", \"cherries\"]\n",
    "diary_list      = [\"milk\", \"butter\", \"yoghurt\"]\n",
    "\n",
    "# Definition of the dictionary\n",
    "shopping_list = {'vegetables' : vegetables_list, 'fruits' : fruits_list, 'diary' : diary_list}\n",
    "\n",
    "# Output original dictionary\n",
    "print(\"The content of the dictionary shoppping_list:\")\n",
    "print(shopping_list)\n",
    "print(\"\\n\")\n",
    "\n",
    "# Adds a new item to the vegetable list\n",
    "shopping_list[\"vegetables\"].append(\"celery\")\n",
    "\n",
    "# Removes item\n",
    "shopping_list.pop(\"diary\")     #or alternatively to delete single element: del shopping_list[\"diary\"]\n",
    "\n",
    "# Updates entry for key \"fruits\"\n",
    "shopping_list.update({\"fruits\" : [\"maracuja\", \"papaya\"]}) #or alternatively: shopping_list[\"fruits\"] = [\"maracuja\", \"papaya\"]\n",
    "\n",
    "# Output changed dictionary\n",
    "print(\"Changed dict:\")\n",
    "print(shopping_list)\n",
    "\n",
    "# Output dict keys\n",
    "print(\"Dictionary keys:\")\n",
    "# Note that the method keys() yields a dict_keys object, but can be treated as list\n",
    "print(type(shopping_list.keys()))   \n",
    "print(shopping_list.keys())\n",
    "print(list(shopping_list.keys()))"
   ]
  },
  {
   "cell_type": "markdown",
   "metadata": {},
   "source": [
    "<font size=\"3\"><div class=\"alert alert-block alert-success\"><b>Exercise:</b> <br> Define a data structure to store the information of the following table:<br>\n",
    "    \n",
    "| Name | Surname | Age |\n",
    "| ---- | ------- | --- |\n",
    "| Rosalind | Franklin | 100 |\n",
    "| Jane | Doe     | 41  |\n",
    "| John | Doe     | 44  |\n",
    "| Albert | Einstein | 141 |\n",
    "| Marie | Curie | 153 |\n",
    "\n",
    "</div>\n",
    "    \n",
    "\n",
    " \n",
    "<b>Try it yourself:</b></font>"
   ]
  },
  {
   "cell_type": "code",
   "execution_count": null,
   "metadata": {},
   "outputs": [],
   "source": []
  },
  {
   "cell_type": "markdown",
   "metadata": {},
   "source": [
    "### Example Solution 1 (column-wise):"
   ]
  },
  {
   "cell_type": "code",
   "execution_count": 44,
   "metadata": {},
   "outputs": [
    {
     "name": "stdout",
     "output_type": "stream",
     "text": [
      "{'Name': ['Rosalind', 'Jane', 'John', 'Albert', 'Marie'], 'Surname': ['Franklin', 'Doe', 'Doe', 'Einstein', 'Curie'], 'Age': [100, 41, 44, 141, 153]}\n"
     ]
    }
   ],
   "source": [
    "table = {\"Name\" : [\"Rosalind\", \"Jane\", \"John\", \"Albert\", \"Marie\"], \n",
    "         \"Surname\" : [\"Franklin\", \"Doe\", \"Doe\", \"Einstein\", \"Curie\"],\n",
    "         \"Age\" : [100, 41, 44, 141, 153]}\n",
    "print(table)"
   ]
  },
  {
   "cell_type": "markdown",
   "metadata": {},
   "source": [
    "### Example Solution 2 (row-wise):"
   ]
  },
  {
   "cell_type": "code",
   "execution_count": 45,
   "metadata": {},
   "outputs": [
    {
     "name": "stdout",
     "output_type": "stream",
     "text": [
      "[{'Name': 'Rosalind', 'Surname': 'Franklin', 'Age': 100}, {'Name': 'Jane', 'Surname': 'Doe', 'Age': 41}, {'Name': 'John', 'Surname': 'Doe', 'Age': 41}, {'Name': 'Albert', 'Surname': 'Einstein', 'Age': 141}, {'Name': 'Marie', 'Surname': 'Curie', 'Age': 153}]\n"
     ]
    }
   ],
   "source": [
    "table = []\n",
    "table.append({\"Name\" : \"Rosalind\", \"Surname\" : \"Franklin\", \"Age\" : 100})\n",
    "table.append({\"Name\" : \"Jane\", \"Surname\" : \"Doe\", \"Age\" : 41})\n",
    "table.append({\"Name\" : \"John\", \"Surname\" : \"Doe\", \"Age\" : 41})\n",
    "table.append({\"Name\" : \"Albert\", \"Surname\" : \"Einstein\", \"Age\" : 141})\n",
    "table.append({\"Name\" : \"Marie\", \"Surname\" : \"Curie\", \"Age\" : 153})\n",
    "print(table)"
   ]
  },
  {
   "cell_type": "markdown",
   "metadata": {},
   "source": [
    "<div class=\"alert alert-info\"><font size = \"3\"><b>Info:</b></font><font size=\"3\"> There are more elegant and efficient solutions to handle data in tables, e.g. named arrays in the package numpy or even better DataFrames in the popular package pandas.</div></font>\n"
   ]
  },
  {
   "cell_type": "markdown",
   "metadata": {},
   "source": [
    "### Example Solution (using pandas):"
   ]
  },
  {
   "cell_type": "code",
   "execution_count": 47,
   "metadata": {},
   "outputs": [
    {
     "data": {
      "text/html": [
       "<div>\n",
       "<style scoped>\n",
       "    .dataframe tbody tr th:only-of-type {\n",
       "        vertical-align: middle;\n",
       "    }\n",
       "\n",
       "    .dataframe tbody tr th {\n",
       "        vertical-align: top;\n",
       "    }\n",
       "\n",
       "    .dataframe thead th {\n",
       "        text-align: right;\n",
       "    }\n",
       "</style>\n",
       "<table border=\"1\" class=\"dataframe\">\n",
       "  <thead>\n",
       "    <tr style=\"text-align: right;\">\n",
       "      <th></th>\n",
       "      <th>Name</th>\n",
       "      <th>Surname</th>\n",
       "      <th>Age</th>\n",
       "    </tr>\n",
       "  </thead>\n",
       "  <tbody>\n",
       "    <tr>\n",
       "      <th>0</th>\n",
       "      <td>Rosalind</td>\n",
       "      <td>Franklin</td>\n",
       "      <td>100</td>\n",
       "    </tr>\n",
       "    <tr>\n",
       "      <th>1</th>\n",
       "      <td>Jane</td>\n",
       "      <td>Doe</td>\n",
       "      <td>41</td>\n",
       "    </tr>\n",
       "    <tr>\n",
       "      <th>2</th>\n",
       "      <td>John</td>\n",
       "      <td>Doe</td>\n",
       "      <td>44</td>\n",
       "    </tr>\n",
       "    <tr>\n",
       "      <th>3</th>\n",
       "      <td>Albert</td>\n",
       "      <td>Einstein</td>\n",
       "      <td>141</td>\n",
       "    </tr>\n",
       "    <tr>\n",
       "      <th>4</th>\n",
       "      <td>Marie</td>\n",
       "      <td>Curie</td>\n",
       "      <td>153</td>\n",
       "    </tr>\n",
       "  </tbody>\n",
       "</table>\n",
       "</div>"
      ],
      "text/plain": [
       "       Name   Surname  Age\n",
       "0  Rosalind  Franklin  100\n",
       "1      Jane       Doe   41\n",
       "2      John       Doe   44\n",
       "3    Albert  Einstein  141\n",
       "4     Marie     Curie  153"
      ]
     },
     "execution_count": 47,
     "metadata": {},
     "output_type": "execute_result"
    }
   ],
   "source": [
    "# import an external module (similar to the include statement in C(++))\n",
    "import pandas as pd \n",
    "# define a Python dictionary\n",
    "table_as_dict = {\"Name\" : [\"Rosalind\", \"Jane\", \"John\", \"Albert\", \"Marie\"], \n",
    "         \"Surname\" : [\"Franklin\", \"Doe\", \"Doe\", \"Einstein\", \"Curie\"],\n",
    "         \"Age\" : [100, 41, 44, 141, 153]}\n",
    "# pd.DataFrame is the constructor and takes a Python dictionary as argument\n",
    "table = pd.DataFrame(table_as_dict)\n",
    "table"
   ]
  },
  {
   "cell_type": "markdown",
   "metadata": {},
   "source": [
    "# Control Flow and Conditional Execution\n",
    "<br>\n",
    "<font size=\"3\">\n",
    "In Python and almost every other programming language, the if...elif...else construction allows to implement a distinction of multiple, nested conditions at a time to steer the program flow.<br><br><b>A valid condition for an if...else-statement is a Python expression (e.g. a function call) which yields a boolean or truth value (True or False).</b><br><br> In contrast to other popular programming languages where braces {} are used to separate blocks of code (e.g. C(++)), <b>Python uses indentation with spaces (usually 4 per indentation level) or tabs to seperate code blocks</b> (spaces should be preferred, and you cannot mix spaces and tabs, otherwise the interpreter will throw an IndentationError exception).<br><br>\n",
    "    <b>The syntax for the conditionally executed code block is</b><br>\n",
    "    \n",
    "`if condition:\n",
    "     ...\n",
    " elif condition2:\n",
    "     ...\n",
    " elif condition3:\n",
    "     ...\n",
    " else:\n",
    "     ...`\n",
    "\n",
    "<br>\n",
    "<br><b>Of course, we can also have nested conditionally executed code blocks with multiple indentation levels, like</b><br>\n",
    "\n",
    "`if a:\n",
    "     if b:\n",
    "         ...\n",
    "     else:\n",
    "         ...\n",
    " elif c:\n",
    "     ...\n",
    " elif d:\n",
    "     if e:\n",
    "         ...\n",
    "     elif f:\n",
    "         if g:\n",
    "             ...\n",
    "         else:\n",
    "             ...\n",
    "     else:\n",
    "         ...\n",
    " else:\n",
    "     ...`\n",
    "\n",
    "<br>A condition can serve any function or expression (e.g. a comparison) which yields a boolean (True / False) as result which can be combined with <b>logic operators (AND &, OR |, not ~)</b> and / or <b>comparisons (== equal, != unequal, > bigger, < less, >= bigger or equal, ...)</b><br><br>\n",
    "</font>"
   ]
  },
  {
   "cell_type": "markdown",
   "metadata": {},
   "source": [
    "### Examples for Conditional Execution (feel free to experiment):\n",
    "\n",
    "### Example 1:"
   ]
  },
  {
   "cell_type": "code",
   "execution_count": 5,
   "metadata": {},
   "outputs": [
    {
     "name": "stdout",
     "output_type": "stream",
     "text": [
      "Thanks for all the fish.\n",
      "x is in the interval (2,3].\n"
     ]
    }
   ],
   "source": [
    "x = 3.141\n",
    "# distinction of three cases with simple condition\n",
    "# IMPORTANT: code block of first matching condition is executed!\n",
    "if x == 3.141:\n",
    "    print(\"Thanks for all the fish.\")\n",
    "elif x >= 0:\n",
    "    print(\"x is positive and greater than zero!\")\n",
    "else:\n",
    "    print(\"x is negative!\")\n",
    "    \n",
    "# concatenation of multiple conditions is also possible\n",
    "# (x > 2) & (x <= 4) would be equivalent\n",
    "if (x > 2) and (x <= 4):\n",
    "    print(\"x is in the interval (2,3].\")\n",
    "\n",
    "# ~((x > 2) & (x <= 4)) would NOT be equivalent !\n",
    "if not ((x > 2) & (x <= 4)):\n",
    "    print(\"x is outside the interval (2,3].\")"
   ]
  },
  {
   "cell_type": "markdown",
   "metadata": {},
   "source": [
    "### Example 2:"
   ]
  },
  {
   "cell_type": "code",
   "execution_count": 11,
   "metadata": {},
   "outputs": [
    {
     "name": "stdout",
     "output_type": "stream",
     "text": [
      "You still have some milk !\n",
      "Best, your fridge\n"
     ]
    }
   ],
   "source": [
    "to_buy = \"milk\"\n",
    "fridge_content = [\"milk\", \"salami\", \"butter\", \"marmalade\"]\n",
    "\n",
    "if not (to_buy in fridge_content):\n",
    "    print(\"You should buy \" + to_buy + \" !\")\n",
    "else:\n",
    "    print(\"You still have some \" + to_buy + \" !\")\n",
    "print(\"Best, your fridge\")"
   ]
  },
  {
   "cell_type": "markdown",
   "metadata": {},
   "source": [
    "<font size=\"3\"><div class=\"alert alert-block alert-success\"><b>Exercise:</b><br> Implement a simplified version of the dice game \"Kniffel\". Roll two dices. Output the results for the two dices. If the two random integers are equal, additionally notify the user that he got an \"n-er Pasch\" where n stands for the random integer. Otherwise, also inform the user.<br>\n",
    "    \n",
    "<b>Hint:</b><br> Add the command \"import numpy as np\". Then use the function np.random.randint(1,7) to draw a random integer in the range [1,6].<br> \n",
    "\n",
    "</div>\n",
    "    \n",
    "\n",
    " \n",
    "<b>Try it yourself:</b></font>"
   ]
  },
  {
   "cell_type": "code",
   "execution_count": 10,
   "metadata": {},
   "outputs": [
    {
     "data": {
      "text/plain": [
       "1"
      ]
     },
     "execution_count": 10,
     "metadata": {},
     "output_type": "execute_result"
    }
   ],
   "source": [
    "# imports a so-called module with name \"numpy\" with alias \"np\"\n",
    "import numpy as np\n",
    "# returns a random integer in the given range [1,7)\n",
    "np.random.randint(1,7)"
   ]
  },
  {
   "cell_type": "markdown",
   "metadata": {},
   "source": [
    "### Example Solution:"
   ]
  },
  {
   "cell_type": "code",
   "execution_count": 92,
   "metadata": {},
   "outputs": [
    {
     "name": "stdout",
     "output_type": "stream",
     "text": [
      "dice 1:3\n",
      "dice 2:3\n",
      "You won a 3-er Pasch. :)\n"
     ]
    }
   ],
   "source": [
    "import numpy as np\n",
    "a=np.random.randint(1,7)\n",
    "b=np.random.randint(1,7)\n",
    "print(\"dice 1:\"+str(a))\n",
    "print(\"dice 2:\"+str(b))\n",
    "# check condition\n",
    "if not (a == b):\n",
    "    print(\"Unfortunately nothing. :(\")\n",
    "else:\n",
    "    print(\"You won a \"+str(a)+\"-er Pasch. :)\")"
   ]
  },
  {
   "cell_type": "markdown",
   "metadata": {},
   "source": [
    "## Loops\n",
    "<br>\n",
    "<font size=\"3\">\n",
    "Python offers two options to run a code block in a loop:\n",
    "<br>\n",
    "<ul>\n",
    "    <li>The <b>for-loop repeats</b> the enclosed code block <b> (in most simple cases) for a defined number of times.</b><br><br>This type of loop is often (but not always) used when the data set is finite and its size known before its runtime. In general, the for-loop iterates through the already-existing elements of an <a href=\"https://www.pythonlikeyoumeanit.com/Module2_EssentialsOfPython/Iterables.html\"><i>Iterable</i></a> (finite) or <a href=\"https://www.pythonlikeyoumeanit.com/Module2_EssentialsOfPython/Generators_and_Comprehensions.html\"><i>Generator</i></a> (potentially infinite since a new element is generated on demand for each iteration) object. <br><b>An <i>Iterable</i> object can be e.g. a list, tuple or dictionary.</b><br><b>A popular <i>Generator</i> object is e.g. the range generator which will be presented here.</b></li><br>\n",
    "    <li>The <b>while-loop can repeat</b> the enclosed code block <b>indefinitely as long as the condition</b> in the header <b>is not fulfilled.</b> This type of loop is often used e.g. when the program needs to wait for some event indefinitely.</li>\n",
    "</ul>\n",
    "</font>"
   ]
  },
  {
   "cell_type": "markdown",
   "metadata": {},
   "source": [
    "### For-Loops\n",
    "<br>\n",
    "<font size=\"3\">\n",
    "The syntax of a for-loop in Python is as following:<br>\n",
    "\n",
    "<b>for <i>elem</i> in <i>Iterable</i>:</b><br>\n",
    "\n",
    "    indented code block\n",
    "    \n",
    "<br>\n",
    "A very popular <i>Iterable</i> or <i>Generator</i> object is the range generator which yields integers which can be used e.g. as index to run over the elements of an array. The range generator expects <i><b>range(start, stop [, step])</b></i> three arguments to define begin, end (and step size which is optional) for list of integers. The range generates integers from start to (stop - 1).<br>\n",
    "<br>\n",
    "<b>Python has reserved keywords to be used within for-loops: break, continue</b>\n",
    "<br>\n",
    "<ul>\n",
    "    <li>break can be used to end the for-loop prematurely</li>\n",
    "    <li>continue can be used to skip the remaining code block of the current iteration</li>\n",
    "</ul>\n",
    "</font>"
   ]
  },
  {
   "cell_type": "markdown",
   "metadata": {},
   "source": [
    "### Example (feel free to experiment):"
   ]
  },
  {
   "cell_type": "code",
   "execution_count": 94,
   "metadata": {},
   "outputs": [
    {
     "name": "stdout",
     "output_type": "stream",
     "text": [
      "For-loop 1:\n",
      "i=0\n",
      "i=1\n",
      "i=2\n",
      "i=3\n",
      "i=4\n",
      "i=5\n",
      "i=6\n",
      "i=7\n",
      "i=8\n",
      "i=9\n",
      "For-loop 2:\n",
      "i=0\n",
      "i=2\n",
      "i=4\n",
      "i=6\n",
      "i=8\n",
      "For-loop 3:\n",
      "(i,j)=(0, 0)\n",
      "(i,j)=(0, 1)\n",
      "(i,j)=(0, 2)\n",
      "(i,j)=(0, 3)\n",
      "(i,j)=(1, 0)\n",
      "(i,j)=(1, 1)\n",
      "(i,j)=(1, 2)\n",
      "(i,j)=(1, 3)\n",
      "(i,j)=(2, 0)\n",
      "(i,j)=(2, 1)\n",
      "(i,j)=(2, 2)\n",
      "(i,j)=(2, 3)\n",
      "(i,j)=(3, 0)\n",
      "(i,j)=(3, 1)\n",
      "(i,j)=(3, 2)\n",
      "(i,j)=(3, 3)\n",
      "For-loop 4:\n",
      "We still have milk.\n",
      "We still have butter.\n",
      "We still have strawberries.\n",
      "We still have chicken.\n",
      "Best, your fridge\n",
      "For-loop 5:\n",
      "We still have ['paprika', 'fennel'] which are vegetables.\n",
      "We still have ['milk', 'butter'] which are diary products.\n",
      "vegetables = ['paprika', 'fennel']\n",
      "diary products = ['milk', 'butter']\n",
      "Best, your fridge\n"
     ]
    }
   ],
   "source": [
    "#a simple for-loop using the range generator\n",
    "print(\"For-loop 1:\")\n",
    "# old / C-style way of a loop with a running index\n",
    "for i in range(0,10):\n",
    "    print(\"i=\" + str(i))\n",
    "\n",
    "#a simple for-loop with a different step size\n",
    "print(\"For-loop 2:\")\n",
    "# old / C-style way of a loop with a running index\n",
    "for i in range(0,10,2):\n",
    "    print(\"i=\" + str(i))\n",
    "    \n",
    "#nested for-loops (which should be avoided for performance reasons, if possible)\n",
    "print(\"For-loop 3:\")\n",
    "# old / C-style way of a loop with a running index\n",
    "for i in range(0,4):\n",
    "    for j in range(0,4):\n",
    "        print(\"(i,j)=\" + str((i,j)))\n",
    "        \n",
    "#a for-loop running over the elements of a list\n",
    "print(\"For-loop 4:\")\n",
    "fridge_content = ['milk', 'butter', 'strawberries', 'chicken']\n",
    "# more Pythonic way of a loop instead of using a running index\n",
    "for item in fridge_content:\n",
    "    print(\"We still have \" + item + \".\")\n",
    "print(\"Best, your fridge\")\n",
    "\n",
    "#a for-loop running over a dictionary\n",
    "print(\"For-loop 5:\")\n",
    "fridge_content2 = {'vegetables' : ['paprika', 'fennel'], 'diary products' : ['milk', 'butter']}\n",
    "# more Pythonic way of a loop instead of using a running index\n",
    "for key in fridge_content2:\n",
    "    print(\"We still have \" + str(fridge_content2[key]) + \" which are \" + key + \".\")\n",
    "\n",
    "for value,key in fridge_content2.items():\n",
    "    print(str(value)+ \" = \" + str(key))\n",
    "    \n",
    "print(\"Best, your fridge\")"
   ]
  },
  {
   "cell_type": "markdown",
   "metadata": {},
   "source": [
    "<font size=\"3\"><div class=\"alert alert-block alert-success\"><b>Exercise:</b> Implement a for-loop running up to an arbitrary number which outputs the number of the running variable and outputs a message whether the number is odd or even.\n",
    "    \n",
    "<b>Hint:</b> Use the <a href=\"https://en.wikipedia.org/wiki/Modulo_operation\">modulo operator</a> \"%\" giving the remainder of a divison. In particular use x % 2. In this case 2 % 2 yields 0, 1 % 2 yields 1.<br> \n",
    "\n",
    "</div>\n",
    "    \n",
    "\n",
    " \n",
    "<b>Try it yourself:</b></font>"
   ]
  },
  {
   "cell_type": "code",
   "execution_count": null,
   "metadata": {},
   "outputs": [],
   "source": []
  },
  {
   "cell_type": "markdown",
   "metadata": {},
   "source": [
    "### Example Solution:"
   ]
  },
  {
   "cell_type": "code",
   "execution_count": 95,
   "metadata": {
    "scrolled": true
   },
   "outputs": [
    {
     "name": "stdout",
     "output_type": "stream",
     "text": [
      "0 is even.\n",
      "1 is odd.\n",
      "2 is even.\n",
      "3 is odd.\n",
      "4 is even.\n",
      "5 is odd.\n",
      "6 is even.\n",
      "7 is odd.\n",
      "8 is even.\n",
      "9 is odd.\n"
     ]
    }
   ],
   "source": [
    "n = 10\n",
    "for i in range(n):\n",
    "    if i % 2 == 0:\n",
    "        print(str(i)+\" is even.\")\n",
    "    else:\n",
    "        print(str(i)+\" is odd.\")"
   ]
  },
  {
   "cell_type": "markdown",
   "metadata": {},
   "source": [
    "<font size=\"3\"><div class=\"alert alert-block alert-success\"><b>Exercise:</b> Implement a program which finds the biggest number in a list and prints it.<br><br>\n",
    "    \n",
    "<b>Hint:</b> Use pairwise comparison of neighbouring elements.<br>\n",
    "<b>Bonus:</b> You can use <a href=\"https://numpy.org/doc/stable/reference/random/generated/numpy.random.randint.html\">np.random.randint</a> to generate a list of N random integers in the range [a,b).<br>\n",
    "\n",
    "</div>\n",
    "    \n",
    "\n",
    " \n",
    "<b>Try it yourself:</b></font>"
   ]
  },
  {
   "cell_type": "code",
   "execution_count": null,
   "metadata": {},
   "outputs": [],
   "source": []
  },
  {
   "cell_type": "markdown",
   "metadata": {},
   "source": [
    "### Example Solution:"
   ]
  },
  {
   "cell_type": "code",
   "execution_count": 152,
   "metadata": {},
   "outputs": [
    {
     "name": "stdout",
     "output_type": "stream",
     "text": [
      "List:[28 34 44 79 21 47 96 72  5 29]\n",
      "Biggest element in list is 96\n"
     ]
    }
   ],
   "source": [
    "# import module numpy\n",
    "import numpy as np\n",
    "# generate list of 10 random integers in the interval [0,100)\n",
    "rand_list = np.random.randint(0,100,10)\n",
    "# two options to address the list / array elements here:\n",
    "# indirectly via a running index variable:\n",
    "# for i in range(n):\n",
    "# directly via the Iterator property of a List/numpy array (more Pythonic way):\n",
    "# for elem in list:\n",
    "# define variable to store biggest number\n",
    "biggest = 0\n",
    "for elem in rand_list:\n",
    "    if elem > biggest:\n",
    "        biggest = elem\n",
    "print(\"List:\"+str(rand_list))\n",
    "print(\"Biggest element in list is \"+str(biggest))"
   ]
  },
  {
   "cell_type": "markdown",
   "metadata": {},
   "source": [
    "### While-Loops\n",
    "<br>\n",
    "<font size=\"3\">\n",
    "While-loops can run indefinitely e.g. to wait for an event. An example for such an event loop would be the main event loop in a software application with graphical user interface where the program waits for e.g. a button to be pressed to then call a certain routine.<br><br>\n",
    "The syntax for a while-loop in Python is as following:<br>\n",
    "    <b>while <i>condition:</i></b><br>\n",
    "    \n",
    "        indented code block\n",
    "        \n",
    "<b>Python has reserved a keyword to be used within while-loops: break</b>\n",
    "<br>\n",
    "<ul>\n",
    "    <li>break can be used to end the while-loop.</li>\n",
    "</ul>\n",
    "</font>\n",
    "\n",
    "### Example 1:"
   ]
  },
  {
   "cell_type": "code",
   "execution_count": 99,
   "metadata": {},
   "outputs": [
    {
     "name": "stdout",
     "output_type": "stream",
     "text": [
      "0\n",
      "1\n",
      "2\n",
      "3\n",
      "4\n",
      "5\n",
      "6\n",
      "7\n",
      "8\n",
      "9\n"
     ]
    }
   ],
   "source": [
    "counter = 0\n",
    "# runs the loop as long as the variable counter is smaller than 10\n",
    "while counter < 10:\n",
    "    # print the content of the variable counter\n",
    "    print(counter)\n",
    "    # increment the variable counter by 1\n",
    "    counter += 1"
   ]
  },
  {
   "cell_type": "markdown",
   "metadata": {},
   "source": [
    "### Example 2:"
   ]
  },
  {
   "cell_type": "code",
   "execution_count": 100,
   "metadata": {},
   "outputs": [
    {
     "name": "stdout",
     "output_type": "stream",
     "text": [
      "While-loop has ended.\n",
      "The 3 was drawn after 3 trials.\n"
     ]
    }
   ],
   "source": [
    "import numpy as np\n",
    "# infinite loop: header condition is always fulfilled\n",
    "counter = 0\n",
    "while True:\n",
    "    # draws a random integer\n",
    "    random_number = np.random.randint(1,7)\n",
    "    # if the random integer was 3, break the loop execution\n",
    "    if random_number == 3:\n",
    "        break\n",
    "    else:\n",
    "        #if the random number was not 3, increment a counter\n",
    "        counter += 1\n",
    "print(\"While-loop has ended.\")\n",
    "print(\"The 3 was drawn after \" + str(counter) + \" trials.\")"
   ]
  },
  {
   "cell_type": "markdown",
   "metadata": {},
   "source": [
    "### Example 3:"
   ]
  },
  {
   "cell_type": "code",
   "execution_count": 101,
   "metadata": {},
   "outputs": [
    {
     "name": "stdout",
     "output_type": "stream",
     "text": [
      "False\n",
      "True\n",
      "6.681442 seconds passed till 42 was randomly hit out random numbers up to 1000000.\n"
     ]
    }
   ],
   "source": [
    "import time\n",
    "import numpy as np\n",
    "#a simple while-loop generating random numbers till a certain number is hit\n",
    "match = False\n",
    "hit = 42\n",
    "upper = int(1E6)\n",
    "t1 = time.time()\n",
    "\n",
    "print(match)\n",
    "print(not match)\n",
    "\n",
    "# Condition in header of the while-loop never not fullfilled (always True)\n",
    "while not match:\n",
    "    # Compares random number with defined hit\n",
    "    if np.random.randint(0,upper) == hit:\n",
    "        # Interrupts the while-loop\n",
    "        break\n",
    "# Calculates how much time has passed\n",
    "delta_t = time.time() - t1\n",
    "# Outputs result\n",
    "print(str(np.round(delta_t,6))+\" seconds passed till \"+str(hit)+\" was randomly hit out of randomly drawn numbers up to \"+str(upper)+\".\")\n"
   ]
  },
  {
   "cell_type": "code",
   "execution_count": null,
   "metadata": {},
   "outputs": [],
   "source": []
  },
  {
   "cell_type": "markdown",
   "metadata": {},
   "source": [
    "<font size=\"3\"><div class=\"alert alert-block alert-success\"><b>Exercise:</b> Implement a program which sorts a list of numbers.<br><br>\n",
    "    \n",
    "<b>Hint:</b> Use pairwise comparison of neighbouring elements and implement e.g. the <a href=\"https://en.wikipedia.org/wiki/Bubble_sort\">bubblesort</a> algorithm using a while-loop.<br>\n",
    "<b>Bonus:</b> You can use <a href=\"https://numpy.org/doc/stable/reference/random/generated/numpy.random.randint.html\">np.random.randint</a> to generate a list of N random integers in the range [a,b).<br>\n",
    "\n",
    "</div>\n",
    "    \n",
    "\n",
    " \n",
    "<b>Try it yourself:</b></font>"
   ]
  },
  {
   "cell_type": "code",
   "execution_count": null,
   "metadata": {},
   "outputs": [],
   "source": []
  },
  {
   "cell_type": "markdown",
   "metadata": {},
   "source": [
    "### Example Solution:"
   ]
  },
  {
   "cell_type": "code",
   "execution_count": 184,
   "metadata": {},
   "outputs": [
    {
     "name": "stdout",
     "output_type": "stream",
     "text": [
      "List before:[65 11 49  8 94 35  0 48 50 45]\n",
      "List after:[ 0  8 11 35 45 48 49 50 65 94]\n"
     ]
    }
   ],
   "source": [
    "# import module numpy\n",
    "import numpy as np\n",
    "# generate list of 10 random integers in the interval [0,100)\n",
    "rand_list = np.random.randint(0,100,10)\n",
    "print(\"List before:\"+str(rand_list))\n",
    "\n",
    "n = len(rand_list)\n",
    "swapped = True\n",
    "# the condition is checked whenever we arrive at the while-loop header again\n",
    "while swapped:\n",
    "    swapped = False\n",
    "    for i in range(n-1):\n",
    "        # compare neighbouring elements in the list\n",
    "        if rand_list[i] > rand_list[i+1]:\n",
    "            a = rand_list[i]\n",
    "            b = rand_list[i+1]\n",
    "            # swap neighbouring elements in the list\n",
    "            rand_list[i] = b\n",
    "            rand_list[i+1] = a\n",
    "            swapped = True\n",
    "    n -= 1\n",
    "print(\"List after:\"+str(rand_list))"
   ]
  },
  {
   "cell_type": "markdown",
   "metadata": {},
   "source": [
    "## Functions\n",
    "\n",
    "<br>\n",
    "<font size=\"3\">\n",
    "As your code grows bigger and some parts of the code may repeat in it, the first step for cleaner code is to outsource repeating code snippets in user-defined functions. If some repeats itself for at least two times, it is already worth considering to write a function for that.<br><br>\n",
    "<b>The biggest difference between a function definiton in Python and in other statically-typed languages is that no data types need to be given - neither for the function arguments, nor the return value of the function.</b><br><br>Nevertheless, the newest <a href=\"https://www.python.org/dev/peps/pep-0008/\">code style best practice</a> in Python is that you CAN indicate the data types of the function arguments and its return value(s) (give so-called <a href=\"https://www.python.org/dev/peps/pep-0484/\">type hints</a>) but there is no automatic type check (yet). So it only contributes to a better readability and understanding of your code for other programmers.</b>\n",
    "<br><br>\n",
    "<b>User-defined functions in Python are defined as follows</b><br>\n",
    "<ul>\n",
    "    <li><b>with a fixed number of mandatory arguments:</b><br>\n",
    "        def <i>function_name</i>(<b>arg1, arg2, arg3, ...</b>):<br>\n",
    "    <p style=\"margin-left: 40px\"><font face=\"Courier\">indented code block</font></p>\n",
    "    <p style=\"margin-left: 40px\">return <i>value</i></p>\n",
    "    </li>\n",
    "    <br>\n",
    "    <li><b>with a fixed number of arguments, but some have a default value (and are hence not mandatory):</b><br>\n",
    "        def <i>function_name</i>(<b>arg1, arg2, arg3 = True, arg4 = 1</b>):<br>\n",
    "    <p style=\"margin-left: 40px\"><font face=\"Courier\">indented code block</font></p>\n",
    "    <p style=\"margin-left: 40px\">return <i>value</i></p>\n",
    "    </li>\n",
    "    <br>\n",
    "    <li>\n",
    "    <b>with a variable number of arguments:</b><br>\n",
    "        def <i>function_name</i>(<b>*args</b>):<br>\n",
    "    <p style=\"margin-left: 40px\"><font face=\"Courier\">indented code block</font></p>\n",
    "    <p style=\"margin-left: 40px\">return <i>value</i></p>\n",
    "    <br>\n",
    "        <b>The variable name <i>args</i>, a tuple of the function arguments, is used in the function definition.</b> <br><br>\n",
    "        <b>The asterisk (*) unpacks a tuple to positional arguments for a function call.</b><br>\n",
    "        <b>It can be only used within function calls or in assignments.</b>\n",
    "    </li>\n",
    "    <br>\n",
    "    <li>\n",
    "    <b>with a variable number of keyword-arguments:</b><br>\n",
    "        def <i>function_name</i>(<b>**kwargs</b>):<br>\n",
    "    <p style=\"margin-left: 40px\"><font face=\"Courier\">indented code block</font></p>\n",
    "    <p style=\"margin-left: 40px\">return <i>value</i></p>\n",
    "    </li>\n",
    "    <br>\n",
    "            <b>The variable name <i>kwargs</i>, a dict of the keyword arguments of the function, is used in the function definition.</b> <br><br>\n",
    "        <b>The double asterisk (**) unpacks a dict to keyword arguments for a function call.</b><br>\n",
    "        <b>It can be only used within function calls or in assigments.</b>\n",
    "    <br>\n",
    "    <br>\n",
    "    <li>\n",
    "    <b>with variable numer of arguments and variable number of keyword arguments:</b><br>\n",
    "        def <i>function_name</i>(<b>*args **kwargs</b>):<br>\n",
    "    <p style=\"margin-left: 40px\"><font face=\"Courier\">indented code block</font></p>\n",
    "    <p style=\"margin-left: 40px\">return <i>value</i></p>\n",
    "    </li>\n",
    "</ul>\n",
    "<br>\n",
    "    The indented code block <b>does not need to end</b> in all cases <b>with a <i>return</i> statement</b>.\n",
    "    <b>If left blank, the function returns a <i>NoneType</i> (None) object.</b>\n",
    "\n",
    "<b>An advantage of encapsulating your code in functions is that the variable scope (the environment where the variable is valid and accessible) is limited to the code block enclosed by your function definition!</b>\n",
    "</font>\n",
    "\n",
    "### Examples of functions with fixed number of arguments:"
   ]
  },
  {
   "cell_type": "code",
   "execution_count": 12,
   "metadata": {},
   "outputs": [
    {
     "name": "stdout",
     "output_type": "stream",
     "text": [
      "The water is ice.\n",
      "The water is liquid.\n",
      "The water is boiling.\n"
     ]
    }
   ],
   "source": [
    "# here you see an example with a first function definition\n",
    "# with a single, mandatory argument without default value\n",
    "def get_state_of_water(temperature):\n",
    "    if temperature < 0:\n",
    "        print(\"The water is ice.\")\n",
    "    elif (temperature > 0)&(temperature < 100):\n",
    "        print(\"The water is liquid.\")\n",
    "    elif temperature >= 100:\n",
    "        print(\"The water is boiling.\")\n",
    "\n",
    "get_state_of_water(-10)\n",
    "get_state_of_water(99)\n",
    "get_state_of_water(101)"
   ]
  },
  {
   "cell_type": "code",
   "execution_count": 13,
   "metadata": {},
   "outputs": [
    {
     "name": "stdout",
     "output_type": "stream",
     "text": [
      "foo(1,2,3)=9\n",
      "foo(2.12,8,123)=1244.7600000000002\n",
      "Guten Tag, Jane Doe\n",
      "Bom dìa, John Doe\n",
      "Bonjour, Pièrre Fromage\n",
      "Здравствуйте, Dima Durak\n",
      "Hello, World \n",
      "Invalid language given.\n"
     ]
    },
    {
     "ename": "NameError",
     "evalue": "name 'sentences' is not defined",
     "output_type": "error",
     "traceback": [
      "\u001b[0;31m---------------------------------------------------------------------------\u001b[0m",
      "\u001b[0;31mNameError\u001b[0m                                 Traceback (most recent call last)",
      "\u001b[0;32m<ipython-input-13-279080b46c25>\u001b[0m in \u001b[0;36m<module>\u001b[0;34m\u001b[0m\n\u001b[1;32m     33\u001b[0m \u001b[0;31m#the scope of variables defined within the function is function local\u001b[0m\u001b[0;34m\u001b[0m\u001b[0;34m\u001b[0m\u001b[0;34m\u001b[0m\u001b[0m\n\u001b[1;32m     34\u001b[0m \u001b[0;31m#if we attempt to access e.g. the variable sentences, an error occurrs\u001b[0m\u001b[0;34m\u001b[0m\u001b[0;34m\u001b[0m\u001b[0;34m\u001b[0m\u001b[0m\n\u001b[0;32m---> 35\u001b[0;31m \u001b[0mprint\u001b[0m\u001b[0;34m(\u001b[0m\u001b[0msentences\u001b[0m\u001b[0;34m)\u001b[0m\u001b[0;34m\u001b[0m\u001b[0;34m\u001b[0m\u001b[0m\n\u001b[0m",
      "\u001b[0;31mNameError\u001b[0m: name 'sentences' is not defined"
     ]
    }
   ],
   "source": [
    "# an example for a function with a defined number of arguments\n",
    "def foo(a, b, c):\n",
    "    return c * (a + b)\n",
    "\n",
    "print(\"foo(1,2,3)=\"+str(foo(1,2,3)))\n",
    "print(\"foo(2.12,8,123)=\"+str(foo(2.12,8,123)))\n",
    "\n",
    "# an example for a function with a defined number of arguments\n",
    "# a function can also have multiple return statements\n",
    "def greetings(name, surname, language):\n",
    "    sentences = {'german' : 'Guten Tag', 'english' : 'Hello', 'portuguese' : 'Bom dìa', 'french' : 'Bonjour', 'russian' : 'Здравствуйте'}\n",
    "    # check if language keyword exists in the keys of the dictionary 'sentences'\n",
    "    if not language in sentences.keys():\n",
    "        print(\"Invalid language given.\")\n",
    "        return\n",
    "    # assemble and print output string\n",
    "    print(sentences[language] + \", \" + name + \" \" + surname)\n",
    "    return\n",
    "\n",
    "#call / invoke the function greetings with different parameters\n",
    "greetings(\"Jane\", \"Doe\", \"german\")\n",
    "greetings(\"John\", \"Doe\", \"portuguese\")\n",
    "greetings(\"Pièrre\", \"Fromage\", \"french\")\n",
    "greetings(\"Dima\", \"Durak\", \"russian\")\n",
    "greetings(\"World\", \"\", \"english\")\n",
    "greetings(\"World\", \"\", \"klingon\")\n",
    "\n",
    "# using the reserved keyword pass, you can also define function prototypes (empty functions)\n",
    "# this is used e.g. in the definition of abstract classes where the class methods are overloaded (overwritten)\n",
    "def prototype(a, b, c):\n",
    "    pass\n",
    "\n",
    "#the scope of variables defined within the function is function local\n",
    "#if we attempt to access e.g. the variable sentences, an error occurrs\n",
    "print(sentences)"
   ]
  },
  {
   "cell_type": "markdown",
   "metadata": {},
   "source": [
    "<font size=\"3\">\n",
    "    Having a look at the class of the object <i>greetings</i>, we in fact obtain\n",
    "</font>"
   ]
  },
  {
   "cell_type": "code",
   "execution_count": 2,
   "metadata": {},
   "outputs": [
    {
     "name": "stdout",
     "output_type": "stream",
     "text": [
      "<class 'function'>\n",
      "True\n"
     ]
    }
   ],
   "source": [
    "print(type(greetings))       # print data type or class of object\n",
    "print(callable(greetings))   # check if object is callable, hence if object is a function handle"
   ]
  },
  {
   "cell_type": "markdown",
   "metadata": {},
   "source": [
    "<font size=\"3\">\n",
    "    a function or an object of the class \"function\". <b>The builtin function <i>callable()</i> checks if a variable contains or is a callable object, hence a reference to a function which can be invoked.</b><br><br>\n",
    "</font>"
   ]
  },
  {
   "cell_type": "markdown",
   "metadata": {},
   "source": [
    "### Examples of functions with fixed number of arguments and default values (keyword arguments):"
   ]
  },
  {
   "cell_type": "code",
   "execution_count": 14,
   "metadata": {},
   "outputs": [
    {
     "name": "stdout",
     "output_type": "stream",
     "text": [
      "Hello, Jane Doe! \n",
      "You are on Earth in Milky Way in Alpha Quadrant in Universe X001A \n",
      "Hello, Jon Doe! \n",
      "You are in Greifswald in Mecklenburg-Vorpommern in Germany in Europe on Earth in Milky Way in Alpha Quadrant in Universe X001A \n",
      "Hallo, Pierre Fromage! \n",
      "Du bist in Greifswald in Mecklenburg-Vorpommern in Deutschland in Europa auf der Erde in der Milchstrasse im Alpha Quadrant im Universum X001A \n"
     ]
    }
   ],
   "source": [
    "# an example for a function with fixed number of arguments with default values\n",
    "def print_location(name, start_res = \"Earth\", language = \"english\"):\n",
    "    \n",
    "    # you can insert a line break in a very long line of code with a backslash\n",
    "    locations_en = ['Greifswald', 'Mecklenburg-Vorpommern', 'Germany', 'Europe', \\\n",
    "                    \"Earth\", \"Milky Way\", \"Alpha Quadrant\", \"Universe X001A\"]\n",
    "    locations_de = ['Greifswald', 'Mecklenburg-Vorpommern', 'Deutschland', 'Europa', \\\n",
    "                    \"Erde\", \"Milchstrasse\", \"Alpha Quadrant\", \"Universum X001A\"]\n",
    "    language_str = {'english':{'locations' : locations_en,\\\n",
    "                    'phrase' : ['Hello', 'You are','in','in','in','in','on','in','in','in']},\\\n",
    "                    'german': {'locations' : locations_de, \\\n",
    "                    'phrase' : ['Hallo', 'Du bist', 'in', 'in', 'in', 'in', 'auf der', 'in der', 'im', 'im']}}\n",
    "    \n",
    "    # gets list with available languages\n",
    "    avail_languages = language_str.keys()\n",
    "    \n",
    "    # throws an error if given language keyword is not included\n",
    "    if not (language in avail_languages):\n",
    "        raise KeyError(\"Invalid language keyword.\")\n",
    "    \n",
    "    # throws an error if given start is not included\n",
    "    if not (start_res in language_str[language]['locations']):\n",
    "        raise ValueError(\"Wrong location resolution level.\")\n",
    "    else:\n",
    "        start_index = language_str[language][\"locations\"].index(start_res)\n",
    "        \n",
    "    # assemble string\n",
    "    out_str = language_str[language]['phrase'][0] + \", \" + name + \"! \\n\"\n",
    "    out_str += language_str[language]['phrase'][1] + \" \"\n",
    "    for i in range(start_index,len(language_str[language][\"locations\"])):\n",
    "        out_str += language_str[language]['phrase'][i+2] + \" \" + language_str[language]['locations'][i] + \" \"\n",
    "    # print string\n",
    "    print(out_str)\n",
    "\n",
    "# example of how polymorphism (same function/method name, but different number and/or data types\n",
    "# of accepted arguments) could be implemented in Python using (default) keyword arguments\n",
    "print_location(\"Jane Doe\")\n",
    "print_location(\"Jon Doe\", start_res = \"Greifswald\")\n",
    "print_location(\"Pierre Fromage\", start_res = \"Greifswald\", language = \"german\")"
   ]
  },
  {
   "cell_type": "markdown",
   "metadata": {},
   "source": [
    "### Examples of functions with variable number of arguments:"
   ]
  },
  {
   "cell_type": "code",
   "execution_count": 15,
   "metadata": {},
   "outputs": [
    {
     "name": "stdout",
     "output_type": "stream",
     "text": [
      "type(args) = <class 'tuple'>\n",
      "calc_sum(*(1, 2, 3)) = 6\n",
      "type(args) = <class 'tuple'>\n",
      "calc_sum(1, 2, 3) = 6\n",
      "type(args) = <class 'tuple'>\n",
      "calc_sum(8, 9, 11, 5) = 33\n",
      "rand_tuple = (1, 3, 2, 6, 8, 2)\n",
      "type(args) = <class 'tuple'>\n",
      "calc_sum(*rand_tuple) = 22\n"
     ]
    }
   ],
   "source": [
    "# an example for a function definition with a variable number of function arguments\n",
    "def calc_sum(*args):\n",
    "    # inside the function, args is a tuple\n",
    "    print(\"type(args) = \"+str(type(args)))\n",
    "    result = 0\n",
    "    for elem in args:\n",
    "        result += elem\n",
    "    return result\n",
    "\n",
    "print(\"calc_sum(*(1, 2, 3)) = \"+str(calc_sum(*(1,2,3))))  # the function call\n",
    "print(\"calc_sum(1, 2, 3) = \"+str(calc_sum(1,2,3)))        # is equivalent to\n",
    "print(\"calc_sum(8, 9, 11, 5) = \"+str(calc_sum(8, 9, 11, 5)))        # a different number of arguments can be used\n",
    "\n",
    "import numpy as np\n",
    "rand_len = np.random.randint(1,10)\n",
    "rand_tuple = tuple(np.random.randint(0,10,(rand_len,)))  # but the argument can be a tuple of arbitrary length\n",
    "print(\"rand_tuple = \"+str(rand_tuple))\n",
    "print(\"calc_sum(*rand_tuple) = \"+str(calc_sum(*rand_tuple)))"
   ]
  },
  {
   "cell_type": "markdown",
   "metadata": {},
   "source": [
    "### Example of functions with variable number of keyword arguments:"
   ]
  },
  {
   "cell_type": "code",
   "execution_count": 16,
   "metadata": {},
   "outputs": [
    {
     "name": "stdout",
     "output_type": "stream",
     "text": [
      "type(kwargs) = <class 'dict'>\n",
      "The molecule  is unknown.\n",
      "type(kwargs) = <class 'dict'>\n",
      "The molecule C2H5OH is known as ethanol.\n"
     ]
    }
   ],
   "source": [
    "# an example for a function definition with a variable number of keyword arguments\n",
    "def get_molecule_name(**kwargs):\n",
    "    # inside the function, kwargs is a dict\n",
    "    print(\"type(kwargs) = \"+str(type(kwargs)))\n",
    "    \n",
    "    molecules = {'H2O' : 'water', 'C2H5OH' : 'ethanol', 'CH3OH' : 'methanol'}\n",
    "    \n",
    "    # assemble string\n",
    "    out_str = ''\n",
    "    for key in kwargs.keys():\n",
    "        if kwargs[key] == 1:\n",
    "            out_str += key\n",
    "        else:\n",
    "            out_str += key + str(kwargs[key])\n",
    "    \n",
    "    if out_str in molecules.keys():\n",
    "        print(\"The molecule \"+out_str+\" is known as \"+molecules[out_str]+\".\")\n",
    "    else:\n",
    "        print(\"The molecule \"+out_str+\" is unknown.\")\n",
    "\n",
    "get_molecule_name(**{})\n",
    "get_molecule_name(**{'C':2,'H':5,'OH':1})"
   ]
  },
  {
   "cell_type": "markdown",
   "metadata": {},
   "source": [
    "### Example of a function definition with type hinting:"
   ]
  },
  {
   "cell_type": "code",
   "execution_count": 18,
   "metadata": {},
   "outputs": [
    {
     "name": "stdout",
     "output_type": "stream",
     "text": [
      "296.15\n",
      "Temperature in degrees Celsius:23\n",
      "Temperature in degrees Kelvin:296.15\n"
     ]
    }
   ],
   "source": [
    "# indicate the data type of a function argument by variable_name : datatype\n",
    "# indicate the data type of the return value of the function by -> datatype following the argument list\n",
    "def celsius_to_kelvin(temperature : float) -> float:\n",
    "    return temperature + 273.15\n",
    "\n",
    "# if the function does not return a value, then use None as data type and no return statement is given\n",
    "def print_kelvin(temperature_in_c : float) -> None:\n",
    "    print(\"Temperature in degrees Celsius:\"+str(temperature_in_c))\n",
    "    print(\"Temperature in degrees Kelvin:\"+str(temperature_in_c + 273.15))\n",
    "    \n",
    "print(celsius_to_kelvin(23))\n",
    "print_kelvin(23)"
   ]
  },
  {
   "cell_type": "markdown",
   "metadata": {},
   "source": [
    "<font size=\"3\"><div class=\"alert alert-block alert-success\"><b>Exercise:</b> Define a function named <i>compute</i> using a variable number of arguments (args) and a keyword argument named <i>operation</i> expecting one of the following strings: \"add\", \"subtract\", \"multiply\", \"divide\".<br><br> The function should then add/subtract/multiply/divide the numbers given by the preceding arguments. The computation should be performed pairwise e.g. first add <i>argument1 </i> and <i>argument2</i>. Then add to the result <i>argument3</i>. Then add to the result <i>argument4</i> etc... Repeat for all arguments. <br><br>\n",
    "<b>Hint:</b> You can use the arithmetic assignment operators +=, -=, *= and /=. The first e.g. adds the expression on the right side to the variable on the left. You can also use the Python operators as callable functions using the <a href=\"https://docs.python.org/3/library/operator.html\">module operator</a>.</div>\n",
    "    \n",
    "<b>Try it yourself:</b></font>"
   ]
  },
  {
   "cell_type": "code",
   "execution_count": 25,
   "metadata": {},
   "outputs": [
    {
     "name": "stdout",
     "output_type": "stream",
     "text": [
      "3\n",
      "1.5\n",
      "check if x is callable:\n",
      "True\n",
      "3\n"
     ]
    }
   ],
   "source": [
    "#Hints to play around with:\n",
    "a = 0\n",
    "a += 3\n",
    "print(a)\n",
    "a /= 2\n",
    "print(a)\n",
    "\n",
    "#use of the operator module\n",
    "#imports basic arithmetic operators as functions (callables)\n",
    "from operator import add, sub, mul, truediv\n",
    "#assigns the callable function add to variable x\n",
    "x = add\n",
    "print(\"check if x is callable:\")\n",
    "print(callable(x))\n",
    "#calls the function add stored in variable x and prints the result\n",
    "print(x(1,2))"
   ]
  },
  {
   "cell_type": "markdown",
   "metadata": {},
   "source": [
    "### Example Solution:"
   ]
  },
  {
   "cell_type": "code",
   "execution_count": 191,
   "metadata": {},
   "outputs": [
    {
     "name": "stdout",
     "output_type": "stream",
     "text": [
      "6\n",
      "6\n",
      "-4\n",
      "0.16666666666666666\n",
      "6\n"
     ]
    }
   ],
   "source": [
    "#solution using the arithmetic assignment operators\n",
    "def compute(*args, method = \"add\"):\n",
    "    result = args[0]\n",
    "    if method == \"add\":\n",
    "        for i in range(1,len(args)):\n",
    "            result += args[i]\n",
    "    elif method == \"subtract\":\n",
    "        for i in range(1,len(args)):\n",
    "            result -= args[i]\n",
    "    elif method == \"multiply\":\n",
    "        for i in range(1,len(args)):\n",
    "            result *= args[i]\n",
    "    elif method == \"divide\":\n",
    "        for i in range(1,len(args)):\n",
    "            result /= args[i]\n",
    "    else:\n",
    "        print(\"Invalid method.\")\n",
    "        return\n",
    "    return result\n",
    "\n",
    "\n",
    "#import operator module, similar to #include<file> in C++\n",
    "import operator as op\n",
    "#shorter solution using the built-in operator module\n",
    "def compute(*args, method = \"add\"):\n",
    "    result = args[0]\n",
    "    ops = {'add':op.add,'subtract':op.sub,'divide':op.truediv,'multiply':op.mul}\n",
    "    \n",
    "    if not method in ops.keys():\n",
    "        raise KeyError(\"Invalid method.\")\n",
    "   \n",
    "    for i in range(1,len(args)):\n",
    "        result = ops[method](result, args[i])\n",
    "  \n",
    "    return result\n",
    "\n",
    "numbers = (1,2,3)\n",
    "print(compute(*numbers, method=\"add\"))\n",
    "print(compute(1,2,3, method=\"add\"))\n",
    "print(compute(1,2,3, method=\"subtract\"))\n",
    "print(compute(1,2,3, method=\"divide\"))\n",
    "print(compute(1,2,3, method=\"multiply\"))"
   ]
  },
  {
   "cell_type": "markdown",
   "metadata": {},
   "source": [
    "## Lambda Functions (anonymous functions)\n",
    "<br>\n",
    "<font size=\"3\">\n",
    "The so-called <i>Lambda functions</i> or <i>anonymous functions</i> allow the definition of functions in one line of Python. Since they have no name assigned, they are also called anonymous.<br><br>\n",
    "<b>A lambda function in Python can be defined as follows</b><br><br>\n",
    "<b>var = lambda arg1, arg2, ..., arg_n : <font face=\"Courier\"> Do something with the args</font></b><br><br>\n",
    "    where <i><b>var</b></i> is then equivalent to<br><br>\n",
    "<b>def var(arg1, arg2, ..., arg_n):</b><br>\n",
    "    <p style=\"margin-left: 40px\"><font face=\"Courier\">indented code block</font></p>\n",
    "    <p style=\"margin-left: 40px\"><b>return <i>return_value</i></b></p>\n",
    "<br><br>\n",
    "    <b>and var is an object of <i>class 'function'</i></b>.\n",
    "</font>\n",
    "\n",
    "### Examples:"
   ]
  },
  {
   "cell_type": "code",
   "execution_count": 1,
   "metadata": {},
   "outputs": [
    {
     "name": "stdout",
     "output_type": "stream",
     "text": [
      "fun1(1)=2\n",
      "<class 'function'>\n",
      "True\n",
      "fun2(1, 2)=4\n",
      "fun3(1, 2, fun1)=4\n"
     ]
    }
   ],
   "source": [
    "fun1 = lambda x : x + 1               # Definition of a simple lambda/anonymous function\n",
    "print(\"fun1(1)=\"+str(fun1(1)))        # Print result of fun1(1)\n",
    "print(type(fun1))                     # Print type of fun1\n",
    "print(callable(fun1))                 # Print if fun1 is callable\n",
    "\n",
    "fun2 = lambda y, z : z + fun1(y)      # Lambda/anonymous function can have multiple arguments and can be concatenated\n",
    "print(\"fun2(1, 2)=\"+str(fun2(1, 2)))  # Print result of fun2(1,2))\n",
    "\n",
    "fun3 = lambda a, b, fun: a + fun(b)   # Lambda functions can also have other functions or callable objects as args\n",
    "print(\"fun3(1, 2, fun1)=\"+str(fun3(1, 2, fun1)))"
   ]
  },
  {
   "cell_type": "markdown",
   "metadata": {},
   "source": [
    "<font size=\"3\">\n",
    "    We see that var is in fact again an object of <i>class 'function'</i> and is a <i>callable object</i>, hence a reference to a function which can be invoked. The function can also be directly invoked after definition:\n",
    "</font>"
   ]
  },
  {
   "cell_type": "code",
   "execution_count": 2,
   "metadata": {},
   "outputs": [
    {
     "name": "stdout",
     "output_type": "stream",
     "text": [
      "2\n"
     ]
    }
   ],
   "source": [
    "print((lambda x : x + 1)(1))          # a lambda function can also be directly invoked, but this is discouraged"
   ]
  },
  {
   "cell_type": "markdown",
   "metadata": {},
   "source": [
    "<font size=\"3\">\n",
    "The typical use case for lambda functions are so-called high-order functions (functions with another callable as argument) which can be another user-defined function, another lambda function or a special <b>builtin Python function like <i>map()</i> or <i>filter()</i></b>.<br><br>Lambda functions are adequate to use if only a nameless function is required (once) for a short period of time with the advantage of a shorter notation.\n",
    "</font>"
   ]
  },
  {
   "cell_type": "markdown",
   "metadata": {},
   "source": [
    "## List Comprehensions and Generators\n",
    "<br>\n",
    "<font size=\"3\">\n",
    "For-loops in Python very often do not contain complicated code blocks. In fact, the most frequent use case is just to apply a certain function or formula to every element e.g. in a list and store the result somewhere.<br><br>\n",
    "A very elegant (and also faster way) to avoid for-loops in Python in those cases is to use so-called <a href=\"https://docs.python.org/3/tutorial/datastructures.html#list-comprehensions\"><i><b>list comprehensions</b></i></a>.<br><br>\n",
    "<b>A list comprehension in Python is defined by</b><br><br>\n",
    "<font face=\"Courier\"><b>a = [ <i>output_expression</i> for elem in x]</b></font><br><br>\n",
    "<b>where we can generate the values also conditionally</b><br><br>\n",
    "<font face=\"Courier\"><b>a = [ <i>out_expr</i> if <i>condition</i> else <i>alt_out_expr</i> for elem in x]</b><br>\n",
    "</font>\n",
    "<br>\n",
    "    where <i>out_expr</i> and <i>alt_out_expr</i> are expressions (which should include elem) to be evaluated. This could be anything from <font face=\"Courier\">1+1</font> to any function call (with the element as argument). <i>condition</i> is then a Python expression returning a boolean (True/False value) as for \"normal\" if-elif-else statements in Python.\n",
    "</font>\n",
    "\n",
    "### Examples:"
   ]
  },
  {
   "cell_type": "code",
   "execution_count": 4,
   "metadata": {
    "scrolled": true
   },
   "outputs": [
    {
     "name": "stdout",
     "output_type": "stream",
     "text": [
      "Example 1:\n",
      "x = [0, 1, 2, 3, 4, 5, 6, 7, 8, 9]\n",
      "y = [0, 1, 4, 9, 16, 25, 36, 49, 64, 81]\n",
      "y = [0, 1, 4, 9, 16, 25, 36, 49, 64, 81]\n",
      "Example 2:\n",
      "x = [0.11086786 0.68791129 0.29186363 0.03572455 0.14161085 0.45696358\n",
      " 0.71819797 0.24231894 0.99753948 0.69478198]\n",
      "y = [0, 1, 0, 0, 0, 0, 1, 0, 1, 1]\n"
     ]
    }
   ],
   "source": [
    "# Example 1: apply a function on each element of x \n",
    "print(\"Example 1:\")\n",
    "x = list(range(10))      # define elements to work on\n",
    "print(\"x = \"+str(x))\n",
    "\"\"\"\n",
    "The line above is equivalent to x = [0, 1, 2, 3, 4, 5, 6, 7, 8, 9].\n",
    "\n",
    "Explanation:\n",
    "The range function yields a generator (an iterable) where the new/next value is generated on-the-fly \n",
    "on each iteration. In order to get a full list of the numbers, enclose it with the list constructor,\n",
    "forcing the range generator to be executed.\n",
    "\"\"\"\n",
    "\n",
    "# function definition\n",
    "parabola = lambda x: x**2\n",
    "\n",
    "# A) classic approach with for-loop\n",
    "\n",
    "# create empty list to store the result\n",
    "y = []\n",
    "\n",
    "for elem in x:\n",
    "    # evaluates function parabola with elem as argument and adds the result to the list y\n",
    "    y.append(parabola(elem))\n",
    "print(\"y = \"+str(y))\n",
    "\n",
    "# B) shorter+faster approach with list comprehension\n",
    "\n",
    "y = [parabola(elem) for elem in x]\n",
    "print(\"y = \"+str(y))\n",
    "\n",
    "# Example 2: conditionally generate a list of values\n",
    "print(\"Example 2:\")\n",
    "# import numpy module to use numpy functions\n",
    "# it is sufficent to import it once in any cell\n",
    "import numpy as np\n",
    "# create list with 10 random values in [0, 1)\n",
    "x = np.random.uniform(0,1,(10,))\n",
    "y = [1 if elem >= 0.5 else 0 for elem in x]\n",
    "print(\"x = \"+str(x)) \n",
    "print(\"y = \"+str(y))"
   ]
  },
  {
   "cell_type": "markdown",
   "metadata": {},
   "source": [
    "<font size=\"3\">\n",
    "<b>We can also define our own generators using round brackets instead of square brackets for a list comprehension:</b>\n",
    "</font>"
   ]
  },
  {
   "cell_type": "code",
   "execution_count": 5,
   "metadata": {
    "scrolled": true
   },
   "outputs": [
    {
     "name": "stdout",
     "output_type": "stream",
     "text": [
      "Example 3:\n",
      "x = [0.35453243 0.54355055 0.15836675 0.39755704 0.25585239 0.44389789\n",
      " 0.1327637  0.9508457  0.48492356 0.92040468]\n",
      "<generator object <genexpr> at 0x7f0921823cf0>\n"
     ]
    }
   ],
   "source": [
    "# A list comprehension can also yield a generator when round brackets are used\n",
    "print(\"Example 3:\")\n",
    "# create list with 10 random values in [0, 1)\n",
    "x = np.random.uniform(0,1,(10,))\n",
    "print(\"x = \"+str(x)) \n",
    "y = (1 if elem >= 0.5 else 0 for elem in x)\n",
    "print(y)"
   ]
  },
  {
   "cell_type": "markdown",
   "metadata": {},
   "source": [
    "<font size=\"3\">\n",
    "In fact, y now does not contain a list with values, but yields a generator object. We still get the same result as before for the list comprehension, if the generator object is used as argument for the constructor of a list (object):\n",
    "</font>"
   ]
  },
  {
   "cell_type": "code",
   "execution_count": 6,
   "metadata": {},
   "outputs": [
    {
     "name": "stdout",
     "output_type": "stream",
     "text": [
      "y = [0, 1, 0, 0, 0, 0, 0, 1, 0, 1]\n"
     ]
    }
   ],
   "source": [
    "y = (1 if elem >= 0.5 else 0 for elem in x)\n",
    "# enclosing the generator with the constructor for a list, yields a populated list\n",
    "print(\"y = \"+str(list(y)))"
   ]
  },
  {
   "cell_type": "markdown",
   "metadata": {},
   "source": [
    "<font size=\"3\">\n",
    "The generator object lazily generates a new value at each iteration and not in advance:\n",
    "</font>"
   ]
  },
  {
   "cell_type": "code",
   "execution_count": 11,
   "metadata": {},
   "outputs": [],
   "source": [
    "#redefining the generator\n",
    "y = (1 if elem >= 0.5 else 0 for elem in x)\n",
    "iter_count = 0"
   ]
  },
  {
   "cell_type": "code",
   "execution_count": 12,
   "metadata": {},
   "outputs": [
    {
     "name": "stdout",
     "output_type": "stream",
     "text": [
      "iter:0\n",
      "0\n"
     ]
    }
   ],
   "source": [
    "# the elements of the list y are generated on-the-fly\n",
    "# the generator yields the next element by invoking the (private / hidden) method\n",
    "# of the generator object\n",
    "\n",
    "# evaluate same cell with CTRL + ENTER\n",
    "# counter increments, the generator yields a new value at each iteration\n",
    "print(\"iter:\"+str(iter_count))\n",
    "print(y.__next__())\n",
    "iter_count += 1"
   ]
  },
  {
   "cell_type": "markdown",
   "metadata": {},
   "source": [
    "<font size=\"3\"><div class=\"alert alert-block alert-success\"><b>Exercise:</b> Define a function that generates a list of random integers and decide for each of the numbers if the number is even or odd. As output for each number, we want a string \"even\" or \"odd\". <b>Solve the problem with a for-loop and a list comprehension seperately and compare the required time.</b><br><br>\n",
    "    <b>Hint:</b> Use the function <a href=\"https://docs.scipy.org/doc/numpy-1.15.1/reference/generated/numpy.random.randint.html\"><b>np.random.randint</b></a> to generate random integers. Prior using that function, import numpy with <i>import numpy as np</i>. Use the module <a href=\"https://docs.python.org/3/library/timeit.html\">timeit</a> and wrap it around your function to benchmark it. \n",
    "   \n",
    "</div></font><br>\n",
    "    \n",
    "### Try it yourself:"
   ]
  },
  {
   "cell_type": "code",
   "execution_count": null,
   "metadata": {},
   "outputs": [],
   "source": []
  },
  {
   "cell_type": "markdown",
   "metadata": {},
   "source": [
    "### Example Solution:"
   ]
  },
  {
   "cell_type": "code",
   "execution_count": 194,
   "metadata": {},
   "outputs": [
    {
     "name": "stdout",
     "output_type": "stream",
     "text": [
      "randints =[ 71  51 -21  41 -62  92 -55   8  88  44]\n",
      "result =['odd', 'odd', 'odd', 'odd', 'even', 'even', 'odd', 'even', 'even', 'even']\n",
      "randints =[ 54 -79 -46  79  92  61  81 -76  57 -24]\n",
      "result =['even', 'odd', 'even', 'odd', 'even', 'odd', 'odd', 'even', 'odd', 'even']\n",
      "python_for_fun finished after:\n",
      "0.05094464699504897\n",
      "list_compr_fun finished after:\n",
      "0.04619023700070102\n"
     ]
    }
   ],
   "source": [
    "from typing import List\n",
    "import numpy as np\n",
    "import timeit\n",
    "\n",
    "# function definiton using type hinting\n",
    "def list_compr_fun(lower_int : int, upper_int : int, num : int) -> (List, List):\n",
    "    randints = np.random.randint(lower_int,upper_int,(num,),)\n",
    "    return randints, [\"even\" if (elem % 2 == 0) else \"odd\" for elem in randints]\n",
    "\n",
    "# function definiton using type hinting\n",
    "def python_for_fun(lower_int : int, upper_int : int, num : int) -> (List, List):\n",
    "    randints = np.random.randint(lower_int,upper_int,(num,),)\n",
    "    result = []\n",
    "    for rand_int in randints:\n",
    "        if (rand_int % 2 == 0):\n",
    "            result.append(\"even\")\n",
    "        else:\n",
    "            result.append(\"odd\")\n",
    "    return randints, result\n",
    "\n",
    "randints, result = python_for_fun(-100,100,10)\n",
    "print(\"randints =\"+str(randints))\n",
    "print(\"result =\"+str(result))\n",
    "randints, result = list_compr_fun(-100,100,10)\n",
    "print(\"randints =\"+str(randints))\n",
    "print(\"result =\"+str(result))\n",
    "\n",
    "#compare the speed of the Python for-loop with the list comprehension\n",
    "print(\"python_for_fun finished after:\")\n",
    "print(timeit.timeit('python_for_fun(-100,100,int(1E5))', number=1, globals=globals()))\n",
    "print(\"list_compr_fun finished after:\")\n",
    "print(timeit.timeit('list_compr_fun(-100,100,int(1E5))', number=1, globals=globals()))"
   ]
  },
  {
   "cell_type": "markdown",
   "metadata": {},
   "source": [
    "## Non-interactive Python: \n",
    "## Running your code from the command-line\n",
    "<br>\n",
    "<font size=\"3\">\n",
    "So far, you have used Python interactively in this Jupyter notebook, but often, you'd like to run a long task in the background and you don't need to see intermediate results. You can run Python scripts from the command-line to achieve this behaviour. <br>\n",
    "<b>Here, we assume that you're using Linux.</b> But it works in a similar manner if you're using Windows. If you'd like to run your Python script on the command-line (which is Bash under Linux in the default case), you need to save your script first and then run it with<br><br>\n",
    "<font face=\"Courier\"><b>python <i>your_script.py</i></b></font><br><br>\n",
    "or<br><br>\n",
    "<font face=\"Courier\"><b>python3 <i>your_script.py</i></b></font><br><br>\n",
    "In case you have both, Python 2.x and Python 3.x installed on your system, make sure, you're running the right interpreter using<br><br>\n",
    "<font face=\"Courier\"><b>which python</b></font><br><br>\n",
    "which gives you the path to which the command is referring to.<br><br>\n",
    "Of course, you can also directly run your Python script on the command-line treating is it as a Bash script (a script file for the command-line), but putting e.g.<br><br>\n",
    "<font face=\"Courier\"><b>#!/usr/bin/python3</b></font><br><br>\n",
    "as first line in your Python script to tell Bash which interpreter to use for the following file content.<br><br>\n",
    "    Then, you need to make your newly created file <b>executable</b> by adding the flag <b>executable</b> e.g. with the command<br><br>\n",
    "    <font face=\"Courier\"><b>chmod u+x your_script.py</b></font><br><br>\n",
    "You can check the file permission flags in the listing of your directory using<br><br>\n",
    "    <font face=\"Courier\"><b>ls -la scripts/</b></font><br><br>\n",
    "Then you should be able to simply run your Python script as if it would be a Bash script using<br><br>\n",
    "<font face=\"Courier\"><b>./your_script.py</b></font><br><br>                                                                                               \n",
    "</font>\n",
    "\n",
    "<font size=\"3\">\n",
    "In the following examples, a special \"cell magic\" command is used, so that bash scripts and commands can be run within a Jupyter notebook cell.\n",
    "</font>\n",
    "\n",
    "### Examples:"
   ]
  },
  {
   "cell_type": "code",
   "execution_count": 2,
   "metadata": {},
   "outputs": [
    {
     "name": "stdout",
     "output_type": "stream",
     "text": [
      "/home/wildef/anaconda3/bin/python3\n",
      "Hello World from the console!\n"
     ]
    }
   ],
   "source": [
    "%%bash\n",
    "which python3\n",
    "python3 scripts/hello_world.py"
   ]
  },
  {
   "cell_type": "markdown",
   "metadata": {},
   "source": [
    "<font size=\"3\">\n",
    "Or directly run your python script as it would be a bash script or native executable, after you have set the executable file flag:\n",
    "</font>"
   ]
  },
  {
   "cell_type": "code",
   "execution_count": 3,
   "metadata": {},
   "outputs": [
    {
     "name": "stdout",
     "output_type": "stream",
     "text": [
      "insgesamt 24\n",
      "drwxrwxr-x 2 wildef wildef 4096 Aug 20 12:14 .\n",
      "drwxrwxr-x 6 wildef wildef 4096 Aug 20 12:15 ..\n",
      "-rw-rw-r-- 1 wildef wildef  873 Okt 28  2020 argparse_example.py\n",
      "-rw-rw-r-- 1 wildef wildef  101 Okt 28  2020 cli_args.py\n",
      "-rw-rw-r-- 1 wildef wildef   58 Okt 28  2020 hello_world2.py\n",
      "-rw-rw-r-- 1 wildef wildef   39 Okt 28  2020 hello_world.py\n",
      "Hello World from the console!\n"
     ]
    }
   ],
   "source": [
    "%%bash\n",
    "ls -la scripts/\n",
    "chmod u+x scripts/hello_world2.py\n",
    "./scripts/hello_world2.py"
   ]
  },
  {
   "cell_type": "markdown",
   "metadata": {},
   "source": [
    "<font size=\"3\">\n",
    "We check what <i>hello_world2.py</i> contained by printing its file content with the command <i>cat</i>:\n",
    "</font>"
   ]
  },
  {
   "cell_type": "code",
   "execution_count": 4,
   "metadata": {},
   "outputs": [
    {
     "name": "stdout",
     "output_type": "stream",
     "text": [
      "#!/usr/bin/python3\n",
      "print(\"Hello World from the console!\")\n"
     ]
    }
   ],
   "source": [
    "%%bash\n",
    "cat scripts/hello_world2.py"
   ]
  },
  {
   "cell_type": "markdown",
   "metadata": {},
   "source": [
    "## Handling of command-line arguments \n",
    "<br>\n",
    "<font size=\"3\">\n",
    "Very often, it's the case that you'd like to run your Python script, but with slightly different parameters or paths with files to work on. It would be annoying to make the required changes every time in your Python code.<br><br>\n",
    "Luckily, you can easily handle given command-line arguments in Python and work with them in your script. <b>The most basic option is to use the builtin library <i>sys</i> and the provided list <i>argv</i>. If any command-line argument was given to run your Python script, it will appear in <i>argv</i>.\n",
    "</font>\n",
    "\n",
    "<font size=\"3\">Let's check first the content of the little example script:</font>"
   ]
  },
  {
   "cell_type": "code",
   "execution_count": 5,
   "metadata": {
    "scrolled": true
   },
   "outputs": [
    {
     "name": "stdout",
     "output_type": "stream",
     "text": [
      "#!/usr/bin/python3\n",
      "\n",
      "import sys\n",
      "\n",
      "print(\"I got the following command-line arguments:\")\n",
      "print(sys.argv)\n"
     ]
    }
   ],
   "source": [
    "%%bash\n",
    "cat scripts/cli_args.py"
   ]
  },
  {
   "cell_type": "markdown",
   "metadata": {},
   "source": [
    "<font size=\"3\">Then we run it giving various command-line arguments:</font>"
   ]
  },
  {
   "cell_type": "code",
   "execution_count": null,
   "metadata": {},
   "outputs": [],
   "source": [
    "%%bash \n",
    "\n",
    "# modifies file permission flags\n",
    "chmod u+x scripts/cli_args.py\n",
    "\n",
    "# run it without any command-line argument\n",
    "./scripts/cli_args.py\n",
    "\n",
    "# run it with one command-line argument\n",
    "./scripts/cli_args.py --test1\n",
    "\n",
    "# run it with multiple command-line arguments\n",
    "./scripts/cli_args.py --test1 --test2 --test3"
   ]
  },
  {
   "cell_type": "markdown",
   "metadata": {},
   "source": [
    "<font size=\"3\">\n",
    "    <b>A more convenient option to handle (define and check) command-line arguments is the module <a href=\"https://docs.python.org/3/library/argparse.html\"><i>argparse</i></a></b>.<br><br> With <i>argparse</i> you can easily define expected mandatory or optional command-line arguments for your scripts with built-in checking of the user input. You can even define nice description and help texts for your parameters to help others to use your scripts later independently.\n",
    "</font>"
   ]
  },
  {
   "cell_type": "code",
   "execution_count": 6,
   "metadata": {},
   "outputs": [
    {
     "name": "stdout",
     "output_type": "stream",
     "text": [
      "#!/usr/bin/python3\n",
      "\n",
      "# import the argparse module\n",
      "import argparse\n",
      "\n",
      "# creating the parser\n",
      "parser = argparse.ArgumentParser(description='Argparse example')\n",
      "\n",
      "# add a command-line argument\n",
      "parser.add_argument('integers', metavar='N', type=int, nargs='+',\n",
      "                   help='integers to sum up')\n",
      "\n",
      "# adds a command-line argument which triggers the summations of the previous integers\n",
      "parser.add_argument('--sum', dest='sum', action='store_const',\n",
      "                   const=sum, default=max,\n",
      "                   help='sums the integers')\n",
      "\n",
      "# invoke parsing (processing) of the arguments\n",
      "args = parser.parse_args()\n",
      "\n",
      "# the processed arguments are stored as attributes in the argparse object !\n",
      "# attributes of object are accessed using the dot-operator.\n",
      "print(\"Content of args.integers:\")\n",
      "print(args.integers)\n",
      "print(\"Result of argument processing:\")\n",
      "print(args.sum(args.integers))\n"
     ]
    }
   ],
   "source": [
    "%%bash\n",
    "\n",
    "# modifies file permission flags\n",
    "chmod u+x scripts/argparse_example.py\n",
    "\n",
    "# list file content\n",
    "cat scripts/argparse_example.py"
   ]
  },
  {
   "cell_type": "markdown",
   "metadata": {},
   "source": [
    "<font size=\"3\">\n",
    "    <b>If we now attempt to run the script without command-line arguments, we get an error and argparse gives us a hint what we have done wrong:</b>\n",
    "            </font>"
   ]
  },
  {
   "cell_type": "code",
   "execution_count": 7,
   "metadata": {},
   "outputs": [
    {
     "name": "stderr",
     "output_type": "stream",
     "text": [
      "usage: argparse_example.py [-h] [--sum] N [N ...]\n",
      "argparse_example.py: error: the following arguments are required: N\n"
     ]
    },
    {
     "ename": "CalledProcessError",
     "evalue": "Command 'b'./scripts/argparse_example.py\\n'' returned non-zero exit status 2.",
     "output_type": "error",
     "traceback": [
      "\u001b[0;31m---------------------------------------------------------------------------\u001b[0m",
      "\u001b[0;31mCalledProcessError\u001b[0m                        Traceback (most recent call last)",
      "\u001b[0;32m<ipython-input-7-78431bbb72eb>\u001b[0m in \u001b[0;36m<module>\u001b[0;34m\u001b[0m\n\u001b[0;32m----> 1\u001b[0;31m \u001b[0mget_ipython\u001b[0m\u001b[0;34m(\u001b[0m\u001b[0;34m)\u001b[0m\u001b[0;34m.\u001b[0m\u001b[0mrun_cell_magic\u001b[0m\u001b[0;34m(\u001b[0m\u001b[0;34m'bash'\u001b[0m\u001b[0;34m,\u001b[0m \u001b[0;34m''\u001b[0m\u001b[0;34m,\u001b[0m \u001b[0;34m'./scripts/argparse_example.py\\n'\u001b[0m\u001b[0;34m)\u001b[0m\u001b[0;34m\u001b[0m\u001b[0;34m\u001b[0m\u001b[0m\n\u001b[0m",
      "\u001b[0;32m~/anaconda3/lib/python3.8/site-packages/IPython/core/interactiveshell.py\u001b[0m in \u001b[0;36mrun_cell_magic\u001b[0;34m(self, magic_name, line, cell)\u001b[0m\n\u001b[1;32m   2369\u001b[0m             \u001b[0;32mwith\u001b[0m \u001b[0mself\u001b[0m\u001b[0;34m.\u001b[0m\u001b[0mbuiltin_trap\u001b[0m\u001b[0;34m:\u001b[0m\u001b[0;34m\u001b[0m\u001b[0;34m\u001b[0m\u001b[0m\n\u001b[1;32m   2370\u001b[0m                 \u001b[0margs\u001b[0m \u001b[0;34m=\u001b[0m \u001b[0;34m(\u001b[0m\u001b[0mmagic_arg_s\u001b[0m\u001b[0;34m,\u001b[0m \u001b[0mcell\u001b[0m\u001b[0;34m)\u001b[0m\u001b[0;34m\u001b[0m\u001b[0;34m\u001b[0m\u001b[0m\n\u001b[0;32m-> 2371\u001b[0;31m                 \u001b[0mresult\u001b[0m \u001b[0;34m=\u001b[0m \u001b[0mfn\u001b[0m\u001b[0;34m(\u001b[0m\u001b[0;34m*\u001b[0m\u001b[0margs\u001b[0m\u001b[0;34m,\u001b[0m \u001b[0;34m**\u001b[0m\u001b[0mkwargs\u001b[0m\u001b[0;34m)\u001b[0m\u001b[0;34m\u001b[0m\u001b[0;34m\u001b[0m\u001b[0m\n\u001b[0m\u001b[1;32m   2372\u001b[0m             \u001b[0;32mreturn\u001b[0m \u001b[0mresult\u001b[0m\u001b[0;34m\u001b[0m\u001b[0;34m\u001b[0m\u001b[0m\n\u001b[1;32m   2373\u001b[0m \u001b[0;34m\u001b[0m\u001b[0m\n",
      "\u001b[0;32m~/anaconda3/lib/python3.8/site-packages/IPython/core/magics/script.py\u001b[0m in \u001b[0;36mnamed_script_magic\u001b[0;34m(line, cell)\u001b[0m\n\u001b[1;32m    140\u001b[0m             \u001b[0;32melse\u001b[0m\u001b[0;34m:\u001b[0m\u001b[0;34m\u001b[0m\u001b[0;34m\u001b[0m\u001b[0m\n\u001b[1;32m    141\u001b[0m                 \u001b[0mline\u001b[0m \u001b[0;34m=\u001b[0m \u001b[0mscript\u001b[0m\u001b[0;34m\u001b[0m\u001b[0;34m\u001b[0m\u001b[0m\n\u001b[0;32m--> 142\u001b[0;31m             \u001b[0;32mreturn\u001b[0m \u001b[0mself\u001b[0m\u001b[0;34m.\u001b[0m\u001b[0mshebang\u001b[0m\u001b[0;34m(\u001b[0m\u001b[0mline\u001b[0m\u001b[0;34m,\u001b[0m \u001b[0mcell\u001b[0m\u001b[0;34m)\u001b[0m\u001b[0;34m\u001b[0m\u001b[0;34m\u001b[0m\u001b[0m\n\u001b[0m\u001b[1;32m    143\u001b[0m \u001b[0;34m\u001b[0m\u001b[0m\n\u001b[1;32m    144\u001b[0m         \u001b[0;31m# write a basic docstring:\u001b[0m\u001b[0;34m\u001b[0m\u001b[0;34m\u001b[0m\u001b[0;34m\u001b[0m\u001b[0m\n",
      "\u001b[0;32m<decorator-gen-110>\u001b[0m in \u001b[0;36mshebang\u001b[0;34m(self, line, cell)\u001b[0m\n",
      "\u001b[0;32m~/anaconda3/lib/python3.8/site-packages/IPython/core/magic.py\u001b[0m in \u001b[0;36m<lambda>\u001b[0;34m(f, *a, **k)\u001b[0m\n\u001b[1;32m    185\u001b[0m     \u001b[0;31m# but it's overkill for just that one bit of state.\u001b[0m\u001b[0;34m\u001b[0m\u001b[0;34m\u001b[0m\u001b[0;34m\u001b[0m\u001b[0m\n\u001b[1;32m    186\u001b[0m     \u001b[0;32mdef\u001b[0m \u001b[0mmagic_deco\u001b[0m\u001b[0;34m(\u001b[0m\u001b[0marg\u001b[0m\u001b[0;34m)\u001b[0m\u001b[0;34m:\u001b[0m\u001b[0;34m\u001b[0m\u001b[0;34m\u001b[0m\u001b[0m\n\u001b[0;32m--> 187\u001b[0;31m         \u001b[0mcall\u001b[0m \u001b[0;34m=\u001b[0m \u001b[0;32mlambda\u001b[0m \u001b[0mf\u001b[0m\u001b[0;34m,\u001b[0m \u001b[0;34m*\u001b[0m\u001b[0ma\u001b[0m\u001b[0;34m,\u001b[0m \u001b[0;34m**\u001b[0m\u001b[0mk\u001b[0m\u001b[0;34m:\u001b[0m \u001b[0mf\u001b[0m\u001b[0;34m(\u001b[0m\u001b[0;34m*\u001b[0m\u001b[0ma\u001b[0m\u001b[0;34m,\u001b[0m \u001b[0;34m**\u001b[0m\u001b[0mk\u001b[0m\u001b[0;34m)\u001b[0m\u001b[0;34m\u001b[0m\u001b[0;34m\u001b[0m\u001b[0m\n\u001b[0m\u001b[1;32m    188\u001b[0m \u001b[0;34m\u001b[0m\u001b[0m\n\u001b[1;32m    189\u001b[0m         \u001b[0;32mif\u001b[0m \u001b[0mcallable\u001b[0m\u001b[0;34m(\u001b[0m\u001b[0marg\u001b[0m\u001b[0;34m)\u001b[0m\u001b[0;34m:\u001b[0m\u001b[0;34m\u001b[0m\u001b[0;34m\u001b[0m\u001b[0m\n",
      "\u001b[0;32m~/anaconda3/lib/python3.8/site-packages/IPython/core/magics/script.py\u001b[0m in \u001b[0;36mshebang\u001b[0;34m(self, line, cell)\u001b[0m\n\u001b[1;32m    243\u001b[0m             \u001b[0msys\u001b[0m\u001b[0;34m.\u001b[0m\u001b[0mstderr\u001b[0m\u001b[0;34m.\u001b[0m\u001b[0mflush\u001b[0m\u001b[0;34m(\u001b[0m\u001b[0;34m)\u001b[0m\u001b[0;34m\u001b[0m\u001b[0;34m\u001b[0m\u001b[0m\n\u001b[1;32m    244\u001b[0m         \u001b[0;32mif\u001b[0m \u001b[0margs\u001b[0m\u001b[0;34m.\u001b[0m\u001b[0mraise_error\u001b[0m \u001b[0;32mand\u001b[0m \u001b[0mp\u001b[0m\u001b[0;34m.\u001b[0m\u001b[0mreturncode\u001b[0m\u001b[0;34m!=\u001b[0m\u001b[0;36m0\u001b[0m\u001b[0;34m:\u001b[0m\u001b[0;34m\u001b[0m\u001b[0;34m\u001b[0m\u001b[0m\n\u001b[0;32m--> 245\u001b[0;31m             \u001b[0;32mraise\u001b[0m \u001b[0mCalledProcessError\u001b[0m\u001b[0;34m(\u001b[0m\u001b[0mp\u001b[0m\u001b[0;34m.\u001b[0m\u001b[0mreturncode\u001b[0m\u001b[0;34m,\u001b[0m \u001b[0mcell\u001b[0m\u001b[0;34m,\u001b[0m \u001b[0moutput\u001b[0m\u001b[0;34m=\u001b[0m\u001b[0mout\u001b[0m\u001b[0;34m,\u001b[0m \u001b[0mstderr\u001b[0m\u001b[0;34m=\u001b[0m\u001b[0merr\u001b[0m\u001b[0;34m)\u001b[0m\u001b[0;34m\u001b[0m\u001b[0;34m\u001b[0m\u001b[0m\n\u001b[0m\u001b[1;32m    246\u001b[0m \u001b[0;34m\u001b[0m\u001b[0m\n\u001b[1;32m    247\u001b[0m     \u001b[0;32mdef\u001b[0m \u001b[0m_run_script\u001b[0m\u001b[0;34m(\u001b[0m\u001b[0mself\u001b[0m\u001b[0;34m,\u001b[0m \u001b[0mp\u001b[0m\u001b[0;34m,\u001b[0m \u001b[0mcell\u001b[0m\u001b[0;34m,\u001b[0m \u001b[0mto_close\u001b[0m\u001b[0;34m)\u001b[0m\u001b[0;34m:\u001b[0m\u001b[0;34m\u001b[0m\u001b[0;34m\u001b[0m\u001b[0m\n",
      "\u001b[0;31mCalledProcessError\u001b[0m: Command 'b'./scripts/argparse_example.py\\n'' returned non-zero exit status 2."
     ]
    }
   ],
   "source": [
    "%%bash\n",
    "./scripts/argparse_example.py"
   ]
  },
  {
   "cell_type": "markdown",
   "metadata": {},
   "source": [
    "<font size=\"3\">\n",
    "    <b>Argparse provides a nice help function when the argument <i>-h</i> is used:</b\n",
    "</font>"
   ]
  },
  {
   "cell_type": "code",
   "execution_count": 8,
   "metadata": {},
   "outputs": [
    {
     "name": "stdout",
     "output_type": "stream",
     "text": [
      "usage: argparse_example.py [-h] [--sum] N [N ...]\n",
      "\n",
      "Argparse example\n",
      "\n",
      "positional arguments:\n",
      "  N           integers to sum up\n",
      "\n",
      "optional arguments:\n",
      "  -h, --help  show this help message and exit\n",
      "  --sum       sums the integers\n"
     ]
    }
   ],
   "source": [
    "%%bash\n",
    "./scripts/argparse_example.py -h"
   ]
  },
  {
   "cell_type": "code",
   "execution_count": 9,
   "metadata": {},
   "outputs": [
    {
     "name": "stdout",
     "output_type": "stream",
     "text": [
      "Content of args.integers:\n",
      "[1, 2, 3]\n",
      "Result of argument processing:\n",
      "6\n"
     ]
    }
   ],
   "source": [
    "%%bash\n",
    "./scripts/argparse_example.py 1 2 3 --sum"
   ]
  },
  {
   "cell_type": "markdown",
   "metadata": {},
   "source": [
    "<font size=\"3\"><div class=\"alert alert-block alert-success\"><b>Exercise:</b> Write your own script evaluating command-line arguments and run it on the command-line yourself. Either simply use the builtin <i>os.argv</i> variable or use the <i>argparse</i> module if you feel already comfortable enough.<br><br>\n",
    "<b>Simply create a new Python script locally using a text editor or within the Spyder IDE (which is part of the Anaconda distribution) and upload it in the subfolder scripts (or elsewhere and modify then the file path).</b>\n",
    "</div>\n",
    "    \n",
    "<b>Try to run it yourself here:</b></font>"
   ]
  },
  {
   "cell_type": "code",
   "execution_count": 10,
   "metadata": {},
   "outputs": [
    {
     "name": "stderr",
     "output_type": "stream",
     "text": [
      "chmod: Zugriff auf 'scripts/your_script.py' nicht möglich: Datei oder Verzeichnis nicht gefunden\n",
      "bash: Zeile 3: ./scripts/your_script.py: Datei oder Verzeichnis nicht gefunden\n"
     ]
    },
    {
     "ename": "CalledProcessError",
     "evalue": "Command 'b'# replace \"your_script\" with your filename, may also change the file path\\nchmod u+x scripts/your_script.py\\n./scripts/your_script.py\\n'' returned non-zero exit status 127.",
     "output_type": "error",
     "traceback": [
      "\u001b[0;31m---------------------------------------------------------------------------\u001b[0m",
      "\u001b[0;31mCalledProcessError\u001b[0m                        Traceback (most recent call last)",
      "\u001b[0;32m<ipython-input-10-3f8901031e0a>\u001b[0m in \u001b[0;36m<module>\u001b[0;34m\u001b[0m\n\u001b[0;32m----> 1\u001b[0;31m \u001b[0mget_ipython\u001b[0m\u001b[0;34m(\u001b[0m\u001b[0;34m)\u001b[0m\u001b[0;34m.\u001b[0m\u001b[0mrun_cell_magic\u001b[0m\u001b[0;34m(\u001b[0m\u001b[0;34m'bash'\u001b[0m\u001b[0;34m,\u001b[0m \u001b[0;34m''\u001b[0m\u001b[0;34m,\u001b[0m \u001b[0;34m'# replace \"your_script\" with your filename, may also change the file path\\nchmod u+x scripts/your_script.py\\n./scripts/your_script.py\\n'\u001b[0m\u001b[0;34m)\u001b[0m\u001b[0;34m\u001b[0m\u001b[0;34m\u001b[0m\u001b[0m\n\u001b[0m",
      "\u001b[0;32m~/anaconda3/lib/python3.8/site-packages/IPython/core/interactiveshell.py\u001b[0m in \u001b[0;36mrun_cell_magic\u001b[0;34m(self, magic_name, line, cell)\u001b[0m\n\u001b[1;32m   2369\u001b[0m             \u001b[0;32mwith\u001b[0m \u001b[0mself\u001b[0m\u001b[0;34m.\u001b[0m\u001b[0mbuiltin_trap\u001b[0m\u001b[0;34m:\u001b[0m\u001b[0;34m\u001b[0m\u001b[0;34m\u001b[0m\u001b[0m\n\u001b[1;32m   2370\u001b[0m                 \u001b[0margs\u001b[0m \u001b[0;34m=\u001b[0m \u001b[0;34m(\u001b[0m\u001b[0mmagic_arg_s\u001b[0m\u001b[0;34m,\u001b[0m \u001b[0mcell\u001b[0m\u001b[0;34m)\u001b[0m\u001b[0;34m\u001b[0m\u001b[0;34m\u001b[0m\u001b[0m\n\u001b[0;32m-> 2371\u001b[0;31m                 \u001b[0mresult\u001b[0m \u001b[0;34m=\u001b[0m \u001b[0mfn\u001b[0m\u001b[0;34m(\u001b[0m\u001b[0;34m*\u001b[0m\u001b[0margs\u001b[0m\u001b[0;34m,\u001b[0m \u001b[0;34m**\u001b[0m\u001b[0mkwargs\u001b[0m\u001b[0;34m)\u001b[0m\u001b[0;34m\u001b[0m\u001b[0;34m\u001b[0m\u001b[0m\n\u001b[0m\u001b[1;32m   2372\u001b[0m             \u001b[0;32mreturn\u001b[0m \u001b[0mresult\u001b[0m\u001b[0;34m\u001b[0m\u001b[0;34m\u001b[0m\u001b[0m\n\u001b[1;32m   2373\u001b[0m \u001b[0;34m\u001b[0m\u001b[0m\n",
      "\u001b[0;32m~/anaconda3/lib/python3.8/site-packages/IPython/core/magics/script.py\u001b[0m in \u001b[0;36mnamed_script_magic\u001b[0;34m(line, cell)\u001b[0m\n\u001b[1;32m    140\u001b[0m             \u001b[0;32melse\u001b[0m\u001b[0;34m:\u001b[0m\u001b[0;34m\u001b[0m\u001b[0;34m\u001b[0m\u001b[0m\n\u001b[1;32m    141\u001b[0m                 \u001b[0mline\u001b[0m \u001b[0;34m=\u001b[0m \u001b[0mscript\u001b[0m\u001b[0;34m\u001b[0m\u001b[0;34m\u001b[0m\u001b[0m\n\u001b[0;32m--> 142\u001b[0;31m             \u001b[0;32mreturn\u001b[0m \u001b[0mself\u001b[0m\u001b[0;34m.\u001b[0m\u001b[0mshebang\u001b[0m\u001b[0;34m(\u001b[0m\u001b[0mline\u001b[0m\u001b[0;34m,\u001b[0m \u001b[0mcell\u001b[0m\u001b[0;34m)\u001b[0m\u001b[0;34m\u001b[0m\u001b[0;34m\u001b[0m\u001b[0m\n\u001b[0m\u001b[1;32m    143\u001b[0m \u001b[0;34m\u001b[0m\u001b[0m\n\u001b[1;32m    144\u001b[0m         \u001b[0;31m# write a basic docstring:\u001b[0m\u001b[0;34m\u001b[0m\u001b[0;34m\u001b[0m\u001b[0;34m\u001b[0m\u001b[0m\n",
      "\u001b[0;32m<decorator-gen-110>\u001b[0m in \u001b[0;36mshebang\u001b[0;34m(self, line, cell)\u001b[0m\n",
      "\u001b[0;32m~/anaconda3/lib/python3.8/site-packages/IPython/core/magic.py\u001b[0m in \u001b[0;36m<lambda>\u001b[0;34m(f, *a, **k)\u001b[0m\n\u001b[1;32m    185\u001b[0m     \u001b[0;31m# but it's overkill for just that one bit of state.\u001b[0m\u001b[0;34m\u001b[0m\u001b[0;34m\u001b[0m\u001b[0;34m\u001b[0m\u001b[0m\n\u001b[1;32m    186\u001b[0m     \u001b[0;32mdef\u001b[0m \u001b[0mmagic_deco\u001b[0m\u001b[0;34m(\u001b[0m\u001b[0marg\u001b[0m\u001b[0;34m)\u001b[0m\u001b[0;34m:\u001b[0m\u001b[0;34m\u001b[0m\u001b[0;34m\u001b[0m\u001b[0m\n\u001b[0;32m--> 187\u001b[0;31m         \u001b[0mcall\u001b[0m \u001b[0;34m=\u001b[0m \u001b[0;32mlambda\u001b[0m \u001b[0mf\u001b[0m\u001b[0;34m,\u001b[0m \u001b[0;34m*\u001b[0m\u001b[0ma\u001b[0m\u001b[0;34m,\u001b[0m \u001b[0;34m**\u001b[0m\u001b[0mk\u001b[0m\u001b[0;34m:\u001b[0m \u001b[0mf\u001b[0m\u001b[0;34m(\u001b[0m\u001b[0;34m*\u001b[0m\u001b[0ma\u001b[0m\u001b[0;34m,\u001b[0m \u001b[0;34m**\u001b[0m\u001b[0mk\u001b[0m\u001b[0;34m)\u001b[0m\u001b[0;34m\u001b[0m\u001b[0;34m\u001b[0m\u001b[0m\n\u001b[0m\u001b[1;32m    188\u001b[0m \u001b[0;34m\u001b[0m\u001b[0m\n\u001b[1;32m    189\u001b[0m         \u001b[0;32mif\u001b[0m \u001b[0mcallable\u001b[0m\u001b[0;34m(\u001b[0m\u001b[0marg\u001b[0m\u001b[0;34m)\u001b[0m\u001b[0;34m:\u001b[0m\u001b[0;34m\u001b[0m\u001b[0;34m\u001b[0m\u001b[0m\n",
      "\u001b[0;32m~/anaconda3/lib/python3.8/site-packages/IPython/core/magics/script.py\u001b[0m in \u001b[0;36mshebang\u001b[0;34m(self, line, cell)\u001b[0m\n\u001b[1;32m    243\u001b[0m             \u001b[0msys\u001b[0m\u001b[0;34m.\u001b[0m\u001b[0mstderr\u001b[0m\u001b[0;34m.\u001b[0m\u001b[0mflush\u001b[0m\u001b[0;34m(\u001b[0m\u001b[0;34m)\u001b[0m\u001b[0;34m\u001b[0m\u001b[0;34m\u001b[0m\u001b[0m\n\u001b[1;32m    244\u001b[0m         \u001b[0;32mif\u001b[0m \u001b[0margs\u001b[0m\u001b[0;34m.\u001b[0m\u001b[0mraise_error\u001b[0m \u001b[0;32mand\u001b[0m \u001b[0mp\u001b[0m\u001b[0;34m.\u001b[0m\u001b[0mreturncode\u001b[0m\u001b[0;34m!=\u001b[0m\u001b[0;36m0\u001b[0m\u001b[0;34m:\u001b[0m\u001b[0;34m\u001b[0m\u001b[0;34m\u001b[0m\u001b[0m\n\u001b[0;32m--> 245\u001b[0;31m             \u001b[0;32mraise\u001b[0m \u001b[0mCalledProcessError\u001b[0m\u001b[0;34m(\u001b[0m\u001b[0mp\u001b[0m\u001b[0;34m.\u001b[0m\u001b[0mreturncode\u001b[0m\u001b[0;34m,\u001b[0m \u001b[0mcell\u001b[0m\u001b[0;34m,\u001b[0m \u001b[0moutput\u001b[0m\u001b[0;34m=\u001b[0m\u001b[0mout\u001b[0m\u001b[0;34m,\u001b[0m \u001b[0mstderr\u001b[0m\u001b[0;34m=\u001b[0m\u001b[0merr\u001b[0m\u001b[0;34m)\u001b[0m\u001b[0;34m\u001b[0m\u001b[0;34m\u001b[0m\u001b[0m\n\u001b[0m\u001b[1;32m    246\u001b[0m \u001b[0;34m\u001b[0m\u001b[0m\n\u001b[1;32m    247\u001b[0m     \u001b[0;32mdef\u001b[0m \u001b[0m_run_script\u001b[0m\u001b[0;34m(\u001b[0m\u001b[0mself\u001b[0m\u001b[0;34m,\u001b[0m \u001b[0mp\u001b[0m\u001b[0;34m,\u001b[0m \u001b[0mcell\u001b[0m\u001b[0;34m,\u001b[0m \u001b[0mto_close\u001b[0m\u001b[0;34m)\u001b[0m\u001b[0;34m:\u001b[0m\u001b[0;34m\u001b[0m\u001b[0;34m\u001b[0m\u001b[0m\n",
      "\u001b[0;31mCalledProcessError\u001b[0m: Command 'b'# replace \"your_script\" with your filename, may also change the file path\\nchmod u+x scripts/your_script.py\\n./scripts/your_script.py\\n'' returned non-zero exit status 127."
     ]
    }
   ],
   "source": [
    "%%bash\n",
    "# replace \"your_script\" with your filename, may also change the file path\n",
    "chmod u+x scripts/your_script.py\n",
    "./scripts/your_script.py"
   ]
  }
 ],
 "metadata": {
  "kernelspec": {
   "display_name": "Python 3",
   "language": "python",
   "name": "python3"
  },
  "language_info": {
   "codemirror_mode": {
    "name": "ipython",
    "version": 3
   },
   "file_extension": ".py",
   "mimetype": "text/x-python",
   "name": "python",
   "nbconvert_exporter": "python",
   "pygments_lexer": "ipython3",
   "version": "3.8.5"
  },
  "varInspector": {
   "cols": {
    "lenName": 16,
    "lenType": 16,
    "lenVar": 40
   },
   "kernels_config": {
    "python": {
     "delete_cmd_postfix": "",
     "delete_cmd_prefix": "del ",
     "library": "var_list.py",
     "varRefreshCmd": "print(var_dic_list())"
    },
    "r": {
     "delete_cmd_postfix": ") ",
     "delete_cmd_prefix": "rm(",
     "library": "var_list.r",
     "varRefreshCmd": "cat(var_dic_list()) "
    }
   },
   "types_to_exclude": [
    "module",
    "function",
    "builtin_function_or_method",
    "instance",
    "_Feature"
   ],
   "window_display": false
  }
 },
 "nbformat": 4,
 "nbformat_minor": 4
}
